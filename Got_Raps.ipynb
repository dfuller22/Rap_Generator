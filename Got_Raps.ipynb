{
 "cells": [
  {
   "cell_type": "markdown",
   "metadata": {},
   "source": [
    "# Got Raps?"
   ]
  },
  {
   "cell_type": "markdown",
   "metadata": {},
   "source": [
    "## Background"
   ]
  },
  {
   "cell_type": "markdown",
   "metadata": {},
   "source": [
    "I am someone who *loves* to music. One of my favorite genres to listen to is hip-hop/rap because of, in some cases, the focus on lyricism. \n",
    "\n",
    "In recent years, there has been less of a focus in this regard, leading some fans of \"true hip-hop\" to look down upon the musicians currently in the spotlight. Part of the criticism of modern rap is how forgettable the lyrics and songs are due to their simplistic nature. \n",
    "\n",
    "While learning about *recurrent neural networks* (RNNs)I came across a [video](https://www.youtube.com/watch?v=ZMudJXhsUpY) by Laurence Moroney explaining how AI can be used to generate poetry after training upon a corpus of Irish poems. This sparked an idea to try and do the same with a modern song lyrics. I specifically decided to choose rap because of my familiarity with the genre and thinking that the songs may have more words since the artists are not singing (most of the time).\n",
    "\n",
    "I will be scraping lyrics from [azlyrics](https://www.azlyrics.com/t/tyga.html) using BeautifulSoup and Keras to create my RNN."
   ]
  },
  {
   "cell_type": "markdown",
   "metadata": {},
   "source": [
    "## Imports"
   ]
  },
  {
   "cell_type": "code",
   "execution_count": 1,
   "metadata": {
    "ExecuteTime": {
     "end_time": "2020-10-20T02:40:18.334009Z",
     "start_time": "2020-10-20T02:40:16.190860Z"
    }
   },
   "outputs": [],
   "source": [
    "import requests\n",
    "import regex\n",
    "import pickle\n",
    "import pandas as pd\n",
    "import numpy as np\n",
    "import functions as dlf\n",
    "from bs4 import BeautifulSoup"
   ]
  },
  {
   "cell_type": "markdown",
   "metadata": {},
   "source": [
    "## Getting Soupy"
   ]
  },
  {
   "cell_type": "code",
   "execution_count": 2,
   "metadata": {
    "ExecuteTime": {
     "end_time": "2020-10-13T01:39:34.726737Z",
     "start_time": "2020-10-13T01:39:33.004958Z"
    }
   },
   "outputs": [
    {
     "name": "stdout",
     "output_type": "stream",
     "text": [
      "Starting Response: <Response [200]>\n"
     ]
    }
   ],
   "source": [
    "## Starting page + Q.C. of response\n",
    "start_url = 'https://www.azlyrics.com/t/tyga.html'\n",
    "start_resp = requests.get(start_url)\n",
    "print(f'Starting Response: {start_resp}')"
   ]
  },
  {
   "cell_type": "code",
   "execution_count": 51,
   "metadata": {
    "ExecuteTime": {
     "end_time": "2020-10-13T02:25:33.335513Z",
     "start_time": "2020-10-13T02:25:33.069837Z"
    }
   },
   "outputs": [
    {
     "name": "stdout",
     "output_type": "stream",
     "text": [
      "      <div class=\"album\" id=\"9188\">\n",
      "       album:\n",
      "       <b>\n",
      "        \"No Introduction\"\n",
      "       </b>\n",
      "       (2008)\n",
      "      </div>\n",
      "      <div class=\"listalbum-item\">\n",
      "       <a href=\"../lyrics/tyga/diamondlife.html\" target=\"_blank\">\n",
      "        Diamond Life\n",
      "       </a>\n",
      "      </div>\n",
      "      <div class=\"listalbum-item\">\n",
      "       <a href=\"../lyrics/tyga/coconutjuice.html\" target=\"_blank\">\n",
      "        Coconut Juice\n",
      "       </a>\n",
      "      </div>\n",
      "      <div class=\"listalbum-item\">\n",
      "       <a href=\"../lyrics/tyga/supersizeme.html\" target=\"_blank\">\n",
      " \n"
     ]
    }
   ],
   "source": [
    "## Creating soup + Q.C.\n",
    "start_soup = BeautifulSoup(start_resp.text, 'html.parser')\n",
    "print(start_soup.prettify()[8422:8946])"
   ]
  },
  {
   "cell_type": "markdown",
   "metadata": {},
   "source": [
    "### Linking Up"
   ]
  },
  {
   "cell_type": "code",
   "execution_count": 8,
   "metadata": {
    "ExecuteTime": {
     "end_time": "2020-10-13T01:46:30.772278Z",
     "start_time": "2020-10-13T01:46:30.725705Z"
    }
   },
   "outputs": [],
   "source": [
    "## Collecting all album/song titles + song links\n",
    "albums_songs = start_soup.findAll('div', attrs={'class': ['album', 'listalbum-item']})"
   ]
  },
  {
   "cell_type": "code",
   "execution_count": 16,
   "metadata": {
    "ExecuteTime": {
     "end_time": "2020-10-13T02:10:42.528525Z",
     "start_time": "2020-10-13T02:10:42.497626Z"
    }
   },
   "outputs": [
    {
     "name": "stdout",
     "output_type": "stream",
     "text": [
      "1st Album!\n",
      "Empty list!\n"
     ]
    }
   ],
   "source": [
    "## Agg. each album into a dict of a dict {Album: {song:song_link,...}}\n",
    "album_mid = dlf.album_aggregator(albums_songs)\n",
    "## Extra function needed for sorting 'Other songs'\n",
    "album_dict = dlf.legendary_album_splitter(album_mid)"
   ]
  },
  {
   "cell_type": "markdown",
   "metadata": {},
   "source": [
    "#### Link Scraping"
   ]
  },
  {
   "cell_type": "markdown",
   "metadata": {
    "ExecuteTime": {
     "end_time": "2020-10-13T02:32:29.620999Z",
     "start_time": "2020-10-13T02:32:29.612946Z"
    }
   },
   "source": [
    "**STRATEGY FOR SCRAPING LYRICS**\n",
    "* Copy `album_dict` into `res_dict`\n",
    "* Iterate through each album:\n",
    "    * Iterate through each song:\n",
    "        * Scrape using link (**NEED TO CHECK FORMAT**)\n",
    "        * Replace link w/scraped soup\n",
    "* Return *copied* `res_dict`"
   ]
  },
  {
   "cell_type": "code",
   "execution_count": 44,
   "metadata": {
    "ExecuteTime": {
     "end_time": "2020-10-20T03:15:53.035572Z",
     "start_time": "2020-10-20T03:15:35.312000Z"
    },
    "scrolled": false
   },
   "outputs": [
    {
     "name": "stdout",
     "output_type": "stream",
     "text": [
      "Song: Word On The Street\n",
      "Starting Response: <Response [200]>\n",
      "Lyrics!\n",
      "[Intro]\n",
      "[Verse 1:]\n",
      "[Verse 2:]\n",
      "Song: Bang Out\n",
      "Starting Response: <Response [200]>\n",
      "Lyrics!\n",
      "[Verse 1: Tyga]\n",
      "[Hook]\n",
      "[Verse 2: Tyga]\n",
      "[Hook]\n",
      "[Verse 3: Eazy-E]\n",
      "[Outro: Ice Cube]\n",
      "Song: Back 2 Basics\n",
      "Starting Response: <Response [200]>\n",
      "Lyrics!\n",
      "Song: Good Day\n",
      "Starting Response: <Response [200]>\n",
      "Lyrics!\n",
      "[Intro: Lil Wayne]\n",
      "[Bridge: Lil Wayne]\n",
      "[Verse 1: Tyga]\n",
      "[Bridge]\n",
      "[Hook: Lil Wayne]\n",
      "[Verse 2: Lil Wayne]\n",
      "[Bridge]\n",
      "[Hook]\n",
      "[Verse 3: Meek Mill]\n",
      "[Bridge]\n",
      "[Hook]\n",
      "Song: Young Kobe\n",
      "Starting Response: <Response [200]>\n",
      "Lyrics!\n",
      "[Hook:]\n",
      "[Verse 1:]\n",
      "[Pre-Hook:]\n",
      "[Hook x2]\n",
      "[Verse 2:]\n",
      "[Pre-Hook]\n",
      "[Hook x2]\n",
      "[Outro:]\n",
      "Song: Day One\n",
      "Starting Response: <Response [200]>\n",
      "Lyrics!\n",
      "[Verse 1]\n",
      "[Hook 1 (x2)]\n",
      "[Bridge]\n",
      "[Hook 2]\n",
      "[Verse]\n",
      "[Hook 2 (x2)]\n",
      "Song: Maniac\n",
      "Starting Response: <Response [200]>\n",
      "Lyrics!\n",
      "[Hook: Tyga]\n",
      "[Verse 1: Tyga]\n",
      "[Hook]\n",
      "[Verse 2: Fabolous]\n",
      "[Hook]\n",
      "Song: Pressed\n",
      "Starting Response: <Response [200]>\n",
      "Lyrics!\n",
      "[Hook: Tyga]\n",
      "[Verse 1: Tyga]\n",
      "[Hook: Honey Cocaine]\n",
      "[Verse 2: Honey Cocaine]\n",
      "[Hook: Tyga & Honey Cocaine]\n",
      "[Bridge]\n",
      "[Verse 3: Tyga]\n",
      "[Hook: Tyga & Honey Cocaine]\n",
      "Song: When To Stop\n",
      "Starting Response: <Response [200]>\n",
      "Lyrics!\n",
      "[Verse 1: Tyga]\n",
      "[Hook: Chris Brown]\n",
      "[Verse 2: Chris Brown]\n",
      "[Bridge: Chris Brown]\n",
      "[Hook]\n",
      "[Verse 3: Tyga]\n",
      "[Hook]\n",
      "[Outro: Chris Brown]\n",
      "Song: The Letter\n",
      "Starting Response: <Response [200]>\n",
      "Lyrics!\n",
      "[x4]\n",
      "[x4]\n",
      "[Bridge: Esty]\n",
      "[Verse 1: Esty]\n",
      "[Hook: Esty]\n",
      "[Verse 2: Tyga]\n",
      "[Bridge: Esty]\n",
      "[Hook: Esty]\n",
      "Song: Wake Up In It\n",
      "Starting Response: <Response [200]>\n",
      "Lyrics!\n",
      "[Hook: Sean Kingston]\n",
      "[Post Hook: French Montana]\n",
      "[Verse 1: Tyga]\n",
      "[Hook]\n",
      "[Post Hook]\n",
      "[Bridge: Sean Kingston]\n",
      "[Verse 2: Mally Mall]\n",
      "[Hook]\n",
      "[Post Hook]\n",
      "[Verse 3: Pusha T]\n",
      "[Hook]\n",
      "Song: Versace Versace\n",
      "Starting Response: <Response [200]>\n",
      "Lyrics!\n",
      "[Intro]\n",
      "[Hook: Quavo]\n",
      "Song: Jumpin Like Jordan\n",
      "Starting Response: <Response [200]>\n",
      "Lyrics!\n",
      "[Hook]\n",
      "[Verse 1: Quavo]\n",
      "[Hook]\n",
      "[Verse 2: Tyga]\n",
      "[Hook]\n",
      "[Verse 3: Rich The Kid]\n",
      "[Hook]\n",
      "[Verse 4: TakeOff]\n",
      "[Hook]\n",
      "Song: Throw It Up\n",
      "Starting Response: <Response [200]>\n",
      "Lyrics!\n",
      "[Pre-Hook:]\n",
      "[Hook:]\n",
      "[Verse 1:]\n",
      "[Pre-Hook:]\n",
      "[Hook:]\n",
      "[Verse 2:]\n",
      "[Pre-Hook:]\n",
      "[Hook:]\n"
     ]
    }
   ],
   "source": [
    "song_start_url = 'https://www.azlyrics.com'\n",
    "test_album = album_dict['Well Done 4']\n",
    "\n",
    "for song in test_album:\n",
    "    end_url = test_album[song]\n",
    "    full_url = song_start_url + end_url\n",
    "    resp = requests.get(full_url)\n",
    "    print(f'Song: {song}')\n",
    "    song_soup = BeautifulSoup(resp.text, 'html.parser')\n",
    "    \n",
    "    song_lyrics = song_soup.findAll('div', attrs={'class': None})\n",
    "    song_res = []\n",
    "    song_dump = []\n",
    "    switch = False\n",
    "    for tag in song_lyrics:\n",
    "        try:\n",
    "            _ = tag['id']\n",
    "        except KeyError:\n",
    "            t_tag = tag\n",
    "            print('Lyrics!')\n",
    "\n",
    "    tester = t_tag.findAll('i')\n",
    "\n",
    "    for tag in tester:\n",
    "        print(tag.text)\n",
    "        \n",
    "    print('--'*30)"
   ]
  },
  {
   "cell_type": "code",
   "execution_count": 35,
   "metadata": {
    "ExecuteTime": {
     "end_time": "2020-10-20T03:02:57.095660Z",
     "start_time": "2020-10-20T03:02:57.057962Z"
    },
    "scrolled": true
   },
   "outputs": [
    {
     "name": "stdout",
     "output_type": "stream",
     "text": [
      "https://www.azlyrics.com/lyrics/tyga/bangout.html\n",
      "Starting Response: <Response [200]>\n"
     ]
    }
   ],
   "source": [
    "test_start_url = 'https://www.azlyrics.com'\n",
    "# print(test_start_url)\n",
    "test_album = album_dict['Well Done 4']\n",
    "test_end_url = test_album['Bang Out']\n",
    "# print(test_end_url)\n",
    "test_url = test_start_url + test_end_url\n",
    "print(test_url)\n",
    "# test_resp = requests.get(test_url)\n",
    "print(f'Starting Response: {test_resp}')\n",
    "test_soup = BeautifulSoup(test_resp.text, 'html.parser')\n",
    "# test_soup"
   ]
  },
  {
   "cell_type": "code",
   "execution_count": 34,
   "metadata": {
    "ExecuteTime": {
     "end_time": "2020-10-20T03:02:20.934009Z",
     "start_time": "2020-10-20T03:02:20.916495Z"
    }
   },
   "outputs": [
    {
     "name": "stdout",
     "output_type": "stream",
     "text": [
      "Lyrics!\n",
      "[Verse 1: Tyga]\n",
      "[Hook]\n",
      "[Verse 2: Tyga]\n",
      "[Hook]\n",
      "[Verse 3: Eazy-E]\n",
      "[Outro: Ice Cube]\n"
     ]
    }
   ],
   "source": [
    "test_lyrics = test_soup.findAll('div', attrs={'class': None})\n",
    "test_res = []\n",
    "test_dump = []\n",
    "switch = False\n",
    "for tag in test_lyrics:\n",
    "    try:\n",
    "        _ = tag['id']\n",
    "    except KeyError:\n",
    "        t_tag = tag\n",
    "        print('Lyrics!')\n",
    "        \n",
    "tester = t_tag.findAll('i')\n",
    "\n",
    "for tag in tester:\n",
    "    print(tag.text)"
   ]
  },
  {
   "cell_type": "code",
   "execution_count": 12,
   "metadata": {
    "ExecuteTime": {
     "end_time": "2020-10-20T02:45:55.858774Z",
     "start_time": "2020-10-20T02:45:55.844547Z"
    },
    "scrolled": true
   },
   "outputs": [
    {
     "data": {
      "text/plain": [
       "[<div id=\"RTK_67Y3\"></div>, <div>\n",
       " <!-- Usage of azlyrics.com content by any third-party lyrics provider is prohibited by our licensing agreement. Sorry about that. -->\n",
       " <i>[Verse 1: Tyga]</i><br/>\n",
       " Hold up, money talk so you know what?<br/>\n",
       " Ainât nothing to talk about, you ainât got enough cuz<br/>\n",
       " Rock star drugs break a bitch heart, no love<br/>\n",
       " Emma Watts, Charlie Sheen, fuckin with no scrub<br/>\n",
       " Niggas want connects, got no plugs<br/>\n",
       " Nigga say they high, got no buzz<br/>\n",
       " Popsicle niggas wanna talk shit then say you froze up<br/>\n",
       " Young niggas wanna pop pills, just po up<br/>\n",
       " Went on a bang, Went on a bang<br/>\n",
       " Bitches came for me and my nigga eazy<br/>\n",
       " Threw that bitch out, got that ho one way<br/>\n",
       " Said she tryna stay, told that bitch no way<br/>\n",
       " Thatâs a preme nigga, B ripper, grim reaper<br/>\n",
       " I donât get mad bitch, I just get even<br/>\n",
       " T-Raw magician, I donât gotta trick or treat it<br/>\n",
       " That Ferrari California make a bitch a believer<br/>\n",
       " <br/>\n",
       " <i>[Hook]</i><br/>\n",
       " Million dollarsâ worth of cars, all paid out<br/>\n",
       " See you niggas hatin, had to pull my chains out<br/>\n",
       " Make it rain even when itâs rained out<br/>\n",
       " Turn up, bang out<br/>\n",
       " Bang out, bang out<br/>\n",
       " Turn up, b-bang out<br/>\n",
       " Million dollarsâ worth of cars, all paid out<br/>\n",
       " See you niggas hatin, had to pull my chains out<br/>\n",
       " <br/>\n",
       " <i>[Verse 2: Tyga]</i><br/>\n",
       " Met a bitch last night, wonât believe it<br/>\n",
       " Fuck her so hard, bitch probably stopped breathing<br/>\n",
       " Killed the pussy, in the hotel screamin<br/>\n",
       " Knock knock, going in like the housekeeper<br/>\n",
       " The room, keep it<br/>\n",
       " I fucked now I donât need it<br/>\n",
       " T-Raw semen splattered on a bitch beaver<br/>\n",
       " Pipe dreamin, fuckin with a real baller<br/>\n",
       " The bitch is a bitch so Iâm gon call er<br/>\n",
       " Then they act up, call the backup<br/>\n",
       " Donât matter, as if she ever mattered<br/>\n",
       " Bitch shut up, throw it up, I throw the set up<br/>\n",
       " Tell her sit up, got her face down, bitch donât put yo head up<br/>\n",
       " Yea, bitin on er ear<br/>\n",
       " Got a old bitch, pussy like souvenir<br/>\n",
       " I hop up in it, nigga I ainât never scared<br/>\n",
       " Closet full of straps and the condom right here<br/>\n",
       " What I got?<br/>\n",
       " <br/>\n",
       " <i>[Hook]</i><br/>\n",
       " Million dollarsâ worth of cars, all paid out<br/>\n",
       " See you niggas hatin, had to pull my chains out<br/>\n",
       " Make it rain even when itâs rained out<br/>\n",
       " Turn up, bang out<br/>\n",
       " Bang out, bang out<br/>\n",
       " Turn up, b-bang out<br/>\n",
       " Million dollarsâ worth of cars, all paid out<br/>\n",
       " See you niggas hatin, had to pull my chains out<br/>\n",
       " <br/>\n",
       " <i>[Verse 3: Eazy-E]</i><br/>\n",
       " Beef on the street, to the beach I be rollin<br/>\n",
       " Never see me strollin, 40âs I be holdin<br/>\n",
       " Girls in the daisies, drive easy crazy<br/>\n",
       " Rolled up my windows as I turned on my AC<br/>\n",
       " Rollin down Crenshaw, see the hoes jockin<br/>\n",
       " Sunday nights poppin, see the foes hoppin<br/>\n",
       " My stereoâs bumpin that ATL funk<br/>\n",
       " You can call it what you want<br/>\n",
       " Either way the shit bump<br/>\n",
       " Iâm a evil motherfucker ready to tear shit up<br/>\n",
       " Iâmma put these things on you and never let up<br/>\n",
       " See my mama, she was home when I was born<br/>\n",
       " Bet a nigga like to eat shit than never been born<br/>\n",
       " But I ainât going out unless 30 niggas die<br/>\n",
       " Iâm dyin anyway so Iâm thinkin suicide<br/>\n",
       " Shut the fuck up nigga cuz you ainât seen shit<br/>\n",
       " Iâm bout to take this blade and straight up rip<br/>\n",
       " <br/>\n",
       " <i>[Outro: Ice Cube]</i><br/>\n",
       " A bitch is a bitch<br/>\n",
       " So if Iâm poor or rich<br/>\n",
       " I talk in the exact same pitch<br/>\n",
       " Now the title of bitch donât apply to all women<br/>\n",
       " But all women have a little bitch in em\n",
       " </div>, <div id=\"RTK_yc1Z\"></div>, <div id=\"RTK_W2xH\"></div>]"
      ]
     },
     "execution_count": 12,
     "metadata": {},
     "output_type": "execute_result"
    }
   ],
   "source": [
    "test_lyrics"
   ]
  },
  {
   "cell_type": "markdown",
   "metadata": {},
   "source": [
    "#### Link Saving"
   ]
  },
  {
   "cell_type": "code",
   "execution_count": 2,
   "metadata": {
    "ExecuteTime": {
     "end_time": "2020-10-20T02:40:35.335680Z",
     "start_time": "2020-10-20T02:40:35.304380Z"
    }
   },
   "outputs": [],
   "source": [
    "#### WRITING ####\n",
    "# with open('Pickles/album_dict.pickle', 'wb') as f:\n",
    "#     pickle.dump(album_dict, f)\n",
    "#     f.close()\n",
    "\n",
    "#### READING ####\n",
    "with open('Pickles/album_dict.pickle', 'rb') as f:\n",
    "    album_dict = pickle.load(f)\n",
    "    f.close()"
   ]
  }
 ],
 "metadata": {
  "kernelspec": {
   "display_name": "Python 3",
   "language": "python",
   "name": "python3"
  },
  "language_info": {
   "codemirror_mode": {
    "name": "ipython",
    "version": 3
   },
   "file_extension": ".py",
   "mimetype": "text/x-python",
   "name": "python",
   "nbconvert_exporter": "python",
   "pygments_lexer": "ipython3",
   "version": "3.6.6"
  },
  "toc": {
   "base_numbering": 1,
   "nav_menu": {},
   "number_sections": true,
   "sideBar": true,
   "skip_h1_title": false,
   "title_cell": "Table of Contents",
   "title_sidebar": "Contents",
   "toc_cell": false,
   "toc_position": {},
   "toc_section_display": true,
   "toc_window_display": false
  },
  "varInspector": {
   "cols": {
    "lenName": 16,
    "lenType": 16,
    "lenVar": 40
   },
   "kernels_config": {
    "python": {
     "delete_cmd_postfix": "",
     "delete_cmd_prefix": "del ",
     "library": "var_list.py",
     "varRefreshCmd": "print(var_dic_list())"
    },
    "r": {
     "delete_cmd_postfix": ") ",
     "delete_cmd_prefix": "rm(",
     "library": "var_list.r",
     "varRefreshCmd": "cat(var_dic_list()) "
    }
   },
   "types_to_exclude": [
    "module",
    "function",
    "builtin_function_or_method",
    "instance",
    "_Feature"
   ],
   "window_display": false
  }
 },
 "nbformat": 4,
 "nbformat_minor": 2
}
