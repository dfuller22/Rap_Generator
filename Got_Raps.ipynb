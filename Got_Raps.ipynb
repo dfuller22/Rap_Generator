{
 "cells": [
  {
   "cell_type": "markdown",
   "metadata": {},
   "source": [
    "# Got Raps?"
   ]
  },
  {
   "cell_type": "markdown",
   "metadata": {},
   "source": [
    "## Background"
   ]
  },
  {
   "cell_type": "markdown",
   "metadata": {},
   "source": [
    "I am someone who *loves* to music. One of my favorite genres to listen to is hip-hop/rap because of, in some cases, the focus on lyricism. \n",
    "\n",
    "In recent years, there has been less of a focus in this regard, leading some fans of \"true hip-hop\" to look down upon the musicians currently in the spotlight. Part of the criticism of modern rap is how forgettable the lyrics and songs are due to their simplistic nature. \n",
    "\n",
    "While learning about *recurrent neural networks* (RNNs)I came across a [video](https://www.youtube.com/watch?v=ZMudJXhsUpY) by Laurence Moroney explaining how AI can be used to generate poetry after training upon a corpus of Irish poems. This sparked an idea to try and do the same with a modern song lyrics. I specifically decided to choose rap because of my familiarity with the genre and thinking that the songs may have more words since the artists are not singing (most of the time).\n",
    "\n",
    "I will be scraping lyrics from [azlyrics](https://www.azlyrics.com/t/tyga.html) using BeautifulSoup and Keras to create my RNN."
   ]
  },
  {
   "cell_type": "markdown",
   "metadata": {},
   "source": [
    "## Imports"
   ]
  },
  {
   "cell_type": "code",
   "execution_count": 12,
   "metadata": {
    "ExecuteTime": {
     "end_time": "2020-10-13T02:07:41.419085Z",
     "start_time": "2020-10-13T02:07:41.379635Z"
    }
   },
   "outputs": [],
   "source": [
    "import requests\n",
    "import regex\n",
    "import pickle\n",
    "import pandas as pd\n",
    "import numpy as np\n",
    "import functions as dlf\n",
    "from bs4 import BeautifulSoup"
   ]
  },
  {
   "cell_type": "markdown",
   "metadata": {},
   "source": [
    "## Getting Soupy"
   ]
  },
  {
   "cell_type": "code",
   "execution_count": 2,
   "metadata": {
    "ExecuteTime": {
     "end_time": "2020-10-13T01:39:34.726737Z",
     "start_time": "2020-10-13T01:39:33.004958Z"
    }
   },
   "outputs": [
    {
     "name": "stdout",
     "output_type": "stream",
     "text": [
      "Starting Response: <Response [200]>\n"
     ]
    }
   ],
   "source": [
    "## Starting page + Q.C. of response\n",
    "start_url = 'https://www.azlyrics.com/t/tyga.html'\n",
    "start_resp = requests.get(start_url)\n",
    "print(f'Starting Response: {start_resp}')"
   ]
  },
  {
   "cell_type": "code",
   "execution_count": 51,
   "metadata": {
    "ExecuteTime": {
     "end_time": "2020-10-13T02:25:33.335513Z",
     "start_time": "2020-10-13T02:25:33.069837Z"
    }
   },
   "outputs": [
    {
     "name": "stdout",
     "output_type": "stream",
     "text": [
      "      <div class=\"album\" id=\"9188\">\n",
      "       album:\n",
      "       <b>\n",
      "        \"No Introduction\"\n",
      "       </b>\n",
      "       (2008)\n",
      "      </div>\n",
      "      <div class=\"listalbum-item\">\n",
      "       <a href=\"../lyrics/tyga/diamondlife.html\" target=\"_blank\">\n",
      "        Diamond Life\n",
      "       </a>\n",
      "      </div>\n",
      "      <div class=\"listalbum-item\">\n",
      "       <a href=\"../lyrics/tyga/coconutjuice.html\" target=\"_blank\">\n",
      "        Coconut Juice\n",
      "       </a>\n",
      "      </div>\n",
      "      <div class=\"listalbum-item\">\n",
      "       <a href=\"../lyrics/tyga/supersizeme.html\" target=\"_blank\">\n",
      " \n"
     ]
    }
   ],
   "source": [
    "## Creating soup + Q.C.\n",
    "start_soup = BeautifulSoup(start_resp.text, 'html.parser')\n",
    "print(start_soup.prettify()[8422:8946])"
   ]
  },
  {
   "cell_type": "markdown",
   "metadata": {},
   "source": [
    "### Linking Up"
   ]
  },
  {
   "cell_type": "code",
   "execution_count": 8,
   "metadata": {
    "ExecuteTime": {
     "end_time": "2020-10-13T01:46:30.772278Z",
     "start_time": "2020-10-13T01:46:30.725705Z"
    }
   },
   "outputs": [],
   "source": [
    "## Collecting all album/song titles + song links\n",
    "albums_songs = start_soup.findAll('div', attrs={'class': ['album', 'listalbum-item']})"
   ]
  },
  {
   "cell_type": "code",
   "execution_count": 16,
   "metadata": {
    "ExecuteTime": {
     "end_time": "2020-10-13T02:10:42.528525Z",
     "start_time": "2020-10-13T02:10:42.497626Z"
    }
   },
   "outputs": [
    {
     "name": "stdout",
     "output_type": "stream",
     "text": [
      "1st Album!\n",
      "Empty list!\n"
     ]
    }
   ],
   "source": [
    "## Agg. each album into a dict of a dict {Album: {song:song_link,...}}\n",
    "album_mid = dlf.album_aggregator(albums_songs)\n",
    "## Extra function needed for sorting 'Other songs'\n",
    "album_dict = dlf.legendary_album_splitter(album_mid)"
   ]
  },
  {
   "cell_type": "markdown",
   "metadata": {},
   "source": [
    "#### Link Scraping"
   ]
  },
  {
   "cell_type": "markdown",
   "metadata": {
    "ExecuteTime": {
     "end_time": "2020-10-13T02:32:29.620999Z",
     "start_time": "2020-10-13T02:32:29.612946Z"
    }
   },
   "source": [
    "**STRATEGY FOR SCRAPING LYRICS**\n",
    "* Copy `album_dict` into `res_dict`\n",
    "* Iterate through each album:\n",
    "    * Iterate through each song:\n",
    "        * Scrape using link (**NEED TO CHECK FORMAT**)\n",
    "        * Replace link w/scraped soup\n",
    "* Return *copied* `res_dict`"
   ]
  },
  {
   "cell_type": "code",
   "execution_count": 71,
   "metadata": {
    "ExecuteTime": {
     "end_time": "2020-10-13T02:54:26.821044Z",
     "start_time": "2020-10-13T02:54:26.597986Z"
    },
    "scrolled": true
   },
   "outputs": [
    {
     "name": "stdout",
     "output_type": "stream",
     "text": [
      "https://www.azlyrics.com/lyrics/tyga/bangout.html\n",
      "Starting Response: <Response [200]>\n"
     ]
    },
    {
     "data": {
      "text/plain": [
       "<!DOCTYPE html>\n",
       "\n",
       "<html lang=\"en\">\n",
       "<head>\n",
       "<meta charset=\"utf-8\"/>\n",
       "<meta content=\"IE=edge\" http-equiv=\"X-UA-Compatible\"/>\n",
       "<meta content=\"width=device-width, initial-scale=1\" name=\"viewport\"/>\n",
       "<meta content='Tyga \"Bang Out\": Hold up, money talk so you know what? Ainât nothing to talk about, you ainât got enough cuz Rock sta...' name=\"description\"/>\n",
       "<meta content=\"Bang Out lyrics, Tyga Bang Out lyrics, Tyga lyrics\" name=\"keywords\"/>\n",
       "<meta content=\"noarchive\" name=\"robots\"/>\n",
       "<meta content=\"//www.azlyrics.com/az_logo_tr.png\" property=\"og:image\"/>\n",
       "<title>Tyga - Bang Out Lyrics | AZLyrics.com</title>\n",
       "<link href=\"https://maxcdn.bootstrapcdn.com/bootstrap/3.3.4/css/bootstrap.min.css\" rel=\"stylesheet\"/>\n",
       "<link href=\"/local/az.css\" rel=\"stylesheet\"/>\n",
       "<!-- HTML5 shim and Respond.js for IE8 support of HTML5 elements and media queries -->\n",
       "<!--[if lt IE 9]>\n",
       "<script src=\"https://oss.maxcdn.com/html5shiv/3.7.2/html5shiv.min.js\"></script>\n",
       "<script src=\"https://oss.maxcdn.com/respond/1.4.2/respond.min.js\"></script>\n",
       "<![endif]-->\n",
       "<script charset=\"UTF-8\" data-domain-script=\"464b7175-7273-4e0f-8753-e9a483d4a156\" data-language=\"en\" src=\"https://cookie-cdn.cookiepro.com/scripttemplates/otSDKStub.js\" type=\"text/javascript\"></script>\n",
       "<script type=\"text/javascript\">\n",
       "function OptanonWrapper() { }\n",
       "</script>\n",
       "<script type=\"text/javascript\">\n",
       "ArtistName = \"Tyga\";\n",
       "SongName = \"Bang Out\";\n",
       "function submitCorrections(){\n",
       "\tdocument.getElementById('corlyr').submit();\n",
       "\treturn false;\n",
       "}\n",
       "</script>\n",
       "</head>\n",
       "<body class=\"az-song-text\">\n",
       "<nav class=\"navbar navbar-default navbar-static-top noprint\">\n",
       "<div class=\"container\">\n",
       "<!-- Brand and toggle get grouped for better mobile display -->\n",
       "<div class=\"navbar-header\">\n",
       "<button class=\"navbar-toggle collapsed\" data-target=\"#search-collapse\" data-toggle=\"collapse\" type=\"button\">\n",
       "<span class=\"glyphicon glyphicon-search\"></span>\n",
       "</button>\n",
       "<button class=\"navbar-toggle collapsed\" data-target=\"#artists-collapse\" data-toggle=\"collapse\" type=\"button\">\n",
       "<span class=\"glyphicon glyphicon-th-list\"></span>\n",
       "</button>\n",
       "<a class=\"navbar-brand\" href=\"//www.azlyrics.com\"><img alt=\"AZLyrics.com\" class=\"pull-left\" src=\"//www.azlyrics.com/az_logo_tr.png\" style=\"max-height:40px; margin-top:-10px;\"/></a>\n",
       "</div>\n",
       "<ul class=\"collapse navbar-collapse nav navbar-nav\" id=\"artists-collapse\">\n",
       "<li>\n",
       "<div class=\"btn-group text-center\" role=\"group\">\n",
       "<a class=\"btn btn-menu\" href=\"//www.azlyrics.com/a.html\">A</a>\n",
       "<a class=\"btn btn-menu\" href=\"//www.azlyrics.com/b.html\">B</a>\n",
       "<a class=\"btn btn-menu\" href=\"//www.azlyrics.com/c.html\">C</a>\n",
       "<a class=\"btn btn-menu\" href=\"//www.azlyrics.com/d.html\">D</a>\n",
       "<a class=\"btn btn-menu\" href=\"//www.azlyrics.com/e.html\">E</a>\n",
       "<a class=\"btn btn-menu\" href=\"//www.azlyrics.com/f.html\">F</a>\n",
       "<a class=\"btn btn-menu\" href=\"//www.azlyrics.com/g.html\">G</a>\n",
       "<a class=\"btn btn-menu\" href=\"//www.azlyrics.com/h.html\">H</a>\n",
       "<a class=\"btn btn-menu\" href=\"//www.azlyrics.com/i.html\">I</a>\n",
       "<a class=\"btn btn-menu\" href=\"//www.azlyrics.com/j.html\">J</a>\n",
       "<a class=\"btn btn-menu\" href=\"//www.azlyrics.com/k.html\">K</a>\n",
       "<a class=\"btn btn-menu\" href=\"//www.azlyrics.com/l.html\">L</a>\n",
       "<a class=\"btn btn-menu\" href=\"//www.azlyrics.com/m.html\">M</a>\n",
       "<a class=\"btn btn-menu\" href=\"//www.azlyrics.com/n.html\">N</a>\n",
       "<a class=\"btn btn-menu\" href=\"//www.azlyrics.com/o.html\">O</a>\n",
       "<a class=\"btn btn-menu\" href=\"//www.azlyrics.com/p.html\">P</a>\n",
       "<a class=\"btn btn-menu\" href=\"//www.azlyrics.com/q.html\">Q</a>\n",
       "<a class=\"btn btn-menu\" href=\"//www.azlyrics.com/r.html\">R</a>\n",
       "<a class=\"btn btn-menu\" href=\"//www.azlyrics.com/s.html\">S</a>\n",
       "<a class=\"btn btn-menu\" href=\"//www.azlyrics.com/t.html\">T</a>\n",
       "<a class=\"btn btn-menu\" href=\"//www.azlyrics.com/u.html\">U</a>\n",
       "<a class=\"btn btn-menu\" href=\"//www.azlyrics.com/v.html\">V</a>\n",
       "<a class=\"btn btn-menu\" href=\"//www.azlyrics.com/w.html\">W</a>\n",
       "<a class=\"btn btn-menu\" href=\"//www.azlyrics.com/x.html\">X</a>\n",
       "<a class=\"btn btn-menu\" href=\"//www.azlyrics.com/y.html\">Y</a>\n",
       "<a class=\"btn btn-menu\" href=\"//www.azlyrics.com/z.html\">Z</a>\n",
       "<a class=\"btn btn-menu\" href=\"//www.azlyrics.com/19.html\">#</a>\n",
       "</div>\n",
       "</li>\n",
       "</ul>\n",
       "<div class=\"collapse navbar-collapse\" id=\"search-collapse\">\n",
       "<form action=\"//search.azlyrics.com/search.php\" class=\"navbar-form navbar-right search\" method=\"get\" role=\"search\">\n",
       "<div class=\"input-group\">\n",
       "<input class=\"form-control\" id=\"q\" name=\"q\" placeholder=\"\" type=\"text\"/>\n",
       "<span class=\"input-group-btn\">\n",
       "<button class=\"btn btn-primary\" type=\"submit\"><span class=\"glyphicon glyphicon-search\"></span> Search</button>\n",
       "</span>\n",
       "</div>\n",
       "</form>\n",
       "</div><!-- /.navbar-collapse -->\n",
       "</div><!-- /.container -->\n",
       "</nav>\n",
       "<!-- top ban -->\n",
       "<div class=\"lboard-wrap noprint\">\n",
       "<div class=\"container\">\n",
       "<div class=\"row\">\n",
       "<div class=\"col-xs-12 top-ad text-center\">\n",
       "<div id=\"RTK_67Y3\"></div>\n",
       "</div>\n",
       "</div>\n",
       "</div>\n",
       "</div>\n",
       "<!-- main -->\n",
       "<div class=\"container main-page\">\n",
       "<div class=\"row\">\n",
       "<div class=\"col-lg-2 text-center hidden-md hidden-sm hidden-xs noprint\">\n",
       "<div class=\"sky-ad\"></div>\n",
       "</div>\n",
       "<!-- content -->\n",
       "<div class=\"col-xs-12 col-lg-8 text-center\">\n",
       "<div class=\"div-share noprint\">\n",
       "<div class=\"addthis_toolbox addthis_default_style\">\n",
       "<a class=\"btn btn-xs btn-share addthis_button_facebook\" href=\"https://www.facebook.com/sharer.php?u=https%3A%2F%2Fwww.azlyrics.com%2Flyrics%2Ftyga%2Fbangout.html&amp;title=Tyga%20-%20Bang%20Out%20Lyrics%20%7C%20AZLyrics.com&amp;display=page\" target=\"_blank\">\n",
       "<span class=\"playblk\"><img alt=\"Share on Facebook\" class=\"playblk\" height=\"25\" src=\"//www.azlyrics.com/images/share-icons/facebook.svg\" title=\"Share on Facebook\" width=\"25\"/></span>\n",
       "</a>\n",
       "<a class=\"btn btn-xs btn-share addthis_button_twitter\" href=\"https://twitter.com/intent/tweet?url=https%3A%2F%2Fwww.azlyrics.com%2Flyrics%2Ftyga%2Fbangout.html&amp;text=Tyga%20-%20Bang%20Out%20Lyrics%20%7C%20AZLyrics.com\" target=\"_blank\">\n",
       "<span class=\"playblk\"><img alt=\"Share on Twiiter\" class=\"playblk\" height=\"25\" src=\"//www.azlyrics.com/images/share-icons/twitter.svg\" title=\"Share on Twiiter\" width=\"25\"/></span>\n",
       "</a>\n",
       "<a class=\"btn btn-xs btn-share addthis_button_email\" href=\"mailto:?subject=Tyga%20-%20Bang%20Out%20Lyrics%20%7C%20AZLyrics.com&amp;body=https%3A%2F%2Fwww.azlyrics.com%2Flyrics%2Ftyga%2Fbangout.html\" target=\"_blank\">\n",
       "<span class=\"playblk\"><img alt=\"Email\" class=\"playblk\" height=\"25\" src=\"//www.azlyrics.com/images/share-icons/email.svg\" title=\"Email\" width=\"25\"/></span>\n",
       "</a>\n",
       "<a class=\"btn btn-xs btn-share addthis_button_print\" href=\"javascript:void(window.print());\" style=\"margin-right: 0px !important;\">\n",
       "<span class=\"playblk\"><img alt=\"Print\" class=\"playblk\" height=\"25\" src=\"//www.azlyrics.com/images/share-icons/print.svg\" title=\"Print\" width=\"25\"/></span>\n",
       "</a>\n",
       "</div>\n",
       "</div>\n",
       "<div class=\"div-share\"><h1>\"Bang Out\" lyrics</h1></div>\n",
       "<div class=\"lyricsh\">\n",
       "<h2><a href=\"//www.azlyrics.com/t/tyga.html\"><b>Tyga Lyrics</b></a></h2>\n",
       "</div>\n",
       "<div class=\"ringtone\">\n",
       "<span id=\"cf_text_top\"></span>\n",
       "</div>\n",
       "<b>\"Bang Out\"</b><br/>\n",
       "<span class=\"feat\">(feat. Easy E &amp; Ice Cube)</span><br/>\n",
       "<br/>\n",
       "<div>\n",
       "<!-- Usage of azlyrics.com content by any third-party lyrics provider is prohibited by our licensing agreement. Sorry about that. -->\n",
       "<i>[Verse 1: Tyga]</i><br/>\n",
       "Hold up, money talk so you know what?<br/>\n",
       "Ainât nothing to talk about, you ainât got enough cuz<br/>\n",
       "Rock star drugs break a bitch heart, no love<br/>\n",
       "Emma Watts, Charlie Sheen, fuckin with no scrub<br/>\n",
       "Niggas want connects, got no plugs<br/>\n",
       "Nigga say they high, got no buzz<br/>\n",
       "Popsicle niggas wanna talk shit then say you froze up<br/>\n",
       "Young niggas wanna pop pills, just po up<br/>\n",
       "Went on a bang, Went on a bang<br/>\n",
       "Bitches came for me and my nigga eazy<br/>\n",
       "Threw that bitch out, got that ho one way<br/>\n",
       "Said she tryna stay, told that bitch no way<br/>\n",
       "Thatâs a preme nigga, B ripper, grim reaper<br/>\n",
       "I donât get mad bitch, I just get even<br/>\n",
       "T-Raw magician, I donât gotta trick or treat it<br/>\n",
       "That Ferrari California make a bitch a believer<br/>\n",
       "<br/>\n",
       "<i>[Hook]</i><br/>\n",
       "Million dollarsâ worth of cars, all paid out<br/>\n",
       "See you niggas hatin, had to pull my chains out<br/>\n",
       "Make it rain even when itâs rained out<br/>\n",
       "Turn up, bang out<br/>\n",
       "Bang out, bang out<br/>\n",
       "Turn up, b-bang out<br/>\n",
       "Million dollarsâ worth of cars, all paid out<br/>\n",
       "See you niggas hatin, had to pull my chains out<br/>\n",
       "<br/>\n",
       "<i>[Verse 2: Tyga]</i><br/>\n",
       "Met a bitch last night, wonât believe it<br/>\n",
       "Fuck her so hard, bitch probably stopped breathing<br/>\n",
       "Killed the pussy, in the hotel screamin<br/>\n",
       "Knock knock, going in like the housekeeper<br/>\n",
       "The room, keep it<br/>\n",
       "I fucked now I donât need it<br/>\n",
       "T-Raw semen splattered on a bitch beaver<br/>\n",
       "Pipe dreamin, fuckin with a real baller<br/>\n",
       "The bitch is a bitch so Iâm gon call er<br/>\n",
       "Then they act up, call the backup<br/>\n",
       "Donât matter, as if she ever mattered<br/>\n",
       "Bitch shut up, throw it up, I throw the set up<br/>\n",
       "Tell her sit up, got her face down, bitch donât put yo head up<br/>\n",
       "Yea, bitin on er ear<br/>\n",
       "Got a old bitch, pussy like souvenir<br/>\n",
       "I hop up in it, nigga I ainât never scared<br/>\n",
       "Closet full of straps and the condom right here<br/>\n",
       "What I got?<br/>\n",
       "<br/>\n",
       "<i>[Hook]</i><br/>\n",
       "Million dollarsâ worth of cars, all paid out<br/>\n",
       "See you niggas hatin, had to pull my chains out<br/>\n",
       "Make it rain even when itâs rained out<br/>\n",
       "Turn up, bang out<br/>\n",
       "Bang out, bang out<br/>\n",
       "Turn up, b-bang out<br/>\n",
       "Million dollarsâ worth of cars, all paid out<br/>\n",
       "See you niggas hatin, had to pull my chains out<br/>\n",
       "<br/>\n",
       "<i>[Verse 3: Eazy-E]</i><br/>\n",
       "Beef on the street, to the beach I be rollin<br/>\n",
       "Never see me strollin, 40âs I be holdin<br/>\n",
       "Girls in the daisies, drive easy crazy<br/>\n",
       "Rolled up my windows as I turned on my AC<br/>\n",
       "Rollin down Crenshaw, see the hoes jockin<br/>\n",
       "Sunday nights poppin, see the foes hoppin<br/>\n",
       "My stereoâs bumpin that ATL funk<br/>\n",
       "You can call it what you want<br/>\n",
       "Either way the shit bump<br/>\n",
       "Iâm a evil motherfucker ready to tear shit up<br/>\n",
       "Iâmma put these things on you and never let up<br/>\n",
       "See my mama, she was home when I was born<br/>\n",
       "Bet a nigga like to eat shit than never been born<br/>\n",
       "But I ainât going out unless 30 niggas die<br/>\n",
       "Iâm dyin anyway so Iâm thinkin suicide<br/>\n",
       "Shut the fuck up nigga cuz you ainât seen shit<br/>\n",
       "Iâm bout to take this blade and straight up rip<br/>\n",
       "<br/>\n",
       "<i>[Outro: Ice Cube]</i><br/>\n",
       "A bitch is a bitch<br/>\n",
       "So if Iâm poor or rich<br/>\n",
       "I talk in the exact same pitch<br/>\n",
       "Now the title of bitch donât apply to all women<br/>\n",
       "But all women have a little bitch in em\n",
       "</div>\n",
       "<br/><br/>\n",
       "<!-- MxM banner -->\n",
       "<div class=\"noprint\" id=\"azmxmbanner\" style=\"display:none;\">\n",
       "<script>\n",
       "if  ( /Android|webOS|iPhone|iPod|iPad|BlackBerry|IEMobile|Opera Mini/i.test(navigator.userAgent) ) \n",
       "  {\n",
       "     document.getElementById('azmxmbanner').style.display='block';\n",
       "     document.write('<div style=\"margin-left: auto; margin-right: auto;\">'+\n",
       "  '<iframe scrolling=\"no\" style=\"border: 0px none; overflow:hidden;\" src=\"//adv.mxmcdn.net/br/t1.0/m_js/e_0/sn_0/l_8770396/su_0/rs_0/tr_3vUCAMCKHOrM0K1lgoeeUWQD6H2tCgJRnDzYLGFgCHK7NDSvomgP6IkfUQF1Uh2ZUFPY7QVGxhU-A2gr-PeoAr5_tKTD_WNxXY1hoYx6v1K5gNowYghk8iNuq82wxEkq1WkZ_raPweEjWsnNDO_ZtxQr6dhsNo8JOkpqojxJ0JUpl28GVX1bfNSt1VGFfWbOuopGm2GI1fRw7pDaJcwhJQ5ab96kihM4ZkKtR_ynwkYwzbnr8uIm-8meuEVn7cRAbo0Dux5JgHyYaB4CwGYeheSJSe1QbZy55GGLjDDlewqUbzRWpywXaupWuzuPFV3nZfxAqKbA36HtsAPtORREA8NJaPnplV3Fs2UkUVd24CVWAI0sd6DN57I5ZBKEhgWHIqq5tyq_3SWJbHd-PxqlSyg98s-wlkCXV09QYGrvC9xGh8ZeLfzmfF05_g/\" width=\"290px\" height=\"50px\"></iframe>'+\n",
       "  '</div>');\n",
       "   }\n",
       "</script>\n",
       "<br/><br/>\n",
       "</div>\n",
       "<form action=\"../../add.php\" id=\"addsong\" method=\"post\">\n",
       "<input name=\"what\" type=\"hidden\" value=\"add_song\"/>\n",
       "<input name=\"artist\" type=\"hidden\" value=\"Tyga\"/>\n",
       "<input name=\"artist_id\" type=\"hidden\" value=\"1954\"/>\n",
       "</form>\n",
       "<form action=\"../../add.php\" id=\"corlyr\" method=\"post\">\n",
       "<input name=\"what\" type=\"hidden\" value=\"correct_lyrics\"/>\n",
       "<input name=\"song_id\" type=\"hidden\" value=\"344005\"/>\n",
       "</form>\n",
       "<div class=\"smt noprint\">\n",
       "<a class=\"btn btn-primary\" href=\"#\" onclick=\"submitCorrections()\"><span class=\"glyphicon glyphicon-pencil\"></span> Submit Corrections</a>\n",
       "</div>\n",
       "<div class=\"smt\"><small>Thanks to Dina Mathers for adding these lyrics.<br/></small>\n",
       "</div>\n",
       "<div class=\"noprint\" style=\"padding: 15px 0\">\n",
       "<span id=\"cf_text_bottom\"></span>\n",
       "</div>\n",
       "<!-- credits -->\n",
       "<div class=\"smt\"></div>\n",
       "<!-- song facts -->\n",
       "<!-- artist link -->\n",
       "<ol class=\"breadcrumb noprint\" itemscope=\"\" itemtype=\"https://schema.org/BreadcrumbList\">\n",
       "<li itemprop=\"itemListElement\" itemscope=\"\" itemtype=\"https://schema.org/ListItem\"><a href=\"//www.azlyrics.com\" itemprop=\"item\"><span itemprop=\"name\">AZLyrics</span></a><meta content=\"1\" itemprop=\"position\"/></li>\n",
       "<li itemprop=\"itemListElement\" itemscope=\"\" itemtype=\"https://schema.org/ListItem\"><a href=\"//www.azlyrics.com/t.html\" itemprop=\"item\"><span itemprop=\"name\">T</span></a><meta content=\"2\" itemprop=\"position\"/></li>\n",
       "<li itemprop=\"itemListElement\" itemscope=\"\" itemtype=\"https://schema.org/ListItem\"><a href=\"//www.azlyrics.com/t/tyga.html\" itemprop=\"item\"><span itemprop=\"name\">Tyga Lyrics</span></a><meta content=\"3\" itemprop=\"position\"/></li>\n",
       "</ol>\n",
       "<!-- album songlists -->\n",
       "<div class=\"panel songlist-panel noprint\">\n",
       "<div class=\"songinalbum_title\">mixtape: <b>\"Well Done 4\"</b> (2013)</div>\n",
       "<div class=\"listalbum-item\"><a href=\"wordonthestreet.html\">Word On The Street</a></div>\n",
       "<div class=\"listalbum-item\"><a href=\"bangout.html\">Bang Out</a></div>\n",
       "<div class=\"listalbum-item\"><a href=\"back2basics.html\">Back 2 Basics</a></div>\n",
       "<div class=\"listalbum-item\"><a href=\"goodday.html\">Good Day</a></div>\n",
       "<div class=\"listalbum-item\"><a href=\"youngkobe.html\">Young Kobe</a></div>\n",
       "<div class=\"listalbum-item\"><a href=\"dayone.html\">Day One</a></div>\n",
       "<div class=\"listalbum-item\"><a href=\"maniac.html\">Maniac</a></div>\n",
       "<div class=\"listalbum-item\"><a href=\"pressed.html\">Pressed</a></div>\n",
       "<div class=\"listalbum-item\"><a href=\"whentostop.html\">When To Stop</a></div>\n",
       "<div class=\"listalbum-item\"><a href=\"theletter.html\">The Letter</a></div>\n",
       "<div class=\"listalbum-item\"><a href=\"wakeupinit.html\">Wake Up In It</a></div>\n",
       "<div class=\"listalbum-item\"><a href=\"versaceversace.html\">Versace Versace</a></div>\n",
       "<div class=\"listalbum-item\"><a href=\"jumpinlikejordan.html\">Jumpin Like Jordan</a></div>\n",
       "<div class=\"listalbum-item\"><a href=\"throwitup.html\">Throw It Up</a></div>\n",
       "</div>\n",
       "<!-- album songlists end -->\n",
       "<form action=\"//search.azlyrics.com/search.php\" class=\"search noprint\" method=\"get\" role=\"search\">\n",
       "<div class=\"input-group\" style=\"margin-bottom:15px\">\n",
       "<input class=\"form-control\" name=\"q\" placeholder=\"\" type=\"text\"/>\n",
       "<span class=\"input-group-btn\">\n",
       "<button class=\"btn btn-primary\" type=\"submit\"><span class=\"glyphicon glyphicon-search\"></span> Search</button>\n",
       "</span>\n",
       "</div>\n",
       "</form>\n",
       "<div class=\"noprint visible-xs-block\" style=\"margin-top:5px;margin-bottom:5px\">\n",
       "<div id=\"RTK_yc1Z\"></div>\n",
       "</div>\n",
       "</div> <!-- content -->\n",
       "<div class=\"col-lg-2 text-center hidden-md hidden-sm hidden-xs noprint\">\n",
       "<div class=\"sky-ad\"></div>\n",
       "</div>\n",
       "</div>\n",
       "</div> <!-- container main-page -->\n",
       "<!-- nav bottom -->\n",
       "<nav class=\"navbar navbar-default navbar-bottom\">\n",
       "<div class=\"container text-center\">\n",
       "<ul class=\"nav navbar-nav navbar-center\">\n",
       "<li><a href=\"//www.azlyrics.com/add.php\" onclick=\"document.forms['addsong'].submit();return false;\">Submit Lyrics</a></li>\n",
       "<li><a href=\"//www.stlyrics.com\">Soundtracks</a></li>\n",
       "<li><a href=\"//www.facebook.com/pages/AZLyricscom/154139197951223\">Facebook</a></li>\n",
       "<li><a href=\"//www.azlyrics.com/contact.html\">Contact Us</a></li>\n",
       "</ul>\n",
       "</div>\n",
       "</nav>\n",
       "<!-- bot ban -->\n",
       "<div class=\"lboard-wrap noprint\">\n",
       "<div class=\"container\">\n",
       "<div class=\"row\">\n",
       "<div class=\"col-xs-12 top-ad text-center\">\n",
       "<div id=\"RTK_W2xH\"></div>\n",
       "</div>\n",
       "</div>\n",
       "</div>\n",
       "</div>\n",
       "<!-- footer -->\n",
       "<nav class=\"navbar navbar-footer noprint\">\n",
       "<div class=\"container text-center\">\n",
       "<ul class=\"nav navbar-nav navbar-center\">\n",
       "<li><a href=\"//www.azlyrics.com/adv.html\">Advertise Here</a></li>\n",
       "<li><a href=\"//www.azlyrics.com/privacy.html\">Privacy Policy</a></li>\n",
       "<li><a href=\"//www.azlyrics.com/cookie.html\">Cookie Policy</a></li>\n",
       "<li><a href=\"//www.azlyrics.com/copyright.html\">DMCA Policy</a></li>\n",
       "</ul>\n",
       "</div>\n",
       "</nav>\n",
       "<div class=\"footer-wrap\">\n",
       "<div class=\"container\">\n",
       "<div class=\"noprint\"><span style=\"font-weight:bold;line-height:54px;vertical-align:top;\">Lyrics licensed by </span><img alt=\"MusixMatch\" height=\"54\" src=\"//www.azlyrics.com/images/mxm.png\" width=\"184\"/></div>\n",
       "<small>\n",
       "<script type=\"text/javascript\">\n",
       "                curdate=new Date();\n",
       "                document.write(\"<strong>Copyright &copy; 2000-\"+curdate.getFullYear()+\" AZLyrics.com<\\/strong>\");\n",
       "             </script>\n",
       "</small>\n",
       "</div>\n",
       "</div>\n",
       "<script>\n",
       "cf_page_artist = ArtistName;\n",
       "cf_page_song = SongName;\n",
       "cf_page_genre = \"urban\";\n",
       "cf_no_bit = 0;\n",
       "</script>\n",
       "<script src=\"/anew.js\"></script>\n",
       "<script type=\"text/javascript\">\n",
       "\n",
       "  var _gaq = _gaq || [];\n",
       "  _gaq.push(['_setAccount', 'UA-4309237-1']);\n",
       "\n",
       "  (function() {\n",
       "    var ga = document.createElement('script'); ga.type = 'text/javascript'; ga.async = true;\n",
       "    ga.src = ('https:' == document.location.protocol ? 'https://ssl' : 'http://www') + '.google-analytics.com/ga.js';\n",
       "    var s = document.getElementsByTagName('script')[0]; s.parentNode.insertBefore(ga, s);\n",
       "  })();\n",
       "\n",
       "</script>\n",
       "<div class=\"hidden\" id=\"CssFailCheck\" style=\"height:1px;\"></div>\n",
       "<script src=\"https://ajax.googleapis.com/ajax/libs/jquery/1.12.4/jquery.min.js\"></script>\n",
       "<script>window.jQuery || document.write('<script src=\"//www.azlyrics.com/local/jquery.min.js\"><\\/script>')</script>\n",
       "<script>\n",
       "      $(function () {\n",
       "       if ($('#CssFailCheck').is(':visible') === true) {\n",
       "         $('<link rel=\"stylesheet\" type=\"text/css\" href=\"//www.azlyrics.com/bs/css/bootstrap.min.css\"><link rel=\"stylesheet\" href=\"//www.azlyrics.com/bsaz.css\">').appendTo('head');\n",
       "       }\n",
       "      });\n",
       "    </script>\n",
       "<script src=\"/local/az.js\"></script>\n",
       "<script src=\"/geo.js\"></script>\n",
       "<script src=\"https://tracking.musixmatch.com/t1.0/m_js/e_0/sn_0/l_8770396/su_0/rs_0/tr_3vUCAMCKHOrM0K1lgoeeUWQD6H2tCgJRnDzYLGFgCHK7NDSvomgP6IkfUQF1Uh2ZUFPY7QVGxhU-A2gr-PeoAr5_tKTD_WNxXY1hoYx6v1K5gNowYghk8iNuq82wxEkq1WkZ_raPweEjWsnNDO_ZtxQr6dhsNo8JOkpqojxJ0JUpl28GVX1bfNSt1VGFfWbOuopGm2GI1fRw7pDaJcwhJQ5ab96kihM4ZkKtR_ynwkYwzbnr8uIm-8meuEVn7cRAbo0Dux5JgHyYaB4CwGYeheSJSe1QbZy55GGLjDDlewqUbzRWpywXaupWuzuPFV3nZfxAqKbA36HtsAPtORREA8NJaPnplV3Fs2UkUVd24CVWAI0sd6DN57I5ZBKEhgWHIqq5tyq_3SWJbHd-PxqlSyg98s-wlkCXV09QYGrvC9xGh8ZeLfzmfF05_g/\" type=\"text/javascript\"></script>\n",
       "</body>\n",
       "</html>"
      ]
     },
     "execution_count": 71,
     "metadata": {},
     "output_type": "execute_result"
    }
   ],
   "source": [
    "test_start_url = 'https://www.azlyrics.com'\n",
    "# print(test_start_url)\n",
    "test_album = album_dict['Well Done 4']\n",
    "test_end_url = test_album['Bang Out']\n",
    "# print(test_end_url)\n",
    "test_url = test_start_url + test_end_url\n",
    "print(test_url)\n",
    "# test_resp = requests.get(test_url)\n",
    "print(f'Starting Response: {test_resp}')\n",
    "test_soup = BeautifulSoup(test_resp.text, 'html.parser')\n",
    "test_soup"
   ]
  },
  {
   "cell_type": "code",
   "execution_count": 72,
   "metadata": {
    "ExecuteTime": {
     "end_time": "2020-10-13T02:58:27.994061Z",
     "start_time": "2020-10-13T02:58:27.973251Z"
    }
   },
   "outputs": [
    {
     "data": {
      "text/plain": [
       "[<div id=\"RTK_67Y3\"></div>, <div>\n",
       " <!-- Usage of azlyrics.com content by any third-party lyrics provider is prohibited by our licensing agreement. Sorry about that. -->\n",
       " <i>[Verse 1: Tyga]</i><br/>\n",
       " Hold up, money talk so you know what?<br/>\n",
       " Ainât nothing to talk about, you ainât got enough cuz<br/>\n",
       " Rock star drugs break a bitch heart, no love<br/>\n",
       " Emma Watts, Charlie Sheen, fuckin with no scrub<br/>\n",
       " Niggas want connects, got no plugs<br/>\n",
       " Nigga say they high, got no buzz<br/>\n",
       " Popsicle niggas wanna talk shit then say you froze up<br/>\n",
       " Young niggas wanna pop pills, just po up<br/>\n",
       " Went on a bang, Went on a bang<br/>\n",
       " Bitches came for me and my nigga eazy<br/>\n",
       " Threw that bitch out, got that ho one way<br/>\n",
       " Said she tryna stay, told that bitch no way<br/>\n",
       " Thatâs a preme nigga, B ripper, grim reaper<br/>\n",
       " I donât get mad bitch, I just get even<br/>\n",
       " T-Raw magician, I donât gotta trick or treat it<br/>\n",
       " That Ferrari California make a bitch a believer<br/>\n",
       " <br/>\n",
       " <i>[Hook]</i><br/>\n",
       " Million dollarsâ worth of cars, all paid out<br/>\n",
       " See you niggas hatin, had to pull my chains out<br/>\n",
       " Make it rain even when itâs rained out<br/>\n",
       " Turn up, bang out<br/>\n",
       " Bang out, bang out<br/>\n",
       " Turn up, b-bang out<br/>\n",
       " Million dollarsâ worth of cars, all paid out<br/>\n",
       " See you niggas hatin, had to pull my chains out<br/>\n",
       " <br/>\n",
       " <i>[Verse 2: Tyga]</i><br/>\n",
       " Met a bitch last night, wonât believe it<br/>\n",
       " Fuck her so hard, bitch probably stopped breathing<br/>\n",
       " Killed the pussy, in the hotel screamin<br/>\n",
       " Knock knock, going in like the housekeeper<br/>\n",
       " The room, keep it<br/>\n",
       " I fucked now I donât need it<br/>\n",
       " T-Raw semen splattered on a bitch beaver<br/>\n",
       " Pipe dreamin, fuckin with a real baller<br/>\n",
       " The bitch is a bitch so Iâm gon call er<br/>\n",
       " Then they act up, call the backup<br/>\n",
       " Donât matter, as if she ever mattered<br/>\n",
       " Bitch shut up, throw it up, I throw the set up<br/>\n",
       " Tell her sit up, got her face down, bitch donât put yo head up<br/>\n",
       " Yea, bitin on er ear<br/>\n",
       " Got a old bitch, pussy like souvenir<br/>\n",
       " I hop up in it, nigga I ainât never scared<br/>\n",
       " Closet full of straps and the condom right here<br/>\n",
       " What I got?<br/>\n",
       " <br/>\n",
       " <i>[Hook]</i><br/>\n",
       " Million dollarsâ worth of cars, all paid out<br/>\n",
       " See you niggas hatin, had to pull my chains out<br/>\n",
       " Make it rain even when itâs rained out<br/>\n",
       " Turn up, bang out<br/>\n",
       " Bang out, bang out<br/>\n",
       " Turn up, b-bang out<br/>\n",
       " Million dollarsâ worth of cars, all paid out<br/>\n",
       " See you niggas hatin, had to pull my chains out<br/>\n",
       " <br/>\n",
       " <i>[Verse 3: Eazy-E]</i><br/>\n",
       " Beef on the street, to the beach I be rollin<br/>\n",
       " Never see me strollin, 40âs I be holdin<br/>\n",
       " Girls in the daisies, drive easy crazy<br/>\n",
       " Rolled up my windows as I turned on my AC<br/>\n",
       " Rollin down Crenshaw, see the hoes jockin<br/>\n",
       " Sunday nights poppin, see the foes hoppin<br/>\n",
       " My stereoâs bumpin that ATL funk<br/>\n",
       " You can call it what you want<br/>\n",
       " Either way the shit bump<br/>\n",
       " Iâm a evil motherfucker ready to tear shit up<br/>\n",
       " Iâmma put these things on you and never let up<br/>\n",
       " See my mama, she was home when I was born<br/>\n",
       " Bet a nigga like to eat shit than never been born<br/>\n",
       " But I ainât going out unless 30 niggas die<br/>\n",
       " Iâm dyin anyway so Iâm thinkin suicide<br/>\n",
       " Shut the fuck up nigga cuz you ainât seen shit<br/>\n",
       " Iâm bout to take this blade and straight up rip<br/>\n",
       " <br/>\n",
       " <i>[Outro: Ice Cube]</i><br/>\n",
       " A bitch is a bitch<br/>\n",
       " So if Iâm poor or rich<br/>\n",
       " I talk in the exact same pitch<br/>\n",
       " Now the title of bitch donât apply to all women<br/>\n",
       " But all women have a little bitch in em\n",
       " </div>, <div id=\"RTK_yc1Z\"></div>, <div id=\"RTK_W2xH\"></div>]"
      ]
     },
     "execution_count": 72,
     "metadata": {},
     "output_type": "execute_result"
    }
   ],
   "source": [
    "test_soup.findAll('div', attrs={'class': None})"
   ]
  },
  {
   "cell_type": "markdown",
   "metadata": {},
   "source": [
    "#### Link Saving"
   ]
  },
  {
   "cell_type": "code",
   "execution_count": 17,
   "metadata": {
    "ExecuteTime": {
     "end_time": "2020-10-13T02:11:15.018966Z",
     "start_time": "2020-10-13T02:11:14.998899Z"
    }
   },
   "outputs": [],
   "source": [
    "#### WRITING ####\n",
    "# with open('Pickles/album_dict.pickle', 'wb') as f:\n",
    "#     pickle.dump(album_dict, f)\n",
    "#     f.close()\n",
    "\n",
    "#### READING ####\n",
    "with open('Pickles/album_dict.pickle', 'rb') as f:\n",
    "    album_dict = pickle.load(f)\n",
    "    f.close()"
   ]
  }
 ],
 "metadata": {
  "kernelspec": {
   "display_name": "Python 3",
   "language": "python",
   "name": "python3"
  },
  "language_info": {
   "codemirror_mode": {
    "name": "ipython",
    "version": 3
   },
   "file_extension": ".py",
   "mimetype": "text/x-python",
   "name": "python",
   "nbconvert_exporter": "python",
   "pygments_lexer": "ipython3",
   "version": "3.6.6"
  },
  "toc": {
   "base_numbering": 1,
   "nav_menu": {},
   "number_sections": true,
   "sideBar": true,
   "skip_h1_title": false,
   "title_cell": "Table of Contents",
   "title_sidebar": "Contents",
   "toc_cell": false,
   "toc_position": {},
   "toc_section_display": true,
   "toc_window_display": false
  },
  "varInspector": {
   "cols": {
    "lenName": 16,
    "lenType": 16,
    "lenVar": 40
   },
   "kernels_config": {
    "python": {
     "delete_cmd_postfix": "",
     "delete_cmd_prefix": "del ",
     "library": "var_list.py",
     "varRefreshCmd": "print(var_dic_list())"
    },
    "r": {
     "delete_cmd_postfix": ") ",
     "delete_cmd_prefix": "rm(",
     "library": "var_list.r",
     "varRefreshCmd": "cat(var_dic_list()) "
    }
   },
   "types_to_exclude": [
    "module",
    "function",
    "builtin_function_or_method",
    "instance",
    "_Feature"
   ],
   "window_display": false
  }
 },
 "nbformat": 4,
 "nbformat_minor": 2
}
