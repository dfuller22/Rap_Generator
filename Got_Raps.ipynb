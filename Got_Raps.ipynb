{
 "cells": [
  {
   "cell_type": "markdown",
   "metadata": {},
   "source": [
    "# Got Raps?"
   ]
  },
  {
   "cell_type": "markdown",
   "metadata": {},
   "source": [
    "## Background"
   ]
  },
  {
   "cell_type": "markdown",
   "metadata": {},
   "source": [
    "I am someone who *loves* to music. One of my favorite genres to listen to is hip-hop/rap because of, in some cases, the focus on lyricism. \n",
    "\n",
    "In recent years, there has been less of a focus in this regard, leading some fans of \"true hip-hop\" to look down upon the musicians currently in the spotlight. Part of the criticism of modern rap is how forgettable the lyrics and songs are due to their simplistic nature. \n",
    "\n",
    "While learning about *recurrent neural networks* (RNNs)I came across a [video](https://www.youtube.com/watch?v=ZMudJXhsUpY) by Laurence Moroney explaining how AI can be used to generate poetry after training upon a corpus of Irish poems. This sparked an idea to try and do the same with a modern song lyrics. I specifically decided to choose rap because of my familiarity with the genre and thinking that the songs may have more words since the artists are not singing (most of the time).\n",
    "\n",
    "I will be scraping lyrics from [azlyrics](https://www.azlyrics.com/t/tyga.html) using BeautifulSoup and Keras to create my RNN.\n",
    "\n",
    "supplemental site https://www.allthelyrics.com/lyrics/tyga\n",
    "alternative https://www.lyricsbox.com/tyga-lyrics-hdgvd.html"
   ]
  },
  {
   "cell_type": "markdown",
   "metadata": {},
   "source": [
    "## Imports"
   ]
  },
  {
   "cell_type": "code",
   "execution_count": 41,
   "metadata": {
    "ExecuteTime": {
     "end_time": "2020-12-03T04:20:39.642190Z",
     "start_time": "2020-12-03T04:20:39.626839Z"
    }
   },
   "outputs": [],
   "source": [
    "import requests\n",
    "import regex\n",
    "import pickle\n",
    "import time\n",
    "import pandas as pd\n",
    "import numpy as np\n",
    "import seaborn as sns\n",
    "import matplotlib.pyplot as plt\n",
    "import functions as dlf\n",
    "from bs4 import BeautifulSoup\n",
    "from nltk import word_tokenize, FreqDist\n",
    "from importlib import reload"
   ]
  },
  {
   "cell_type": "code",
   "execution_count": 2,
   "metadata": {
    "ExecuteTime": {
     "end_time": "2020-12-03T02:36:30.029348Z",
     "start_time": "2020-12-03T02:36:30.006197Z"
    },
    "code_folding": [
     0
    ],
    "scrolled": false
   },
   "outputs": [],
   "source": [
    "def lyric_header_checker(dict_, display_multi=True, sort=True):\n",
    "\n",
    "    tag_ = 'Tag'\n",
    "    nav_str_ = 'NavigableString'\n",
    "    tag_res = {}\n",
    "\n",
    "    for key in dict_:\n",
    "        song = dict_[key]\n",
    "\n",
    "        for lyric in song:\n",
    "            type_ = type(lyric)\n",
    "\n",
    "            if type_.__name__ == nav_str_:\n",
    "                continue\n",
    "\n",
    "            reg_res = regex.findall(r'\\[.+\\]', lyric.text)\n",
    "\n",
    "            if len(reg_res) == 1:\n",
    "                item = reg_res.pop()\n",
    "\n",
    "                try:\n",
    "                    tag_res[item] += 1\n",
    "                except:\n",
    "                    tag_res[item] = 1\n",
    "\n",
    "            elif len(reg_res) > 1:\n",
    "                if display_multi:\n",
    "                    print('--'*10)\n",
    "                    print(reg_res)\n",
    "\n",
    "            else:\n",
    "                continue\n",
    "    \n",
    "    if sort:\n",
    "        fin_res = {k: v for k, v in sorted(tag_res.items(),\n",
    "                                           key=lambda item:item[1],\n",
    "                                           reverse=True)}\n",
    "        return fin_res"
   ]
  },
  {
   "cell_type": "code",
   "execution_count": 3,
   "metadata": {
    "ExecuteTime": {
     "end_time": "2020-12-03T02:36:30.079629Z",
     "start_time": "2020-12-03T02:36:30.067106Z"
    },
    "code_folding": [
     0
    ]
   },
   "outputs": [],
   "source": [
    "def lyric_header_filter(dict_, to_drop, display_multi=True, sort=True):\n",
    "\n",
    "    tag_ = 'Tag'\n",
    "    nav_str_ = 'NavigableString'\n",
    "    tag_res = {}\n",
    "\n",
    "    for key in dict_:\n",
    "        song = dict_[key]\n",
    "        lyric_holder = []\n",
    "\n",
    "        for lyric in song:\n",
    "            type_ = type(lyric)\n",
    "\n",
    "            if type_.__name__ == nav_str_:\n",
    "                continue\n",
    "\n",
    "            reg_res = regex.findall(r'\\[.+\\]', lyric.text)\n",
    "\n",
    "            if len(reg_res) == 1:\n",
    "                item = reg_res.pop()\n",
    "                \n",
    "                if item in to_drop:\n",
    "                    pass\n",
    "                else:\n",
    "                    lyric_holder.append(lyric.text)\n",
    "\n",
    "            elif len(reg_res) > 1:\n",
    "                if display_multi:\n",
    "                    print('--'*10)\n",
    "                    print(reg_res)\n",
    "                \n",
    "                for item in reg_res:\n",
    "                    if item in to_drop:\n",
    "                        pass\n",
    "                    else:\n",
    "                        lyric_holder.append(lyric.text)                    \n",
    "\n",
    "            else:\n",
    "                lyric_holder.append(lyric.text)\n",
    "                \n",
    "        tag_res[key] = lyric_holder\n",
    "    \n",
    "    if sort:\n",
    "        fin_res = {k: v for k, v in sorted(tag_res.items(),\n",
    "                                           key=lambda item:item[1],\n",
    "                                           reverse=True)}\n",
    "        return fin_res"
   ]
  },
  {
   "cell_type": "code",
   "execution_count": 4,
   "metadata": {
    "ExecuteTime": {
     "end_time": "2020-12-03T02:36:30.130430Z",
     "start_time": "2020-12-03T02:36:30.115613Z"
    },
    "code_folding": [
     0
    ]
   },
   "outputs": [],
   "source": [
    "def lyric_line_splitter(lyric_dict):\n",
    "    ## Results container\n",
    "    result_dict = {}\n",
    "    \n",
    "    ## Iterate through each song\n",
    "    for song_title in lyric_dict:\n",
    "        ## Store copied lyrics in variable + set merge container\n",
    "        song = lyric_dict[song_title].copy()\n",
    "        song_merged = []\n",
    "        \n",
    "        ## Iterate through each grouping of lyrics + merge split results\n",
    "        for lyric in song:\n",
    "            song_merged.extend(lyric.splitlines())\n",
    "            \n",
    "        ## Store list of merged lyrics\n",
    "        result_dict[song_title] = song_merged\n",
    "        \n",
    "    return result_dict"
   ]
  },
  {
   "cell_type": "code",
   "execution_count": 5,
   "metadata": {
    "ExecuteTime": {
     "end_time": "2020-12-03T02:36:30.185432Z",
     "start_time": "2020-12-03T02:36:30.167646Z"
    },
    "code_folding": [
     0,
     12
    ]
   },
   "outputs": [],
   "source": [
    "def clean_song(list_of_lyrics):\n",
    "    #import regex\n",
    "    \n",
    "    cleaned = []\n",
    "    for line in list_of_lyrics:\n",
    "        \n",
    "        if not '[' in line and not ']' in line:\n",
    "            clean_line = regex.sub(r'[^\\w\\s]', '', line)\n",
    "            cleaned.append(clean_line.lower())\n",
    "            \n",
    "    return cleaned\n",
    "\n",
    "def song_cleaner(dict_of_songs):\n",
    "    \n",
    "    results = {}\n",
    "    \n",
    "    for song_title in dict_of_songs:\n",
    "        song_raw = dict_of_songs[song_title].copy()\n",
    "        results[song_title] = clean_song(song_raw)\n",
    "        \n",
    "    return results"
   ]
  },
  {
   "cell_type": "code",
   "execution_count": 6,
   "metadata": {
    "ExecuteTime": {
     "end_time": "2020-12-03T02:36:30.233621Z",
     "start_time": "2020-12-03T02:36:30.220466Z"
    },
    "code_folding": [
     0,
     7
    ]
   },
   "outputs": [],
   "source": [
    "def tokenize_lyrics(list_of_lyrics):\n",
    "    #from nltk import word_tokenize\n",
    "    lyrics_joined = ' '.join(list_of_lyrics)\n",
    "    lyrics_tokens = word_tokenize(lyrics_joined)\n",
    "    \n",
    "    return lyrics_tokens\n",
    "\n",
    "def lyric_tokenizer(dict_of_songs):\n",
    "    \n",
    "    results = {}\n",
    "    \n",
    "    for song_title in dict_of_songs:\n",
    "        lyrics_raw = dict_of_songs[song_title].copy()\n",
    "        lyrics_tokens = tokenize_lyrics(lyrics_raw)\n",
    "        results[song_title] = lyrics_tokens\n",
    "        \n",
    "    return results"
   ]
  },
  {
   "cell_type": "code",
   "execution_count": 27,
   "metadata": {
    "ExecuteTime": {
     "end_time": "2020-11-02T03:54:08.097141Z",
     "start_time": "2020-11-02T03:54:08.066224Z"
    }
   },
   "outputs": [
    {
     "data": {
      "text/plain": [
       "<module 'functions' from 'C:\\\\Users\\\\d_ful\\\\Documents\\\\GitHub\\\\Rap_Generator\\\\functions.py'>"
      ]
     },
     "execution_count": 27,
     "metadata": {},
     "output_type": "execute_result"
    }
   ],
   "source": [
    "reload(dlf)"
   ]
  },
  {
   "cell_type": "code",
   "execution_count": 7,
   "metadata": {
    "ExecuteTime": {
     "end_time": "2020-12-03T02:36:34.936644Z",
     "start_time": "2020-12-03T02:36:32.660743Z"
    }
   },
   "outputs": [],
   "source": [
    "#### WRITING ATLs ####\n",
    "# with open('Pickles/song_dict.pickle', 'wb') as f:\n",
    "#     pickle.dump(song_dict, f)\n",
    "#     f.close()\n",
    "\n",
    "#### READING ATLs ####\n",
    "with open('Pickles/song_dict.pickle', 'rb') as f:\n",
    "    song_dict = pickle.load(f)\n",
    "    f.close()\n",
    "del song_dict['B.M.F.']\n",
    "\n",
    "#### WRITING AZLYRICS ####\n",
    "# with open('Pickles/album_dict.pickle', 'wb') as f:\n",
    "#     pickle.dump(album_dict, f)\n",
    "#     f.close()\n",
    "\n",
    "#### READING AZLYRICS ####\n",
    "# with open('Pickles/album_dict.pickle', 'rb') as f:\n",
    "#     album_dict = pickle.load(f)\n",
    "#     f.close()"
   ]
  },
  {
   "cell_type": "markdown",
   "metadata": {},
   "source": [
    "## Getting Soupy"
   ]
  },
  {
   "cell_type": "markdown",
   "metadata": {
    "heading_collapsed": true
   },
   "source": [
    "#### Connecting"
   ]
  },
  {
   "cell_type": "code",
   "execution_count": 2,
   "metadata": {
    "ExecuteTime": {
     "end_time": "2020-10-28T02:02:21.865480Z",
     "start_time": "2020-10-28T02:02:20.699429Z"
    },
    "hidden": true,
    "scrolled": true
   },
   "outputs": [
    {
     "name": "stdout",
     "output_type": "stream",
     "text": [
      "Starting Response: <Response [200]>\n"
     ]
    }
   ],
   "source": [
    "## Starting page + Q.C. of response\n",
    "# start_url = 'https://www.azlyrics.com/t/tyga.html'  ## Banned\n",
    "# start_url = 'https://www.lyricsbox.com/tyga-lyrics-hdgvd.html' ## Doesn't work\n",
    "start_url = 'https://www.allthelyrics.com/lyrics/tyga'\n",
    "start_resp = requests.get(start_url)\n",
    "print(f'Starting Response: {start_resp}')"
   ]
  },
  {
   "cell_type": "markdown",
   "metadata": {
    "heading_collapsed": true
   },
   "source": [
    "#### Main Page Soup"
   ]
  },
  {
   "cell_type": "code",
   "execution_count": 3,
   "metadata": {
    "ExecuteTime": {
     "end_time": "2020-10-28T02:02:25.593995Z",
     "start_time": "2020-10-28T02:02:25.373118Z"
    },
    "code_folding": [],
    "hidden": true,
    "scrolled": false
   },
   "outputs": [
    {
     "name": "stdout",
     "output_type": "stream",
     "text": [
      "            TYGA lyrics: 'Never Be The Same', 'Hookah (feat. Young Thug)', 'Riot (feat. Honey Cocaine)', 'Make It Nasty', 'We Up'\n",
      "              </div>\n",
      "              <div class=\"content-top-lyricspopular\">\n",
      "               <div class=\"artist-lyrics-list artist-lyrics-list-popular\">\n",
      "                <h2 class=\"artist-lyrics-list-h2\">\n",
      "                 Top 5 songs\n",
      "                </h2>\n",
      "                <ol>\n",
      "                 <li class=\"lyrics-list-item lyrics-list-item-1737736\">\n",
      "                  <a href=\"/lyrics/tyga-never_be_the_same\">\n",
      "                   Never Be The Same\n",
      "                  </a>\n",
      "     \n"
     ]
    }
   ],
   "source": [
    "## Creating soup + Q.C.\n",
    "start_soup = BeautifulSoup(start_resp.text, 'html.parser')\n",
    "print(start_soup.prettify()[13900:14500])"
   ]
  },
  {
   "cell_type": "markdown",
   "metadata": {
    "heading_collapsed": true
   },
   "source": [
    "#### Collecting Song Links + Names"
   ]
  },
  {
   "cell_type": "code",
   "execution_count": null,
   "metadata": {
    "ExecuteTime": {
     "end_time": "2020-10-28T02:02:31.219333Z",
     "start_time": "2020-10-28T02:02:31.199861Z"
    },
    "hidden": true
   },
   "outputs": [],
   "source": [
    "## Create container for names/links + find links ('a') in soup\n",
    "song_dict = {}\n",
    "link_list = start_soup.findAll('a')\n",
    "\n",
    "## Select and store links to Tyga songs\n",
    "for a in link_list:\n",
    "    if '/lyrics/tyga-' in a['href']:\n",
    "        song_dict[a.text] = a['href']\n",
    "\n",
    "## Q.C.\n",
    "display(song_dict)"
   ]
  },
  {
   "cell_type": "code",
   "execution_count": 3,
   "metadata": {
    "ExecuteTime": {
     "end_time": "2020-11-05T23:58:48.135005Z",
     "start_time": "2020-11-05T23:58:48.119631Z"
    },
    "hidden": true,
    "scrolled": true
   },
   "outputs": [],
   "source": [
    "## Create iterable with song names for operations\n",
    "song_names = list(song_dict.keys())"
   ]
  },
  {
   "cell_type": "markdown",
   "metadata": {
    "heading_collapsed": true
   },
   "source": [
    "#### Collecting Lyrics - Test"
   ]
  },
  {
   "cell_type": "code",
   "execution_count": 4,
   "metadata": {
    "ExecuteTime": {
     "end_time": "2020-10-31T21:23:10.588480Z",
     "start_time": "2020-10-31T21:23:09.522620Z"
    },
    "hidden": true,
    "scrolled": false
   },
   "outputs": [
    {
     "name": "stdout",
     "output_type": "stream",
     "text": [
      "Example of target 'div' and section names:\n",
      "\n",
      "       <div class=\"content-text-inner\">\n",
      "              <p>\n",
      "               [Hook x4 - Young Thug:]\n",
      "    \n",
      "\t...\n",
      "               [Verse 2 - Tyga:]\n",
      "               <br/>\n",
      "               Rubbin on my chain blowing cloudmatic\n",
      "               <br/>\n",
      "               Smoke something with a G and bend \n"
     ]
    }
   ],
   "source": [
    "#### Testing strategy for lyric removal ####\n",
    "\n",
    "## Join strings to create full song URL\n",
    "end_url = song_dict['Hookah (feat. Young Thug)']\n",
    "start_url = 'https://www.allthelyrics.com'\n",
    "full_url = start_url + end_url\n",
    "\n",
    "## Generating soup\n",
    "# song_resp = requests.get(full_url)\n",
    "song_soup = BeautifulSoup(song_resp.text, 'html.parser')\n",
    "\n",
    "## Q.C. + HTML structure info\n",
    "print(\"Example of target 'div' and section names:\\n\")\n",
    "print(song_soup.prettify()[12110:12210], '\\n\\t...')\n",
    "print(song_soup.prettify()[13823:14000])\n",
    "\n",
    "## Collect lyrics 'div' from song soup as a bs4 tag + store in song dict\n",
    "lyrics = song_soup.findAll('div', attrs={'class': 'content-text-inner'}).pop()\n",
    "\n",
    "song_dict['Hookah (feat. Young Thug)'] = lyrics"
   ]
  },
  {
   "cell_type": "markdown",
   "metadata": {
    "heading_collapsed": true
   },
   "source": [
    "#### Collecting Lyrics"
   ]
  },
  {
   "cell_type": "code",
   "execution_count": 29,
   "metadata": {
    "ExecuteTime": {
     "end_time": "2020-11-06T02:37:42.951918Z",
     "start_time": "2020-11-06T02:34:23.897821Z"
    },
    "hidden": true,
    "scrolled": false
   },
   "outputs": [
    {
     "name": "stdout",
     "output_type": "stream",
     "text": [
      "----------------------------------------\n",
      "Song to be scraped: B.M.F.\n",
      "Something wrong with link for B.M.F.\n",
      "----------------------------------------\n",
      "Song to be scraped: Young Kobe\n",
      "Sleeping 196.45 seconds...\n",
      "Ding!\n",
      "----------------------------------------\n",
      "Total number of songs skipped: 181\n"
     ]
    }
   ],
   "source": [
    "## Iteratively scrape 5 songs at a time\n",
    "dlf.song_scraper(song_dict, song_names, limit=5, verbose=False)"
   ]
  },
  {
   "cell_type": "code",
   "execution_count": 30,
   "metadata": {
    "ExecuteTime": {
     "end_time": "2020-11-06T02:39:01.820364Z",
     "start_time": "2020-11-06T02:39:01.803790Z"
    },
    "hidden": true
   },
   "outputs": [
    {
     "data": {
      "text/plain": [
       "{'tag': 182, 'string': 1}"
      ]
     },
     "execution_count": 30,
     "metadata": {},
     "output_type": "execute_result"
    }
   ],
   "source": [
    "## Get update on how many songs scraped successfully\n",
    "dlf.song_scraping_stats(song_dict)"
   ]
  },
  {
   "cell_type": "markdown",
   "metadata": {
    "hidden": true
   },
   "source": [
    "> For ease, I am going to remove the 'B.M.F' song from this dictionary so that I can easily make a function for the entire dictionary. "
   ]
  },
  {
   "cell_type": "code",
   "execution_count": 32,
   "metadata": {
    "ExecuteTime": {
     "end_time": "2020-11-06T02:55:47.397913Z",
     "start_time": "2020-11-06T02:55:47.381282Z"
    },
    "hidden": true
   },
   "outputs": [
    {
     "data": {
      "text/plain": [
       "'/lyrics/tyga-b.m.f.'"
      ]
     },
     "execution_count": 32,
     "metadata": {},
     "output_type": "execute_result"
    }
   ],
   "source": [
    "## Removing the broken link\n",
    "song_dict.pop('B.M.F.', None)"
   ]
  },
  {
   "cell_type": "markdown",
   "metadata": {},
   "source": [
    "## Lyric Conversion"
   ]
  },
  {
   "cell_type": "markdown",
   "metadata": {},
   "source": [
    "Before I get into the removal of non-Tyga lyrics, I want to first get them represented as a string (or strings) in hopes of making the code simpler. This is because as-is there are two different types of BeautifulSoup elements in the lyrics: `<class 'bs4.element.NavigableString'>` and `<class 'bs4.element.Tag'>`; the latter containing a .text attribute while the former does not."
   ]
  },
  {
   "cell_type": "markdown",
   "metadata": {},
   "source": [
    "## Lyric Filtering"
   ]
  },
  {
   "cell_type": "code",
   "execution_count": 8,
   "metadata": {
    "ExecuteTime": {
     "end_time": "2020-12-03T02:36:41.831847Z",
     "start_time": "2020-12-03T02:36:41.820482Z"
    },
    "code_folding": [],
    "scrolled": true
   },
   "outputs": [],
   "source": [
    "## Setting containers for titles\n",
    "songs_with_ft = []\n",
    "songs_solo = []\n",
    "\n",
    "## Separate and store song titles\n",
    "for key in song_dict:\n",
    "    if ('(feat.' in key) | ('(with' in key):\n",
    "        songs_with_ft.append(key)\n",
    "    else:\n",
    "        songs_solo.append(key)\n",
    "\n",
    "## Optional Q.C.\n",
    "# for title in songs_with_ft:\n",
    "#     title_res = regex.findall(r'\\((feat..+|with.+)\\)', title)\n",
    "#     print(title_res)"
   ]
  },
  {
   "cell_type": "code",
   "execution_count": 9,
   "metadata": {
    "ExecuteTime": {
     "end_time": "2020-12-03T02:36:45.110034Z",
     "start_time": "2020-12-03T02:36:44.990790Z"
    },
    "scrolled": true
   },
   "outputs": [
    {
     "data": {
      "text/plain": [
       "'[Verse 1]\\nLooking at the ceiling thinking why I treat you bad\\nAin’t no worser feelings than knowing I did it for the last\\nArguing, all I was doing accusing you, my bad\\nSaid “Let’s take some time”, nevermind, rewind\\nLooking at the ceiling thinking why I treat you bad\\nAin’t no worser feelings than knowing I did it for the last\\nArguing, all I was doing accusing you, my bad\\nSaid “Let’s take some time”, nevermind, just playing with your mind\\nI always thought “play dumb”, and let the other one love\\nWhy? Get caught up in nowhere but trust\\nOnly love for fun, I’m too young, I thought\\nAll I wanted was a thanks to Louboutins I bought\\nBut it ain’t your fault; heaven knows you deserve it all\\nYou sent letters to my heart, but I burned them all\\nThe Bible says before you run, gotta learn to crawl\\nBut I don’t wanna waste time if we ain’t involved'"
      ]
     },
     "execution_count": 9,
     "metadata": {},
     "output_type": "execute_result"
    }
   ],
   "source": [
    "## Container for lyrics\n",
    "dict_no_ft = {}\n",
    "\n",
    "## Storing lyrics of selected songs from main dict\n",
    "for title in songs_solo:\n",
    "    ## T/E display for handling edge cases\n",
    "    try:\n",
    "        dict_no_ft[title] = song_dict[title]\n",
    "    except:\n",
    "        print(title)\n",
    "\n",
    "## Collecting ordered list of all lyric headers\n",
    "no_feat_headers = lyric_header_checker(dict_no_ft, display_multi=False)\n",
    "\n",
    "## Targeting droppable headers learned from 'no_feat_headers'\n",
    "drop_headers = ['[Chorus: Patty Cash]', '[Chorus: Patrick Stump]', '[Birdman]',\n",
    "                '[Outro: Tyga’s Mother]', '[Outro: Martin Luther King Jr.]',\n",
    "                '[Verse 2: 2Chainz]', '[Patrick Stump:]',\n",
    "                '[Chorus x2: Patrick Stump]', '[Gator:]', '[Hook: Quavo]',\n",
    "                '[Intro: DJ Drama talking]']\n",
    "\n",
    "## Filtering\n",
    "filtered_lyrics = lyric_header_filter(dict_no_ft, drop_headers, display_multi=False)\n",
    "\n",
    "## Q.C.\n",
    "filtered_lyrics['Do It All'][0]"
   ]
  },
  {
   "cell_type": "code",
   "execution_count": 10,
   "metadata": {
    "ExecuteTime": {
     "end_time": "2020-12-03T02:36:47.577951Z",
     "start_time": "2020-12-03T02:36:47.556855Z"
    }
   },
   "outputs": [
    {
     "data": {
      "text/plain": [
       "['[Verse 1]',\n",
       " 'Looking at the ceiling thinking why I treat you bad',\n",
       " 'Ain’t no worser feelings than knowing I did it for the last',\n",
       " 'Arguing, all I was doing accusing you, my bad',\n",
       " 'Said “Let’s take some time”, nevermind, rewind',\n",
       " 'Looking at the ceiling thinking why I treat you bad',\n",
       " 'Ain’t no worser feelings than knowing I did it for the last',\n",
       " 'Arguing, all I was doing accusing you, my bad',\n",
       " 'Said “Let’s take some time”, nevermind, just playing with your mind',\n",
       " 'I always thought “play dumb”, and let the other one love',\n",
       " 'Why? Get caught up in nowhere but trust',\n",
       " 'Only love for fun, I’m too young, I thought',\n",
       " 'All I wanted was a thanks to Louboutins I bought',\n",
       " 'But it ain’t your fault; heaven knows you deserve it all',\n",
       " 'You sent letters to my heart, but I burned them all',\n",
       " 'The Bible says before you run, gotta learn to crawl',\n",
       " 'But I don’t wanna waste time if we ain’t involved']"
      ]
     },
     "execution_count": 10,
     "metadata": {},
     "output_type": "execute_result"
    }
   ],
   "source": [
    "## Merging lyrics + Q.C.\n",
    "merged_lyrics = lyric_line_splitter(filtered_lyrics)\n",
    "merged_lyrics['Do It All'][0:17]"
   ]
  },
  {
   "cell_type": "code",
   "execution_count": 11,
   "metadata": {
    "ExecuteTime": {
     "end_time": "2020-12-03T02:36:49.631771Z",
     "start_time": "2020-12-03T02:36:49.522716Z"
    },
    "scrolled": true
   },
   "outputs": [
    {
     "data": {
      "text/plain": [
       "['looking at the ceiling thinking why i treat you bad',\n",
       " 'aint no worser feelings than knowing i did it for the last',\n",
       " 'arguing all i was doing accusing you my bad',\n",
       " 'said lets take some time nevermind rewind',\n",
       " 'looking at the ceiling thinking why i treat you bad',\n",
       " 'aint no worser feelings than knowing i did it for the last',\n",
       " 'arguing all i was doing accusing you my bad',\n",
       " 'said lets take some time nevermind just playing with your mind',\n",
       " 'i always thought play dumb and let the other one love',\n",
       " 'why get caught up in nowhere but trust',\n",
       " 'only love for fun im too young i thought',\n",
       " 'all i wanted was a thanks to louboutins i bought',\n",
       " 'but it aint your fault heaven knows you deserve it all',\n",
       " 'you sent letters to my heart but i burned them all',\n",
       " 'the bible says before you run gotta learn to crawl',\n",
       " 'but i dont wanna waste time if we aint involved']"
      ]
     },
     "execution_count": 11,
     "metadata": {},
     "output_type": "execute_result"
    }
   ],
   "source": [
    "## Cleaning punctuation/headers + lowering strings + Q.C.\n",
    "cleaned_lyrics = song_cleaner(merged_lyrics)\n",
    "cleaned_lyrics['Do It All'][0:16]"
   ]
  },
  {
   "cell_type": "code",
   "execution_count": 12,
   "metadata": {
    "ExecuteTime": {
     "end_time": "2020-12-03T02:36:52.023857Z",
     "start_time": "2020-12-03T02:36:51.428068Z"
    }
   },
   "outputs": [
    {
     "data": {
      "text/plain": [
       "['looking',\n",
       " 'at',\n",
       " 'the',\n",
       " 'ceiling',\n",
       " 'thinking',\n",
       " 'why',\n",
       " 'i',\n",
       " 'treat',\n",
       " 'you',\n",
       " 'bad',\n",
       " 'aint',\n",
       " 'no',\n",
       " 'worser',\n",
       " 'feelings',\n",
       " 'than',\n",
       " 'knowing']"
      ]
     },
     "execution_count": 12,
     "metadata": {},
     "output_type": "execute_result"
    }
   ],
   "source": [
    "## Tokenizing lyrics\n",
    "tokenized_lyrics = lyric_tokenizer(cleaned_lyrics)\n",
    "tokenized_lyrics['Do It All'][0:16]"
   ]
  },
  {
   "cell_type": "markdown",
   "metadata": {},
   "source": [
    "Check out word freq dist's!"
   ]
  },
  {
   "cell_type": "code",
   "execution_count": 60,
   "metadata": {
    "ExecuteTime": {
     "end_time": "2020-12-03T04:35:37.046618Z",
     "start_time": "2020-12-03T04:35:37.036842Z"
    }
   },
   "outputs": [],
   "source": [
    "test_fdist = pd.Series(dict(FreqDist(tokenized_lyrics['Rack City (Single Version)'])))"
   ]
  },
  {
   "cell_type": "code",
   "execution_count": 48,
   "metadata": {
    "ExecuteTime": {
     "end_time": "2020-12-03T04:25:54.478872Z",
     "start_time": "2020-12-03T04:25:54.469213Z"
    }
   },
   "outputs": [
    {
     "data": {
      "text/plain": [
       "array([35, 20, 35,  1,  5,  8,  1,  1, 27,  9,  1,  1,  1,  1,  1,  2,  1,\n",
       "        1,  1,  5,  2,  3,  1,  3,  2,  5,  8,  2,  2,  1,  3,  2,  3,  1,\n",
       "        2,  5,  1,  5,  1,  2,  1,  1,  1,  1,  4,  2,  1,  1,  1,  1,  1,\n",
       "        1,  1,  2,  3,  2,  1,  1,  1,  1,  1,  2,  1,  2,  2,  8,  8,  8,\n",
       "        2,  2,  1,  2,  1,  2,  1,  1,  1,  1,  1,  1,  1,  2,  1,  1,  1,\n",
       "        1,  2,  1,  1,  3,  1,  1,  1,  1,  1,  1,  1,  1,  1,  1,  1,  1,\n",
       "        2,  1,  2,  1,  1,  1,  1,  1,  1,  1,  1,  2,  1,  1,  1,  1,  1,\n",
       "        2,  1,  1,  1,  1,  1,  1,  9, 36], dtype=int64)"
      ]
     },
     "execution_count": 48,
     "metadata": {},
     "output_type": "execute_result"
    }
   ],
   "source": [
    "test_fdist.values"
   ]
  },
  {
   "cell_type": "code",
   "execution_count": 54,
   "metadata": {
    "ExecuteTime": {
     "end_time": "2020-12-03T04:30:27.161057Z",
     "start_time": "2020-12-03T04:30:26.504705Z"
    }
   },
   "outputs": [
    {
     "data": {
      "image/png": "[encoded data removed]",
      "text/plain": [
       "<Figure size 720x720 with 1 Axes>"
      ]
     },
     "metadata": {
      "needs_background": "light"
     },
     "output_type": "display_data"
    }
   ],
   "source": [
    "fig, ax = plt.subplots(figsize=(10,10))\n",
    "\n",
    "test_plot = sns.barplot(x=test_fdist.index, y=test_fdist.values, ax=ax)\n",
    "plt.xticks(rotation=30);"
   ]
  },
  {
   "cell_type": "code",
   "execution_count": 67,
   "metadata": {
    "ExecuteTime": {
     "end_time": "2020-12-03T04:39:07.782994Z",
     "start_time": "2020-12-03T04:39:07.759200Z"
    }
   },
   "outputs": [
    {
     "data": {
      "text/plain": [
       "hunnids     0.093264\n",
       "bitch       0.090674\n",
       "rack        0.090674\n",
       "ten         0.069948\n",
       "city        0.051813\n",
       "twenties    0.023316\n",
       "throwing    0.023316\n",
       "fifties     0.020725\n",
       "them        0.020725\n",
       "my          0.020725\n",
       "and         0.020725\n",
       "the         0.020725\n",
       "too         0.012953\n",
       "you         0.012953\n",
       "got         0.012953\n",
       "on          0.012953\n",
       "it          0.012953\n",
       "a           0.010363\n",
       "like        0.007772\n",
       "know        0.007772\n",
       "Name: percent_of_total, dtype: float64"
      ]
     },
     "execution_count": 67,
     "metadata": {},
     "output_type": "execute_result"
    }
   ],
   "source": [
    "total_words = test_fdist.values.sum()\n",
    "test_fdist_df = pd.DataFrame(test_fdist)\n",
    "test_fdist_df.columns = ['num_uses']\n",
    "test_fdist_df['percent_of_total'] = test_fdist_df['num_uses'] / total_words\n",
    "test_percent_plot = test_fdist_df['percent_of_total'].sort_values(ascending=False).head(20).copy()\n",
    "test_percent_plot"
   ]
  },
  {
   "cell_type": "code",
   "execution_count": 68,
   "metadata": {
    "ExecuteTime": {
     "end_time": "2020-12-03T04:40:34.730979Z",
     "start_time": "2020-12-03T04:40:34.103901Z"
    }
   },
   "outputs": [
    {
     "data": {
      "image/png": "[encoded data removed]",
      "text/plain": [
       "<Figure size 720x720 with 1 Axes>"
      ]
     },
     "metadata": {
      "needs_background": "light"
     },
     "output_type": "display_data"
    }
   ],
   "source": [
    "fig, ax = plt.subplots(figsize=(10,10))\n",
    "\n",
    "test_plot2 = sns.barplot(x=test_percent_plot.index, y=test_percent_plot.values, ax=ax)\n",
    "plt.xticks(rotation=30);"
   ]
  },
  {
   "cell_type": "code",
   "execution_count": 70,
   "metadata": {
    "ExecuteTime": {
     "end_time": "2020-12-03T04:49:53.886019Z",
     "start_time": "2020-12-03T04:49:53.855300Z"
    }
   },
   "outputs": [
    {
     "data": {
      "text/plain": [
       "[(('hunnids', 'hunnids'), 0.06217616580310881),\n",
       " (('city', 'bitch'), 0.05181347150259067),\n",
       " (('ten', 'ten'), 0.046632124352331605),\n",
       " (('rack', 'city'), 0.04404145077720207),\n",
       " (('rack', 'rack'), 0.04404145077720207),\n",
       " (('bitch', 'rack'), 0.025906735751295335),\n",
       " (('ten', 'twenties'), 0.023316062176165803),\n",
       " (('throwing', 'hunnids'), 0.023316062176165803),\n",
       " (('and', 'them'), 0.02072538860103627),\n",
       " (('fifties', 'bitch'), 0.02072538860103627),\n",
       " (('them', 'fifties'), 0.02072538860103627),\n",
       " (('twenties', 'and'), 0.02072538860103627),\n",
       " (('bitch', 'ten'), 0.018134715025906734),\n",
       " (('hunnids', 'rack'), 0.015544041450777202),\n",
       " (('hunnids', 'throwing'), 0.015544041450777202),\n",
       " (('bitch', 'city'), 0.007772020725388601),\n",
       " (('bitch', 'hunnids'), 0.007772020725388601),\n",
       " (('bitch', 'throwing'), 0.007772020725388601),\n",
       " (('got', 'my'), 0.007772020725388601),\n",
       " (('a', 'motherfucking'), 0.0051813471502590676),\n",
       " (('bitch', 'bitch'), 0.0051813471502590676),\n",
       " (('bitch', 'fucking'), 0.0051813471502590676),\n",
       " (('fucking', 'with'), 0.0051813471502590676),\n",
       " (('is', 'ten'), 0.0051813471502590676),\n",
       " (('it', 'is'), 0.0051813471502590676),\n",
       " (('know', 'what'), 0.0051813471502590676),\n",
       " (('my', 'other'), 0.0051813471502590676),\n",
       " (('on', 'my'), 0.0051813471502590676),\n",
       " (('on', 'the'), 0.0051813471502590676),\n",
       " (('other', 'bitch'), 0.0051813471502590676),\n",
       " (('what', 'it'), 0.0051813471502590676),\n",
       " (('you', 'know'), 0.0051813471502590676),\n",
       " (('young', 'money'), 0.0051813471502590676),\n",
       " (('100', 'deep'), 0.0025906735751295338),\n",
       " (('a', 'nacho'), 0.0025906735751295338),\n",
       " (('a', 'poncho'), 0.0025906735751295338),\n",
       " (('aint', 'celibate'), 0.0025906735751295338),\n",
       " (('aint', 'got'), 0.0025906735751295338),\n",
       " (('aint', 'selling'), 0.0025906735751295338),\n",
       " (('all', 'night'), 0.0025906735751295338),\n",
       " (('all', 'the'), 0.0025906735751295338),\n",
       " (('alonzo', 'rondo'), 0.0025906735751295338),\n",
       " (('ass', 'bitch'), 0.0025906735751295338),\n",
       " (('at', 'me'), 0.0025906735751295338),\n",
       " (('at', 'the'), 0.0025906735751295338),\n",
       " (('back', 'all'), 0.0025906735751295338),\n",
       " (('back', 'nigga'), 0.0025906735751295338),\n",
       " (('bad', 'rat'), 0.0025906735751295338),\n",
       " (('bapped', 'got'), 0.0025906735751295338),\n",
       " (('bar', 'fresher'), 0.0025906735751295338)]"
      ]
     },
     "execution_count": 70,
     "metadata": {},
     "output_type": "execute_result"
    }
   ],
   "source": [
    "import nltk.collocations as collc\n",
    "\n",
    "bigram_measures = collc.BigramAssocMeasures()\n",
    "bigram_finder = collc.BigramCollocationFinder.from_words(tokenized_lyrics['Rack City (Single Version)'])\n",
    "bigram_scored = bigram_finder.score_ngrams(bigram_measures.raw_freq)\n",
    "bigram_scored[:50]"
   ]
  },
  {
   "cell_type": "markdown",
   "metadata": {},
   "source": [
    "11.10 **NEED TO START HERE BY PULLING LIST OF FEATURES AND TRY TO MATCH UP WITH NAMES IN FEAT. PART**\n",
    "\n",
    "Separate songs by feats or not.\n",
    "* skip those with multi-results (for now)\n",
    "* create list to match with from keys from lyric_header_checker"
   ]
  },
  {
   "cell_type": "markdown",
   "metadata": {},
   "source": [
    "Check Here! [EXAMPLE](https://www.tensorflow.org/tutorials/text/text_generation)"
   ]
  },
  {
   "cell_type": "markdown",
   "metadata": {
    "heading_collapsed": true
   },
   "source": [
    "#### AZ Lyrics"
   ]
  },
  {
   "cell_type": "code",
   "execution_count": 51,
   "metadata": {
    "ExecuteTime": {
     "end_time": "2020-10-13T02:25:33.335513Z",
     "start_time": "2020-10-13T02:25:33.069837Z"
    },
    "hidden": true
   },
   "outputs": [
    {
     "name": "stdout",
     "output_type": "stream",
     "text": [
      "      <div class=\"album\" id=\"9188\">\n",
      "       album:\n",
      "       <b>\n",
      "        \"No Introduction\"\n",
      "       </b>\n",
      "       (2008)\n",
      "      </div>\n",
      "      <div class=\"listalbum-item\">\n",
      "       <a href=\"../lyrics/tyga/diamondlife.html\" target=\"_blank\">\n",
      "        Diamond Life\n",
      "       </a>\n",
      "      </div>\n",
      "      <div class=\"listalbum-item\">\n",
      "       <a href=\"../lyrics/tyga/coconutjuice.html\" target=\"_blank\">\n",
      "        Coconut Juice\n",
      "       </a>\n",
      "      </div>\n",
      "      <div class=\"listalbum-item\">\n",
      "       <a href=\"../lyrics/tyga/supersizeme.html\" target=\"_blank\">\n",
      " \n"
     ]
    }
   ],
   "source": [
    "## THIS IS FOR AZLYRICS ##\n",
    "\n",
    "## Creating soup + Q.C.\n",
    "start_soup = BeautifulSoup(start_resp.text, 'html.parser')\n",
    "print(start_soup.prettify()[8422:8946])"
   ]
  },
  {
   "cell_type": "markdown",
   "metadata": {
    "heading_collapsed": true
   },
   "source": [
    "### Linking Up"
   ]
  },
  {
   "cell_type": "code",
   "execution_count": 7,
   "metadata": {
    "ExecuteTime": {
     "end_time": "2020-10-28T01:03:00.423354Z",
     "start_time": "2020-10-28T01:03:00.408425Z"
    },
    "hidden": true
   },
   "outputs": [
    {
     "name": "stdout",
     "output_type": "stream",
     "text": [
      "********************\n",
      "********************\n",
      "********************\n",
      "[Verse 2 - Tyga:]\n",
      "Rubbin on my chain blowing cloudmatic\n",
      "Smoke something with a G and bend that ass backwards\n",
      "Lay back relax and talk mathematics\n",
      "Later on we test a little sex practice\n",
      "Write my name on the wall\n",
      "Money in the mattress bet she wanna get involved\n",
      "She hopped on the blunt said 'Where the hookah y'all? '\n",
      "I tell her pass back if the shit too strong\n",
      "It's all set; Mozart art on the blog so wet\n",
      "I got a where I want her and I ain't done yet\n",
      "Looking at your future baby put down the cigarette\n",
      "Come hop on this kush jet and take flight\n",
      "Tell em bitches 'mmm fuck that'\n",
      "You wanna lay in bed I got a magic carpet for that ass yes\n",
      "I'm also on one\n",
      "Got two Olsen's on me\n",
      "Big homie\n",
      "Young Thugger Thugger rolling\n",
      "Rolls Royce so shorty\n",
      "--------------------\n",
      "********************\n",
      "********************\n",
      "[Verse 3 - Tyga:]\n",
      "Ben Frank baddies in the Benz waggin'\n",
      "You know she want a ride home hop on the band wagon\n",
      "I got the chain saggy\n",
      "You know that life lavish\n",
      "Lifestyles like this gon' need magnums\n",
      "Pass baby\n",
      "Welcome to rich class baby\n",
      "You all Maybelline, with ya new Celine\n",
      "Audemars on lean, cars on sheen\n",
      "You white girl but black girl ghetto fly ting\n",
      "It's verified, they ain't on your sea level\n",
      "Watered eyes don't cry inhale and breath regular\n",
      "My baby on it\n",
      "High at the crack of dawn and\n",
      "Body shape, figure 8 like Picasso draw ya\n",
      "Oh yes I'm winnin'\n",
      "Bling kingin'\n",
      "Ring blingin'\n",
      "Like like for no reason\n",
      "Let's get closer, closed in\n",
      "Remove your clothes we close friends\n",
      "Don't get choked smoking OG Oakland\n",
      "Shout out Oakland\n",
      "--------------------\n",
      "********************\n",
      "********************\n"
     ]
    }
   ],
   "source": [
    "for t in lyrics[0]:\n",
    "    try:\n",
    "        if 'Tyga' in t.text:\n",
    "            print(t.text)\n",
    "            print(10*'--')\n",
    "    except AttributeError:\n",
    "        print(10*'**')        "
   ]
  },
  {
   "cell_type": "code",
   "execution_count": 10,
   "metadata": {
    "ExecuteTime": {
     "end_time": "2020-10-28T01:19:35.138997Z",
     "start_time": "2020-10-28T01:19:35.129466Z"
    },
    "hidden": true
   },
   "outputs": [
    {
     "name": "stdout",
     "output_type": "stream",
     "text": [
      "<p>[Hook x4 - Young Thug:]<br/>\n",
      "Baby pass me the hookah<br/>\n",
      "Pass me the hookah<br/>\n",
      "Pass the hookah<br/>\n",
      "Pass the hookah</p>\n",
      "\n",
      "\n",
      "<p>[Verse 1 - Young Thug:]<br/>\n",
      "Tearing up the place<br/>\n",
      "I'm a rich nigga got chanel on my waist<br/>\n",
      "Run up on me playin I'm a aim it at ya face<br/>\n",
      "And that go for anybody... anyways<br/>\n",
      "I'm a rich blood by the way<br/>\n",
      "And I have swag roll it all like a tape<br/>\n",
      "Fish scale, yeah I got these bitches on the bait<br/>\n",
      "Don't wanna talk, man I said I need some space (woop woop woop)<br/>\n",
      "My new car get geeked up<br/>\n",
      "I just paid a cop, now I'm running out of court<br/>\n",
      "Panoramic top, I'm a put it on the rocks<br/>\n",
      "Crawl, walk and hop, got all these bitches shocked<br/>\n",
      "Stone molly whiter than my socks<br/>\n",
      "I don't, I don't wanna talk if it ain't 'bout guap<br/>\n",
      "Clowning you niggas I see you flop<br/>\n",
      "I buy pints by the 2 no Pac</p>\n",
      "\n",
      "\n",
      "<p>[Hook x7 - Young Thug]</p>\n",
      "\n",
      "\n",
      "<p>[Verse 2 - Tyga:]<br/>\n",
      "Rubbin on my chain blowing cloudmatic<br/>\n",
      "Smoke something with a G and bend that ass backwards<br/>\n",
      "Lay back relax and talk mathematics<br/>\n",
      "Later on we test a little sex practice<br/>\n",
      "Write my name on the wall<br/>\n",
      "Money in the mattress bet she wanna get involved<br/>\n",
      "She hopped on the blunt said 'Where the hookah y'all? '<br/>\n",
      "I tell her pass back if the shit too strong<br/>\n",
      "It's all set; Mozart art on the blog so wet<br/>\n",
      "I got a where I want her and I ain't done yet<br/>\n",
      "Looking at your future baby put down the cigarette<br/>\n",
      "Come hop on this kush jet and take flight<br/>\n",
      "Tell em bitches 'mmm fuck that'<br/>\n",
      "You wanna lay in bed I got a magic carpet for that ass yes<br/>\n",
      "I'm also on one<br/>\n",
      "Got two Olsen's on me<br/>\n",
      "Big homie<br/>\n",
      "Young Thugger Thugger rolling<br/>\n",
      "Rolls Royce so shorty</p>\n",
      "\n",
      "\n",
      "<p>[Hook x7 - Young Thug]</p>\n",
      "\n",
      "\n",
      "<p>[Verse 3 - Tyga:]<br/>\n",
      "Ben Frank baddies in the Benz waggin'<br/>\n",
      "You know she want a ride home hop on the band wagon<br/>\n",
      "I got the chain saggy<br/>\n",
      "You know that life lavish<br/>\n",
      "Lifestyles like this gon' need magnums<br/>\n",
      "Pass baby<br/>\n",
      "Welcome to rich class baby<br/>\n",
      "You all Maybelline, with ya new Celine<br/>\n",
      "Audemars on lean, cars on sheen<br/>\n",
      "You white girl but black girl ghetto fly ting<br/>\n",
      "It's verified, they ain't on your sea level<br/>\n",
      "Watered eyes don't cry inhale and breath regular<br/>\n",
      "My baby on it<br/>\n",
      "High at the crack of dawn and<br/>\n",
      "Body shape, figure 8 like Picasso draw ya<br/>\n",
      "Oh yes I'm winnin'<br/>\n",
      "Bling kingin'<br/>\n",
      "Ring blingin'<br/>\n",
      "Like like for no reason<br/>\n",
      "Let's get closer, closed in<br/>\n",
      "Remove your clothes we close friends<br/>\n",
      "Don't get choked smoking OG Oakland<br/>\n",
      "Shout out Oakland</p>\n",
      "\n",
      "\n",
      "<p>[Hook x7 - Young Thug]</p>\n",
      "\n",
      "\n"
     ]
    }
   ],
   "source": [
    "for t in lyrics[0]:\n",
    "    print(t)"
   ]
  },
  {
   "cell_type": "code",
   "execution_count": 17,
   "metadata": {
    "ExecuteTime": {
     "end_time": "2020-11-11T01:46:53.217730Z",
     "start_time": "2020-11-11T01:46:48.157092Z"
    },
    "code_folding": [
     3
    ],
    "hidden": true,
    "scrolled": true
   },
   "outputs": [
    {
     "name": "stdout",
     "output_type": "stream",
     "text": [
      "Never Be The Same\n",
      "------\n",
      "<class 'bs4.element.Tag'>\n",
      "----------\n",
      "[Chorus:]\n",
      "Never will I be the same... since the money\n",
      "And cars came with the fame\n",
      "We just party cause, throwing parties cause I've got a name,\n",
      "For them life is the same,\n",
      "But man, I will never be the same\n",
      "--------------------\n",
      "<class 'bs4.element.NavigableString'>\n"
     ]
    },
    {
     "data": {
      "text/plain": [
       "'\\n'"
      ]
     },
     "metadata": {},
     "output_type": "display_data"
    },
    {
     "name": "stdout",
     "output_type": "stream",
     "text": [
      "<class 'bs4.element.NavigableString'>\n"
     ]
    },
    {
     "data": {
      "text/plain": [
       "'\\n'"
      ]
     },
     "metadata": {},
     "output_type": "display_data"
    },
    {
     "name": "stdout",
     "output_type": "stream",
     "text": [
      "Never Be The Same\n",
      "------\n",
      "<class 'bs4.element.Tag'>\n",
      "----------\n",
      "[Chorus:]\n",
      "Never will I be the same... since the money\n",
      "And cars came with the fame\n",
      "We just party cause, throwing parties cause I've got a name,\n",
      "For them life is the same,\n",
      "But man, I will never be the same\n",
      "--------------------\n",
      "<class 'bs4.element.NavigableString'>\n"
     ]
    },
    {
     "data": {
      "text/plain": [
       "'\\n'"
      ]
     },
     "metadata": {},
     "output_type": "display_data"
    },
    {
     "name": "stdout",
     "output_type": "stream",
     "text": [
      "<class 'bs4.element.NavigableString'>\n"
     ]
    },
    {
     "data": {
      "text/plain": [
       "'\\n'"
      ]
     },
     "metadata": {},
     "output_type": "display_data"
    },
    {
     "name": "stdout",
     "output_type": "stream",
     "text": [
      "Never Be The Same\n",
      "------\n",
      "<class 'bs4.element.Tag'>\n",
      "----------\n",
      "[Chorus:]\n",
      "Never will I be the same... since the money\n",
      "And cars came with the fame\n",
      "We just party cause, throwing parties cause I've got a name,\n",
      "For them life is the same,\n",
      "But man, I will never be the same\n",
      "--------------------\n",
      "<class 'bs4.element.NavigableString'>\n"
     ]
    },
    {
     "data": {
      "text/plain": [
       "'\\n'"
      ]
     },
     "metadata": {},
     "output_type": "display_data"
    },
    {
     "name": "stdout",
     "output_type": "stream",
     "text": [
      "<class 'bs4.element.NavigableString'>\n"
     ]
    },
    {
     "data": {
      "text/plain": [
       "'\\n'"
      ]
     },
     "metadata": {},
     "output_type": "display_data"
    },
    {
     "name": "stdout",
     "output_type": "stream",
     "text": [
      "<class 'bs4.element.NavigableString'>\n"
     ]
    },
    {
     "data": {
      "text/plain": [
       "'\\n'"
      ]
     },
     "metadata": {},
     "output_type": "display_data"
    },
    {
     "name": "stdout",
     "output_type": "stream",
     "text": [
      "Never Be The Same\n",
      "------\n",
      "<class 'bs4.element.Tag'>\n",
      "----------\n",
      "[Chorus:]\n",
      "Never will I be the same... since the money\n",
      "And cars came with the fame\n",
      "We just party cause, throwing parties cause I've got a name,\n",
      "For them life is the same,\n",
      "But man, I will never be the same\n",
      "I will never be the same.\n",
      "I will never be the same.\n",
      "--------------------\n",
      "<class 'bs4.element.NavigableString'>\n"
     ]
    },
    {
     "data": {
      "text/plain": [
       "'\\n'"
      ]
     },
     "metadata": {},
     "output_type": "display_data"
    },
    {
     "name": "stdout",
     "output_type": "stream",
     "text": [
      "Hookah (feat. Young Thug)\n",
      "------\n",
      "<class 'bs4.element.Tag'>\n",
      "----------\n",
      "[Hook x4 - Young Thug:]\n",
      "Baby pass me the hookah\n",
      "Pass me the hookah\n",
      "Pass the hookah\n",
      "Pass the hookah\n",
      "--------------------\n",
      "<class 'bs4.element.NavigableString'>\n"
     ]
    },
    {
     "data": {
      "text/plain": [
       "'\\n'"
      ]
     },
     "metadata": {},
     "output_type": "display_data"
    },
    {
     "name": "stdout",
     "output_type": "stream",
     "text": [
      "Hookah (feat. Young Thug)\n",
      "------\n",
      "<class 'bs4.element.Tag'>\n",
      "----------\n",
      "[Verse 1 - Young Thug:]\n",
      "Tearing up the place\n",
      "I'm a rich nigga got chanel on my waist\n",
      "Run up on me playin I'm a aim it at ya face\n",
      "And that go for anybody... anyways\n",
      "I'm a rich blood by the way\n",
      "And I have swag roll it all like a tape\n",
      "Fish scale, yeah I got these bitches on the bait\n",
      "Don't wanna talk, man I said I need some space (woop woop woop)\n",
      "My new car get geeked up\n",
      "I just paid a cop, now I'm running out of court\n",
      "Panoramic top, I'm a put it on the rocks\n",
      "Crawl, walk and hop, got all these bitches shocked\n",
      "Stone molly whiter than my socks\n",
      "I don't, I don't wanna talk if it ain't 'bout guap\n",
      "Clowning you niggas I see you flop\n",
      "I buy pints by the 2 no Pac\n",
      "--------------------\n",
      "<class 'bs4.element.NavigableString'>\n"
     ]
    },
    {
     "data": {
      "text/plain": [
       "'\\n'"
      ]
     },
     "metadata": {},
     "output_type": "display_data"
    },
    {
     "name": "stdout",
     "output_type": "stream",
     "text": [
      "Hookah (feat. Young Thug)\n",
      "------\n",
      "<class 'bs4.element.Tag'>\n",
      "----------\n",
      "[Hook x7 - Young Thug]\n",
      "--------------------\n",
      "<class 'bs4.element.NavigableString'>\n"
     ]
    },
    {
     "data": {
      "text/plain": [
       "'\\n'"
      ]
     },
     "metadata": {},
     "output_type": "display_data"
    },
    {
     "name": "stdout",
     "output_type": "stream",
     "text": [
      "Hookah (feat. Young Thug)\n",
      "------\n",
      "<class 'bs4.element.Tag'>\n",
      "----------\n",
      "[Verse 2 - Tyga:]\n",
      "Rubbin on my chain blowing cloudmatic\n",
      "Smoke something with a G and bend that ass backwards\n",
      "Lay back relax and talk mathematics\n",
      "Later on we test a little sex practice\n",
      "Write my name on the wall\n",
      "Money in the mattress bet she wanna get involved\n",
      "She hopped on the blunt said 'Where the hookah y'all? '\n",
      "I tell her pass back if the shit too strong\n",
      "It's all set; Mozart art on the blog so wet\n",
      "I got a where I want her and I ain't done yet\n",
      "Looking at your future baby put down the cigarette\n",
      "Come hop on this kush jet and take flight\n",
      "Tell em bitches 'mmm fuck that'\n",
      "You wanna lay in bed I got a magic carpet for that ass yes\n",
      "I'm also on one\n",
      "Got two Olsen's on me\n",
      "Big homie\n",
      "Young Thugger Thugger rolling\n",
      "Rolls Royce so shorty\n",
      "--------------------\n",
      "<class 'bs4.element.NavigableString'>\n"
     ]
    },
    {
     "data": {
      "text/plain": [
       "'\\n'"
      ]
     },
     "metadata": {},
     "output_type": "display_data"
    },
    {
     "name": "stdout",
     "output_type": "stream",
     "text": [
      "Hookah (feat. Young Thug)\n",
      "------\n",
      "<class 'bs4.element.Tag'>\n",
      "----------\n",
      "[Hook x7 - Young Thug]\n",
      "--------------------\n",
      "<class 'bs4.element.NavigableString'>\n"
     ]
    },
    {
     "data": {
      "text/plain": [
       "'\\n'"
      ]
     },
     "metadata": {},
     "output_type": "display_data"
    },
    {
     "name": "stdout",
     "output_type": "stream",
     "text": [
      "Hookah (feat. Young Thug)\n",
      "------\n",
      "<class 'bs4.element.Tag'>\n",
      "----------\n",
      "[Verse 3 - Tyga:]\n",
      "Ben Frank baddies in the Benz waggin'\n",
      "You know she want a ride home hop on the band wagon\n",
      "I got the chain saggy\n",
      "You know that life lavish\n",
      "Lifestyles like this gon' need magnums\n",
      "Pass baby\n",
      "Welcome to rich class baby\n",
      "You all Maybelline, with ya new Celine\n",
      "Audemars on lean, cars on sheen\n",
      "You white girl but black girl ghetto fly ting\n",
      "It's verified, they ain't on your sea level\n",
      "Watered eyes don't cry inhale and breath regular\n",
      "My baby on it\n",
      "High at the crack of dawn and\n",
      "Body shape, figure 8 like Picasso draw ya\n",
      "Oh yes I'm winnin'\n",
      "Bling kingin'\n",
      "Ring blingin'\n",
      "Like like for no reason\n",
      "Let's get closer, closed in\n",
      "Remove your clothes we close friends\n",
      "Don't get choked smoking OG Oakland\n",
      "Shout out Oakland\n",
      "--------------------\n",
      "<class 'bs4.element.NavigableString'>\n"
     ]
    },
    {
     "data": {
      "text/plain": [
       "'\\n'"
      ]
     },
     "metadata": {},
     "output_type": "display_data"
    },
    {
     "name": "stdout",
     "output_type": "stream",
     "text": [
      "Hookah (feat. Young Thug)\n",
      "------\n",
      "<class 'bs4.element.Tag'>\n",
      "----------\n",
      "[Hook x7 - Young Thug]\n",
      "--------------------\n",
      "<class 'bs4.element.NavigableString'>\n"
     ]
    },
    {
     "data": {
      "text/plain": [
       "'\\n'"
      ]
     },
     "metadata": {},
     "output_type": "display_data"
    },
    {
     "name": "stdout",
     "output_type": "stream",
     "text": [
      "Riot (feat. Honey Cocaine)\n",
      "------\n",
      "<class 'bs4.element.Tag'>\n",
      "----------\n",
      "[Tyga: Verse 1]\n",
      "Fuck that, fuck shit pay me\n",
      "Rumors come and go, so I stay in a room presidential lately\n",
      "Top of the roof, if a nigga start hating\n",
      "Talk that shit, I aim for debating\n",
      "Man I swear the game got so Clay Aiken\n",
      "Bought a new crib, your bitch says it's spacious, Hagh\n",
      "Ride to the motha fucken money (yeah)\n",
      "Man I swear this shit about nothing (yeah)\n",
      "Why you niggas ballin on a budget\n",
      "Boy don’t get close, I press that button mothafucka\n",
      "Leave a nigga roughed up, David Ruffin, Hagh\n",
      "Niggas washed up, start scrubbing\n",
      "Nigga get you covered in some clovers\n",
      "You're an unlucky, mothafucka\n",
      "Don’t be fuckin wit a young nigga\n",
      "That’s T-Many, one fuckin problem\n",
      "Really monsters need a doctor\n",
      "I’m the sickest nigga bout it\n",
      "No deciding, just a silence\n",
      "On the sizzle, P90\n",
      "Kill yourself like you're in college\n",
      "It’s finals; cocky\n",
      "Bitch don’t fight it (uhh)\n",
      "Viam turn to violence (uhh)\n",
      "Cash money party, guess you broke niggas ain’t invited\n",
      "Got a bad bitch riding\n",
      "She dumb but she get knowledge\n",
      "I ain’t come to be vibing but my personality vibrant\n",
      "I’m in love wit nobody, white bitches they hotties\n",
      "Hop up off my crotch, I’m the shit, need a potty\n",
      "She lucky she with me\n",
      "Unlike them other niggas, I got it\n",
      "T la-di-da-di, welcome to my house party\n",
      "--------------------\n",
      "<class 'bs4.element.NavigableString'>\n"
     ]
    },
    {
     "data": {
      "text/plain": [
       "'\\n'"
      ]
     },
     "metadata": {},
     "output_type": "display_data"
    },
    {
     "name": "stdout",
     "output_type": "stream",
     "text": [
      "Riot (feat. Honey Cocaine)\n",
      "------\n",
      "<class 'bs4.element.Tag'>\n",
      "----------\n",
      "[Hook x2: Tyga]\n",
      "Fuck nigga, get yo bands up\n",
      "Fuck nigga, get yo bands up\n",
      "Fuck nigga, get yo bands up\n",
      "We getting money, we turnt up\n",
      "--------------------\n",
      "<class 'bs4.element.NavigableString'>\n"
     ]
    },
    {
     "data": {
      "text/plain": [
       "'\\n'"
      ]
     },
     "metadata": {},
     "output_type": "display_data"
    },
    {
     "name": "stdout",
     "output_type": "stream",
     "text": [
      "Riot (feat. Honey Cocaine)\n",
      "------\n",
      "<class 'bs4.element.Tag'>\n",
      "----------\n",
      "[Verse 2: Honey Cocaine]\n",
      "Yellow bitch and I got this\n",
      "It’s that black market, I’m shopping (uhh)\n",
      "Last Kings and we bossing\n",
      "Well I’m the first queen there’s no option (uhh)\n",
      "I heard they hating, I don’t give a fuck\n",
      "Tell 'em to fuck and suck on my cunt\n",
      "Bitch get some dick cus you doing too much\n",
      "I’m getting mine and enough ain’t enough\n",
      "Getting richer\n",
      "Money perfect picture\n",
      "Oh no, I ain’t messing at the studio with your ninja\n",
      "Top the name, I diss her\n",
      "Kill your bitch, you gon' miss her\n",
      "Bring that body shop and now watch that coffin fit her\n",
      "Funeral home, bring you to the zone\n",
      "Get you and your crew, or just you alone\n",
      "I don’t give a fuck, I don’t take no breaks\n",
      "Body your ho put her in her place\n",
      "Now I’m out (uhh)\n",
      "Don't try it at your house\n",
      "Young gold Asian, and they know what I’m 'bout, bitch\n",
      "--------------------\n",
      "<class 'bs4.element.NavigableString'>\n"
     ]
    },
    {
     "data": {
      "text/plain": [
       "'\\n'"
      ]
     },
     "metadata": {},
     "output_type": "display_data"
    },
    {
     "name": "stdout",
     "output_type": "stream",
     "text": [
      "Riot (feat. Honey Cocaine)\n",
      "------\n",
      "<class 'bs4.element.Tag'>\n",
      "----------\n",
      "[Hook: Tyga]\n",
      "--------------------\n",
      "<class 'bs4.element.NavigableString'>\n"
     ]
    },
    {
     "data": {
      "text/plain": [
       "'\\n'"
      ]
     },
     "metadata": {},
     "output_type": "display_data"
    },
    {
     "name": "stdout",
     "output_type": "stream",
     "text": [
      "<class 'bs4.element.NavigableString'>\n"
     ]
    },
    {
     "data": {
      "text/plain": [
       "'\\n'"
      ]
     },
     "metadata": {},
     "output_type": "display_data"
    },
    {
     "name": "stdout",
     "output_type": "stream",
     "text": [
      "<class 'bs4.element.NavigableString'>\n"
     ]
    },
    {
     "data": {
      "text/plain": [
       "'\\n'"
      ]
     },
     "metadata": {},
     "output_type": "display_data"
    },
    {
     "name": "stdout",
     "output_type": "stream",
     "text": [
      "Make It Nasty\n",
      "------\n",
      "<class 'bs4.element.Tag'>\n",
      "----------\n",
      "Make it nasty, make it nasty\n",
      "Drop drop it on a bitch, make it nasty\n",
      "Make it nasty, make it nasty\n",
      "Pop pop it on a bitch, make it nasty [x2]\n",
      "--------------------\n",
      "<class 'bs4.element.NavigableString'>\n"
     ]
    },
    {
     "data": {
      "text/plain": [
       "'\\n'"
      ]
     },
     "metadata": {},
     "output_type": "display_data"
    },
    {
     "name": "stdout",
     "output_type": "stream",
     "text": [
      "<class 'bs4.element.NavigableString'>\n"
     ]
    },
    {
     "data": {
      "text/plain": [
       "'\\n'"
      ]
     },
     "metadata": {},
     "output_type": "display_data"
    },
    {
     "name": "stdout",
     "output_type": "stream",
     "text": [
      "Make It Nasty\n",
      "------\n",
      "<class 'bs4.element.Tag'>\n",
      "----------\n",
      "Make it nasty, make it nasty\n",
      "Drop drop it on a bitch, make it nasty\n",
      "Make it nasty, make it nasty\n",
      "Pop pop it on a bitch, make it nasty [x2]\n",
      "--------------------\n",
      "<class 'bs4.element.NavigableString'>\n"
     ]
    },
    {
     "data": {
      "text/plain": [
       "'\\n'"
      ]
     },
     "metadata": {},
     "output_type": "display_data"
    },
    {
     "name": "stdout",
     "output_type": "stream",
     "text": [
      "Make It Nasty\n",
      "------\n",
      "<class 'bs4.element.Tag'>\n",
      "----------\n",
      "Tap tap tap that ass make it nasty [x3] Clap clap clap that ass make it nasty\n",
      "Tap tap tap that ass make it nasty [x3] Clap clap clap that ass make it nasty\n",
      "--------------------\n",
      "<class 'bs4.element.NavigableString'>\n"
     ]
    },
    {
     "data": {
      "text/plain": [
       "'\\n'"
      ]
     },
     "metadata": {},
     "output_type": "display_data"
    },
    {
     "name": "stdout",
     "output_type": "stream",
     "text": [
      "Make It Nasty\n",
      "------\n",
      "<class 'bs4.element.Tag'>\n",
      "----------\n",
      "Make it nasty, make it nasty\n",
      "Drop drop it on a bitch, make it nasty\n",
      "Make it nasty, make it nasty\n",
      "Pop pop it on a bitch, make it nasty [x2]\n",
      "--------------------\n",
      "<class 'bs4.element.NavigableString'>\n"
     ]
    },
    {
     "data": {
      "text/plain": [
       "'\\n'"
      ]
     },
     "metadata": {},
     "output_type": "display_data"
    },
    {
     "name": "stdout",
     "output_type": "stream",
     "text": [
      "We Up\n",
      "------\n",
      "<class 'bs4.element.Tag'>\n",
      "----------\n",
      "[Chorus]\n",
      "All my niggas that be hustling we up tonight\n",
      "And all my niggas that struggle we up tonight\n",
      "And all the girls around the world going out tonight\n",
      "Take a shot make toast we up for life, and we up\n",
      "--------------------\n",
      "<class 'bs4.element.NavigableString'>\n"
     ]
    },
    {
     "data": {
      "text/plain": [
       "'\\n'"
      ]
     },
     "metadata": {},
     "output_type": "display_data"
    },
    {
     "name": "stdout",
     "output_type": "stream",
     "text": [
      "We Up\n",
      "------\n",
      "<class 'bs4.element.Tag'>\n",
      "----------\n",
      "[Verse]\n",
      "Uh, just made 50 in a tri-state\n",
      "I spend it all cause when you young you can't pace\n",
      "I bet I double up, '99 Mase\n",
      "My ex said \"I be missing you\" Miss faith\n",
      "It takes 2, like Rob bass\n",
      "All of them pretty, but a rock in a hard place\n",
      "Meet a lot of girls, state to state\n",
      "Some one nighters, some I might date\n",
      "I'm a fat boy, slim skinny tatted face\n",
      "Brown Louie hard case, make your jewelry sleep safe\n",
      "On my king shit, like the middle east\n",
      "And the swagga stink like Kimchi\n",
      "I'm the sh-t ? for the money bags\n",
      "Like ? throwing dead presidents\n",
      "It's all good that you're living nice\n",
      "But when I get it all my niggas we gonna do it right\n",
      "--------------------\n",
      "<class 'bs4.element.NavigableString'>\n"
     ]
    },
    {
     "data": {
      "text/plain": [
       "'\\n'"
      ]
     },
     "metadata": {},
     "output_type": "display_data"
    },
    {
     "name": "stdout",
     "output_type": "stream",
     "text": [
      "We Up\n",
      "------\n",
      "<class 'bs4.element.Tag'>\n",
      "----------\n",
      "[Chorus]\n",
      "All my niggas that be hustling we up tonight\n",
      "And all my niggas that struggle we up tonight\n",
      "And all the girls around the world going out tonight\n",
      "Take a shot make toast we up for life, and we up\n",
      "--------------------\n",
      "<class 'bs4.element.NavigableString'>\n"
     ]
    },
    {
     "data": {
      "text/plain": [
       "'\\n'"
      ]
     },
     "metadata": {},
     "output_type": "display_data"
    },
    {
     "name": "stdout",
     "output_type": "stream",
     "text": [
      "<class 'bs4.element.NavigableString'>\n"
     ]
    },
    {
     "data": {
      "text/plain": [
       "'\\n'"
      ]
     },
     "metadata": {},
     "output_type": "display_data"
    },
    {
     "name": "stdout",
     "output_type": "stream",
     "text": [
      "We Up\n",
      "------\n",
      "<class 'bs4.element.Tag'>\n",
      "----------\n",
      "[Verse]\n",
      "Like a new born in the cradle, uh\n",
      "Feet first like a baby born backwards (we up, we up)\n",
      "Tell the bank tell em time to re-up, re-up\n",
      "Damn, everything I see calling ?\n",
      "So many niggas copying my style\n",
      "Coming to america through a cloud\n",
      "Just left Switz sold out crowds\n",
      "Uh, Vietnamese chicks with the big smile\n",
      "Pekingese puppy rapped in a beach towel\n",
      "Killing me softly like Lauren Hill\n",
      "Built for love but love won't keep it real\n",
      "Can't waste time we up and dollar bills to my soul\n",
      "In god we trust\n",
      "I love mama when the keys but she down to fuck\n",
      "Tell the bartender to fill me up, fill me up\n",
      "--------------------\n",
      "<class 'bs4.element.NavigableString'>\n"
     ]
    },
    {
     "data": {
      "text/plain": [
       "'\\n'"
      ]
     },
     "metadata": {},
     "output_type": "display_data"
    },
    {
     "name": "stdout",
     "output_type": "stream",
     "text": [
      "We Up\n",
      "------\n",
      "<class 'bs4.element.Tag'>\n",
      "----------\n",
      "[Chorus:]\n",
      "All my niggas that be hustling we up tonight\n",
      "And all my niggas that struggle we up tonight\n",
      "And all the girls around the world going out tonight\n",
      "Take a shot make toast we up for life, and we up\n",
      "--------------------\n",
      "<class 'bs4.element.NavigableString'>\n"
     ]
    },
    {
     "data": {
      "text/plain": [
       "'\\n'"
      ]
     },
     "metadata": {},
     "output_type": "display_data"
    },
    {
     "name": "stdout",
     "output_type": "stream",
     "text": [
      "<class 'bs4.element.NavigableString'>\n"
     ]
    },
    {
     "data": {
      "text/plain": [
       "'\\n'"
      ]
     },
     "metadata": {},
     "output_type": "display_data"
    },
    {
     "name": "stdout",
     "output_type": "stream",
     "text": [
      "<class 'bs4.element.NavigableString'>\n"
     ]
    },
    {
     "data": {
      "text/plain": [
       "'\\n'"
      ]
     },
     "metadata": {},
     "output_type": "display_data"
    },
    {
     "name": "stdout",
     "output_type": "stream",
     "text": [
      "We Up\n",
      "------\n",
      "<class 'bs4.element.Tag'>\n",
      "----------\n",
      "[Chorus]\n",
      "--------------------\n",
      "<class 'bs4.element.NavigableString'>\n"
     ]
    },
    {
     "data": {
      "text/plain": [
       "'\\n'"
      ]
     },
     "metadata": {},
     "output_type": "display_data"
    },
    {
     "name": "stdout",
     "output_type": "stream",
     "text": [
      "2 AM\n",
      "------\n",
      "<class 'bs4.element.Tag'>\n",
      "----------\n",
      "[Intro/Chorus: repeat 2X]\n",
      "It's 2 AM in the mornin\n",
      "Pressin my alarm again\n",
      "Stressin over my mom and friends\n",
      "Sometimes, I wish I was in a coma\n",
      "--------------------\n",
      "<class 'bs4.element.NavigableString'>\n"
     ]
    },
    {
     "data": {
      "text/plain": [
       "'\\n'"
      ]
     },
     "metadata": {},
     "output_type": "display_data"
    },
    {
     "name": "stdout",
     "output_type": "stream",
     "text": [
      "<class 'bs4.element.NavigableString'>\n"
     ]
    },
    {
     "data": {
      "text/plain": [
       "'\\n'"
      ]
     },
     "metadata": {},
     "output_type": "display_data"
    },
    {
     "name": "stdout",
     "output_type": "stream",
     "text": [
      "2 AM\n",
      "------\n",
      "<class 'bs4.element.Tag'>\n",
      "----------\n",
      "[Chorus]\n",
      "--------------------\n",
      "<class 'bs4.element.NavigableString'>\n"
     ]
    },
    {
     "data": {
      "text/plain": [
       "'\\n'"
      ]
     },
     "metadata": {},
     "output_type": "display_data"
    },
    {
     "name": "stdout",
     "output_type": "stream",
     "text": [
      "<class 'bs4.element.NavigableString'>\n"
     ]
    },
    {
     "data": {
      "text/plain": [
       "'\\n'"
      ]
     },
     "metadata": {},
     "output_type": "display_data"
    },
    {
     "name": "stdout",
     "output_type": "stream",
     "text": [
      "2 AM\n",
      "------\n",
      "<class 'bs4.element.Tag'>\n",
      "----------\n",
      "[Chorus]\n",
      "--------------------\n",
      "<class 'bs4.element.NavigableString'>\n"
     ]
    },
    {
     "data": {
      "text/plain": [
       "'\\n'"
      ]
     },
     "metadata": {},
     "output_type": "display_data"
    },
    {
     "name": "stdout",
     "output_type": "stream",
     "text": [
      "<class 'bs4.element.NavigableString'>\n"
     ]
    },
    {
     "data": {
      "text/plain": [
       "'\\n'"
      ]
     },
     "metadata": {},
     "output_type": "display_data"
    },
    {
     "name": "stdout",
     "output_type": "stream",
     "text": [
      "<class 'bs4.element.NavigableString'>\n"
     ]
    },
    {
     "data": {
      "text/plain": [
       "'\\n'"
      ]
     },
     "metadata": {},
     "output_type": "display_data"
    },
    {
     "name": "stdout",
     "output_type": "stream",
     "text": [
      "<class 'bs4.element.NavigableString'>\n"
     ]
    },
    {
     "data": {
      "text/plain": [
       "'\\n'"
      ]
     },
     "metadata": {},
     "output_type": "display_data"
    },
    {
     "name": "stdout",
     "output_type": "stream",
     "text": [
      "<class 'bs4.element.NavigableString'>\n"
     ]
    },
    {
     "data": {
      "text/plain": [
       "'\\n'"
      ]
     },
     "metadata": {},
     "output_type": "display_data"
    },
    {
     "name": "stdout",
     "output_type": "stream",
     "text": [
      "<class 'bs4.element.NavigableString'>\n"
     ]
    },
    {
     "data": {
      "text/plain": [
       "'\\n'"
      ]
     },
     "metadata": {},
     "output_type": "display_data"
    },
    {
     "name": "stdout",
     "output_type": "stream",
     "text": [
      "<class 'bs4.element.NavigableString'>\n"
     ]
    },
    {
     "data": {
      "text/plain": [
       "'\\n'"
      ]
     },
     "metadata": {},
     "output_type": "display_data"
    },
    {
     "name": "stdout",
     "output_type": "stream",
     "text": [
      "<class 'bs4.element.NavigableString'>\n"
     ]
    },
    {
     "data": {
      "text/plain": [
       "'\\n'"
      ]
     },
     "metadata": {},
     "output_type": "display_data"
    },
    {
     "name": "stdout",
     "output_type": "stream",
     "text": [
      "500 Degrees (feat. Lil Wayne)\n",
      "------\n",
      "<class 'bs4.element.Tag'>\n",
      "----------\n",
      "[Verse 1: Tyga]\n",
      "T-raww, fuck y'all, money tall, dick large\n",
      "Tiger in my backyard, bitches on my futon\n",
      "Dog house, no dog, shootout, Chris Paul\n",
      "Walkin' on the marble floor, take your fuckin' shoes off\n",
      "Bitch this is fox fur, killin' shit, fuck a hearse\n",
      "I can show you my choppa works\n",
      "She give me head, when my head hurt\n",
      "Deep throat, till the bitch burp\n",
      "Her best friend said let me at 'em (Adam), Cousin Lurch\n",
      "Smokin' on that turf, get your feelings hurt\n",
      "At your neck like a collared shirt, ball like a Nerf\n",
      "Word, more green nigga than smoking pot\n",
      "When I see more, I'm that whore from that little shop\n",
      "Shop, butcher shop, open up your top\n",
      "All you see is gold watch, Rolls Royce, road blocks\n",
      "Sun roof, fogged out, chrome grill, gold mouth\n",
      "Take a fuckin' look around\n",
      "--------------------\n",
      "<class 'bs4.element.NavigableString'>\n"
     ]
    },
    {
     "data": {
      "text/plain": [
       "'\\n'"
      ]
     },
     "metadata": {},
     "output_type": "display_data"
    },
    {
     "name": "stdout",
     "output_type": "stream",
     "text": [
      "500 Degrees (feat. Lil Wayne)\n",
      "------\n",
      "<class 'bs4.element.Tag'>\n",
      "----------\n",
      "[Hook x2: Tyga]\n",
      "Bitch I'm all you need\n",
      "I say fuck them other niggas\n",
      "Fuck them other niggas\n",
      "Bitch I'm all you need\n",
      "I'm the hottest nigga, all I do is turn up, bitch\n",
      "500 degrees\n",
      "--------------------\n",
      "<class 'bs4.element.NavigableString'>\n"
     ]
    },
    {
     "data": {
      "text/plain": [
       "'\\n'"
      ]
     },
     "metadata": {},
     "output_type": "display_data"
    },
    {
     "name": "stdout",
     "output_type": "stream",
     "text": [
      "500 Degrees (feat. Lil Wayne)\n",
      "------\n",
      "<class 'bs4.element.Tag'>\n",
      "----------\n",
      "[Verse 2: Tyga]\n",
      "Thrilla manilla, I buy straight from the dealer\n",
      "I 'm politickin' in Paris, I'm buying statues and pillars\n",
      "All from the Louvre nigga, mosaics from the museum\n",
      "You niggas countin', you bitch is in my DM,\n",
      "I never read 'em, weak bitch probably get seasick\n",
      "On the yacht eat shrimp, see my name on a blimp\n",
      "It read T-Raww's a pimp\n",
      "Nigga I ain't dancin' but my hand on my hip\n",
      "Full clip, movie shit, Bruce Wayne, Alfred\n",
      "Niggas want a verse, can't even get an ad-lib\n",
      "I'm killing this shit, and I'm killing your mom\n",
      "Over a set of time, the... are mine\n",
      "I murdered this shit, just takin' my time\n",
      "Got bars, front gate, face shot, blind date\n",
      "Rolex, timepiece, ain't got no time for no bitch speech\n",
      "120 that six speed, pull it out that's all me\n",
      "Just call me T-papi\n",
      "--------------------\n",
      "<class 'bs4.element.NavigableString'>\n"
     ]
    },
    {
     "data": {
      "text/plain": [
       "'\\n'"
      ]
     },
     "metadata": {},
     "output_type": "display_data"
    },
    {
     "name": "stdout",
     "output_type": "stream",
     "text": [
      "500 Degrees (feat. Lil Wayne)\n",
      "------\n",
      "<class 'bs4.element.Tag'>\n",
      "----------\n",
      "[Hook x2: Tyga]\n",
      "--------------------\n",
      "<class 'bs4.element.NavigableString'>\n"
     ]
    },
    {
     "data": {
      "text/plain": [
       "'\\n'"
      ]
     },
     "metadata": {},
     "output_type": "display_data"
    },
    {
     "name": "stdout",
     "output_type": "stream",
     "text": [
      "500 Degrees (feat. Lil Wayne)\n",
      "------\n",
      "<class 'bs4.element.Tag'>\n",
      "----------\n",
      "[Verse 3: Lil Wayne]\n",
      "Tunechi over bitches\n",
      "Smokin' Color Purple, blunt fat as Oprah Winfrey\n",
      "I'm the nigga, the nigga, nigga, the nigga, nigga\n",
      "I be snappin', I hope you get the bigger picture\n",
      "I said fuck that nigga that you fuckin'\n",
      "She say that nigga rap, I say he couldn't (w) rap a mummy\n",
      "But let me pass the weed, and stop passin' judgement\n",
      "Before I have to beat him like a dick he had it comin'\n",
      "Been eating so much pussy, man I'm starting to get chubby\n",
      "Schoolin' motherfuckers, I'm their favorite subject\n",
      "Broomstick in my pants, I'm 'bout to go witch huntin'\n",
      "I'm already loaded, these niggas still bufferin'\n",
      "I fuck my girlfriend and her best friend, these niggas is lesbians\n",
      "Don't cross me like a pedestrian, I'm getting head watchin' ESPN\n",
      "She holdin' me and carressin' me\n",
      "Don't hate the player, hate the referee\n",
      "If she F with me, I am definitely a necessity\n",
      "--------------------\n",
      "<class 'bs4.element.NavigableString'>\n"
     ]
    },
    {
     "data": {
      "text/plain": [
       "'\\n'"
      ]
     },
     "metadata": {},
     "output_type": "display_data"
    },
    {
     "name": "stdout",
     "output_type": "stream",
     "text": [
      "500 Degrees (feat. Lil Wayne)\n",
      "------\n",
      "<class 'bs4.element.Tag'>\n",
      "----------\n",
      "[Hook x2: Tyga]\n",
      "--------------------\n",
      "<class 'bs4.element.NavigableString'>\n"
     ]
    },
    {
     "data": {
      "text/plain": [
       "'\\n'"
      ]
     },
     "metadata": {},
     "output_type": "display_data"
    },
    {
     "name": "stdout",
     "output_type": "stream",
     "text": [
      "<class 'bs4.element.NavigableString'>\n"
     ]
    },
    {
     "data": {
      "text/plain": [
       "'\\n'"
      ]
     },
     "metadata": {},
     "output_type": "display_data"
    },
    {
     "name": "stdout",
     "output_type": "stream",
     "text": [
      "95 Like Dat\n",
      "------\n",
      "<class 'bs4.element.Tag'>\n",
      "----------\n",
      "[Verse 1]\n",
      "95 scholar, straight shots, gold medallion\n",
      "Put your number on this paper promise I’mma dial it\n",
      "Cute college chick, daddy was a doctor\n",
      "Word through the grape vine she datin’ a rapper\n",
      "Entertainer, Avonlea she never after\n",
      "So I entertain her late night with laughter\n",
      "High, ten after midnight, it’s bedtime\n",
      "You could say I stole her heart\n",
      "I just call it bedtime\n",
      "No rush, just relax your mind\n",
      "You are now listenin’ to sounds of a better rhyme\n",
      "Benz and driver, mosh pit in the lobby\n",
      "Girls so horny, that’s my type of party\n",
      "No ties, mob shit, suits and ties\n",
      "Crap table, Vegas, vampire nights\n",
      "I’d marry you tonight just to say we did it right\n",
      "Waking up with regrets, roll over, she be like:\n",
      "--------------------\n",
      "<class 'bs4.element.NavigableString'>\n"
     ]
    },
    {
     "data": {
      "text/plain": [
       "'\\n'"
      ]
     },
     "metadata": {},
     "output_type": "display_data"
    },
    {
     "name": "stdout",
     "output_type": "stream",
     "text": [
      "95 Like Dat\n",
      "------\n",
      "<class 'bs4.element.Tag'>\n",
      "----------\n",
      "[Hook]\n",
      "“Why you never call me back?”\n",
      "Sometimes it just be like that\n",
      "Can’t promise you the world\n",
      "but I can promise you half of that\n",
      "Sometimes it just be like that\n",
      "All the rumors you heard\n",
      "I ain’t got no time for that\n",
      "Shit, I ain’t got no time for that\n",
      "And you ain’t gotta cry, dry your eyes,\n",
      "We gon’ get through that\n",
      "Trust, we gon’ get through that\n",
      "95 like that\n",
      "--------------------\n",
      "<class 'bs4.element.NavigableString'>\n"
     ]
    },
    {
     "data": {
      "text/plain": [
       "'\\n'"
      ]
     },
     "metadata": {},
     "output_type": "display_data"
    },
    {
     "name": "stdout",
     "output_type": "stream",
     "text": [
      "95 Like Dat\n",
      "------\n",
      "<class 'bs4.element.Tag'>\n",
      "----------\n",
      "[Verse 2]\n",
      "Reservations, call, reserve a table\n",
      "I like gator, snake skin, Purple Label\n",
      "Polyester, black berretta, who do it better?\n",
      "For my niggas caged up, writin’ them letters\n",
      "Lower level, reportin’ live, Channel 11\n",
      "No emergency, but I’m in a 9-11\n",
      "Falsetto, girl scream, a rare fellow\n",
      "Pull up to the scene bumpin’ only instrumentals\n",
      "And we know it\n",
      "Times flies when you fly in first class all the time\n",
      "And we know it\n",
      "No time for the games, dollar signs on my mind\n",
      "And we know it\n",
      "Eye for an eye and killa just tryin’ to stay alive\n",
      "And we know it\n",
      "Gotta learn to live or regret, I regret some times\n",
      "--------------------\n",
      "<class 'bs4.element.NavigableString'>\n"
     ]
    },
    {
     "data": {
      "text/plain": [
       "'\\n'"
      ]
     },
     "metadata": {},
     "output_type": "display_data"
    },
    {
     "name": "stdout",
     "output_type": "stream",
     "text": [
      "95 Like Dat\n",
      "------\n",
      "<class 'bs4.element.Tag'>\n",
      "----------\n",
      "[Hook]\n",
      "--------------------\n",
      "<class 'bs4.element.NavigableString'>\n"
     ]
    },
    {
     "data": {
      "text/plain": [
       "'\\n'"
      ]
     },
     "metadata": {},
     "output_type": "display_data"
    },
    {
     "name": "stdout",
     "output_type": "stream",
     "text": [
      "<class 'bs4.element.NavigableString'>\n"
     ]
    },
    {
     "data": {
      "text/plain": [
       "'\\n'"
      ]
     },
     "metadata": {},
     "output_type": "display_data"
    },
    {
     "name": "stdout",
     "output_type": "stream",
     "text": [
      "95 Like Dat\n",
      "------\n",
      "<class 'bs4.element.Tag'>\n",
      "----------\n",
      "[Verse 3]\n",
      "Litigations, black faces, lawyers, brief cases\n",
      "Agents top notch, paid investigations\n",
      "Fire Dorf Todd, block shots, Anthony Davis,\n",
      "Raww the greatest, acres, no neighbours\n",
      "Die so many times, hope we do better next time\n",
      "Think about it, dog, next time you drop a dime\n",
      "Better ride, said she’d rather fly\n",
      "Always asking me the same thing all the time\n",
      "--------------------\n",
      "<class 'bs4.element.NavigableString'>\n"
     ]
    },
    {
     "data": {
      "text/plain": [
       "'\\n'"
      ]
     },
     "metadata": {},
     "output_type": "display_data"
    },
    {
     "name": "stdout",
     "output_type": "stream",
     "text": [
      "95 Like Dat\n",
      "------\n",
      "<class 'bs4.element.Tag'>\n",
      "----------\n",
      "[Hook]\n",
      "--------------------\n",
      "<class 'bs4.element.NavigableString'>\n"
     ]
    },
    {
     "data": {
      "text/plain": [
       "'\\n'"
      ]
     },
     "metadata": {},
     "output_type": "display_data"
    },
    {
     "name": "stdout",
     "output_type": "stream",
     "text": [
      "AIM\n",
      "------\n",
      "<class 'bs4.element.Tag'>\n",
      "----------\n",
      "She' don't know my name\n",
      "She just know me by my aim (aim aim) [x2]\n",
      "--------------------\n",
      "<class 'bs4.element.NavigableString'>\n"
     ]
    },
    {
     "data": {
      "text/plain": [
       "'\\n'"
      ]
     },
     "metadata": {},
     "output_type": "display_data"
    },
    {
     "name": "stdout",
     "output_type": "stream",
     "text": [
      "AIM\n",
      "------\n",
      "<class 'bs4.element.Tag'>\n",
      "----------\n",
      "[Verse 1:]\n",
      "Aim tyga man again\n",
      "Got a little message for my instant friends\n",
      "Be back in a mintue on vacation\n",
      "Away from them haters hating on him\n",
      "Introducing the musician\n",
      "Gotta be more then a 4 to impress him\n",
      "Punch in my pin\n",
      "And begin the chatting\n",
      "Ichat the best mac book I'm a mac yes\n",
      "Getting every dollar g.e.d dymes\n",
      "Captial charge I did the crime\n",
      "Can't take the heat don't feel the fire\n",
      "She difficult to reach but I'm harder to find cause\n",
      "--------------------\n",
      "<class 'bs4.element.NavigableString'>\n"
     ]
    },
    {
     "data": {
      "text/plain": [
       "'\\n'"
      ]
     },
     "metadata": {},
     "output_type": "display_data"
    },
    {
     "name": "stdout",
     "output_type": "stream",
     "text": [
      "AIM\n",
      "------\n",
      "<class 'bs4.element.Tag'>\n",
      "----------\n",
      "[Chorus:]\n",
      "She don't know me by my name\n",
      "She just know me by my aim\n",
      "My song on her page on myspace\n",
      "Never seen her face\n",
      "She send messages\n",
      "I sign on it's like aim aim aim\n",
      "She don't know me by my name (name name)\n",
      "She just know me by my aim (aim aim)\n",
      "She don't know me by my name (name name)\n",
      "I sign on it's like aim aim aim\n",
      "--------------------\n",
      "<class 'bs4.element.NavigableString'>\n"
     ]
    },
    {
     "data": {
      "text/plain": [
       "'\\n'"
      ]
     },
     "metadata": {},
     "output_type": "display_data"
    },
    {
     "name": "stdout",
     "output_type": "stream",
     "text": [
      "AIM\n",
      "------\n",
      "<class 'bs4.element.Tag'>\n",
      "----------\n",
      "She don't know my name\n",
      "She just know me by my aim (aim aim) [x2]\n",
      "--------------------\n",
      "<class 'bs4.element.NavigableString'>\n"
     ]
    },
    {
     "data": {
      "text/plain": [
       "'\\n'"
      ]
     },
     "metadata": {},
     "output_type": "display_data"
    },
    {
     "name": "stdout",
     "output_type": "stream",
     "text": [
      "AIM\n",
      "------\n",
      "<class 'bs4.element.Tag'>\n",
      "----------\n",
      "[Verse 2:]\n",
      "Replenish my sins repeat then repin\n",
      "Next chick buddy list gotta sleep\n",
      "On the tricks\n",
      "Magic magician what the games been missing\n",
      "Rap is favorite swagg and she diggs\n",
      "This is turning into a daily thing\n",
      "Comma routine baby how you doing?\n",
      "Alright hows your music\n",
      "Just fine\n",
      "I'm getting tired brb I typed her\n",
      "Phone on silent no time for drama\n",
      "Too busy bottle poppin\n",
      "Poparazzi recording\n",
      "Recording my oasis only\n",
      "Always on point like ginolle\n",
      "Come card me\n",
      "--------------------\n",
      "<class 'bs4.element.NavigableString'>\n"
     ]
    },
    {
     "data": {
      "text/plain": [
       "'\\n'"
      ]
     },
     "metadata": {},
     "output_type": "display_data"
    },
    {
     "name": "stdout",
     "output_type": "stream",
     "text": [
      "AIM\n",
      "------\n",
      "<class 'bs4.element.Tag'>\n",
      "----------\n",
      "[Chorus:]\n",
      "She don't know me by my name\n",
      "She just know me by my aim\n",
      "My song on her page on myspace\n",
      "Never seen her face\n",
      "She send messages\n",
      "I sign on it's like aim aim aim\n",
      "She don't know me by my name (name name)\n",
      "She just know me by my aim (aim aim)\n",
      "She don't know me by my name (name name)\n",
      "I sign on it's like aim aim aim\n",
      "--------------------\n",
      "<class 'bs4.element.NavigableString'>\n"
     ]
    },
    {
     "data": {
      "text/plain": [
       "'\\n'"
      ]
     },
     "metadata": {},
     "output_type": "display_data"
    },
    {
     "name": "stdout",
     "output_type": "stream",
     "text": [
      "AIM\n",
      "------\n",
      "<class 'bs4.element.Tag'>\n",
      "----------\n",
      "She don't know my name\n",
      "She just know me by my aim (aim aim) [x2]\n",
      "--------------------\n",
      "<class 'bs4.element.NavigableString'>\n"
     ]
    },
    {
     "data": {
      "text/plain": [
       "'\\n'"
      ]
     },
     "metadata": {},
     "output_type": "display_data"
    },
    {
     "name": "stdout",
     "output_type": "stream",
     "text": [
      "AIM\n",
      "------\n",
      "<class 'bs4.element.Tag'>\n",
      "----------\n",
      "[Bridge:]\n",
      "ASL lol tyga don't care but\n",
      "Only females, what's your email\n",
      "Promise I won't tell\n",
      "Flick for a big trade it never fails\n",
      "--------------------\n",
      "<class 'bs4.element.NavigableString'>\n"
     ]
    },
    {
     "data": {
      "text/plain": [
       "'\\n'"
      ]
     },
     "metadata": {},
     "output_type": "display_data"
    },
    {
     "name": "stdout",
     "output_type": "stream",
     "text": [
      "AIM\n",
      "------\n",
      "<class 'bs4.element.Tag'>\n",
      "----------\n",
      "[Chorus:]\n",
      "She don't know me by my name\n",
      "She just know me by my aim\n",
      "My song on her page on myspace\n",
      "Never seen her face\n",
      "She send messages\n",
      "I sign on it's like aim aim aim\n",
      "She don't know me by my name (name name)\n",
      "She just know me by my aim (aim aim)\n",
      "She don't know me by my name (name name)\n",
      "I sign on it's like aim aim aim\n",
      "--------------------\n",
      "<class 'bs4.element.NavigableString'>\n"
     ]
    },
    {
     "data": {
      "text/plain": [
       "'\\n'"
      ]
     },
     "metadata": {},
     "output_type": "display_data"
    },
    {
     "name": "stdout",
     "output_type": "stream",
     "text": [
      "<class 'bs4.element.NavigableString'>\n"
     ]
    },
    {
     "data": {
      "text/plain": [
       "'\\n'"
      ]
     },
     "metadata": {},
     "output_type": "display_data"
    },
    {
     "name": "stdout",
     "output_type": "stream",
     "text": [
      "<class 'bs4.element.NavigableString'>\n"
     ]
    },
    {
     "data": {
      "text/plain": [
       "'\\n'"
      ]
     },
     "metadata": {},
     "output_type": "display_data"
    },
    {
     "name": "stdout",
     "output_type": "stream",
     "text": [
      "All Gold Everything\n",
      "------\n",
      "<class 'bs4.element.Tag'>\n",
      "----------\n",
      "[Hook:]\n",
      "Gold all in my chain, my chain, bitch\n",
      "Gold all in my rang, my rang, bitch\n",
      "Gold all in my watch, my watch\n",
      "Don't believe me, just watch\n",
      "Nigga nigga nigga\n",
      "Don't believe me, just watch\n",
      "Don't believe me just watch, bitch\n",
      "Nigga nigga nigga\n",
      "Don't believe me, just watch, bitch\n",
      "Don't believe me, just watch\n",
      "Gold all in my chain\n",
      "Gold all in my ring\n",
      "Gold all in my watch\n",
      "Don't believe me, just watch\n",
      "--------------------\n",
      "<class 'bs4.element.NavigableString'>\n"
     ]
    },
    {
     "data": {
      "text/plain": [
       "'\\n'"
      ]
     },
     "metadata": {},
     "output_type": "display_data"
    },
    {
     "name": "stdout",
     "output_type": "stream",
     "text": [
      "All Gold Everything\n",
      "------\n",
      "<class 'bs4.element.Tag'>\n",
      "----------\n",
      "[Verse:]\n",
      "T Raww I don't fuck with niggas\n",
      "My money long, my temper midget\n",
      "King gold chains I reinvented\n",
      "This gold shit, you a gold fish nigga\n",
      "Try me, four kings like free sale nigga\n",
      "Sippin' out a cup like a toddler, nigga nigga\n",
      "Who the fuck want drama, pain,\n",
      "Back at it like a chiropractor, mane\n",
      "That that nigga rock a quarter mil in chains\n",
      "Gat squirt at ya like Stacey Lane\n",
      "Nigga nigga sunroof ya brain\n",
      "Came out to drink but you can't even hang\n",
      "Only came 'cause a nigga got paid\n",
      "Sleep with them hoes, they gon' fuck up your name\n",
      "Pop the Zanny I'm stressin'\n",
      "Pop the molly I'm flexin'\n",
      "Dre Beats my beats bang, biker jeans, ball mane\n",
      "She suck me off till I'm all drained\n",
      "Kick her out, Liu king\n",
      "Wide body need two lanes,\n",
      "Got a 5-0-4 bitch that go to Tulane\n",
      "Niggas think that I'm playin'\n",
      "I ain't sayin' this shit to be slayin' a nigga\n",
      "Make your bed, lay in it, fucker\n",
      "Born sinner, make a nigga die for his dinner\n",
      "Eyes of a tiger, stone killer, cold blooded winner\n",
      "Fuckin' beast, goin' HAM, gotta eat\n",
      "Thanksgiving, don't thank me,\n",
      "Cause that ain't beef, y'all niggas sweet,\n",
      "Money leech, money launderin'\n",
      "Private jet, I don't fly economy\n",
      "Man I make it rain while you niggas try to maintain\n",
      "All my niggas gang bang, shout out Honey Cocaine\n",
      "Last kings, YMCMB bitch\n",
      "187, stay on some G shit\n",
      "--------------------\n",
      "<class 'bs4.element.NavigableString'>\n"
     ]
    },
    {
     "data": {
      "text/plain": [
       "'\\n'"
      ]
     },
     "metadata": {},
     "output_type": "display_data"
    },
    {
     "name": "stdout",
     "output_type": "stream",
     "text": [
      "All Gold Everything\n",
      "------\n",
      "<class 'bs4.element.Tag'>\n",
      "----------\n",
      "[Hook]\n",
      "--------------------\n",
      "<class 'bs4.element.NavigableString'>\n"
     ]
    },
    {
     "data": {
      "text/plain": [
       "'\\n'"
      ]
     },
     "metadata": {},
     "output_type": "display_data"
    },
    {
     "name": "stdout",
     "output_type": "stream",
     "text": [
      "All Love\n",
      "------\n",
      "<class 'bs4.element.Tag'>\n",
      "----------\n",
      "[Hook:]\n",
      "Don't you worry about the beef my nigga\n",
      "Everything's straight\n",
      "When you see me in the hood\n",
      "Don't worry you ain't gotta hate\n",
      "--------------------\n",
      "<class 'bs4.element.NavigableString'>\n"
     ]
    },
    {
     "data": {
      "text/plain": [
       "'\\n'"
      ]
     },
     "metadata": {},
     "output_type": "display_data"
    },
    {
     "name": "stdout",
     "output_type": "stream",
     "text": [
      "<class 'bs4.element.NavigableString'>\n"
     ]
    },
    {
     "data": {
      "text/plain": [
       "'\\n'"
      ]
     },
     "metadata": {},
     "output_type": "display_data"
    },
    {
     "name": "stdout",
     "output_type": "stream",
     "text": [
      "<class 'bs4.element.NavigableString'>\n"
     ]
    },
    {
     "data": {
      "text/plain": [
       "'\\n'"
      ]
     },
     "metadata": {},
     "output_type": "display_data"
    },
    {
     "name": "stdout",
     "output_type": "stream",
     "text": [
      "<class 'bs4.element.NavigableString'>\n"
     ]
    },
    {
     "data": {
      "text/plain": [
       "'\\n'"
      ]
     },
     "metadata": {},
     "output_type": "display_data"
    },
    {
     "name": "stdout",
     "output_type": "stream",
     "text": [
      "All Love\n",
      "------\n",
      "<class 'bs4.element.Tag'>\n",
      "----------\n",
      "Look, hate to glit it\n",
      "Wrist in hand\n",
      "This ain't no little man\n",
      "Just presidential rolex and\n",
      "This is my biggest sin\n",
      "Jealously attracting them\n",
      "Trying my best to do less\n",
      "Trying my best but, I'm such to a greater extent\n",
      "My phone rings, a block call, 2 a.m\n",
      "Who could it be, not moms. she's [?]\n",
      "[?]\n",
      "Smilin, sayin her son paid it\n",
      "Like if one make it\n",
      "We all made it\n",
      "--------------------\n",
      "<class 'bs4.element.NavigableString'>\n"
     ]
    },
    {
     "data": {
      "text/plain": [
       "'\\n'"
      ]
     },
     "metadata": {},
     "output_type": "display_data"
    },
    {
     "name": "stdout",
     "output_type": "stream",
     "text": [
      "All Love\n",
      "------\n",
      "<class 'bs4.element.Tag'>\n",
      "----------\n",
      "[Hook]\n",
      "--------------------\n",
      "<class 'bs4.element.NavigableString'>\n"
     ]
    },
    {
     "data": {
      "text/plain": [
       "'\\n'"
      ]
     },
     "metadata": {},
     "output_type": "display_data"
    },
    {
     "name": "stdout",
     "output_type": "stream",
     "text": [
      "<class 'bs4.element.NavigableString'>\n"
     ]
    },
    {
     "data": {
      "text/plain": [
       "'\\n'"
      ]
     },
     "metadata": {},
     "output_type": "display_data"
    },
    {
     "name": "stdout",
     "output_type": "stream",
     "text": [
      "<class 'bs4.element.NavigableString'>\n"
     ]
    },
    {
     "data": {
      "text/plain": [
       "'\\n'"
      ]
     },
     "metadata": {},
     "output_type": "display_data"
    },
    {
     "name": "stdout",
     "output_type": "stream",
     "text": [
      "<class 'bs4.element.NavigableString'>\n"
     ]
    },
    {
     "data": {
      "text/plain": [
       "'\\n'"
      ]
     },
     "metadata": {},
     "output_type": "display_data"
    },
    {
     "name": "stdout",
     "output_type": "stream",
     "text": [
      "All Love\n",
      "------\n",
      "<class 'bs4.element.Tag'>\n",
      "----------\n",
      "[Hook x2]\n",
      "--------------------\n",
      "<class 'bs4.element.NavigableString'>\n"
     ]
    },
    {
     "data": {
      "text/plain": [
       "'\\n'"
      ]
     },
     "metadata": {},
     "output_type": "display_data"
    },
    {
     "name": "stdout",
     "output_type": "stream",
     "text": [
      "Ayo (with Chris Brown)\n",
      "------\n",
      "<class 'bs4.element.Tag'>\n",
      "----------\n",
      "[Intro:]\n",
      "I need you [x8]\n",
      "--------------------\n",
      "<class 'bs4.element.NavigableString'>\n"
     ]
    },
    {
     "data": {
      "text/plain": [
       "'\\n'"
      ]
     },
     "metadata": {},
     "output_type": "display_data"
    },
    {
     "name": "stdout",
     "output_type": "stream",
     "text": [
      "Ayo (with Chris Brown)\n",
      "------\n",
      "<class 'bs4.element.Tag'>\n",
      "----------\n",
      "[Hook - Chris Brown:]\n",
      "We poppin' like ayo\n",
      "All my bitches got real hair chilling with the top down\n",
      "Screaming like ayo\n",
      "I'mma take her ass down when she bring her friend around\n",
      "Poppin' booty like ayo\n",
      "I'm a boogie ass nigga left the roof at home\n",
      "We popping like ayo, ayo, ayo\n",
      "But don't be acting like I need you\n",
      "--------------------\n",
      "<class 'bs4.element.NavigableString'>\n"
     ]
    },
    {
     "data": {
      "text/plain": [
       "'\\n'"
      ]
     },
     "metadata": {},
     "output_type": "display_data"
    },
    {
     "name": "stdout",
     "output_type": "stream",
     "text": [
      "Ayo (with Chris Brown)\n",
      "------\n",
      "<class 'bs4.element.Tag'>\n",
      "----------\n",
      "[Verse 1 - Tyga:]\n",
      "Ahhh! Aye babe this my new shit\n",
      "I'm the black Richie Rich with the roof missing\n",
      "If it don't make dollars it don't make sense\n",
      "Z, wake up like I gotta get it\n",
      "And I got a engine with a trunk space\n",
      "I get money three ways, fucking bitches three ways\n",
      "7 different foreigns plus she no hablé\n",
      "But I make that bitch walk with some cheesecake\n",
      "Yeah, I'm the coldest nigga, icy\n",
      "Looking in the mirror like I wish I could be me\n",
      "She too into me, I'm more into money\n",
      "My hobby's her body, that pussy's my lobby\n",
      "I'mma eat it, I'mma eat it\n",
      "I don't lie, hold my dick, too conceited\n",
      "Uh, told her she's my wife for the weekend\n",
      "But don't be acting like I need you cause we poppin' like\n",
      "--------------------\n",
      "<class 'bs4.element.NavigableString'>\n"
     ]
    },
    {
     "data": {
      "text/plain": [
       "'\\n'"
      ]
     },
     "metadata": {},
     "output_type": "display_data"
    },
    {
     "name": "stdout",
     "output_type": "stream",
     "text": [
      "Ayo (with Chris Brown)\n",
      "------\n",
      "<class 'bs4.element.Tag'>\n",
      "----------\n",
      "[Hook]\n",
      "--------------------\n",
      "<class 'bs4.element.NavigableString'>\n"
     ]
    },
    {
     "data": {
      "text/plain": [
       "'\\n'"
      ]
     },
     "metadata": {},
     "output_type": "display_data"
    },
    {
     "name": "stdout",
     "output_type": "stream",
     "text": [
      "Ayo (with Chris Brown)\n",
      "------\n",
      "<class 'bs4.element.Tag'>\n",
      "----------\n",
      "[Verse 2 - Chris Brown:]\n",
      "I'm in a Rolls, you don't roll right\n",
      "My chain shine brighter than a strobe light\n",
      "I'm tryna fuck Coco, this don't concern Ice\n",
      "If I motorboat, she gon' motorbike\n",
      "A nigga ain't worried about nothin'\n",
      "Rehabilitation just had me worried about fucking\n",
      "Money, decision-making only worried about stunting\n",
      "She worried about me, her nigga worried about cuffing\n",
      "I wanna see her body (bodyyyy)\n",
      "She said get inside of me\n",
      "I wanna feel you baby (yeahhh)\n",
      "Just bring the animal right out of me\n",
      "We loving, she love it\n",
      "See when I go down on her\n",
      "Now we fucking, she thugging\n",
      "Getting loud (cause we poppin' like)\n",
      "--------------------\n",
      "<class 'bs4.element.NavigableString'>\n"
     ]
    },
    {
     "data": {
      "text/plain": [
       "'\\n'"
      ]
     },
     "metadata": {},
     "output_type": "display_data"
    },
    {
     "name": "stdout",
     "output_type": "stream",
     "text": [
      "Ayo (with Chris Brown)\n",
      "------\n",
      "<class 'bs4.element.Tag'>\n",
      "----------\n",
      "[Hook]\n",
      "--------------------\n",
      "<class 'bs4.element.NavigableString'>\n"
     ]
    },
    {
     "data": {
      "text/plain": [
       "'\\n'"
      ]
     },
     "metadata": {},
     "output_type": "display_data"
    },
    {
     "name": "stdout",
     "output_type": "stream",
     "text": [
      "Ayo (with Chris Brown)\n",
      "------\n",
      "<class 'bs4.element.Tag'>\n",
      "----------\n",
      "[Verse 3 - Chris Brown (Tyga):]\n",
      "Huh, look, alright\n",
      "Now I can spot your bitch from a mile away\n",
      "Valentine in that pussy, it's a holiday\n",
      "(Uh, you losing money, I windmills Dr. J\n",
      "She going to follow my lead, Simon Says)\n",
      "Paper, paper, I'm riding scrapers in California\n",
      "Car smelling like ammonia, we got that stank on us\n",
      "(Never been an outcast that stank on ya\n",
      "From the ghetto but my bitch like Apollonia)\n",
      "We in the hood, tatted like a Mexican\n",
      "Car too fast, give a fuck about pedestrians\n",
      "(And my section less niggas, more lesbians)\n",
      "Got your bitch, I'm that nigga\n",
      "(Yeah we poppin' like)\n",
      "--------------------\n",
      "<class 'bs4.element.NavigableString'>\n"
     ]
    },
    {
     "data": {
      "text/plain": [
       "'\\n'"
      ]
     },
     "metadata": {},
     "output_type": "display_data"
    },
    {
     "name": "stdout",
     "output_type": "stream",
     "text": [
      "Ayo (with Chris Brown)\n",
      "------\n",
      "<class 'bs4.element.Tag'>\n",
      "----------\n",
      "[Hook]\n",
      "--------------------\n",
      "<class 'bs4.element.NavigableString'>\n"
     ]
    },
    {
     "data": {
      "text/plain": [
       "'\\n'"
      ]
     },
     "metadata": {},
     "output_type": "display_data"
    },
    {
     "name": "stdout",
     "output_type": "stream",
     "text": [
      "Ayo (with Chris Brown)\n",
      "------\n",
      "<class 'bs4.element.Tag'>\n",
      "----------\n",
      "[Outro - Tyga:]\n",
      "This that fly shit, King shit only\n",
      "Drop top, no roof - ahhh!\n",
      "--------------------\n",
      "<class 'bs4.element.NavigableString'>\n"
     ]
    },
    {
     "data": {
      "text/plain": [
       "'\\n'"
      ]
     },
     "metadata": {},
     "output_type": "display_data"
    },
    {
     "name": "stdout",
     "output_type": "stream",
     "text": [
      "Ayy Ladies (feat. Travis Porter)\n",
      "------\n",
      "<class 'bs4.element.Tag'>\n",
      "----------\n",
      "Aaughh [9x]\n",
      "--------------------\n",
      "<class 'bs4.element.NavigableString'>\n"
     ]
    },
    {
     "data": {
      "text/plain": [
       "'\\n'"
      ]
     },
     "metadata": {},
     "output_type": "display_data"
    },
    {
     "name": "stdout",
     "output_type": "stream",
     "text": [
      "Ayy Ladies (feat. Travis Porter)\n",
      "------\n",
      "<class 'bs4.element.Tag'>\n",
      "----------\n",
      "[Travis Porter]\n",
      "Okay Now Ladies (Yeah)\n",
      "If You Know You Bad (Yeah)\n",
      "Don't Need No Man, Got Yo Own Bands\n",
      "Put Up Yo Hands\n",
      "If You Ah Top Notch Bitch, Let Me Hear You Holla\n",
      "Bend It Over, Touch Yo Toe, Whip It Out,\n",
      "Show Them Hoes Yo Bankroll, Slang It Out,\n",
      "Do The Broke Hoe With It, Poke It Out,\n",
      "DAMN Shawty You CAN Get It\n",
      "--------------------\n",
      "<class 'bs4.element.NavigableString'>\n"
     ]
    },
    {
     "data": {
      "text/plain": [
       "'\\n'"
      ]
     },
     "metadata": {},
     "output_type": "display_data"
    },
    {
     "name": "stdout",
     "output_type": "stream",
     "text": [
      "Ayy Ladies (feat. Travis Porter)\n",
      "------\n",
      "<class 'bs4.element.Tag'>\n",
      "----------\n",
      "[Tyga]\n",
      "Ughh 1234 Give The Booty 5,\n",
      "I Like My Bitches Real Thick, Lil More Thighs\n",
      "Richer Than Yo Ol' Head, No Lie, Stacks In That\n",
      "Pussy Hole, Call Dat The G-Spot,Real Gentlemen,\n",
      "Fuck And Never Call Again, I'm Hot,\n",
      "I'm Fresh Up Out Of Dat Water, I Didn't Even Swim\n",
      "I Heard She Got Ah Nigga, Well He Can Be Yo Man,\n",
      "Maan I Wouldn't Shake His Hand With Ah Broke Hand,\n",
      "I Don't Fear Na Nigga, Boicoodam,\n",
      "Make A Bitch Strip Butt-Naked Like She Pole Dance,\n",
      "Standing In The Club On On A Couch Shit,\n",
      "Grab The Mic, Then Announce This,\n",
      "--------------------\n",
      "<class 'bs4.element.NavigableString'>\n"
     ]
    },
    {
     "data": {
      "text/plain": [
       "'\\n'"
      ]
     },
     "metadata": {},
     "output_type": "display_data"
    },
    {
     "name": "stdout",
     "output_type": "stream",
     "text": [
      "Ayy Ladies (feat. Travis Porter)\n",
      "------\n",
      "<class 'bs4.element.Tag'>\n",
      "----------\n",
      "[Travis Porter]\n",
      "Okay Now Ladies (Yeah)\n",
      "If You Know You Bad (Yeah)\n",
      "Don't Need No Man, Got Yo Own Bands\n",
      "Put Up Yo Hands\n",
      "If You Ah Top Notch Bitch, Let Me Hear You Holla\n",
      "Bend It Over, Touch Yo Toe, Whip It Out,\n",
      "Show Them Hoes Yo Bankroll, Slang It Out,\n",
      "Do The Broke Hoe With It, Poke It Out,\n",
      "DAMN Shawty You CAN Get It\n",
      "--------------------\n",
      "<class 'bs4.element.NavigableString'>\n"
     ]
    },
    {
     "data": {
      "text/plain": [
       "'\\n'"
      ]
     },
     "metadata": {},
     "output_type": "display_data"
    },
    {
     "name": "stdout",
     "output_type": "stream",
     "text": [
      "Ayy Ladies (feat. Travis Porter)\n",
      "------\n",
      "<class 'bs4.element.Tag'>\n",
      "----------\n",
      "[Tyga]\n",
      "Man I Get It, Man I Get It, Get It In For real\n",
      "She Ain’t With It,\n",
      "I Ain’t Tripping Got One At The Crib\n",
      "Planking On The Maybach, This Is How I Live\n",
      "Give A Bitch Banana Dick, Then I Make Her Do The Split\n",
      "Heard You Was A Trick, Trick Them Bitches You Ah Pimp\n",
      "Man That Bitch Simple, You Ain’t Gotta Sip\n",
      "I’m Flyer Than A Blimp Fly How She Getting Hit,\n",
      "Wide Body Benz, Rosanning On The Whip, No Tan,\n",
      "But Dat Heat Son, Burn A Bitch,\n",
      "Niggas Straight Snitching, Report Like Journalist\n",
      "Hell I’m On My Shit, Like Horses Is\n",
      "Grab A Friend, Then Tell Her This This This,\n",
      "Yup Yup \n",
      "--------------------\n",
      "<class 'bs4.element.NavigableString'>\n"
     ]
    },
    {
     "data": {
      "text/plain": [
       "'\\n'"
      ]
     },
     "metadata": {},
     "output_type": "display_data"
    },
    {
     "name": "stdout",
     "output_type": "stream",
     "text": [
      "Ayy Ladies (feat. Travis Porter)\n",
      "------\n",
      "<class 'bs4.element.Tag'>\n",
      "----------\n",
      "[Travis Porter]\n",
      "Okay Now Ladies (Yeah)\n",
      "If You Know You Bad (Yeah)\n",
      "Don't Need No Man, Got Yo Own Bands\n",
      "Put Up Yo Hands\n",
      "If You Ah Top Notch Bitch, Let Me Hear You Holla\n",
      "Bend It Over, Touch Yo Toe, Whip It Out,\n",
      "Show Them Hoes Yo Bankroll, Slang It Out,\n",
      "Do The Broke Hoe With It, Poke It Out,\n",
      "DAMN Shawty You CAN Get It\n",
      "--------------------\n",
      "<class 'bs4.element.NavigableString'>\n"
     ]
    },
    {
     "data": {
      "text/plain": [
       "'\\n'"
      ]
     },
     "metadata": {},
     "output_type": "display_data"
    },
    {
     "name": "stdout",
     "output_type": "stream",
     "text": [
      "<class 'bs4.element.NavigableString'>\n"
     ]
    },
    {
     "data": {
      "text/plain": [
       "'\\n'"
      ]
     },
     "metadata": {},
     "output_type": "display_data"
    },
    {
     "name": "stdout",
     "output_type": "stream",
     "text": [
      "<class 'bs4.element.NavigableString'>\n"
     ]
    },
    {
     "data": {
      "text/plain": [
       "'\\n'"
      ]
     },
     "metadata": {},
     "output_type": "display_data"
    },
    {
     "name": "stdout",
     "output_type": "stream",
     "text": [
      "<class 'bs4.element.NavigableString'>\n"
     ]
    },
    {
     "data": {
      "text/plain": [
       "'\\n'"
      ]
     },
     "metadata": {},
     "output_type": "display_data"
    },
    {
     "name": "stdout",
     "output_type": "stream",
     "text": [
      "Bad Bitches (feat. Gudda Gudda)\n",
      "------\n",
      "<class 'bs4.element.Tag'>\n",
      "----------\n",
      "[Chorus]\n",
      "All day long, do it like Tony\n",
      "Fuck her friend then I pass it to the big homie\n",
      "Got a sign on my dick, bad bitches only\n",
      "Got a sign on my dick, bad bitches only\n",
      "Big bank roll, do it like Tony\n",
      "Fuck her friend then I pass it to the big homie\n",
      "Got a sign on my dick, bad bitches only\n",
      "Got a sign on my dick, bad bitches only\n",
      "--------------------\n",
      "<class 'bs4.element.NavigableString'>\n"
     ]
    },
    {
     "data": {
      "text/plain": [
       "'\\n'"
      ]
     },
     "metadata": {},
     "output_type": "display_data"
    },
    {
     "name": "stdout",
     "output_type": "stream",
     "text": [
      "Bad Bitches (feat. Gudda Gudda)\n",
      "------\n",
      "<class 'bs4.element.Tag'>\n",
      "----------\n",
      "[Tyga - Verse 1]\n",
      "Well its that nigga that you call T-Raw\n",
      "Runnin' that money like Madoff\n",
      "Yea she gave that blow job then she get it laid off\n",
      "I ain't got no time hoe, stop blowing up my cell phone\n",
      "Sweatin' me like headbands, call that bitch Rondo\n",
      "I'm fresher than the Prom hoe, teach ya we don't fly coach\n",
      "Fuckin' but she act dumb, kick her out my condo\n",
      "Real G's, Last King, Young Money ballin'\n",
      "I give her a couple of shots and then she turn alcoholic\n",
      "Metaphorically or Rhetoric\n",
      "And I'm shittin' on your forehead\n",
      "2 girls 1 cup...Yup\n",
      "We did it again Last King YMCMB\n",
      "I don't pay for bitches, bitches pay me\n",
      "--------------------\n",
      "<class 'bs4.element.NavigableString'>\n"
     ]
    },
    {
     "data": {
      "text/plain": [
       "'\\n'"
      ]
     },
     "metadata": {},
     "output_type": "display_data"
    },
    {
     "name": "stdout",
     "output_type": "stream",
     "text": [
      "Bad Bitches (feat. Gudda Gudda)\n",
      "------\n",
      "<class 'bs4.element.Tag'>\n",
      "----------\n",
      "[Chorus]\n",
      "--------------------\n",
      "<class 'bs4.element.NavigableString'>\n"
     ]
    },
    {
     "data": {
      "text/plain": [
       "'\\n'"
      ]
     },
     "metadata": {},
     "output_type": "display_data"
    },
    {
     "name": "stdout",
     "output_type": "stream",
     "text": [
      "Bad Bitches (feat. Gudda Gudda)\n",
      "------\n",
      "<class 'bs4.element.Tag'>\n",
      "----------\n",
      "[Gudda Gudda - Verse 2]\n",
      "Uh, Knock knock, who the fuck is there?\n",
      "A sign on my dick that say, \"bad bitches come in here\"\n",
      "Make a freak whore, detour straight to my partna room and let him beat it like a keyboard\n",
      "All I do is dick 'em I don't tip 'em like a stripper man\n",
      "I got a ton of chicks under my belt like a zipper, yea\n",
      "Walk up in the club, pick 'em out and then I pick 'em off\n",
      "Pick 'em up and then knock em down and them I drop 'em off\n",
      "I'ma dog keep your girl from round my type of shit or she'll be milk box material\n",
      "And missing for the night man this shit is just that easy\n",
      "When your pockets sittin' right\n",
      "I turn my bed into a stage and let your girl rock on my mic\n",
      "--------------------\n",
      "<class 'bs4.element.NavigableString'>\n"
     ]
    },
    {
     "data": {
      "text/plain": [
       "'\\n'"
      ]
     },
     "metadata": {},
     "output_type": "display_data"
    },
    {
     "name": "stdout",
     "output_type": "stream",
     "text": [
      "Bad Bitches (feat. Gudda Gudda)\n",
      "------\n",
      "<class 'bs4.element.Tag'>\n",
      "----------\n",
      "[Chorus]\n",
      "--------------------\n",
      "<class 'bs4.element.NavigableString'>\n"
     ]
    },
    {
     "data": {
      "text/plain": [
       "'\\n'"
      ]
     },
     "metadata": {},
     "output_type": "display_data"
    },
    {
     "name": "stdout",
     "output_type": "stream",
     "text": [
      "Bad Bitches (Remix) (feat. Gudda Gudda, 2 Chainz)\n",
      "------\n",
      "<class 'bs4.element.Tag'>\n",
      "----------\n",
      "[Hook - Tyga:]\n",
      "All day long\n",
      "Do it like Tony\n",
      "Fuck her friend\n",
      "Then I pass her to the big homie\n",
      "Got a sign on my dick\n",
      "Bad bitches only\n",
      "Got a sign on my dick\n",
      "Bad bitches only\n",
      "Big bank roll\n",
      "Do it like Tony\n",
      "Fuck her friend\n",
      "Then I pass her to the big homie\n",
      "Got a sign on my dick\n",
      "Bad bitches only\n",
      "Got a sign on my dick\n",
      "Bad bitches only\n",
      "--------------------\n",
      "<class 'bs4.element.NavigableString'>\n"
     ]
    },
    {
     "data": {
      "text/plain": [
       "'\\n'"
      ]
     },
     "metadata": {},
     "output_type": "display_data"
    },
    {
     "name": "stdout",
     "output_type": "stream",
     "text": [
      "Bad Bitches (Remix) (feat. Gudda Gudda, 2 Chainz)\n",
      "------\n",
      "<class 'bs4.element.Tag'>\n",
      "----------\n",
      "[Verse 1 - Tyga:]\n",
      "Well it's that nigga you call T-raw\n",
      "Runnin' that money like Madoff\n",
      "Yeah she gave that blowjob\n",
      "Then she gettin' laid off\n",
      "I ain't got no time ho\n",
      "Stop blowin' up my cell phone\n",
      "Sweatin' me like headband\n",
      "Call that bitch Rondo\n",
      "I'm fresher than the prom ho\n",
      "Teach her, we don't fly coach\n",
      "She fuckin' but she act dumb\n",
      "Kick her out my condo\n",
      "Real G's, Last King, Young Money ballin'\n",
      "I give her a couple of shots and then she turned an alcoholic\n",
      "Methaphorically I'm a toilet\n",
      "And I'm shittin' on your foreheads\n",
      "2 girls 1 cup\n",
      "Yup\n",
      "We did it again Last King, YMCMB\n",
      "I don't pay for bitches\n",
      "Bitches pay me uhh\n",
      "--------------------\n",
      "<class 'bs4.element.NavigableString'>\n"
     ]
    },
    {
     "data": {
      "text/plain": [
       "'\\n'"
      ]
     },
     "metadata": {},
     "output_type": "display_data"
    },
    {
     "name": "stdout",
     "output_type": "stream",
     "text": [
      "Bad Bitches (Remix) (feat. Gudda Gudda, 2 Chainz)\n",
      "------\n",
      "<class 'bs4.element.Tag'>\n",
      "----------\n",
      "[Hook - Tyga:]\n",
      "All day long\n",
      "Do it like Tony\n",
      "Fuck her friend\n",
      "Then I pass her to the big homie\n",
      "Got a sign on my dick\n",
      "Bad bitches only\n",
      "Got a sign on my dick\n",
      "Bad bitches only\n",
      "Big bank roll\n",
      "Do it like Tony\n",
      "Fuck her friend\n",
      "Then I pass her to the big homie\n",
      "Got a sign on my dick\n",
      "Bad bitches only\n",
      "Got a sign on my dick\n",
      "Bad bitches only\n",
      "--------------------\n",
      "<class 'bs4.element.NavigableString'>\n"
     ]
    },
    {
     "data": {
      "text/plain": [
       "'\\n'"
      ]
     },
     "metadata": {},
     "output_type": "display_data"
    },
    {
     "name": "stdout",
     "output_type": "stream",
     "text": [
      "Bad Bitches (Remix) (feat. Gudda Gudda, 2 Chainz)\n",
      "------\n",
      "<class 'bs4.element.Tag'>\n",
      "----------\n",
      "[Verse 2 - Gudda Gudda:]\n",
      "Knock knock\n",
      "Who the fuck is there?\n",
      "Sign on my dick that say\n",
      "Bad bitches come in here\n",
      "Make a freak whore, detour\n",
      "Straight to my partner room and let him beat it like a keyboard\n",
      "All I do is dick em'\n",
      "I don't tip em' like a stripper\n",
      "Man I gotta' ton of chicks under my belt\n",
      "Like a zipper\n",
      "Yeah\n",
      "Walk up in the club\n",
      "Pick em' out and then I pick em' off\n",
      "Pick em' up and knock em' down\n",
      "And then I drop em' off\n",
      "I'mma dog\n",
      "Keep you girl from around my type\n",
      "Or she'll be milkbox material\n",
      "And missin' for the night\n",
      "Man this shit is just that easy\n",
      "When yo' pockets sittin' right\n",
      "I turn my bed into a stage\n",
      "And let yo' bitch rock on my mic\n",
      "--------------------\n",
      "<class 'bs4.element.NavigableString'>\n"
     ]
    },
    {
     "data": {
      "text/plain": [
       "'\\n'"
      ]
     },
     "metadata": {},
     "output_type": "display_data"
    },
    {
     "name": "stdout",
     "output_type": "stream",
     "text": [
      "Bad Bitches (Remix) (feat. Gudda Gudda, 2 Chainz)\n",
      "------\n",
      "<class 'bs4.element.Tag'>\n",
      "----------\n",
      "[Hook - Tyga:]\n",
      "Uhhh\n",
      "All day long\n",
      "Do it like Tony\n",
      "Fuck her friend\n",
      "Then I pass her to the big homie\n",
      "Got a sign on my dick\n",
      "Bad bitches only\n",
      "Got a sign on my dick\n",
      "Bad bitches only\n",
      "Big bank roll\n",
      "Do it like Tony\n",
      "Fuck her friend\n",
      "Then I pass her to the big homie\n",
      "Got a sign on my dick\n",
      "Bad bitches only\n",
      "Got a sign on my dick\n",
      "Bad bitches only\n",
      "--------------------\n",
      "<class 'bs4.element.NavigableString'>\n"
     ]
    },
    {
     "data": {
      "text/plain": [
       "'\\n'"
      ]
     },
     "metadata": {},
     "output_type": "display_data"
    },
    {
     "name": "stdout",
     "output_type": "stream",
     "text": [
      "Bad Bitches (Remix) (feat. Gudda Gudda, 2 Chainz)\n",
      "------\n",
      "<class 'bs4.element.Tag'>\n",
      "----------\n",
      "[Verse 3 - 2 Chainz:]\n",
      "First I check my Rolley\n",
      "Then say \"watch me do it\"\n",
      "Watch me do it, show you how to cook like Martha Stewart\n",
      "I want some cheesecake I have you walkin' to it\n",
      "Plus I stack my money tall don't you walk in to it\n",
      "Just do it all I do is smoke jet fluid\n",
      "Fuck her with my chain on so my charm can hit her booty\n",
      "Outrageous with the Louis I'm a fashionaire\n",
      "Ever since 16 I been a fuckin' thousandaire\n",
      "They know me by my nickname in the dealership\n",
      "And all my shows are funeral homes I keep killin' shit\n",
      "You used to get money so you reminisce\n",
      "And if yo' bitch get with this she'll get benefits\n",
      "--------------------\n",
      "<class 'bs4.element.NavigableString'>\n"
     ]
    },
    {
     "data": {
      "text/plain": [
       "'\\n'"
      ]
     },
     "metadata": {},
     "output_type": "display_data"
    },
    {
     "name": "stdout",
     "output_type": "stream",
     "text": [
      "Bad Bitches (Remix) (feat. Gudda Gudda, 2 Chainz)\n",
      "------\n",
      "<class 'bs4.element.Tag'>\n",
      "----------\n",
      "[Hook - Tyga:]\n",
      "All day long\n",
      "Do it like Tony\n",
      "Fuck her friend\n",
      "Then I pass her to the big homie\n",
      "Got a sign on my dick\n",
      "Bad bitches only\n",
      "Got a sign on my dick\n",
      "Bad bitches only\n",
      "Big bank roll\n",
      "Do it like Tony\n",
      "Fuck her friend\n",
      "Then I pass her to the big homie\n",
      "Got a sign on my dick\n",
      "Bad bitches only\n",
      "Got a sign on my dick\n",
      "Bad bitches only\n",
      "--------------------\n",
      "<class 'bs4.element.NavigableString'>\n"
     ]
    },
    {
     "data": {
      "text/plain": [
       "'\\n'"
      ]
     },
     "metadata": {},
     "output_type": "display_data"
    },
    {
     "name": "stdout",
     "output_type": "stream",
     "text": [
      "Bang Out (feat. Easy E & Ice Cube)\n",
      "------\n",
      "<class 'bs4.element.Tag'>\n",
      "----------\n",
      "[Verse 1: Tyga]\n",
      "Hold up, money talk so you know what?\n",
      "Ain’t nothing to talk about, you ain’t got enough cuz\n",
      "Rock star drugs break a bitch heart, no love\n",
      "Emma Watts, Charlie Sheen, fuckin with no scrub\n",
      "Niggas want connects, got no plugs\n",
      "Nigga say they high, got no buzz\n",
      "Popsicle niggas wanna talk shit then say you froze up\n",
      "Young niggas wanna pop pills, just po up\n",
      "Went on a bang, Went on a bang\n",
      "Bitches came for me and my nigga eazy\n",
      "Threw that bitch out, got that ho one way\n",
      "Said she tryna stay, told that bitch no way\n",
      "That’s a preme nigga, B ripper, grim reaper\n",
      "I don’t get mad bitch, I just get even\n",
      "T-Raw magician, I don’t gotta trick or treat it\n",
      "That Ferrari California make a bitch a believer\n",
      "--------------------\n",
      "<class 'bs4.element.NavigableString'>\n"
     ]
    },
    {
     "data": {
      "text/plain": [
       "'\\n'"
      ]
     },
     "metadata": {},
     "output_type": "display_data"
    },
    {
     "name": "stdout",
     "output_type": "stream",
     "text": [
      "Bang Out (feat. Easy E & Ice Cube)\n",
      "------\n",
      "<class 'bs4.element.Tag'>\n",
      "----------\n",
      "[Hook]\n",
      "Million dollars’ worth of cars, all paid out\n",
      "See you niggas hatin, had to pull my chains out\n",
      "Make it rain even when it’s rained out\n",
      "Turn up, bang out\n",
      "Bang out, bang out\n",
      "Turn up, b-bang out\n",
      "Million dollars’ worth of cars, all paid out\n",
      "See you niggas hatin, had to pull my chains out\n",
      "--------------------\n",
      "<class 'bs4.element.NavigableString'>\n"
     ]
    },
    {
     "data": {
      "text/plain": [
       "'\\n'"
      ]
     },
     "metadata": {},
     "output_type": "display_data"
    },
    {
     "name": "stdout",
     "output_type": "stream",
     "text": [
      "Bang Out (feat. Easy E & Ice Cube)\n",
      "------\n",
      "<class 'bs4.element.Tag'>\n",
      "----------\n",
      "[Verse 2: Tyga]\n",
      "Met a bitch last night, won’t believe it\n",
      "Fuck her so hard, bitch probably stopped breathing\n",
      "Killed the pussy, in the hotel screamin\n",
      "Knock knock, going in like the housekeeper\n",
      "The room, keep it\n",
      "I fucked now I don’t need it\n",
      "T-Raw semen splattered on a bitch beaver\n",
      "Pipe dreamin, fuckin with a real baller\n",
      "The bitch is a bitch so I’m gon call er\n",
      "Then they act up, call the backup\n",
      "Don’t matter, as if she ever mattered\n",
      "Bitch shut up, throw it up, I throw the set up\n",
      "Tell her sit up, got her face down, bitch don’t put yo head up\n",
      "Yea, bitin on er ear\n",
      "Got a old bitch, pussy like souvenir\n",
      "I hop up in it, nigga I ain’t never scared\n",
      "Closet full of straps and the condom right here\n",
      "What I got?\n",
      "--------------------\n",
      "<class 'bs4.element.NavigableString'>\n"
     ]
    },
    {
     "data": {
      "text/plain": [
       "'\\n'"
      ]
     },
     "metadata": {},
     "output_type": "display_data"
    },
    {
     "name": "stdout",
     "output_type": "stream",
     "text": [
      "Bang Out (feat. Easy E & Ice Cube)\n",
      "------\n",
      "<class 'bs4.element.Tag'>\n",
      "----------\n",
      "[Hook]\n",
      "Million dollars’ worth of cars, all paid out\n",
      "See you niggas hatin, had to pull my chains out\n",
      "Make it rain even when it’s rained out\n",
      "Turn up, bang out\n",
      "Bang out, bang out\n",
      "Turn up, b-bang out\n",
      "Million dollars’ worth of cars, all paid out\n",
      "See you niggas hatin, had to pull my chains out\n",
      "--------------------\n",
      "<class 'bs4.element.NavigableString'>\n"
     ]
    },
    {
     "data": {
      "text/plain": [
       "'\\n'"
      ]
     },
     "metadata": {},
     "output_type": "display_data"
    },
    {
     "name": "stdout",
     "output_type": "stream",
     "text": [
      "Bang Out (feat. Easy E & Ice Cube)\n",
      "------\n",
      "<class 'bs4.element.Tag'>\n",
      "----------\n",
      "[Verse 3: Eazy-E]\n",
      "Beef on the street, to the beach I be rollin\n",
      "Never see me strollin, 40’s I be holdin\n",
      "Girls in the daisies, drive easy crazy\n",
      "Rolled up my windows as I turned on my AC\n",
      "Rollin down Crenshaw, see the hoes jockin\n",
      "Sunday nights poppin, see the foes hoppin\n",
      "My stereo’s bumpin that ATL funk\n",
      "You can call it what you want\n",
      "Either way the shit bump\n",
      "I’m a evil motherfucker ready to tear shit up\n",
      "I’mma put these things on you and never let up\n",
      "See my mama, she was home when I was born\n",
      "Bet a nigga like to eat shit than never been born\n",
      "But I ain’t going out unless 30 niggas die\n",
      "I’m dyin anyway so I’m thinkin suicide\n",
      "Shut the fuck up nigga cuz you ain’t seen shit\n",
      "I’m bout to take this blade and straight up rip\n",
      "--------------------\n",
      "<class 'bs4.element.NavigableString'>\n"
     ]
    },
    {
     "data": {
      "text/plain": [
       "'\\n'"
      ]
     },
     "metadata": {},
     "output_type": "display_data"
    },
    {
     "name": "stdout",
     "output_type": "stream",
     "text": [
      "Bang Out (feat. Easy E & Ice Cube)\n",
      "------\n",
      "<class 'bs4.element.Tag'>\n",
      "----------\n",
      "[Outro: Ice Cube]\n",
      "A bitch is a bitch\n",
      "So if I’m poor or rich\n",
      "I talk in the exact same pitch\n",
      "Now the title of bitch don’t apply to all women\n",
      "But all women have a little bitch in em\n",
      "--------------------\n",
      "<class 'bs4.element.NavigableString'>\n"
     ]
    },
    {
     "data": {
      "text/plain": [
       "'\\n'"
      ]
     },
     "metadata": {},
     "output_type": "display_data"
    },
    {
     "name": "stdout",
     "output_type": "stream",
     "text": [
      "Be Quiet (with Soulja Boy)\n",
      "------\n",
      "<class 'bs4.element.Tag'>\n",
      "----------\n",
      "[Soulja Boy Verse]\n",
      "wuz goin on these niggaz out here wildin\n",
      "They Don't want won't beef, better run to police.\n",
      "Better yet man you better keep quiet.\n",
      "iguana seats inside it, I'm flying on auto pilot\n",
      "Deep in these streets, spittin crack on these beats.\n",
      "But the word on the street is keep quiet.\n",
      "Me and my nigga tyga, patron got us wildin\n",
      "Stereophone cup, throwing money in my clubs, oh you mad becuz I'm stylin.\n",
      "Crush diamonds on my amuelet\n",
      "Its lookin like a slush hoe.\n",
      "Niggaz meaning muggin, better keep that shit on hush mode.\n",
      "25 Kush blunts, I call dat shit a quarter\n",
      "Took her to my crib and make her strip like fishburne daughter\n",
      "I swag to hard too I do it like no other\n",
      "runnin round talkin tellin keep that undercover\n",
      "--------------------\n",
      "<class 'bs4.element.NavigableString'>\n"
     ]
    },
    {
     "data": {
      "text/plain": [
       "'\\n'"
      ]
     },
     "metadata": {},
     "output_type": "display_data"
    },
    {
     "name": "stdout",
     "output_type": "stream",
     "text": [
      "Be Quiet (with Soulja Boy)\n",
      "------\n",
      "<class 'bs4.element.Tag'>\n",
      "----------\n",
      "[Hook]\n",
      "Jewerly too loud man I need to be quiet.\n",
      "What's that on my wrist? I told that bitch to be quiet.\n",
      "Gone on patron man I swear it got me wildin'\n",
      "If he know like I know tell that nigga be quiet.\n",
      "--------------------\n",
      "<class 'bs4.element.NavigableString'>\n"
     ]
    },
    {
     "data": {
      "text/plain": [
       "'\\n'"
      ]
     },
     "metadata": {},
     "output_type": "display_data"
    },
    {
     "name": "stdout",
     "output_type": "stream",
     "text": [
      "Be Quiet (with Soulja Boy)\n",
      "------\n",
      "<class 'bs4.element.Tag'>\n",
      "----------\n",
      "[Tyga Hook]\n",
      "Uhh.Jewelry to loud motherfucka its a siren.\n",
      "Big fuckin dogs you can hear my wolves hollerin'.\n",
      "On this patron man I got these bitches wildin'.\n",
      "If he know like I know tell that nigga be quiet.\n",
      "--------------------\n",
      "<class 'bs4.element.NavigableString'>\n"
     ]
    },
    {
     "data": {
      "text/plain": [
       "'\\n'"
      ]
     },
     "metadata": {},
     "output_type": "display_data"
    },
    {
     "name": "stdout",
     "output_type": "stream",
     "text": [
      "Be Quiet (with Soulja Boy)\n",
      "------\n",
      "<class 'bs4.element.Tag'>\n",
      "----------\n",
      "[Tyga]\n",
      "Ugh. Well its that big woolly monster pull up,\n",
      "pull up on your bumper mothafucka pull your mother slum dog million, hold up.\n",
      "I'm so cold I think I froze up.\n",
      "Melt that money like its nothin. Ugh.\n",
      "Spend it like I print it bitches blow it by the hundreds.\n",
      "Young Money this aint new.\n",
      "You just got up on it.\n",
      "I'm Big Willy chillin nigga you just little homie.\n",
      "I just flew Paris Gordon Ramsey up in London he throw,\n",
      "he so, go why dont I put you on it on it?\n",
      "Too many Twitter followers, many I'm poppin.\n",
      "Maybe its my big Why these hoes keep on watchin.\n",
      "I'm tatted out my mind literally I'm out my mind.\n",
      "I'm G'd up all the time. On some G Shit Be Quiet!\n",
      "--------------------\n",
      "<class 'bs4.element.NavigableString'>\n"
     ]
    },
    {
     "data": {
      "text/plain": [
       "'\\n'"
      ]
     },
     "metadata": {},
     "output_type": "display_data"
    },
    {
     "name": "stdout",
     "output_type": "stream",
     "text": [
      "Be Quiet (with Soulja Boy)\n",
      "------\n",
      "<class 'bs4.element.Tag'>\n",
      "----------\n",
      "[Hook]\n",
      "Jewerly too loud man I need to be quiet.\n",
      "What's that on my wrist? I told that bitch to be quiet.\n",
      "Gone on patron man I swear it got me wildin'\n",
      "If he know like I know tell that nigga be quiet.\n",
      "--------------------\n",
      "<class 'bs4.element.NavigableString'>\n"
     ]
    },
    {
     "data": {
      "text/plain": [
       "'\\n'"
      ]
     },
     "metadata": {},
     "output_type": "display_data"
    },
    {
     "name": "stdout",
     "output_type": "stream",
     "text": [
      "Be Quiet (with Soulja Boy)\n",
      "------\n",
      "<class 'bs4.element.Tag'>\n",
      "----------\n",
      "[Tyga Hook]\n",
      "Uhh.Jewelry to loud motherfucka its a siren.\n",
      "Big fuckin dogs you can hear my wolves hollerin'.\n",
      "On this patron man I got these bitches wildin'.\n",
      "If he know like I know tell that nigga be quiet.\n",
      "--------------------\n",
      "<class 'bs4.element.NavigableString'>\n"
     ]
    },
    {
     "data": {
      "text/plain": [
       "'\\n'"
      ]
     },
     "metadata": {},
     "output_type": "display_data"
    },
    {
     "name": "stdout",
     "output_type": "stream",
     "text": [
      "Birdman Interlude\n",
      "------\n",
      "<class 'bs4.element.Tag'>\n",
      "----------\n",
      "[Birdman]\n",
      "The young king... the lil homie Tyga\n",
      "It's yo turn, nigga... it's yo turn, playboy\n",
      "West Coast stand up to this Careless World, people\n",
      "Global flying on this journey...\n",
      "Tropical islands, poppin' bottles with supermodels...\n",
      "Blowing up the pounds (sunup to sundown)...\n",
      "Flying at higher heights... grinding hard...\n",
      "Money by the abundance...\n",
      "Yeah, YMCMB flashy life...\n",
      "What it do, young king... it's yo turn, boy...\n",
      "--------------------\n",
      "<class 'bs4.element.NavigableString'>\n"
     ]
    },
    {
     "data": {
      "text/plain": [
       "'\\n'"
      ]
     },
     "metadata": {},
     "output_type": "display_data"
    },
    {
     "name": "stdout",
     "output_type": "stream",
     "text": [
      "Bitch Betta Have My Money (feat. YG, Kurupt)\n",
      "------\n",
      "<class 'bs4.element.Tag'>\n",
      "----------\n",
      "[Chorus]\n",
      "Bitch better have my money (Bitch) yea\n",
      "Bitch better have my money\n",
      "Bitch better have my money (Bitch)\n",
      "Bitch better have my money\n",
      "--------------------\n",
      "<class 'bs4.element.NavigableString'>\n"
     ]
    },
    {
     "data": {
      "text/plain": [
       "'\\n'"
      ]
     },
     "metadata": {},
     "output_type": "display_data"
    },
    {
     "name": "stdout",
     "output_type": "stream",
     "text": [
      "Bitch Betta Have My Money (feat. YG, Kurupt)\n",
      "------\n",
      "<class 'bs4.element.Tag'>\n",
      "----------\n",
      "[Verse 1]\n",
      "Bitch better have my money, money\n",
      "Bring back a hundred take twenty, twenty\n",
      "Twenty more minutes then I'm coming\n",
      "I could fuck you longer but bitch I'm in a hurry\n",
      "Hu-hurry up Usain Bolt to the money\n",
      "Swear I'm the shit, everybody fly around me\n",
      "Rub like hustling you hustling wit dummies\n",
      "I got a big ego, bitch don't touch me\n",
      "Fuck her for some money, Fuckin out the country\n",
      "Pistol whip the homies, you at home lonely\n",
      "colin macaulay, coco white boobies\n",
      "Fuckin fuck tha police, these niggas know they know me\n",
      "50 for the rolly, niggas ain't brodies\n",
      "hoes got em trippin, cuff her like cuff links\n",
      "don't know where her tongue be, rinse it in the fuckin sink\n",
      "I don't care what the bitch think, I just know one thing\n",
      "--------------------\n",
      "<class 'bs4.element.NavigableString'>\n"
     ]
    },
    {
     "data": {
      "text/plain": [
       "'\\n'"
      ]
     },
     "metadata": {},
     "output_type": "display_data"
    },
    {
     "name": "stdout",
     "output_type": "stream",
     "text": [
      "Bitch Betta Have My Money (feat. YG, Kurupt)\n",
      "------\n",
      "<class 'bs4.element.Tag'>\n",
      "----------\n",
      "[Chorus]\n",
      "Bitch better have my money (Bitch)\n",
      "Bitch better have my money (Bitch)\n",
      "Bitch better have my money (Bitch)\n",
      "Bitch better have my money (Bitch)\n",
      "Bitch better have my money (Bitch) YA\n",
      "Bitch better have my money (Bitch)\n",
      "Bitch better have my money (Bitch)\n",
      "Bitch better have my money (Bitch)\n",
      "--------------------\n",
      "<class 'bs4.element.NavigableString'>\n"
     ]
    },
    {
     "data": {
      "text/plain": [
       "'\\n'"
      ]
     },
     "metadata": {},
     "output_type": "display_data"
    },
    {
     "name": "stdout",
     "output_type": "stream",
     "text": [
      "Bitch Betta Have My Money (feat. YG, Kurupt)\n",
      "------\n",
      "<class 'bs4.element.Tag'>\n",
      "----------\n",
      "[Verse 2]\n",
      "Bitch better have my money\n",
      "If the bitch dont tell her bounce like a bunny\n",
      "I don't give a fuck bout what that bitch talking\n",
      "she ain't got the cash tell that bitch get to walking\n",
      "I eat sleep shit think about them dollars\n",
      "pop a pill, pop a nigga, pop my colla\n",
      "I'm popping like a tic-tac\n",
      "bitch you better get back\n",
      "Funny looking bitch\n",
      "who you been fuckin sin bad?\n",
      "I did dat, do it all go big,\n",
      "never small, got a crib wit a closet\n",
      "you would think you at the mall\n",
      "in the mouth like halls\n",
      "in the jaws like wisdom teeth\n",
      "You hear da beat?\n",
      "I bet you they gon bang this in the middle east\n",
      "I been a freak\n",
      "9th grade i was fucking in the bathroom\n",
      "I was fuckin at school like my house didn't have rooms\n",
      "my best friend is named benjamin frank\n",
      "so bitch better have my cake fo hunnit !\n",
      "--------------------\n",
      "<class 'bs4.element.NavigableString'>\n"
     ]
    },
    {
     "data": {
      "text/plain": [
       "'\\n'"
      ]
     },
     "metadata": {},
     "output_type": "display_data"
    },
    {
     "name": "stdout",
     "output_type": "stream",
     "text": [
      "Bitch Betta Have My Money (feat. YG, Kurupt)\n",
      "------\n",
      "<class 'bs4.element.Tag'>\n",
      "----------\n",
      "[Chorus]\n",
      "Bitch better have my money (Bitch)\n",
      "Bitch better have my money (Bitch)\n",
      "Bitch better have my money (Bitch)\n",
      "Bitch better have my money (Bitch)\n",
      "Bitch better have my money (Bitch) YA\n",
      "Bitch better have my money (Bitch)\n",
      "Bitch better have my money (Bitch)\n",
      "Bitch better have my money (Bitch)\n",
      "--------------------\n",
      "<class 'bs4.element.NavigableString'>\n"
     ]
    },
    {
     "data": {
      "text/plain": [
       "'\\n'"
      ]
     },
     "metadata": {},
     "output_type": "display_data"
    },
    {
     "name": "stdout",
     "output_type": "stream",
     "text": [
      "Bitch Betta Have My Money (feat. YG, Kurupt)\n",
      "------\n",
      "<class 'bs4.element.Tag'>\n",
      "----------\n",
      "[Verse 3]\n",
      "Man this bitch better have my money\n",
      "this bitch so smart she nothing but a dummy\n",
      "bitch better have my mulla\n",
      "fuckin round with a real nigga and a shoota\n",
      "little dust back bitch make a nigga rich\n",
      "shut the fuck up, and jump on this dick\n",
      "nothin but a motherfuckin skank\n",
      "fuck what you talking bout and fuck what you thank\n",
      "I need money I need it real fast\n",
      "I need it real bad like white girls need ass\n",
      "maybe you can help me break this dub\n",
      "twenty motherfuckin racks up up in the club\n",
      "Club up up in the front thats why I send that bitch to get each one\n",
      "top rank treat her like a bank I don't give a fuck a bitch think bitch what you saying\n",
      "--------------------\n",
      "<class 'bs4.element.NavigableString'>\n"
     ]
    },
    {
     "data": {
      "text/plain": [
       "'\\n'"
      ]
     },
     "metadata": {},
     "output_type": "display_data"
    },
    {
     "name": "stdout",
     "output_type": "stream",
     "text": [
      "Bitch Betta Have My Money (feat. YG, Kurupt)\n",
      "------\n",
      "<class 'bs4.element.Tag'>\n",
      "----------\n",
      "[Chorus]\n",
      "Bitch better have my money (Bitch)\n",
      "Bitch better have my money (Bitch)\n",
      "Bitch better have my money (Bitch)\n",
      "Bitch better have my money (Bitch)\n",
      "--------------------\n",
      "<class 'bs4.element.NavigableString'>\n"
     ]
    },
    {
     "data": {
      "text/plain": [
       "'\\n'"
      ]
     },
     "metadata": {},
     "output_type": "display_data"
    },
    {
     "name": "stdout",
     "output_type": "stream",
     "text": [
      "<class 'bs4.element.NavigableString'>\n"
     ]
    },
    {
     "data": {
      "text/plain": [
       "'\\n'"
      ]
     },
     "metadata": {},
     "output_type": "display_data"
    },
    {
     "name": "stdout",
     "output_type": "stream",
     "text": [
      "Bitch I'm The Shit\n",
      "------\n",
      "<class 'bs4.element.Tag'>\n",
      "----------\n",
      "[Chorus]\n",
      "Uh bitch I'm the shit\n",
      "Bi-Bitch I'm the shit\n",
      "Bi-Bitch I'm the shit\n",
      "I ain't worried bout shit\n",
      "Bi-Bitch I'm the shit\n",
      "Bi-Bitch I'm the shit\n",
      "I'm on my own shit\n",
      "you don't see my outfit\n",
      "Bitch I'm ballin ballin ballin ballin ballin\n",
      "Bi-bi-bitch I'm the shit\n",
      "See me ballin ballin ballin ballin ballin\n",
      "Bitch I'm the shit\n",
      "--------------------\n",
      "<class 'bs4.element.NavigableString'>\n"
     ]
    },
    {
     "data": {
      "text/plain": [
       "'\\n'"
      ]
     },
     "metadata": {},
     "output_type": "display_data"
    },
    {
     "name": "stdout",
     "output_type": "stream",
     "text": [
      "Bitch I'm The Shit\n",
      "------\n",
      "<class 'bs4.element.Tag'>\n",
      "----------\n",
      "[Verse 1]\n",
      "Bitches all in my car, they want to run with the star\n",
      "Got all these niggas mad, pop the trunk flash a face off\n",
      "Nigga you ain't met T-Raw, hit the bass so hard\n",
      "Got bitches taken it off, I can't fuck wit she too tall\n",
      "Got a bitch dat play ball, found the pussy I charge\n",
      "Make that ass applaud, i don't cuff it like the law\n",
      "I fly a bitch to milan, she don't know what I'm on\n",
      "I play the game so crazy, she thinking this shit soft\n",
      "--------------------\n",
      "<class 'bs4.element.NavigableString'>\n"
     ]
    },
    {
     "data": {
      "text/plain": [
       "'\\n'"
      ]
     },
     "metadata": {},
     "output_type": "display_data"
    },
    {
     "name": "stdout",
     "output_type": "stream",
     "text": [
      "Bitch I'm The Shit\n",
      "------\n",
      "<class 'bs4.element.Tag'>\n",
      "----------\n",
      "[Hook]\n",
      "Reel em in, wheel em in, like bana white in wheel a fortune\n",
      "Why you all up in her face, man she thinking that shit torture\n",
      "I I win again win again cuz nigga I stay scorching\n",
      "I'm the man man on fire kill the style like abortion\n",
      "--------------------\n",
      "<class 'bs4.element.NavigableString'>\n"
     ]
    },
    {
     "data": {
      "text/plain": [
       "'\\n'"
      ]
     },
     "metadata": {},
     "output_type": "display_data"
    },
    {
     "name": "stdout",
     "output_type": "stream",
     "text": [
      "Bitch I'm The Shit\n",
      "------\n",
      "<class 'bs4.element.Tag'>\n",
      "----------\n",
      "[Chorus]\n",
      "Cuz bitch I'm the shit\n",
      "Bi-Bitch I'm the shit\n",
      "Bi-Bitch I'm the shit\n",
      "I ain't worried bout shit\n",
      "Bi-Bitch I'm the shit\n",
      "Bi-Bitch I'm the shit\n",
      "I'm on my own shit\n",
      "you don't see my outfit\n",
      "Bitch I'm ballin ballin ballin ballin ballin\n",
      "Bi-bi-bitch I'm the shit\n",
      "See me ballin ballin ballin ballin ballin\n",
      "Bitch I'm the shit\n",
      "--------------------\n",
      "<class 'bs4.element.NavigableString'>\n"
     ]
    },
    {
     "data": {
      "text/plain": [
       "'\\n'"
      ]
     },
     "metadata": {},
     "output_type": "display_data"
    },
    {
     "name": "stdout",
     "output_type": "stream",
     "text": [
      "Bitch I'm The Shit\n",
      "------\n",
      "<class 'bs4.element.Tag'>\n",
      "----------\n",
      "[Verse 2]\n",
      "Man these hoes problems so I fuck em never call em\n",
      "but I love love black woman and they love whats in my wallet\n",
      "got got gold on in dis frozen C\n",
      "that last king move over, Talkin loud like my molder\n",
      "you want some scary shit like october HAHA\n",
      "take a seat have a soda why you staring over your shoulda\n",
      "you good man we don't want ya\n",
      "and you faker than willy wonka\n",
      "real shit I told you, new styles i showed ya\n",
      "got green like its a locust, why you on my bumper I'm focused\n",
      "--------------------\n",
      "<class 'bs4.element.NavigableString'>\n"
     ]
    },
    {
     "data": {
      "text/plain": [
       "'\\n'"
      ]
     },
     "metadata": {},
     "output_type": "display_data"
    },
    {
     "name": "stdout",
     "output_type": "stream",
     "text": [
      "Bitch I'm The Shit\n",
      "------\n",
      "<class 'bs4.element.Tag'>\n",
      "----------\n",
      "[Hook]\n",
      "Reel em in, wheel em in, like bana white in wheel a fortune\n",
      "Why you all up in her face, man she thinking that shit torture\n",
      "I I win again win again cuz nigga I stay scorching\n",
      "I'm the man man on fire kill the style like abortion\n",
      "--------------------\n",
      "<class 'bs4.element.NavigableString'>\n"
     ]
    },
    {
     "data": {
      "text/plain": [
       "'\\n'"
      ]
     },
     "metadata": {},
     "output_type": "display_data"
    },
    {
     "name": "stdout",
     "output_type": "stream",
     "text": [
      "Bitch I'm The Shit\n",
      "------\n",
      "<class 'bs4.element.Tag'>\n",
      "----------\n",
      "[Chorus]\n",
      "Cuz bitch I'm the shit\n",
      "Bi-Bitch I'm the shit\n",
      "Bi-Bitch I'm the shit\n",
      "I ain't worried bout shit\n",
      "Bi-Bitch I'm the shit\n",
      "Bi-Bitch I'm the shit\n",
      "I'm on my own shit\n",
      "you don't see my outfit\n",
      "Bitch I'm ballin ballin ballin ballin ballin\n",
      "Bi-bi-bitch I'm the shit\n",
      "See me ballin ballin ballin ballin ballin\n",
      "Bitch I'm the shit\n",
      "--------------------\n",
      "<class 'bs4.element.NavigableString'>\n"
     ]
    },
    {
     "data": {
      "text/plain": [
       "'\\n'"
      ]
     },
     "metadata": {},
     "output_type": "display_data"
    },
    {
     "name": "stdout",
     "output_type": "stream",
     "text": [
      "<class 'bs4.element.NavigableString'>\n"
     ]
    },
    {
     "data": {
      "text/plain": [
       "'\\n'"
      ]
     },
     "metadata": {},
     "output_type": "display_data"
    },
    {
     "name": "stdout",
     "output_type": "stream",
     "text": [
      "Bitches (with Chris Brown)\n",
      "------\n",
      "<class 'bs4.element.Tag'>\n",
      "----------\n",
      "[Chris Brown:]\n",
      "Higher than the moon, nigga what up\n",
      "They ain't worth it, nigga need to shut up\n",
      "While I'm in the pussy, face down in the buttock\n",
      "It ain't shit to her, me im just a fuck up\n",
      "Fuck a hand shake nigga we ain't brothers\n",
      "On that West side where they reppin for they colors\n",
      "If you talking big shit, then my dick will make you stutter\n",
      "All up in your face like it's butter, [?]\n",
      "Right now, make her scream my name and pipe her right down\n",
      "Nasty I'm a king bitch, give a nigga a wipedown\n",
      "Twenty four bitches, I'm rolling on chrome\n",
      "My niggas are smoking on that loud\n",
      "Bitch try to flunt, Imma blow your back out\n",
      "I ain't thinking bout a nigga that walk past you\n",
      "Bitch stole my blunt and said she love my tatoos\n",
      "I'm that dude, I slang wood, that bamboo\n",
      "But when she driving on that dick she a damn fool\n",
      "--------------------\n",
      "<class 'bs4.element.NavigableString'>\n"
     ]
    },
    {
     "data": {
      "text/plain": [
       "'\\n'"
      ]
     },
     "metadata": {},
     "output_type": "display_data"
    },
    {
     "name": "stdout",
     "output_type": "stream",
     "text": [
      "Bitches (with Chris Brown)\n",
      "------\n",
      "<class 'bs4.element.Tag'>\n",
      "----------\n",
      "[Hook:]\n",
      "I don't need no niggas in my section\n",
      "All bitches, all bitches, all bitches, all bitches ah\n",
      "I don't need no niggas in my section\n",
      "All bitches, all bitches, all bitches, all bitches ah\n",
      "All these bitches I don't wanna see no niggas\n",
      "All these bitches I don't wanna see no niggas\n",
      "Really really though, all these bitches, i don't want no niggas\n",
      "Cause the real niggas that post it up already with us\n",
      "--------------------\n",
      "<class 'bs4.element.NavigableString'>\n"
     ]
    },
    {
     "data": {
      "text/plain": [
       "'\\n'"
      ]
     },
     "metadata": {},
     "output_type": "display_data"
    },
    {
     "name": "stdout",
     "output_type": "stream",
     "text": [
      "Bitches (with Chris Brown)\n",
      "------\n",
      "<class 'bs4.element.Tag'>\n",
      "----------\n",
      "[Chris Brown:]\n",
      "It's a habit, in the club bottle magic\n",
      "Fucking with these ratchets no purses they got baskets\n",
      "Its a hand out, these bitches high feeling guess they addicts\n",
      "And I ask them are you in like Patrick\n",
      "Playing with the pussy like it's madden\n",
      "Fire like a dragon\n",
      "The one say she like me then they all bandwagon\n",
      "Been leadin as hoes, but they pretty like a pageant\n",
      "She said she'd let me cut, I had to stab it, fo real though\n",
      "--------------------\n",
      "<class 'bs4.element.NavigableString'>\n"
     ]
    },
    {
     "data": {
      "text/plain": [
       "'\\n'"
      ]
     },
     "metadata": {},
     "output_type": "display_data"
    },
    {
     "name": "stdout",
     "output_type": "stream",
     "text": [
      "Bitches (with Chris Brown)\n",
      "------\n",
      "<class 'bs4.element.Tag'>\n",
      "----------\n",
      "[Hook]\n",
      "--------------------\n",
      "<class 'bs4.element.NavigableString'>\n"
     ]
    },
    {
     "data": {
      "text/plain": [
       "'\\n'"
      ]
     },
     "metadata": {},
     "output_type": "display_data"
    },
    {
     "name": "stdout",
     "output_type": "stream",
     "text": [
      "Bitches (with Chris Brown)\n",
      "------\n",
      "<class 'bs4.element.Tag'>\n",
      "----------\n",
      "[Tyga:]\n",
      "Audemar, big bitch, big tipper\n",
      "Super club, 20,000 for the liquor\n",
      "You see the bitch I'm with, you'll probably never get her\n",
      "No cop bottles, they're for broke niggas\n",
      "In the corner posted it up with the dome giver\n",
      "Money flowin like a wet pussy, thats a long river\n",
      "So you got your bitch on lock, I'll slim jim her\n",
      "It's that time of the month, fuck timber\n",
      "All my niggas got a bottle with a blunt lit up\n",
      "Before you pop up, throw your set up\n",
      "Hop in this bitch 'til the club's lights lit up, leave with her\n",
      "Big spender, a bitch shut up\n",
      "T-Killa illuminati all through your body\n",
      "She blow me like a twelve gang shawty you feel me\n",
      "Pull up in the 'rari, the fuckin life of the party\n",
      "I'm getting hoes regardless\n",
      "Before this rap shit, I'm honest\n",
      "--------------------\n",
      "<class 'bs4.element.NavigableString'>\n"
     ]
    },
    {
     "data": {
      "text/plain": [
       "'\\n'"
      ]
     },
     "metadata": {},
     "output_type": "display_data"
    },
    {
     "name": "stdout",
     "output_type": "stream",
     "text": [
      "Bitches (with Chris Brown)\n",
      "------\n",
      "<class 'bs4.element.Tag'>\n",
      "----------\n",
      "[Hook]\n",
      "--------------------\n",
      "<class 'bs4.element.NavigableString'>\n"
     ]
    },
    {
     "data": {
      "text/plain": [
       "'\\n'"
      ]
     },
     "metadata": {},
     "output_type": "display_data"
    },
    {
     "name": "stdout",
     "output_type": "stream",
     "text": [
      "Bitches Ain't Shit (feat. YG & Nipsey Hussle)\n",
      "------\n",
      "<class 'bs4.element.Tag'>\n",
      "----------\n",
      "[Hook: Nate Dogg Sample]\n",
      "Bitches ain't shit, but hoes and tricks [x8]\n",
      "--------------------\n",
      "<class 'bs4.element.NavigableString'>\n"
     ]
    },
    {
     "data": {
      "text/plain": [
       "'\\n'"
      ]
     },
     "metadata": {},
     "output_type": "display_data"
    },
    {
     "name": "stdout",
     "output_type": "stream",
     "text": [
      "Bitches Ain't Shit (feat. YG & Nipsey Hussle)\n",
      "------\n",
      "<class 'bs4.element.Tag'>\n",
      "----------\n",
      "[Verse 1: YG]\n",
      "Aye... uh\n",
      "Got this bitch named Tar, She let me fuck her in the car\n",
      "Like Kim Kardashian, she wanna be a star\n",
      "Got this bitch named Britanny, With Big ass titties\n",
      "But bitches ain't shit, cause Bitches act Mickey (ughhhhh)\n",
      "Got a main bitch, but I don't need her\n",
      "Every time we fuck, I gotta pop a bean first\n",
      "Hit the purp, then eat that pussy for dessert\n",
      "It gets worse, just watch when she squirt\n",
      "I got this bitch who act Sadity\n",
      "She live in the cities\n",
      "Every time she hear I got a new bitch, She says she miss me\n",
      "I'm a thug, Got this thug bitch she stay up in the Jungles\n",
      "Every time we go to Crenshaw Mall, she have a Rumble\n",
      "Got this bitch in the Hoovas, I don't wanna losaaa\n",
      "Ass so fat to measure it, I need a rulaaa\n",
      "Got this Bad Bitch, that go to North-ridge\n",
      "She always wear Gucci, but she can't afford it\n",
      "--------------------\n",
      "<class 'bs4.element.NavigableString'>\n"
     ]
    },
    {
     "data": {
      "text/plain": [
       "'\\n'"
      ]
     },
     "metadata": {},
     "output_type": "display_data"
    },
    {
     "name": "stdout",
     "output_type": "stream",
     "text": [
      "Bitches Ain't Shit (feat. YG & Nipsey Hussle)\n",
      "------\n",
      "<class 'bs4.element.Tag'>\n",
      "----------\n",
      "[Hook]\n",
      "Bitches ain't shit, but hoes and tricks [x8]\n",
      "--------------------\n",
      "<class 'bs4.element.NavigableString'>\n"
     ]
    },
    {
     "data": {
      "text/plain": [
       "'\\n'"
      ]
     },
     "metadata": {},
     "output_type": "display_data"
    },
    {
     "name": "stdout",
     "output_type": "stream",
     "text": [
      "Bitches Ain't Shit (feat. YG & Nipsey Hussle)\n",
      "------\n",
      "<class 'bs4.element.Tag'>\n",
      "----------\n",
      "[Verse 2: Tyga]\n",
      "Take a bitch life, Now it's my life\n",
      "Need a bitch that can Fuck, Cook, Clean, right\n",
      "Turn a bitch out, make her lick twice\n",
      "Yeah she eat pussy, but she don't fuck dikes\n",
      "Laid in the middlssssssssssssssssssssssssssssssse, two Miller Lites\n",
      "Straight kill a bitch, pssssssssssssssssssssssop rocks little sprite\n",
      "Bam bam little chubby ass goey car\n",
      "Tell the bitch twinkle twinklessssssssssssssss come meet a star\n",
      "I don't Odom, no Lamar\n",
      "Kind of money make her come out her Leotard\n",
      "I'm in this bitch, like my dick hard\n",
      "And I shuffle money, Like playing cards\n",
      "Uhssssssssssssssss\n",
      "YG tell them bitches what's up, they ready to cut no\n",
      "Links in my suit, we don't cuff em\n",
      "Straight duck em, Like Donald\n",
      "Quack Qwak\n",
      "I don't even know the sound them bitches make cause...\n",
      "--------------------\n",
      "<class 'bs4.element.NavigableString'>\n"
     ]
    },
    {
     "data": {
      "text/plain": [
       "'\\n'"
      ]
     },
     "metadata": {},
     "output_type": "display_data"
    },
    {
     "name": "stdout",
     "output_type": "stream",
     "text": [
      "Bitches Ain't Shit (feat. YG & Nipsey Hussle)\n",
      "------\n",
      "<class 'bs4.element.Tag'>\n",
      "----------\n",
      "[Hook:]\n",
      "Bitches ain't shit, but hoes and tricks [x8]\n",
      "--------------------\n",
      "<class 'bs4.element.NavigableString'>\n"
     ]
    },
    {
     "data": {
      "text/plain": [
       "'\\n'"
      ]
     },
     "metadata": {},
     "output_type": "display_data"
    },
    {
     "name": "stdout",
     "output_type": "stream",
     "text": [
      "Bitches Ain't Shit (feat. YG & Nipsey Hussle)\n",
      "------\n",
      "<class 'bs4.element.Tag'>\n",
      "----------\n",
      "[Verse 3: Nipsey Hussle]\n",
      "Look, I like bitches, that's lightskinned-ed\n",
      "With a whole a lot of ass, and get right with it\n",
      "Off a pill, I can probably make her like bitches\n",
      "Lick Lick it, like a lolli till it's like ssssssssssssssssssssssliquid\n",
      "These hoochies always talking bout, wher my dick is\n",
      "But if it's not in your mouth, then get out my business\n",
      "A nigga real ratchet, I ain't wifing shit\n",
      "Known to fuck and cut her off, Light switches\n",
      "Uh, Now What I get? Money bitch\n",
      "You look good, but to me you just a bummy bitch\n",
      "And the funny shit is, you know my other bitch\n",
      "Met me through her, on some under cover lover shit\n",
      "Got damn, ain't that your homegirl?\n",
      "Scandalous bitches, we living in a cold world\n",
      "That's why I flip em, flip em like ah zone girl\n",
      "And every week I change my number to my phone cause...\n",
      "--------------------\n",
      "<class 'bs4.element.NavigableString'>\n"
     ]
    },
    {
     "data": {
      "text/plain": [
       "'\\n'"
      ]
     },
     "metadata": {},
     "output_type": "display_data"
    },
    {
     "name": "stdout",
     "output_type": "stream",
     "text": [
      "Bitches Ain't Shit (feat. YG & Nipsey Hussle)\n",
      "------\n",
      "<class 'bs4.element.Tag'>\n",
      "----------\n",
      "[Hook]\n",
      "Bitches ain't shit but, hoes and tricks [Repeat]\n",
      "--------------------\n",
      "<class 'bs4.element.NavigableString'>\n"
     ]
    },
    {
     "data": {
      "text/plain": [
       "'\\n'"
      ]
     },
     "metadata": {},
     "output_type": "display_data"
    },
    {
     "name": "stdout",
     "output_type": "stream",
     "text": [
      "<class 'bs4.element.NavigableString'>\n"
     ]
    },
    {
     "data": {
      "text/plain": [
       "'\\n'"
      ]
     },
     "metadata": {},
     "output_type": "display_data"
    },
    {
     "name": "stdout",
     "output_type": "stream",
     "text": [
      "<class 'bs4.element.NavigableString'>\n"
     ]
    },
    {
     "data": {
      "text/plain": [
       "'\\n'"
      ]
     },
     "metadata": {},
     "output_type": "display_data"
    },
    {
     "name": "stdout",
     "output_type": "stream",
     "text": [
      "<class 'bs4.element.NavigableString'>\n"
     ]
    },
    {
     "data": {
      "text/plain": [
       "'\\n'"
      ]
     },
     "metadata": {},
     "output_type": "display_data"
    },
    {
     "name": "stdout",
     "output_type": "stream",
     "text": [
      "<class 'bs4.element.NavigableString'>\n"
     ]
    },
    {
     "data": {
      "text/plain": [
       "'\\n'"
      ]
     },
     "metadata": {},
     "output_type": "display_data"
    },
    {
     "name": "stdout",
     "output_type": "stream",
     "text": [
      "<class 'bs4.element.NavigableString'>\n"
     ]
    },
    {
     "data": {
      "text/plain": [
       "'\\n'"
      ]
     },
     "metadata": {},
     "output_type": "display_data"
    },
    {
     "name": "stdout",
     "output_type": "stream",
     "text": [
      "<class 'bs4.element.NavigableString'>\n"
     ]
    },
    {
     "data": {
      "text/plain": [
       "'\\n'"
      ]
     },
     "metadata": {},
     "output_type": "display_data"
    },
    {
     "name": "stdout",
     "output_type": "stream",
     "text": [
      "<class 'bs4.element.NavigableString'>\n"
     ]
    },
    {
     "data": {
      "text/plain": [
       "'\\n'"
      ]
     },
     "metadata": {},
     "output_type": "display_data"
    },
    {
     "name": "stdout",
     "output_type": "stream",
     "text": [
      "Black Crowns\n",
      "------\n",
      "<class 'bs4.element.Tag'>\n",
      "----------\n",
      "[Hook]\n",
      "All I see is black crowns\n",
      "King me ‘cause this is my time now\n",
      "So all you other niggas bow down\n",
      "‘Cause all I see on me is black crowns\n",
      "Black crowns\n",
      "--------------------\n",
      "<class 'bs4.element.NavigableString'>\n"
     ]
    },
    {
     "data": {
      "text/plain": [
       "'\\n'"
      ]
     },
     "metadata": {},
     "output_type": "display_data"
    },
    {
     "name": "stdout",
     "output_type": "stream",
     "text": [
      "Black Crowns\n",
      "------\n",
      "<class 'bs4.element.Tag'>\n",
      "----------\n",
      "[Verse 1]\n",
      "Uhh, heavenly father, appoint me to the coronation\n",
      "I deserve it, brought music for clarification\n",
      "Envision my past, Egypt reincarnated\n",
      "Negativity hill, over the hump camels waiting\n",
      "Never gave up, most of my peers forsaken\n",
      "One make it, we all make it but I delivered that patient\n",
      "King chronicles, never write it too logical\n",
      "Fake niggas saying 'What up, fam?' but we ain’t biological\n",
      "Hands down to my mother, she the greatest ever\n",
      "Since I was the only child, wasn’t too much to stress her\n",
      "Waking up before work, leaving allowance on the dresser\n",
      "Raising the prince under pressure, no king, no refuge\n",
      "It’s all good, got homies like Boyz n the Hood\n",
      "We all good, I mean no matter what circumstances was\n",
      "Champagne, weed, pills, it do the same\n",
      "These niggas gassed up, too much butane\n",
      "Working hard like one day I’ll afford the 4-door Porsche\n",
      "Approaching every corner cautious\n",
      "Too much shopping, niggas calling you a target\n",
      "Too much flossing, niggas gossiping in your blog shit\n",
      "I rather put one in the air, congratulate careers\n",
      "Death defying moments, people that I ain’t seen in years\n",
      "What you running from when you you’re your only fear?\n",
      "Guess my time is here, now…\n",
      "--------------------\n",
      "<class 'bs4.element.NavigableString'>\n"
     ]
    },
    {
     "data": {
      "text/plain": [
       "'\\n'"
      ]
     },
     "metadata": {},
     "output_type": "display_data"
    },
    {
     "name": "stdout",
     "output_type": "stream",
     "text": [
      "Black Crowns\n",
      "------\n",
      "<class 'bs4.element.Tag'>\n",
      "----------\n",
      "[Hook (x2)]\n",
      "All I see is black crowns\n",
      "King me ‘cause this is my time now\n",
      "So all you other niggas bow down\n",
      "‘Cause all I see on me is black crowns\n",
      "Black crowns\n",
      "--------------------\n",
      "<class 'bs4.element.NavigableString'>\n"
     ]
    },
    {
     "data": {
      "text/plain": [
       "'\\n'"
      ]
     },
     "metadata": {},
     "output_type": "display_data"
    },
    {
     "name": "stdout",
     "output_type": "stream",
     "text": [
      "Black Crowns\n",
      "------\n",
      "<class 'bs4.element.Tag'>\n",
      "----------\n",
      "[Verse 2]\n",
      "Uhh, fatigue, I’m feeling jaded\n",
      "She gave me the number but I ain’t never saved it\n",
      "shit is solid, why these niggas played it?\n",
      "Dealt the right cards, but I ain't get to play it\n",
      "Determine payrolls, living the lifestyle\n",
      "You couldn’t be in if you was to see it right now\n",
      "I think I see it right now\n",
      "They judge me every day, life on trial\n",
      "Take your money, niggas betting on my downfall\n",
      "Many all real hoes, bitches gonna call\n",
      "Five fingers, pledge allegiance to my one God\n",
      "We’d have been through hell, so heaven ain’t far\n",
      "Two cars sedans, tearing it on the way to the Grammys\n",
      "Guess we nominated, guess they appreciate us\n",
      "These niggas often imitate us\n",
      "We just stay creative\n",
      "--------------------\n",
      "<class 'bs4.element.NavigableString'>\n"
     ]
    },
    {
     "data": {
      "text/plain": [
       "'\\n'"
      ]
     },
     "metadata": {},
     "output_type": "display_data"
    },
    {
     "name": "stdout",
     "output_type": "stream",
     "text": [
      "Black Crowns\n",
      "------\n",
      "<class 'bs4.element.Tag'>\n",
      "----------\n",
      "[Hook]\n",
      "All I see is black crowns\n",
      "King me ‘cause this is my time now\n",
      "So all you other niggas bow down\n",
      "‘Cause all I see on me is black crowns\n",
      "Black crowns\n",
      "--------------------\n",
      "<class 'bs4.element.NavigableString'>\n"
     ]
    },
    {
     "data": {
      "text/plain": [
       "'\\n'"
      ]
     },
     "metadata": {},
     "output_type": "display_data"
    },
    {
     "name": "stdout",
     "output_type": "stream",
     "text": [
      "Black Crowns\n",
      "------\n",
      "<class 'bs4.element.Tag'>\n",
      "----------\n",
      "[Bridge]\n",
      "One time in the, one time in the air for the…\n",
      "Two, two, two times in the, two times in the air for the…\n",
      "Both hands, both hands, both hands in the air for the…\n",
      "One time, two times, times…\n",
      "--------------------\n",
      "<class 'bs4.element.NavigableString'>\n"
     ]
    },
    {
     "data": {
      "text/plain": [
       "'\\n'"
      ]
     },
     "metadata": {},
     "output_type": "display_data"
    },
    {
     "name": "stdout",
     "output_type": "stream",
     "text": [
      "Black Crowns\n",
      "------\n",
      "<class 'bs4.element.Tag'>\n",
      "----------\n",
      "[Outro: Tyga’s Mother]\n",
      "Just wanted to call to let you know how proud I am\n",
      "Sweetie, this album is amazing\n",
      "I have never imagined that God would bless you so much\n",
      "As he is going to continue to bless you\n",
      "He’s already made you the king that you are\n",
      "Only one to wear the black crown\n",
      "Well, I just want you to know how much I love you\n",
      "And how awesome you are\n",
      "And how I am so, so honored to have a son as yourself\n",
      "I could never have ask for more, you’re just amazing\n",
      "And I am just so excited for this album\n",
      "I think this album is definitely your baby\n",
      "And it’s definitely gonna be heard by a lot of people\n",
      "And a lot of people are going to love it\n",
      "They’re gonna love it, love it, love it\n",
      "And God’s gonna continue to bless you with all the talents that you…\n",
      "I’m just so proud, I just wanna shed a tear right now\n",
      "OK mommy loves you and you the best thing ever\n",
      "You are my heart. I love you sweetie, bye bye\n",
      "--------------------\n",
      "<class 'bs4.element.NavigableString'>\n"
     ]
    },
    {
     "data": {
      "text/plain": [
       "'\\n'"
      ]
     },
     "metadata": {},
     "output_type": "display_data"
    },
    {
     "name": "stdout",
     "output_type": "stream",
     "text": [
      "Bouncin' On My Dick (feat. Dash D Cadet (Cold Flamez))\n",
      "------\n",
      "<class 'bs4.element.Tag'>\n",
      "----------\n",
      "[Intro:]\n",
      "Ha, ey ey tell them bitches to come through ya\n",
      "Tell them to bring a bottle too\n",
      "--------------------\n",
      "<class 'bs4.element.NavigableString'>\n"
     ]
    },
    {
     "data": {
      "text/plain": [
       "'\\n'"
      ]
     },
     "metadata": {},
     "output_type": "display_data"
    },
    {
     "name": "stdout",
     "output_type": "stream",
     "text": [
      "<class 'bs4.element.NavigableString'>\n"
     ]
    },
    {
     "data": {
      "text/plain": [
       "'\\n'"
      ]
     },
     "metadata": {},
     "output_type": "display_data"
    },
    {
     "name": "stdout",
     "output_type": "stream",
     "text": [
      "Bouncin' On My Dick (feat. Dash D Cadet (Cold Flamez))\n",
      "------\n",
      "<class 'bs4.element.Tag'>\n",
      "----------\n",
      "[Hook:]\n",
      "Got a badass bitch just bouncin' on my dick\n",
      "Bouncin' on my dick\n",
      "Bouncin' on my dick\n",
      "--------------------\n",
      "<class 'bs4.element.NavigableString'>\n"
     ]
    },
    {
     "data": {
      "text/plain": [
       "'\\n'"
      ]
     },
     "metadata": {},
     "output_type": "display_data"
    },
    {
     "name": "stdout",
     "output_type": "stream",
     "text": [
      "<class 'bs4.element.NavigableString'>\n"
     ]
    },
    {
     "data": {
      "text/plain": [
       "'\\n'"
      ]
     },
     "metadata": {},
     "output_type": "display_data"
    },
    {
     "name": "stdout",
     "output_type": "stream",
     "text": [
      "<class 'bs4.element.NavigableString'>\n"
     ]
    },
    {
     "data": {
      "text/plain": [
       "'\\n'"
      ]
     },
     "metadata": {},
     "output_type": "display_data"
    },
    {
     "name": "stdout",
     "output_type": "stream",
     "text": [
      "<class 'bs4.element.NavigableString'>\n"
     ]
    },
    {
     "data": {
      "text/plain": [
       "'\\n'"
      ]
     },
     "metadata": {},
     "output_type": "display_data"
    },
    {
     "name": "stdout",
     "output_type": "stream",
     "text": [
      "Bouncin' On My Dick (feat. Dash D Cadet (Cold Flamez))\n",
      "------\n",
      "<class 'bs4.element.Tag'>\n",
      "----------\n",
      "[Verse 1:]\n",
      "Uhhh got a badass bitch bouncin' on my dick\n",
      "Tapout dick ill make the pussy quit\n",
      "--------------------\n",
      "<class 'bs4.element.NavigableString'>\n"
     ]
    },
    {
     "data": {
      "text/plain": [
       "'\\n'"
      ]
     },
     "metadata": {},
     "output_type": "display_data"
    },
    {
     "name": "stdout",
     "output_type": "stream",
     "text": [
      "<class 'bs4.element.NavigableString'>\n"
     ]
    },
    {
     "data": {
      "text/plain": [
       "'\\n'"
      ]
     },
     "metadata": {},
     "output_type": "display_data"
    },
    {
     "name": "stdout",
     "output_type": "stream",
     "text": [
      "<class 'bs4.element.NavigableString'>\n"
     ]
    },
    {
     "data": {
      "text/plain": [
       "'\\n'"
      ]
     },
     "metadata": {},
     "output_type": "display_data"
    },
    {
     "name": "stdout",
     "output_type": "stream",
     "text": [
      "<class 'bs4.element.NavigableString'>\n"
     ]
    },
    {
     "data": {
      "text/plain": [
       "'\\n'"
      ]
     },
     "metadata": {},
     "output_type": "display_data"
    },
    {
     "name": "stdout",
     "output_type": "stream",
     "text": [
      "<class 'bs4.element.NavigableString'>\n"
     ]
    },
    {
     "data": {
      "text/plain": [
       "'\\n'"
      ]
     },
     "metadata": {},
     "output_type": "display_data"
    },
    {
     "name": "stdout",
     "output_type": "stream",
     "text": [
      "<class 'bs4.element.NavigableString'>\n"
     ]
    },
    {
     "data": {
      "text/plain": [
       "'\\n'"
      ]
     },
     "metadata": {},
     "output_type": "display_data"
    },
    {
     "name": "stdout",
     "output_type": "stream",
     "text": [
      "<class 'bs4.element.NavigableString'>\n"
     ]
    },
    {
     "data": {
      "text/plain": [
       "'\\n'"
      ]
     },
     "metadata": {},
     "output_type": "display_data"
    },
    {
     "name": "stdout",
     "output_type": "stream",
     "text": [
      "Bouncin' On My Dick (feat. Dash D Cadet (Cold Flamez))\n",
      "------\n",
      "<class 'bs4.element.Tag'>\n",
      "----------\n",
      "[Hook]\n",
      "--------------------\n",
      "<class 'bs4.element.NavigableString'>\n"
     ]
    },
    {
     "data": {
      "text/plain": [
       "'\\n'"
      ]
     },
     "metadata": {},
     "output_type": "display_data"
    },
    {
     "name": "stdout",
     "output_type": "stream",
     "text": [
      "Bouncin' On My Dick (feat. Dash D Cadet (Cold Flamez))\n",
      "------\n",
      "<class 'bs4.element.Tag'>\n",
      "----------\n",
      "[Verse 2:]\n",
      "Now get deep in it, lemme see you see you shake your thighs\n",
      "With some freak in it\n",
      "Go ahead, bring it back, don't run with it\n",
      "I'm dumbicious, its playtime and I'm tryina have some fun with it\n",
      "She a bad bitch and that ass just come with it\n",
      "Make it twerk, make it clap, go dumb with it\n",
      "Goddamn\n",
      "She a freak I'ma get it in a night gown\n",
      "I wanna watch it go up...and back down\n",
      "Ten shots, got me in a headlock\n",
      "Every time that ass bounce, make a nigga head rock\n",
      "Red bone red hot, its my time of bitch, chillin in the club wit her, I gotta...I gotta\n",
      "--------------------\n",
      "<class 'bs4.element.NavigableString'>\n"
     ]
    },
    {
     "data": {
      "text/plain": [
       "'\\n'"
      ]
     },
     "metadata": {},
     "output_type": "display_data"
    },
    {
     "name": "stdout",
     "output_type": "stream",
     "text": [
      "Bouncin' On My Dick (feat. Dash D Cadet (Cold Flamez))\n",
      "------\n",
      "<class 'bs4.element.Tag'>\n",
      "----------\n",
      "[Hook]\n",
      "--------------------\n",
      "<class 'bs4.element.NavigableString'>\n"
     ]
    },
    {
     "data": {
      "text/plain": [
       "'\\n'"
      ]
     },
     "metadata": {},
     "output_type": "display_data"
    },
    {
     "name": "stdout",
     "output_type": "stream",
     "text": [
      "<class 'bs4.element.NavigableString'>\n"
     ]
    },
    {
     "data": {
      "text/plain": [
       "'\\n'"
      ]
     },
     "metadata": {},
     "output_type": "display_data"
    },
    {
     "name": "stdout",
     "output_type": "stream",
     "text": [
      "<class 'bs4.element.NavigableString'>\n"
     ]
    },
    {
     "data": {
      "text/plain": [
       "'\\n'"
      ]
     },
     "metadata": {},
     "output_type": "display_data"
    },
    {
     "name": "stdout",
     "output_type": "stream",
     "text": [
      "<class 'bs4.element.NavigableString'>\n"
     ]
    },
    {
     "data": {
      "text/plain": [
       "'\\n'"
      ]
     },
     "metadata": {},
     "output_type": "display_data"
    },
    {
     "name": "stdout",
     "output_type": "stream",
     "text": [
      "<class 'bs4.element.NavigableString'>\n"
     ]
    },
    {
     "data": {
      "text/plain": [
       "'\\n'"
      ]
     },
     "metadata": {},
     "output_type": "display_data"
    },
    {
     "name": "stdout",
     "output_type": "stream",
     "text": [
      "<class 'bs4.element.NavigableString'>\n"
     ]
    },
    {
     "data": {
      "text/plain": [
       "'\\n'"
      ]
     },
     "metadata": {},
     "output_type": "display_data"
    },
    {
     "name": "stdout",
     "output_type": "stream",
     "text": [
      "<class 'bs4.element.NavigableString'>\n"
     ]
    },
    {
     "data": {
      "text/plain": [
       "'\\n'"
      ]
     },
     "metadata": {},
     "output_type": "display_data"
    },
    {
     "name": "stdout",
     "output_type": "stream",
     "text": [
      "Careless World\n",
      "------\n",
      "<class 'bs4.element.Tag'>\n",
      "----------\n",
      "[Intro]\n",
      "I awoke from a dream\n",
      "Filled of a world full of greed and hate\n",
      "The world was my thoughts, and surroundings\n",
      "I realized I needed to rise... and become king\n",
      "My own destiny\n",
      "--------------------\n",
      "<class 'bs4.element.NavigableString'>\n"
     ]
    },
    {
     "data": {
      "text/plain": [
       "'\\n'"
      ]
     },
     "metadata": {},
     "output_type": "display_data"
    },
    {
     "name": "stdout",
     "output_type": "stream",
     "text": [
      "Careless World\n",
      "------\n",
      "<class 'bs4.element.Tag'>\n",
      "----------\n",
      "[Hook]\n",
      "Take a look around, tears from they eyes\n",
      "Knees on the ground, money in the sky\n",
      "Take a look around, ain’t shit nice?\n",
      "Praying for my life, hope I make it through the night\n",
      "--------------------\n",
      "<class 'bs4.element.NavigableString'>\n"
     ]
    },
    {
     "data": {
      "text/plain": [
       "'\\n'"
      ]
     },
     "metadata": {},
     "output_type": "display_data"
    },
    {
     "name": "stdout",
     "output_type": "stream",
     "text": [
      "Careless World\n",
      "------\n",
      "<class 'bs4.element.Tag'>\n",
      "----------\n",
      "[Verse 1]\n",
      "Take a look around, the city on fire\n",
      "It’s all taking place in the middle of my mind\n",
      "I stand in the middle, cause death right beside\n",
      "Murdering is simple, get your life simplified\n",
      "Where the bones lie, rebuild another life\n",
      "America’s pie, put my hand in the pot\n",
      "I can’t get caught in the streets I was taught\n",
      "Raised off anger, but it wasn’t my fault\n",
      "Nigga, take a look around, it’s needles on the ground\n",
      "Never gave three fucks, and I still don’t now\n",
      "I’m fuckin’ in the house, babysitter on the couch\n",
      "Thirteen like, \"What this shit comin’ out?\"\n",
      "Pass me a jimmy, I ain’t ready for a child\n",
      "I hope nobody hears \"bitch, why you so loud?\"\n",
      "Turn on the tube, put my head on the cloud\n",
      "Breathe, inhale, the angels can’t help\n",
      "Tyga, take a look around\n",
      "Take a look around\n",
      "--------------------\n",
      "<class 'bs4.element.NavigableString'>\n"
     ]
    },
    {
     "data": {
      "text/plain": [
       "'\\n'"
      ]
     },
     "metadata": {},
     "output_type": "display_data"
    },
    {
     "name": "stdout",
     "output_type": "stream",
     "text": [
      "Careless World\n",
      "------\n",
      "<class 'bs4.element.Tag'>\n",
      "----------\n",
      "[Hook]\n",
      "Take a look around, tears from they eyes\n",
      "Knees on the ground, money in the sky\n",
      "Take a look around, ain’t shit nice?\n",
      "Praying for my life, hope I make it through the night\n",
      "Take a look around\n",
      "Take a look around\n",
      "--------------------\n",
      "<class 'bs4.element.NavigableString'>\n"
     ]
    },
    {
     "data": {
      "text/plain": [
       "'\\n'"
      ]
     },
     "metadata": {},
     "output_type": "display_data"
    },
    {
     "name": "stdout",
     "output_type": "stream",
     "text": [
      "Careless World\n",
      "------\n",
      "<class 'bs4.element.Tag'>\n",
      "----------\n",
      "[Verse 2]\n",
      "(Take a look around)\n",
      "All night, fighting ‘em for my life\n",
      "Praying that everything gon’ be right\n",
      "(Take a look around)\n",
      "Ain’t it nice, truth over the lies?\n",
      "Young Knights, we kings in the skies\n",
      "(Take a look around)\n",
      "I ride around in my city\n",
      "Bitches pictures up in they titties\n",
      "Man, you fake, all of us know it\n",
      "I’m original and I show it\n",
      "Roll one time for everyone down and\n",
      "T-two times for the nigga that bounce\n",
      "Then why you sitting round that couch shit\n",
      "My money building, like houses\n",
      "Feeling like you wise\n",
      "Truth be told, it’s all lies\n",
      "These the days of our lives\n",
      "Why you wasting all of your time?\n",
      "Voices from the skies\n",
      "Said that evil fall in yo rise\n",
      "They judge me low to the dirt\n",
      "Then they celebrate to my highs\n",
      "Why you, why you wanna be fake, I fucking hate you\n",
      "Why you made cause I ain’t take you?\n",
      "Last day alive, I wouldn’t even date you\n",
      "\"I’ll replace you with somebody better\" that you only make up\n",
      "We just make up, wake up king and queen and rule the world a little later\n",
      "Later on in that day, tears all in her face\n",
      "I said I’m going away\n",
      "She begging me to stay\n",
      "Took a look in her eyes, then she put my hands on her waist\n",
      "Said, “Don’t leave, we’ve got a baby on the way”\n",
      "(Take a look around)\n",
      "All night, fighting em for my life\n",
      "Praying that everything gon’ be right\n",
      "(Take a look around)\n",
      "Ain’t it nice, truth over the lies?\n",
      "Young Knights, we kings in the skies\n",
      "(Take a look around)\n",
      "I ride around in my city\n",
      "Bitches pictures up in they titties\n",
      "Man, you fake, all of us know it\n",
      "I’m original and I show it\n",
      "(Take a look around)\n",
      "I ride around in my city\n",
      "Bitches pictures up in they titties\n",
      "Man, you fake, all of us know it\n",
      "I’m original and I show it\n",
      "(Take a look around)\n",
      "--------------------\n",
      "<class 'bs4.element.NavigableString'>\n"
     ]
    },
    {
     "data": {
      "text/plain": [
       "'\\n'"
      ]
     },
     "metadata": {},
     "output_type": "display_data"
    },
    {
     "name": "stdout",
     "output_type": "stream",
     "text": [
      "Careless World\n",
      "------\n",
      "<class 'bs4.element.Tag'>\n",
      "----------\n",
      "[Outro: Martin Luther King Jr.]\n",
      "I want you to know tonight\n",
      "That we, as a people, will get to the promised land\n",
      "And I’m not worried about anything, I’m not fearing any man\n",
      "My eyes have seen the glory, of the coming of the Lord\n",
      "--------------------\n",
      "<class 'bs4.element.NavigableString'>\n"
     ]
    },
    {
     "data": {
      "text/plain": [
       "'\\n'"
      ]
     },
     "metadata": {},
     "output_type": "display_data"
    },
    {
     "name": "stdout",
     "output_type": "stream",
     "text": [
      "<class 'bs4.element.NavigableString'>\n"
     ]
    },
    {
     "data": {
      "text/plain": [
       "'\\n'"
      ]
     },
     "metadata": {},
     "output_type": "display_data"
    },
    {
     "name": "stdout",
     "output_type": "stream",
     "text": [
      "<class 'bs4.element.NavigableString'>\n"
     ]
    },
    {
     "data": {
      "text/plain": [
       "'\\n'"
      ]
     },
     "metadata": {},
     "output_type": "display_data"
    },
    {
     "name": "stdout",
     "output_type": "stream",
     "text": [
      "<class 'bs4.element.NavigableString'>\n"
     ]
    },
    {
     "data": {
      "text/plain": [
       "'\\n'"
      ]
     },
     "metadata": {},
     "output_type": "display_data"
    },
    {
     "name": "stdout",
     "output_type": "stream",
     "text": [
      "<class 'bs4.element.NavigableString'>\n"
     ]
    },
    {
     "data": {
      "text/plain": [
       "'\\n'"
      ]
     },
     "metadata": {},
     "output_type": "display_data"
    },
    {
     "name": "stdout",
     "output_type": "stream",
     "text": [
      "<class 'bs4.element.NavigableString'>\n"
     ]
    },
    {
     "data": {
      "text/plain": [
       "'\\n'"
      ]
     },
     "metadata": {},
     "output_type": "display_data"
    },
    {
     "name": "stdout",
     "output_type": "stream",
     "text": [
      "<class 'bs4.element.NavigableString'>\n"
     ]
    },
    {
     "data": {
      "text/plain": [
       "'\\n'"
      ]
     },
     "metadata": {},
     "output_type": "display_data"
    },
    {
     "name": "stdout",
     "output_type": "stream",
     "text": [
      "<class 'bs4.element.NavigableString'>\n"
     ]
    },
    {
     "data": {
      "text/plain": [
       "'\\n'"
      ]
     },
     "metadata": {},
     "output_type": "display_data"
    },
    {
     "name": "stdout",
     "output_type": "stream",
     "text": [
      "<class 'bs4.element.NavigableString'>\n"
     ]
    },
    {
     "data": {
      "text/plain": [
       "'\\n'"
      ]
     },
     "metadata": {},
     "output_type": "display_data"
    },
    {
     "name": "stdout",
     "output_type": "stream",
     "text": [
      "<class 'bs4.element.NavigableString'>\n"
     ]
    },
    {
     "data": {
      "text/plain": [
       "'\\n'"
      ]
     },
     "metadata": {},
     "output_type": "display_data"
    },
    {
     "name": "stdout",
     "output_type": "stream",
     "text": [
      "<class 'bs4.element.NavigableString'>\n"
     ]
    },
    {
     "data": {
      "text/plain": [
       "'\\n'"
      ]
     },
     "metadata": {},
     "output_type": "display_data"
    },
    {
     "name": "stdout",
     "output_type": "stream",
     "text": [
      "<class 'bs4.element.NavigableString'>\n"
     ]
    },
    {
     "data": {
      "text/plain": [
       "'\\n'"
      ]
     },
     "metadata": {},
     "output_type": "display_data"
    },
    {
     "name": "stdout",
     "output_type": "stream",
     "text": [
      "<class 'bs4.element.NavigableString'>\n"
     ]
    },
    {
     "data": {
      "text/plain": [
       "'\\n'"
      ]
     },
     "metadata": {},
     "output_type": "display_data"
    },
    {
     "name": "stdout",
     "output_type": "stream",
     "text": [
      "<class 'bs4.element.NavigableString'>\n"
     ]
    },
    {
     "data": {
      "text/plain": [
       "'\\n'"
      ]
     },
     "metadata": {},
     "output_type": "display_data"
    },
    {
     "name": "stdout",
     "output_type": "stream",
     "text": [
      "<class 'bs4.element.NavigableString'>\n"
     ]
    },
    {
     "data": {
      "text/plain": [
       "'\\n'"
      ]
     },
     "metadata": {},
     "output_type": "display_data"
    },
    {
     "name": "stdout",
     "output_type": "stream",
     "text": [
      "<class 'bs4.element.NavigableString'>\n"
     ]
    },
    {
     "data": {
      "text/plain": [
       "'\\n'"
      ]
     },
     "metadata": {},
     "output_type": "display_data"
    },
    {
     "name": "stdout",
     "output_type": "stream",
     "text": [
      "<class 'bs4.element.NavigableString'>\n"
     ]
    },
    {
     "data": {
      "text/plain": [
       "'\\n'"
      ]
     },
     "metadata": {},
     "output_type": "display_data"
    },
    {
     "name": "stdout",
     "output_type": "stream",
     "text": [
      "<class 'bs4.element.NavigableString'>\n"
     ]
    },
    {
     "data": {
      "text/plain": [
       "'\\n'"
      ]
     },
     "metadata": {},
     "output_type": "display_data"
    },
    {
     "name": "stdout",
     "output_type": "stream",
     "text": [
      "<class 'bs4.element.NavigableString'>\n"
     ]
    },
    {
     "data": {
      "text/plain": [
       "'\\n'"
      ]
     },
     "metadata": {},
     "output_type": "display_data"
    },
    {
     "name": "stdout",
     "output_type": "stream",
     "text": [
      "<class 'bs4.element.NavigableString'>\n"
     ]
    },
    {
     "data": {
      "text/plain": [
       "'\\n'"
      ]
     },
     "metadata": {},
     "output_type": "display_data"
    },
    {
     "name": "stdout",
     "output_type": "stream",
     "text": [
      "<class 'bs4.element.NavigableString'>\n"
     ]
    },
    {
     "data": {
      "text/plain": [
       "'\\n'"
      ]
     },
     "metadata": {},
     "output_type": "display_data"
    },
    {
     "name": "stdout",
     "output_type": "stream",
     "text": [
      "Celebration (feat. T-Pain)\n",
      "------\n",
      "<class 'bs4.element.Tag'>\n",
      "----------\n",
      "[Hook - T-Pain]\n",
      "I ain’t gotta do nothing, I ain’t gotta say shit\n",
      "Everybody put your cups up and roll the blunts up, it’s a fucking celebration\n",
      "Yeah, everything is alright, I propose a toast to the greatest\n",
      "You be get up on this fly shit baby\n",
      "It’s a fucking celebration, bitches\n",
      "--------------------\n",
      "<class 'bs4.element.NavigableString'>\n"
     ]
    },
    {
     "data": {
      "text/plain": [
       "'\\n'"
      ]
     },
     "metadata": {},
     "output_type": "display_data"
    },
    {
     "name": "stdout",
     "output_type": "stream",
     "text": [
      "Celebration (feat. T-Pain)\n",
      "------\n",
      "<class 'bs4.element.Tag'>\n",
      "----------\n",
      "[Verse 1 - Tyga]\n",
      "Ballin' in this bitch cause I’m better\n",
      "Models at my table when they down for whatever\n",
      "It’s a cold world so it’s heat in my leather\n",
      "We gonna make it rain, we ain’t tripping off the weather\n",
      "Birthday suits removed, ya negligee\n",
      "Jay baby baby let me put you on game\n",
      "I got that crazy crazy eye drive you insane\n",
      "Every plane tint shades make these niggas know my name\n",
      "T-Raw, young star, Gringo\n",
      "Shining hard every second don't blink ho\n",
      "If you ain’t sipping and you tripping better drink more\n",
      "Too many dicks on the field trying to get yours\n",
      "What your home girl don’t know\n",
      "Won’t hurt her so girl let go\n",
      "They say they ain’t tricking nigga got it\n",
      "But we ain’t tricking anything and we got it, so\n",
      "--------------------\n",
      "<class 'bs4.element.NavigableString'>\n"
     ]
    },
    {
     "data": {
      "text/plain": [
       "'\\n'"
      ]
     },
     "metadata": {},
     "output_type": "display_data"
    },
    {
     "name": "stdout",
     "output_type": "stream",
     "text": [
      "Celebration (feat. T-Pain)\n",
      "------\n",
      "<class 'bs4.element.Tag'>\n",
      "----------\n",
      "[Hook - T-Pain]\n",
      "I ain’t gotta do nothing, I ain’t gotta say shit\n",
      "Everybody put your cups up and roll the blunts up, it’s a fucking celebration\n",
      "Yeah, everything is alright, I propose a toast to the greatest\n",
      "You be get up on this fly shit baby\n",
      "It’s a fucking celebration, bitches\n",
      "--------------------\n",
      "<class 'bs4.element.NavigableString'>\n"
     ]
    },
    {
     "data": {
      "text/plain": [
       "'\\n'"
      ]
     },
     "metadata": {},
     "output_type": "display_data"
    },
    {
     "name": "stdout",
     "output_type": "stream",
     "text": [
      "Celebration (feat. T-Pain)\n",
      "------\n",
      "<class 'bs4.element.Tag'>\n",
      "----------\n",
      "[Verse 2 - Tyga]\n",
      "Fly, fly niggas do fly things\n",
      "Overseas, I can put you on my dream team\n",
      "High king, Tyga-lajuwon 2 rings, yeah we on one\n",
      "We ain’t never done, it’s small fun when you living how we living\n",
      "Big living room, beautiful women\n",
      "Baby take your shoes off, she just trying to kick it\n",
      "Gone down town now, she gonna let me kiss it\n",
      "So good, yep yep, Young Money and we all good\n",
      "All my homies in this thing wish a nigga would\n",
      "If a nigga could, I don’t think he should\n",
      "Getting money, rocking clubs like T Woods\n",
      "Bright lights like we living in the sky\n",
      "Everybody put your hands up high\n",
      "Yeah, it ain’t tricking nigga got it\n",
      "But we ain’t tricking anything and we got it, so\n",
      "--------------------\n",
      "<class 'bs4.element.NavigableString'>\n"
     ]
    },
    {
     "data": {
      "text/plain": [
       "'\\n'"
      ]
     },
     "metadata": {},
     "output_type": "display_data"
    },
    {
     "name": "stdout",
     "output_type": "stream",
     "text": [
      "Celebration (feat. T-Pain)\n",
      "------\n",
      "<class 'bs4.element.Tag'>\n",
      "----------\n",
      "[Hook - T-Pain (x2)]\n",
      "I ain’t gotta do nothing, I ain’t gotta say shit\n",
      "Everybody put your cups up and roll the blunts up, it’s a fucking celebration\n",
      "Yeah, everything is alright, I propose a toast to the greatest\n",
      "You be get up on this fly shit baby\n",
      "It’s a fucking celebration, bitches\n",
      "--------------------\n",
      "<class 'bs4.element.NavigableString'>\n"
     ]
    },
    {
     "data": {
      "text/plain": [
       "'\\n'"
      ]
     },
     "metadata": {},
     "output_type": "display_data"
    },
    {
     "name": "stdout",
     "output_type": "stream",
     "text": [
      "Chi-Raq To L.A. (feat. The Game)\n",
      "------\n",
      "<class 'bs4.element.Tag'>\n",
      "----------\n",
      "[Intro:]\n",
      "187\n",
      "--------------------\n",
      "<class 'bs4.element.NavigableString'>\n"
     ]
    },
    {
     "data": {
      "text/plain": [
       "'\\n'"
      ]
     },
     "metadata": {},
     "output_type": "display_data"
    },
    {
     "name": "stdout",
     "output_type": "stream",
     "text": [
      "Chi-Raq To L.A. (feat. The Game)\n",
      "------\n",
      "<class 'bs4.element.Tag'>\n",
      "----------\n",
      "[Verse 1: Tyga]\n",
      "Know some Hoover niggas that's down to ride\n",
      "For a homicide, when its drama time\n",
      "Niggas thinkin' that they MCs\n",
      "Can't get touched, well its hammer time\n",
      "Who the fuck is Lil Durk?\n",
      "I dust you like ash and purp\n",
      "Your flow wack, my flow crack\n",
      "Got marble floors, your floors crack\n",
      "Got rap shit, mice traps\n",
      "These niggas broke, need ankle wraps\n",
      "Don't ride around in LA, if you ain't come on Jet with the strap\n",
      "My niggas 52 Orange roofs, orange coupes, Ciroc orange juice\n",
      "Trel said fuck all you, my OG Chimp out soon\n",
      "H rat, shout out ScHoolboy Q, still my dog\n",
      "You're a real one, I owe you\n",
      "Shot at them niggas when you heard the news\n",
      "If your daughter ever need something, don't hesitate I got you\n",
      "Posted up on sunset at the House Of Blues like it's all cool\n",
      "Might get trapped in Vegas too, call Mally Mall he with Big U\n",
      "I might be in Bel Air, still got niggas in the field\n",
      "20 million, LK real\n",
      "With Yeezus in that SLR, T Raw upper echelon\n",
      "No Lil Jets just G5's\n",
      "Free CB, H Rat\n",
      "Lil Punch and baby Nitty\n",
      "My Maybach cost 2 chickens, you ain't got one? Don't talk my language\n",
      "I’m king shitting on yo bitch\n",
      "Southpaw and we in the gym\n",
      "Tryna be a baller? End up like Flip in \"Above The Rim\"\n",
      "You too small like Smeagol\n",
      "I’m swatting the mosquito\n",
      "I’ll put you under the earth now it’s a garden on your tombstone\n",
      "You shit stain teenagers, barely teething on hundos\n",
      "I'll hold you like the slave you are, all my whips mayo\n",
      "You from Illinois? I'll bring the noise\n",
      "You ain't platinum? Don’t talk to me. Grammy nominated? Don't talk to me\n",
      "20 Million? Don’t talk to me\n",
      "It's levels to this shit boy, you basement, Don't talk to me\n",
      "You want the fame? I'll take your name and that weak bitch you fall asleep with!\n",
      "--------------------\n",
      "<class 'bs4.element.NavigableString'>\n"
     ]
    },
    {
     "data": {
      "text/plain": [
       "'\\n'"
      ]
     },
     "metadata": {},
     "output_type": "display_data"
    },
    {
     "name": "stdout",
     "output_type": "stream",
     "text": [
      "Chi-Raq To L.A. (feat. The Game)\n",
      "------\n",
      "<class 'bs4.element.Tag'>\n",
      "----------\n",
      "[Verse 2: The Game]\n",
      "Ain't got no time for this rap shit, Blood Money, Cash Money\n",
      "Ain't got no time for this rap shit, Cash Money, Blood Money\n",
      "Ain't got no time for this rap shit, rap money, drug money\n",
      "I'm straight nigga, straightjacket!\n",
      "Yo Trel let a nigga hit him with a ratchet\n",
      "Big U let a nigga get some matches\n",
      "I'ma torch the building this La Familia\n",
      "Pull up and spin a nigga backwards\n",
      "Light it up, smoke a nigga like a Backwood\n",
      "(Gotta channel DMX)\n",
      "Coming through with my dogs (grrrrrr)\n",
      "That chopper going through walls\n",
      "This beef shit? That's me shit. Pull up bangin' that Meek shit\n",
      "That monster truck pull up side of that Benz?\n",
      "(Niggas ain't saying nothin')\n",
      "Choppers aimed at yo whip, nigga!\n",
      "(Niggas ain't saying nothin')\n",
      "Cash Money, Family Hustle like Tip, nigga!\n",
      "(Niggas ain't saying nothin')\n",
      "Come through, few Bloods, few Crips, nigga!\n",
      "(Niggas ain't saying nothin')\n",
      "T Raw? I got you, don't trip, nigga!\n",
      "--------------------\n",
      "<class 'bs4.element.NavigableString'>\n"
     ]
    },
    {
     "data": {
      "text/plain": [
       "'\\n'"
      ]
     },
     "metadata": {},
     "output_type": "display_data"
    },
    {
     "name": "stdout",
     "output_type": "stream",
     "text": [
      "Chi-Raq To L.A. (feat. The Game)\n",
      "------\n",
      "<class 'bs4.element.Tag'>\n",
      "----------\n",
      "First off lemme go on 40 Glocc again\n",
      "Talk about my kids on Instagram?\n",
      "Nigga must wanna get his ass socked again!\n",
      "Tell a lie like I pulled out a Glock on him\n",
      "Don't make me resurrect Pac again!\n",
      "You ScHoolboy like Kendrick and Top and them\n",
      "Have a bitch nigga running to the cops again\n",
      "It's all Gucci Mane, Waka Flock and them\n",
      "(Green Light)\n",
      "That mean go nigga, if you ever see this ho nigga, on mama nigga it's a\n",
      "(Green Light)\n",
      "From where my nigga died to Riverside, even your niggas know it's a\n",
      "(Green Light)\n",
      "Better run through the red ones, fuck around and be a dead one\n",
      "(Jump in the middle of beef, cause I don't like no one)\n",
      "(Step behind these bars and I don't write not one)\n",
      "(Niggas bumping they lips but they don't like no guns)\n",
      "(Just close your eyes and that light gon' come)\n",
      "I don't fuck with no new niggas, they like to sue, no woo nigga\n",
      "Tyga hit me like \"Durk dissing\"\n",
      "Dirk Nowitzki? Dirk who nigga?\n",
      "Never heard of these niggas\n",
      "Some of the nerve of these niggas\n",
      "Don't make me put on burgundy nigga\n",
      "Let the AK *gunshots* I'm serving these niggas\n",
      "Yo T raw, time to murder these niggas\n",
      "Black suburban these niggas\n",
      "I'm taking bitches, I'm taking chains, yeah I'm Young Bergin' these niggas\n",
      "Ain't start making guns when they made you nigga\n",
      "Ain't no JayHawk but I'll K you nigga\n",
      "And I know Hoovers, I know 60s\n",
      "(I know Westside Pirus, niggas down to die too)\n",
      "Move in on them 50s\n",
      "(I got niggas on west and the Southside of Chi too)\n",
      "Pull up in an 87 Cutlass\n",
      "Throwing bullets like Jay Cutler\n",
      "Fuck this. What's this? Niggas talking all that fuck shit\n",
      "Tough shit. Put a nigga on like Trukfit\n",
      "I know Lil Wayne, I know Lil Reese\n",
      "I know Lil Herb, I know Lil Keef\n",
      "I know Lil Boosie, that nigga free like this ass whooping\n",
      "Come fuck with me, I got hands, I got bands\n",
      "Got damn I am what I am\n",
      ".45 go blam with no jam\n",
      "Bring a nigga Vietnam, let's go ham\n",
      "Niggas runnin' out of ham, let's go spam\n",
      "Nigga dip through your set like Killa Cam\n",
      "I'm talkin' to the man, with no fans\n",
      "This is a DM with no gram\n",
      "Ridin' through the Chi, ain't ever seen Oprah\n",
      "Hit a 300 with my little nigga Sosa\n",
      "Brown paper bag, sippin' on a Four Loko\n",
      "Nigga get love, I ain't talkin' 'bout The Notebook\n",
      "Niggas got killers out here, west side, they feel us out here\n",
      "Like Weezel [?] and Chicago, realest out here\n",
      "Old man and the capitol hill is out here\n",
      "On the low end, all my BD niggas bring the dope in\n",
      "BD twins locked up in the feds and my nigga Bump J, hold your head\n",
      "If you getting money nigga hold your bread\n",
      "Rock my Pelle P like LED, them Bogus Boys? They Fuck with me\n",
      "I fuck with stones till I OD'\n",
      "69, Seven Deuce\n",
      "Marshalville I mean Murderville\n",
      "Yellow G, gave me a bitch off of Damen Ave I use her to kill\n",
      "She from the Chi, but she ain't shy\n",
      "She ain't never met a nigga who can't die\n",
      "I'm so Southside I'm so Northside\n",
      "I'm so Westside, nigga \"Ain't I?\"\n",
      "Got more niggas in the Chi than Jay\n",
      "(Chi than Jay)\n",
      "I might be more Chi Town than Ye'\n",
      "(Chi Town than Ye')\n",
      "I'm on the low end with my nigga Par K)\n",
      "(with my nigga Par K)\n",
      "And he A GD, but it's free Bump J\n",
      "4CH but I'm like Barksdale in this Shark Tale\n",
      "OG like a car sale\n",
      "Chopper spins, you do cartwheels\n",
      "Lil Durk under a lil dirt\n",
      "(And nobody knows you)\n",
      "Dis ain't what they want!\n",
      "(Nobody knows you)\n",
      "(Bitch I thought that was Future's song!)\n",
      "(I'm bout to show you)\n",
      "You done caught yourself a Little L dog\n",
      "(Man nobody knows you)\n",
      "You heard of Lil Durk?\n",
      "Nigga, hell nah!\n",
      "--------------------\n",
      "<class 'bs4.element.NavigableString'>\n"
     ]
    },
    {
     "data": {
      "text/plain": [
       "'\\n'"
      ]
     },
     "metadata": {},
     "output_type": "display_data"
    },
    {
     "name": "stdout",
     "output_type": "stream",
     "text": [
      "Clique / Fuckin Problem\n",
      "------\n",
      "<class 'bs4.element.Tag'>\n",
      "----------\n",
      "[Hook]\n",
      "Ain’t nobody fuckin’ with my clique,\n",
      "Clique, clique, clique clique,\n",
      "I’m T Raww young nigga I’m the shit,\n",
      "Shit, shit, shit, shit\n",
      "I said ain’t nobody fuckin’ with my clique,\n",
      "Clique, clique, clique clique,\n",
      "Young money motherfucker we the shit,\n",
      "I be the shit, we be the shit, I am the shit\n",
      "--------------------\n",
      "<class 'bs4.element.NavigableString'>\n"
     ]
    },
    {
     "data": {
      "text/plain": [
       "'\\n'"
      ]
     },
     "metadata": {},
     "output_type": "display_data"
    },
    {
     "name": "stdout",
     "output_type": "stream",
     "text": [
      "Clique / Fuckin Problem\n",
      "------\n",
      "<class 'bs4.element.Tag'>\n",
      "----------\n",
      "[Verse 1]\n",
      "I ball out like the San Diego Padres\n",
      "TGIF, thank God it’s Friday\n",
      "Smokey Friday, so high might fly away\n",
      "Competition’s small so I live big like Tom Hanks\n",
      "Big bang, 22, nigga don’t believe in King\n",
      "Tried everything from sellin’ weed to counterfeit\n",
      "Counterclockwise, clockwise\n",
      "now we countin’ hits\n",
      "Superfreak bitches made a milli off a porno flick\n",
      "Good nigga, clean dick\n",
      "Fuck her right she’ll call again\n",
      "I ain’t got time for modelin’\n",
      "Show up lookin’ how your pictures did\n",
      "Bitch, no call to niggas, but we at the Ritz,\n",
      "Super duper fly nigga so they bug me for a flick\n",
      "Get it? Flick, flick, choppers on the hip\n",
      "Make a band, chop a drum clip, I’m T.I. with this\n",
      "Too ill to reheal or fix son a nigga eclipse\n",
      "Hotter than Middle East is, pledge allegiance\n",
      "A star bitch you the realest, I’m a realist\n",
      "Father, son, holy spirit\n",
      "‘cause I brought the ghost with me\n",
      "Let’s toast to the Rolls I driven\n",
      "You could live in\n",
      "She give me clit and my clique winnin’\n",
      "Bank murder up in this\n",
      "--------------------\n",
      "<class 'bs4.element.NavigableString'>\n"
     ]
    },
    {
     "data": {
      "text/plain": [
       "'\\n'"
      ]
     },
     "metadata": {},
     "output_type": "display_data"
    },
    {
     "name": "stdout",
     "output_type": "stream",
     "text": [
      "Clique / Fuckin Problem\n",
      "------\n",
      "<class 'bs4.element.Tag'>\n",
      "----------\n",
      "[Verse 2]\n",
      "I got a fuckin’ problem\n",
      "Baby on me like a toddler\n",
      "Keep my phone on silent\n",
      "Vibrate, make that ass shake like a violin\n",
      "College girls on me while you press like Dilan\n",
      "I been everywhere you niggas ain’t\n",
      "Can’t go where your bitch go, got her up late\n",
      "Make my dick plank, she gon’ drink it straight\n",
      "Rotate, let her friend taste\n",
      "She from the DMV but I ain’t tryin’ to wait\n",
      "DC, Maryland, them phones they be wearin’ them\n",
      "Shout out my nigga Wally be fly like a terrorist\n",
      "Get money like inheritance\n",
      "That pussy I’mma wear it out\n",
      "Yeah we in the strip club,\n",
      "Blowin’ money, air it out\n",
      "Talkin’ big shit\n",
      "let me show you what I’m talkin’ ‘bout\n",
      "Stacks for the freak show\n",
      "told her bring the circus out\n",
      "I ain’t gettin’ married ‘cause these hoes\n",
      "they just go around\n",
      "Ridin’ on the next clique soon as they up in town\n",
      "Cause I’m the nigga, the nigga nigga\n",
      "They hold me down if it’s drama\n",
      "And if it’s drama, I got that loud\n",
      "Told my girl, Jeffrey Dahmer, and eat her out\n",
      "Then I follow, and then I follow, dick in her mouth\n",
      "They say Tyga only got like one hit\n",
      "Shit, at least a nigga got a hit\n",
      "Banana make her pussy split\n",
      "Pornstar, loose lips,\n",
      "Ain’t no room in my circle like a hula-hoop is\n",
      "Bitch\n",
      "--------------------\n",
      "<class 'bs4.element.NavigableString'>\n"
     ]
    },
    {
     "data": {
      "text/plain": [
       "'\\n'"
      ]
     },
     "metadata": {},
     "output_type": "display_data"
    },
    {
     "name": "stdout",
     "output_type": "stream",
     "text": [
      "<class 'bs4.element.NavigableString'>\n"
     ]
    },
    {
     "data": {
      "text/plain": [
       "'\\n'"
      ]
     },
     "metadata": {},
     "output_type": "display_data"
    },
    {
     "name": "stdout",
     "output_type": "stream",
     "text": [
      "Coconut Juice\n",
      "------\n",
      "<class 'bs4.element.Tag'>\n",
      "----------\n",
      "Put the lime in the coconut and twist it all up [x3]\n",
      "--------------------\n",
      "<class 'bs4.element.NavigableString'>\n"
     ]
    },
    {
     "data": {
      "text/plain": [
       "'\\n'"
      ]
     },
     "metadata": {},
     "output_type": "display_data"
    },
    {
     "name": "stdout",
     "output_type": "stream",
     "text": [
      "<class 'bs4.element.NavigableString'>\n"
     ]
    },
    {
     "data": {
      "text/plain": [
       "'\\n'"
      ]
     },
     "metadata": {},
     "output_type": "display_data"
    },
    {
     "name": "stdout",
     "output_type": "stream",
     "text": [
      "<class 'bs4.element.NavigableString'>\n"
     ]
    },
    {
     "data": {
      "text/plain": [
       "'\\n'"
      ]
     },
     "metadata": {},
     "output_type": "display_data"
    },
    {
     "name": "stdout",
     "output_type": "stream",
     "text": [
      "<class 'bs4.element.NavigableString'>\n"
     ]
    },
    {
     "data": {
      "text/plain": [
       "'\\n'"
      ]
     },
     "metadata": {},
     "output_type": "display_data"
    },
    {
     "name": "stdout",
     "output_type": "stream",
     "text": [
      "Coconut Juice\n",
      "------\n",
      "<class 'bs4.element.Tag'>\n",
      "----------\n",
      "[Chorus:]\n",
      "Coconut juice got me real loose\n",
      "Like, got me leaning 3 thousand proof like\n",
      "Coconut juice all on the dance FLOOR\n",
      "Fellas let your ladies GO ladies let your Fellas GO\n",
      "--------------------\n",
      "<class 'bs4.element.NavigableString'>\n"
     ]
    },
    {
     "data": {
      "text/plain": [
       "'\\n'"
      ]
     },
     "metadata": {},
     "output_type": "display_data"
    },
    {
     "name": "stdout",
     "output_type": "stream",
     "text": [
      "<class 'bs4.element.NavigableString'>\n"
     ]
    },
    {
     "data": {
      "text/plain": [
       "'\\n'"
      ]
     },
     "metadata": {},
     "output_type": "display_data"
    },
    {
     "name": "stdout",
     "output_type": "stream",
     "text": [
      "Coconut Juice\n",
      "------\n",
      "<class 'bs4.element.Tag'>\n",
      "----------\n",
      "[Chorus:]\n",
      "Coconut juice got me real loose\n",
      "Like, got me leaning 3 thousand proof like\n",
      "Coconut juice all on the dance FLOOR\n",
      "Fellas let your ladies GO ladies let your Fellas GO\n",
      "--------------------\n",
      "<class 'bs4.element.NavigableString'>\n"
     ]
    },
    {
     "data": {
      "text/plain": [
       "'\\n'"
      ]
     },
     "metadata": {},
     "output_type": "display_data"
    },
    {
     "name": "stdout",
     "output_type": "stream",
     "text": [
      "Coconut Juice\n",
      "------\n",
      "<class 'bs4.element.Tag'>\n",
      "----------\n",
      "Put the lime in the coconut and twist it all up [x3]\n",
      "--------------------\n",
      "<class 'bs4.element.NavigableString'>\n"
     ]
    },
    {
     "data": {
      "text/plain": [
       "'\\n'"
      ]
     },
     "metadata": {},
     "output_type": "display_data"
    },
    {
     "name": "stdout",
     "output_type": "stream",
     "text": [
      "<class 'bs4.element.NavigableString'>\n"
     ]
    },
    {
     "data": {
      "text/plain": [
       "'\\n'"
      ]
     },
     "metadata": {},
     "output_type": "display_data"
    },
    {
     "name": "stdout",
     "output_type": "stream",
     "text": [
      "<class 'bs4.element.NavigableString'>\n"
     ]
    },
    {
     "data": {
      "text/plain": [
       "'\\n'"
      ]
     },
     "metadata": {},
     "output_type": "display_data"
    },
    {
     "name": "stdout",
     "output_type": "stream",
     "text": [
      "Coconut Juice\n",
      "------\n",
      "<class 'bs4.element.Tag'>\n",
      "----------\n",
      "[Chorus:]\n",
      "Coconut juice got me real loose\n",
      "Like, got me leaning 3 thousand proof like\n",
      "Coconut juice all on the dance FLOOR\n",
      "Fellas let your ladies GO ladies let your Fellas GO\n",
      "--------------------\n",
      "<class 'bs4.element.NavigableString'>\n"
     ]
    },
    {
     "data": {
      "text/plain": [
       "'\\n'"
      ]
     },
     "metadata": {},
     "output_type": "display_data"
    },
    {
     "name": "stdout",
     "output_type": "stream",
     "text": [
      "Coconut Juice\n",
      "------\n",
      "<class 'bs4.element.Tag'>\n",
      "----------\n",
      "Put the lime in the coconut and twist it all up [x3]\n",
      "--------------------\n",
      "<class 'bs4.element.NavigableString'>\n"
     ]
    },
    {
     "data": {
      "text/plain": [
       "'\\n'"
      ]
     },
     "metadata": {},
     "output_type": "display_data"
    },
    {
     "name": "stdout",
     "output_type": "stream",
     "text": [
      "<class 'bs4.element.NavigableString'>\n"
     ]
    },
    {
     "data": {
      "text/plain": [
       "'\\n'"
      ]
     },
     "metadata": {},
     "output_type": "display_data"
    },
    {
     "name": "stdout",
     "output_type": "stream",
     "text": [
      "<class 'bs4.element.NavigableString'>\n"
     ]
    },
    {
     "data": {
      "text/plain": [
       "'\\n'"
      ]
     },
     "metadata": {},
     "output_type": "display_data"
    },
    {
     "name": "stdout",
     "output_type": "stream",
     "text": [
      "<class 'bs4.element.NavigableString'>\n"
     ]
    },
    {
     "data": {
      "text/plain": [
       "'\\n'"
      ]
     },
     "metadata": {},
     "output_type": "display_data"
    },
    {
     "name": "stdout",
     "output_type": "stream",
     "text": [
      "<class 'bs4.element.NavigableString'>\n"
     ]
    },
    {
     "data": {
      "text/plain": [
       "'\\n'"
      ]
     },
     "metadata": {},
     "output_type": "display_data"
    },
    {
     "name": "stdout",
     "output_type": "stream",
     "text": [
      "Coconut Juice\n",
      "------\n",
      "<class 'bs4.element.Tag'>\n",
      "----------\n",
      "[Chorus:]\n",
      "Coconut juice got me real loose\n",
      "Like, got me leaning 3 thousand proof like\n",
      "Coconut juice all on the dance FLOOR\n",
      "Fellas let your ladies GO ladies let your Fellas GO\n",
      "--------------------\n",
      "<class 'bs4.element.NavigableString'>\n"
     ]
    },
    {
     "data": {
      "text/plain": [
       "'\\n'"
      ]
     },
     "metadata": {},
     "output_type": "display_data"
    },
    {
     "name": "stdout",
     "output_type": "stream",
     "text": [
      "Coconut Juice\n",
      "------\n",
      "<class 'bs4.element.Tag'>\n",
      "----------\n",
      "Put the lime in the coconut and twist it all up [x3]\n",
      "--------------------\n",
      "<class 'bs4.element.NavigableString'>\n"
     ]
    },
    {
     "data": {
      "text/plain": [
       "'\\n'"
      ]
     },
     "metadata": {},
     "output_type": "display_data"
    },
    {
     "name": "stdout",
     "output_type": "stream",
     "text": [
      "Coconut Juice\n",
      "------\n",
      "<class 'bs4.element.Tag'>\n",
      "----------\n",
      "Twist it all up\n",
      "Twist it all up\n",
      "Ay, ay, ay, HEY ay, ay, ay, HEY [x3]\n",
      "--------------------\n",
      "<class 'bs4.element.NavigableString'>\n"
     ]
    },
    {
     "data": {
      "text/plain": [
       "'\\n'"
      ]
     },
     "metadata": {},
     "output_type": "display_data"
    },
    {
     "name": "stdout",
     "output_type": "stream",
     "text": [
      "Coconut Juice (Remix) (feat. Lil Wayne, Rich Boy)\n",
      "------\n",
      "<class 'bs4.element.Tag'>\n",
      "----------\n",
      "[Tyga - Chorus:]\n",
      "Put the lime in the coconut and twist it all up\n",
      "Put the lime in the coconut and twist it all up\n",
      "Put the lime in the coconut and twist it all up\n",
      "twist it all up\n",
      "--------------------\n",
      "<class 'bs4.element.NavigableString'>\n"
     ]
    },
    {
     "data": {
      "text/plain": [
       "'\\n'"
      ]
     },
     "metadata": {},
     "output_type": "display_data"
    },
    {
     "name": "stdout",
     "output_type": "stream",
     "text": [
      "Coconut Juice (Remix) (feat. Lil Wayne, Rich Boy)\n",
      "------\n",
      "<class 'bs4.element.Tag'>\n",
      "----------\n",
      "[Lil Wayne:]\n",
      "Remix Baby\n",
      "--------------------\n",
      "<class 'bs4.element.NavigableString'>\n"
     ]
    },
    {
     "data": {
      "text/plain": [
       "'\\n'"
      ]
     },
     "metadata": {},
     "output_type": "display_data"
    },
    {
     "name": "stdout",
     "output_type": "stream",
     "text": [
      "Coconut Juice (Remix) (feat. Lil Wayne, Rich Boy)\n",
      "------\n",
      "<class 'bs4.element.Tag'>\n",
      "----------\n",
      "[Lil Wayne - Verse 1]\n",
      "Im,\n",
      "about to go dumb\n",
      "Im about to go dumb, like Fred Sanford's son\n",
      "Ah Im, Im about to go coconuts\n",
      "and when it comes to money man, Im about to go Oprah\n",
      "and you ain't got to vote for us\n",
      "cause we ain't never runnin\n",
      "so you better get back like we ain't never buntin\n",
      "yeah, I put the lime in the open blunt\n",
      "and twist it all up baby I am not the sober one\n",
      "I'm from the jungle where the lion ate the cobra\n",
      "and I get money, got a no-money phobia\n",
      "uh-hauh, Tyga, Tyga what a do\n",
      "man, we are flyer than the pigeon in the coop\n",
      "man, I am hotter than a nigga in a suit\n",
      "in the middle of the summer, and I bang like a drummer\n",
      "Waynes that nukka,holla at ya gualla,\n",
      "make the money chase the shadow, call it dollar after dollar.\n",
      "--------------------\n",
      "<class 'bs4.element.NavigableString'>\n"
     ]
    },
    {
     "data": {
      "text/plain": [
       "'\\n'"
      ]
     },
     "metadata": {},
     "output_type": "display_data"
    },
    {
     "name": "stdout",
     "output_type": "stream",
     "text": [
      "Coconut Juice (Remix) (feat. Lil Wayne, Rich Boy)\n",
      "------\n",
      "<class 'bs4.element.Tag'>\n",
      "----------\n",
      "[Tyga - Chorus:]\n",
      "Put the lime in the coconut and twist it all up\n",
      "Put the lime in the coconut and twist it all up\n",
      "Put the lime in the coconut and twist it all up\n",
      "twist it all up, twist it all up\n",
      "--------------------\n",
      "<class 'bs4.element.NavigableString'>\n"
     ]
    },
    {
     "data": {
      "text/plain": [
       "'\\n'"
      ]
     },
     "metadata": {},
     "output_type": "display_data"
    },
    {
     "name": "stdout",
     "output_type": "stream",
     "text": [
      "Coconut Juice (Remix) (feat. Lil Wayne, Rich Boy)\n",
      "------\n",
      "<class 'bs4.element.Tag'>\n",
      "----------\n",
      "[Tyga - Verse 2:]\n",
      "Coconut juice got me real loose like\n",
      "Got me leaning 3 thousand proof like\n",
      "Coconut juice all on the dance FLOOR\n",
      "Fellas let your ladies GO ladies let your Fellas\n",
      "GO, in low no introduction\n",
      "WAIT, was that an introduction?\n",
      "Fo-foget it, I stu-stu-stu-stutter just so you can get it\n",
      "My diamonds so bright, I get picture tickets to tit it\n",
      "No, Im loin\n",
      "Right here the Tyga, no Lion.\n",
      "Tyga flowed, humanater, a buteroll tale\n",
      "You do this slow,\n",
      "smokings on me, don't touch me, still blow\n",
      "cause she won't be missed like ben gorden free throws.\n",
      "uh uh, Its the cheap coal from marciano\n",
      "and Im in the game, but my fame on the d-low\n",
      "me no, speak no, broke money englush\n",
      "loyal I'll be forever in a lake like seaglus\n",
      "Jesus, couldn't even save me from the visa\n",
      "So I keep ha, historic names in my James\n",
      "Ben Frank, name tag be Tyga man\n",
      "Oh, you mad cause the chase, stylin' with straight Tyga man\n",
      "--------------------\n",
      "<class 'bs4.element.NavigableString'>\n"
     ]
    },
    {
     "data": {
      "text/plain": [
       "'\\n'"
      ]
     },
     "metadata": {},
     "output_type": "display_data"
    },
    {
     "name": "stdout",
     "output_type": "stream",
     "text": [
      "Coconut Juice (Remix) (feat. Lil Wayne, Rich Boy)\n",
      "------\n",
      "<class 'bs4.element.Tag'>\n",
      "----------\n",
      "[Tyga - Chorus:]\n",
      "Put the lime in the coconut and twist it all up\n",
      "Put the lime in the coconut and twist it all up\n",
      "Put the lime in the coconut and twist it all up\n",
      "twist it all up, twist it all up\n",
      "--------------------\n",
      "<class 'bs4.element.NavigableString'>\n"
     ]
    },
    {
     "data": {
      "text/plain": [
       "'\\n'"
      ]
     },
     "metadata": {},
     "output_type": "display_data"
    },
    {
     "name": "stdout",
     "output_type": "stream",
     "text": [
      "Coconut Juice (Remix) (feat. Lil Wayne, Rich Boy)\n",
      "------\n",
      "<class 'bs4.element.Tag'>\n",
      "----------\n",
      "[Rich Boy - Verse 3:]\n",
      "Ima get some flames over the horn of artagrab\n",
      "Bitch aint a buff, until you have a whole sale\n",
      "I'll take the coconut juice and mix it with a old goose\n",
      "Hutchy hoot-a-hoot fryin' some Russian red cooc\n",
      "My livin' atm, wishin' my shit money grain\n",
      "I should have bought and office, I went and bought a ring\n",
      "Instead I ride dirty, said I shoulda bought the ring\n",
      "Instead of coconut juice it I mixed it with the lean\n",
      "aka, the rich one, carter yeah the benjamin\n",
      "If you ain't a bitch, why the fuck you ain't that femanin'\n",
      "When I twisted it up, she licked it up, the whole coconut\n",
      "Thats it, the whole coconut\n",
      "--------------------\n",
      "<class 'bs4.element.NavigableString'>\n"
     ]
    },
    {
     "data": {
      "text/plain": [
       "'\\n'"
      ]
     },
     "metadata": {},
     "output_type": "display_data"
    },
    {
     "name": "stdout",
     "output_type": "stream",
     "text": [
      "Coconut Juice (Remix) (feat. Lil Wayne, Rich Boy)\n",
      "------\n",
      "<class 'bs4.element.Tag'>\n",
      "----------\n",
      "[Tyga - Chorus:]\n",
      "Put the lime in the coconut and twist it all up\n",
      "Put the lime in the coconut and twist it all up\n",
      "Put the lime in the coconut and twist it all up\n",
      "twist it all up, twist it all up\n",
      "--------------------\n",
      "<class 'bs4.element.NavigableString'>\n"
     ]
    },
    {
     "data": {
      "text/plain": [
       "'\\n'"
      ]
     },
     "metadata": {},
     "output_type": "display_data"
    },
    {
     "name": "stdout",
     "output_type": "stream",
     "text": [
      "Coconut Juice (Remix) (feat. Lil Wayne, Rich Boy)\n",
      "------\n",
      "<class 'bs4.element.Tag'>\n",
      "----------\n",
      "[Tyga - Bridge:]\n",
      "Everybody in the party\n",
      "Hold your cup high move your body\n",
      "If you twist it scream it loudly!\n",
      "--------------------\n",
      "<class 'bs4.element.NavigableString'>\n"
     ]
    },
    {
     "data": {
      "text/plain": [
       "'\\n'"
      ]
     },
     "metadata": {},
     "output_type": "display_data"
    },
    {
     "name": "stdout",
     "output_type": "stream",
     "text": [
      "<class 'bs4.element.NavigableString'>\n"
     ]
    },
    {
     "data": {
      "text/plain": [
       "'\\n'"
      ]
     },
     "metadata": {},
     "output_type": "display_data"
    },
    {
     "name": "stdout",
     "output_type": "stream",
     "text": [
      "Crenshaw At Midnight (feat. Dom Kennedy)\n",
      "------\n",
      "<class 'bs4.element.Tag'>\n",
      "----------\n",
      "[Hook: Tyga]\n",
      "What this feel like (Crenshaw at midnight)\n",
      "I know I ain’t call but believe I ain’t far\n",
      "Somewhere (Crenshaw at midnight)\n",
      "Really living that life little homie think twice\n",
      "Niggas shooting some dice, some niggas pull at the light\n",
      "Knew em now everything alright\n",
      "Car clubs and bikes (Crenshaw at midnight)\n",
      "--------------------\n",
      "<class 'bs4.element.NavigableString'>\n"
     ]
    },
    {
     "data": {
      "text/plain": [
       "'\\n'"
      ]
     },
     "metadata": {},
     "output_type": "display_data"
    },
    {
     "name": "stdout",
     "output_type": "stream",
     "text": [
      "Crenshaw At Midnight (feat. Dom Kennedy)\n",
      "------\n",
      "<class 'bs4.element.Tag'>\n",
      "----------\n",
      "[Verse 1 - Tyga]\n",
      "Step in my Jordan 7s my kick game like Tekken\n",
      "My presence ain’t to be fucked with I ball like Gary Sheffield\n",
      "You out like it’s left field catch a nigga my glove real\n",
      "Young kid, big wheels Daddy Dave’s to Earlez Grille\n",
      "Pick on my life your life shorter than an anthill\n",
      "You Urkel like a Jaleel I work I morph like big bills\n",
      "Pardon my drop a phantom park wherever it feels\n",
      "You girl enjoy the park thrill intercourse the ‘fore meal\n",
      "Of course it’s surreal keep it concealed take a chill pill\n",
      "Barely wanting the problems cause he know he got ‘em\n",
      "She knows somebody he know, he know we bout it\n",
      "Pop it when it get crowded enemies get surrounded\n",
      "Los Angeles get lost never be founded\n",
      "Greed have you on mountains lonely and now you drowning\n",
      "Chill out, relax like lounges philanthropist\n",
      "Enhancing advancing in larger mansions\n",
      "Who pay this living insanity motherfucker\n",
      "--------------------\n",
      "<class 'bs4.element.NavigableString'>\n"
     ]
    },
    {
     "data": {
      "text/plain": [
       "'\\n'"
      ]
     },
     "metadata": {},
     "output_type": "display_data"
    },
    {
     "name": "stdout",
     "output_type": "stream",
     "text": [
      "Crenshaw At Midnight (feat. Dom Kennedy)\n",
      "------\n",
      "<class 'bs4.element.Tag'>\n",
      "----------\n",
      "[Hook]\n",
      "What this feel like (Crenshaw at midnight)\n",
      "I know I ain’t call but believe I ain’t far\n",
      "Somewhere (Crenshaw at midnight)\n",
      "Really living that life little homie think twice\n",
      "Niggas shooting some dice, some niggas pull at the light\n",
      "Knew em now everything alright\n",
      "Car clubs and bikes (Crenshaw at midnight)\n",
      "--------------------\n",
      "<class 'bs4.element.NavigableString'>\n"
     ]
    },
    {
     "data": {
      "text/plain": [
       "'\\n'"
      ]
     },
     "metadata": {},
     "output_type": "display_data"
    },
    {
     "name": "stdout",
     "output_type": "stream",
     "text": [
      "Crenshaw At Midnight (feat. Dom Kennedy)\n",
      "------\n",
      "<class 'bs4.element.Tag'>\n",
      "----------\n",
      "[Verse 2 - Dom Kennedy]\n",
      "Some niggas in gangs and some niggas don’t bang\n",
      "Police be pulling us over they all just treat us the same\n",
      "Never sold no cocaine but I’m as raw as they came\n",
      "She told me she wanna hang I let her kiss on the chain\n",
      "Told me she want a ride I told her get on the train\n",
      "She just think I entertain these bitches don’t know my name\n",
      "For the love of the game I’m not in it for the fame\n",
      "And if it don’t love me back I guess I’m in it for the pay\n",
      "Stress the fuck out but I just kill it with champagne\n",
      "And I love driving down Crenshaw when it rain\n",
      "It’s a movie baby, I’m a late 80′s Gucci baby\n",
      "Streetwear, I fuck with Stussy maybe\n",
      "Never had much though I gave niggas too many style\n",
      "Don’t tryin’ to front though\n",
      "I fuck 20 girls out the House of Blues front row\n",
      "Leimert Park legend you know what’s up ho\n",
      "--------------------\n",
      "<class 'bs4.element.NavigableString'>\n"
     ]
    },
    {
     "data": {
      "text/plain": [
       "'\\n'"
      ]
     },
     "metadata": {},
     "output_type": "display_data"
    },
    {
     "name": "stdout",
     "output_type": "stream",
     "text": [
      "Crenshaw At Midnight (feat. Dom Kennedy)\n",
      "------\n",
      "<class 'bs4.element.Tag'>\n",
      "----------\n",
      "[Hook]\n",
      "What this feel like (Crenshaw at midnight)\n",
      "I know I ain’t call but believe I ain’t far\n",
      "Somewhere (Crenshaw at midnight)\n",
      "Really living that life little homie think twice\n",
      "Niggas shooting some dice, some niggas pull at the light\n",
      "Knew em now everything alright\n",
      "Car clubs and bikes (Crenshaw at midnight)\n",
      "--------------------\n",
      "<class 'bs4.element.NavigableString'>\n"
     ]
    },
    {
     "data": {
      "text/plain": [
       "'\\n'"
      ]
     },
     "metadata": {},
     "output_type": "display_data"
    },
    {
     "name": "stdout",
     "output_type": "stream",
     "text": [
      "<class 'bs4.element.NavigableString'>\n"
     ]
    },
    {
     "data": {
      "text/plain": [
       "'\\n'"
      ]
     },
     "metadata": {},
     "output_type": "display_data"
    },
    {
     "name": "stdout",
     "output_type": "stream",
     "text": [
      "Cut My Check\n",
      "------\n",
      "<class 'bs4.element.Tag'>\n",
      "----------\n",
      "[Bridge:]\n",
      "Been around the world seen with the best (with the best)\n",
      "My kicks you haven't seen them yet (not yet)\n",
      "Where the girls just looking for the sex (the sex)\n",
      "Throw your hands from the east to the west (to the west)\n",
      "--------------------\n",
      "<class 'bs4.element.NavigableString'>\n"
     ]
    },
    {
     "data": {
      "text/plain": [
       "'\\n'"
      ]
     },
     "metadata": {},
     "output_type": "display_data"
    },
    {
     "name": "stdout",
     "output_type": "stream",
     "text": [
      "Cut My Check\n",
      "------\n",
      "<class 'bs4.element.Tag'>\n",
      "----------\n",
      "[Hook:]\n",
      "Tell them all just cut my check (my check)\n",
      "Tell them all just cut my check (my check)\n",
      "Tell them all just cut my check (my check)\n",
      "Tell them all just cut my check (my check)\n",
      "--------------------\n",
      "<class 'bs4.element.NavigableString'>\n"
     ]
    },
    {
     "data": {
      "text/plain": [
       "'\\n'"
      ]
     },
     "metadata": {},
     "output_type": "display_data"
    },
    {
     "name": "stdout",
     "output_type": "stream",
     "text": [
      "Cut My Check\n",
      "------\n",
      "<class 'bs4.element.Tag'>\n",
      "----------\n",
      "Look rappers, I'm tell you what's about to happen\n",
      "As I add up, your money is mathematics\n",
      "As an animal, Dracula out of his casket\n",
      "Who's hungry [?]\n",
      "Who matters I'll make them unmatter\n",
      "Batter batter I throw money, stripper catch it\n",
      "They mad happy\n",
      "No meal, I'm Christmas deal\n",
      "[?]\n",
      "--------------------\n",
      "<class 'bs4.element.NavigableString'>\n"
     ]
    },
    {
     "data": {
      "text/plain": [
       "'\\n'"
      ]
     },
     "metadata": {},
     "output_type": "display_data"
    },
    {
     "name": "stdout",
     "output_type": "stream",
     "text": [
      "Cut My Check\n",
      "------\n",
      "<class 'bs4.element.Tag'>\n",
      "----------\n",
      "[Bridge]\n",
      "--------------------\n",
      "<class 'bs4.element.NavigableString'>\n"
     ]
    },
    {
     "data": {
      "text/plain": [
       "'\\n'"
      ]
     },
     "metadata": {},
     "output_type": "display_data"
    },
    {
     "name": "stdout",
     "output_type": "stream",
     "text": [
      "Cut My Check\n",
      "------\n",
      "<class 'bs4.element.Tag'>\n",
      "----------\n",
      "[Hook]\n",
      "--------------------\n",
      "<class 'bs4.element.NavigableString'>\n"
     ]
    },
    {
     "data": {
      "text/plain": [
       "'\\n'"
      ]
     },
     "metadata": {},
     "output_type": "display_data"
    },
    {
     "name": "stdout",
     "output_type": "stream",
     "text": [
      "Cut My Check\n",
      "------\n",
      "<class 'bs4.element.Tag'>\n",
      "----------\n",
      "Hear hear hear this that real weird\n",
      "I'm going to steer steer this with the e-gear\n",
      "Might appear in the shape of a shark fin\n",
      "Signal the docks that I'm hot and I'm heartless\n",
      "Gorilla bar mitzvahs, ape when the record spins\n",
      "[?]\n",
      "--------------------\n",
      "<class 'bs4.element.NavigableString'>\n"
     ]
    },
    {
     "data": {
      "text/plain": [
       "'\\n'"
      ]
     },
     "metadata": {},
     "output_type": "display_data"
    },
    {
     "name": "stdout",
     "output_type": "stream",
     "text": [
      "Cut My Check\n",
      "------\n",
      "<class 'bs4.element.Tag'>\n",
      "----------\n",
      "[Bridge]\n",
      "--------------------\n",
      "<class 'bs4.element.NavigableString'>\n"
     ]
    },
    {
     "data": {
      "text/plain": [
       "'\\n'"
      ]
     },
     "metadata": {},
     "output_type": "display_data"
    },
    {
     "name": "stdout",
     "output_type": "stream",
     "text": [
      "Cut My Check\n",
      "------\n",
      "<class 'bs4.element.Tag'>\n",
      "----------\n",
      "[Hook]\n",
      "--------------------\n",
      "<class 'bs4.element.NavigableString'>\n"
     ]
    },
    {
     "data": {
      "text/plain": [
       "'\\n'"
      ]
     },
     "metadata": {},
     "output_type": "display_data"
    },
    {
     "name": "stdout",
     "output_type": "stream",
     "text": [
      "Cut My Check\n",
      "------\n",
      "<class 'bs4.element.Tag'>\n",
      "----------\n",
      "Tyzilla, welcome to the thriller\n",
      "Shimmer on my neck but I bet it ain't glitter\n",
      "King of the poppa, pop killa killa\n",
      "Middle of the [?] will I get my sizzle\n",
      "Hot hot man, God God God, damn\n",
      "Girl grab me but I melt through her hands\n",
      "Land of LA, Cali where they bang\n",
      "I'm just a star that never change\n",
      "--------------------\n",
      "<class 'bs4.element.NavigableString'>\n"
     ]
    },
    {
     "data": {
      "text/plain": [
       "'\\n'"
      ]
     },
     "metadata": {},
     "output_type": "display_data"
    },
    {
     "name": "stdout",
     "output_type": "stream",
     "text": [
      "Cut My Check\n",
      "------\n",
      "<class 'bs4.element.Tag'>\n",
      "----------\n",
      "[Bridge]\n",
      "--------------------\n",
      "<class 'bs4.element.NavigableString'>\n"
     ]
    },
    {
     "data": {
      "text/plain": [
       "'\\n'"
      ]
     },
     "metadata": {},
     "output_type": "display_data"
    },
    {
     "name": "stdout",
     "output_type": "stream",
     "text": [
      "Cut My Check\n",
      "------\n",
      "<class 'bs4.element.Tag'>\n",
      "----------\n",
      "[Hook]\n",
      "--------------------\n",
      "<class 'bs4.element.NavigableString'>\n"
     ]
    },
    {
     "data": {
      "text/plain": [
       "'\\n'"
      ]
     },
     "metadata": {},
     "output_type": "display_data"
    },
    {
     "name": "stdout",
     "output_type": "stream",
     "text": [
      "Dads Letter\n",
      "------\n",
      "<class 'bs4.element.Tag'>\n",
      "----------\n",
      "Young light skinned, born [?]\n",
      "Since I was 10 probably name all the trouble I did\n",
      "Neva participated, I'm like \"fuck all them other kids\"\n",
      "Like I don't owe you child shit when I make it big\n",
      "But a little respect, fuck y'all though what do you expect\n",
      "Never raised a gentlemen like Ne-Yo said\n",
      "Lookin for hero heads, but I don't see none yet\n",
      "All my friends, weed & cigarettes so I take a hit\n",
      "[cough cough] That's some potent shit oh there go police man\n",
      "I ain't scared of shit, but hell yeah I ran\n",
      "Lost my money clip ever since wrap rubberbands\n",
      "Biggity bam, did a couple of scams, made a couple of grands\n",
      "Fast forward to the Ford Escort, I ball with it\n",
      "Too quick 14 no license, that's some awful full shit\n",
      "Now must stack ketchup like condiments\n",
      "Kinda just wish you taught me how to be a man\n",
      "--------------------\n",
      "<class 'bs4.element.NavigableString'>\n"
     ]
    },
    {
     "data": {
      "text/plain": [
       "'\\n'"
      ]
     },
     "metadata": {},
     "output_type": "display_data"
    },
    {
     "name": "stdout",
     "output_type": "stream",
     "text": [
      "<class 'bs4.element.NavigableString'>\n"
     ]
    },
    {
     "data": {
      "text/plain": [
       "'\\n'"
      ]
     },
     "metadata": {},
     "output_type": "display_data"
    },
    {
     "name": "stdout",
     "output_type": "stream",
     "text": [
      "<class 'bs4.element.NavigableString'>\n"
     ]
    },
    {
     "data": {
      "text/plain": [
       "'\\n'"
      ]
     },
     "metadata": {},
     "output_type": "display_data"
    },
    {
     "name": "stdout",
     "output_type": "stream",
     "text": [
      "<class 'bs4.element.NavigableString'>\n"
     ]
    },
    {
     "data": {
      "text/plain": [
       "'\\n'"
      ]
     },
     "metadata": {},
     "output_type": "display_data"
    },
    {
     "name": "stdout",
     "output_type": "stream",
     "text": [
      "<class 'bs4.element.NavigableString'>\n"
     ]
    },
    {
     "data": {
      "text/plain": [
       "'\\n'"
      ]
     },
     "metadata": {},
     "output_type": "display_data"
    },
    {
     "name": "stdout",
     "output_type": "stream",
     "text": [
      "<class 'bs4.element.NavigableString'>\n"
     ]
    },
    {
     "data": {
      "text/plain": [
       "'\\n'"
      ]
     },
     "metadata": {},
     "output_type": "display_data"
    },
    {
     "name": "stdout",
     "output_type": "stream",
     "text": [
      "Dancin' 4 Dollas\n",
      "------\n",
      "<class 'bs4.element.Tag'>\n",
      "----------\n",
      "[Hook:]\n",
      "You know she just moved out of Momma's\n",
      "Just went back to college\n",
      "She is my dancer, when she dance I throw her dollars\n",
      "I throw her dollars, I-I-I throw her dollars\n",
      "She is my dancer, when she dance I throw her dollars\n",
      "She works hard for the money (So, so hard)\n",
      "So hard for the money (So, so hard)\n",
      "She be dancin' for them dollars (Yeah)\n",
      "She be dancin' for them dollars (Yeah)\n",
      "She be dancin' for them dollars (Yeah)\n",
      "Dancin' for them dollars\n",
      "--------------------\n",
      "<class 'bs4.element.NavigableString'>\n"
     ]
    },
    {
     "data": {
      "text/plain": [
       "'\\n'"
      ]
     },
     "metadata": {},
     "output_type": "display_data"
    },
    {
     "name": "stdout",
     "output_type": "stream",
     "text": [
      "<class 'bs4.element.NavigableString'>\n"
     ]
    },
    {
     "data": {
      "text/plain": [
       "'\\n'"
      ]
     },
     "metadata": {},
     "output_type": "display_data"
    },
    {
     "name": "stdout",
     "output_type": "stream",
     "text": [
      "Dancin' 4 Dollas\n",
      "------\n",
      "<class 'bs4.element.Tag'>\n",
      "----------\n",
      "[Hook]\n",
      "--------------------\n",
      "<class 'bs4.element.NavigableString'>\n"
     ]
    },
    {
     "data": {
      "text/plain": [
       "'\\n'"
      ]
     },
     "metadata": {},
     "output_type": "display_data"
    },
    {
     "name": "stdout",
     "output_type": "stream",
     "text": [
      "<class 'bs4.element.NavigableString'>\n"
     ]
    },
    {
     "data": {
      "text/plain": [
       "'\\n'"
      ]
     },
     "metadata": {},
     "output_type": "display_data"
    },
    {
     "name": "stdout",
     "output_type": "stream",
     "text": [
      "Dancin' 4 Dollas\n",
      "------\n",
      "<class 'bs4.element.Tag'>\n",
      "----------\n",
      "[Hook]\n",
      "--------------------\n",
      "<class 'bs4.element.NavigableString'>\n"
     ]
    },
    {
     "data": {
      "text/plain": [
       "'\\n'"
      ]
     },
     "metadata": {},
     "output_type": "display_data"
    },
    {
     "name": "stdout",
     "output_type": "stream",
     "text": [
      "<class 'bs4.element.NavigableString'>\n"
     ]
    },
    {
     "data": {
      "text/plain": [
       "'\\n'"
      ]
     },
     "metadata": {},
     "output_type": "display_data"
    },
    {
     "name": "stdout",
     "output_type": "stream",
     "text": [
      "Day One\n",
      "------\n",
      "<class 'bs4.element.Tag'>\n",
      "----------\n",
      "[Verse 1]\n",
      "500 grand, eat lobster tails\n",
      "Hope the niggas got what for sale\n",
      "So much money, no fingernails\n",
      "Wide body, engine and a tail\n",
      "Chrome lips, V12\n",
      "Kiss the king but don’t kiss and tell\n",
      "So many rings, need a Jordan deal\n",
      "T-Raw’s, it ain’t all for sale\n",
      "Just bought a swiss account\n",
      "Hunneds stay the same at this amount\n",
      "LK, show you what that’s about\n",
      "Hard to check a nigga when the checks that bounce\n",
      "Fuck around, drop out of class\n",
      "Made millions now, my teacher mad\n",
      "She need a job and I give her that\n",
      "Young nigga with big stacks\n",
      "Buy my style and ain’t gave it back\n",
      "How you think brought you the raw rap?\n",
      "How you think taught you the phantom rap?\n",
      "Gold plates, I’m reflectin that\n",
      "Every day my birthday, nigga LA my birthplace\n",
      "This ain’t a race but I’m first place\n",
      "I never fucked with you in the first place\n",
      "We on a different pace, nigga so long\n",
      "I ain’t the nigga you could hold on\n",
      "Ride the wave or just float on\n",
      "Get off my back, I’m tryna lead on\n",
      "Always home when the heat’s on\n",
      "When it’s cold shoulders niggas be gone\n",
      "Niggas be gone\n",
      "--------------------\n",
      "<class 'bs4.element.NavigableString'>\n"
     ]
    },
    {
     "data": {
      "text/plain": [
       "'\\n'"
      ]
     },
     "metadata": {},
     "output_type": "display_data"
    },
    {
     "name": "stdout",
     "output_type": "stream",
     "text": [
      "Day One\n",
      "------\n",
      "<class 'bs4.element.Tag'>\n",
      "----------\n",
      "[Hook 1 (x2)]\n",
      "I’m still the same nigga, same bitches we know\n",
      "No difference, been me since day one\n",
      "Real nigga since day one\n",
      "Cuz I ain’t promised day two\n",
      "Talkin bout what I’m going through\n",
      "But who the fuck aksed you?\n",
      "--------------------\n",
      "<class 'bs4.element.NavigableString'>\n"
     ]
    },
    {
     "data": {
      "text/plain": [
       "'\\n'"
      ]
     },
     "metadata": {},
     "output_type": "display_data"
    },
    {
     "name": "stdout",
     "output_type": "stream",
     "text": [
      "Day One\n",
      "------\n",
      "<class 'bs4.element.Tag'>\n",
      "----------\n",
      "[Bridge]\n",
      "Asked you, asked you\n",
      "Asked you, asked you\n",
      "Asked you, asked you\n",
      "But who the fuck asked you?\n",
      "--------------------\n",
      "<class 'bs4.element.NavigableString'>\n"
     ]
    },
    {
     "data": {
      "text/plain": [
       "'\\n'"
      ]
     },
     "metadata": {},
     "output_type": "display_data"
    },
    {
     "name": "stdout",
     "output_type": "stream",
     "text": [
      "Day One\n",
      "------\n",
      "<class 'bs4.element.Tag'>\n",
      "----------\n",
      "[Hook 2]\n",
      "Who dat be? Who dat be?\n",
      "Who dat be? That’s me bitch\n",
      "Who dat be? Who dat be?\n",
      "Who dat be? That’s me bitch\n",
      "Niggas wanna talk, don’t cross the line\n",
      "I murder them motherfuckers every time\n",
      "Niggas wanna talk, don’t cross the line\n",
      "I murder them motherfuckers every time\n",
      "--------------------\n",
      "<class 'bs4.element.NavigableString'>\n"
     ]
    },
    {
     "data": {
      "text/plain": [
       "'\\n'"
      ]
     },
     "metadata": {},
     "output_type": "display_data"
    },
    {
     "name": "stdout",
     "output_type": "stream",
     "text": [
      "Day One\n",
      "------\n",
      "<class 'bs4.element.Tag'>\n",
      "----------\n",
      "[Verse]\n",
      "It’s a thin line between love and hate\n",
      "A thin line between real and fake\n",
      "Keep a nigga based on shape, ass shake\n",
      "She gon make it clap, vibrate\n",
      "Give me room, 50 feet, all in my space\n",
      "I’m the one you face and don’t hesitate\n",
      "See me layin on yo back, man eat this shell like it’s Pac mane\n",
      "Do it under one tape, what you say?\n",
      "T-Raw to blame, T-Raw to blame\n",
      "Got a piggy bank, pretty model sittin next to me – that’s accessory\n",
      "Don’t be sassin me\n",
      "How do you have the audacity?\n",
      "Want a verse gotta bring cash to me\n",
      "I be gassin me, you wanna crash on me?\n",
      "Have yo head where yo feet should be\n",
      "Laid out in yo living room, murder you then watch it on TV\n",
      "Ain’t no breaking me, breaking news that’s me\n",
      "Headline, we can go head up\n",
      "Like Greenbay Packer, hell lit, hell yea\n",
      "He a crazy ape man, I’m turnt up to ten\n",
      "Fuck with me, commence and repent\n",
      "Mill to the king\n",
      "Came from the block, little hardknock\n",
      "Lock it up, pull me in a cell block, I can make it\n",
      "You ain’t made shit, you complainin (stop complainin)\n",
      "--------------------\n",
      "<class 'bs4.element.NavigableString'>\n"
     ]
    },
    {
     "data": {
      "text/plain": [
       "'\\n'"
      ]
     },
     "metadata": {},
     "output_type": "display_data"
    },
    {
     "name": "stdout",
     "output_type": "stream",
     "text": [
      "Day One\n",
      "------\n",
      "<class 'bs4.element.Tag'>\n",
      "----------\n",
      "[Hook 2 (x2)]\n",
      "Who dat be? Who dat be?\n",
      "Who dat be? That’s me bitch\n",
      "Who dat be? Who dat be?\n",
      "Who dat be? That’s me bitch\n",
      "Niggas wanna talk, don’t cross the line\n",
      "I murder them motherfuckers every time\n",
      "Niggas wanna talk, don’t cross the line\n",
      "I murder them motherfuckers every time\n",
      "--------------------\n",
      "<class 'bs4.element.NavigableString'>\n"
     ]
    },
    {
     "data": {
      "text/plain": [
       "'\\n'"
      ]
     },
     "metadata": {},
     "output_type": "display_data"
    },
    {
     "name": "stdout",
     "output_type": "stream",
     "text": [
      "<class 'bs4.element.NavigableString'>\n"
     ]
    },
    {
     "data": {
      "text/plain": [
       "'\\n'"
      ]
     },
     "metadata": {},
     "output_type": "display_data"
    },
    {
     "name": "stdout",
     "output_type": "stream",
     "text": [
      "Designer\n",
      "------\n",
      "<class 'bs4.element.Tag'>\n",
      "----------\n",
      "[Hook x2]\n",
      "All my shit designer\n",
      "All my shit designer\n",
      "All my shit designer\n",
      "I fucked your bitch in Cavalli\n",
      "All my shit designer\n",
      "All my shit designer\n",
      "All my shit designer\n",
      "I fucked your bitch in Versace, nigga\n",
      "--------------------\n",
      "<class 'bs4.element.NavigableString'>\n"
     ]
    },
    {
     "data": {
      "text/plain": [
       "'\\n'"
      ]
     },
     "metadata": {},
     "output_type": "display_data"
    },
    {
     "name": "stdout",
     "output_type": "stream",
     "text": [
      "<class 'bs4.element.NavigableString'>\n"
     ]
    },
    {
     "data": {
      "text/plain": [
       "'\\n'"
      ]
     },
     "metadata": {},
     "output_type": "display_data"
    },
    {
     "name": "stdout",
     "output_type": "stream",
     "text": [
      "Designer\n",
      "------\n",
      "<class 'bs4.element.Tag'>\n",
      "----------\n",
      "[Hook]\n",
      "--------------------\n",
      "<class 'bs4.element.NavigableString'>\n"
     ]
    },
    {
     "data": {
      "text/plain": [
       "'\\n'"
      ]
     },
     "metadata": {},
     "output_type": "display_data"
    },
    {
     "name": "stdout",
     "output_type": "stream",
     "text": [
      "Designer\n",
      "------\n",
      "<class 'bs4.element.Tag'>\n",
      "----------\n",
      "[Outro]\n",
      "One verse, one hearse\n",
      "'Bout to start bringing that shit out on y'all bitch ass niggas\n",
      "--------------------\n",
      "<class 'bs4.element.NavigableString'>\n"
     ]
    },
    {
     "data": {
      "text/plain": [
       "'\\n'"
      ]
     },
     "metadata": {},
     "output_type": "display_data"
    },
    {
     "name": "stdout",
     "output_type": "stream",
     "text": [
      "Diamond Life\n",
      "------\n",
      "<class 'bs4.element.Tag'>\n",
      "----------\n",
      "[Chorus: Patty Cash]\n",
      "Diamond Life\n",
      "Sugar baby we dynamite\n",
      "Playboy and socialites\n",
      "Young and Fly Fly Fly\n",
      "--------------------\n",
      "<class 'bs4.element.NavigableString'>\n"
     ]
    },
    {
     "data": {
      "text/plain": [
       "'\\n'"
      ]
     },
     "metadata": {},
     "output_type": "display_data"
    },
    {
     "name": "stdout",
     "output_type": "stream",
     "text": [
      "Diamond Life\n",
      "------\n",
      "<class 'bs4.element.Tag'>\n",
      "----------\n",
      "[Verse 1: Tyga]\n",
      "1989 no pressure\n",
      "But to be the bestest in my section\n",
      "Levels of a professional\n",
      "Skip school create my own lessons\n",
      "Confessions of a mad rapper\n",
      "Music got me rapping\n",
      "Green stretching only leads to red stretches\n",
      "He's next in line for the blessing\n",
      "Get your mind off minds\n",
      "Hustle something and stop relying on mine\n",
      "More then a legend why you letting time fly by\n",
      "At age 17 addicted to ink\n",
      "A rap fein who had money dreams\n",
      "My chase of fame couldn't compare to what I seen\n",
      "Them die government lie hard for the paper cheese\n",
      "Moms crying watching her only son\n",
      "Through TV mtv bet\n",
      "He on now wipe me down\n",
      "No longer fighting through the crowd\n",
      "I control the crowd oh you like me now wow!\n",
      "--------------------\n",
      "<class 'bs4.element.NavigableString'>\n"
     ]
    },
    {
     "data": {
      "text/plain": [
       "'\\n'"
      ]
     },
     "metadata": {},
     "output_type": "display_data"
    },
    {
     "name": "stdout",
     "output_type": "stream",
     "text": [
      "Diamond Life\n",
      "------\n",
      "<class 'bs4.element.Tag'>\n",
      "----------\n",
      "[Chorus: Patty Cash]\n",
      "Diamond Life\n",
      "Sugar baby we dynamite\n",
      "Playboy and socialites\n",
      "Young and Fly Fly Fly\n",
      "Diamond Life\n",
      "Sugar baby we dynamite\n",
      "Playboy and socialites\n",
      "Young and Fly Fly Fly\n",
      "--------------------\n",
      "<class 'bs4.element.NavigableString'>\n"
     ]
    },
    {
     "data": {
      "text/plain": [
       "'\\n'"
      ]
     },
     "metadata": {},
     "output_type": "display_data"
    },
    {
     "name": "stdout",
     "output_type": "stream",
     "text": [
      "Diamond Life\n",
      "------\n",
      "<class 'bs4.element.Tag'>\n",
      "----------\n",
      "[Verse 2:]\n",
      "Back to the cool motivational roads\n",
      "No guidance just violence in probational homes\n",
      "Thinking my high routes is all out\n",
      "Music gotta be my way out\n",
      "Family gathered around I gotta make em proud\n",
      "Pops popped in the penatenary laided out\n",
      "Hoping his son fell under a different cloud\n",
      "I'm speaking directly into the crowd\n",
      "Nothing personal\n",
      "Just thought you would love to know the person\n",
      "Far from perfect\n",
      "But nearly word perfect\n",
      "Must be he weighed him\n",
      "On a scale form 1 to me, me\n",
      "Even the greatness\n",
      "Money equal a every 10 haters\n",
      "The rest couldn't make it though the unlikely behavior\n",
      "So be patient\n",
      "Or end up the next patient\n",
      "Emergency room, newspaper\n",
      "The new rappers call em street actors\n",
      "Music wise they playing safety\n",
      "And I'm shooting on safety aiming for greatness\n",
      "--------------------\n",
      "<class 'bs4.element.NavigableString'>\n"
     ]
    },
    {
     "data": {
      "text/plain": [
       "'\\n'"
      ]
     },
     "metadata": {},
     "output_type": "display_data"
    },
    {
     "name": "stdout",
     "output_type": "stream",
     "text": [
      "Diamond Life\n",
      "------\n",
      "<class 'bs4.element.Tag'>\n",
      "----------\n",
      "[Chorus: Patty Cash]\n",
      "Diamond Life\n",
      "Sugar baby we dynamite\n",
      "Playboy and socialites\n",
      "Young and Fly Fly Fly\n",
      "Diamond Life\n",
      "Sugar baby we dynamite\n",
      "Playboy and socialites\n",
      "Young and Fly Fly Fly Fly\n",
      "--------------------\n",
      "<class 'bs4.element.NavigableString'>\n"
     ]
    },
    {
     "data": {
      "text/plain": [
       "'\\n'"
      ]
     },
     "metadata": {},
     "output_type": "display_data"
    },
    {
     "name": "stdout",
     "output_type": "stream",
     "text": [
      "<class 'bs4.element.NavigableString'>\n"
     ]
    },
    {
     "data": {
      "text/plain": [
       "'\\n'"
      ]
     },
     "metadata": {},
     "output_type": "display_data"
    },
    {
     "name": "stdout",
     "output_type": "stream",
     "text": [
      "Diamond Life\n",
      "------\n",
      "<class 'bs4.element.Tag'>\n",
      "----------\n",
      "[Chorus: Patty Cash]\n",
      "Diamond Life\n",
      "Sugar baby we dynamite\n",
      "Playboy and socialites\n",
      "Young and Fly Fly Fly\n",
      "Diamond Life\n",
      "Sugar baby we dynamite\n",
      "Playboy and socialites\n",
      "Young and Fly Fly Fly Fly (Yeahe Yeahe Yeahe Yeah)\n",
      "--------------------\n",
      "<class 'bs4.element.NavigableString'>\n"
     ]
    },
    {
     "data": {
      "text/plain": [
       "'\\n'"
      ]
     },
     "metadata": {},
     "output_type": "display_data"
    },
    {
     "name": "stdout",
     "output_type": "stream",
     "text": [
      "<class 'bs4.element.NavigableString'>\n"
     ]
    },
    {
     "data": {
      "text/plain": [
       "'\\n'"
      ]
     },
     "metadata": {},
     "output_type": "display_data"
    },
    {
     "name": "stdout",
     "output_type": "stream",
     "text": [
      "Diced Pineapples\n",
      "------\n",
      "<class 'bs4.element.Tag'>\n",
      "----------\n",
      "[Verse 1: Tyga]\n",
      "My Isis goddess, a peach garden\n",
      "Sipping Merlot, beach bums, bumping Bob Marley\n",
      "Reggae party, shirt Cavalli, dress highly\n",
      "Highly infatuated, spending what you call life savings\n",
      "Hi ladies, nice day, ain’t it?\n",
      "South France be my new lady, canvas face paintings\n",
      "If God were me, you’d be more jealous, the horny\n",
      "I’d backtrack, hop on the right track with a new somebody\n",
      "Now let’s back track two years, where I met you at\n",
      "Night life, popping bottles, acting like you wasn’t impressed with that\n",
      "That shit, I do for you, I never lack\n",
      "Need that, got that, never did I second guess\n",
      "Took you out that C-class, put you in that SLS\n",
      "No more Southwest, now it’s like private jets\n",
      "Now all you got is ex-roommates\n",
      "Cause all you got now is too much room space, shoe space\n",
      "--------------------\n",
      "<class 'bs4.element.NavigableString'>\n"
     ]
    },
    {
     "data": {
      "text/plain": [
       "'\\n'"
      ]
     },
     "metadata": {},
     "output_type": "display_data"
    },
    {
     "name": "stdout",
     "output_type": "stream",
     "text": [
      "Diced Pineapples\n",
      "------\n",
      "<class 'bs4.element.Tag'>\n",
      "----------\n",
      "[Hook]\n",
      "Same page but a different day\n",
      "Everything sweet, peace till a nigga be down and out\n",
      "Same shit you said yesterday\n",
      "Can’t take no more of your shit cause I can do better without you\n",
      "I can do better without you\n",
      "--------------------\n",
      "<class 'bs4.element.NavigableString'>\n"
     ]
    },
    {
     "data": {
      "text/plain": [
       "'\\n'"
      ]
     },
     "metadata": {},
     "output_type": "display_data"
    },
    {
     "name": "stdout",
     "output_type": "stream",
     "text": [
      "Diced Pineapples\n",
      "------\n",
      "<class 'bs4.element.Tag'>\n",
      "----------\n",
      "[Verse 2: Tyga]\n",
      "Symbolic tattoos cover the scar\n",
      "Heart tell 'em love move\n",
      "Cause of you I’ll probably never accept what’s due\n",
      "Except what’s due, exempt from them nights I could’ve been single too\n",
      "Moonlight dinner, dark denim\n",
      "How we losing, we was up in the ninth inning\n",
      "The night’s ending, attitude on a fire chariot\n",
      "Ain’t too hilarious, find it embarrassing, you crazy bitch\n",
      "All I wanted was pom poms, hug and a kiss\n",
      "Thought you rooting for this team, saw you on some other shit\n",
      "Acting out publicly, fans recording the shit\n",
      "Why you can’t play your part and act accordingly?\n",
      "I guess that’s all me, rubbing off on me\n",
      "Rubbing off on you, now you got an ego, too\n",
      "Tell her spread far like an eagle do\n",
      "I don’t want nothing to do with you, I’m through with you\n",
      "--------------------\n",
      "<class 'bs4.element.NavigableString'>\n"
     ]
    },
    {
     "data": {
      "text/plain": [
       "'\\n'"
      ]
     },
     "metadata": {},
     "output_type": "display_data"
    },
    {
     "name": "stdout",
     "output_type": "stream",
     "text": [
      "Diced Pineapples\n",
      "------\n",
      "<class 'bs4.element.Tag'>\n",
      "----------\n",
      "[Hook]\n",
      "--------------------\n",
      "<class 'bs4.element.NavigableString'>\n"
     ]
    },
    {
     "data": {
      "text/plain": [
       "'\\n'"
      ]
     },
     "metadata": {},
     "output_type": "display_data"
    },
    {
     "name": "stdout",
     "output_type": "stream",
     "text": [
      "Diced Pineapples\n",
      "------\n",
      "<class 'bs4.element.Tag'>\n",
      "----------\n",
      "[Bridge]\n",
      "You never thought i’d do it, you never thought i’d leave you\n",
      "You told me you loved me, but I never believed you\n",
      "Your heart was false just like the words you said\n",
      "Your stupid ass, corny lines trying to fill my head\n",
      "Shit, caught up in your perfect world, you never heard me cry\n",
      "That’s why you never expect to see me say goodbye\n",
      "You know I’m better off without you\n",
      "I can manage on my own, you can still have your perfect life\n",
      "You could have it all alone, cause I’m better without you\n",
      "--------------------\n",
      "<class 'bs4.element.NavigableString'>\n"
     ]
    },
    {
     "data": {
      "text/plain": [
       "'\\n'"
      ]
     },
     "metadata": {},
     "output_type": "display_data"
    },
    {
     "name": "stdout",
     "output_type": "stream",
     "text": [
      "Diced Pineapples\n",
      "------\n",
      "<class 'bs4.element.Tag'>\n",
      "----------\n",
      "[Hook]\n",
      "--------------------\n",
      "<class 'bs4.element.NavigableString'>\n"
     ]
    },
    {
     "data": {
      "text/plain": [
       "'\\n'"
      ]
     },
     "metadata": {},
     "output_type": "display_data"
    },
    {
     "name": "stdout",
     "output_type": "stream",
     "text": [
      "<class 'bs4.element.NavigableString'>\n"
     ]
    },
    {
     "data": {
      "text/plain": [
       "'\\n'"
      ]
     },
     "metadata": {},
     "output_type": "display_data"
    },
    {
     "name": "stdout",
     "output_type": "stream",
     "text": [
      "Diddy Bop\n",
      "------\n",
      "<class 'bs4.element.Tag'>\n",
      "----------\n",
      "In my diddy bop\n",
      "In my diddy bop\n",
      "Boss through the city\n",
      "boss boss\n",
      "Through the city block [x2]\n",
      "--------------------\n",
      "<class 'bs4.element.NavigableString'>\n"
     ]
    },
    {
     "data": {
      "text/plain": [
       "'\\n'"
      ]
     },
     "metadata": {},
     "output_type": "display_data"
    },
    {
     "name": "stdout",
     "output_type": "stream",
     "text": [
      "<class 'bs4.element.NavigableString'>\n"
     ]
    },
    {
     "data": {
      "text/plain": [
       "'\\n'"
      ]
     },
     "metadata": {},
     "output_type": "display_data"
    },
    {
     "name": "stdout",
     "output_type": "stream",
     "text": [
      "<class 'bs4.element.NavigableString'>\n"
     ]
    },
    {
     "data": {
      "text/plain": [
       "'\\n'"
      ]
     },
     "metadata": {},
     "output_type": "display_data"
    },
    {
     "name": "stdout",
     "output_type": "stream",
     "text": [
      "<class 'bs4.element.NavigableString'>\n"
     ]
    },
    {
     "data": {
      "text/plain": [
       "'\\n'"
      ]
     },
     "metadata": {},
     "output_type": "display_data"
    },
    {
     "name": "stdout",
     "output_type": "stream",
     "text": [
      "<class 'bs4.element.NavigableString'>\n"
     ]
    },
    {
     "data": {
      "text/plain": [
       "'\\n'"
      ]
     },
     "metadata": {},
     "output_type": "display_data"
    },
    {
     "name": "stdout",
     "output_type": "stream",
     "text": [
      "<class 'bs4.element.NavigableString'>\n"
     ]
    },
    {
     "data": {
      "text/plain": [
       "'\\n'"
      ]
     },
     "metadata": {},
     "output_type": "display_data"
    },
    {
     "name": "stdout",
     "output_type": "stream",
     "text": [
      "<class 'bs4.element.NavigableString'>\n"
     ]
    },
    {
     "data": {
      "text/plain": [
       "'\\n'"
      ]
     },
     "metadata": {},
     "output_type": "display_data"
    },
    {
     "name": "stdout",
     "output_type": "stream",
     "text": [
      "<class 'bs4.element.NavigableString'>\n"
     ]
    },
    {
     "data": {
      "text/plain": [
       "'\\n'"
      ]
     },
     "metadata": {},
     "output_type": "display_data"
    },
    {
     "name": "stdout",
     "output_type": "stream",
     "text": [
      "<class 'bs4.element.NavigableString'>\n"
     ]
    },
    {
     "data": {
      "text/plain": [
       "'\\n'"
      ]
     },
     "metadata": {},
     "output_type": "display_data"
    },
    {
     "name": "stdout",
     "output_type": "stream",
     "text": [
      "<class 'bs4.element.NavigableString'>\n"
     ]
    },
    {
     "data": {
      "text/plain": [
       "'\\n'"
      ]
     },
     "metadata": {},
     "output_type": "display_data"
    },
    {
     "name": "stdout",
     "output_type": "stream",
     "text": [
      "<class 'bs4.element.NavigableString'>\n"
     ]
    },
    {
     "data": {
      "text/plain": [
       "'\\n'"
      ]
     },
     "metadata": {},
     "output_type": "display_data"
    },
    {
     "name": "stdout",
     "output_type": "stream",
     "text": [
      "<class 'bs4.element.NavigableString'>\n"
     ]
    },
    {
     "data": {
      "text/plain": [
       "'\\n'"
      ]
     },
     "metadata": {},
     "output_type": "display_data"
    },
    {
     "name": "stdout",
     "output_type": "stream",
     "text": [
      "<class 'bs4.element.NavigableString'>\n"
     ]
    },
    {
     "data": {
      "text/plain": [
       "'\\n'"
      ]
     },
     "metadata": {},
     "output_type": "display_data"
    },
    {
     "name": "stdout",
     "output_type": "stream",
     "text": [
      "<class 'bs4.element.NavigableString'>\n"
     ]
    },
    {
     "data": {
      "text/plain": [
       "'\\n'"
      ]
     },
     "metadata": {},
     "output_type": "display_data"
    },
    {
     "name": "stdout",
     "output_type": "stream",
     "text": [
      "<class 'bs4.element.NavigableString'>\n"
     ]
    },
    {
     "data": {
      "text/plain": [
       "'\\n'"
      ]
     },
     "metadata": {},
     "output_type": "display_data"
    },
    {
     "name": "stdout",
     "output_type": "stream",
     "text": [
      "<class 'bs4.element.NavigableString'>\n"
     ]
    },
    {
     "data": {
      "text/plain": [
       "'\\n'"
      ]
     },
     "metadata": {},
     "output_type": "display_data"
    },
    {
     "name": "stdout",
     "output_type": "stream",
     "text": [
      "<class 'bs4.element.NavigableString'>\n"
     ]
    },
    {
     "data": {
      "text/plain": [
       "'\\n'"
      ]
     },
     "metadata": {},
     "output_type": "display_data"
    },
    {
     "name": "stdout",
     "output_type": "stream",
     "text": [
      "<class 'bs4.element.NavigableString'>\n"
     ]
    },
    {
     "data": {
      "text/plain": [
       "'\\n'"
      ]
     },
     "metadata": {},
     "output_type": "display_data"
    },
    {
     "name": "stdout",
     "output_type": "stream",
     "text": [
      "<class 'bs4.element.NavigableString'>\n"
     ]
    },
    {
     "data": {
      "text/plain": [
       "'\\n'"
      ]
     },
     "metadata": {},
     "output_type": "display_data"
    },
    {
     "name": "stdout",
     "output_type": "stream",
     "text": [
      "Diddy Bop\n",
      "------\n",
      "<class 'bs4.element.Tag'>\n",
      "----------\n",
      "In my diddy bop\n",
      "In my diddy bop\n",
      "Boss through the city\n",
      "boss boss\n",
      "Through the city block [x5]\n",
      "[fade out on 5th one]\n",
      "--------------------\n",
      "<class 'bs4.element.NavigableString'>\n"
     ]
    },
    {
     "data": {
      "text/plain": [
       "'\\n'"
      ]
     },
     "metadata": {},
     "output_type": "display_data"
    },
    {
     "name": "stdout",
     "output_type": "stream",
     "text": [
      "<class 'bs4.element.NavigableString'>\n"
     ]
    },
    {
     "data": {
      "text/plain": [
       "'\\n'"
      ]
     },
     "metadata": {},
     "output_type": "display_data"
    },
    {
     "name": "stdout",
     "output_type": "stream",
     "text": [
      "<class 'bs4.element.NavigableString'>\n"
     ]
    },
    {
     "data": {
      "text/plain": [
       "'\\n'"
      ]
     },
     "metadata": {},
     "output_type": "display_data"
    },
    {
     "name": "stdout",
     "output_type": "stream",
     "text": [
      "Diss Song\n",
      "------\n",
      "<class 'bs4.element.Tag'>\n",
      "----------\n",
      "[Verse 1:]\n",
      "First off, this song, missedly took it wrong\n",
      "Bad intentions and all, don't want the problem resolved\n",
      "Heard it was you out making out with my dawg\n",
      "Went to school together\n",
      "Took the bus and all, back of flashin cars, tryna be a boss\n",
      "Tryna fit in with the hustlers, they told us run along\n",
      "Tryna learn to shoot dice, got my bike stolen dawg\n",
      "You still wanna gang bang, ride deep in cars\n",
      "Til I see the nigga wrong hat, now it's head off\n",
      "Picked up a notepad, bet you gon do the same\n",
      "Looked down the shit I saw now, I don't look at shit the same\n",
      "Now how am I to blame for you choosin a life in made?\n",
      "Nigga you a man too, why you mad at me?\n",
      "Same gravity hold you down, that's embarrassing\n",
      "Your comments was hilarious, not even congratulations\n",
      "Told niggas we're related, even when I made it\n",
      "Had nothing but good things to say about you even though you still hated\n",
      "I know you think 'cause this fame I'm probably jaded\n",
      "Ain't get a chance to see yo daughter, tell er have it but lady\n",
      "For me, I don't care if that car lease, you in it you own it\n",
      "And that's all me, being smart don't mean cheap\n",
      "You could take a life sitting in the driver's seat\n",
      "Take your shades off, I'm like\n",
      "(Remember me?)\n",
      "--------------------\n",
      "<class 'bs4.element.NavigableString'>\n"
     ]
    },
    {
     "data": {
      "text/plain": [
       "'\\n'"
      ]
     },
     "metadata": {},
     "output_type": "display_data"
    },
    {
     "name": "stdout",
     "output_type": "stream",
     "text": [
      "Diss Song\n",
      "------\n",
      "<class 'bs4.element.Tag'>\n",
      "----------\n",
      "[Hook:]\n",
      "I ain't tryna diss you\n",
      "I just wanna know the issue\n",
      "If you know what you say then say who you are\n",
      "We ain't gotta take it this far\n",
      "So go on, make a diss song, this is not a diss song\n",
      "They just wanted this song, tell em play this song\n",
      "I ain't tryna diss you\n",
      "I just wanna know the issue\n",
      "Listen to this song\n",
      "--------------------\n",
      "<class 'bs4.element.NavigableString'>\n"
     ]
    },
    {
     "data": {
      "text/plain": [
       "'\\n'"
      ]
     },
     "metadata": {},
     "output_type": "display_data"
    },
    {
     "name": "stdout",
     "output_type": "stream",
     "text": [
      "Diss Song\n",
      "------\n",
      "<class 'bs4.element.Tag'>\n",
      "----------\n",
      "[Verse 2:]\n",
      "Lookin at my story, breakin down my glory\n",
      "Judging my highlights when it's shots like Ory\n",
      "Always tryin to take from me, criticize, hate on me\n",
      "Wanna call me fake cause you really can't relate to me\n",
      "Your remarks, playin league out of character\n",
      "Your social past couldn't make a dollar in America\n",
      "On your keyboard cause I blew up like a keloid\n",
      "Me boy, why you niggas gotta be a kill joy?\n",
      "I gave you niggas something to ride to\n",
      "Gave you niggas something to get fly to\n",
      "Gave you niggas something to die to\n",
      "Niggas want the fast life, barely in the drive through\n",
      "I advise you, do what yo life allow you to\n",
      "You're a fan nigga? It's cool, I was once too\n",
      "All that feedback, really don't need that\n",
      "You like it? Buy it,\n",
      "You don't? don't cop it\n",
      "Catid, it be great but my eyes lit\n",
      "Ignorance is bliss so I can't blame yo ignorance\n",
      "It's irrelevant, I'm relevant\n",
      "I'm big event so go ahead and vent\n",
      "I'm big event so go ahead and vent\n",
      "--------------------\n",
      "<class 'bs4.element.NavigableString'>\n"
     ]
    },
    {
     "data": {
      "text/plain": [
       "'\\n'"
      ]
     },
     "metadata": {},
     "output_type": "display_data"
    },
    {
     "name": "stdout",
     "output_type": "stream",
     "text": [
      "Diss Song\n",
      "------\n",
      "<class 'bs4.element.Tag'>\n",
      "----------\n",
      "[Hook:]\n",
      "I ain't tryna diss you\n",
      "I just wanna know the issue\n",
      "If you know what you say then say who you are\n",
      "We ain't gotta take it this far\n",
      "So go on, make a diss song, this is not a diss song\n",
      "They just wanted this song, tell em play this song\n",
      "I ain't tryna diss you\n",
      "I just wanna know the issue\n",
      "--------------------\n",
      "<class 'bs4.element.NavigableString'>\n"
     ]
    },
    {
     "data": {
      "text/plain": [
       "'\\n'"
      ]
     },
     "metadata": {},
     "output_type": "display_data"
    },
    {
     "name": "stdout",
     "output_type": "stream",
     "text": [
      "<class 'bs4.element.NavigableString'>\n"
     ]
    },
    {
     "data": {
      "text/plain": [
       "'\\n'"
      ]
     },
     "metadata": {},
     "output_type": "display_data"
    },
    {
     "name": "stdout",
     "output_type": "stream",
     "text": [
      "Diss Song\n",
      "------\n",
      "<class 'bs4.element.Tag'>\n",
      "----------\n",
      "[Verse 3:]\n",
      "Birds ring, let the birds sing\n",
      "Had to sacrifice, never knew what pain will bring\n",
      "This moment of clarity\n",
      "I do it for my auntie's nephew, never had a niece\n",
      "They call it spoken word, don't want it to speak\n",
      "Don't mix the colors with whites as if it was bleach\n",
      "Back of the bus, niggas fightin over window seats\n",
      "Tryna compete, T-Raww's\n",
      "Make this idea complete\n",
      "Ryan just got killed, who is there to blame?\n",
      "God rest his soul, tryna protect his gold chain\n",
      "It's rules to the shit, but just it ain't a game\n",
      "Give or take, niggas still gon violate\n",
      "Not up for discussion, nobody cockin and bussin\n",
      "You tough? It's always someone tougher sayin fuck me some public law\n",
      "Bussin, I kept it 1000 to be exact\n",
      "Went from hood racks to Maybachs, how hood is that?\n",
      "Blacks on the wall, wall, my stick on gap\n",
      "Backpack backpack backpack, rap whenever was that\n",
      "Niggas fire arms like they fuckin fist gone\n",
      "These simple heartbeats, that's a real diss song\n",
      "--------------------\n",
      "<class 'bs4.element.NavigableString'>\n"
     ]
    },
    {
     "data": {
      "text/plain": [
       "'\\n'"
      ]
     },
     "metadata": {},
     "output_type": "display_data"
    },
    {
     "name": "stdout",
     "output_type": "stream",
     "text": [
      "<class 'bs4.element.NavigableString'>\n"
     ]
    },
    {
     "data": {
      "text/plain": [
       "'\\n'"
      ]
     },
     "metadata": {},
     "output_type": "display_data"
    },
    {
     "name": "stdout",
     "output_type": "stream",
     "text": [
      "Do It (Take That, Shake That) (with Chris Brown)\n",
      "------\n",
      "<class 'bs4.element.Tag'>\n",
      "----------\n",
      "[Intro - Tyga:]\n",
      "Yeah\n",
      "Money comes so fast, the bitches won't last\n",
      "Uhh\n",
      "--------------------\n",
      "<class 'bs4.element.NavigableString'>\n"
     ]
    },
    {
     "data": {
      "text/plain": [
       "'\\n'"
      ]
     },
     "metadata": {},
     "output_type": "display_data"
    },
    {
     "name": "stdout",
     "output_type": "stream",
     "text": [
      "Do It (Take That, Shake That) (with Chris Brown)\n",
      "------\n",
      "<class 'bs4.element.Tag'>\n",
      "----------\n",
      "[Hook - Tyga:]\n",
      "Do it, do it, do it, do it\n",
      "Bust it open bitch (do it, do it, do it, do it)\n",
      "What you working with (do it, do it, do it, do it)\n",
      "Drop it to the floor (do it, do it, do it, do it)\n",
      "--------------------\n",
      "<class 'bs4.element.NavigableString'>\n"
     ]
    },
    {
     "data": {
      "text/plain": [
       "'\\n'"
      ]
     },
     "metadata": {},
     "output_type": "display_data"
    },
    {
     "name": "stdout",
     "output_type": "stream",
     "text": [
      "Do It (Take That, Shake That) (with Chris Brown)\n",
      "------\n",
      "<class 'bs4.element.Tag'>\n",
      "----------\n",
      "[Hook - Chris Brown:]\n",
      "Do it, do it, babe\n",
      "For me, for me [x3]\n",
      "[?]\n",
      "Popping all these bottles\n",
      "So just take that, take that\n",
      "Shake that, shake that\n",
      "Pull it to the side (do it, do it babe)\n",
      "Do you wanna fly, I'm floating bitch\n",
      "Go on do that shit for a real nigga\n",
      "Pop it on the floor and try to kill a nigga\n",
      "--------------------\n",
      "<class 'bs4.element.NavigableString'>\n"
     ]
    },
    {
     "data": {
      "text/plain": [
       "'\\n'"
      ]
     },
     "metadata": {},
     "output_type": "display_data"
    },
    {
     "name": "stdout",
     "output_type": "stream",
     "text": [
      "Do It (Take That, Shake That) (with Chris Brown)\n",
      "------\n",
      "<class 'bs4.element.Tag'>\n",
      "----------\n",
      "[Verse 1 - Chris Brown:]\n",
      "Hey little mama, I know you 'bout your paper\n",
      "And my money, money green\n",
      "I'm in charge, no [?]\n",
      "I'ma provide everything you need\n",
      "No middle man, no in-between\n",
      "Girl quit burning all your flight miles\n",
      "Just get on this jet with me\n",
      "God damn\n",
      "So much money niggas think I'm pulling credit card scams\n",
      "Step up in the spot and bitches know just who I am\n",
      "You call me dada\n",
      "I buy my bitches prada\n",
      "Eating shrimp and lobster\n",
      "After that I eat her yaya\n",
      "--------------------\n",
      "<class 'bs4.element.NavigableString'>\n"
     ]
    },
    {
     "data": {
      "text/plain": [
       "'\\n'"
      ]
     },
     "metadata": {},
     "output_type": "display_data"
    },
    {
     "name": "stdout",
     "output_type": "stream",
     "text": [
      "Do It (Take That, Shake That) (with Chris Brown)\n",
      "------\n",
      "<class 'bs4.element.Tag'>\n",
      "----------\n",
      "[Bridge - Chris Brown:]\n",
      "If you're horny, let's do it\n",
      "Ride it, my pony\n",
      "My saddle is waiting\n",
      "Come and jump on it\n",
      "--------------------\n",
      "<class 'bs4.element.NavigableString'>\n"
     ]
    },
    {
     "data": {
      "text/plain": [
       "'\\n'"
      ]
     },
     "metadata": {},
     "output_type": "display_data"
    },
    {
     "name": "stdout",
     "output_type": "stream",
     "text": [
      "Do It (Take That, Shake That) (with Chris Brown)\n",
      "------\n",
      "<class 'bs4.element.Tag'>\n",
      "----------\n",
      "[Hook]\n",
      "--------------------\n",
      "<class 'bs4.element.NavigableString'>\n"
     ]
    },
    {
     "data": {
      "text/plain": [
       "'\\n'"
      ]
     },
     "metadata": {},
     "output_type": "display_data"
    },
    {
     "name": "stdout",
     "output_type": "stream",
     "text": [
      "Do It (Take That, Shake That) (with Chris Brown)\n",
      "------\n",
      "<class 'bs4.element.Tag'>\n",
      "----------\n",
      "[Verse 2 - Tyga:]\n",
      "That's dice game, she on the floor\n",
      "At K.O.D. and Onyx too\n",
      "She up early, that's high school\n",
      "She taking flights, she comfortable\n",
      "She put in time, she working hard\n",
      "But not enough to bake cakes too\n",
      "If she met a nigga like me\n",
      "Nah, I'll spring break pussy loose\n",
      "Hunnid, hunnid dollar bills\n",
      "Throw it in the air\n",
      "I'ma make it back nigga, I don't really care\n",
      "[?] panties\n",
      "Shit was soaking\n",
      "Private room, now that pussy open\n",
      "--------------------\n",
      "<class 'bs4.element.NavigableString'>\n"
     ]
    },
    {
     "data": {
      "text/plain": [
       "'\\n'"
      ]
     },
     "metadata": {},
     "output_type": "display_data"
    },
    {
     "name": "stdout",
     "output_type": "stream",
     "text": [
      "Do It (Take That, Shake That) (with Chris Brown)\n",
      "------\n",
      "<class 'bs4.element.Tag'>\n",
      "----------\n",
      "[Bridge]\n",
      "--------------------\n",
      "<class 'bs4.element.NavigableString'>\n"
     ]
    },
    {
     "data": {
      "text/plain": [
       "'\\n'"
      ]
     },
     "metadata": {},
     "output_type": "display_data"
    },
    {
     "name": "stdout",
     "output_type": "stream",
     "text": [
      "Do It All\n",
      "------\n",
      "<class 'bs4.element.Tag'>\n",
      "----------\n",
      "[Verse 1]\n",
      "Looking at the ceiling thinking why I treat you bad\n",
      "Ain’t no worser feelings than knowing I did it for the last\n",
      "Arguing, all I was doing accusing you, my bad\n",
      "Said “Let’s take some time”, nevermind, rewind\n",
      "Looking at the ceiling thinking why I treat you bad\n",
      "Ain’t no worser feelings than knowing I did it for the last\n",
      "Arguing, all I was doing accusing you, my bad\n",
      "Said “Let’s take some time”, nevermind, just playing with your mind\n",
      "I always thought “play dumb”, and let the other one love\n",
      "Why? Get caught up in nowhere but trust\n",
      "Only love for fun, I’m too young, I thought\n",
      "All I wanted was a thanks to Louboutins I bought\n",
      "But it ain’t your fault; heaven knows you deserve it all\n",
      "You sent letters to my heart, but I burned them all\n",
      "The Bible says before you run, gotta learn to crawl\n",
      "But I don’t wanna waste time if we ain’t involved\n",
      "--------------------\n",
      "<class 'bs4.element.NavigableString'>\n"
     ]
    },
    {
     "data": {
      "text/plain": [
       "'\\n'"
      ]
     },
     "metadata": {},
     "output_type": "display_data"
    },
    {
     "name": "stdout",
     "output_type": "stream",
     "text": [
      "Do It All\n",
      "------\n",
      "<class 'bs4.element.Tag'>\n",
      "----------\n",
      "[Hook]\n",
      "Oh oh\n",
      "We been through it all\n",
      "I know I broke your heart once before\n",
      "But I’m done\n",
      "Oh oh ohh\n",
      "Tell me what’s wrong\n",
      "I know I never listen but just listen to this song\n",
      "Oh man\n",
      "I promise we gon’ do it til the sun come down\n",
      "I swear it’s going down\n",
      "I promise we gon’ do it til the sun come up\n",
      "fuck it they don’t do it, we gon’ do it all\n",
      "--------------------\n",
      "<class 'bs4.element.NavigableString'>\n"
     ]
    },
    {
     "data": {
      "text/plain": [
       "'\\n'"
      ]
     },
     "metadata": {},
     "output_type": "display_data"
    },
    {
     "name": "stdout",
     "output_type": "stream",
     "text": [
      "Do It All\n",
      "------\n",
      "<class 'bs4.element.Tag'>\n",
      "----------\n",
      "[Verse 2]\n",
      "Now the ceiling fan spinning getting dizzy man\n",
      "Wondering who she with maybe should I call — don’t be desperate man\n",
      "This ain’t no “tag, you’re it” hide and seek shit\n",
      "Reality just kicked in, I lost one and now she’s winning\n",
      "Found another nigga she dig\n",
      "Says he treat her like a queen but she probably control him\n",
      "fuck that, I gotta get her back to what we started\n",
      "Start over again this time my heart’s seeing honest-\n",
      "Le-leave us, leave us let’s just talk about it\n",
      "I know before I wasn’t much of a man about it\n",
      "But this time I realize I can’t live without you\n",
      "Believe when I say it’s true I love you\n",
      "--------------------\n",
      "<class 'bs4.element.NavigableString'>\n"
     ]
    },
    {
     "data": {
      "text/plain": [
       "'\\n'"
      ]
     },
     "metadata": {},
     "output_type": "display_data"
    },
    {
     "name": "stdout",
     "output_type": "stream",
     "text": [
      "Do It All\n",
      "------\n",
      "<class 'bs4.element.Tag'>\n",
      "----------\n",
      "[Hook]\n",
      "Oh oh\n",
      "We been through it all\n",
      "I know I broke your heart once before\n",
      "But I’m done\n",
      "Oh oh ohh\n",
      "Tell me what’s wrong\n",
      "I know I never listen but just listen to this song\n",
      "Oh man\n",
      "I promise we gon’ do it til the sun come down\n",
      "I swear it’s going down\n",
      "I promise we gon’ do it til the sun come up\n",
      "fuck it they don’t do it, we gon’ do it all\n",
      "--------------------\n",
      "<class 'bs4.element.NavigableString'>\n"
     ]
    },
    {
     "data": {
      "text/plain": [
       "'\\n'"
      ]
     },
     "metadata": {},
     "output_type": "display_data"
    },
    {
     "name": "stdout",
     "output_type": "stream",
     "text": [
      "Do It All\n",
      "------\n",
      "<class 'bs4.element.Tag'>\n",
      "----------\n",
      "[Bridge]\n",
      "Love make you do it all\n",
      "Going up and down like a seesaw\n",
      "Can’t be a player forever dog\n",
      "It feels so good but I know it’s wrong\n",
      "--------------------\n",
      "<class 'bs4.element.NavigableString'>\n"
     ]
    },
    {
     "data": {
      "text/plain": [
       "'\\n'"
      ]
     },
     "metadata": {},
     "output_type": "display_data"
    },
    {
     "name": "stdout",
     "output_type": "stream",
     "text": [
      "<class 'bs4.element.NavigableString'>\n"
     ]
    },
    {
     "data": {
      "text/plain": [
       "'\\n'"
      ]
     },
     "metadata": {},
     "output_type": "display_data"
    },
    {
     "name": "stdout",
     "output_type": "stream",
     "text": [
      "Do It All\n",
      "------\n",
      "<class 'bs4.element.Tag'>\n",
      "----------\n",
      "[Hook]\n",
      "Oh oh\n",
      "We been through it all\n",
      "I know I broke your heart once before\n",
      "But I’m done\n",
      "Oh oh ohh\n",
      "Tell me what’s wrong\n",
      "I know I never listen but just listen to this song\n",
      "Oh man\n",
      "I promise we gon’ do it til the sun come down\n",
      "I swear it’s going down\n",
      "I promise we gon’ do it til the sun come up\n",
      "fuck it they don’t do it, we gon’ do it all\n",
      "--------------------\n",
      "<class 'bs4.element.NavigableString'>\n"
     ]
    },
    {
     "data": {
      "text/plain": [
       "'\\n'"
      ]
     },
     "metadata": {},
     "output_type": "display_data"
    },
    {
     "name": "stdout",
     "output_type": "stream",
     "text": [
      "Do My Dance\n",
      "------\n",
      "<class 'bs4.element.Tag'>\n",
      "----------\n",
      "[Intro]\n",
      "Fuck this pussy boy, fuck it!\n",
      "Fuck it right boy!\n",
      "(you know I love it when you)\n",
      "Fuck it, fuck it right boy\n",
      "--------------------\n",
      "<class 'bs4.element.NavigableString'>\n"
     ]
    },
    {
     "data": {
      "text/plain": [
       "'\\n'"
      ]
     },
     "metadata": {},
     "output_type": "display_data"
    },
    {
     "name": "stdout",
     "output_type": "stream",
     "text": [
      "Do My Dance\n",
      "------\n",
      "<class 'bs4.element.Tag'>\n",
      "----------\n",
      "[Hook]\n",
      "Do my dance on your dick, Ooh you know you love this shit. [x4]\n",
      "Do my dance on your chick, Ooh you know she love the dick. [x4]\n",
      "--------------------\n",
      "<class 'bs4.element.NavigableString'>\n"
     ]
    },
    {
     "data": {
      "text/plain": [
       "'\\n'"
      ]
     },
     "metadata": {},
     "output_type": "display_data"
    },
    {
     "name": "stdout",
     "output_type": "stream",
     "text": [
      "Do My Dance\n",
      "------\n",
      "<class 'bs4.element.Tag'>\n",
      "----------\n",
      "[Verse 1: Tyga]\n",
      "(Uh)\n",
      "Lamborghini, you don’t even see me\n",
      "Bad bitch, no bikini taking shots of Henny\n",
      "Order calamari, say she want that fettucini\n",
      "5 Star bitches, my bitches don’t eat at Denny’s\n",
      "Run the city, you runnin’ laps trying to get with me\n",
      "I’m all in her red skin, like I play for Washington\n",
      "I’m five eight, but six ten\n",
      "My dick stand like Superman\n",
      "Shoulder lean that bitch, shoulder lean that bitch\n",
      "Mills cause I’m hot. Trigger finger keep that pussy wet\n",
      "Bills in my fists, shawty she gon’ dance on my dick\n",
      "Mills cause I’m hot. Trigger finger keep that pussy wet\n",
      "Bills in my fists, shawty she gon’ dance on my dick\n",
      "--------------------\n",
      "<class 'bs4.element.NavigableString'>\n"
     ]
    },
    {
     "data": {
      "text/plain": [
       "'\\n'"
      ]
     },
     "metadata": {},
     "output_type": "display_data"
    },
    {
     "name": "stdout",
     "output_type": "stream",
     "text": [
      "Do My Dance\n",
      "------\n",
      "<class 'bs4.element.Tag'>\n",
      "----------\n",
      "[Hook]\n",
      "--------------------\n",
      "<class 'bs4.element.NavigableString'>\n"
     ]
    },
    {
     "data": {
      "text/plain": [
       "'\\n'"
      ]
     },
     "metadata": {},
     "output_type": "display_data"
    },
    {
     "name": "stdout",
     "output_type": "stream",
     "text": [
      "Do My Dance\n",
      "------\n",
      "<class 'bs4.element.Tag'>\n",
      "----------\n",
      "[Verse 2: 2Chainz]\n",
      "(2Chainz! Uh)\n",
      "She got her booty cheeks on my Louie sheets\n",
      "She can do it on a pole, but can she do it on me\n",
      "Her flexing ass, let me see you flex that ass\n",
      "I don’t call I just text that ass about special bags\n",
      "Python, all gold no ice on\n",
      "Nothing but shaved pussy in my iPhone\n",
      "And this right here a no fly zone\n",
      "And you are not us, so don’t try holmes\n",
      "I buy cars, I buy homes\n",
      "My antidote for my catapult. I’m up through there\n",
      "Foreign shoes, these a new pair\n",
      "Chains on, this two pair\n",
      "Make your girl buy new hair\n",
      "Wear that pussy out, like new gear\n",
      "Hoe\n",
      "--------------------\n",
      "<class 'bs4.element.NavigableString'>\n"
     ]
    },
    {
     "data": {
      "text/plain": [
       "'\\n'"
      ]
     },
     "metadata": {},
     "output_type": "display_data"
    },
    {
     "name": "stdout",
     "output_type": "stream",
     "text": [
      "Do My Dance\n",
      "------\n",
      "<class 'bs4.element.Tag'>\n",
      "----------\n",
      "[Hook]\n",
      "--------------------\n",
      "<class 'bs4.element.NavigableString'>\n"
     ]
    },
    {
     "data": {
      "text/plain": [
       "'\\n'"
      ]
     },
     "metadata": {},
     "output_type": "display_data"
    },
    {
     "name": "stdout",
     "output_type": "stream",
     "text": [
      "Do My Dance\n",
      "------\n",
      "<class 'bs4.element.Tag'>\n",
      "----------\n",
      "[Verse 3: Tyga]\n",
      "Fuck yeah bitch, throw it back. Don’t be scared of it. [x3]\n",
      "Fuck yeah bitch, throw it back\n",
      "(Yea)\n",
      "Throw it back\n",
      "(Fat bitch)\n",
      "Throw it back\n",
      "(Yea, yea)\n",
      "Throw it back\n",
      "(Dank bitch)\n",
      "Don’t be scared of it\n",
      "--------------------\n",
      "<class 'bs4.element.NavigableString'>\n"
     ]
    },
    {
     "data": {
      "text/plain": [
       "'\\n'"
      ]
     },
     "metadata": {},
     "output_type": "display_data"
    },
    {
     "name": "stdout",
     "output_type": "stream",
     "text": [
      "Do My Dance\n",
      "------\n",
      "<class 'bs4.element.Tag'>\n",
      "----------\n",
      "[Outro]\n",
      "Do my dance on your dick, Ooh you know you love this shit. [x3]\n",
      "Do my dance on your chick, Ooh you know she love the dick\n",
      "--------------------\n",
      "<class 'bs4.element.NavigableString'>\n"
     ]
    },
    {
     "data": {
      "text/plain": [
       "'\\n'"
      ]
     },
     "metadata": {},
     "output_type": "display_data"
    },
    {
     "name": "stdout",
     "output_type": "stream",
     "text": [
      "<class 'bs4.element.NavigableString'>\n"
     ]
    },
    {
     "data": {
      "text/plain": [
       "'\\n'"
      ]
     },
     "metadata": {},
     "output_type": "display_data"
    },
    {
     "name": "stdout",
     "output_type": "stream",
     "text": [
      "<class 'bs4.element.NavigableString'>\n"
     ]
    },
    {
     "data": {
      "text/plain": [
       "'\\n'"
      ]
     },
     "metadata": {},
     "output_type": "display_data"
    },
    {
     "name": "stdout",
     "output_type": "stream",
     "text": [
      "Don't Hate Tha Playa\n",
      "------\n",
      "<class 'bs4.element.Tag'>\n",
      "----------\n",
      "[Hook]\n",
      "Don't hate the player, cause your bitch chose me\n",
      "Gettin super high, tryna stay low key\n",
      "Suicide my doors, suicide my doors,\n",
      "Bad bitch of the year, you should win an award\n",
      "Don't hate the player, cause your bitch chose me\n",
      "Gettin super high, tryna stay low key\n",
      "Suicide my doors, suicide my doors,\n",
      "Bad bitch of the year, you should win an award\n",
      "--------------------\n",
      "<class 'bs4.element.NavigableString'>\n"
     ]
    },
    {
     "data": {
      "text/plain": [
       "'\\n'"
      ]
     },
     "metadata": {},
     "output_type": "display_data"
    },
    {
     "name": "stdout",
     "output_type": "stream",
     "text": [
      "<class 'bs4.element.NavigableString'>\n"
     ]
    },
    {
     "data": {
      "text/plain": [
       "'\\n'"
      ]
     },
     "metadata": {},
     "output_type": "display_data"
    },
    {
     "name": "stdout",
     "output_type": "stream",
     "text": [
      "Don't Hate Tha Playa\n",
      "------\n",
      "<class 'bs4.element.Tag'>\n",
      "----------\n",
      "[Hook]\n",
      "Don't hate the player, cause your bitch chose me\n",
      "Gettin super high, tryna stay low key\n",
      "Suicide my doors, suicide my doors,\n",
      "Bad bitch of the year, you should win an award\n",
      "Don't hate the player, cause your bitch chose me\n",
      "Gettin super high, tryna stay low key\n",
      "Suicide my doors, suicide my doors,\n",
      "Bad bitch of the year, you should win an award\n",
      "--------------------\n",
      "<class 'bs4.element.NavigableString'>\n"
     ]
    },
    {
     "data": {
      "text/plain": [
       "'\\n'"
      ]
     },
     "metadata": {},
     "output_type": "display_data"
    },
    {
     "name": "stdout",
     "output_type": "stream",
     "text": [
      "<class 'bs4.element.NavigableString'>\n"
     ]
    },
    {
     "data": {
      "text/plain": [
       "'\\n'"
      ]
     },
     "metadata": {},
     "output_type": "display_data"
    },
    {
     "name": "stdout",
     "output_type": "stream",
     "text": [
      "Don't Hate Tha Playa\n",
      "------\n",
      "<class 'bs4.element.Tag'>\n",
      "----------\n",
      "[Hook]\n",
      "Don't hate the player, cause your bitch chose me\n",
      "Gettin super high, tryna stay low key\n",
      "Suicide my doors, suicide my doors,\n",
      "Bad bitch of the year, you should win an award\n",
      "Don't hate the player, cause your bitch chose me\n",
      "Gettin super high, tryna stay low key\n",
      "Suicide my doors, suicide my doors,\n",
      "Bad bitch of the year, you should win an award.\n",
      "--------------------\n",
      "<class 'bs4.element.NavigableString'>\n"
     ]
    },
    {
     "data": {
      "text/plain": [
       "'\\n'"
      ]
     },
     "metadata": {},
     "output_type": "display_data"
    },
    {
     "name": "stdout",
     "output_type": "stream",
     "text": [
      "Don't Regret It Now\n",
      "------\n",
      "<class 'bs4.element.Tag'>\n",
      "----------\n",
      "[Tyga:]\n",
      "What if your mother\n",
      "Regretted having your brother?\n",
      "Would you forgive her and kiss her\n",
      "And tell her you love her?\n",
      "Or would you press it?\n",
      "'Cause being the only child\n",
      "Could leave ya feeling desperate\n",
      "In need of attention every second\n",
      "But since you man of the house you never get it\n",
      "Pops left without a smile but you never miss him\n",
      "But when you reminiscing\n",
      "You wished you had a father figure\n",
      "At least weekend's man pay a visit\n",
      "Awww forget it\n",
      "--------------------\n",
      "<class 'bs4.element.NavigableString'>\n"
     ]
    },
    {
     "data": {
      "text/plain": [
       "'\\n'"
      ]
     },
     "metadata": {},
     "output_type": "display_data"
    },
    {
     "name": "stdout",
     "output_type": "stream",
     "text": [
      "<class 'bs4.element.NavigableString'>\n"
     ]
    },
    {
     "data": {
      "text/plain": [
       "'\\n'"
      ]
     },
     "metadata": {},
     "output_type": "display_data"
    },
    {
     "name": "stdout",
     "output_type": "stream",
     "text": [
      "Don't Regret It Now\n",
      "------\n",
      "<class 'bs4.element.Tag'>\n",
      "----------\n",
      "[Chorus: Patrick Stump]\n",
      "We come to life when first class takes flight\n",
      "Only sing the lines that make you press rewind\n",
      "Even dealing with electric, I think that he regrets in now\n",
      "Heart in light, dying love\n",
      "Everything looks better from above\n",
      "You say it's getting old but I call it vintage love now\n",
      "Don't regret it now\n",
      "--------------------\n",
      "<class 'bs4.element.NavigableString'>\n"
     ]
    },
    {
     "data": {
      "text/plain": [
       "'\\n'"
      ]
     },
     "metadata": {},
     "output_type": "display_data"
    },
    {
     "name": "stdout",
     "output_type": "stream",
     "text": [
      "Don't Regret It Now\n",
      "------\n",
      "<class 'bs4.element.Tag'>\n",
      "----------\n",
      "[Tyga & Patrick Stump:]\n",
      "At a human's price\n",
      "Trying to live that life\n",
      "Can't slow down\n",
      "Don't regret it now\n",
      "Determined by that dice, you only roll twice\n",
      "You broke now\n",
      "Don't regret it now\n",
      "--------------------\n",
      "<class 'bs4.element.NavigableString'>\n"
     ]
    },
    {
     "data": {
      "text/plain": [
       "'\\n'"
      ]
     },
     "metadata": {},
     "output_type": "display_data"
    },
    {
     "name": "stdout",
     "output_type": "stream",
     "text": [
      "Don't Regret It Now\n",
      "------\n",
      "<class 'bs4.element.Tag'>\n",
      "----------\n",
      "[Tyga:]\n",
      "Let's say you and your homey\n",
      "Best friends one and only\n",
      "Confidant who I trust, never phony\n",
      "Just I and the young guy I called my brodie\n",
      "We was like age of 5 since he known me\n",
      "But now it's like hazy skies and in the mornings...\n",
      "Waking up police say he died hollows pointed\n",
      "Damn I can' believe you God... Why you want him?\n",
      "I needed him more than you. Now, What you lonely?\n",
      "Just 2 more months man, we was good money\n",
      "Now he can't go to awards and meet stars\n",
      "I'm all alone now ridin' in luxury cars...\n",
      "Life like a movie now someone press fast forward\n",
      "So I can chill with him again and feel real\n",
      "I rather have him here then this rap deal...\n",
      "But he can't regret it now\n",
      "Walking into that crowd...\n",
      "Had his jewelry on\n",
      "Next thing, man down\n",
      "--------------------\n",
      "<class 'bs4.element.NavigableString'>\n"
     ]
    },
    {
     "data": {
      "text/plain": [
       "'\\n'"
      ]
     },
     "metadata": {},
     "output_type": "display_data"
    },
    {
     "name": "stdout",
     "output_type": "stream",
     "text": [
      "Don't Regret It Now\n",
      "------\n",
      "<class 'bs4.element.Tag'>\n",
      "----------\n",
      "[Chorus: Patrick Stump]\n",
      "We come to life when first class takes flight\n",
      "Only sing the lines that make you press rewind\n",
      "Even dealing with electric, I think that he regrets in now\n",
      "Heart in light, dying love\n",
      "Everything looks better from above\n",
      "You say it's getting old but I call it vintage love now\n",
      "Don't regret it now\n",
      "--------------------\n",
      "<class 'bs4.element.NavigableString'>\n"
     ]
    },
    {
     "data": {
      "text/plain": [
       "'\\n'"
      ]
     },
     "metadata": {},
     "output_type": "display_data"
    },
    {
     "name": "stdout",
     "output_type": "stream",
     "text": [
      "Don't Regret It Now\n",
      "------\n",
      "<class 'bs4.element.Tag'>\n",
      "----------\n",
      "[Tyga & Patrick Stump:]\n",
      "At a human's price\n",
      "Trying to live that life\n",
      "Can't slow down\n",
      "Don't regret it now\n",
      "Determined by that dice, you only roll twice\n",
      "You broke now\n",
      "Don't regret it now\n",
      "--------------------\n",
      "<class 'bs4.element.NavigableString'>\n"
     ]
    },
    {
     "data": {
      "text/plain": [
       "'\\n'"
      ]
     },
     "metadata": {},
     "output_type": "display_data"
    },
    {
     "name": "stdout",
     "output_type": "stream",
     "text": [
      "Don't Regret It Now\n",
      "------\n",
      "<class 'bs4.element.Tag'>\n",
      "----------\n",
      "[Patrick Stump:]\n",
      "Work twice as hard to get half as far\n",
      "Love has legs, feet don't fail me now\n",
      "Brand new boy, brand new year\n",
      "Curtains open I am a grand finale\n",
      "Did you get my voicemail?\n",
      "Sorry I'm out having the time of my life\n",
      "And I'm gonna do whatever you'd do\n",
      "If you could be me for one night\n",
      "--------------------\n",
      "<class 'bs4.element.NavigableString'>\n"
     ]
    },
    {
     "data": {
      "text/plain": [
       "'\\n'"
      ]
     },
     "metadata": {},
     "output_type": "display_data"
    },
    {
     "name": "stdout",
     "output_type": "stream",
     "text": [
      "Don't Regret It Now\n",
      "------\n",
      "<class 'bs4.element.Tag'>\n",
      "----------\n",
      "[Tyga:]\n",
      "If you could be me for one night (Night)\n",
      "Could you live you're life under lights? (Lights)\n",
      "Laminates, cameras, ice (Ice)\n",
      "4 am morning flights (Flights)\n",
      "Uh I don't think you can handle that pal\n",
      "I don't think you can handle this crowd\n",
      "It's too late\n",
      "Can't regret it now\n",
      "It's too late\n",
      "Can't regret it now\n",
      "--------------------\n",
      "<class 'bs4.element.NavigableString'>\n"
     ]
    },
    {
     "data": {
      "text/plain": [
       "'\\n'"
      ]
     },
     "metadata": {},
     "output_type": "display_data"
    },
    {
     "name": "stdout",
     "output_type": "stream",
     "text": [
      "Don't Regret It Now\n",
      "------\n",
      "<class 'bs4.element.Tag'>\n",
      "----------\n",
      "[Chorus x2: Patrick Stump]\n",
      "We come to life when first class takes flight\n",
      "Only sing the lines that make you press rewind\n",
      "Even dealing with electric, I think that he regrets in now\n",
      "Heart in light, dying love\n",
      "Everything looks better from above\n",
      "You say it's getting old but I call it vintage love now\n",
      "Don't regret it now\n",
      "--------------------\n",
      "<class 'bs4.element.NavigableString'>\n"
     ]
    },
    {
     "data": {
      "text/plain": [
       "'\\n'"
      ]
     },
     "metadata": {},
     "output_type": "display_data"
    },
    {
     "name": "stdout",
     "output_type": "stream",
     "text": [
      "Don't Regret It Now\n",
      "------\n",
      "<class 'bs4.element.Tag'>\n",
      "----------\n",
      "[Tyga & Patrick Stump:]\n",
      "At a human's price\n",
      "Trying to live that life\n",
      "Can't slow down\n",
      "Don't regret it now\n",
      "Determined by that dice, you only roll twice\n",
      "You broke now\n",
      "Don't regret it now\n",
      "--------------------\n",
      "<class 'bs4.element.NavigableString'>\n"
     ]
    },
    {
     "data": {
      "text/plain": [
       "'\\n'"
      ]
     },
     "metadata": {},
     "output_type": "display_data"
    },
    {
     "name": "stdout",
     "output_type": "stream",
     "text": [
      "<class 'bs4.element.NavigableString'>\n"
     ]
    },
    {
     "data": {
      "text/plain": [
       "'\\n'"
      ]
     },
     "metadata": {},
     "output_type": "display_data"
    },
    {
     "name": "stdout",
     "output_type": "stream",
     "text": [
      "Don't Wake Me Up\n",
      "------\n",
      "<class 'bs4.element.Tag'>\n",
      "----------\n",
      "[Chorus:]\n",
      "So don't wake nigga up, don't wake nigga up,\n",
      "Mother fucker I'm dreaming, I'm dreaming, I'm dreaming.\n",
      "Don't wake nigga up, don't wake nigga up,\n",
      "Mother fucker I'm dreaming, I'm dreaming, I'm dreaming.\n",
      "--------------------\n",
      "<class 'bs4.element.NavigableString'>\n"
     ]
    },
    {
     "data": {
      "text/plain": [
       "'\\n'"
      ]
     },
     "metadata": {},
     "output_type": "display_data"
    },
    {
     "name": "stdout",
     "output_type": "stream",
     "text": [
      "<class 'bs4.element.NavigableString'>\n"
     ]
    },
    {
     "data": {
      "text/plain": [
       "'\\n'"
      ]
     },
     "metadata": {},
     "output_type": "display_data"
    },
    {
     "name": "stdout",
     "output_type": "stream",
     "text": [
      "Don't Wake Me Up\n",
      "------\n",
      "<class 'bs4.element.Tag'>\n",
      "----------\n",
      "[Chorus:]\n",
      "Don't wake nigga up, don't wake nigga up,\n",
      "Mother fucker I'm dreaming, I'm dreaming, I'm dreaming.\n",
      "Don't wake nigga up, don't wake nigga up,\n",
      "Mother fucker I'm dreaming, I'm dreaming, I'm dreaming.\n",
      "--------------------\n",
      "<class 'bs4.element.NavigableString'>\n"
     ]
    },
    {
     "data": {
      "text/plain": [
       "'\\n'"
      ]
     },
     "metadata": {},
     "output_type": "display_data"
    },
    {
     "name": "stdout",
     "output_type": "stream",
     "text": [
      "Dope (feat. Rick Ross)\n",
      "------\n",
      "<class 'bs4.element.Tag'>\n",
      "----------\n",
      "[Verse 1: Tyga]\n",
      "T-raw rock my own kick game\n",
      "8 figure deal figure how I'm\n",
      "courtside at clip game\n",
      "Still pop ace king shit I'm with rose\n",
      "Black Maybach leather gloves on that OJ\n",
      "OK the day you beating me bitch no day\n",
      "Bandz a make her dance that's\n",
      "thousand dollar foreplay\n",
      "AK get a full clip not a soundwave\n",
      "You kissed her in her mouth, ask\n",
      "her how my dick taste\n",
      "Bitch nigga you don't want no\n",
      "drama I'm worth a couple commas\n",
      "It's death before dishonor\n",
      "Last king come sign up all my shit be disgner\n",
      "Extroardinary rhymer I bodied\n",
      "yo' shit for nothin'\n",
      "Wes, west up, hot temper\n",
      "Get wet up she give me head not neck up\n",
      "She clean the mess up\n",
      "One false move death from gesture\n",
      "Cash in the safe I don't feel no pressure\n",
      "--------------------\n",
      "<class 'bs4.element.NavigableString'>\n"
     ]
    },
    {
     "data": {
      "text/plain": [
       "'\\n'"
      ]
     },
     "metadata": {},
     "output_type": "display_data"
    },
    {
     "name": "stdout",
     "output_type": "stream",
     "text": [
      "Dope (feat. Rick Ross)\n",
      "------\n",
      "<class 'bs4.element.Tag'>\n",
      "----------\n",
      "[Hook x2]\n",
      "I'm dope\n",
      "(All) all my shit dope\n",
      "(All) all my shit dope\n",
      "Cuz it's 187 how I killing these hoes\n",
      "--------------------\n",
      "<class 'bs4.element.NavigableString'>\n"
     ]
    },
    {
     "data": {
      "text/plain": [
       "'\\n'"
      ]
     },
     "metadata": {},
     "output_type": "display_data"
    },
    {
     "name": "stdout",
     "output_type": "stream",
     "text": [
      "Dope (feat. Rick Ross)\n",
      "------\n",
      "<class 'bs4.element.Tag'>\n",
      "----------\n",
      "[Verse 2: Rick Ross]\n",
      "Shit\n",
      "She fuck hermes and the hustle\n",
      "Crown on the watch she got\n",
      "niggas still thuggin'\n",
      "8.7 on the crib so fuck it\n",
      "Went gold in a month so it ain't no budget\n",
      "New chains, rollex links\n",
      "New chick just to drag my mink\n",
      "New car just to ride around here\n",
      "Aviator crew we flies 'round here\n",
      "Hating on hood niggas dying 'round here\n",
      "Bath Salt Boss, got insurance on the beard\n",
      "Cars rockstar dope boys at odds\n",
      "I done seen it all but it's back to these broads'\n",
      "Hands clap like a nigga in the stadium\n",
      "Million dollar chain but I'm rocking 8 of 'em\n",
      "I see you sleeping boy don't\n",
      "make me pick your label up\n",
      "Scottie pipen on the dribble I just laid 'em up\n",
      "Another triple got me tripping\n",
      "like it's angel dust\n",
      "We just winning all the women in my table ah\n",
      "Say my name say my name nigga say my name\n",
      "100 million dollar nigga, nigga say my name\n",
      "--------------------\n",
      "<class 'bs4.element.NavigableString'>\n"
     ]
    },
    {
     "data": {
      "text/plain": [
       "'\\n'"
      ]
     },
     "metadata": {},
     "output_type": "display_data"
    },
    {
     "name": "stdout",
     "output_type": "stream",
     "text": [
      "Dope (feat. Rick Ross)\n",
      "------\n",
      "<class 'bs4.element.Tag'>\n",
      "----------\n",
      "[Hook x2]\n",
      "I'm dope\n",
      "(All) all my shit dope\n",
      "(All) all my shit dope\n",
      "Cuz it's 187 how I killing these hoes\n",
      "--------------------\n",
      "<class 'bs4.element.NavigableString'>\n"
     ]
    },
    {
     "data": {
      "text/plain": [
       "'\\n'"
      ]
     },
     "metadata": {},
     "output_type": "display_data"
    },
    {
     "name": "stdout",
     "output_type": "stream",
     "text": [
      "Dope (feat. Rick Ross)\n",
      "------\n",
      "<class 'bs4.element.Tag'>\n",
      "----------\n",
      "[Verse 3: Tyga]\n",
      "Chief rocka, pill popper\n",
      "Tell them pull them things out\n",
      "cause my car topless\n",
      "Off topic, get on top it wish us some absence\n",
      "So sincere in her belly, that's the nah shit\n",
      "King announcing that gangsta shit we mobbin'\n",
      "We taking your dollars creflo no white collar\n",
      "I (pop pop) wish a nigga would call thomas\n",
      "Bitch I'm the bomb call me the unabomber\n",
      "Money in my game I'm driving\n",
      "shit that's insane\n",
      "You niggas stay in your lane no\n",
      "playing ain't nothing changed\n",
      "Pardon this good regime, I make\n",
      "your girl david blaine\n",
      "Murder was the case all the kids\n",
      "say that nigga T-raw\n",
      "--------------------\n",
      "<class 'bs4.element.NavigableString'>\n"
     ]
    },
    {
     "data": {
      "text/plain": [
       "'\\n'"
      ]
     },
     "metadata": {},
     "output_type": "display_data"
    },
    {
     "name": "stdout",
     "output_type": "stream",
     "text": [
      "Dope (feat. Rick Ross)\n",
      "------\n",
      "<class 'bs4.element.Tag'>\n",
      "----------\n",
      "[Hook x2]\n",
      "I'm dope\n",
      "(All) all my shit dope\n",
      "(All) all my shit dope\n",
      "Cuz it's 187 how I killing these hoes\n",
      "--------------------\n",
      "<class 'bs4.element.NavigableString'>\n"
     ]
    },
    {
     "data": {
      "text/plain": [
       "'\\n'"
      ]
     },
     "metadata": {},
     "output_type": "display_data"
    },
    {
     "name": "stdout",
     "output_type": "stream",
     "text": [
      "Drink The Night Away (feat. The Game & Mario)\n",
      "------\n",
      "<class 'bs4.element.Tag'>\n",
      "----------\n",
      "[Tyga]\n",
      "Uh, line full of bitches\n",
      "hard fine bitches\n",
      "the shit that I'm smokin' got me higher than tuition\n",
      "wanna know whats goin' on let me paint a picture\n",
      "and if ya ain't around lemme give ya a description\n",
      "corks everywhere, hoes everywhere\n",
      "loud music playin' heavy smoke in the air\n",
      "its cups everywhere, flashin' lights\n",
      "bottles of Patron, sittin' in the ice like..\n",
      "--------------------\n",
      "<class 'bs4.element.NavigableString'>\n"
     ]
    },
    {
     "data": {
      "text/plain": [
       "'\\n'"
      ]
     },
     "metadata": {},
     "output_type": "display_data"
    },
    {
     "name": "stdout",
     "output_type": "stream",
     "text": [
      "Drink The Night Away (feat. The Game & Mario)\n",
      "------\n",
      "<class 'bs4.element.Tag'>\n",
      "----------\n",
      "[Mario]\n",
      "Its a celebration\n",
      "bottles by the cases\n",
      "tonight we goin' all get wasted\n",
      "then we goin' take off like spaceships\n",
      "Oh, and I don't really want her to leave\n",
      "--------------------\n",
      "<class 'bs4.element.NavigableString'>\n"
     ]
    },
    {
     "data": {
      "text/plain": [
       "'\\n'"
      ]
     },
     "metadata": {},
     "output_type": "display_data"
    },
    {
     "name": "stdout",
     "output_type": "stream",
     "text": [
      "Drink The Night Away (feat. The Game & Mario)\n",
      "------\n",
      "<class 'bs4.element.Tag'>\n",
      "----------\n",
      "[Tyga]\n",
      "Order bottle after bottle\n",
      "She say she cant drink, ay shut up bitch swallow\n",
      "(we gon' drink the night away, we gon' drink the night away)\n",
      "Ah Mr. Rose Raw\n",
      "2 piece suit cuff link on the arm\n",
      "Sex on the beach and some shots for these broads\n",
      "And bring the biggest bottle of Moet for my dawgs\n",
      "We on the couch leanin' on the wall\n",
      "My old bitch hit me said I seen you with them hoes\n",
      "but I'm turnt up so a nigga lost his phone\n",
      "I gotta find a freak take her home\n",
      "hit the light like uhhhh\n",
      "same day different chick ya'll\n",
      "took girls all around the world up on Crenshaw\n",
      "in and out the crib back and forth like ping pong\n",
      "me and Game got the hoe jumpin' Kriss Kross\n",
      "I'm the shit so piss off\n",
      "better yet, find me somethin' to piss on\n",
      "I'm too drunk, how I take it this far\n",
      "wake up, and do it all again tomorrow\n",
      "--------------------\n",
      "<class 'bs4.element.NavigableString'>\n"
     ]
    },
    {
     "data": {
      "text/plain": [
       "'\\n'"
      ]
     },
     "metadata": {},
     "output_type": "display_data"
    },
    {
     "name": "stdout",
     "output_type": "stream",
     "text": [
      "Drink The Night Away (feat. The Game & Mario)\n",
      "------\n",
      "<class 'bs4.element.Tag'>\n",
      "----------\n",
      "[Mario]\n",
      "Its a celebration\n",
      "bottles by the cases\n",
      "tonight we gon' all get wasted\n",
      "then we gon' take off like spaceships\n",
      "but I don't really want her to leave\n",
      "--------------------\n",
      "<class 'bs4.element.NavigableString'>\n"
     ]
    },
    {
     "data": {
      "text/plain": [
       "'\\n'"
      ]
     },
     "metadata": {},
     "output_type": "display_data"
    },
    {
     "name": "stdout",
     "output_type": "stream",
     "text": [
      "Drink The Night Away (feat. The Game & Mario)\n",
      "------\n",
      "<class 'bs4.element.Tag'>\n",
      "----------\n",
      "[Tyga]\n",
      "Uh, order bottle after bottle\n",
      "she say she cant drink, ay shut up bitch swallow\n",
      "(we goin drink the night away, we goin drink the night away)\n",
      "--------------------\n",
      "<class 'bs4.element.NavigableString'>\n"
     ]
    },
    {
     "data": {
      "text/plain": [
       "'\\n'"
      ]
     },
     "metadata": {},
     "output_type": "display_data"
    },
    {
     "name": "stdout",
     "output_type": "stream",
     "text": [
      "Drink The Night Away (feat. The Game & Mario)\n",
      "------\n",
      "<class 'bs4.element.Tag'>\n",
      "----------\n",
      "[Game]\n",
      "Uh, uh sicker than cancer\n",
      "colder than Aspen\n",
      "west side ridin' wit Tyga\n",
      "Tiger fur inside the Aston\n",
      "Martin dependin' on who askin'?\n",
      "got so many chickens, all my birds in one basket\n",
      "and that's a coupe for you, retract the roof for you\n",
      "its a Doggy Dog world, and I can call Snoop for ya\n",
      "uh that's gangsta, that's fly\n",
      "yo baby mamas mama would say I'm one hell of a guy\n",
      "why do I start beefs, why do I drop Phantoms\n",
      "why I got 7 houses but none in Atlanta\n",
      "(that's stupid)\n",
      "nah nigga smarter than Bill Gates\n",
      "clap ya hands I do it\n",
      "with the sound that still make\n",
      "I know the real Weezy, introduce you to the real Drake\n",
      "my hoes more patient that Detox fans, they will wait\n",
      "for me to go um, 10 times platinum\n",
      "and cop more Patron and hatin' niggas imagine\n",
      "--------------------\n",
      "<class 'bs4.element.NavigableString'>\n"
     ]
    },
    {
     "data": {
      "text/plain": [
       "'\\n'"
      ]
     },
     "metadata": {},
     "output_type": "display_data"
    },
    {
     "name": "stdout",
     "output_type": "stream",
     "text": [
      "Drink The Night Away (feat. The Game & Mario)\n",
      "------\n",
      "<class 'bs4.element.Tag'>\n",
      "----------\n",
      "[Mario]\n",
      "Its a celebration\n",
      "tonight we gon' all get wasted\n",
      "then we goin' take off like spaceships\n",
      "but I don't really want her to leave\n",
      "don't leave, don't be scared\n",
      "It ain't a game, meet me in the bed\n",
      "and we gon' drink the night away\n",
      "ohh I don't really want you to leave baby\n",
      "Wooah, I don't really want you to leave\n",
      "come celebrate with me baby\n",
      "--------------------\n",
      "<class 'bs4.element.NavigableString'>\n"
     ]
    },
    {
     "data": {
      "text/plain": [
       "'\\n'"
      ]
     },
     "metadata": {},
     "output_type": "display_data"
    },
    {
     "name": "stdout",
     "output_type": "stream",
     "text": [
      "Drive Fast, Live Young\n",
      "------\n",
      "<class 'bs4.element.Tag'>\n",
      "----------\n",
      "[Verse 1:]\n",
      "Big shit perfect timing, got a chef, we ain't gotta leave\n",
      "Baby we can dine in\n",
      "Get you played like violins\n",
      "Made a purchase so large, got a call nigga, affirming\n",
      "Switch shirts when we riding\n",
      "Case a nigga get pulled over, keep me vizine\n",
      "Way you living like this,\n",
      "She won't never wanna leave with these new hoes\n",
      "Steady tryina fuck me\n",
      "Ratchet nigga, no dry cleaners, don't wash that, it's brand new\n",
      "Got pablo homies, got grip niggas\n",
      "And my ocean view straight water blue\n",
      "My second time, your first time\n",
      "She let me hit on the first night\n",
      "Foreign cars, muscle cars\n",
      "Y'all niggas just ain't living it right\n",
      "--------------------\n",
      "<class 'bs4.element.NavigableString'>\n"
     ]
    },
    {
     "data": {
      "text/plain": [
       "'\\n'"
      ]
     },
     "metadata": {},
     "output_type": "display_data"
    },
    {
     "name": "stdout",
     "output_type": "stream",
     "text": [
      "Drive Fast, Live Young\n",
      "------\n",
      "<class 'bs4.element.Tag'>\n",
      "----------\n",
      "[Hook:]\n",
      "Drive fast, live young\n",
      "I'm making change, I make it rain\n",
      "We ain't the same\n",
      "I'm pulling up, my whip game\n",
      "Got leather seats and wood grain\n",
      "Drive fast, live young\n",
      "Got champagne, that's candy paying\n",
      "My real estate, these boppers know my stage name\n",
      "I sip slow, while entertain\n",
      "Drive fast, live young\n",
      "I'm dope maine, you so lame\n",
      "100 thous went to dice game\n",
      "Drive fast, live young\n",
      "Push start, I'm a start,\n",
      "She up and down that boulevard\n",
      "Going hard, going hard\n",
      "--------------------\n",
      "<class 'bs4.element.NavigableString'>\n"
     ]
    },
    {
     "data": {
      "text/plain": [
       "'\\n'"
      ]
     },
     "metadata": {},
     "output_type": "display_data"
    },
    {
     "name": "stdout",
     "output_type": "stream",
     "text": [
      "Drive Fast, Live Young\n",
      "------\n",
      "<class 'bs4.element.Tag'>\n",
      "----------\n",
      "[Verse 2:]\n",
      "Oh you bout that life, want that shine\n",
      "Can I have that ice, nah nigga it ain't mine\n",
      "I've been hustling all night, and I know she wanna call\n",
      "But a nigga working hard like 3 jobs\n",
      "Hottest paper can't count it all alone\n",
      "Mesmerized by the throne, addicted to doing wrong\n",
      "I'm a stone cold killer, cards in the winner\n",
      "Audemar ghetto like bob just lit up\n",
      "Grown with the game, drop vise get hit up\n",
      "Nigga take fade, knock down nigga get up\n",
      "Broke niggas, broke niggas, I ain't gotta worry bout gold diggas\n",
      "Pow, pow, these rolls on niggas\n",
      "Hot shot clock, waiting for the finish\n",
      "Hop in the tennant, y'all niggas shit winnin\n",
      "22 like emmit, and my bitch photogenic\n",
      "She be fire in a minute, draw your eyes baby I waas only kiddin\n",
      "Do it all different she used to say I did it\n",
      "Rolls royce, lamborghini nigga, what's the difference?\n",
      "--------------------\n",
      "<class 'bs4.element.NavigableString'>\n"
     ]
    },
    {
     "data": {
      "text/plain": [
       "'\\n'"
      ]
     },
     "metadata": {},
     "output_type": "display_data"
    },
    {
     "name": "stdout",
     "output_type": "stream",
     "text": [
      "Drive Fast, Live Young\n",
      "------\n",
      "<class 'bs4.element.Tag'>\n",
      "----------\n",
      "[Hook:]\n",
      "Drive fast, live young\n",
      "I'm making change, I make it rain\n",
      "We ain't the same\n",
      "I'm pulling up, my whip game\n",
      "Got leather seats and wood grain\n",
      "Drive fast, live young\n",
      "Got champagne, that's candy paying\n",
      "My real estate, these boppers know my stage name\n",
      "I sip slow, while entertain\n",
      "Drive fast, live young\n",
      "I'm dope maine, you so lame\n",
      "100 thous went to dice game\n",
      "Drive fast, live young\n",
      "Push start, I'm a start,\n",
      "She up and down that boulevard\n",
      "Going hard, going hard\n",
      "--------------------\n",
      "<class 'bs4.element.NavigableString'>\n"
     ]
    },
    {
     "data": {
      "text/plain": [
       "'\\n'"
      ]
     },
     "metadata": {},
     "output_type": "display_data"
    },
    {
     "name": "stdout",
     "output_type": "stream",
     "text": [
      "Drive Fast, Live Young\n",
      "------\n",
      "<class 'bs4.element.Tag'>\n",
      "----------\n",
      "[Outro:]\n",
      "Sometimes man it just suits\n",
      "I'm living a dream, man it's an ecstasy\n",
      "Man, ecstasy\n",
      "She feel my energy, wanna get next to me\n",
      "Man this is ecstasy, ecstasy\n",
      "Drive fast, live young\n",
      "Chop, chop, never stop\n",
      "Drive fast, live young\n",
      "Chop, chop, never stop\n",
      "Drive fast, live young\n",
      "Drive fast, live young\n",
      "Drive fast, live young\n",
      "Be forever young, driving in\n",
      "Be forever young.\n",
      "--------------------\n",
      "<class 'bs4.element.NavigableString'>\n"
     ]
    },
    {
     "data": {
      "text/plain": [
       "'\\n'"
      ]
     },
     "metadata": {},
     "output_type": "display_data"
    },
    {
     "name": "stdout",
     "output_type": "stream",
     "text": [
      "<class 'bs4.element.NavigableString'>\n"
     ]
    },
    {
     "data": {
      "text/plain": [
       "'\\n'"
      ]
     },
     "metadata": {},
     "output_type": "display_data"
    },
    {
     "name": "stdout",
     "output_type": "stream",
     "text": [
      "Echoes Interlude\n",
      "------\n",
      "<class 'bs4.element.Tag'>\n",
      "----------\n",
      "[Tyga]\n",
      "At this point, I realize love is not an emotion I can neglect\n",
      "My queen thought I wasn't ready for love. She was right\n",
      "What did love mean to me? It didn't mean anything\n",
      "Compassion, affection... I just know I wanted it back\n",
      "Can't be a king without love\n",
      "Love...\n",
      "--------------------\n",
      "<class 'bs4.element.NavigableString'>\n"
     ]
    },
    {
     "data": {
      "text/plain": [
       "'\\n'"
      ]
     },
     "metadata": {},
     "output_type": "display_data"
    },
    {
     "name": "stdout",
     "output_type": "stream",
     "text": [
      "Enemies\n",
      "------\n",
      "<class 'bs4.element.Tag'>\n",
      "----------\n",
      "[Intro:]\n",
      "Yeah, need a break though...\n",
      "--------------------\n",
      "<class 'bs4.element.NavigableString'>\n"
     ]
    },
    {
     "data": {
      "text/plain": [
       "'\\n'"
      ]
     },
     "metadata": {},
     "output_type": "display_data"
    },
    {
     "name": "stdout",
     "output_type": "stream",
     "text": [
      "Enemies\n",
      "------\n",
      "<class 'bs4.element.Tag'>\n",
      "----------\n",
      "[Verse 1: Tyga]\n",
      "Driving, but my mind in the back.\n",
      "You are alone, but it's quiet cause we occupy to that.\n",
      "I left my phone, stopped for gas, then some girl named Janet call\n",
      "Said it really pissed you off and you let it build a wall.\n",
      "Emotions tall, we're in the mall and some random girl call and Mina text it back.\n",
      "I ain't trying to lose it all, cause family first and pussy last.\n",
      "The last pussy that I had it was good, but she ain't no trophy to brag,\n",
      "But I should do it anyway, cause we can fall off any day.\n",
      "And you'll be right back to where you was, yeah, your momma place.\n",
      "Had things to say and girls are paid and you just lay around, man, you're so spoiled now, only child!\n",
      "Been this as usual, while you yell our business so loud.\n",
      "Bringing these groupie bitches around you; they ain't your friends, they're fowl.\n",
      "Swear so they tell addresses in your mail first to say: \"I told you so! \",\n",
      "But first off, ain't they all alone?\n",
      "Yeah, I told you so, you keep your enemies too close.\n",
      "Not everybody auntie know, we're supposed to be like on the low!\n",
      "Remember before we've been down this road, tie your flat on the slope.\n",
      "Came to a stop as soon as I spoke, cause you know:\n",
      "--------------------\n",
      "<class 'bs4.element.NavigableString'>\n"
     ]
    },
    {
     "data": {
      "text/plain": [
       "'\\n'"
      ]
     },
     "metadata": {},
     "output_type": "display_data"
    },
    {
     "name": "stdout",
     "output_type": "stream",
     "text": [
      "Enemies\n",
      "------\n",
      "<class 'bs4.element.Tag'>\n",
      "----------\n",
      "[Hook:]\n",
      "I wanna tell the world about you, but this is like you sworn the secrecy!\n",
      "What do we sacrifice, growing up to fall in love so fast, hope we don't become enemies!\n",
      "I put my faith in God, you put your faith in me, now I'm just trying to keep my sanity!\n",
      "Why do we sacrifice to fall in love so fast?\n",
      "Man, I hope we don't be enemies.\n",
      "I'm still seeking...\n",
      "--------------------\n",
      "<class 'bs4.element.NavigableString'>\n"
     ]
    },
    {
     "data": {
      "text/plain": [
       "'\\n'"
      ]
     },
     "metadata": {},
     "output_type": "display_data"
    },
    {
     "name": "stdout",
     "output_type": "stream",
     "text": [
      "Enemies\n",
      "------\n",
      "<class 'bs4.element.Tag'>\n",
      "----------\n",
      "[Verse 2: Tyga]\n",
      "I ran into my ex like the other day didn't wanna let you know, cause usually you look the other way.\n",
      "Despise face with hatred, visions of me and her naked.\n",
      "Lies, you can't take it, cheated before, but not lately!\n",
      "Lately I've been so into this shit, love is amazing!\n",
      "Said: 'you was amazing spending your time\n",
      "All of your time into the days when, but it's one person you relate with.\n",
      "You go wild and lay with!\n",
      "Never been good with relationships, life difficult, she make it basic.\n",
      "Yeah, when I'm basic I drive slow, your body in my control.\n",
      "It's my control, ain't gotta go, no way, just pose like feel gold!\n",
      "Let the time go, we'll go, too...\n",
      "No telling what I might do without you, cause I got a pass and you do too,\n",
      "But I ain't gotta judge what you've been through, cause:\n",
      "--------------------\n",
      "<class 'bs4.element.NavigableString'>\n"
     ]
    },
    {
     "data": {
      "text/plain": [
       "'\\n'"
      ]
     },
     "metadata": {},
     "output_type": "display_data"
    },
    {
     "name": "stdout",
     "output_type": "stream",
     "text": [
      "Enemies\n",
      "------\n",
      "<class 'bs4.element.Tag'>\n",
      "----------\n",
      "[Hook:]\n",
      "I wanna tell the world about you, but this is like you sworn the secrecy!\n",
      "What do we sacrifice, growing up to fall in love so fast, hope we don't become enemies!\n",
      "I put my faith in God, you put your faith in me, now I'm just trying to keep my sanity!\n",
      "Why do we sacrifice to fall in love so fast?\n",
      "Man, I hope we don't be enemies.\n",
      "I'm still seeking...\n",
      "Cause you know:\n",
      "I wanna tell the world about you, but this is like you sworn the secrecy!\n",
      "What do we sacrifice, growing up to fall in love so fast, hope we don't become enemies!\n",
      "I put my faith in God, you put your faith in me, now I'm just trying to keep my sanity!\n",
      "Why do we sacrifice to fall in love so fast?\n",
      "Man, I hope we don't be enemies.\n",
      "I'm still seeking...\n",
      "--------------------\n",
      "<class 'bs4.element.NavigableString'>\n"
     ]
    },
    {
     "data": {
      "text/plain": [
       "'\\n'"
      ]
     },
     "metadata": {},
     "output_type": "display_data"
    },
    {
     "name": "stdout",
     "output_type": "stream",
     "text": [
      "Est. (80's Baby)\n",
      "------\n",
      "<class 'bs4.element.Tag'>\n",
      "----------\n",
      "[Intro/Chorus]\n",
      "Almost, E-S-T in the 90's\n",
      "But I'm, still a 80's baby\n",
      "Don't even try, it's the way God made me\n",
      "Uh-uh, it's the way God made me\n",
      "Almost, E-S-T in the 90's\n",
      "But I'm, still a 80's baby\n",
      "Don't even try, it's the way God made me\n",
      "Uh - how come they hate me?\n",
      "--------------------\n",
      "<class 'bs4.element.NavigableString'>\n"
     ]
    },
    {
     "data": {
      "text/plain": [
       "'\\n'"
      ]
     },
     "metadata": {},
     "output_type": "display_data"
    },
    {
     "name": "stdout",
     "output_type": "stream",
     "text": [
      "<class 'bs4.element.NavigableString'>\n"
     ]
    },
    {
     "data": {
      "text/plain": [
       "'\\n'"
      ]
     },
     "metadata": {},
     "output_type": "display_data"
    },
    {
     "name": "stdout",
     "output_type": "stream",
     "text": [
      "Est. (80's Baby)\n",
      "------\n",
      "<class 'bs4.element.Tag'>\n",
      "----------\n",
      "[Chorus - 2X]\n",
      "--------------------\n",
      "<class 'bs4.element.NavigableString'>\n"
     ]
    },
    {
     "data": {
      "text/plain": [
       "'\\n'"
      ]
     },
     "metadata": {},
     "output_type": "display_data"
    },
    {
     "name": "stdout",
     "output_type": "stream",
     "text": [
      "Faded (feat. Lil Wayne)\n",
      "------\n",
      "<class 'bs4.element.Tag'>\n",
      "----------\n",
      "(Intro)\n",
      "I don't give a fuck\n",
      "{Tyga tyga tyga nice to see you}\n",
      "[Tyga]\n",
      "Young Nino, fuck a bitch in a pea coat\n",
      "Carlito, Scarface, AL Pacino\n",
      "Bun B do, Pimp C, R-PIDO though\n",
      "I goes deep in that pussy, Dan Marino\n",
      "She wanna be the one, fuck her to my own single\n",
      "Break a bitch heart, no future miss cleo\n",
      "Snap back, au-au-automatic reload\n",
      "Flyer than a fucking beatle, you can't beat 'em\n",
      "Vampire fuck up your evening\n",
      "I pop up and eat lunch, leave you in the cement\n",
      "Don't believe it, stripe like a fucking Adidas\n",
      "The gun selena, give a nigga bieber fever\n",
      "--------------------\n",
      "<class 'bs4.element.NavigableString'>\n"
     ]
    },
    {
     "data": {
      "text/plain": [
       "'\\n'"
      ]
     },
     "metadata": {},
     "output_type": "display_data"
    },
    {
     "name": "stdout",
     "output_type": "stream",
     "text": [
      "<class 'bs4.element.NavigableString'>\n"
     ]
    },
    {
     "data": {
      "text/plain": [
       "'\\n'"
      ]
     },
     "metadata": {},
     "output_type": "display_data"
    },
    {
     "name": "stdout",
     "output_type": "stream",
     "text": [
      "Faded (feat. Lil Wayne)\n",
      "------\n",
      "<class 'bs4.element.Tag'>\n",
      "----------\n",
      "[Hook]\n",
      "I'm faded faded faded\n",
      "My nigga I'm faded faded faded\n",
      "My nigga I'm faded faded faded\n",
      "My nigga I'm faded faded faded\n",
      "My nigga I'm faded faded faded\n",
      "My nigga I'm faded faded faded\n",
      "My nigga I'm faded faded faded\n",
      "My nigga I'm faded faded faded\n",
      "--------------------\n",
      "<class 'bs4.element.NavigableString'>\n"
     ]
    },
    {
     "data": {
      "text/plain": [
       "'\\n'"
      ]
     },
     "metadata": {},
     "output_type": "display_data"
    },
    {
     "name": "stdout",
     "output_type": "stream",
     "text": [
      "<class 'bs4.element.NavigableString'>\n"
     ]
    },
    {
     "data": {
      "text/plain": [
       "'\\n'"
      ]
     },
     "metadata": {},
     "output_type": "display_data"
    },
    {
     "name": "stdout",
     "output_type": "stream",
     "text": [
      "Faded (feat. Lil Wayne)\n",
      "------\n",
      "<class 'bs4.element.Tag'>\n",
      "----------\n",
      "[Tyga]\n",
      "Fuck is up, nigga's stomping in my chucks\n",
      "Yeah, I make it rain, dear, cause I'm all about my bucks\n",
      "Use the butt I'm in the front, dick up in her cunt\n",
      "And I put it in her hole, hole in one, putt putt (wahhhhhh)\n",
      "--------------------\n",
      "<class 'bs4.element.NavigableString'>\n"
     ]
    },
    {
     "data": {
      "text/plain": [
       "'\\n'"
      ]
     },
     "metadata": {},
     "output_type": "display_data"
    },
    {
     "name": "stdout",
     "output_type": "stream",
     "text": [
      "<class 'bs4.element.NavigableString'>\n"
     ]
    },
    {
     "data": {
      "text/plain": [
       "'\\n'"
      ]
     },
     "metadata": {},
     "output_type": "display_data"
    },
    {
     "name": "stdout",
     "output_type": "stream",
     "text": [
      "<class 'bs4.element.NavigableString'>\n"
     ]
    },
    {
     "data": {
      "text/plain": [
       "'\\n'"
      ]
     },
     "metadata": {},
     "output_type": "display_data"
    },
    {
     "name": "stdout",
     "output_type": "stream",
     "text": [
      "Faded (feat. Lil Wayne)\n",
      "------\n",
      "<class 'bs4.element.Tag'>\n",
      "----------\n",
      "[Hook]\n",
      "I'm faded faded faded\n",
      "My nigga I'm faded faded faded\n",
      "My nigga I'm faded faded faded\n",
      "My nigga I'm faded faded faded\n",
      "My nigga I'm faded faded faded\n",
      "My nigga I'm faded faded faded\n",
      "My nigga I'm faded faded faded\n",
      "My nigga I'm faded faded faded\n",
      "--------------------\n",
      "<class 'bs4.element.NavigableString'>\n"
     ]
    },
    {
     "data": {
      "text/plain": [
       "'\\n'"
      ]
     },
     "metadata": {},
     "output_type": "display_data"
    },
    {
     "name": "stdout",
     "output_type": "stream",
     "text": [
      "<class 'bs4.element.NavigableString'>\n"
     ]
    },
    {
     "data": {
      "text/plain": [
       "'\\n'"
      ]
     },
     "metadata": {},
     "output_type": "display_data"
    },
    {
     "name": "stdout",
     "output_type": "stream",
     "text": [
      "Faded (feat. Lil Wayne)\n",
      "------\n",
      "<class 'bs4.element.Tag'>\n",
      "----------\n",
      "[Lil' Wayne]\n",
      "Mama, there go that monster\n",
      "Abracadabra, magic Johnson\n",
      "My motherfucking doctor\n",
      "Said I need a doctor\n",
      "So I called house,\n",
      "Now I am a pill popper\n",
      "Faded like skinnys\n",
      "Young money we winning\n",
      "I told her if I change\n",
      "She won't get a penny\n",
      "Milking that shit, pregnant bitch titties\n",
      "Bringing home the bacon\n",
      "I'm fucking miss piggy\n",
      "Loaded like a semi, semi-naked pictures\n",
      "She knows my dick, she call it nigga Richard\n",
      "Prior to me cummin, I had to stick my thumb in\n",
      "Her ass one time, smell my finger make you vomit\n",
      "Flyer than a hornet, the shoe fit I worn it\n",
      "She tried to jack me off, can't beat it, join it\n",
      "Tunechi, coochie that what she call it,\n",
      "Flag Scarlett, I killed it, mourn it\n",
      "--------------------\n",
      "<class 'bs4.element.NavigableString'>\n"
     ]
    },
    {
     "data": {
      "text/plain": [
       "'\\n'"
      ]
     },
     "metadata": {},
     "output_type": "display_data"
    },
    {
     "name": "stdout",
     "output_type": "stream",
     "text": [
      "Faded (feat. Lil Wayne)\n",
      "------\n",
      "<class 'bs4.element.Tag'>\n",
      "----------\n",
      "[Hook]\n",
      "Faded faded faded\n",
      "My nigga I'm faded faded faded\n",
      "My nigga I'm faded faded faded\n",
      "My nigga I'm faded faded faded\n",
      "[Lil Wayne:] Young Moolah baby!\n",
      "My nigga I'm faded faded faded\n",
      "My nigga I'm faded faded faded\n",
      "My nigga I'm faded faded faded\n",
      "My nigga I'm faded faded faded\n",
      "--------------------\n",
      "<class 'bs4.element.NavigableString'>\n"
     ]
    },
    {
     "data": {
      "text/plain": [
       "'\\n'"
      ]
     },
     "metadata": {},
     "output_type": "display_data"
    },
    {
     "name": "stdout",
     "output_type": "stream",
     "text": [
      "<class 'bs4.element.NavigableString'>\n"
     ]
    },
    {
     "data": {
      "text/plain": [
       "'\\n'"
      ]
     },
     "metadata": {},
     "output_type": "display_data"
    },
    {
     "name": "stdout",
     "output_type": "stream",
     "text": [
      "Far Away (feat. Chris Richardson)\n",
      "------\n",
      "<class 'bs4.element.Tag'>\n",
      "----------\n",
      "[Chris Richardson]\n",
      "Walk a thousand miles\n",
      "Just to see her (see her)\n",
      "But she’s far far away\n",
      "And I’d do anything just to see her face\n",
      "But she’s far far away\n",
      "Walk a thousand miles just to see her smile again\n",
      "--------------------\n",
      "<class 'bs4.element.NavigableString'>\n"
     ]
    },
    {
     "data": {
      "text/plain": [
       "'\\n'"
      ]
     },
     "metadata": {},
     "output_type": "display_data"
    },
    {
     "name": "stdout",
     "output_type": "stream",
     "text": [
      "Far Away (feat. Chris Richardson)\n",
      "------\n",
      "<class 'bs4.element.Tag'>\n",
      "----------\n",
      "[Tyga - Verse 1]\n",
      "Sittin’ on a plane\n",
      "Reminiscing back when I made that mistake\n",
      "I wish it never ended with a heartbreak\n",
      "Now your heart broken, tears in ya face\n",
      "Ask myself why, looking at the sky\n",
      "If I could turn back I’d make it all right\n",
      "Praying that you better but its still stormy weather\n",
      "Don’t wanna let go but the rain wont let up\n",
      "Now you gone, still thinking bout you everyday\n",
      "And I know feelings was hurt and you can blame me but\n",
      "I’m sorry for the games that I played\n",
      "But now it’s too late\n",
      "And now she’s…\n",
      "--------------------\n",
      "<class 'bs4.element.NavigableString'>\n"
     ]
    },
    {
     "data": {
      "text/plain": [
       "'\\n'"
      ]
     },
     "metadata": {},
     "output_type": "display_data"
    },
    {
     "name": "stdout",
     "output_type": "stream",
     "text": [
      "Far Away (feat. Chris Richardson)\n",
      "------\n",
      "<class 'bs4.element.Tag'>\n",
      "----------\n",
      "[Chris Richardson]\n",
      "Now she’s far far away\n",
      "And I’d do anything just to see her face\n",
      "But she’s far far away\n",
      "Walk a thousand miles just to see her smile again\n",
      "--------------------\n",
      "<class 'bs4.element.NavigableString'>\n"
     ]
    },
    {
     "data": {
      "text/plain": [
       "'\\n'"
      ]
     },
     "metadata": {},
     "output_type": "display_data"
    },
    {
     "name": "stdout",
     "output_type": "stream",
     "text": [
      "Far Away (feat. Chris Richardson)\n",
      "------\n",
      "<class 'bs4.element.Tag'>\n",
      "----------\n",
      "[Tyga - Verse 2]\n",
      "It’s cold putting up a fight\n",
      "Arguing back and forth through the night\n",
      "Regardless what I said and I don’t mean most of it\n",
      "You know I really love you, this the realest goin’ get\n",
      "It take time to realise what you really wanna know\n",
      "You was ready for it all but your feelings I ignored\n",
      "I know my fault, I should’ve gave more\n",
      "Now you’re miles away and I’m miles on tour\n",
      "Now it’s drums playing, crowd singing\n",
      "Light changing, wish you was here to witness all that\n",
      "It starts fading\n",
      "They say two wrongs don’t make it right\n",
      "And I was wrong and now it ain't right\n",
      "--------------------\n",
      "<class 'bs4.element.NavigableString'>\n"
     ]
    },
    {
     "data": {
      "text/plain": [
       "'\\n'"
      ]
     },
     "metadata": {},
     "output_type": "display_data"
    },
    {
     "name": "stdout",
     "output_type": "stream",
     "text": [
      "Far Away (feat. Chris Richardson)\n",
      "------\n",
      "<class 'bs4.element.Tag'>\n",
      "----------\n",
      "[Chris Richardson]\n",
      "Cause she’s far far away\n",
      "And I’d do anything just to see her face\n",
      "But she’s far far away\n",
      "Walk a thousand miles just to see her smile again\n",
      "--------------------\n",
      "<class 'bs4.element.NavigableString'>\n"
     ]
    },
    {
     "data": {
      "text/plain": [
       "'\\n'"
      ]
     },
     "metadata": {},
     "output_type": "display_data"
    },
    {
     "name": "stdout",
     "output_type": "stream",
     "text": [
      "Far Away (feat. Chris Richardson)\n",
      "------\n",
      "<class 'bs4.element.Tag'>\n",
      "----------\n",
      "[Tyga - Bridge]\n",
      "Na na na nah\n",
      "If I could turn back\n",
      "If I could make it right\n",
      "I’d do just that\n",
      "If I could make it right\n",
      "I’d do it all tonight\n",
      "Hold you in my arms, with you I’d spend my life\n",
      "--------------------\n",
      "<class 'bs4.element.NavigableString'>\n"
     ]
    },
    {
     "data": {
      "text/plain": [
       "'\\n'"
      ]
     },
     "metadata": {},
     "output_type": "display_data"
    },
    {
     "name": "stdout",
     "output_type": "stream",
     "text": [
      "<class 'bs4.element.NavigableString'>\n"
     ]
    },
    {
     "data": {
      "text/plain": [
       "'\\n'"
      ]
     },
     "metadata": {},
     "output_type": "display_data"
    },
    {
     "name": "stdout",
     "output_type": "stream",
     "text": [
      "<class 'bs4.element.NavigableString'>\n"
     ]
    },
    {
     "data": {
      "text/plain": [
       "'\\n'"
      ]
     },
     "metadata": {},
     "output_type": "display_data"
    },
    {
     "name": "stdout",
     "output_type": "stream",
     "text": [
      "Far Away (feat. Chris Richardson)\n",
      "------\n",
      "<class 'bs4.element.Tag'>\n",
      "----------\n",
      "[Chris Richardson]\n",
      "Cause she’s far far away\n",
      "And I’d do anything just to see her face\n",
      "But she’s far far away\n",
      "Walk a thousand miles just to see her smile again\n",
      "--------------------\n",
      "<class 'bs4.element.NavigableString'>\n"
     ]
    },
    {
     "data": {
      "text/plain": [
       "'\\n'"
      ]
     },
     "metadata": {},
     "output_type": "display_data"
    },
    {
     "name": "stdout",
     "output_type": "stream",
     "text": [
      "Far Away (feat. Chris Richardson)\n",
      "------\n",
      "<class 'bs4.element.Tag'>\n",
      "----------\n",
      "[Bridge]\n",
      "--------------------\n",
      "<class 'bs4.element.NavigableString'>\n"
     ]
    },
    {
     "data": {
      "text/plain": [
       "'\\n'"
      ]
     },
     "metadata": {},
     "output_type": "display_data"
    },
    {
     "name": "stdout",
     "output_type": "stream",
     "text": [
      "First Time (feat. Pharrell)\n",
      "------\n",
      "<class 'bs4.element.Tag'>\n",
      "----------\n",
      "[Chorus:]\n",
      "[Pharrell:]\n",
      "I know you wanna feel the girl (first time)\n",
      "now take it easy the first time\n",
      "first time, first time, first time, first time\n",
      "first time, first time, first time\n",
      "[Tyga:]\n",
      "first time, I aint trying to hurt you now\n",
      "but I think I’m in love for the first time\n",
      "top 9 certified\n",
      "but I think I’m love for the first time\n",
      "top 9 certified\n",
      "I think I’m love for the first time\n",
      "--------------------\n",
      "<class 'bs4.element.NavigableString'>\n"
     ]
    },
    {
     "data": {
      "text/plain": [
       "'\\n'"
      ]
     },
     "metadata": {},
     "output_type": "display_data"
    },
    {
     "name": "stdout",
     "output_type": "stream",
     "text": [
      "First Time (feat. Pharrell)\n",
      "------\n",
      "<class 'bs4.element.Tag'>\n",
      "----------\n",
      "[Tyga - Verse 1:]\n",
      "First time I laid eyes\n",
      "I looked around, heaven’s angel from the sky\n",
      "it must be a message from God\n",
      "cause you the only thing on my mind\n",
      "let me show you why\n",
      "tunnel of love let’s float inside\n",
      "girl grab my hand now hold your ride\n",
      "take a chance for life, roll the dice\n",
      "next day we in paradise\n",
      "promise to be loyal when honest\n",
      "help out your family\n",
      "with a couple dollars\n",
      "I do my best for you\n",
      "cause you my shorty\n",
      "so rest your head on my shoulders\n",
      "it feels good, don’t it baby\n",
      "--------------------\n",
      "<class 'bs4.element.NavigableString'>\n"
     ]
    },
    {
     "data": {
      "text/plain": [
       "'\\n'"
      ]
     },
     "metadata": {},
     "output_type": "display_data"
    },
    {
     "name": "stdout",
     "output_type": "stream",
     "text": [
      "First Time (feat. Pharrell)\n",
      "------\n",
      "<class 'bs4.element.Tag'>\n",
      "----------\n",
      "[Chorus]\n",
      "--------------------\n",
      "<class 'bs4.element.NavigableString'>\n"
     ]
    },
    {
     "data": {
      "text/plain": [
       "'\\n'"
      ]
     },
     "metadata": {},
     "output_type": "display_data"
    },
    {
     "name": "stdout",
     "output_type": "stream",
     "text": [
      "First Time (feat. Pharrell)\n",
      "------\n",
      "<class 'bs4.element.Tag'>\n",
      "----------\n",
      "[Tyga - Verse 2:]\n",
      "I know you aint scared of tiger’s\n",
      "I get around, they say my sex on fire (fire)\n",
      "do it all night, keep you smiling\n",
      "used to be a player but I’m retired\n",
      "ugh, as I lay down right beside ya\n",
      "no shirt, it’s kinda hard to be quiet\n",
      "she said hold me close never let go\n",
      "I got that good love girl, oh you didn’t know\n",
      "uh, give ya kiss, ear to ya neck\n",
      "relax, rub ya back\n",
      "make it wet\n",
      "I know love have you going crazy\n",
      "but it feel good, don’t it baby\n",
      "--------------------\n",
      "<class 'bs4.element.NavigableString'>\n"
     ]
    },
    {
     "data": {
      "text/plain": [
       "'\\n'"
      ]
     },
     "metadata": {},
     "output_type": "display_data"
    },
    {
     "name": "stdout",
     "output_type": "stream",
     "text": [
      "First Time (feat. Pharrell)\n",
      "------\n",
      "<class 'bs4.element.Tag'>\n",
      "----------\n",
      "[Chorus]\n",
      "--------------------\n",
      "<class 'bs4.element.NavigableString'>\n"
     ]
    },
    {
     "data": {
      "text/plain": [
       "'\\n'"
      ]
     },
     "metadata": {},
     "output_type": "display_data"
    },
    {
     "name": "stdout",
     "output_type": "stream",
     "text": [
      "First Time (feat. Pharrell)\n",
      "------\n",
      "<class 'bs4.element.Tag'>\n",
      "----------\n",
      "[Pharrell - Bridge:]\n",
      "Hey young girl, irl-ir-ir-irl-irl (wassup baby)\n",
      "Hey young girl, irl-ir-ir-irl-irl (ever been in love)\n",
      "Hey young girl, irl-ir-ir-irl-irl (I know you wanna feel it)\n",
      "Hey young girl, irl-ir-ir-irl-irl\n",
      "--------------------\n",
      "<class 'bs4.element.NavigableString'>\n"
     ]
    },
    {
     "data": {
      "text/plain": [
       "'\\n'"
      ]
     },
     "metadata": {},
     "output_type": "display_data"
    },
    {
     "name": "stdout",
     "output_type": "stream",
     "text": [
      "First Time (feat. Pharrell)\n",
      "------\n",
      "<class 'bs4.element.Tag'>\n",
      "----------\n",
      "[Chorus]\n",
      "--------------------\n",
      "<class 'bs4.element.NavigableString'>\n"
     ]
    },
    {
     "data": {
      "text/plain": [
       "'\\n'"
      ]
     },
     "metadata": {},
     "output_type": "display_data"
    },
    {
     "name": "stdout",
     "output_type": "stream",
     "text": [
      "<class 'bs4.element.NavigableString'>\n"
     ]
    },
    {
     "data": {
      "text/plain": [
       "'\\n'"
      ]
     },
     "metadata": {},
     "output_type": "display_data"
    },
    {
     "name": "stdout",
     "output_type": "stream",
     "text": [
      "<class 'bs4.element.NavigableString'>\n"
     ]
    },
    {
     "data": {
      "text/plain": [
       "'\\n'"
      ]
     },
     "metadata": {},
     "output_type": "display_data"
    },
    {
     "name": "stdout",
     "output_type": "stream",
     "text": [
      "First Timers\n",
      "------\n",
      "<class 'bs4.element.Tag'>\n",
      "----------\n",
      "[chorus]\n",
      "Teenage love (teenage love)\n",
      "Teenage love (teenage love)\n",
      "Teenage love (teenage love)\n",
      "Don't don't don't hurt me again\n",
      "Teenage love (teenage love)\n",
      "Teenage love (teenage love)\n",
      "Teenage love (teenage love)\n",
      "Don't don't don't hurt me again \n",
      "--------------------\n",
      "<class 'bs4.element.NavigableString'>\n"
     ]
    },
    {
     "data": {
      "text/plain": [
       "'\\n'"
      ]
     },
     "metadata": {},
     "output_type": "display_data"
    },
    {
     "name": "stdout",
     "output_type": "stream",
     "text": [
      "<class 'bs4.element.NavigableString'>\n"
     ]
    },
    {
     "data": {
      "text/plain": [
       "'\\n'"
      ]
     },
     "metadata": {},
     "output_type": "display_data"
    },
    {
     "name": "stdout",
     "output_type": "stream",
     "text": [
      "First Timers\n",
      "------\n",
      "<class 'bs4.element.Tag'>\n",
      "----------\n",
      "[chorus]\n",
      "Teenage love (teenage love)\n",
      "Teenage love (teenage love)\n",
      "Teenage love (teenage love)\n",
      "Don't don't don't hurt me again\n",
      "Teenage love (teenage love)\n",
      "Teenage love (teenage love)\n",
      "Teenage love (teenage love)\n",
      "Don't don't don't hurt me again \n",
      "--------------------\n",
      "<class 'bs4.element.NavigableString'>\n"
     ]
    },
    {
     "data": {
      "text/plain": [
       "'\\n'"
      ]
     },
     "metadata": {},
     "output_type": "display_data"
    },
    {
     "name": "stdout",
     "output_type": "stream",
     "text": [
      "<class 'bs4.element.NavigableString'>\n"
     ]
    },
    {
     "data": {
      "text/plain": [
       "'\\n'"
      ]
     },
     "metadata": {},
     "output_type": "display_data"
    },
    {
     "name": "stdout",
     "output_type": "stream",
     "text": [
      "First Timers\n",
      "------\n",
      "<class 'bs4.element.Tag'>\n",
      "----------\n",
      "Teenage love its a teenage love [2x]\n",
      "Don't don't don't hurt me again\n",
      "Its a teenage love love love love [3x]\n",
      "Don't don't don't hurt me again \n",
      "--------------------\n",
      "<class 'bs4.element.NavigableString'>\n"
     ]
    },
    {
     "data": {
      "text/plain": [
       "'\\n'"
      ]
     },
     "metadata": {},
     "output_type": "display_data"
    },
    {
     "name": "stdout",
     "output_type": "stream",
     "text": [
      "First Timers\n",
      "------\n",
      "<class 'bs4.element.Tag'>\n",
      "----------\n",
      "[chorus]\n",
      "Teenage love (teenage love)\n",
      "Teenage love (teenage love)\n",
      "Teenage love (teenage love)\n",
      "Don't don't don't hurt me again\n",
      "Teenage love (teenage love)\n",
      "Teenage love (teenage love)\n",
      "Teenage love (teenage love)\n",
      "Don't don't don't hurt me again \n",
      "--------------------\n",
      "<class 'bs4.element.NavigableString'>\n"
     ]
    },
    {
     "data": {
      "text/plain": [
       "'\\n'"
      ]
     },
     "metadata": {},
     "output_type": "display_data"
    },
    {
     "name": "stdout",
     "output_type": "stream",
     "text": [
      "<class 'bs4.element.NavigableString'>\n"
     ]
    },
    {
     "data": {
      "text/plain": [
       "'\\n'"
      ]
     },
     "metadata": {},
     "output_type": "display_data"
    },
    {
     "name": "stdout",
     "output_type": "stream",
     "text": [
      "For The Fame (feat. Chris Brown & Wynter Gordon)\n",
      "------\n",
      "<class 'bs4.element.Tag'>\n",
      "----------\n",
      "[Hook: Chris Brown and Wynter Gordon]\n",
      "She ain't in it for the fame (For the fame)\n",
      "For the fame (For the fame)\n",
      "For the fame (For the fame)\n",
      "She ain't in it for the fame\n",
      "For the fame, for the fame\n",
      "She said that she ain't in it for the fame (For the fame)\n",
      "For the fame (For the fame)\n",
      "For the fame (For the fame)\n",
      "She said that she ain't in it for the fame\n",
      "--------------------\n",
      "<class 'bs4.element.NavigableString'>\n"
     ]
    },
    {
     "data": {
      "text/plain": [
       "'\\n'"
      ]
     },
     "metadata": {},
     "output_type": "display_data"
    },
    {
     "name": "stdout",
     "output_type": "stream",
     "text": [
      "For The Fame (feat. Chris Brown & Wynter Gordon)\n",
      "------\n",
      "<class 'bs4.element.Tag'>\n",
      "----------\n",
      "[Verse 1: Tyga]\n",
      "Uh, please no intro\n",
      "Tyga she already know\n",
      "Come and spend the night with me\n",
      "And tell me what you into, uh\n",
      "Can I take you home?\n",
      "Wake up in the morn'\n",
      "My side of the bed\n",
      "Next minute I'm gone (Ha ah!)\n",
      "You smile too\n",
      "I'll probably smile if I was you\n",
      "Always keep it real with me\n",
      "And I'mma keep it real with you (Real with you)\n",
      "Her friends like:\n",
      "How you gon' handle him? Always hiding from the camera\n",
      "--------------------\n",
      "<class 'bs4.element.NavigableString'>\n"
     ]
    },
    {
     "data": {
      "text/plain": [
       "'\\n'"
      ]
     },
     "metadata": {},
     "output_type": "display_data"
    },
    {
     "name": "stdout",
     "output_type": "stream",
     "text": [
      "For The Fame (feat. Chris Brown & Wynter Gordon)\n",
      "------\n",
      "<class 'bs4.element.Tag'>\n",
      "----------\n",
      "[Hook] \n",
      "--------------------\n",
      "<class 'bs4.element.NavigableString'>\n"
     ]
    },
    {
     "data": {
      "text/plain": [
       "'\\n'"
      ]
     },
     "metadata": {},
     "output_type": "display_data"
    },
    {
     "name": "stdout",
     "output_type": "stream",
     "text": [
      "For The Fame (feat. Chris Brown & Wynter Gordon)\n",
      "------\n",
      "<class 'bs4.element.Tag'>\n",
      "----------\n",
      "[Hook 2: Wynter Gordon]\n",
      "I ain't in it for the fame\n",
      "I ain't trying to play the game (yeah)\n",
      "Boy you know I'm down for you\n",
      "I don't need your money no\n",
      "I ain't in it for the show\n",
      "But I love you\n",
      "I said that I ain't in it for the fame\n",
      "--------------------\n",
      "<class 'bs4.element.NavigableString'>\n"
     ]
    },
    {
     "data": {
      "text/plain": [
       "'\\n'"
      ]
     },
     "metadata": {},
     "output_type": "display_data"
    },
    {
     "name": "stdout",
     "output_type": "stream",
     "text": [
      "For The Fame (feat. Chris Brown & Wynter Gordon)\n",
      "------\n",
      "<class 'bs4.element.Tag'>\n",
      "----------\n",
      "[Verse 2: Tyga]\n",
      "So what you're here for?\n",
      "Is you really down for sho'?\n",
      "Let me know, fly you out to anywhere you wanna go (Wanna go)\n",
      "Same night, new ice\n",
      "Flashing lights, I can tell your life\n",
      "But she don't really want none of\n",
      "Homie trying to holla but she only be wanting my love (My love)\n",
      "Being on the magazine\n",
      "Movie screen, she ain't never seen\n",
      "--------------------\n",
      "<class 'bs4.element.NavigableString'>\n"
     ]
    },
    {
     "data": {
      "text/plain": [
       "'\\n'"
      ]
     },
     "metadata": {},
     "output_type": "display_data"
    },
    {
     "name": "stdout",
     "output_type": "stream",
     "text": [
      "For The Fame (feat. Chris Brown & Wynter Gordon)\n",
      "------\n",
      "<class 'bs4.element.Tag'>\n",
      "----------\n",
      "[Hook] \n",
      "--------------------\n",
      "<class 'bs4.element.NavigableString'>\n"
     ]
    },
    {
     "data": {
      "text/plain": [
       "'\\n'"
      ]
     },
     "metadata": {},
     "output_type": "display_data"
    },
    {
     "name": "stdout",
     "output_type": "stream",
     "text": [
      "For The Fame (feat. Chris Brown & Wynter Gordon)\n",
      "------\n",
      "<class 'bs4.element.Tag'>\n",
      "----------\n",
      "[Hook 2] \n",
      "--------------------\n",
      "<class 'bs4.element.NavigableString'>\n"
     ]
    },
    {
     "data": {
      "text/plain": [
       "'\\n'"
      ]
     },
     "metadata": {},
     "output_type": "display_data"
    },
    {
     "name": "stdout",
     "output_type": "stream",
     "text": [
      "For The Fame (feat. Chris Brown & Wynter Gordon)\n",
      "------\n",
      "<class 'bs4.element.Tag'>\n",
      "----------\n",
      "[Chris Brown]\n",
      "Shawty I gotta be real honest\n",
      "Cause I gotta a thing for you I'll do everything I promise\n",
      "So what you wanna do? \n",
      "--------------------\n",
      "<class 'bs4.element.NavigableString'>\n"
     ]
    },
    {
     "data": {
      "text/plain": [
       "'\\n'"
      ]
     },
     "metadata": {},
     "output_type": "display_data"
    },
    {
     "name": "stdout",
     "output_type": "stream",
     "text": [
      "For The Fame (feat. Chris Brown & Wynter Gordon)\n",
      "------\n",
      "<class 'bs4.element.Tag'>\n",
      "----------\n",
      "[Wynter Gordon]\n",
      "Boy, I want you\n",
      "And I know you want me\n",
      "Why don't you put it on me\n",
      "Cause you're like what you say\n",
      "--------------------\n",
      "<class 'bs4.element.NavigableString'>\n"
     ]
    },
    {
     "data": {
      "text/plain": [
       "'\\n'"
      ]
     },
     "metadata": {},
     "output_type": "display_data"
    },
    {
     "name": "stdout",
     "output_type": "stream",
     "text": [
      "For The Fame (feat. Chris Brown & Wynter Gordon)\n",
      "------\n",
      "<class 'bs4.element.Tag'>\n",
      "----------\n",
      "[Verse 3: Tyga]\n",
      "Hands up\n",
      "Stick up the crowd\n",
      "I wanna hear you shout it out\n",
      "Young Money in the house\n",
      "Show you what them dollars 'bout (yeah yeah)\n",
      "Ghetto girls, loud mouth\n",
      "Quiet chick, never 'bout\n",
      "Point 'em out, they're all good as long as \n",
      "--------------------\n",
      "<class 'bs4.element.NavigableString'>\n"
     ]
    },
    {
     "data": {
      "text/plain": [
       "'\\n'"
      ]
     },
     "metadata": {},
     "output_type": "display_data"
    },
    {
     "name": "stdout",
     "output_type": "stream",
     "text": [
      "For The Fame (feat. Chris Brown & Wynter Gordon)\n",
      "------\n",
      "<class 'bs4.element.Tag'>\n",
      "----------\n",
      "[Hook] \n",
      "--------------------\n",
      "<class 'bs4.element.NavigableString'>\n"
     ]
    },
    {
     "data": {
      "text/plain": [
       "'\\n'"
      ]
     },
     "metadata": {},
     "output_type": "display_data"
    },
    {
     "name": "stdout",
     "output_type": "stream",
     "text": [
      "For The Fame (feat. Chris Brown & Wynter Gordon)\n",
      "------\n",
      "<class 'bs4.element.Tag'>\n",
      "----------\n",
      "[Hook 2]\n",
      "--------------------\n",
      "<class 'bs4.element.NavigableString'>\n"
     ]
    },
    {
     "data": {
      "text/plain": [
       "'\\n'"
      ]
     },
     "metadata": {},
     "output_type": "display_data"
    },
    {
     "name": "stdout",
     "output_type": "stream",
     "text": [
      "For The Fame (feat. Chris Brown & Wynter Gordon)\n",
      "------\n",
      "<class 'bs4.element.Tag'>\n",
      "----------\n",
      "[Outro: Chris Brown and Wynter Gordon]\n",
      "She ain't it for the fame (I ain't it for the fame)\n",
      "She ain't it for the fame (Cause I ain't it for the fame)\n",
      "She ain't it for the fame\n",
      "Yeah yeah yeah yeah (For the fame)\n",
      "She ain't it for the fame, yeah yeah\n",
      "She ain't it for the fame, yeah yeah\n",
      "She ain't it for the fame [x4]\n",
      "--------------------\n",
      "<class 'bs4.element.NavigableString'>\n"
     ]
    },
    {
     "data": {
      "text/plain": [
       "'\\n'"
      ]
     },
     "metadata": {},
     "output_type": "display_data"
    },
    {
     "name": "stdout",
     "output_type": "stream",
     "text": [
      "Fuck For The Road (feat. Chris Brown)\n",
      "------\n",
      "<class 'bs4.element.Tag'>\n",
      "----------\n",
      "[Verse 1: Tyga]\n",
      "They say what goes around comes around\n",
      "And I know I made mistakes and you forgave me how\n",
      "I don't understand, you know I'm trying the best I can\n",
      "I guess it's consequences when you dealing with sin\n",
      "And even scarificed your friends over me\n",
      "All them nights in the club turn to nights with me\n",
      "It's like the same old story out your diary\n",
      "Memories never fade but only in time we'll see\n",
      "Hope to see you with me cause...\n",
      "--------------------\n",
      "<class 'bs4.element.NavigableString'>\n"
     ]
    },
    {
     "data": {
      "text/plain": [
       "'\\n'"
      ]
     },
     "metadata": {},
     "output_type": "display_data"
    },
    {
     "name": "stdout",
     "output_type": "stream",
     "text": [
      "Fuck For The Road (feat. Chris Brown)\n",
      "------\n",
      "<class 'bs4.element.Tag'>\n",
      "----------\n",
      "[Hook]\n",
      "My heart beats for you, girl you know are the one\n",
      "Are you mad at me, girl I know I made mistakes, I know I fucked up\n",
      "But my heart beats for you baby I’mma go and scream it loud\n",
      "But if you leave it's something I can't control\n",
      "So let's do it one last time and fuck for the road\n",
      "--------------------\n",
      "<class 'bs4.element.NavigableString'>\n"
     ]
    },
    {
     "data": {
      "text/plain": [
       "'\\n'"
      ]
     },
     "metadata": {},
     "output_type": "display_data"
    },
    {
     "name": "stdout",
     "output_type": "stream",
     "text": [
      "Fuck For The Road (feat. Chris Brown)\n",
      "------\n",
      "<class 'bs4.element.Tag'>\n",
      "----------\n",
      "[Verse 2: Tyga]\n",
      "Grabbing and biting, remember the times after fighting\n",
      "You said you loved me, I liked it, became obsessed with the sexing\n",
      "You screaming “who’s is it”, we naked\n",
      "Now I'm pullin your hair told you take it\n",
      "A couple of shots, now we faded\n",
      "Don't even know we made it, we home\n",
      "Got that look in your eyes like hope you mine\n",
      "Said you hoped the feeling’s real\n",
      "Really tired of all the lies\n",
      "One minute we fine, then we not\n",
      "Everything I do you can't but that's no reason for making mistakes\n",
      "This time put it all on the plate\n",
      "I, I told you be loyal, spoil you, never disown you\n",
      "You get lonely when I'm touring just hold it down be supportive\n",
      "I'll be back in the morning that new purse you wanted\n",
      "What's good if you can't flaunt it (flaunt it), show it\n",
      "Ain't the same, better than the rest\n",
      "And what's real love if you ain't got respect?\n",
      "And there's no way I can pay you back\n",
      "But my plan is to make, make you understand\n",
      "Make you understand that…\n",
      "--------------------\n",
      "<class 'bs4.element.NavigableString'>\n"
     ]
    },
    {
     "data": {
      "text/plain": [
       "'\\n'"
      ]
     },
     "metadata": {},
     "output_type": "display_data"
    },
    {
     "name": "stdout",
     "output_type": "stream",
     "text": [
      "Fuck For The Road (feat. Chris Brown)\n",
      "------\n",
      "<class 'bs4.element.Tag'>\n",
      "----------\n",
      "[Hook]\n",
      "--------------------\n",
      "<class 'bs4.element.NavigableString'>\n"
     ]
    },
    {
     "data": {
      "text/plain": [
       "'\\n'"
      ]
     },
     "metadata": {},
     "output_type": "display_data"
    },
    {
     "name": "stdout",
     "output_type": "stream",
     "text": [
      "Fuck For The Road (feat. Chris Brown)\n",
      "------\n",
      "<class 'bs4.element.Tag'>\n",
      "----------\n",
      "[Bridge: Chris Brown]\n",
      "All I ever wanted was your happiness\n",
      "But right now let's get right down to it, lets handle this business\n",
      "If you gonna leave me tonight, I gotta kiss it goodbye\n",
      "Girl I'm bout to make it cry, and all I need is one more time cause my...\n",
      "--------------------\n",
      "<class 'bs4.element.NavigableString'>\n"
     ]
    },
    {
     "data": {
      "text/plain": [
       "'\\n'"
      ]
     },
     "metadata": {},
     "output_type": "display_data"
    },
    {
     "name": "stdout",
     "output_type": "stream",
     "text": [
      "Fuck For The Road (feat. Chris Brown)\n",
      "------\n",
      "<class 'bs4.element.Tag'>\n",
      "----------\n",
      "[Verse 3: Tyga]\n",
      "Last time, best time, better than my next time\n",
      "Rolex and vest time, Moët it's sex time\n",
      "Hard to let go, a part of you gon’ be alone\n",
      "Scrolling your phone, looking at texts, seems like not too long ago\n",
      "Ain't the same better than the rest\n",
      "And what's real love if you ain't got respect?\n",
      "And it's no way I can pay you back\n",
      "But my plan is to make, make you understand\n",
      "Make you understand that...\n",
      "--------------------\n",
      "<class 'bs4.element.NavigableString'>\n"
     ]
    },
    {
     "data": {
      "text/plain": [
       "'\\n'"
      ]
     },
     "metadata": {},
     "output_type": "display_data"
    },
    {
     "name": "stdout",
     "output_type": "stream",
     "text": [
      "Fuck For The Road (feat. Chris Brown)\n",
      "------\n",
      "<class 'bs4.element.Tag'>\n",
      "----------\n",
      "[Hook]\n",
      "--------------------\n",
      "<class 'bs4.element.NavigableString'>\n"
     ]
    },
    {
     "data": {
      "text/plain": [
       "'\\n'"
      ]
     },
     "metadata": {},
     "output_type": "display_data"
    },
    {
     "name": "stdout",
     "output_type": "stream",
     "text": [
      "Fuck With You\n",
      "------\n",
      "<class 'bs4.element.Tag'>\n",
      "----------\n",
      "[Chorus x2]\n",
      "I don’t know what to do\n",
      "Sitting here alone just waitin’ on a queue\n",
      "‘Cause I don’t wanna fuck with you, no more\n",
      "No more, no more, no more, no more\n",
      "No more, no more\n",
      "I don’t wanna fuck with you\n",
      "--------------------\n",
      "<class 'bs4.element.NavigableString'>\n"
     ]
    },
    {
     "data": {
      "text/plain": [
       "'\\n'"
      ]
     },
     "metadata": {},
     "output_type": "display_data"
    },
    {
     "name": "stdout",
     "output_type": "stream",
     "text": [
      "<class 'bs4.element.NavigableString'>\n"
     ]
    },
    {
     "data": {
      "text/plain": [
       "'\\n'"
      ]
     },
     "metadata": {},
     "output_type": "display_data"
    },
    {
     "name": "stdout",
     "output_type": "stream",
     "text": [
      "Fuck With You\n",
      "------\n",
      "<class 'bs4.element.Tag'>\n",
      "----------\n",
      "[Chorus]\n",
      "I don’t know what to do\n",
      "Sitting here alone just waitin’ on a queue\n",
      "‘Cause I don’t wanna fuck with you, no more\n",
      "No more, no more, no more, no more\n",
      "No more, no more\n",
      "I don’t wanna fuck with you\n",
      "--------------------\n",
      "<class 'bs4.element.NavigableString'>\n"
     ]
    },
    {
     "data": {
      "text/plain": [
       "'\\n'"
      ]
     },
     "metadata": {},
     "output_type": "display_data"
    },
    {
     "name": "stdout",
     "output_type": "stream",
     "text": [
      "<class 'bs4.element.NavigableString'>\n"
     ]
    },
    {
     "data": {
      "text/plain": [
       "'\\n'"
      ]
     },
     "metadata": {},
     "output_type": "display_data"
    },
    {
     "name": "stdout",
     "output_type": "stream",
     "text": [
      "Fuck With You\n",
      "------\n",
      "<class 'bs4.element.Tag'>\n",
      "----------\n",
      "[Chorus]\n",
      "I don’t know what to do\n",
      "Sitting here alone just waitin’ on a queue\n",
      "‘Cause I don’t wanna fuck with you, no more\n",
      "No more, no more, no more, no more\n",
      "No more, no more\n",
      "I don’t wanna fuck with you\n",
      "--------------------\n",
      "<class 'bs4.element.NavigableString'>\n"
     ]
    },
    {
     "data": {
      "text/plain": [
       "'\\n'"
      ]
     },
     "metadata": {},
     "output_type": "display_data"
    },
    {
     "name": "stdout",
     "output_type": "stream",
     "text": [
      "<class 'bs4.element.NavigableString'>\n"
     ]
    },
    {
     "data": {
      "text/plain": [
       "'\\n'"
      ]
     },
     "metadata": {},
     "output_type": "display_data"
    },
    {
     "name": "stdout",
     "output_type": "stream",
     "text": [
      "Fuckin Crack\n",
      "------\n",
      "<class 'bs4.element.Tag'>\n",
      "----------\n",
      "[Hook]\n",
      "These niggas they fuckin’ wack\n",
      "These niggas they fuckin’ wack\n",
      "These niggas they fuckin’ wack\n",
      "Me I spit that fuckin’ crack\n",
      "Me I spit that fuckin’ crack\n",
      "T raw, that fuckin’ crack\n",
      "White whips, my rims black\n",
      "My credit card’s all black\n",
      "--------------------\n",
      "<class 'bs4.element.NavigableString'>\n"
     ]
    },
    {
     "data": {
      "text/plain": [
       "'\\n'"
      ]
     },
     "metadata": {},
     "output_type": "display_data"
    },
    {
     "name": "stdout",
     "output_type": "stream",
     "text": [
      "Fuckin Crack\n",
      "------\n",
      "<class 'bs4.element.Tag'>\n",
      "----------\n",
      "[Verse]\n",
      "I’m lookin’ over your crib\n",
      "Private jet, I did,\n",
      "That ghetto bird we swerve\n",
      "Talkin’ shit like an adlib\n",
      "I’m Papa Bear, you bitch\n",
      "Hide y’all trees, where’s my porridge?\n",
      "Got accounts just for tourin’\n",
      "I can move ya fairly what I tour in, bitch\n",
      "3000 like Andre\n",
      "I spent that on my prom date\n",
      "I’m gettin’ tickets like sweepstakes\n",
      "I treat beef like cheese steak\n",
      "These niggas fake like old bait\n",
      "Chicken niggas that shake and bake\n",
      "I fly out, that great escape\n",
      "My pockets fat, that’s Ricky Lake\n",
      "Cash spender, I throw it out\n",
      "Can’t you see I’m totaled out?\n",
      "Diddy money, only bad boy around\n",
      "Burger King, only time you get a crown\n",
      "West Side, tell them niggas bow down\n",
      "Ice Cube, my nigga stay with a frown\n",
      "Rolled on, young Nino Brown\n",
      "We ran ya bitch, Gangnam Style!\n",
      "Asian nigga, kick game like Bruce Lee\n",
      "T Raww’s in the stores,\n",
      "They sellin’ out like floor seats\n",
      "These bitches lost like Dorothy\n",
      "Coward lions, no heart beat\n",
      "I just let my car speak\n",
      "It’s gone with the wind like a hairpiece\n",
      "Abu Dhabi, I’m gettin’ blow,\n",
      "That shit illegal, but so are hoes\n",
      "I’m out here like open toes\n",
      "These niggas gay like rainbows\n",
      "Old scores, no kangoo,\n",
      "Stack chips, that’s Pringle\n",
      "I told my girl I’m single,\n",
      "I count numbers, that’s bingo\n",
      "Hot nigga, I can start a forest fire,\n",
      "She get low like low tires\n",
      "This killa music, that’s Michael Myers\n",
      "I’m so great like Tony Tiger\n",
      "They steal my style, that’s Winona Ryder\n",
      "BMX, my niggas riders\n",
      "Just added a tiger to my show rider\n",
      "--------------------\n",
      "<class 'bs4.element.NavigableString'>\n"
     ]
    },
    {
     "data": {
      "text/plain": [
       "'\\n'"
      ]
     },
     "metadata": {},
     "output_type": "display_data"
    },
    {
     "name": "stdout",
     "output_type": "stream",
     "text": [
      "Fuckin Crack\n",
      "------\n",
      "<class 'bs4.element.Tag'>\n",
      "----------\n",
      "[Hook]\n",
      "--------------------\n",
      "<class 'bs4.element.NavigableString'>\n"
     ]
    },
    {
     "data": {
      "text/plain": [
       "'\\n'"
      ]
     },
     "metadata": {},
     "output_type": "display_data"
    },
    {
     "name": "stdout",
     "output_type": "stream",
     "text": [
      "G Shit\" (with Chris Brown)\n",
      "------\n",
      "<class 'bs4.element.Tag'>\n",
      "----------\n",
      "[Tyga]\n",
      "haha you know a lot of girls say a lot of things to me\n",
      "saying they this and that\n",
      "but i aint listening\n",
      "cause im on sum g shit\n",
      "young money\n",
      "--------------------\n",
      "<class 'bs4.element.NavigableString'>\n"
     ]
    },
    {
     "data": {
      "text/plain": [
       "'\\n'"
      ]
     },
     "metadata": {},
     "output_type": "display_data"
    },
    {
     "name": "stdout",
     "output_type": "stream",
     "text": [
      "G Shit\" (with Chris Brown)\n",
      "------\n",
      "<class 'bs4.element.Tag'>\n",
      "----------\n",
      "[Tyga - Verse 1]\n",
      "uh im in this bitch till my eyes white\n",
      "they say im all hype\n",
      "miss me if you blink twice\n",
      "if ur head pussy right ima fuck u all night\n",
      "the rockstar young Beatle tell em good night\n",
      "kiss dada Momma love em about ma dolla\n",
      "space comma bills up in Benni Hanna\n",
      "ice water cash make my dick larger\n",
      "I sex harder make u sweat sauna\n",
      "haha dope nigga fuck dope bitches\n",
      "from the city were lonesome and dose dickies\n",
      "B side with the barbie dats 250\n",
      "let her kiss on ma neck but no hickies (no hickies)\n",
      "driveway like sincity make a movie with the star let the lights hit ya\n",
      "haha she think i aint gone get but im a fly nigga i aint trippin\n",
      "shawty so...\n",
      "--------------------\n",
      "<class 'bs4.element.NavigableString'>\n"
     ]
    },
    {
     "data": {
      "text/plain": [
       "'\\n'"
      ]
     },
     "metadata": {},
     "output_type": "display_data"
    },
    {
     "name": "stdout",
     "output_type": "stream",
     "text": [
      "G Shit\" (with Chris Brown)\n",
      "------\n",
      "<class 'bs4.element.Tag'>\n",
      "----------\n",
      "[Chris Brown - Chorus:]\n",
      "it really dont matter to me\n",
      "im lovin all these girls\n",
      "cuz all these girls love me under the sheets\n",
      "bout to party wid ya body\n",
      "im a freak money aint a thang thang and ima do ma thang thang\n",
      "im on sum g shit baby on sum g shit baby\n",
      "--------------------\n",
      "<class 'bs4.element.NavigableString'>\n"
     ]
    },
    {
     "data": {
      "text/plain": [
       "'\\n'"
      ]
     },
     "metadata": {},
     "output_type": "display_data"
    },
    {
     "name": "stdout",
     "output_type": "stream",
     "text": [
      "G Shit\" (with Chris Brown)\n",
      "------\n",
      "<class 'bs4.element.Tag'>\n",
      "----------\n",
      "[Chris Brown - Verse 2]\n",
      "haha yeah look Lou Vuitton red bottoms cuz she that nice\n",
      "her body stack right miss her if u blink twice\n",
      "and never compare her to the rest cuz she so far\n",
      "she got security with her I call her lonestar\n",
      "YSL fly as hell with them french tips\n",
      "lets hit the water set sail give me french kisses\n",
      "people flashing everywhere that we go\n",
      "ice cold nigga but the chain still rocky row\n",
      "ice cream im fuckin with them ice queens long hair pretty yellow bone lightning\n",
      "cuz shes exciting I take her clothes off I kiss it three times and then I doze off haha cuz I’m the best whoever did it and shes the best cuz she wid me\n",
      "she think I aint gone hit it but I’m a fly nigga I aint trippin shawty so\n",
      "--------------------\n",
      "<class 'bs4.element.NavigableString'>\n"
     ]
    },
    {
     "data": {
      "text/plain": [
       "'\\n'"
      ]
     },
     "metadata": {},
     "output_type": "display_data"
    },
    {
     "name": "stdout",
     "output_type": "stream",
     "text": [
      "G Shit\" (with Chris Brown)\n",
      "------\n",
      "<class 'bs4.element.Tag'>\n",
      "----------\n",
      "[Chris Brown - Chorus]\n",
      "--------------------\n",
      "<class 'bs4.element.NavigableString'>\n"
     ]
    },
    {
     "data": {
      "text/plain": [
       "'\\n'"
      ]
     },
     "metadata": {},
     "output_type": "display_data"
    },
    {
     "name": "stdout",
     "output_type": "stream",
     "text": [
      "G Shit\" (with Chris Brown)\n",
      "------\n",
      "<class 'bs4.element.Tag'>\n",
      "----------\n",
      "[Chris Brown - Verse]\n",
      "Fresh planes drive her to my jet-way\n",
      "1st class yeah thats where my chef stay\n",
      "I’m ahead of you niggas I skip 1 grade\n",
      "on islands and yachts with my louis shades\n",
      "--------------------\n",
      "<class 'bs4.element.NavigableString'>\n"
     ]
    },
    {
     "data": {
      "text/plain": [
       "'\\n'"
      ]
     },
     "metadata": {},
     "output_type": "display_data"
    },
    {
     "name": "stdout",
     "output_type": "stream",
     "text": [
      "G Shit\" (with Chris Brown)\n",
      "------\n",
      "<class 'bs4.element.Tag'>\n",
      "----------\n",
      "[Tyga - Verse]\n",
      "uh yeah but like Gucci Mane baby have sum lemonade\n",
      "umbrella drink dessert souffle\n",
      "patrone shot straight turn a nigga two-face\n",
      "hot drunk girls say they love my baby face\n",
      "--------------------\n",
      "<class 'bs4.element.NavigableString'>\n"
     ]
    },
    {
     "data": {
      "text/plain": [
       "'\\n'"
      ]
     },
     "metadata": {},
     "output_type": "display_data"
    },
    {
     "name": "stdout",
     "output_type": "stream",
     "text": [
      "G Shit\" (with Chris Brown)\n",
      "------\n",
      "<class 'bs4.element.Tag'>\n",
      "----------\n",
      "[Chris Brown]\n",
      "uh but I’ma still keep it G though (yeah)\n",
      "captain of my ship and I aint never wearing speedos (no)\n",
      "my herringbone on, she let me bone on\n",
      "poke her now chauffeur take her home\n",
      "--------------------\n",
      "<class 'bs4.element.NavigableString'>\n"
     ]
    },
    {
     "data": {
      "text/plain": [
       "'\\n'"
      ]
     },
     "metadata": {},
     "output_type": "display_data"
    },
    {
     "name": "stdout",
     "output_type": "stream",
     "text": [
      "G Shit\" (with Chris Brown)\n",
      "------\n",
      "<class 'bs4.element.Tag'>\n",
      "----------\n",
      "[Tyga]\n",
      "put it on my camera phone I know I’m wrong\n",
      "but I’m in too deep uh me alone\n",
      "she fall in love with every love song she wanna be in love uh\n",
      "--------------------\n",
      "<class 'bs4.element.NavigableString'>\n"
     ]
    },
    {
     "data": {
      "text/plain": [
       "'\\n'"
      ]
     },
     "metadata": {},
     "output_type": "display_data"
    },
    {
     "name": "stdout",
     "output_type": "stream",
     "text": [
      "G Shit\" (with Chris Brown)\n",
      "------\n",
      "<class 'bs4.element.Tag'>\n",
      "----------\n",
      "[Chris Brown - Chorus]\n",
      "--------------------\n",
      "<class 'bs4.element.NavigableString'>\n"
     ]
    },
    {
     "data": {
      "text/plain": [
       "'\\n'"
      ]
     },
     "metadata": {},
     "output_type": "display_data"
    },
    {
     "name": "stdout",
     "output_type": "stream",
     "text": [
      "<class 'bs4.element.NavigableString'>\n"
     ]
    },
    {
     "data": {
      "text/plain": [
       "'\\n'"
      ]
     },
     "metadata": {},
     "output_type": "display_data"
    },
    {
     "name": "stdout",
     "output_type": "stream",
     "text": [
      "Get Her Tho (feat. D-Lo)\n",
      "------\n",
      "<class 'bs4.element.Tag'>\n",
      "----------\n",
      "[Hook x2: D-Lo]\n",
      "Ayye Ayye, she used to fuck with my nigga, though\n",
      "I don't care nigga, shit, I'mma get her tho\n",
      "And when I get that ho, I'mma hit that ho\n",
      "And when I hit that ho, I'mma forget that ho\n",
      "--------------------\n",
      "<class 'bs4.element.NavigableString'>\n"
     ]
    },
    {
     "data": {
      "text/plain": [
       "'\\n'"
      ]
     },
     "metadata": {},
     "output_type": "display_data"
    },
    {
     "name": "stdout",
     "output_type": "stream",
     "text": [
      "Get Her Tho (feat. D-Lo)\n",
      "------\n",
      "<class 'bs4.element.Tag'>\n",
      "----------\n",
      "[D-Lo]\n",
      "After I hit her, I'mma quit her, on to the next\n",
      "Gold rapper, latex, I practice safe sex\n",
      "I'm Barry Bonds I hit the pussy on the first pitch\n",
      "Boy, I murdered her, yeah I'm a murderer\n",
      "Ayye, she used to fuck with my nigga\n",
      "But he didn't want her, though, cause she didn't want ho\n",
      "Rhinestones that's that fake shit\n",
      "Man I'm realer then a bitch without a face lift\n",
      "Dope dick, dope dick, that's what she yelling out\n",
      "Dope dick, dope dick, that's what I'm giving out\n",
      "Yeah your boy play bitches, like a PlayStation\n",
      "And I'mma hit the first night girl I ain't patient\n",
      "--------------------\n",
      "<class 'bs4.element.NavigableString'>\n"
     ]
    },
    {
     "data": {
      "text/plain": [
       "'\\n'"
      ]
     },
     "metadata": {},
     "output_type": "display_data"
    },
    {
     "name": "stdout",
     "output_type": "stream",
     "text": [
      "Get Her Tho (feat. D-Lo)\n",
      "------\n",
      "<class 'bs4.element.Tag'>\n",
      "----------\n",
      "[Hook x2]\n",
      "--------------------\n",
      "<class 'bs4.element.NavigableString'>\n"
     ]
    },
    {
     "data": {
      "text/plain": [
       "'\\n'"
      ]
     },
     "metadata": {},
     "output_type": "display_data"
    },
    {
     "name": "stdout",
     "output_type": "stream",
     "text": [
      "Get Her Tho (feat. D-Lo)\n",
      "------\n",
      "<class 'bs4.element.Tag'>\n",
      "----------\n",
      "[Tyga]\n",
      "--------------------\n",
      "<class 'bs4.element.NavigableString'>\n"
     ]
    },
    {
     "data": {
      "text/plain": [
       "'\\n'"
      ]
     },
     "metadata": {},
     "output_type": "display_data"
    },
    {
     "name": "stdout",
     "output_type": "stream",
     "text": [
      "<class 'bs4.element.NavigableString'>\n"
     ]
    },
    {
     "data": {
      "text/plain": [
       "'\\n'"
      ]
     },
     "metadata": {},
     "output_type": "display_data"
    },
    {
     "name": "stdout",
     "output_type": "stream",
     "text": [
      "Get Her Tho (feat. D-Lo)\n",
      "------\n",
      "<class 'bs4.element.Tag'>\n",
      "----------\n",
      "[Hook x2]\n",
      "--------------------\n",
      "<class 'bs4.element.NavigableString'>\n"
     ]
    },
    {
     "data": {
      "text/plain": [
       "'\\n'"
      ]
     },
     "metadata": {},
     "output_type": "display_data"
    },
    {
     "name": "stdout",
     "output_type": "stream",
     "text": [
      "Get Her Tho (feat. D-Lo)\n",
      "------\n",
      "<class 'bs4.element.Tag'>\n",
      "----------\n",
      "[Outro: D-Lo]\n",
      "European photo, true religions and Polo\n",
      "I'm leaning, off an 8 ounce of that syrup, that's the ocho\n",
      "Look, I'm probably with your ho bro; getting dough, though\n",
      "Replacing, never chasing, I don't care about no ho\n",
      "--------------------\n",
      "<class 'bs4.element.NavigableString'>\n"
     ]
    },
    {
     "data": {
      "text/plain": [
       "'\\n'"
      ]
     },
     "metadata": {},
     "output_type": "display_data"
    },
    {
     "name": "stdout",
     "output_type": "stream",
     "text": [
      "Get Loose\n",
      "------\n",
      "<class 'bs4.element.Tag'>\n",
      "----------\n",
      "[Hook:]\n",
      "Money buy the power, I could buy all the real shit\n",
      "I ain't never been a liar\n",
      "Walk up to yo bitch, told er I'd buy er\n",
      "Nigga talk shit, I pull out the fire\n",
      "--------------------\n",
      "<class 'bs4.element.NavigableString'>\n"
     ]
    },
    {
     "data": {
      "text/plain": [
       "'\\n'"
      ]
     },
     "metadata": {},
     "output_type": "display_data"
    },
    {
     "name": "stdout",
     "output_type": "stream",
     "text": [
      "Get Loose\n",
      "------\n",
      "<class 'bs4.element.Tag'>\n",
      "----------\n",
      "[Verse 1:]\n",
      "Bitches getting loose, ride through on yo block man\n",
      "In the drop, hair black, jeans, make a bitch cheat not care\n",
      "Young Cove in the pop, bills pop, bands\n",
      "Put a price on yo head, dollar sign,\n",
      "Die fast, live young nigga\n",
      "Got mills, ain't a dumb nigga\n",
      "Niggas got choppas like drums going dumb nigga\n",
      "Take er for the night, night stand then I'm done nigga\n",
      "Then I giver er back like, ha nigga\n",
      "I'm the shit, call the plumber\n",
      "I'm so lit, I don't know my number\n",
      "Walk up in the club, like what's yo dilemma?\n",
      "Started taking shots but I am a beginner\n",
      "Bottles in my both hands bitch\n",
      "Twerk, we don't slow dance to them slow jams\n",
      "All my niggas in the club doing the money dance\n",
      "Big booty clappin to the end, all night goddamn\n",
      "--------------------\n",
      "<class 'bs4.element.NavigableString'>\n"
     ]
    },
    {
     "data": {
      "text/plain": [
       "'\\n'"
      ]
     },
     "metadata": {},
     "output_type": "display_data"
    },
    {
     "name": "stdout",
     "output_type": "stream",
     "text": [
      "Get Loose\n",
      "------\n",
      "<class 'bs4.element.Tag'>\n",
      "----------\n",
      "[Hook:]\n",
      "Money buy the power, I could buy all the real shit\n",
      "I ain't never been a liar\n",
      "Walk up to yo bitch, told er I'd buy er\n",
      "Nigga talk shit, I pull out the fire\n",
      "--------------------\n",
      "<class 'bs4.element.NavigableString'>\n"
     ]
    },
    {
     "data": {
      "text/plain": [
       "'\\n'"
      ]
     },
     "metadata": {},
     "output_type": "display_data"
    },
    {
     "name": "stdout",
     "output_type": "stream",
     "text": [
      "Get Loose\n",
      "------\n",
      "<class 'bs4.element.Tag'>\n",
      "----------\n",
      "[Bridge:]\n",
      "Bitch 'cause I'm loose off the goose, goose\n",
      "Loose off the goose, goose\n",
      "Loose off the goose, goose\n",
      "Real shit, I ain't never been a liar\n",
      "Bitches getting loose\n",
      "--------------------\n",
      "<class 'bs4.element.NavigableString'>\n"
     ]
    },
    {
     "data": {
      "text/plain": [
       "'\\n'"
      ]
     },
     "metadata": {},
     "output_type": "display_data"
    },
    {
     "name": "stdout",
     "output_type": "stream",
     "text": [
      "Get Loose\n",
      "------\n",
      "<class 'bs4.element.Tag'>\n",
      "----------\n",
      "[Verse 2:]\n",
      "Loosing up in the backseat\n",
      "Got killers on the street, bitch life ain't a bitch\n",
      "And his beach house ain't cheap, got shooters like the heat\n",
      "Real motherfuckin G's, RIP Easy E.\n",
      "I T'd up, bitch let a nigga nut\n",
      "We can shoot realer, just a bang for yo work\n",
      "Right out niggas rough, it's the thuggers ruggers bound\n",
      "My niggas Rambo, Sylvester Stallone\n",
      "Gone, got bars, ain't gotta roam\n",
      "If she ain't giving dome I guess she gon be walking home\n",
      "Click clack two heels, turn it, don't make a noise\n",
      "When I'm down south, niggas say I'm that boy\n",
      "Good dawg, good for nothing but the cash\n",
      "100 on the dash, molly in the stash, fuck a price tag\n",
      "Smoke til I can't see nothing, call it gas mask\n",
      "She gon need a white flag when a nigga murder that ass\n",
      "--------------------\n",
      "<class 'bs4.element.NavigableString'>\n"
     ]
    },
    {
     "data": {
      "text/plain": [
       "'\\n'"
      ]
     },
     "metadata": {},
     "output_type": "display_data"
    },
    {
     "name": "stdout",
     "output_type": "stream",
     "text": [
      "Get Loose\n",
      "------\n",
      "<class 'bs4.element.Tag'>\n",
      "----------\n",
      "[Hook:]\n",
      "Money buy the power, I could buy all the real shit\n",
      "I ain't never been a liar\n",
      "Walk up to yo bitch, told er I'd buy er\n",
      "Nigga talk shit, I pull out the fire\n",
      "--------------------\n",
      "<class 'bs4.element.NavigableString'>\n"
     ]
    },
    {
     "data": {
      "text/plain": [
       "'\\n'"
      ]
     },
     "metadata": {},
     "output_type": "display_data"
    },
    {
     "name": "stdout",
     "output_type": "stream",
     "text": [
      "Get Loose\n",
      "------\n",
      "<class 'bs4.element.Tag'>\n",
      "----------\n",
      "[Bridge:]\n",
      "Bitch 'cause I'm loose off the goose, goose\n",
      "Loose off the goose, goose\n",
      "Loose off the goose, goose\n",
      "Real shit, I ain't never been a liar\n",
      "Bitches getting loose\n",
      "--------------------\n",
      "<class 'bs4.element.NavigableString'>\n"
     ]
    },
    {
     "data": {
      "text/plain": [
       "'\\n'"
      ]
     },
     "metadata": {},
     "output_type": "display_data"
    },
    {
     "name": "stdout",
     "output_type": "stream",
     "text": [
      "<class 'bs4.element.NavigableString'>\n"
     ]
    },
    {
     "data": {
      "text/plain": [
       "'\\n'"
      ]
     },
     "metadata": {},
     "output_type": "display_data"
    },
    {
     "name": "stdout",
     "output_type": "stream",
     "text": [
      "Get Loose\n",
      "------\n",
      "<class 'bs4.element.Tag'>\n",
      "----------\n",
      "[Hook:]\n",
      "Money buy the power, I could buy all the real shit\n",
      "I ain't never been a liar\n",
      "Walk up to yo bitch, told er I'd buy er\n",
      "Nigga talk shit, I pull out the fire\n",
      "--------------------\n",
      "<class 'bs4.element.NavigableString'>\n"
     ]
    },
    {
     "data": {
      "text/plain": [
       "'\\n'"
      ]
     },
     "metadata": {},
     "output_type": "display_data"
    },
    {
     "name": "stdout",
     "output_type": "stream",
     "text": [
      "<class 'bs4.element.NavigableString'>\n"
     ]
    },
    {
     "data": {
      "text/plain": [
       "'\\n'"
      ]
     },
     "metadata": {},
     "output_type": "display_data"
    },
    {
     "name": "stdout",
     "output_type": "stream",
     "text": [
      "Get Rich\n",
      "------\n",
      "<class 'bs4.element.Tag'>\n",
      "----------\n",
      "[Intro:]\n",
      "Have it, you really gotta have it!\n",
      "--------------------\n",
      "<class 'bs4.element.NavigableString'>\n"
     ]
    },
    {
     "data": {
      "text/plain": [
       "'\\n'"
      ]
     },
     "metadata": {},
     "output_type": "display_data"
    },
    {
     "name": "stdout",
     "output_type": "stream",
     "text": [
      "Get Rich\n",
      "------\n",
      "<class 'bs4.element.Tag'>\n",
      "----------\n",
      "[Hook:]\n",
      "Uh, getting money is a habit\n",
      "Nice cars at the crib, gotta have it\n",
      "Uh, and this is something for your bad bitch\n",
      "One time I'm a show you how to get rich!\n",
      "Uh, getting money is a habit\n",
      "Nice cars at the crib, gotta have it\n",
      "Uh, and this is something for your bad bitch\n",
      "One time I'm a show you how to get rich!\n",
      "Uh, show you how to get rich\n",
      "Uh, show you how to get rich\n",
      "Uh, getting money is a habit\n",
      "Nice cars at the crib, gotta have it!\n",
      "--------------------\n",
      "<class 'bs4.element.NavigableString'>\n"
     ]
    },
    {
     "data": {
      "text/plain": [
       "'\\n'"
      ]
     },
     "metadata": {},
     "output_type": "display_data"
    },
    {
     "name": "stdout",
     "output_type": "stream",
     "text": [
      "<class 'bs4.element.NavigableString'>\n"
     ]
    },
    {
     "data": {
      "text/plain": [
       "'\\n'"
      ]
     },
     "metadata": {},
     "output_type": "display_data"
    },
    {
     "name": "stdout",
     "output_type": "stream",
     "text": [
      "Get Rich\n",
      "------\n",
      "<class 'bs4.element.Tag'>\n",
      "----------\n",
      "[Hook:]\n",
      "Uh, getting money is a habit\n",
      "Nice cars at the crib, gotta have it\n",
      "Uh, and this is something for your bad bitch\n",
      "One time I'm a show you how to get rich!\n",
      "Uh, getting money is a habit\n",
      "Nice cars at the crib, gotta have it\n",
      "Uh, and this is something for your bad bitch\n",
      "One time I'm a show you how to get rich!\n",
      "Uh, show you how to get rich\n",
      "Uh, show you how to get rich\n",
      "Uh, getting money is a habit\n",
      "Nice cars at the crib, gotta have it!\n",
      "--------------------\n",
      "<class 'bs4.element.NavigableString'>\n"
     ]
    },
    {
     "data": {
      "text/plain": [
       "'\\n'"
      ]
     },
     "metadata": {},
     "output_type": "display_data"
    },
    {
     "name": "stdout",
     "output_type": "stream",
     "text": [
      "<class 'bs4.element.NavigableString'>\n"
     ]
    },
    {
     "data": {
      "text/plain": [
       "'\\n'"
      ]
     },
     "metadata": {},
     "output_type": "display_data"
    },
    {
     "name": "stdout",
     "output_type": "stream",
     "text": [
      "Get Rich\n",
      "------\n",
      "<class 'bs4.element.Tag'>\n",
      "----------\n",
      "[Hook:]\n",
      "Uh, getting money is a habit\n",
      "Nice cars at the crib, gotta have it\n",
      "Uh, and this is something for your bad bitch\n",
      "One time I'm a show you how to get rich!\n",
      "Uh, getting money is a habit\n",
      "Nice cars at the crib, gotta have it\n",
      "Uh, and this is something for your bad bitch\n",
      "One time I'm a show you how to get rich!\n",
      "Uh, show you how to get rich\n",
      "Uh, show you how to get rich\n",
      "Uh, getting money is a habit\n",
      "Nice cars ant the crib, gotta have it!\n",
      "It's so amazing!\n",
      "Living life like a king is so amazing!\n",
      "--------------------\n",
      "<class 'bs4.element.NavigableString'>\n"
     ]
    },
    {
     "data": {
      "text/plain": [
       "'\\n'"
      ]
     },
     "metadata": {},
     "output_type": "display_data"
    },
    {
     "name": "stdout",
     "output_type": "stream",
     "text": [
      "<class 'bs4.element.NavigableString'>\n"
     ]
    },
    {
     "data": {
      "text/plain": [
       "'\\n'"
      ]
     },
     "metadata": {},
     "output_type": "display_data"
    },
    {
     "name": "stdout",
     "output_type": "stream",
     "text": [
      "Gettin' Gettin\n",
      "------\n",
      "<class 'bs4.element.Tag'>\n",
      "----------\n",
      "[Tyga:]\n",
      "Hey, hey, what's going on in the world today?\n",
      "Can it be a way I pronounce my age?\n",
      "Like, hey lil' mama,\n",
      "Come my way,\n",
      "Heard you clean up good, baby,\n",
      "Be my maid,\n",
      "Oh, you got a tarp?\n",
      "Black? Silver car,\n",
      "Pick one, plenty room in my shopping cart,\n",
      "But no piece of meat can hurt my heart,\n",
      "Translate: I'm in a veggie-race,\n",
      "All I eat is green-colored cake,\n",
      "If I fade away,\n",
      "It'd be the last thing that I ate,\n",
      "Oh my my,\n",
      "Dollar signs,\n",
      "It's alive!\n",
      "Frankenstein!\n",
      "Tyga,\n",
      "I'm,\n",
      "Einstein,\n",
      "Rappin' crimes,\n",
      "Flier guy,\n",
      "I'm make them angels tired,\n",
      "My whip talk,\n",
      "Baby like look at my fucking dial! \n",
      "--------------------\n",
      "<class 'bs4.element.NavigableString'>\n"
     ]
    },
    {
     "data": {
      "text/plain": [
       "'\\n'"
      ]
     },
     "metadata": {},
     "output_type": "display_data"
    },
    {
     "name": "stdout",
     "output_type": "stream",
     "text": [
      "Gettin' Gettin\n",
      "------\n",
      "<class 'bs4.element.Tag'>\n",
      "----------\n",
      "[Chorus]\n",
      "Gettin,' gettin,'\n",
      "Every,\n",
      "Every day,\n",
      "I'm,\n",
      "Gettin,' gettin,'\n",
      "Every,\n",
      "Every day,\n",
      "I'm,\n",
      "Gettin,' gettin,'\n",
      "Every,\n",
      "Every day,\n",
      "I'm,\n",
      "Gettin,' gettin,'\n",
      "Every,\n",
      "Every dollar\n",
      "--------------------\n",
      "<class 'bs4.element.NavigableString'>\n"
     ]
    },
    {
     "data": {
      "text/plain": [
       "'\\n'"
      ]
     },
     "metadata": {},
     "output_type": "display_data"
    },
    {
     "name": "stdout",
     "output_type": "stream",
     "text": [
      "Gettin' Gettin\n",
      "------\n",
      "<class 'bs4.element.Tag'>\n",
      "----------\n",
      "[Gator:]\n",
      "Hey, yo, how you doing? My name is Gator\n",
      "All around the room, I be gettin' that paper,\n",
      "Boy oh boy, I like to spin this,\n",
      "chick, and the tin it,\n",
      "then I kicked it,\n",
      "I pa-poo-pa-pa for that spinach,\n",
      "and it makes you feel like I'm trippin,' (I'm not)\n",
      "'Cause you ain't taking the trips I'm trippin,' (I'm over here)\n",
      "No nightmares, everyday is Christmas,\n",
      "I'll buy you what you want, bitch,\n",
      "Lay off the shit-list,\n",
      "I'm gettin' and gettin,'\n",
      "And don't you forget this,\n",
      "Every dollar that I see,\n",
      "While my niggas pop bottles in the VIP,\n",
      "'Cause you don't know no better,\n",
      "But to get that cheddar,\n",
      "Hauntin' every day,\n",
      "Yeah, that's forever\n",
      "Money, money, money,\n",
      "Yeah, that's my schedule,\n",
      "You talk too cheap,\n",
      "You talk to ever\n",
      "--------------------\n",
      "<class 'bs4.element.NavigableString'>\n"
     ]
    },
    {
     "data": {
      "text/plain": [
       "'\\n'"
      ]
     },
     "metadata": {},
     "output_type": "display_data"
    },
    {
     "name": "stdout",
     "output_type": "stream",
     "text": [
      "Gettin' Gettin\n",
      "------\n",
      "<class 'bs4.element.Tag'>\n",
      "----------\n",
      "[Chorus]\n",
      "Gettin,' gettin,'\n",
      "Every,\n",
      "Every day,\n",
      "I'm,\n",
      "Gettin,' gettin,'\n",
      "Every,\n",
      "Every day,\n",
      "I'm,\n",
      "Gettin,' gettin,'\n",
      "Every,\n",
      "Every day,\n",
      "I'm,\n",
      "Gettin,' gettin,'\n",
      "Every,\n",
      "Every dollar\n",
      "--------------------\n",
      "<class 'bs4.element.NavigableString'>\n"
     ]
    },
    {
     "data": {
      "text/plain": [
       "'\\n'"
      ]
     },
     "metadata": {},
     "output_type": "display_data"
    },
    {
     "name": "stdout",
     "output_type": "stream",
     "text": [
      "Gettin' Gettin\n",
      "------\n",
      "<class 'bs4.element.Tag'>\n",
      "----------\n",
      "[Tyga:]\n",
      "The song is not over.\n",
      "We just have to take a quick intermission.\n",
      "Whoo, tired.\n",
      "[Music stops]\n",
      "Bring it back.\n",
      "[Music resumes]\n",
      "--------------------\n",
      "<class 'bs4.element.NavigableString'>\n"
     ]
    },
    {
     "data": {
      "text/plain": [
       "'\\n'"
      ]
     },
     "metadata": {},
     "output_type": "display_data"
    },
    {
     "name": "stdout",
     "output_type": "stream",
     "text": [
      "Gettin' Gettin\n",
      "------\n",
      "<class 'bs4.element.Tag'>\n",
      "----------\n",
      "[Chorus]\n",
      "Gettin,' gettin,'\n",
      "Every,\n",
      "Every day,\n",
      "I'm,\n",
      "Gettin,' gettin,'\n",
      "Every,\n",
      "Every day,\n",
      "I'm,\n",
      "Gettin,' gettin,'\n",
      "Every,\n",
      "Every day, (Oh, oh)\n",
      "I'm,\n",
      "Gettin,' gettin,'\n",
      "Every,\n",
      "Every dollar (Oh)\n",
      "--------------------\n",
      "<class 'bs4.element.NavigableString'>\n"
     ]
    },
    {
     "data": {
      "text/plain": [
       "'\\n'"
      ]
     },
     "metadata": {},
     "output_type": "display_data"
    },
    {
     "name": "stdout",
     "output_type": "stream",
     "text": [
      "<class 'bs4.element.NavigableString'>\n"
     ]
    },
    {
     "data": {
      "text/plain": [
       "'\\n'"
      ]
     },
     "metadata": {},
     "output_type": "display_data"
    },
    {
     "name": "stdout",
     "output_type": "stream",
     "text": [
      "Gettin' Gettin\n",
      "------\n",
      "<class 'bs4.element.Tag'>\n",
      "----------\n",
      "[Tyga:]\n",
      "I'm getting every dollar,\n",
      "I could do it with eyes closed,\n",
      "And I'm waiting on this check to come,\n",
      "When it get here motherfuckers going crazy,\n",
      "Like the thousand-year ten-thousand-aire,\n",
      "I ain't hurtin' no-one when I put it in the air,\n",
      "Them just self-made out of your age,\n",
      "Tell the old-head to go to bed,\n",
      "'Cause I don't hear your marketing highness,\n",
      "I hear cheese when I sing,\n",
      "Why Z, is your skill grade of a G?\n",
      "I'm still on tour,\n",
      "Haters, you know where to find me,\n",
      "Haters, you know where to find me,\n",
      "--------------------\n",
      "<class 'bs4.element.NavigableString'>\n"
     ]
    },
    {
     "data": {
      "text/plain": [
       "'\\n'"
      ]
     },
     "metadata": {},
     "output_type": "display_data"
    },
    {
     "name": "stdout",
     "output_type": "stream",
     "text": [
      "<class 'bs4.element.NavigableString'>\n"
     ]
    },
    {
     "data": {
      "text/plain": [
       "'\\n'"
      ]
     },
     "metadata": {},
     "output_type": "display_data"
    },
    {
     "name": "stdout",
     "output_type": "stream",
     "text": [
      "<class 'bs4.element.NavigableString'>\n"
     ]
    },
    {
     "data": {
      "text/plain": [
       "'\\n'"
      ]
     },
     "metadata": {},
     "output_type": "display_data"
    },
    {
     "name": "stdout",
     "output_type": "stream",
     "text": [
      "Girls & Guitars (feat. Kirko Bangz)\n",
      "------\n",
      "<class 'bs4.element.Tag'>\n",
      "----------\n",
      "[Verse 1: Kirko Bangz]\n",
      "Uh, I be that nigga from the east side\n",
      "Put my daughter up in your pussy, I don’t need no prize\n",
      "And you don’t need those guys\n",
      "These versace shades you don’t need those guys\n",
      "I’m the reason that you left that guy\n",
      "Now and I check the guy if he get outta line\n",
      "And I ain’t here to stress you out, I’m here to stratch it out\n",
      "And I’mma make it mine and I can put you in the spotlight\n",
      "I can put you I can put you in the limelight\n",
      "Yeah girl tell me when the time right\n",
      "That pussy cold I’mma hit it with my klondike\n",
      "Yeah and I just wanna fuck with you, them other girls can fuck with you\n",
      "And that nigga he in love with you, but I just wanna bust it lose \n",
      "--------------------\n",
      "<class 'bs4.element.NavigableString'>\n"
     ]
    },
    {
     "data": {
      "text/plain": [
       "'\\n'"
      ]
     },
     "metadata": {},
     "output_type": "display_data"
    },
    {
     "name": "stdout",
     "output_type": "stream",
     "text": [
      "Girls & Guitars (feat. Kirko Bangz)\n",
      "------\n",
      "<class 'bs4.element.Tag'>\n",
      "----------\n",
      "[Hook x2]\n",
      "I love the way that you feel\n",
      "I love the way that you talk\n",
      "I love it cause you so chill\n",
      "I love the way that you walk\n",
      "I’m so in love with your style\n",
      "And you been working so hard\n",
      "So I’mma make my way to your crib\n",
      "And let you play this guitar \n",
      "--------------------\n",
      "<class 'bs4.element.NavigableString'>\n"
     ]
    },
    {
     "data": {
      "text/plain": [
       "'\\n'"
      ]
     },
     "metadata": {},
     "output_type": "display_data"
    },
    {
     "name": "stdout",
     "output_type": "stream",
     "text": [
      "Girls & Guitars (feat. Kirko Bangz)\n",
      "------\n",
      "<class 'bs4.element.Tag'>\n",
      "----------\n",
      "[Verse 2: Tyga]\n",
      "Uhh back it up, I love it when your jeans show your panties, uh\n",
      "And I’m grabbing on your waist cause I’m hard as fuck\n",
      "Uh I don’t want to waist time, we can take it slow\n",
      "Couple overnights, couple x and o’s\n",
      "Now I gotta take a flight now you’re back at home\n",
      "Can’t sleep at all, cause you alone\n",
      "Ain’t comfortable you need me right there right there\n",
      "I love how your booty soft\n",
      "Man I really wanna take you down\n",
      "And I love how she ride the top right after sex\n",
      "And she right with yall, true, man I’m really loving you\n",
      "Really wanna put my tongue on you\n",
      "Ain’t no telling what the tongue will do\n",
      "Make the orgasm last longer then it’s supposed too man \n",
      "--------------------\n",
      "<class 'bs4.element.NavigableString'>\n"
     ]
    },
    {
     "data": {
      "text/plain": [
       "'\\n'"
      ]
     },
     "metadata": {},
     "output_type": "display_data"
    },
    {
     "name": "stdout",
     "output_type": "stream",
     "text": [
      "Girls & Guitars (feat. Kirko Bangz)\n",
      "------\n",
      "<class 'bs4.element.Tag'>\n",
      "----------\n",
      "[Hook x2]\n",
      "--------------------\n",
      "<class 'bs4.element.NavigableString'>\n"
     ]
    },
    {
     "data": {
      "text/plain": [
       "'\\n'"
      ]
     },
     "metadata": {},
     "output_type": "display_data"
    },
    {
     "name": "stdout",
     "output_type": "stream",
     "text": [
      "Girls & Guitars (feat. Kirko Bangz)\n",
      "------\n",
      "<class 'bs4.element.Tag'>\n",
      "----------\n",
      "[Outro]\n",
      "Say anything you want\n",
      "Girl you know that you can have it baby (have it girl)\n",
      "I got everything you need, Ain’t even gotta ask me baby \n",
      "--------------------\n",
      "<class 'bs4.element.NavigableString'>\n"
     ]
    },
    {
     "data": {
      "text/plain": [
       "'\\n'"
      ]
     },
     "metadata": {},
     "output_type": "display_data"
    },
    {
     "name": "stdout",
     "output_type": "stream",
     "text": [
      "<class 'bs4.element.NavigableString'>\n"
     ]
    },
    {
     "data": {
      "text/plain": [
       "'\\n'"
      ]
     },
     "metadata": {},
     "output_type": "display_data"
    },
    {
     "name": "stdout",
     "output_type": "stream",
     "text": [
      "Good Day (feat. Lil Wayne & Meek Mill)\n",
      "------\n",
      "<class 'bs4.element.Tag'>\n",
      "----------\n",
      "[Intro: Lil Wayne]\n",
      "I ain’t had to kill nobody\n",
      "I ain’t had to kill nobody\n",
      "--------------------\n",
      "<class 'bs4.element.NavigableString'>\n"
     ]
    },
    {
     "data": {
      "text/plain": [
       "'\\n'"
      ]
     },
     "metadata": {},
     "output_type": "display_data"
    },
    {
     "name": "stdout",
     "output_type": "stream",
     "text": [
      "Good Day (feat. Lil Wayne & Meek Mill)\n",
      "------\n",
      "<class 'bs4.element.Tag'>\n",
      "----------\n",
      "[Bridge: Lil Wayne]\n",
      "Today was a good day\n",
      "I ain’t had to kill nobody\n",
      "I ain’t had to kill nobody\n",
      "I ain’t had to kill nobody\n",
      "--------------------\n",
      "<class 'bs4.element.NavigableString'>\n"
     ]
    },
    {
     "data": {
      "text/plain": [
       "'\\n'"
      ]
     },
     "metadata": {},
     "output_type": "display_data"
    },
    {
     "name": "stdout",
     "output_type": "stream",
     "text": [
      "Good Day (feat. Lil Wayne & Meek Mill)\n",
      "------\n",
      "<class 'bs4.element.Tag'>\n",
      "----------\n",
      "[Verse 1: Tyga]\n",
      "T-Raw killa, that nigga catpillar\n",
      "One hitter, only hit bad bitches that’s thriller\n",
      "King Hakim, YM last king\n",
      "Nigga sending out shouts, I’mma need a Jordan ring\n",
      "Fuck you mean this is really mean\n",
      "Gotti after life\n",
      "Future looking bright, bitches crack tongue on the pipe\n",
      "I don’t wanna see you twerk, we about that fuck life\n",
      "Got a Asian ho, pussy go deep, Jerry Rice\n",
      "I’m a dope nigga, give a D, dope dealer\n",
      "Don’t play with the grave digger, that’s RZA\n",
      "Aks my bitch, she tell you ain’t no nigga\n",
      "Like the one I got, dick game gorilla\n",
      "Bag in my bag like a Philly nigga clip\n",
      "Came extended grip, armor’s with the ruga, easy ruthless\n",
      "Nigga with a attitude, my enemies is 2 shits\n",
      "Don’t give 2 shits but you gon make a nigga pull it\n",
      "But shit\n",
      "--------------------\n",
      "<class 'bs4.element.NavigableString'>\n"
     ]
    },
    {
     "data": {
      "text/plain": [
       "'\\n'"
      ]
     },
     "metadata": {},
     "output_type": "display_data"
    },
    {
     "name": "stdout",
     "output_type": "stream",
     "text": [
      "Good Day (feat. Lil Wayne & Meek Mill)\n",
      "------\n",
      "<class 'bs4.element.Tag'>\n",
      "----------\n",
      "[Bridge]\n",
      "--------------------\n",
      "<class 'bs4.element.NavigableString'>\n"
     ]
    },
    {
     "data": {
      "text/plain": [
       "'\\n'"
      ]
     },
     "metadata": {},
     "output_type": "display_data"
    },
    {
     "name": "stdout",
     "output_type": "stream",
     "text": [
      "Good Day (feat. Lil Wayne & Meek Mill)\n",
      "------\n",
      "<class 'bs4.element.Tag'>\n",
      "----------\n",
      "[Hook: Lil Wayne]\n",
      "Shoot you in yo memory bank, memorize it\n",
      "Today was a good day\n",
      "Cuz I ain’t had to kill nobody\n",
      "No I ain’t had to kill nobody\n",
      "But I shoot you in yo memory bank, memorize it\n",
      "--------------------\n",
      "<class 'bs4.element.NavigableString'>\n"
     ]
    },
    {
     "data": {
      "text/plain": [
       "'\\n'"
      ]
     },
     "metadata": {},
     "output_type": "display_data"
    },
    {
     "name": "stdout",
     "output_type": "stream",
     "text": [
      "Good Day (feat. Lil Wayne & Meek Mill)\n",
      "------\n",
      "<class 'bs4.element.Tag'>\n",
      "----------\n",
      "[Verse 2: Lil Wayne]\n",
      "Duct tape, duct tape\n",
      "Cover his mouth with duct tape\n",
      "Check a nigga like a motherfuckin update\n",
      "Where the safe nigga point to it\n",
      "I catch a case, I wanna know who threw it\n",
      "And my main bitches speak fluent\n",
      "I keep the feds busy\n",
      "I got the bread, never fed pigeons\n",
      "Even though I get pissed off I shit on y'all\n",
      "We gon sip champagne out your skull\n",
      "I can’t stand these niggas, I’m bout to fall\n",
      "Got my girl her shoes with the spikes, volleyball\n",
      "Fuck with Holygrove, it’s gon be a holocaust\n",
      "Hoes see me shinin, now they actin like a moth\n",
      "YMCM bizzy, why I'm always busy\n",
      "I done got too big headed for the crown to fit me\n",
      "But I got my niggas with me and we got our skateboards\n",
      "TTYL, thank thank You Lord\n",
      "Amen, cuz uh\n",
      "--------------------\n",
      "<class 'bs4.element.NavigableString'>\n"
     ]
    },
    {
     "data": {
      "text/plain": [
       "'\\n'"
      ]
     },
     "metadata": {},
     "output_type": "display_data"
    },
    {
     "name": "stdout",
     "output_type": "stream",
     "text": [
      "Good Day (feat. Lil Wayne & Meek Mill)\n",
      "------\n",
      "<class 'bs4.element.Tag'>\n",
      "----------\n",
      "[Bridge]\n",
      "--------------------\n",
      "<class 'bs4.element.NavigableString'>\n"
     ]
    },
    {
     "data": {
      "text/plain": [
       "'\\n'"
      ]
     },
     "metadata": {},
     "output_type": "display_data"
    },
    {
     "name": "stdout",
     "output_type": "stream",
     "text": [
      "Good Day (feat. Lil Wayne & Meek Mill)\n",
      "------\n",
      "<class 'bs4.element.Tag'>\n",
      "----------\n",
      "[Hook]\n",
      "--------------------\n",
      "<class 'bs4.element.NavigableString'>\n"
     ]
    },
    {
     "data": {
      "text/plain": [
       "'\\n'"
      ]
     },
     "metadata": {},
     "output_type": "display_data"
    },
    {
     "name": "stdout",
     "output_type": "stream",
     "text": [
      "Good Day (feat. Lil Wayne & Meek Mill)\n",
      "------\n",
      "<class 'bs4.element.Tag'>\n",
      "----------\n",
      "[Verse 3: Meek Mill]\n",
      "My dawg hit me yesterday, got 15 keys\n",
      "And he gon let em all go for 15 G’s\n",
      "She said she want a perc I look at her like bitch please\n",
      "And I show that ho up it like you ain’t tryna flip these\n",
      "Yea I’m back nigga\n",
      "Sellin all these bricks\n",
      "And if my homies sell you one you better tell nobody shit\n",
      "I tell them I’m back nigga\n",
      "Rockin all these jewels and I be ridin through my hood like I ain’t got nothing to lose, shit\n",
      "You thinking because I rap I won’t go buy them bricks\n",
      "Give em to my dawg and let him do all kind of shit\n",
      "Like take a point out, then put a point in\n",
      "I fuck yo main ho and all my homies joined in\n",
      "I’m getting money, must be the Iluminati\n",
      "They think I signed up cuz I just bought a new Ferrari\n",
      "But they said they want my mind, soul and my body\n",
      "And I looked at that nigga crazy and then I shot him (BAH)\n",
      "--------------------\n",
      "<class 'bs4.element.NavigableString'>\n"
     ]
    },
    {
     "data": {
      "text/plain": [
       "'\\n'"
      ]
     },
     "metadata": {},
     "output_type": "display_data"
    },
    {
     "name": "stdout",
     "output_type": "stream",
     "text": [
      "Good Day (feat. Lil Wayne & Meek Mill)\n",
      "------\n",
      "<class 'bs4.element.Tag'>\n",
      "----------\n",
      "[Bridge]\n",
      "--------------------\n",
      "<class 'bs4.element.NavigableString'>\n"
     ]
    },
    {
     "data": {
      "text/plain": [
       "'\\n'"
      ]
     },
     "metadata": {},
     "output_type": "display_data"
    },
    {
     "name": "stdout",
     "output_type": "stream",
     "text": [
      "Good Day (feat. Lil Wayne & Meek Mill)\n",
      "------\n",
      "<class 'bs4.element.Tag'>\n",
      "----------\n",
      "[Hook]\n",
      "--------------------\n",
      "<class 'bs4.element.NavigableString'>\n"
     ]
    },
    {
     "data": {
      "text/plain": [
       "'\\n'"
      ]
     },
     "metadata": {},
     "output_type": "display_data"
    },
    {
     "name": "stdout",
     "output_type": "stream",
     "text": [
      "Hard In The Paint\n",
      "------\n",
      "<class 'bs4.element.Tag'>\n",
      "----------\n",
      "[Tyga:]\n",
      "I ain't never been cheap\n",
      "I spend it all\n",
      "Never made Varsity but I fucking ball\n",
      "14 fuck school I'm a rapper dawg\n",
      "Snap back boy take that fucking fitted off\n",
      "Fall to they knees plead for their right to breath\n",
      "Lord please devour all my enemies\n",
      "That was Pac talking Bitch now back up off me\n",
      "I'm that yellow gold boss and you looking bossy\n",
      "Walk the water if I could bitch I think I'm Moses\n",
      "Tell em shut the fuck up with that comotion\n",
      "I'm counting money get enough, get a promotion\n",
      "I sizzling up, hotter than a bowl of momma porridge\n",
      "Whole body covered in green like Dinosaurus\n",
      "Gimme neck, baby bend all your spinal chords\n",
      "Uh uh, [?] ass goofy\n",
      "Tryna blend in like a motherfucking smoker\n",
      "Take a seat you fucking up the movie\n",
      "I'm on the couch standing while you staring at the movement\n",
      "Young Money bitch I do this\n",
      "Hand in my mind both sides one lie two crimes\n",
      "Otherside don't fire\n",
      "Fully dazed like a dream I ain't moving bitch\n",
      "We grooving [?]\n",
      "Fully trippin I could prove it\n",
      "Switch blade where my boot is\n",
      "All that sweet talk leave a nigga toothless\n",
      "Now you goofy\n",
      "I'm an asshole and my car dufus\n",
      "Mikey rock chucks like the cool kids\n",
      "Bitch it's so dangerous\n",
      "Haters envy me cause they angry\n",
      "So you want that beef\n",
      "Than the bitch I'm arranging it\n",
      "More famous than these no name niggas\n",
      "That you hanging with\n",
      "All my homies on like the cable is\n",
      "Say seiko watch TV Tyga psycho\n",
      "Don't play tyco, 50 tyson I'll bite you\n",
      "No license still driving\n",
      "Used to lease it now I buy it\n",
      "Hard cash blood diamonds\n",
      "Niggas violent baby's crying\n",
      "Mr Niceguy\n",
      "Come sell the product\n",
      "I'm a a niceguy\n",
      "But I never went to college\n",
      "Can't live long in imagination\n",
      "Don't compare me to no basic bitch\n",
      "I'm better stop debating motherfucka\n",
      "Motherfucka\n",
      "(Well done)\n",
      "--------------------\n",
      "<class 'bs4.element.NavigableString'>\n"
     ]
    },
    {
     "data": {
      "text/plain": [
       "'\\n'"
      ]
     },
     "metadata": {},
     "output_type": "display_data"
    },
    {
     "name": "stdout",
     "output_type": "stream",
     "text": [
      "Heisman (feat. Honey Cocaine)\n",
      "------\n",
      "<class 'bs4.element.Tag'>\n",
      "----------\n",
      "[Honey Cocaine]\n",
      "Bitch I'm Honey Cocaine bout to bring in some pain\n",
      "All my haters like a choir they all singing my name\n",
      "Ain't got a heart for a broad that's the rule of the game\n",
      "Now you a fool if you aim, I'll put a tool to ya brain\n",
      "I'm bout to get it, then spend it if I said it I meant it\n",
      "Fuck your feelings, taste my weapons act like a bitch I'll erase yo blessings yo\n",
      "You are not familiar with me if you comic in a move bitch your visitor is me\n",
      "--------------------\n",
      "<class 'bs4.element.NavigableString'>\n"
     ]
    },
    {
     "data": {
      "text/plain": [
       "'\\n'"
      ]
     },
     "metadata": {},
     "output_type": "display_data"
    },
    {
     "name": "stdout",
     "output_type": "stream",
     "text": [
      "Heisman (feat. Honey Cocaine)\n",
      "------\n",
      "<class 'bs4.element.Tag'>\n",
      "----------\n",
      "[Tyga]\n",
      "Ahh, its that drop top Phantom chop all gold Rolly tock\n",
      "Fuck yo fans, fuck a cop all my bitches betty bops\n",
      "Betty boop tittys out gangsta shit punch you in yo mouth\n",
      "Nigga I don't know what you talkin bout\n",
      "Flossin now you need denist now auugh\n",
      "Fuck around and Rodney King the beat 'bout that war like Vietnemese\n",
      "Feeling froggy nigga leap, I'm that nigga, you obselete\n",
      "I'm in the game you know P-T, R-E-C my swa-a-g\n",
      "Only way you copying me nigga\n",
      "--------------------\n",
      "<class 'bs4.element.NavigableString'>\n"
     ]
    },
    {
     "data": {
      "text/plain": [
       "'\\n'"
      ]
     },
     "metadata": {},
     "output_type": "display_data"
    },
    {
     "name": "stdout",
     "output_type": "stream",
     "text": [
      "Heisman (feat. Honey Cocaine)\n",
      "------\n",
      "<class 'bs4.element.Tag'>\n",
      "----------\n",
      "[Honey Cocaine]\n",
      "Asian bitch on another degree\n",
      "Give me some space move off my place bitch I'm just trynna breathe\n",
      "Now if you see me around your ways don't holla at me\n",
      "I just cant waste all my time cause I be eating these beats\n",
      "Listen you rats here just a count for me you ain't me homie you just act like me\n",
      "Well you should watch your actions please cause there might be some casualties (auugh)\n",
      "They about to witness it, last kings but I'm still on my queen shit (schwag)\n",
      "--------------------\n",
      "<class 'bs4.element.NavigableString'>\n"
     ]
    },
    {
     "data": {
      "text/plain": [
       "'\\n'"
      ]
     },
     "metadata": {},
     "output_type": "display_data"
    },
    {
     "name": "stdout",
     "output_type": "stream",
     "text": [
      "Heisman (feat. Honey Cocaine)\n",
      "------\n",
      "<class 'bs4.element.Tag'>\n",
      "----------\n",
      "[Tyga]\n",
      "Aim at yo man brain just for saying I'm insane and yo girl give me neck\n",
      "Hang man I ain't playing I never did lie lay around and open yo thighs\n",
      "Nigga gone pop like fish gone fry, niggas talking greasy like the shit gone slide\n",
      "Wow high 5 slap yo face, change yo disguise\n",
      "I work hard for the money, money don't ever come in yo life\n",
      "A bastard right when you lie everybody wanna be just like\n",
      "Middle finger to the middle of yo eyes, young young ty T-Raww need a heisman\n",
      "--------------------\n",
      "<class 'bs4.element.NavigableString'>\n"
     ]
    },
    {
     "data": {
      "text/plain": [
       "'\\n'"
      ]
     },
     "metadata": {},
     "output_type": "display_data"
    },
    {
     "name": "stdout",
     "output_type": "stream",
     "text": [
      "Heisman (Part 2) (feat. Honey Cocaine)\n",
      "------\n",
      "<class 'bs4.element.Tag'>\n",
      "----------\n",
      "[Tyga]\n",
      "Bitch, it's T-Raww, blood on my paws\n",
      "Big booty chick back a nigga to the wall\n",
      "Never get involved, murder every bar\n",
      "Shit so illegal, get a green card\n",
      "Different cars, different from y'all\n",
      "I work hard, you work at the mall\n",
      "Pass a bitch off like my nigga John Wall\n",
      "Fuck her in the dark, gimme the light, Sean Paul\n",
      "Yeah, bitch I do this shit\n",
      "Colder than a motherfucking penguin lip\n",
      "And my bitch pussy fire gotta extinguish shit, Lebron James and shit\n",
      "Got heat super freak Rick James ya bitch, leave a stain and shit\n",
      "On ya couch in ya house like brotherman\n",
      "Hanging like Mr. Cooper hand, damn.\n",
      "--------------------\n",
      "<class 'bs4.element.NavigableString'>\n"
     ]
    },
    {
     "data": {
      "text/plain": [
       "'\\n'"
      ]
     },
     "metadata": {},
     "output_type": "display_data"
    },
    {
     "name": "stdout",
     "output_type": "stream",
     "text": [
      "Heisman (Part 2) (feat. Honey Cocaine)\n",
      "------\n",
      "<class 'bs4.element.Tag'>\n",
      "----------\n",
      "[Chorus]\n",
      "Posing, Heisman [x3]\n",
      "--------------------\n",
      "<class 'bs4.element.NavigableString'>\n"
     ]
    },
    {
     "data": {
      "text/plain": [
       "'\\n'"
      ]
     },
     "metadata": {},
     "output_type": "display_data"
    },
    {
     "name": "stdout",
     "output_type": "stream",
     "text": [
      "Heisman (Part 2) (feat. Honey Cocaine)\n",
      "------\n",
      "<class 'bs4.element.Tag'>\n",
      "----------\n",
      "[Honey Cocaine]\n",
      "Yo, got a Asian bitch on my left side\n",
      "Another Asian bitch, right, right side\n",
      "They might send your ass off to the next side\n",
      "Bitch hold your damn breath 'cause you might die\n",
      "Got a group of bad bitches and I feel good\n",
      "Oh you're hungry? Too bad 'cause my meal's good\n",
      "And I shouldn't beat a broad, yet I still would\n",
      "But I don't tryna be bad 'cause the deals good\n",
      "Yeah, now look I got the urge to feed them off some doggy shit\n",
      "Type of stuff to make them feel like alcohol and potent shit\n",
      "Hold the bitch, just sold the bitch, fuck you pay me is what I told the bitch\n",
      "You can't walk or talk, I own you bitch\n",
      "Please don't make me hot, I'm the coldest bitch (agh)\n",
      "--------------------\n",
      "<class 'bs4.element.NavigableString'>\n"
     ]
    },
    {
     "data": {
      "text/plain": [
       "'\\n'"
      ]
     },
     "metadata": {},
     "output_type": "display_data"
    },
    {
     "name": "stdout",
     "output_type": "stream",
     "text": [
      "Heisman (Part 2) (feat. Honey Cocaine)\n",
      "------\n",
      "<class 'bs4.element.Tag'>\n",
      "----------\n",
      "[Chorus]\n",
      "Posing, Heisman [x3]\n",
      "--------------------\n",
      "<class 'bs4.element.NavigableString'>\n"
     ]
    },
    {
     "data": {
      "text/plain": [
       "'\\n'"
      ]
     },
     "metadata": {},
     "output_type": "display_data"
    },
    {
     "name": "stdout",
     "output_type": "stream",
     "text": [
      "Heisman (Part 2) (feat. Honey Cocaine)\n",
      "------\n",
      "<class 'bs4.element.Tag'>\n",
      "----------\n",
      "[Tyga]\n",
      "Well, running from the cop, boy born to kill\n",
      "Hand me the lock, bring it to your front door, doorbell\n",
      "Knock knock, who there? Houdini disappear\n",
      "Got green, John Deere. More green, Paul Pierce\n",
      "Amazing win shot, you my son, I adopt, dop dop\n",
      "Pacman, that's for opening your mouth\n",
      "Bust a nut, kick her out, lit a cigarette now\n",
      "Put the cigarette down, I'm the shit, loose bowels\n",
      "Wow, Laughing, did I say that out loud?\n",
      "Nigga getting busy like I work downtown\n",
      "On to the next if she don't fuck right now (right now)\n",
      "Harder than a pipe, can't pipe down\n",
      "What you niggas talking about?\n",
      "Man I'm what your bitch is talking about\n",
      "Two months then an album out\n",
      "Careless world drop, pewm, then I'm out.\n",
      "--------------------\n",
      "<class 'bs4.element.NavigableString'>\n"
     ]
    },
    {
     "data": {
      "text/plain": [
       "'\\n'"
      ]
     },
     "metadata": {},
     "output_type": "display_data"
    },
    {
     "name": "stdout",
     "output_type": "stream",
     "text": [
      "Heisman (Part 2) (feat. Honey Cocaine)\n",
      "------\n",
      "<class 'bs4.element.Tag'>\n",
      "----------\n",
      "[Chorus]\n",
      "Posing, Heisman [x3]\n",
      "--------------------\n",
      "<class 'bs4.element.NavigableString'>\n"
     ]
    },
    {
     "data": {
      "text/plain": [
       "'\\n'"
      ]
     },
     "metadata": {},
     "output_type": "display_data"
    },
    {
     "name": "stdout",
     "output_type": "stream",
     "text": [
      "Heisman (Part 2) (feat. Honey Cocaine)\n",
      "------\n",
      "<class 'bs4.element.Tag'>\n",
      "----------\n",
      "[Honey Cocaine]\n",
      "If a bitch fuck around, I might go off\n",
      "My advice is you better get down to go\n",
      "You came to shop at the mall, but I bought the stores\n",
      "I got a box of jewels, I call it pot of gold\n",
      "Call the cops to go, as my pockets grow\n",
      "Get the chains and the rings and the watches, bro\n",
      "And I boxed a slut, I just boxed a hoe\n",
      "You tryna pass me bitch? It ain't possible, nah\n",
      "Cool as fuck, I suggest you dress for the weather bitch\n",
      "Is forever shit, whenever bitch\n",
      "What's a whore to a queen? Whatever bitch!\n",
      "I crop a kid, it's a hot to shit\n",
      "Its some Gucci, Louis, fendi, Prada shit\n",
      "Tell them eat a dick, you ain't not a bitch\n",
      "Find me in the club where my partners is\n",
      "(Schwagg, B-BITCH!)\n",
      "--------------------\n",
      "<class 'bs4.element.NavigableString'>\n"
     ]
    },
    {
     "data": {
      "text/plain": [
       "'\\n'"
      ]
     },
     "metadata": {},
     "output_type": "display_data"
    },
    {
     "name": "stdout",
     "output_type": "stream",
     "text": [
      "Heisman (Part 2) (feat. Honey Cocaine)\n",
      "------\n",
      "<class 'bs4.element.Tag'>\n",
      "----------\n",
      "[Chorus]\n",
      "Posing, Heisman [x3]\n",
      "(Bitch I'm The Shit)\n",
      "--------------------\n",
      "<class 'bs4.element.NavigableString'>\n"
     ]
    },
    {
     "data": {
      "text/plain": [
       "'\\n'"
      ]
     },
     "metadata": {},
     "output_type": "display_data"
    },
    {
     "name": "stdout",
     "output_type": "stream",
     "text": [
      "Hijack (feat. 2 Chainz)\n",
      "------\n",
      "<class 'bs4.element.Tag'>\n",
      "----------\n",
      "[Hook: Tyga]\n",
      "Pussy, money, - weed got all that\n",
      "Nigga talk shit - get your head cracked\n",
      "Riding with the racks, thang on my lap\n",
      "Steal your bitch, call it hijack\n",
      "Hijack, hijack\n",
      "Pussy, money, weed - got all that\n",
      "Nigga talk shit, get your head cracked\n",
      "Steal your bitch - call it hijack\n",
      "Hijack, hijack\n",
      "Steal your bitch - call it hijack\n",
      "Hijack, hijack\n",
      "Pussy, money, weed - got all that\n",
      "--------------------\n",
      "<class 'bs4.element.NavigableString'>\n"
     ]
    },
    {
     "data": {
      "text/plain": [
       "'\\n'"
      ]
     },
     "metadata": {},
     "output_type": "display_data"
    },
    {
     "name": "stdout",
     "output_type": "stream",
     "text": [
      "Hijack (feat. 2 Chainz)\n",
      "------\n",
      "<class 'bs4.element.Tag'>\n",
      "----------\n",
      "[Verse 1: Tyga]\n",
      "It's the hooligan, drop top one shot shooter\n",
      "Money on my mind, bitch, I'm all about the mulah\n",
      "Motherfucking beast, bitch, call me King Koopa\n",
      "Got bitches like hooters\n",
      "We ain't smoking that hookah\n",
      "Big kush, paparazzi in the bush\n",
      "Mobb Deep, now they shook, got a castle full of crooks\n",
      "Hijack like the hook, all the bitches wanna fuck\n",
      "I'm a good ass nigga, I don't need no luck\n",
      "Good molly, partying in the after party\n",
      "Pull up in the Rolls but I'm leaving in a red Rari\n",
      "All my niggas getting money like shotties\n",
      "Black mafia shit, young Gotti\n",
      "--------------------\n",
      "<class 'bs4.element.NavigableString'>\n"
     ]
    },
    {
     "data": {
      "text/plain": [
       "'\\n'"
      ]
     },
     "metadata": {},
     "output_type": "display_data"
    },
    {
     "name": "stdout",
     "output_type": "stream",
     "text": [
      "Hijack (feat. 2 Chainz)\n",
      "------\n",
      "<class 'bs4.element.Tag'>\n",
      "----------\n",
      "[Hook]\n",
      "--------------------\n",
      "<class 'bs4.element.NavigableString'>\n"
     ]
    },
    {
     "data": {
      "text/plain": [
       "'\\n'"
      ]
     },
     "metadata": {},
     "output_type": "display_data"
    },
    {
     "name": "stdout",
     "output_type": "stream",
     "text": [
      "Hijack (feat. 2 Chainz)\n",
      "------\n",
      "<class 'bs4.element.Tag'>\n",
      "----------\n",
      "[Verse 2: 2 Chainz]\n",
      "If you believe in having sex say me too (me too)\n",
      "I'm riding in my roof look see-through\n",
      "I got fours on the big like pre-school\n",
      "Marijuana, money and vagina\n",
      "I got plaques on my walls, you got gingivitis\n",
      "Still sell a brick like I won't retire\n",
      "Hijack your bitch, steal your wife\n",
      "Man my chopper go hyphy, you got your bitch in some Nikes\n",
      "I got my bitch with some dykes and she saying she like it\n",
      "We were down in Paris, keeping it Effin\n",
      "And you'se was at home, keeping it tryphy\n",
      "--------------------\n",
      "<class 'bs4.element.NavigableString'>\n"
     ]
    },
    {
     "data": {
      "text/plain": [
       "'\\n'"
      ]
     },
     "metadata": {},
     "output_type": "display_data"
    },
    {
     "name": "stdout",
     "output_type": "stream",
     "text": [
      "Hijack (feat. 2 Chainz)\n",
      "------\n",
      "<class 'bs4.element.Tag'>\n",
      "----------\n",
      "[Hook]\n",
      "--------------------\n",
      "<class 'bs4.element.NavigableString'>\n"
     ]
    },
    {
     "data": {
      "text/plain": [
       "'\\n'"
      ]
     },
     "metadata": {},
     "output_type": "display_data"
    },
    {
     "name": "stdout",
     "output_type": "stream",
     "text": [
      "Hit 'em Up (feat. Jadakiss & 2Pac)\n",
      "------\n",
      "<class 'bs4.element.Tag'>\n",
      "----------\n",
      "[Hook: Tyga]\n",
      "I said fuck them other niggas, cause I'm down for my niggas\n",
      "Fuck them other niggas, cause I'm down for my niggas\n",
      "Fuck them other niggas, I ride for my niggas\n",
      "I die for my niggas, nigga I hit em up\n",
      "--------------------\n",
      "<class 'bs4.element.NavigableString'>\n"
     ]
    },
    {
     "data": {
      "text/plain": [
       "'\\n'"
      ]
     },
     "metadata": {},
     "output_type": "display_data"
    },
    {
     "name": "stdout",
     "output_type": "stream",
     "text": [
      "Hit 'em Up (feat. Jadakiss & 2Pac)\n",
      "------\n",
      "<class 'bs4.element.Tag'>\n",
      "----------\n",
      "[Verse 1: Tyga]\n",
      "T Raww go stay Westside, killa cat pillar,\n",
      "No ceiling, probably worth 10 million\n",
      "Poor nigga watch chilla, you ain't even gotta feel it\n",
      "That's chin chinchilla flyer than a caterpillar\n",
      "I sick my dogs at you, yeah\n",
      "Then call the dog catcher, bitch\n",
      "Spark the fire, no matches, yeah\n",
      "So high just laughing, hah\n",
      "Burners in the attic, they ain't know I had it\n",
      "Shoot sporadic, fire automatic, pop the target\n",
      "Driving backwards, I'm a hundred bill fanatic\n",
      "Bring the static, make vows to the money, but I skipped marriage\n",
      "Keep staring, rather die that nigga than live average, get you embarrassed\n",
      "Thousand karats on my wheel let my kids inherit\n",
      "Black card credit, told them I don't use debit\n",
      "Nigga know that's my motto, I could do this shit forever so\n",
      "--------------------\n",
      "<class 'bs4.element.NavigableString'>\n"
     ]
    },
    {
     "data": {
      "text/plain": [
       "'\\n'"
      ]
     },
     "metadata": {},
     "output_type": "display_data"
    },
    {
     "name": "stdout",
     "output_type": "stream",
     "text": [
      "Hit 'em Up (feat. Jadakiss & 2Pac)\n",
      "------\n",
      "<class 'bs4.element.Tag'>\n",
      "----------\n",
      "[Hook: Tyga]\n",
      "Fuck them other niggas, cause I'm down for my niggas\n",
      "Fuck them other niggas, cause I'm down for my niggas\n",
      "Fuck them other niggas, I ride for my niggas\n",
      "I die for my niggas, talkin get you hit up\n",
      "--------------------\n",
      "<class 'bs4.element.NavigableString'>\n"
     ]
    },
    {
     "data": {
      "text/plain": [
       "'\\n'"
      ]
     },
     "metadata": {},
     "output_type": "display_data"
    },
    {
     "name": "stdout",
     "output_type": "stream",
     "text": [
      "<class 'bs4.element.NavigableString'>\n"
     ]
    },
    {
     "data": {
      "text/plain": [
       "'\\n'"
      ]
     },
     "metadata": {},
     "output_type": "display_data"
    },
    {
     "name": "stdout",
     "output_type": "stream",
     "text": [
      "Hit 'em Up (feat. Jadakiss & 2Pac)\n",
      "------\n",
      "<class 'bs4.element.Tag'>\n",
      "----------\n",
      "[Verse 2: Jadakiss]\n",
      "We don't rock with them niggas anyway, fuck them\n",
      "We'd ever caught them in the hood, we'd a stuck them\n",
      "Things coming in, we get them off by the dozen\n",
      "We about that action, you ain't about nothin'\n",
      "Girl of your dream, I already had her\n",
      "If it ain't my team, it don't really matter\n",
      "Short stay, I'm only in town for the figures\n",
      "Even when I'm up, I'm still down for my niggas\n",
      "Need nothing else, don't concern me or worry me\n",
      "Nah, I'mma ride 'til they burn me or bury me\n",
      "Cause the truth is, niggas die every day\n",
      "Heard about me, I hope you heard thoroughly\n",
      "I don't switch sides, I just switch rides\n",
      "Might just get a little head, let the bitch slide\n",
      "Knowing that I can, knowing that I will\n",
      "Far as the other side go, you know how I feel\n",
      "--------------------\n",
      "<class 'bs4.element.NavigableString'>\n"
     ]
    },
    {
     "data": {
      "text/plain": [
       "'\\n'"
      ]
     },
     "metadata": {},
     "output_type": "display_data"
    },
    {
     "name": "stdout",
     "output_type": "stream",
     "text": [
      "Hit 'em Up (feat. Jadakiss & 2Pac)\n",
      "------\n",
      "<class 'bs4.element.Tag'>\n",
      "----------\n",
      "[Hook: Tyga]\n",
      "Fuck them other niggas, cause I'm down for my niggas\n",
      "Fuck them other niggas, cause I'm down for my niggas\n",
      "Fuck them other niggas, I ride for my niggas\n",
      "I die for my niggas, talkin get you hit up\n",
      "--------------------\n",
      "<class 'bs4.element.NavigableString'>\n"
     ]
    },
    {
     "data": {
      "text/plain": [
       "'\\n'"
      ]
     },
     "metadata": {},
     "output_type": "display_data"
    },
    {
     "name": "stdout",
     "output_type": "stream",
     "text": [
      "<class 'bs4.element.NavigableString'>\n"
     ]
    },
    {
     "data": {
      "text/plain": [
       "'\\n'"
      ]
     },
     "metadata": {},
     "output_type": "display_data"
    },
    {
     "name": "stdout",
     "output_type": "stream",
     "text": [
      "Hit 'em Up (feat. Jadakiss & 2Pac)\n",
      "------\n",
      "<class 'bs4.element.Tag'>\n",
      "----------\n",
      "[Verse 3: 2Pac & Tyga]\n",
      "[2Pac]\n",
      "You gotta watch your back\n",
      "Stay strapped, be alert\n",
      "Started as a young motherfucker doin' dirt\n",
      "Walkin' through the streets wearin' jewels\n",
      "[Tyga] Ain't got shit to lose\n",
      "Gonna fuck up and bust young niggas with tools\n",
      "[2Pac] The intricate designs of my lethal lines\n",
      "[Tyga] Now time hard to find a job, easier to rob niggas\n",
      "[2Pac] These days, motherfuckers talk shit\n",
      "And turn snitch when you see 'em\n",
      "They ain't talkin' 'bout shit\n",
      "Westside\n",
      "I keep a vest on my chest\n",
      "Buck, buck, cops wanna hit me with the book\n",
      "[Tyga] But I don't give a fuck\n",
      "Government got a nigga feelin' stuck\n",
      "While these same little sluts gettin' fucked\n",
      "For a quick buck\n",
      "Weed make my mind roam\n",
      "[2Pac] All alone, ain't nothin' like tryin' to bone\n",
      "Over the phone, in my mind I can see her naked\n",
      "I can't take it\n",
      "Got me shakin' at the thought that we can make it\n",
      "I thought you knew\n",
      "Get loaded, can't control it\n",
      "Nigga, pass me the blunt and let me roll it\n",
      "[Tyga] Then smoke it, sippin\n",
      "[2Pac] Hennessy\n",
      "[Tyga] Plottin' on my enemies\n",
      "'Comin back twice as hard\n",
      "Like, remember me\n",
      "[2Pac] My hustle to my dyin' days\n",
      "[Tyga] Niggas dyin' every day\n",
      "And we celebrate with pain\n",
      "Pourin' champagne\n",
      "Drink politics, they wanna join my campaign\n",
      "Worldwide, LA niggas screaming\n",
      "[2Pac] Westside\n",
      "--------------------\n",
      "<class 'bs4.element.NavigableString'>\n"
     ]
    },
    {
     "data": {
      "text/plain": [
       "'\\n'"
      ]
     },
     "metadata": {},
     "output_type": "display_data"
    },
    {
     "name": "stdout",
     "output_type": "stream",
     "text": [
      "Hit 'em Up (feat. Jadakiss & 2Pac)\n",
      "------\n",
      "<class 'bs4.element.Tag'>\n",
      "----------\n",
      "[Hook: Tyga]\n",
      "Fuck them other niggas, cause I'm down for my niggas\n",
      "Fuck them other niggas, cause I'm down for my niggas\n",
      "Fuck them other niggas, I ride for my niggas\n",
      "I die for my niggas, talkin get you hit up\n",
      "--------------------\n",
      "<class 'bs4.element.NavigableString'>\n"
     ]
    },
    {
     "data": {
      "text/plain": [
       "'\\n'"
      ]
     },
     "metadata": {},
     "output_type": "display_data"
    },
    {
     "name": "stdout",
     "output_type": "stream",
     "text": [
      "<class 'bs4.element.NavigableString'>\n"
     ]
    },
    {
     "data": {
      "text/plain": [
       "'\\n'"
      ]
     },
     "metadata": {},
     "output_type": "display_data"
    },
    {
     "name": "stdout",
     "output_type": "stream",
     "text": [
      "<class 'bs4.element.NavigableString'>\n"
     ]
    },
    {
     "data": {
      "text/plain": [
       "'\\n'"
      ]
     },
     "metadata": {},
     "output_type": "display_data"
    },
    {
     "name": "stdout",
     "output_type": "stream",
     "text": [
      "<class 'bs4.element.NavigableString'>\n"
     ]
    },
    {
     "data": {
      "text/plain": [
       "'\\n'"
      ]
     },
     "metadata": {},
     "output_type": "display_data"
    },
    {
     "name": "stdout",
     "output_type": "stream",
     "text": [
      "<class 'bs4.element.NavigableString'>\n"
     ]
    },
    {
     "data": {
      "text/plain": [
       "'\\n'"
      ]
     },
     "metadata": {},
     "output_type": "display_data"
    },
    {
     "name": "stdout",
     "output_type": "stream",
     "text": [
      "I Am\n",
      "------\n",
      "<class 'bs4.element.Tag'>\n",
      "----------\n",
      "Welcome to a sound to a sound I am loud I am loud to a crowd and a crowd goes for miles\n",
      "I am what I am to a fan I am him to him his perfession a legend I am. [x2]\n",
      "--------------------\n",
      "<class 'bs4.element.NavigableString'>\n"
     ]
    },
    {
     "data": {
      "text/plain": [
       "'\\n'"
      ]
     },
     "metadata": {},
     "output_type": "display_data"
    },
    {
     "name": "stdout",
     "output_type": "stream",
     "text": [
      "<class 'bs4.element.NavigableString'>\n"
     ]
    },
    {
     "data": {
      "text/plain": [
       "'\\n'"
      ]
     },
     "metadata": {},
     "output_type": "display_data"
    },
    {
     "name": "stdout",
     "output_type": "stream",
     "text": [
      "I Am\n",
      "------\n",
      "<class 'bs4.element.Tag'>\n",
      "----------\n",
      "Welcome to a sound to a sound I am loud I am loud to a crowd and a crowd goes for miles\n",
      "I am what I am to a fan I am him to him his perfession a legend I am. [x2]\n",
      "--------------------\n",
      "<class 'bs4.element.NavigableString'>\n"
     ]
    },
    {
     "data": {
      "text/plain": [
       "'\\n'"
      ]
     },
     "metadata": {},
     "output_type": "display_data"
    },
    {
     "name": "stdout",
     "output_type": "stream",
     "text": [
      "<class 'bs4.element.NavigableString'>\n"
     ]
    },
    {
     "data": {
      "text/plain": [
       "'\\n'"
      ]
     },
     "metadata": {},
     "output_type": "display_data"
    },
    {
     "name": "stdout",
     "output_type": "stream",
     "text": [
      "I Am\n",
      "------\n",
      "<class 'bs4.element.Tag'>\n",
      "----------\n",
      "Welcome to a sound to a sound I am loud I am loud to a crowd and a crowd goes for miles\n",
      "I am what I am to a fan I am him to him his perfession a legend I am. [x2]\n",
      "--------------------\n",
      "<class 'bs4.element.NavigableString'>\n"
     ]
    },
    {
     "data": {
      "text/plain": [
       "'\\n'"
      ]
     },
     "metadata": {},
     "output_type": "display_data"
    },
    {
     "name": "stdout",
     "output_type": "stream",
     "text": [
      "<class 'bs4.element.NavigableString'>\n"
     ]
    },
    {
     "data": {
      "text/plain": [
       "'\\n'"
      ]
     },
     "metadata": {},
     "output_type": "display_data"
    },
    {
     "name": "stdout",
     "output_type": "stream",
     "text": [
      "<class 'bs4.element.NavigableString'>\n"
     ]
    },
    {
     "data": {
      "text/plain": [
       "'\\n'"
      ]
     },
     "metadata": {},
     "output_type": "display_data"
    },
    {
     "name": "stdout",
     "output_type": "stream",
     "text": [
      "I Remember (feat. The Game & Future)\n",
      "------\n",
      "<class 'bs4.element.Tag'>\n",
      "----------\n",
      "[Hook: Future]\n",
      "It's been a long damn time since a nigga sold dope\n",
      "But if you put a brick right in front of me, I remember\n",
      "Baking soda and a Triple Beam, I remember\n",
      "Loaded fully auto-magazine, I remember\n",
      "--------------------\n",
      "<class 'bs4.element.NavigableString'>\n"
     ]
    },
    {
     "data": {
      "text/plain": [
       "'\\n'"
      ]
     },
     "metadata": {},
     "output_type": "display_data"
    },
    {
     "name": "stdout",
     "output_type": "stream",
     "text": [
      "I Remember (feat. The Game & Future)\n",
      "------\n",
      "<class 'bs4.element.Tag'>\n",
      "----------\n",
      "[Bridge: Future]\n",
      "I done fucked so many bitches that I can't remember names, but if you\n",
      "Put that pussy right up in my face, I remember, the way she put it down\n",
      "On the flo', I remember, the way she bring it down on the pole, I remember\n",
      "--------------------\n",
      "<class 'bs4.element.NavigableString'>\n"
     ]
    },
    {
     "data": {
      "text/plain": [
       "'\\n'"
      ]
     },
     "metadata": {},
     "output_type": "display_data"
    },
    {
     "name": "stdout",
     "output_type": "stream",
     "text": [
      "I Remember (feat. The Game & Future)\n",
      "------\n",
      "<class 'bs4.element.Tag'>\n",
      "----------\n",
      "[Verse 1: Game]\n",
      "Pop the pussy don't play with it, I don't care if Kayne hit it\n",
      "I don't care if Jay hit it, I'mma eat it up and I'mma lay wit' it\n",
      "We shot a choppa' at the gun range, got stupid cars, got dumb change\n",
      "Red bottoms, let the tongue hang, got a off-white Porsche, cum stain\n",
      "I'm whippin' work (I remember), Roll up that Purp' (I remember)\n",
      "Po' up that surp, (I don't remember) How Tunechi had that purple slushie\n",
      "Comin' out that blender\n",
      "Got a Keisha, got a Ronda, got a Neisha, got a Tanya, got a Teisha\n",
      "And had a Honda, and I eat her Anaconda\n",
      "Got condomds in that condo, got kush greener than Rondo\n",
      "Still hit me up for that blow, You already know\n",
      "--------------------\n",
      "<class 'bs4.element.NavigableString'>\n"
     ]
    },
    {
     "data": {
      "text/plain": [
       "'\\n'"
      ]
     },
     "metadata": {},
     "output_type": "display_data"
    },
    {
     "name": "stdout",
     "output_type": "stream",
     "text": [
      "I Remember (feat. The Game & Future)\n",
      "------\n",
      "<class 'bs4.element.Tag'>\n",
      "----------\n",
      "[Hook]\n",
      "--------------------\n",
      "<class 'bs4.element.NavigableString'>\n"
     ]
    },
    {
     "data": {
      "text/plain": [
       "'\\n'"
      ]
     },
     "metadata": {},
     "output_type": "display_data"
    },
    {
     "name": "stdout",
     "output_type": "stream",
     "text": [
      "I Remember (feat. The Game & Future)\n",
      "------\n",
      "<class 'bs4.element.Tag'>\n",
      "----------\n",
      "[Bridge]\n",
      "--------------------\n",
      "<class 'bs4.element.NavigableString'>\n"
     ]
    },
    {
     "data": {
      "text/plain": [
       "'\\n'"
      ]
     },
     "metadata": {},
     "output_type": "display_data"
    },
    {
     "name": "stdout",
     "output_type": "stream",
     "text": [
      "I Remember (feat. The Game & Future)\n",
      "------\n",
      "<class 'bs4.element.Tag'>\n",
      "----------\n",
      "[Verse 2: Tyga]\n",
      "Got a Rolls Royce, got a black Benz, Got a bad bitch, with some bad friends\n",
      "She bring em' through and I fuck them, but I don't fuck with them in public\n",
      "Got random bitches just walkin' up, they be like \"Do you remember us?\"\n",
      "She show me that tat, on her ass, and I be like \"I remember\"\n",
      "Chop it up, like a blender, I fuck then I befriend her\n",
      "Got a red bitch call her Ginger, Ass and Cash on my agenda\n",
      "You buy the bitch, we rent her, she took the cash and I sent her\n",
      "That pussy prolly' so tight, callin that shit 'Illegal Tender'\n",
      "(Hol' up, Hol' up, Hol' up, Hol' up), That's a young nigga dinner\n",
      "Fish eyes to a fuckin' Lion, that's Visene, nigga never cry\n",
      "We the young niggas wild'n out, talkin' shit to niggas that's 35\n",
      "Yo daughter pull in my driveway, I smash that in overdrive\n",
      "--------------------\n",
      "<class 'bs4.element.NavigableString'>\n"
     ]
    },
    {
     "data": {
      "text/plain": [
       "'\\n'"
      ]
     },
     "metadata": {},
     "output_type": "display_data"
    },
    {
     "name": "stdout",
     "output_type": "stream",
     "text": [
      "I Remember (feat. The Game & Future)\n",
      "------\n",
      "<class 'bs4.element.Tag'>\n",
      "----------\n",
      "[Hook]\n",
      "--------------------\n",
      "<class 'bs4.element.NavigableString'>\n"
     ]
    },
    {
     "data": {
      "text/plain": [
       "'\\n'"
      ]
     },
     "metadata": {},
     "output_type": "display_data"
    },
    {
     "name": "stdout",
     "output_type": "stream",
     "text": [
      "I Remember (feat. The Game & Future)\n",
      "------\n",
      "<class 'bs4.element.Tag'>\n",
      "----------\n",
      "[Bridge]\n",
      "--------------------\n",
      "<class 'bs4.element.NavigableString'>\n"
     ]
    },
    {
     "data": {
      "text/plain": [
       "'\\n'"
      ]
     },
     "metadata": {},
     "output_type": "display_data"
    },
    {
     "name": "stdout",
     "output_type": "stream",
     "text": [
      "I'm Different\n",
      "------\n",
      "<class 'bs4.element.Tag'>\n",
      "----------\n",
      "[Hook]\n",
      "--------------------\n",
      "<class 'bs4.element.NavigableString'>\n"
     ]
    },
    {
     "data": {
      "text/plain": [
       "'\\n'"
      ]
     },
     "metadata": {},
     "output_type": "display_data"
    },
    {
     "name": "stdout",
     "output_type": "stream",
     "text": [
      "<class 'bs4.element.NavigableString'>\n"
     ]
    },
    {
     "data": {
      "text/plain": [
       "'\\n'"
      ]
     },
     "metadata": {},
     "output_type": "display_data"
    },
    {
     "name": "stdout",
     "output_type": "stream",
     "text": [
      "I'm Different\n",
      "------\n",
      "<class 'bs4.element.Tag'>\n",
      "----------\n",
      "[Verse]\n",
      "Lambo Aventador, spent half a million,\n",
      "Car Weezy, mixtape got no ceiling,\n",
      "Floss like a dentist, numb to a bitch, no feelin’\n",
      "Lotta bad bitches and my niggas fully trippin’\n",
      "OGs got old clips like Lord Willin’\n",
      "Let the gat squeeze, like fresh lemons\n",
      "Old money but I need more like Demi\n",
      "Raw like Eddie, keep a sidekick semi\n",
      "Shit bang, you goin’ dumb\n",
      "I’m going Timmy\n",
      "I don’t drive no fuckin’ Infinity\n",
      "Pull up, niggas clear the vicinity\n",
      "killin’ your vanity\n",
      "Hot like Alana be, shots, niggas scramblin’\n",
      "All about my chips\n",
      "Gamblin’ Mandalay Bay veteran\n",
      "Bad bitch, let her in\n",
      "Late night, let ‘em in,\n",
      "Alergic to broke niggas, Claritin\n",
      "7-6 ball hard always stay travellin’\n",
      "Referee shots got haters back peddlin’\n",
      "Bald like I’m 70, stay with the weather ‘93,\n",
      "Gotta fly private cause my niggas got felonies\n",
      "Used to do Beverly, now we shop overseas\n",
      "Pop that dick, bitches fit it in their ovaries\n",
      "I love it when a bitch got her ass tatted\n",
      "Said she just got it done, don’t pat it\n",
      "Both hands left cheeks now I’m left handed\n",
      "Ass so big, can’t look at it\n",
      "Can’t look at it, can’t look at it\n",
      "Made me bust fast like I’m trigger happy\n",
      "She like when I talk shit like Bill O’Reilly\n",
      "And I give her hard wood, like a cabin\n",
      "Cabin in the woods\n",
      "all you niggas actin’ scary\n",
      "Get my collab on, Dr. Romanelli\n",
      "Shirt off, nigga feelin’ like Makaveli\n",
      "Y’all my niggas goin’ HAM\n",
      "We don’t need a deli\n",
      "Ain’t shit you can tell me\n",
      "Got ‘em pissed off, R. Kelly\n",
      "Bitches tell me “sure” like Al B\n",
      "All I do is win like Gwen don’t doubt me\n",
      "Bitch took 22 years to get rich\n",
      "Been in love twice, still screamin’\n",
      "“Bitches ain’t shit”\n",
      "Tryin’ ta keep my niggas out of jail\n",
      "they always hittin’ licks\n",
      "And I’m paid in full\n",
      "niggas call me Money Makin’ Mitch\n",
      "T Real, that’s my nigga,\n",
      "Nitty Santana, he’ll groove a nigga,\n",
      "Eat quick cash like a fast food dinner\n",
      "Niggas don’t remember shit\n",
      "They gon’ remember me, nigga\n",
      "--------------------\n",
      "<class 'bs4.element.NavigableString'>\n"
     ]
    },
    {
     "data": {
      "text/plain": [
       "'\\n'"
      ]
     },
     "metadata": {},
     "output_type": "display_data"
    },
    {
     "name": "stdout",
     "output_type": "stream",
     "text": [
      "<class 'bs4.element.NavigableString'>\n"
     ]
    },
    {
     "data": {
      "text/plain": [
       "'\\n'"
      ]
     },
     "metadata": {},
     "output_type": "display_data"
    },
    {
     "name": "stdout",
     "output_type": "stream",
     "text": [
      "<class 'bs4.element.NavigableString'>\n"
     ]
    },
    {
     "data": {
      "text/plain": [
       "'\\n'"
      ]
     },
     "metadata": {},
     "output_type": "display_data"
    },
    {
     "name": "stdout",
     "output_type": "stream",
     "text": [
      "I'm Done\n",
      "------\n",
      "<class 'bs4.element.Tag'>\n",
      "----------\n",
      "[Verse 1]\n",
      "Killa nigga, last king roll up on ‘em in a Bentley\n",
      "Mothafucka, gorilla, go getter, hoe getter\n",
      "Hoe nigga better hold yours nigga\n",
      "I’m sick, throw up, throw up this liquor\n",
      "Mo’ money I got it\n",
      "Bitches ain’t problems not to me\n",
      "Yeah they bout it, Master P so many albums on release\n",
      "Shit in my closet, Louboutan and bloody bottoms\n",
      "Bitches spot em yeah I’m stylin\n",
      "Tyga pilot, fly no mileage yeah I put them bitches on it\n",
      "California man, gold on my license plate\n",
      "Ladies’ man, baby I know what them bitches like\n",
      "--------------------\n",
      "<class 'bs4.element.NavigableString'>\n"
     ]
    },
    {
     "data": {
      "text/plain": [
       "'\\n'"
      ]
     },
     "metadata": {},
     "output_type": "display_data"
    },
    {
     "name": "stdout",
     "output_type": "stream",
     "text": [
      "I'm Done\n",
      "------\n",
      "<class 'bs4.element.Tag'>\n",
      "----------\n",
      "[Chorus]\n",
      "Little mic, mike n ikes, candy color cover ice\n",
      "Outta sight, outta mind\n",
      "She gon spend the night but don’t waste my time\n",
      "I’m 2 miles away from the Hollywood sign\n",
      "King of the hill nigga don’t look down\n",
      "Probably at Polo house right now\n",
      "All these bitches on the prowl\n",
      "--------------------\n",
      "<class 'bs4.element.NavigableString'>\n"
     ]
    },
    {
     "data": {
      "text/plain": [
       "'\\n'"
      ]
     },
     "metadata": {},
     "output_type": "display_data"
    },
    {
     "name": "stdout",
     "output_type": "stream",
     "text": [
      "I'm Done\n",
      "------\n",
      "<class 'bs4.element.Tag'>\n",
      "----------\n",
      "[Verse 2]\n",
      "Look at my flow look at my eyes\n",
      "Tell me what you see don’t lie\n",
      "Mo’fuckin G R to the E A to the T EST\n",
      "Last king look at my ring tell that bitch get off my thing\n",
      "My girl ain’t here and she off that drink\n",
      "I’m off that mink\n",
      "Fur murder swervin’ make the jet ski do a hurdle\n",
      "You’s a motherfuckin turtle knock you down like Berto\n",
      "Straps on my side like Urkle, boy I’ll hurt you\n",
      "Turn your face purple\n",
      "Niggas wanna talk but your convo worthless\n",
      "These converse yeah all black chuckers\n",
      "I’m that nigga, you just a nigga\n",
      "One more year, yeah I’ma be bigger\n",
      "Don’t call me Tigga, jack the ripper\n",
      "Rip these beats then I eat you for dinner\n",
      "I’m done!\n",
      "--------------------\n",
      "<class 'bs4.element.NavigableString'>\n"
     ]
    },
    {
     "data": {
      "text/plain": [
       "'\\n'"
      ]
     },
     "metadata": {},
     "output_type": "display_data"
    },
    {
     "name": "stdout",
     "output_type": "stream",
     "text": [
      "I'm Gone (feat. Big Sean)\n",
      "------\n",
      "<class 'bs4.element.Tag'>\n",
      "----------\n",
      "[Verse 1: Tyga]\n",
      "Ugh, looking around glass, my future is in the past\n",
      "I’m re-arranging my life, I’m single and now I laugh\n",
      "All of the moments we had, beginning and just the end\n",
      "At the end, still ain't friends, heard I was on your hit list\n",
      "Damn, now I’m driving Ferrari fucking random bitches\n",
      "People saying I made it but I don’t feel too different\n",
      "Wayne told me “Close your eyes, they’ll never see your Vision”\n",
      "So I stay ready to die behind these Biggie lenses\n",
      "Reinventing all the Audemars/Breguet shit\n",
      "Just left the hood, word to the 5th Dist\n",
      "Bout to cop a G to the roof like Diddy\n",
      "And my city color purple nigga, no ceiling\n",
      "It take time when you plying on the beat\n",
      "I kill it, I bet I kill it\n",
      "Producer witness to see\n",
      "Bitches standing on they feet, handicap get out your seat\n",
      "Got that buzz: Lil B, sting a bitch: Ali\n",
      "Compare tighter rappers, but my songs greater\n",
      "Just compare me to dope dealers and ball players\n",
      "Cause I’m a dope ass nigga and I ball player\n",
      "Never save a hoe, can’t even get a Life Saver\n",
      "She gon fuck her way to the top and fall later\n",
      "So I'mma fuckin never call her later\n",
      "Ugh, Skinny nigga got my weight up\n",
      "Middle finger to my haters, why you chasing?\n",
      "We ain't racing, Mufucka I’m gone!\n",
      "--------------------\n",
      "<class 'bs4.element.NavigableString'>\n"
     ]
    },
    {
     "data": {
      "text/plain": [
       "'\\n'"
      ]
     },
     "metadata": {},
     "output_type": "display_data"
    },
    {
     "name": "stdout",
     "output_type": "stream",
     "text": [
      "I'm Gone (feat. Big Sean)\n",
      "------\n",
      "<class 'bs4.element.Tag'>\n",
      "----------\n",
      "[Hook]\n",
      "Middle finger to my haters, mu-fucka why you hating? I’m gone\n",
      "I ain’t really wanna do it but I did it to em, nigga, I’m gone\n",
      "Leave the beat shit alone, leave the bullshit at home, I’m gone\n",
      "Even though I’m out of here, nigga gotta keep it real, I’m gone\n",
      "--------------------\n",
      "<class 'bs4.element.NavigableString'>\n"
     ]
    },
    {
     "data": {
      "text/plain": [
       "'\\n'"
      ]
     },
     "metadata": {},
     "output_type": "display_data"
    },
    {
     "name": "stdout",
     "output_type": "stream",
     "text": [
      "I'm Gone (feat. Big Sean)\n",
      "------\n",
      "<class 'bs4.element.Tag'>\n",
      "----------\n",
      "[Verse 2: Tyga]\n",
      "She fuckin with me, these niggas ain’t fuckin with me\n",
      "Got my mind on my money, my money piling up hundreds\n",
      "You say you did it, I done it\n",
      "You old nigga, I’m younger\n",
      "You fold up under pressure\n",
      "I’m good straighter then stretchers, Ugh\n",
      "Bitches pecking my wood: Wood Chuckka Chuckka\n",
      "Never gave 2 fucks: Double Rubbers\n",
      "Now your color turn your face to a red Gusher\n",
      "And your girl stick it to me like a car bumper\n",
      "Never depended on anyone co-dependent\n",
      "Kept my thoughts to myself, I don’t need opinions\n",
      "No middle mans, in the middle of my sands\n",
      "Niggas thing they sweet, they can’t even pay their incidentals\n",
      "I’m detrimental, on any instrumental\n",
      "I ain’t pullin teeth, nigga better hide your pillow\n",
      "To these rappers to the fucking grizzle\n",
      "Bad to the bone, Red Zippers, Mike Jizzle, Nigga gone\n",
      "--------------------\n",
      "<class 'bs4.element.NavigableString'>\n"
     ]
    },
    {
     "data": {
      "text/plain": [
       "'\\n'"
      ]
     },
     "metadata": {},
     "output_type": "display_data"
    },
    {
     "name": "stdout",
     "output_type": "stream",
     "text": [
      "I'm Gone (feat. Big Sean)\n",
      "------\n",
      "<class 'bs4.element.Tag'>\n",
      "----------\n",
      "[Hook x2]\n",
      "Middle finger to my haters, mu-fucka why you hating? I’m gone\n",
      "I ain’t really wanna do it but I did it to em, nigga, I’m gone\n",
      "Leave the beat shit alone, leave the bullshit at home, I’m gone\n",
      "Even though I’m out of here, nigga gotta keep it real, I’m gone\n",
      "--------------------\n",
      "<class 'bs4.element.NavigableString'>\n"
     ]
    },
    {
     "data": {
      "text/plain": [
       "'\\n'"
      ]
     },
     "metadata": {},
     "output_type": "display_data"
    },
    {
     "name": "stdout",
     "output_type": "stream",
     "text": [
      "I'm Gone (feat. Big Sean)\n",
      "------\n",
      "<class 'bs4.element.Tag'>\n",
      "----------\n",
      "[Verse 3: Big Sean]\n",
      "B.I.G., Finally Famous in this\n",
      "I say fuck sleep stayed up, fuck you, pay up\n",
      "Always got the paycheck, never took a pay cut\n",
      "Payday'll be worth all the broke nights I stayed up\n",
      "So in my cup I’m mixing up whatever dreams are made of\n",
      "Not too many Young G’s made it where I am\n",
      "So I was waiting on a doctor man, patient as I am\n",
      "I guess the Young D-Boy made it into a man\n",
      "With girls half-naked around, like we finna land the sand\n",
      "Red-eyes to Rome and they connecting to France\n",
      "With some bomb-ass pussy, that bitch came straight from Iran\n",
      "My jewelry made in Japan, I’m off California drugs\n",
      "And where I made my money? Nigga all of the above\n",
      "I could count my inner circle on my hands and my feet\n",
      "Passing joints long as a branch cause it’s family tree\n",
      "Doing “kush-ups” man cause the Weed too strong\n",
      "I’m a G + One what’s that muthafucka? That’s gone\n",
      "--------------------\n",
      "<class 'bs4.element.NavigableString'>\n"
     ]
    },
    {
     "data": {
      "text/plain": [
       "'\\n'"
      ]
     },
     "metadata": {},
     "output_type": "display_data"
    },
    {
     "name": "stdout",
     "output_type": "stream",
     "text": [
      "I'm On It (with Chris Brown) (feat. Lil Wayne)\n",
      "------\n",
      "<class 'bs4.element.Tag'>\n",
      "----------\n",
      "[Tyga]\n",
      "I'm on it, I'm on it\n",
      "I'm on it, I'm on it\n",
      "If we talkin' bout money bitch\n",
      "--------------------\n",
      "<class 'bs4.element.NavigableString'>\n"
     ]
    },
    {
     "data": {
      "text/plain": [
       "'\\n'"
      ]
     },
     "metadata": {},
     "output_type": "display_data"
    },
    {
     "name": "stdout",
     "output_type": "stream",
     "text": [
      "I'm On It (with Chris Brown) (feat. Lil Wayne)\n",
      "------\n",
      "<class 'bs4.element.Tag'>\n",
      "----------\n",
      "[Tyga - Verse 1]\n",
      "Snap back chiller\n",
      "gold chain nigga\n",
      "snaps no tigger, tyga bitches\n",
      "hundred proof liquor\n",
      "live no liver\n",
      "theres hoes on this muthafucking strip, stripping\n",
      "a nigga no different\n",
      "so we hold the heat though\n",
      "smash on the bitch brains looking like meatloaf\n",
      "the hoe know me close she lying, Leo's\n",
      "pedigree and swag is so cold, zero\n",
      "hop in Medino, oops I meant Medina,\n",
      "life is a bitch better know how to treat her\n",
      "I don't get in between, my goal be to win\n",
      "young money heisman rookies of the year\n",
      "--------------------\n",
      "<class 'bs4.element.NavigableString'>\n"
     ]
    },
    {
     "data": {
      "text/plain": [
       "'\\n'"
      ]
     },
     "metadata": {},
     "output_type": "display_data"
    },
    {
     "name": "stdout",
     "output_type": "stream",
     "text": [
      "I'm On It (with Chris Brown) (feat. Lil Wayne)\n",
      "------\n",
      "<class 'bs4.element.Tag'>\n",
      "----------\n",
      "[Chorus]\n",
      "--------------------\n",
      "<class 'bs4.element.NavigableString'>\n"
     ]
    },
    {
     "data": {
      "text/plain": [
       "'\\n'"
      ]
     },
     "metadata": {},
     "output_type": "display_data"
    },
    {
     "name": "stdout",
     "output_type": "stream",
     "text": [
      "I'm On It (with Chris Brown) (feat. Lil Wayne)\n",
      "------\n",
      "<class 'bs4.element.Tag'>\n",
      "----------\n",
      "[Tyga - Verse 2]\n",
      "Raise hell boy hell yeah I'm hot hello\n",
      "boy yellow, but my bitch back from the ghetto\n",
      "with the flow watch it pop, sizzle\n",
      "you feeling me, better break fast mc griddles\n",
      "I ain't finna slow down, keep running your mouth\n",
      "I'm running the real estate, party in the fucking house\n",
      "my niggas is loud in the lobby they can't turn us down\n",
      "Have have a drink drink drink, some Coke and a smile\n",
      "I run town all day 24 miles\n",
      "150 on the dash can't even count\n",
      "keep fucking bitch, ain't shit to talk about\n",
      "--------------------\n",
      "<class 'bs4.element.NavigableString'>\n"
     ]
    },
    {
     "data": {
      "text/plain": [
       "'\\n'"
      ]
     },
     "metadata": {},
     "output_type": "display_data"
    },
    {
     "name": "stdout",
     "output_type": "stream",
     "text": [
      "I'm On It (with Chris Brown) (feat. Lil Wayne)\n",
      "------\n",
      "<class 'bs4.element.Tag'>\n",
      "----------\n",
      "[Chorus]\n",
      "--------------------\n",
      "<class 'bs4.element.NavigableString'>\n"
     ]
    },
    {
     "data": {
      "text/plain": [
       "'\\n'"
      ]
     },
     "metadata": {},
     "output_type": "display_data"
    },
    {
     "name": "stdout",
     "output_type": "stream",
     "text": [
      "I'm On It (with Chris Brown) (feat. Lil Wayne)\n",
      "------\n",
      "<class 'bs4.element.Tag'>\n",
      "----------\n",
      "[Lil Wayne]\n",
      "Be-best Rapper C.E.O.\n",
      "Fine as wine flow\n",
      "Pinot Grigio\n",
      "Niggas cant fuck with me\n",
      "Leave the bitches, need the hoes\n",
      "Life is a motherfucker gamble, Peter Rose\n",
      "Momma taught me well, Kush and the L\n",
      "Paper everywhere like books just fell\n",
      "More money to make, More pussy to smell\n",
      "Like yea imma Libra like put that on a scale\n",
      "New Orleans nigga with my dick up in my right hand\n",
      "Young Money nigga money longer then a lifespan\n",
      "Still go to sleep with my Bible on my nightstand\n",
      "Flyer then a bitch and you ain't even got cha flight plan\n",
      "--------------------\n",
      "<class 'bs4.element.NavigableString'>\n"
     ]
    },
    {
     "data": {
      "text/plain": [
       "'\\n'"
      ]
     },
     "metadata": {},
     "output_type": "display_data"
    },
    {
     "name": "stdout",
     "output_type": "stream",
     "text": [
      "<class 'bs4.element.NavigableString'>\n"
     ]
    },
    {
     "data": {
      "text/plain": [
       "'\\n'"
      ]
     },
     "metadata": {},
     "output_type": "display_data"
    },
    {
     "name": "stdout",
     "output_type": "stream",
     "text": [
      "<class 'bs4.element.NavigableString'>\n"
     ]
    },
    {
     "data": {
      "text/plain": [
       "'\\n'"
      ]
     },
     "metadata": {},
     "output_type": "display_data"
    },
    {
     "name": "stdout",
     "output_type": "stream",
     "text": [
      "I'm So Raw (with Chris Brown)\n",
      "------\n",
      "<class 'bs4.element.Tag'>\n",
      "----------\n",
      "[Chorus:]\n",
      "Look,\n",
      "I'm so raw,\n",
      "Turn the oven on,\n",
      "Chef Papa John,\n",
      "I get the Parmesan,\n",
      "--------------------\n",
      "<class 'bs4.element.NavigableString'>\n"
     ]
    },
    {
     "data": {
      "text/plain": [
       "'\\n'"
      ]
     },
     "metadata": {},
     "output_type": "display_data"
    },
    {
     "name": "stdout",
     "output_type": "stream",
     "text": [
      "I'm So Raw (with Chris Brown)\n",
      "------\n",
      "<class 'bs4.element.Tag'>\n",
      "----------\n",
      "[Verse 1:]\n",
      "She want ah yellow nigga,\n",
      "Corn on the cob,\n",
      "Indian giver,\n",
      "Slob on my knob,\n",
      "The bitch blow hard,\n",
      "Harder Than some Halls,\n",
      "Here take 'em all\n",
      "You'll be straight in the morn',\n",
      "I'm two piece gone,\n",
      "I'm never gon' call,\n",
      "Fly nigga, I don't wear it if it's in the mall,\n",
      "Seen it on the blog,\n",
      "These motherfuckers cost,\n",
      "Yves Saint Laurent,\n",
      "You can tell by the font,\n",
      "I do what I want,\n",
      "Wake up when it's lunch,\n",
      "Walk like I'm drunk,\n",
      "Swagger so uh,\n",
      "Gold yard trunks go around I got a bunch,\n",
      "Tell till u safe bitch get up out my stuff,\n",
      "I wouldn't recommend,\n",
      "You to ever check um in,\n",
      "I started with the end,\n",
      "So where do I begin?\n",
      "--------------------\n",
      "<class 'bs4.element.NavigableString'>\n"
     ]
    },
    {
     "data": {
      "text/plain": [
       "'\\n'"
      ]
     },
     "metadata": {},
     "output_type": "display_data"
    },
    {
     "name": "stdout",
     "output_type": "stream",
     "text": [
      "I'm So Raw (with Chris Brown)\n",
      "------\n",
      "<class 'bs4.element.Tag'>\n",
      "----------\n",
      "[Chorus:]\n",
      "I'm so raw,\n",
      "Turn the oven on,\n",
      "Chef Papa John,\n",
      "I get the Parmesan,\n",
      "--------------------\n",
      "<class 'bs4.element.NavigableString'>\n"
     ]
    },
    {
     "data": {
      "text/plain": [
       "'\\n'"
      ]
     },
     "metadata": {},
     "output_type": "display_data"
    },
    {
     "name": "stdout",
     "output_type": "stream",
     "text": [
      "I'm So Raw (with Chris Brown)\n",
      "------\n",
      "<class 'bs4.element.Tag'>\n",
      "----------\n",
      "[Verse 2:]\n",
      "Pocket full of paper under age in casino,\n",
      "You wanna see ID, oh\n",
      "But I'm in the suite though\n",
      "Here my room key go,\n",
      "Room move in slow mo,\n",
      "Fans want a photo,\n",
      "But it's my turn to roll,\n",
      "Hold up baby hold those,\n",
      "You see I'm chillin', Dolo,\n",
      "Lens with a logo,\n",
      "Pinky-ring, Frodo\n",
      "I'm feelin' myself no ho-ho-ho-homo\n",
      "Hold the beat pour that more Ro-ro-ro-roso\n",
      "Rose, you bozos,\n",
      "Couldn't speak what I'm on,\n",
      "You would need Rosetta Stone,\n",
      "All these niggas all clones,\n",
      "We be originals,\n",
      "Young Money seminals,\n",
      "Tribe full of generals,\n",
      "Don't ask me shit unless it in ah interview, nigga,\n",
      "Unless it's in a interview,\n",
      "Don't talk to me, I'm not your friend,\n",
      "I'm just a fan,\n",
      "Of a fan,\n",
      "I love all my fans though\n",
      "--------------------\n",
      "<class 'bs4.element.NavigableString'>\n"
     ]
    },
    {
     "data": {
      "text/plain": [
       "'\\n'"
      ]
     },
     "metadata": {},
     "output_type": "display_data"
    },
    {
     "name": "stdout",
     "output_type": "stream",
     "text": [
      "<class 'bs4.element.NavigableString'>\n"
     ]
    },
    {
     "data": {
      "text/plain": [
       "'\\n'"
      ]
     },
     "metadata": {},
     "output_type": "display_data"
    },
    {
     "name": "stdout",
     "output_type": "stream",
     "text": [
      "<class 'bs4.element.NavigableString'>\n"
     ]
    },
    {
     "data": {
      "text/plain": [
       "'\\n'"
      ]
     },
     "metadata": {},
     "output_type": "display_data"
    },
    {
     "name": "stdout",
     "output_type": "stream",
     "text": [
      "<class 'bs4.element.NavigableString'>\n"
     ]
    },
    {
     "data": {
      "text/plain": [
       "'\\n'"
      ]
     },
     "metadata": {},
     "output_type": "display_data"
    },
    {
     "name": "stdout",
     "output_type": "stream",
     "text": [
      "In This Thang\n",
      "------\n",
      "<class 'bs4.element.Tag'>\n",
      "----------\n",
      "[x2:]\n",
      "Bitch I'm In This\n",
      "Thang [x4]\n",
      "But bitch I'm in This\n",
      "Thang [x4]\n",
      "I'm in this thang, but bitches going down, down [x2]\n",
      "--------------------\n",
      "<class 'bs4.element.NavigableString'>\n"
     ]
    },
    {
     "data": {
      "text/plain": [
       "'\\n'"
      ]
     },
     "metadata": {},
     "output_type": "display_data"
    },
    {
     "name": "stdout",
     "output_type": "stream",
     "text": [
      "<class 'bs4.element.NavigableString'>\n"
     ]
    },
    {
     "data": {
      "text/plain": [
       "'\\n'"
      ]
     },
     "metadata": {},
     "output_type": "display_data"
    },
    {
     "name": "stdout",
     "output_type": "stream",
     "text": [
      "<class 'bs4.element.NavigableString'>\n"
     ]
    },
    {
     "data": {
      "text/plain": [
       "'\\n'"
      ]
     },
     "metadata": {},
     "output_type": "display_data"
    },
    {
     "name": "stdout",
     "output_type": "stream",
     "text": [
      "In This Thang\n",
      "------\n",
      "<class 'bs4.element.Tag'>\n",
      "----------\n",
      "[x2:]\n",
      "Bitch I'm In This\n",
      "Thang [x4]\n",
      "But bitch I'm in This\n",
      "Thang [x4]\n",
      "I'm in this thang, but bitches going down, down [x2]\n",
      "--------------------\n",
      "<class 'bs4.element.NavigableString'>\n"
     ]
    },
    {
     "data": {
      "text/plain": [
       "'\\n'"
      ]
     },
     "metadata": {},
     "output_type": "display_data"
    },
    {
     "name": "stdout",
     "output_type": "stream",
     "text": [
      "<class 'bs4.element.NavigableString'>\n"
     ]
    },
    {
     "data": {
      "text/plain": [
       "'\\n'"
      ]
     },
     "metadata": {},
     "output_type": "display_data"
    },
    {
     "name": "stdout",
     "output_type": "stream",
     "text": [
      "In This Thang\n",
      "------\n",
      "<class 'bs4.element.Tag'>\n",
      "----------\n",
      "[x2:]\n",
      "Bitch I'm In This\n",
      "Thang [x4]\n",
      "But bitch I'm in This\n",
      "Thang [x4]\n",
      "I'm in this thang, but bitches going down, down [x2]\n",
      "--------------------\n",
      "<class 'bs4.element.NavigableString'>\n"
     ]
    },
    {
     "data": {
      "text/plain": [
       "'\\n'"
      ]
     },
     "metadata": {},
     "output_type": "display_data"
    },
    {
     "name": "stdout",
     "output_type": "stream",
     "text": [
      "<class 'bs4.element.NavigableString'>\n"
     ]
    },
    {
     "data": {
      "text/plain": [
       "'\\n'"
      ]
     },
     "metadata": {},
     "output_type": "display_data"
    },
    {
     "name": "stdout",
     "output_type": "stream",
     "text": [
      "Involved\n",
      "------\n",
      "<class 'bs4.element.Tag'>\n",
      "----------\n",
      "[Chorus]\n",
      "What happens when you get involved?\n",
      "Niggas start telling lies (start telling lies)\n",
      "Both wanna be involved\n",
      "But loves like suicide\n",
      "Now that your too involved\n",
      "Infatuated to the high\n",
      "--------------------\n",
      "<class 'bs4.element.NavigableString'>\n"
     ]
    },
    {
     "data": {
      "text/plain": [
       "'\\n'"
      ]
     },
     "metadata": {},
     "output_type": "display_data"
    },
    {
     "name": "stdout",
     "output_type": "stream",
     "text": [
      "Involved\n",
      "------\n",
      "<class 'bs4.element.Tag'>\n",
      "----------\n",
      "[Tyga - Verse 1]\n",
      "Uhh took a deep breath, Inhaled this love in the air\n",
      "Only just to find pain cause its all that I feel\n",
      "Mothafuckas say they real, but they really ain't for real\n",
      "I'll show you who's real, when you broke ain't a thrill\n",
      "Got bills waiting on me, and its drama in my ear\n",
      "I wanna sit still, but I'm busy tryna live\n",
      "Forgiving all my sins, crucifixed now I'm fixed\n",
      "Road to eternal bliss\n",
      "Now they hate me like Chris, Rock on my arm\n",
      "Gotta keep a piece of mine, hot cherry balm, lip locking with a dime\n",
      "I make bitches scream for me like I'm Lil Jon\n",
      "Last king to flow, sweeter then a bon bon\n",
      "Quick sand bitches running out of time\n",
      "Got my shades on, I ain't waiting in the line\n",
      "Whatever it is I'm on some better shit\n",
      "All black barreta shit\n",
      "Leather coat, leather mitts\n",
      "I don't leave no finger prints, Eddie raw, semi clips\n",
      "Violence ain't for little kids\n",
      "But I keep something cause these niggas wanna test me\n",
      "Niggas on that ice like Gretzky\n",
      "Montage chillin, life on a jet-ski\n",
      "Haters left I like Leslie\n",
      "Nigga ball hard, never been to the SB's\n",
      "But now you walk alone, no holding hands\n",
      "Just wishing somebody could understand\n",
      "No father figure, taught myself to be a man\n",
      "Mama said keep God in all your plans\n",
      "Let the sun shine keep your head high\n",
      "Its always people after your spot, gotta stay high, gotta stay high\n",
      "Don't let it stop, then ask yourself why?\n",
      "--------------------\n",
      "<class 'bs4.element.NavigableString'>\n"
     ]
    },
    {
     "data": {
      "text/plain": [
       "'\\n'"
      ]
     },
     "metadata": {},
     "output_type": "display_data"
    },
    {
     "name": "stdout",
     "output_type": "stream",
     "text": [
      "Involved\n",
      "------\n",
      "<class 'bs4.element.Tag'>\n",
      "----------\n",
      "[Chorus x2]\n",
      "--------------------\n",
      "<class 'bs4.element.NavigableString'>\n"
     ]
    },
    {
     "data": {
      "text/plain": [
       "'\\n'"
      ]
     },
     "metadata": {},
     "output_type": "display_data"
    },
    {
     "name": "stdout",
     "output_type": "stream",
     "text": [
      "Involved\n",
      "------\n",
      "<class 'bs4.element.Tag'>\n",
      "----------\n",
      "[Verse 2]\n",
      "Last king nigga ready for war, jeep threw off the doors\n",
      "New paint now the car reborn, and I'm flying overseas\n",
      "Now my dollars is foreign\n",
      "And the Bentley got wings now the angels is calling\n",
      "Uhh The good son Macaulay Culkin\n",
      "Getting money til my last show\n",
      "Word up to Oprah, the whips pull out like a leather sofa\n",
      "Coolest nigga couldn't hang with me like Mr.cooper\n",
      "Super duper, need a pooper scooper\n",
      "I'm the shit clean it in the white loofer\n",
      "It's Young Mula hustle like an oompa loompa\n",
      "Young tutor teach you niggas how to do this\n",
      "Shame on a hater, we don't pop charts, so the bread pop up like pop tarts\n",
      "Red coupe, hot sauce, bitches getting locked jaw\n",
      "Big titties top off, ass like sasquatch\n",
      "The rap star, highlights, player of the week, gotta get five mics\n",
      "Clever when I speak, motivation for your life\n",
      "They under-rating me, Mike verses A.I.,\n",
      "But I'ma get mine mothafucka, sh-shootem in the line mothafucka\n",
      "Like hi mothafucka, head light from trucka, like dear to a hunter\n",
      "I'm aiming at something!\n",
      "--------------------\n",
      "<class 'bs4.element.NavigableString'>\n"
     ]
    },
    {
     "data": {
      "text/plain": [
       "'\\n'"
      ]
     },
     "metadata": {},
     "output_type": "display_data"
    },
    {
     "name": "stdout",
     "output_type": "stream",
     "text": [
      "Involved\n",
      "------\n",
      "<class 'bs4.element.Tag'>\n",
      "----------\n",
      "[Chorus]\n",
      "--------------------\n",
      "<class 'bs4.element.NavigableString'>\n"
     ]
    },
    {
     "data": {
      "text/plain": [
       "'\\n'"
      ]
     },
     "metadata": {},
     "output_type": "display_data"
    },
    {
     "name": "stdout",
     "output_type": "stream",
     "text": [
      "It Never Rains\n",
      "------\n",
      "<class 'bs4.element.Tag'>\n",
      "----------\n",
      "[Hook:]\n",
      "It neva rains in Southern California\n",
      "It neva rains in Southern California\n",
      "It neva rains\n",
      "It neva rains in Southern California\n",
      "It neva rains in Southern California\n",
      "--------------------\n",
      "<class 'bs4.element.NavigableString'>\n"
     ]
    },
    {
     "data": {
      "text/plain": [
       "'\\n'"
      ]
     },
     "metadata": {},
     "output_type": "display_data"
    },
    {
     "name": "stdout",
     "output_type": "stream",
     "text": [
      "It Never Rains\n",
      "------\n",
      "<class 'bs4.element.Tag'>\n",
      "----------\n",
      "[Verse 1:]\n",
      "Fresh off the runway, today gon be a good day\n",
      "Her first time in La, she heard bout Secret Sunday\n",
      "Party on rove top, convertible drop top\n",
      "Want the Axel Foley life, talkin Beverly Hills cop\n",
      "2 shots, we sip a lot, one shot, that's all you got\n",
      "She just wanna be on the scene, stuntin in parking lots\n",
      "First time she feel at home, second time did it wrong\n",
      "Third time's a charm, now she ready for it all\n",
      "I place my bets high, no time for actin shy\n",
      "Start about a life on stage, don't close yo eyes\n",
      "Thinkin rodeo drive, sweets at the lama ties\n",
      "Oh she fly but it's gon take more and we ain't tired\n",
      "Hoping that they gon come, she's saving up her ones\n",
      "Saying she love to hustle, champagne for fun\n",
      "A New York stripper, said she left her nigga\n",
      "La won't tip er, she runnin back to that nigga\n",
      "I told er\n",
      "--------------------\n",
      "<class 'bs4.element.NavigableString'>\n"
     ]
    },
    {
     "data": {
      "text/plain": [
       "'\\n'"
      ]
     },
     "metadata": {},
     "output_type": "display_data"
    },
    {
     "name": "stdout",
     "output_type": "stream",
     "text": [
      "It Never Rains\n",
      "------\n",
      "<class 'bs4.element.Tag'>\n",
      "----------\n",
      "[Hook:]\n",
      "It neva rains in Southern California\n",
      "It neva rains\n",
      "It neva rains in Southern California\n",
      "It neva rains in Southern California\n",
      "(It neva rains in Southern California)\n",
      "It neva rains in Southern California\n",
      "--------------------\n",
      "<class 'bs4.element.NavigableString'>\n"
     ]
    },
    {
     "data": {
      "text/plain": [
       "'\\n'"
      ]
     },
     "metadata": {},
     "output_type": "display_data"
    },
    {
     "name": "stdout",
     "output_type": "stream",
     "text": [
      "It Never Rains\n",
      "------\n",
      "<class 'bs4.element.Tag'>\n",
      "----------\n",
      "[Verse 2:]\n",
      "Wake up the flies and she know it's me\n",
      "Swear to God that body perfect like them rosaries\n",
      "She got me Skyping when I'm overseas\n",
      "Swiping when I'm overseas, Chanel with the codeces\n",
      "Berkin make er twerk it, I pop it while she workin\n",
      "Niggas poppin in bands when she walk out by them curtains\n",
      "Make yo rainin honest cause I swear that she deserve it\n",
      "Nowhere to nothing, nigga money longer than that suburban\n",
      "Love er but she a stripper, magnum wrapped just like a turban\n",
      "We just out further here, I'm going deep enough to hurt it\n",
      "Yea she a squirter, that pussy homicide\n",
      "And my dick can murder, The Lake Suicide\n",
      "And I click on purpose, we fuckin Oceanside\n",
      "Keep er wetted in them surface and whenever she resurface\n",
      "It's tighter than a virgin, like a melon when it's swell up\n",
      "Whenever she in Cali no need for the umbrella 'cause\n",
      "--------------------\n",
      "<class 'bs4.element.NavigableString'>\n"
     ]
    },
    {
     "data": {
      "text/plain": [
       "'\\n'"
      ]
     },
     "metadata": {},
     "output_type": "display_data"
    },
    {
     "name": "stdout",
     "output_type": "stream",
     "text": [
      "It Never Rains\n",
      "------\n",
      "<class 'bs4.element.Tag'>\n",
      "----------\n",
      "[Hook:]\n",
      "It neva rains in Southern California\n",
      "It neva rains, no\n",
      "It neva rains in Southern California\n",
      "It neva rains in Southern California\n",
      "It neva rains here\n",
      "It neva rains in Southern California\n",
      "Southern California\n",
      "--------------------\n",
      "<class 'bs4.element.NavigableString'>\n"
     ]
    },
    {
     "data": {
      "text/plain": [
       "'\\n'"
      ]
     },
     "metadata": {},
     "output_type": "display_data"
    },
    {
     "name": "stdout",
     "output_type": "stream",
     "text": [
      "It Never Rains\n",
      "------\n",
      "<class 'bs4.element.Tag'>\n",
      "----------\n",
      "[Bridge:]\n",
      "To live and die in LA\n",
      "Shout out y nigga Game\n",
      "West Coast shit\n",
      "Shout out to Pow 106\n",
      "Supportin the movement, yea\n",
      "Shout out to all the west coast rappers\n",
      "Keepin this LA shit alive one day at a time baby\n",
      "I see ya'll\n",
      "Ain't no place I'd rather be\n",
      "I'm right here with ya'll in LA\n",
      "Yea\n",
      "It's real shit\n",
      "Shout out to everybody on they fashion tip\n",
      "Make sure you check out that last kinky store on fair fact baby\n",
      "Yea, we doing it big, we doing it big\n",
      "--------------------\n",
      "<class 'bs4.element.NavigableString'>\n"
     ]
    },
    {
     "data": {
      "text/plain": [
       "'\\n'"
      ]
     },
     "metadata": {},
     "output_type": "display_data"
    },
    {
     "name": "stdout",
     "output_type": "stream",
     "text": [
      "It Never Rains\n",
      "------\n",
      "<class 'bs4.element.Tag'>\n",
      "----------\n",
      "[Hook:]\n",
      "It neva rains in Southern California\n",
      "It neva rains in Southern California\n",
      "It neva rains in Southern California\n",
      "It neva rains in Southern California\n",
      "--------------------\n",
      "<class 'bs4.element.NavigableString'>\n"
     ]
    },
    {
     "data": {
      "text/plain": [
       "'\\n'"
      ]
     },
     "metadata": {},
     "output_type": "display_data"
    },
    {
     "name": "stdout",
     "output_type": "stream",
     "text": [
      "Jumpin Like Jordan (feat. Migos & Rich The Kid)\n",
      "------\n",
      "<class 'bs4.element.Tag'>\n",
      "----------\n",
      "[Hook]\n",
      "Got the trap house jumping like Jordan\n",
      "Pull up in a brand new foreign\n",
      "300 hundred on the dash, and a paycheck, cash, take off on you niggas, Jeff Gordon\n",
      "Ap, it cost me fifty\n",
      "Model ho, yeah she with me\n",
      "Living life like I’m Diddy\n",
      "In the kitchen with Whitney\n",
      "Got the trap house jumping like Jordan, trap, trap house jumping like Jordan\n",
      "Got the trap house jumping like Jordan, trap, trap house jumping like Jordan\n",
      "Ap, it cost me fifty\n",
      "Model ho, yeah she with me\n",
      "Living life like I’m Diddy\n",
      "In the kitchen with Whitney\n",
      "--------------------\n",
      "<class 'bs4.element.NavigableString'>\n"
     ]
    },
    {
     "data": {
      "text/plain": [
       "'\\n'"
      ]
     },
     "metadata": {},
     "output_type": "display_data"
    },
    {
     "name": "stdout",
     "output_type": "stream",
     "text": [
      "Jumpin Like Jordan (feat. Migos & Rich The Kid)\n",
      "------\n",
      "<class 'bs4.element.Tag'>\n",
      "----------\n",
      "[Verse 1: Quavo]\n",
      "Yeah, Yeah trap house jumping like Jordan\n",
      "J's in the hood, they’re snorting\n",
      "Double cup, lean, I’m pouring\n",
      "Your bitch whipping in the early morning\n",
      "Pulled up in the drop top phantom\n",
      "Niggas in the hood can’t stand it\n",
      "Whip game is so special\n",
      "I’m whipping at the whole grand canyon\n",
      "I got Molly, I got white, Marilyn Mason!\n",
      "I went to the jeweler, cashed out on a new piece, now my diamonds dancing\n",
      "Your bitch think I’m romantic\n",
      "My coke card game is frantic\n",
      "My whip game make you panic\n",
      "My plug is Phil Jackson\n",
      "Feeling like Mutombo, I got all the Kush bowls\n",
      "Juggin at the Texaco, you smoking on Reginald\n",
      "Trap game, Elvis Presley, you can’t impress me\n",
      "Dark skinned ho, cook up the dope, she look like Nestle\n",
      "Gone..\n",
      "--------------------\n",
      "<class 'bs4.element.NavigableString'>\n"
     ]
    },
    {
     "data": {
      "text/plain": [
       "'\\n'"
      ]
     },
     "metadata": {},
     "output_type": "display_data"
    },
    {
     "name": "stdout",
     "output_type": "stream",
     "text": [
      "Jumpin Like Jordan (feat. Migos & Rich The Kid)\n",
      "------\n",
      "<class 'bs4.element.Tag'>\n",
      "----------\n",
      "[Hook]\n",
      "--------------------\n",
      "<class 'bs4.element.NavigableString'>\n"
     ]
    },
    {
     "data": {
      "text/plain": [
       "'\\n'"
      ]
     },
     "metadata": {},
     "output_type": "display_data"
    },
    {
     "name": "stdout",
     "output_type": "stream",
     "text": [
      "Jumpin Like Jordan (feat. Migos & Rich The Kid)\n",
      "------\n",
      "<class 'bs4.element.Tag'>\n",
      "----------\n",
      "[Verse 2: Tyga]\n",
      "Auggh!!\n",
      "Uh, Aye bitch, tongue out\n",
      "Alley oop this bad bitch, Tim Duncan, in her mouth\n",
      "My nigga came with some white girl\n",
      "I told that nigga no doubt\n",
      "If I ain't the rawest out, I'm like Willis what the fuck you talkin' bout\n",
      "Trap house jumping like Jordan\n",
      "Trap house jumping like Jordan\n",
      "At D.O.A with 40 thousand, with 40 bitches bout to blow it\n",
      "I'm on the jet hung over, Migos meet me when I get sober\n",
      "All these niggas acting like soldiers, make a phone call and it's over (Bitch!!)\n",
      "Rich game, LK\n",
      "Get up off my dick snake\n",
      "You bitch made, and your bitch a maid\n",
      "My worst day is my better days\n",
      "My chain came from the Everglades\n",
      "My money great, you forever fake\n",
      "Tatted up like a esse'\n",
      "My ap worth a house on the lake\n",
      "Auggh!!\n",
      "--------------------\n",
      "<class 'bs4.element.NavigableString'>\n"
     ]
    },
    {
     "data": {
      "text/plain": [
       "'\\n'"
      ]
     },
     "metadata": {},
     "output_type": "display_data"
    },
    {
     "name": "stdout",
     "output_type": "stream",
     "text": [
      "Jumpin Like Jordan (feat. Migos & Rich The Kid)\n",
      "------\n",
      "<class 'bs4.element.Tag'>\n",
      "----------\n",
      "[Hook]\n",
      "--------------------\n",
      "<class 'bs4.element.NavigableString'>\n"
     ]
    },
    {
     "data": {
      "text/plain": [
       "'\\n'"
      ]
     },
     "metadata": {},
     "output_type": "display_data"
    },
    {
     "name": "stdout",
     "output_type": "stream",
     "text": [
      "Jumpin Like Jordan (feat. Migos & Rich The Kid)\n",
      "------\n",
      "<class 'bs4.element.Tag'>\n",
      "----------\n",
      "[Verse 3: Rich The Kid]\n",
      "Got the trap house jumping like Kobe\n",
      "Cashed a hundred K on the rollie\n",
      "You don't want it with me nigga, don’t talk to me nigga\n",
      "Ima real ass nigga, you phony!\n",
      "In the kitchen whipping up them babies\n",
      "And pirex trap go crazy\n",
      "Young nigga got money, young nigga got work\n",
      "Young nigga got crack like the 80s\n",
      "I’m winning, I’m winning, I’m dunking, I’m dunking\n",
      "I’m Jordan, you not even Kobe\n",
      "In the kitchen with the pirex pot\n",
      "Water whipping and the pot too hot\n",
      "Drinking lean, out the bottle\n",
      "In a Aston Martin, foreign with a model\n",
      "So many racks on me, got tats on me\n",
      "In the bed with 6 hoes like 2 x 3...\n",
      "--------------------\n",
      "<class 'bs4.element.NavigableString'>\n"
     ]
    },
    {
     "data": {
      "text/plain": [
       "'\\n'"
      ]
     },
     "metadata": {},
     "output_type": "display_data"
    },
    {
     "name": "stdout",
     "output_type": "stream",
     "text": [
      "Jumpin Like Jordan (feat. Migos & Rich The Kid)\n",
      "------\n",
      "<class 'bs4.element.Tag'>\n",
      "----------\n",
      "[Hook]\n",
      "--------------------\n",
      "<class 'bs4.element.NavigableString'>\n"
     ]
    },
    {
     "data": {
      "text/plain": [
       "'\\n'"
      ]
     },
     "metadata": {},
     "output_type": "display_data"
    },
    {
     "name": "stdout",
     "output_type": "stream",
     "text": [
      "Jumpin Like Jordan (feat. Migos & Rich The Kid)\n",
      "------\n",
      "<class 'bs4.element.Tag'>\n",
      "----------\n",
      "[Verse 4: TakeOff]\n",
      "Trap house like Jordan\n",
      "I’m a free man, no Morgan!\n",
      "That choppa, it take out you organs\n",
      "I play with them keys, no organ!\n",
      "Bitch in my kitchen, she snorting\n",
      "The lean, I’m pouring, I'm snoring\n",
      "I’m making them plays in Delaware\n",
      "Versace, Medusa my underwear\n",
      "Who the fuck, nigga better have help\n",
      "You don't trap on the block if you don't live there\n",
      "The trap be jumping, and bunking, the fiends they running, the money keep coming\n",
      "I'm kicking hoes out like a punter, if I start shooting, turn to a track runner\n",
      "I'm calling up rich, he bringing the kids, Whipping the babies all summer\n",
      "--------------------\n",
      "<class 'bs4.element.NavigableString'>\n"
     ]
    },
    {
     "data": {
      "text/plain": [
       "'\\n'"
      ]
     },
     "metadata": {},
     "output_type": "display_data"
    },
    {
     "name": "stdout",
     "output_type": "stream",
     "text": [
      "Jumpin Like Jordan (feat. Migos & Rich The Kid)\n",
      "------\n",
      "<class 'bs4.element.Tag'>\n",
      "----------\n",
      "[Hook]\n",
      "--------------------\n",
      "<class 'bs4.element.NavigableString'>\n"
     ]
    },
    {
     "data": {
      "text/plain": [
       "'\\n'"
      ]
     },
     "metadata": {},
     "output_type": "display_data"
    },
    {
     "name": "stdout",
     "output_type": "stream",
     "text": [
      "King & Queens (feat. Nas & Wale)\n",
      "------\n",
      "<class 'bs4.element.Tag'>\n",
      "----------\n",
      "[Intro: Tyga]\n",
      "We all dream one day we kings and queens\n",
      "We all dream one day we kings and queens\n",
      "My nigga made it, we just young, living the dream\n",
      "My nigga made it, we just young, living the dream\n",
      "--------------------\n",
      "<class 'bs4.element.NavigableString'>\n"
     ]
    },
    {
     "data": {
      "text/plain": [
       "'\\n'"
      ]
     },
     "metadata": {},
     "output_type": "display_data"
    },
    {
     "name": "stdout",
     "output_type": "stream",
     "text": [
      "King & Queens (feat. Nas & Wale)\n",
      "------\n",
      "<class 'bs4.element.Tag'>\n",
      "----------\n",
      "[Verse 1: Tyga]\n",
      "Uh, chandelier ceiling, my couch, don’t sit with denim\n",
      "My marble floors are killing, gold cars are so relentless\n",
      "5 girls in the kitchen, they cooking something like chemists\n",
      "Monumental shit is, statues like Egyptians\n",
      "God cover my soul, need it, can’t let it go\n",
      "I know you get lonely when I ain’t home, on the road\n",
      "I know I ain’t perfect, I’m out here working for the throne\n",
      "I would take you along, but then that college loan you’ll owe\n",
      "Young girls in cheap dresses, tryna impress us\n",
      "Saying they all different, but I don’t show them no effort\n",
      "Underestimated that [?], then I tested\n",
      "Had to make investments, honey colored dressed it\n",
      "I’m blessed it, cross-sign baptism West shit\n",
      "shit on anybody with opinions, you dead wrong\n",
      "Go against a bull nigga head-on\n",
      "I'm too strong, eight arms sticking to a bomb\n",
      "Army stance, ready for war\n",
      "We used a Andy Warhol to paint the decor\n",
      "Apologizing for my actions, sometimes I get bored\n",
      "They say my music knocks, so I hope it open every door\n",
      "--------------------\n",
      "<class 'bs4.element.NavigableString'>\n"
     ]
    },
    {
     "data": {
      "text/plain": [
       "'\\n'"
      ]
     },
     "metadata": {},
     "output_type": "display_data"
    },
    {
     "name": "stdout",
     "output_type": "stream",
     "text": [
      "King & Queens (feat. Nas & Wale)\n",
      "------\n",
      "<class 'bs4.element.Tag'>\n",
      "----------\n",
      "[Hook: Tyga (x2)]\n",
      "We all dream one day we kings and queens\n",
      "We all dream one day we be kings and queens\n",
      "My nigga made it, we just young, living the dream\n",
      "My nigga made it, we just young, living the dream\n",
      "--------------------\n",
      "<class 'bs4.element.NavigableString'>\n"
     ]
    },
    {
     "data": {
      "text/plain": [
       "'\\n'"
      ]
     },
     "metadata": {},
     "output_type": "display_data"
    },
    {
     "name": "stdout",
     "output_type": "stream",
     "text": [
      "King & Queens (feat. Nas & Wale)\n",
      "------\n",
      "<class 'bs4.element.Tag'>\n",
      "----------\n",
      "[Verse 2: Wale]\n",
      "Never take this shit to heart, I take indo to chest\n",
      "And now a nigga chasing dreams without losing his breath\n",
      "Though my credits are slept, my ambition the best\n",
      "Though I do this to be heard, I’ma do it to death\n",
      "We in cool with all of these niggas\n",
      "I’m through with all of these niggas\n",
      "You fool with all of these niggas\n",
      "You lose like all of these (niggas)\n",
      "Honest, sincere, they seersuckers, lying in suits\n",
      "Anybody riding with young’in will probably recoup\n",
      "Heavenly Father, Martin, Malcolm mixed with them lyrics\n",
      "Finna be king, but I’m way too proud to offer as minion\n",
      "I just offer a guillotine to my vehicle, nigga\n",
      "And don’t offer the least of shit to these people’s opinions\n",
      "I’m a king to these niggas, love a queen, fuck the b*tches\n",
      "Double M-G, Y-M-C-M, B because we run this you dig?\n",
      "We all kings, give anything to my soft queens\n",
      "I’m lost without them, when they around I am Charles Sheen\n",
      "--------------------\n",
      "<class 'bs4.element.NavigableString'>\n"
     ]
    },
    {
     "data": {
      "text/plain": [
       "'\\n'"
      ]
     },
     "metadata": {},
     "output_type": "display_data"
    },
    {
     "name": "stdout",
     "output_type": "stream",
     "text": [
      "King & Queens (feat. Nas & Wale)\n",
      "------\n",
      "<class 'bs4.element.Tag'>\n",
      "----------\n",
      "[Hook: Tyga (x2)]\n",
      "We all dream one day we kings and queens\n",
      "We all dream one day we be kings and queens\n",
      "My nigga made it, we just young, living the dream\n",
      "My nigga made it, we just young, living the dream\n",
      "--------------------\n",
      "<class 'bs4.element.NavigableString'>\n"
     ]
    },
    {
     "data": {
      "text/plain": [
       "'\\n'"
      ]
     },
     "metadata": {},
     "output_type": "display_data"
    },
    {
     "name": "stdout",
     "output_type": "stream",
     "text": [
      "King & Queens (feat. Nas & Wale)\n",
      "------\n",
      "<class 'bs4.element.Tag'>\n",
      "----------\n",
      "[Verse 3: Nas]\n",
      "You’re in the presence of a majestic, esoteric\n",
      "Message from the most ghettoest king, worldwide respected\n",
      "I can say ghettoest ‘cause I come from where metal spit\n",
      "Praying to God I can slide and slip out the Devil’s grip\n",
      "Won’t pop another pill, can’t drink another sip\n",
      "Tryna slow down with this pussy, I can’t, I love this shit\n",
      "I seem to love these whips - a white\n",
      "Maserati’s my birthright car, pass it, I need another hit\n",
      "At night, where they murdered Herbie Draws\n",
      "That’s the same block Metta World Peace learned to play ball\n",
      "See I’m born alone, die alone, from the hoods to the private home\n",
      "College to prison, understand it, knowledge and wisdom\n",
      "Shout out to baby mothers of niggas who gangbang\n",
      "‘Cause he could die any day and you still the same thing\n",
      "So that make you a queen, surviving anything\n",
      "Escobar season begins, so let the semis ring\n",
      "Pimp of the year, I could smack your father\n",
      "Not only with my hand, but with a black revolver\n",
      "I been in pressed silk since breast milk\n",
      "Mets cap on tilt, we some kings, nigga\n",
      "--------------------\n",
      "<class 'bs4.element.NavigableString'>\n"
     ]
    },
    {
     "data": {
      "text/plain": [
       "'\\n'"
      ]
     },
     "metadata": {},
     "output_type": "display_data"
    },
    {
     "name": "stdout",
     "output_type": "stream",
     "text": [
      "King Company (feat. Honey Cocaine)\n",
      "------\n",
      "<class 'bs4.element.Tag'>\n",
      "----------\n",
      "[Verse 1: Honey Cocaine]\n",
      "Yellow bitch wear gold jewels\n",
      "New bitch, drive old school\n",
      "Them bitches hate like, \"Who you?\"\n",
      "You ain't shit, you boo-boo\n",
      "I gets mine and take yours\n",
      "Shitting what I made for\n",
      "Touring, bitch, I give it dawg\n",
      "Tell her that I said, \"I did it, dawg\"\n",
      "Yellow bitch, all night\n",
      "Yellow bitch, all right\n",
      "Yellow bitch, I does my thang\n",
      "All the homies say why\n",
      "I know, I know, I know your nigga love to sing my songs, bitch\n",
      "If you fucking with me, then you fucking with the wrong bitch\n",
      "I'm 'bout it, 'bout it\n",
      "He 'bout it, 'bout it\n",
      "He hit it, hit it\n",
      "Can't live without it, 'out it\n",
      "I'm in this dawg, treat that rap like it's my job\n",
      "When my brahs fuck the cops, thirsty bitches acting pause\n",
      "Don't be moving like you and I was friends or something\n",
      "Cause I'm just doing me, rapping trying to spit something\n",
      "I don't know you brah\n",
      "Suck my clit, I don't owe you brahs\n",
      "Dark skin bitch with the golden hair\n",
      "Honey Cocaine to the fucking world, hey\n",
      "--------------------\n",
      "<class 'bs4.element.NavigableString'>\n"
     ]
    },
    {
     "data": {
      "text/plain": [
       "'\\n'"
      ]
     },
     "metadata": {},
     "output_type": "display_data"
    },
    {
     "name": "stdout",
     "output_type": "stream",
     "text": [
      "King Company (feat. Honey Cocaine)\n",
      "------\n",
      "<class 'bs4.element.Tag'>\n",
      "----------\n",
      "[Verse 2: Tyga]\n",
      "Fuck the world, came and gave her a baby\n",
      "My car do 180, I'm losing sperm, I'm faded\n",
      "Your girl ejaculate me, I'm horse riding that anal\n",
      "This crazy shit I be saying insane, I'm Charles Manson\n",
      "This motherfucker ain't landing\n",
      "I'm landing on bitches' panties\n",
      "That lambskin in the Lambo\n",
      "Shoot up your leg, now you can't stand me (ha)\n",
      "Pop up, pop up on you with cars you've seen in cartoons\n",
      "I'm like f-f-f-fuck you, cause you, ain't got nothing to lose\n",
      "Funny, Adam Sandler\n",
      "I cover my back with mammals\n",
      "They judge me, don't need a panel\n",
      "You gossip too much; E channel\n",
      "W-w-why you all up on me?\n",
      "I thought I told you don't call me\n",
      "My cousins, they see me shining\n",
      "Now they're all begging for diamonds\n",
      "I, I'm just good with this rhyming\n",
      "Rolex, that's perfect timing\n",
      "Might change my name to Muhammad\n",
      "Like Ali, she call me Papi (ah)\n",
      "Don't want more problems\n",
      "I just want more money\n",
      "Two house bunnies to keep the king company (ha)\n",
      "--------------------\n",
      "<class 'bs4.element.NavigableString'>\n"
     ]
    },
    {
     "data": {
      "text/plain": [
       "'\\n'"
      ]
     },
     "metadata": {},
     "output_type": "display_data"
    },
    {
     "name": "stdout",
     "output_type": "stream",
     "text": [
      "<class 'bs4.element.NavigableString'>\n"
     ]
    },
    {
     "data": {
      "text/plain": [
       "'\\n'"
      ]
     },
     "metadata": {},
     "output_type": "display_data"
    },
    {
     "name": "stdout",
     "output_type": "stream",
     "text": [
      "Lap Dance\n",
      "------\n",
      "<class 'bs4.element.Tag'>\n",
      "----------\n",
      "[Verse 1]\n",
      "Shit straight killer, Max Payne, Travis Porter, make it rain\n",
      "Young Money gang, put you on the team\n",
      "All my bitches fly, put you on a plane\n",
      "Hundreds in your face, why you broke boy?\n",
      "Not from Chi city but I make the Illinois\n",
      "Let your pride gone walk it out\n",
      "In the bank and I’m only cashing large amounts\n",
      "One, one, two, two bitch what it do? three, four, drop it to the floor\n",
      "five, five, six, six, rub her on the tits\n",
      "Seven, seven, eight, eight, make that ass shake\n",
      "--------------------\n",
      "<class 'bs4.element.NavigableString'>\n"
     ]
    },
    {
     "data": {
      "text/plain": [
       "'\\n'"
      ]
     },
     "metadata": {},
     "output_type": "display_data"
    },
    {
     "name": "stdout",
     "output_type": "stream",
     "text": [
      "Lap Dance\n",
      "------\n",
      "<class 'bs4.element.Tag'>\n",
      "----------\n",
      "[Hook]\n",
      "Benzo, batman, thick hoe, lap dance\n",
      "Ass so fat need a lap dance\n",
      "Ass so fat I need a lap dance\n",
      "Benzo, batman, big hoe, lap dance\n",
      "Ass so fat need a lap dance\n",
      "Ass so fat I need a lap dance\n",
      "--------------------\n",
      "<class 'bs4.element.NavigableString'>\n"
     ]
    },
    {
     "data": {
      "text/plain": [
       "'\\n'"
      ]
     },
     "metadata": {},
     "output_type": "display_data"
    },
    {
     "name": "stdout",
     "output_type": "stream",
     "text": [
      "Lap Dance\n",
      "------\n",
      "<class 'bs4.element.Tag'>\n",
      "----------\n",
      "[Verse 2]\n",
      "It’s raining ass and titties, yeah, ass and titties\n",
      "If you ain’t throwing money, mind your fucking business\n",
      "Floss like a dentist, Dennis the menace\n",
      "Room of crazy niggas, probably get a life sentence\n",
      "Sharper than a tac, attack and bite you bitches\n",
      "Swagga jack and biting on like you niggas\n",
      "Like conscious rappers, mad cause we winning\n",
      "Snug long nose call it Scottie Pippen\n",
      "Ahh, got like 200k large, in the back seat of my car\n",
      "Like Cialis I go hard, motherfucker\n",
      "One, one, two, two bitch what it do? three, four, drop it to the floor\n",
      "five, five, six, six, rub her on the tits\n",
      "Seven, seven, eight, eight, make that ass shake\n",
      "--------------------\n",
      "<class 'bs4.element.NavigableString'>\n"
     ]
    },
    {
     "data": {
      "text/plain": [
       "'\\n'"
      ]
     },
     "metadata": {},
     "output_type": "display_data"
    },
    {
     "name": "stdout",
     "output_type": "stream",
     "text": [
      "Lap Dance\n",
      "------\n",
      "<class 'bs4.element.Tag'>\n",
      "----------\n",
      "[Hook]\n",
      "--------------------\n",
      "<class 'bs4.element.NavigableString'>\n"
     ]
    },
    {
     "data": {
      "text/plain": [
       "'\\n'"
      ]
     },
     "metadata": {},
     "output_type": "display_data"
    },
    {
     "name": "stdout",
     "output_type": "stream",
     "text": [
      "<class 'bs4.element.NavigableString'>\n"
     ]
    },
    {
     "data": {
      "text/plain": [
       "'\\n'"
      ]
     },
     "metadata": {},
     "output_type": "display_data"
    },
    {
     "name": "stdout",
     "output_type": "stream",
     "text": [
      "<class 'bs4.element.NavigableString'>\n"
     ]
    },
    {
     "data": {
      "text/plain": [
       "'\\n'"
      ]
     },
     "metadata": {},
     "output_type": "display_data"
    },
    {
     "name": "stdout",
     "output_type": "stream",
     "text": [
      "Lap Dance\n",
      "------\n",
      "<class 'bs4.element.Tag'>\n",
      "----------\n",
      "[Hook]\n",
      "--------------------\n",
      "<class 'bs4.element.NavigableString'>\n"
     ]
    },
    {
     "data": {
      "text/plain": [
       "'\\n'"
      ]
     },
     "metadata": {},
     "output_type": "display_data"
    },
    {
     "name": "stdout",
     "output_type": "stream",
     "text": [
      "Lay You Down (feat. Lil Wayne)\n",
      "------\n",
      "<class 'bs4.element.Tag'>\n",
      "----------\n",
      "[Lil Wayne:]\n",
      "Hello world my name is not important.\n",
      "Today its about (Tyga) yes sir, lay you (lay you) lay you (lay you) down.\n",
      "Yeah, let's go.. Ima sit back and smoke.. I might grab my guitar.\n",
      "--------------------\n",
      "<class 'bs4.element.NavigableString'>\n"
     ]
    },
    {
     "data": {
      "text/plain": [
       "'\\n'"
      ]
     },
     "metadata": {},
     "output_type": "display_data"
    },
    {
     "name": "stdout",
     "output_type": "stream",
     "text": [
      "Lay You Down (feat. Lil Wayne)\n",
      "------\n",
      "<class 'bs4.element.Tag'>\n",
      "----------\n",
      "[Hook:]\n",
      "I got these bullets in the cham-ber\n",
      "Don't make me let off a round\n",
      "If my lifes in dan-ger\n",
      "I'm gonna lay you down lay you down\n",
      "Ya lifes in my cham-ber\n",
      "Don't make me let off a round\n",
      "If my lifes in dan-ger\n",
      "I'm gonna lay you down lay you down\n",
      "--------------------\n",
      "<class 'bs4.element.NavigableString'>\n"
     ]
    },
    {
     "data": {
      "text/plain": [
       "'\\n'"
      ]
     },
     "metadata": {},
     "output_type": "display_data"
    },
    {
     "name": "stdout",
     "output_type": "stream",
     "text": [
      "Lay You Down (feat. Lil Wayne)\n",
      "------\n",
      "<class 'bs4.element.Tag'>\n",
      "----------\n",
      "[Tyga:]\n",
      "Uhh I ain a killer but don't push me\n",
      "Far from a saint, don't play that reggie bushing\n",
      "Face covered, Louie hoodie oh he rock skinnies bet we get'em still\n",
      "(Lay you) pow pow (lay you down) Won't even be present for witness\n",
      "Wayne said it, send a debit, what them boys charge for it\n",
      "Recycle her boyfriend, wanna fight box him in, card board\n",
      "Tyga star, haters home, look up, yup, I'm on tour\n",
      "What you plottin for, Part four \n",
      "--------------------\n",
      "<class 'bs4.element.NavigableString'>\n"
     ]
    },
    {
     "data": {
      "text/plain": [
       "'\\n'"
      ]
     },
     "metadata": {},
     "output_type": "display_data"
    },
    {
     "name": "stdout",
     "output_type": "stream",
     "text": [
      "Lay You Down (feat. Lil Wayne)\n",
      "------\n",
      "<class 'bs4.element.Tag'>\n",
      "----------\n",
      "[Hook:]\n",
      "I got these bullets in the cham-ber\n",
      "Don't make me let off a round (so like I said)\n",
      "If my lifes in dan-ger (or better yet like he said)\n",
      "I'm gonna lay you down lay you down\n",
      "Ya lifes in my cham-ber\n",
      "Don't make me let off a round\n",
      "If my lifes in dan-ger\n",
      "I'm gonna lay you down lay you down (get em boy)\n",
      "--------------------\n",
      "<class 'bs4.element.NavigableString'>\n"
     ]
    },
    {
     "data": {
      "text/plain": [
       "'\\n'"
      ]
     },
     "metadata": {},
     "output_type": "display_data"
    },
    {
     "name": "stdout",
     "output_type": "stream",
     "text": [
      "Lay You Down (feat. Lil Wayne)\n",
      "------\n",
      "<class 'bs4.element.Tag'>\n",
      "----------\n",
      "[Tyga:]\n",
      "I be calm til the moment, souls should be roaming (fly)\n",
      "Your lifes in a toilet, shit get it on homie\n",
      "Thought he knew me, put 5 on it, bet I'm no looneys toon\n",
      "Tell'em this ain't no Daffy Duck movie, for sure\n",
      "My jewelry got that daff punk glow to it\n",
      "That's why they lookin, participants, I'm no rookie(s)\n",
      "Get paid the salary, look at me, but don't stand cuz their, right here\n",
      "View my mirrors hell yeah\n",
      "--------------------\n",
      "<class 'bs4.element.NavigableString'>\n"
     ]
    },
    {
     "data": {
      "text/plain": [
       "'\\n'"
      ]
     },
     "metadata": {},
     "output_type": "display_data"
    },
    {
     "name": "stdout",
     "output_type": "stream",
     "text": [
      "Lay You Down (feat. Lil Wayne)\n",
      "------\n",
      "<class 'bs4.element.Tag'>\n",
      "----------\n",
      "[Hook:]\n",
      "I got these bullets in the cham-ber\n",
      "Don't make me let off a round (so like I said)\n",
      "If my lifes in dan-ger (or better yet like he said)\n",
      "I'm gonna lay you down lay you down\n",
      "Ya lifes in my cham-ber\n",
      "Don't make me let off a round\n",
      "If my lifes in dan-ger\n",
      "I'm gonna lay you down lay you down (get em boy)\n",
      "--------------------\n",
      "<class 'bs4.element.NavigableString'>\n"
     ]
    },
    {
     "data": {
      "text/plain": [
       "'\\n'"
      ]
     },
     "metadata": {},
     "output_type": "display_data"
    },
    {
     "name": "stdout",
     "output_type": "stream",
     "text": [
      "Lay You Down (feat. Lil Wayne)\n",
      "------\n",
      "<class 'bs4.element.Tag'>\n",
      "----------\n",
      "[Lil Wayne:]\n",
      "You heard me! Better make me love you baby!\n",
      "Ah ehmmmm, reportin live from the barrel (Get'em)\n",
      "Two tear drops under that eye on the sparrow (Uhhh)\n",
      "I'm from a small place they call Uptown where we (lay you) where we (lay you (hahaha!) down)\n",
      "Like concrete in the driveway, shoot sideways like O Dog on Menace\n",
      "Leave yo' brains in yo' tennis, I'm the renaissance man\n",
      "So put me in the book and I got my pistol on the hook sanging... hahaha!\n",
      "--------------------\n",
      "<class 'bs4.element.NavigableString'>\n"
     ]
    },
    {
     "data": {
      "text/plain": [
       "'\\n'"
      ]
     },
     "metadata": {},
     "output_type": "display_data"
    },
    {
     "name": "stdout",
     "output_type": "stream",
     "text": [
      "Lay You Down (feat. Lil Wayne)\n",
      "------\n",
      "<class 'bs4.element.Tag'>\n",
      "----------\n",
      "[Hook:]\n",
      "I got these bullets in the cham-ber\n",
      "Don't make me let off a round\n",
      "If my lifes in dan-ger\n",
      "I'm gonna lay you down lay you down\n",
      "Ya lifes in my cham-ber\n",
      "Don't make me let off a round\n",
      "If my lifes in dan-ger\n",
      "I'm gonna lay you down lay you down\n",
      "--------------------\n",
      "<class 'bs4.element.NavigableString'>\n"
     ]
    },
    {
     "data": {
      "text/plain": [
       "'\\n'"
      ]
     },
     "metadata": {},
     "output_type": "display_data"
    },
    {
     "name": "stdout",
     "output_type": "stream",
     "text": [
      "Lay You Down (feat. Lil Wayne)\n",
      "------\n",
      "<class 'bs4.element.Tag'>\n",
      "----------\n",
      "[Lil Wayne:]\n",
      "When I say fuck yall.. I really mean mammy mutha fuck all yall.\n",
      "Tyga Tyga, (lay you) Young Money, (lay you (I thought you knew) down)\n",
      "--------------------\n",
      "<class 'bs4.element.NavigableString'>\n"
     ]
    },
    {
     "data": {
      "text/plain": [
       "'\\n'"
      ]
     },
     "metadata": {},
     "output_type": "display_data"
    },
    {
     "name": "stdout",
     "output_type": "stream",
     "text": [
      "<class 'bs4.element.NavigableString'>\n"
     ]
    },
    {
     "data": {
      "text/plain": [
       "'\\n'"
      ]
     },
     "metadata": {},
     "output_type": "display_data"
    },
    {
     "name": "stdout",
     "output_type": "stream",
     "text": [
      "Let It Show (feat. J. Cole)\n",
      "------\n",
      "<class 'bs4.element.Tag'>\n",
      "----------\n",
      "[Intro]\n",
      "While my emotion grows, I still won't let it show\n",
      "I still won't let it show\n",
      "Even if I'm broke, I still won't let it show\n",
      "I still won't let it show\n",
      "--------------------\n",
      "<class 'bs4.element.NavigableString'>\n"
     ]
    },
    {
     "data": {
      "text/plain": [
       "'\\n'"
      ]
     },
     "metadata": {},
     "output_type": "display_data"
    },
    {
     "name": "stdout",
     "output_type": "stream",
     "text": [
      "Let It Show (feat. J. Cole)\n",
      "------\n",
      "<class 'bs4.element.Tag'>\n",
      "----------\n",
      "[Verse 1 - Tyga]\n",
      "Nigga, welcome to my life\n",
      "Life feels like I'm running through a red light\n",
      "Don't believe what the blogs write\n",
      "Mufuckas wanna know me so they call me Mike\n",
      "I'm just chillin', watching the fight\n",
      "Few friends, fake girls, pour me some ice\n",
      "Table glass slippers on, lower the blinds\n",
      "Never been shy, I just ignore lies\n",
      "Take a look into Tyga's eyes\n",
      "I breathe love but inhale the hate bomb\n",
      "So numb my face gone, I need my space\n",
      "And I don't do Facebook\n",
      "Seriously how my face look\n",
      "How could a man cry while the crowd looks?\n",
      "Could you walk with me if I give you my foot?\n",
      "Didn't think you could...\n",
      "--------------------\n",
      "<class 'bs4.element.NavigableString'>\n"
     ]
    },
    {
     "data": {
      "text/plain": [
       "'\\n'"
      ]
     },
     "metadata": {},
     "output_type": "display_data"
    },
    {
     "name": "stdout",
     "output_type": "stream",
     "text": [
      "Let It Show (feat. J. Cole)\n",
      "------\n",
      "<class 'bs4.element.Tag'>\n",
      "----------\n",
      "[Hook]\n",
      "While my emotion grows, I still won't let it show\n",
      "I still won't let it show\n",
      "Even if I'm broke, I still won't let it show\n",
      "I still won't let it show\n",
      "My mind overloads I still won’t let it show\n",
      "I still won’t let it show\n",
      "People I love the most, I still won’t let it show\n",
      "I still won’t let it show, I won’t let it show\n",
      "--------------------\n",
      "<class 'bs4.element.NavigableString'>\n"
     ]
    },
    {
     "data": {
      "text/plain": [
       "'\\n'"
      ]
     },
     "metadata": {},
     "output_type": "display_data"
    },
    {
     "name": "stdout",
     "output_type": "stream",
     "text": [
      "Let It Show (feat. J. Cole)\n",
      "------\n",
      "<class 'bs4.element.Tag'>\n",
      "----------\n",
      "[Verse 2 - Tyga]\n",
      "I don't wanna feel like most rappers feel when they get a deal\n",
      "Like, \"Yeah I'm bigger than him, he's still loco\"\n",
      "Gotta keep it real cause they will go loco\n",
      "Like \"He ain't ever go through shit we go through\"\n",
      "So I guess now I owe you\n",
      "No, now I hold you, watch the niggas close to you\n",
      "Don't compare careers, his and his fools\n",
      "Acting like I knew you back in middle school\n",
      "Dropped out, mama said I was a fool\n",
      "I brought the drop out now me and mama cool\n",
      "Told her I won't lose, showed her a Jimmy Choo\n",
      "She call me son now, tell me she real proud, smiles\n",
      "Oh what a feeling to be loved\n",
      "Oh what a feeling to be loved\n",
      "I wish I could fly like a dove\n",
      "--------------------\n",
      "<class 'bs4.element.NavigableString'>\n"
     ]
    },
    {
     "data": {
      "text/plain": [
       "'\\n'"
      ]
     },
     "metadata": {},
     "output_type": "display_data"
    },
    {
     "name": "stdout",
     "output_type": "stream",
     "text": [
      "Let It Show (feat. J. Cole)\n",
      "------\n",
      "<class 'bs4.element.Tag'>\n",
      "----------\n",
      "[Hook]\n",
      "While my emotion grows, I still won't let it show\n",
      "I still won't let it show\n",
      "Even if I'm broke, I still won't let it show\n",
      "I still won't let it show\n",
      "My mind overloads I still won’t let it show\n",
      "I still won’t let it show\n",
      "People I love the most, I still won’t let it show\n",
      "I still won’t let it show, I won’t let it show\n",
      "--------------------\n",
      "<class 'bs4.element.NavigableString'>\n"
     ]
    },
    {
     "data": {
      "text/plain": [
       "'\\n'"
      ]
     },
     "metadata": {},
     "output_type": "display_data"
    },
    {
     "name": "stdout",
     "output_type": "stream",
     "text": [
      "Let It Show (feat. J. Cole)\n",
      "------\n",
      "<class 'bs4.element.Tag'>\n",
      "----------\n",
      "[Bridge - Tyga speaking]\n",
      "Ive learned that people will forget what you say\n",
      "People will forget what you did or done\n",
      "But people will never forget how you made them feel\n",
      "Don't cry because it's over\n",
      "Smile because it happened\n",
      "--------------------\n",
      "<class 'bs4.element.NavigableString'>\n"
     ]
    },
    {
     "data": {
      "text/plain": [
       "'\\n'"
      ]
     },
     "metadata": {},
     "output_type": "display_data"
    },
    {
     "name": "stdout",
     "output_type": "stream",
     "text": [
      "Let It Show (feat. J. Cole)\n",
      "------\n",
      "<class 'bs4.element.Tag'>\n",
      "----------\n",
      "[Verse 3 - J. Cole]\n",
      "Cole World, niggas ran for that heat\n",
      "As the globe twirl gotta stay up on your feet\n",
      "Before I say it to my girl, I say it to the beat\n",
      "Then I play it for the world\n",
      "And they say that shit is deep\n",
      "My life is changing as we speak\n",
      "They acting like they never seen a nigga on the beach\n",
      "I say \"peace\" hope there's no sharks in my water\n",
      "Then holla at my mama, man she love to see Obama\n",
      "Do his thing, now look how far niggas done came\n",
      "They had us on the chains, now we coppin' bigger chains\n",
      "Now they say that it's smart, old nigga don't trip\n",
      "But they had us on the whips, now we counting bigger whips\n",
      "Oh shit, wonder how bad will it get before he rise\n",
      "I'm out here trying to get rich: I survive\n",
      "And a nigga got God to thank\n",
      "And I'm still throwin' 5 in the tank, nigga Cole!\n",
      "--------------------\n",
      "<class 'bs4.element.NavigableString'>\n"
     ]
    },
    {
     "data": {
      "text/plain": [
       "'\\n'"
      ]
     },
     "metadata": {},
     "output_type": "display_data"
    },
    {
     "name": "stdout",
     "output_type": "stream",
     "text": [
      "Let It Show (feat. J. Cole)\n",
      "------\n",
      "<class 'bs4.element.Tag'>\n",
      "----------\n",
      "[Hook]\n",
      "While my emotion grows, I still won't let it show\n",
      "I still won't let it show\n",
      "Even if I'm broke, I still won't let it show\n",
      "I still won't let it show\n",
      "My mind overloads I still won’t let it show\n",
      "I still won’t let it show\n",
      "People I love the most, I still won’t let it show\n",
      "I still won’t let it show, I won’t let it show\n",
      "--------------------\n",
      "<class 'bs4.element.NavigableString'>\n"
     ]
    },
    {
     "data": {
      "text/plain": [
       "'\\n'"
      ]
     },
     "metadata": {},
     "output_type": "display_data"
    },
    {
     "name": "stdout",
     "output_type": "stream",
     "text": [
      "<class 'bs4.element.NavigableString'>\n"
     ]
    },
    {
     "data": {
      "text/plain": [
       "'\\n'"
      ]
     },
     "metadata": {},
     "output_type": "display_data"
    },
    {
     "name": "stdout",
     "output_type": "stream",
     "text": [
      "Light Dreams\n",
      "------\n",
      "<class 'bs4.element.Tag'>\n",
      "----------\n",
      "Everything ain't everything\n",
      "Shit ain't always wat it seems\n",
      "I put that on everything no sleep having light dreams\n",
      "What I see is what I cant reach I put that on everything\n",
      "Goin crazy, I might be no sleep having light dreams\n",
      "I dream (I dream)\n",
      "[x2]\n",
      "--------------------\n",
      "<class 'bs4.element.NavigableString'>\n"
     ]
    },
    {
     "data": {
      "text/plain": [
       "'\\n'"
      ]
     },
     "metadata": {},
     "output_type": "display_data"
    },
    {
     "name": "stdout",
     "output_type": "stream",
     "text": [
      "Like Me\n",
      "------\n",
      "<class 'bs4.element.Tag'>\n",
      "----------\n",
      "[Hook:]\n",
      "Uh yea bitch I'm ballin, bitch I'm balling\n",
      "Betchu nigga, he ain't balling (like me)\n",
      "Yea, bitches choosing and they calling\n",
      "Cause I'm balling said they wanna fuck a nigga (like me)\n",
      "And my niggas paid, they ain't never gotta pay (like me)\n",
      "Yea bitch I'm ballin, bitch I'm balling\n",
      "Betchu nigga, he ain't balling (like me)\n",
      "--------------------\n",
      "<class 'bs4.element.NavigableString'>\n"
     ]
    },
    {
     "data": {
      "text/plain": [
       "'\\n'"
      ]
     },
     "metadata": {},
     "output_type": "display_data"
    },
    {
     "name": "stdout",
     "output_type": "stream",
     "text": [
      "<class 'bs4.element.NavigableString'>\n"
     ]
    },
    {
     "data": {
      "text/plain": [
       "'\\n'"
      ]
     },
     "metadata": {},
     "output_type": "display_data"
    },
    {
     "name": "stdout",
     "output_type": "stream",
     "text": [
      "Like Me\n",
      "------\n",
      "<class 'bs4.element.Tag'>\n",
      "----------\n",
      "[Hook]\n",
      "--------------------\n",
      "<class 'bs4.element.NavigableString'>\n"
     ]
    },
    {
     "data": {
      "text/plain": [
       "'\\n'"
      ]
     },
     "metadata": {},
     "output_type": "display_data"
    },
    {
     "name": "stdout",
     "output_type": "stream",
     "text": [
      "<class 'bs4.element.NavigableString'>\n"
     ]
    },
    {
     "data": {
      "text/plain": [
       "'\\n'"
      ]
     },
     "metadata": {},
     "output_type": "display_data"
    },
    {
     "name": "stdout",
     "output_type": "stream",
     "text": [
      "Like Me\n",
      "------\n",
      "<class 'bs4.element.Tag'>\n",
      "----------\n",
      "[Hook]\n",
      "--------------------\n",
      "<class 'bs4.element.NavigableString'>\n"
     ]
    },
    {
     "data": {
      "text/plain": [
       "'\\n'"
      ]
     },
     "metadata": {},
     "output_type": "display_data"
    },
    {
     "name": "stdout",
     "output_type": "stream",
     "text": [
      "Like Me\n",
      "------\n",
      "<class 'bs4.element.Tag'>\n",
      "----------\n",
      "King lazareth, living on that lavish shit [?]\n",
      "Lose your mind, lose your sense\n",
      "Pay attention, yea you feeling me\n",
      "Fill my cup high as trees, relax feel the breeze\n",
      "All jokes aside, got a mistress on the side\n",
      "If you ridin for me then you gone ride or die\n",
      "Ruff Ryder Volume 2 my love\n",
      "If you wanna party, got a party bus\n",
      "Capacity us, full moon, brandy glass\n",
      "So loosen your Gucci baby, lemme spank that ass\n",
      "Taste so good, blue berry rasp\n",
      "Berry berry cherry, whip cream on that twat\n",
      "You can applaud that, terminator, I'll be right back\n",
      "Say my name, Tyga man, screaming so loud, like I know you can\n",
      "--------------------\n",
      "<class 'bs4.element.NavigableString'>\n"
     ]
    },
    {
     "data": {
      "text/plain": [
       "'\\n'"
      ]
     },
     "metadata": {},
     "output_type": "display_data"
    },
    {
     "name": "stdout",
     "output_type": "stream",
     "text": [
      "Like Me\n",
      "------\n",
      "<class 'bs4.element.Tag'>\n",
      "----------\n",
      "[Hook]\n",
      "--------------------\n",
      "<class 'bs4.element.NavigableString'>\n"
     ]
    },
    {
     "data": {
      "text/plain": [
       "'\\n'"
      ]
     },
     "metadata": {},
     "output_type": "display_data"
    },
    {
     "name": "stdout",
     "output_type": "stream",
     "text": [
      "<class 'bs4.element.NavigableString'>\n"
     ]
    },
    {
     "data": {
      "text/plain": [
       "'\\n'"
      ]
     },
     "metadata": {},
     "output_type": "display_data"
    },
    {
     "name": "stdout",
     "output_type": "stream",
     "text": [
      "Lil Homie (feat. Pharrell)\n",
      "------\n",
      "<class 'bs4.element.Tag'>\n",
      "----------\n",
      "[Hook: Pharrell]\n",
      "Lil homie, (Wassup big dog)\n",
      "Everybody tryna get with you, come on\n",
      "Lil homie, (Wassup big dog)\n",
      "Stay focused, got shit to do, yeah, come on\n",
      "--------------------\n",
      "<class 'bs4.element.NavigableString'>\n"
     ]
    },
    {
     "data": {
      "text/plain": [
       "'\\n'"
      ]
     },
     "metadata": {},
     "output_type": "display_data"
    },
    {
     "name": "stdout",
     "output_type": "stream",
     "text": [
      "Lil Homie (feat. Pharrell)\n",
      "------\n",
      "<class 'bs4.element.Tag'>\n",
      "----------\n",
      "[Verse 1: Tyga]\n",
      "They say what don't break a nigga make a nigga\n",
      "I woke up out my dream, said I gotta get it\n",
      "This whole city full of thieves, gotta watch my pivot\n",
      "Cause on the block, niggas never seen good living\n",
      "Only lived in jail cells or prison\n",
      "Drive-bys, little homies hit the store for liquor\n",
      "I gotta steer my life different, where to begin with?\n",
      "Mama told me go back to school, I said I'm finished\n",
      "There's only one way a nigga gonna learn:\n",
      "You gotta take risks and do things the hard way\n",
      "Stole the hall pass, now I'm running through the hallways\n",
      "Only thing in my memory from those days\n",
      "You couldn't save a nigga, even on a Sunday\n",
      "Monday, new day, shit still the same\n",
      "Gotta switch the rhythm up like Kwame\n",
      "When things changed, watch people do the same\n",
      "As I hear a voice sing:\n",
      "--------------------\n",
      "<class 'bs4.element.NavigableString'>\n"
     ]
    },
    {
     "data": {
      "text/plain": [
       "'\\n'"
      ]
     },
     "metadata": {},
     "output_type": "display_data"
    },
    {
     "name": "stdout",
     "output_type": "stream",
     "text": [
      "Lil Homie (feat. Pharrell)\n",
      "------\n",
      "<class 'bs4.element.Tag'>\n",
      "----------\n",
      "[Hook: Pharrell]\n",
      "Lil homie, (Wassup big dog)\n",
      "Everybody tryna get with you, come on\n",
      "Lil homie, (Wassup big dog)\n",
      "Stay focused, got shit to do, yeah, come on\n",
      "--------------------\n",
      "<class 'bs4.element.NavigableString'>\n"
     ]
    },
    {
     "data": {
      "text/plain": [
       "'\\n'"
      ]
     },
     "metadata": {},
     "output_type": "display_data"
    },
    {
     "name": "stdout",
     "output_type": "stream",
     "text": [
      "Lil Homie (feat. Pharrell)\n",
      "------\n",
      "<class 'bs4.element.Tag'>\n",
      "----------\n",
      "[Verse 2: Tyga]\n",
      "Big boy grown, can't leave the streets alone\n",
      "Wanna be a king, but you're too young for the throne\n",
      "Why you riding in the car that you can't afford?\n",
      "Can't move forward in the 4-door chrome\n",
      "All that cheap talk I never did\n",
      "My walk is Billie Jean, my shoes are never slip\n",
      "Notice how close he is, gold his goals that approachin' him\n",
      "They can't stop the win losing's not an option\n",
      "First place locked in, get my trophy ready bitch\n",
      "Turn your back on me only gon' leave you dead\n",
      "fuck that bullshit I got common sense\n",
      "I'm ready for my limelight put my mic in hand\n",
      "They'll dissolve when the money's gone\n",
      "So motherfucka don't appear when the money's home\n",
      "Lil' homie done grew into a big dog\n",
      "If you barking in my way you gettin' chewed on\n",
      "--------------------\n",
      "<class 'bs4.element.NavigableString'>\n"
     ]
    },
    {
     "data": {
      "text/plain": [
       "'\\n'"
      ]
     },
     "metadata": {},
     "output_type": "display_data"
    },
    {
     "name": "stdout",
     "output_type": "stream",
     "text": [
      "Lil Homie (feat. Pharrell)\n",
      "------\n",
      "<class 'bs4.element.Tag'>\n",
      "----------\n",
      "[Hook: Pharrell]\n",
      "Lil homie, (Wassup big dog)\n",
      "Everybody tryna get with you, come on\n",
      "Lil homie, (Wassup big dog)\n",
      "Stay focused, got shit to do, yeah, come on\n",
      "--------------------\n",
      "<class 'bs4.element.NavigableString'>\n"
     ]
    },
    {
     "data": {
      "text/plain": [
       "'\\n'"
      ]
     },
     "metadata": {},
     "output_type": "display_data"
    },
    {
     "name": "stdout",
     "output_type": "stream",
     "text": [
      "Lil Homie (feat. Pharrell)\n",
      "------\n",
      "<class 'bs4.element.Tag'>\n",
      "----------\n",
      "[Bridge: Pharrell + Tyga]\n",
      "See your friends walking up and down your block\n",
      "Ain't got a penny-nenny-nenny-nenny\n",
      "Just picture yourself sittin' there on top\n",
      "A nigga straight winnin-in-in-in-in-in-in\n",
      "--------------------\n",
      "<class 'bs4.element.NavigableString'>\n"
     ]
    },
    {
     "data": {
      "text/plain": [
       "'\\n'"
      ]
     },
     "metadata": {},
     "output_type": "display_data"
    },
    {
     "name": "stdout",
     "output_type": "stream",
     "text": [
      "<class 'bs4.element.NavigableString'>\n"
     ]
    },
    {
     "data": {
      "text/plain": [
       "'\\n'"
      ]
     },
     "metadata": {},
     "output_type": "display_data"
    },
    {
     "name": "stdout",
     "output_type": "stream",
     "text": [
      "Lil Homie (feat. Pharrell)\n",
      "------\n",
      "<class 'bs4.element.Tag'>\n",
      "----------\n",
      "[Hook: Pharrell]\n",
      "Lil homie, (Wassup big dog)\n",
      "Everybody tryna get with you, come on\n",
      "Lil homie, (Wassup big dog)\n",
      "Stay focused, got shit to do, yeah, come on\n",
      "--------------------\n",
      "<class 'bs4.element.NavigableString'>\n"
     ]
    },
    {
     "data": {
      "text/plain": [
       "'\\n'"
      ]
     },
     "metadata": {},
     "output_type": "display_data"
    },
    {
     "name": "stdout",
     "output_type": "stream",
     "text": [
      "LovaGain\n",
      "------\n",
      "<class 'bs4.element.Tag'>\n",
      "----------\n",
      "[Verse 1]\n",
      "I think I started something\n",
      "New chick, just started fucking\n",
      "Kinda early but I know we both love it\n",
      "We both rushing\n",
      "We can add titles but then we both cuffing\n",
      "Rolling in the sheets until midnight moaning\n",
      "I'mma go down south, then call it [?]\n",
      "Pussy pink like like a lotus\n",
      "I'mma eat it good like something out of lars\n",
      "I'm all good like a summer day\n",
      "Blowing out the cake, blowing novocaine\n",
      "She really shouldn't but she prone to the lifestyle\n",
      "TAC, ecstasy, in the white cells\n",
      "Can you hear me now? Can you hear me now?\n",
      "Baby pick up\n",
      "Heard she with some niggas, ballplayers, playing pickup\n",
      "My pretty little princess, now she promiscuous\n",
      "Supposed to be my misses, out here fucking niggas\n",
      "I ain't tripping, I'mma get another bitch\n",
      "I don't mean the shit, it's too hard to end the shit\n",
      "I'd rather stay than call it quits\n",
      "And now we fall in love again\n",
      "--------------------\n",
      "<class 'bs4.element.NavigableString'>\n"
     ]
    },
    {
     "data": {
      "text/plain": [
       "'\\n'"
      ]
     },
     "metadata": {},
     "output_type": "display_data"
    },
    {
     "name": "stdout",
     "output_type": "stream",
     "text": [
      "LovaGain\n",
      "------\n",
      "<class 'bs4.element.Tag'>\n",
      "----------\n",
      "[Verse 2]\n",
      "Real nigga got hoes on my dick, oh\n",
      "Couldn't see 'em, love how my eyes closed\n",
      "Now I see 'em, ain't nothing worth it though\n",
      "Rather be with you than out here a lonely soul\n",
      "On the road, entertainment hoes\n",
      "Bitches I don't know tweeting from their camera phones\n",
      "Man this shit getting old\n",
      "--------------------\n",
      "<class 'bs4.element.NavigableString'>\n"
     ]
    },
    {
     "data": {
      "text/plain": [
       "'\\n'"
      ]
     },
     "metadata": {},
     "output_type": "display_data"
    },
    {
     "name": "stdout",
     "output_type": "stream",
     "text": [
      "Love Game\n",
      "------\n",
      "<class 'bs4.element.Tag'>\n",
      "----------\n",
      "[Hook]\n",
      "The days go by, we argue all the time\n",
      "I want to make it right, ‘cause that was last night\n",
      "Baby we gon’ be alright, baby we gon’ be alright\n",
      "Yea yea love was the mark, bullets to your heart\n",
      "I want to move on but my feelings too strong\n",
      "I don’t wanna waste time, I don’t wanna waste time\n",
      "--------------------\n",
      "<class 'bs4.element.NavigableString'>\n"
     ]
    },
    {
     "data": {
      "text/plain": [
       "'\\n'"
      ]
     },
     "metadata": {},
     "output_type": "display_data"
    },
    {
     "name": "stdout",
     "output_type": "stream",
     "text": [
      "Love Game\n",
      "------\n",
      "<class 'bs4.element.Tag'>\n",
      "----------\n",
      "[Verse 1]\n",
      "Man I know we ain’t finished when it’s barely beginning\n",
      "All the time I done put in, I put in but time was ending\n",
      "So silly chasing a feeling, figured you felt different\n",
      "But so many, so many girls but I just stay with ya\n",
      "See love wasn’t my intention\n",
      "Rather play Dominoes\n",
      "Count money with my niggas, shoot dice\n",
      "Give me seven, rolling off the gate, I hit it twice\n",
      "Black Eyed Peas, money baby, it’s gon’ be a good night\n",
      "And when I said I love you I fuckin’ meant it\n",
      "And we ain’t gotta bring your moms and your sister in it\n",
      "House too big, they all trying to spend the night\n",
      "You always inviting them and I don’t need to be liking it\n",
      "At all, and I don’t need to say shit\n",
      "‘Cause I just like to see you happy even when you faking it\n",
      "So flagrant you foul ass bitch, man I hate you\n",
      "I hope we can make up in the A.M\n",
      "--------------------\n",
      "<class 'bs4.element.NavigableString'>\n"
     ]
    },
    {
     "data": {
      "text/plain": [
       "'\\n'"
      ]
     },
     "metadata": {},
     "output_type": "display_data"
    },
    {
     "name": "stdout",
     "output_type": "stream",
     "text": [
      "Love Game\n",
      "------\n",
      "<class 'bs4.element.Tag'>\n",
      "----------\n",
      "[Hook]\n",
      "‘Cause the days go by, we argue all the time\n",
      "I want to make it right, ‘cause that was last night\n",
      "Baby we gon’ be alright, baby we gon’ be alright\n",
      "Yea yea love was the mark, bullets to your heart\n",
      "I want to move on but my feelings too strong\n",
      "I don’t wanna waste time, I don’t wanna waste time\n",
      "It’s like we’re in a love game, love game\n",
      "Love game, love game\n",
      "Yea, yea, yea, yea\n",
      "It’s like we’re in a love game, love game\n",
      "Love game, love game\n",
      "Yea, yea, yea, yea\n",
      "--------------------\n",
      "<class 'bs4.element.NavigableString'>\n"
     ]
    },
    {
     "data": {
      "text/plain": [
       "'\\n'"
      ]
     },
     "metadata": {},
     "output_type": "display_data"
    },
    {
     "name": "stdout",
     "output_type": "stream",
     "text": [
      "Love Game\n",
      "------\n",
      "<class 'bs4.element.Tag'>\n",
      "----------\n",
      "[Verse 2]\n",
      "Uhh, for every last king need a queen\n",
      "If you love me now then forever hold this ring\n",
      "Hold me down, defend it; hold me down, no witness\n",
      "You always got so much pride but once you look in my eyes\n",
      "It’s over, you even told me about you when you was younger\n",
      "How your father abused you, I let you cry on my shoulder\n",
      "No tissue, just short sleeve, tears see-through\n",
      "Our lives equal, thinking what you been through\n",
      "Uhh, yo Genie here\n",
      "Yea I grant you every wish\n",
      "Put you in environments, good company success\n",
      "Already set, you going with the best\n",
      "I know I lied before but trust me I ain’t like your ex\n",
      "Sex so good, break up then break a sweat\n",
      "We should stay together, then we fight again\n",
      "Same old shit, different location\n",
      "Feeling like my time wasted\n",
      "--------------------\n",
      "<class 'bs4.element.NavigableString'>\n"
     ]
    },
    {
     "data": {
      "text/plain": [
       "'\\n'"
      ]
     },
     "metadata": {},
     "output_type": "display_data"
    },
    {
     "name": "stdout",
     "output_type": "stream",
     "text": [
      "Love Game\n",
      "------\n",
      "<class 'bs4.element.Tag'>\n",
      "----------\n",
      "[Hook]\n",
      "‘Cause the days go by, we argue all the time\n",
      "I want to make it right, ‘cause that was last night\n",
      "Baby we gon’ be alright, baby we gon’ be alright\n",
      "Yea yea love was the mark, bullets to your heart\n",
      "I want to move on but my feelings too strong\n",
      "I don’t wanna waste time, I don’t wanna waste time\n",
      "It’s like we’re in a love game, love game\n",
      "Love game, love game\n",
      "Yea, yea, yea, yea\n",
      "It’s like we’re in a love game, love game\n",
      "Love game, love game\n",
      "Yea, yea, yea, yea\n",
      "--------------------\n",
      "<class 'bs4.element.NavigableString'>\n"
     ]
    },
    {
     "data": {
      "text/plain": [
       "'\\n'"
      ]
     },
     "metadata": {},
     "output_type": "display_data"
    },
    {
     "name": "stdout",
     "output_type": "stream",
     "text": [
      "Love Game\n",
      "------\n",
      "<class 'bs4.element.Tag'>\n",
      "----------\n",
      "[Verse 3]\n",
      "Trying to forget someone that you love\n",
      "Like trying to remember someone that you never knew\n",
      "Think about it, I dream about it\n",
      "My nightmares haunting me, I can’t sleep about it\n",
      "Anxiety, can’t breathe, can’t live without you\n",
      "The revival, all these verses is my survival\n",
      "Standing at the podium and waiting for your arrival\n",
      "One day but no return\n",
      "Like Usher say, gotta let it burn\n",
      "--------------------\n",
      "<class 'bs4.element.NavigableString'>\n"
     ]
    },
    {
     "data": {
      "text/plain": [
       "'\\n'"
      ]
     },
     "metadata": {},
     "output_type": "display_data"
    },
    {
     "name": "stdout",
     "output_type": "stream",
     "text": [
      "Love Game\n",
      "------\n",
      "<class 'bs4.element.Tag'>\n",
      "----------\n",
      "[Outro]\n",
      "The hardest part of dreaming about someone you love\n",
      "Is waking up to see that person gone\n",
      "You know it, it takes seconds to say hello\n",
      "But forever to say goodbye\n",
      "Moving on is easy, but what you leave behind\n",
      "Is what makes it hard…\n",
      "--------------------\n",
      "<class 'bs4.element.NavigableString'>\n"
     ]
    },
    {
     "data": {
      "text/plain": [
       "'\\n'"
      ]
     },
     "metadata": {},
     "output_type": "display_data"
    },
    {
     "name": "stdout",
     "output_type": "stream",
     "text": [
      "<class 'bs4.element.NavigableString'>\n"
     ]
    },
    {
     "data": {
      "text/plain": [
       "'\\n'"
      ]
     },
     "metadata": {},
     "output_type": "display_data"
    },
    {
     "name": "stdout",
     "output_type": "stream",
     "text": [
      "Love T-Raww\n",
      "------\n",
      "<class 'bs4.element.Tag'>\n",
      "----------\n",
      "[Hook]\n",
      "These bitches love T Raww\n",
      "Hatin,’ need machine guns\n",
      "All these niggas they broke boys\n",
      "And I push a Rolls Royce\n",
      "Niggas they don’t like me\n",
      "I heard niggas they don’t like me\n",
      "Man these bitches love T Raww\n",
      "Only trust my Nina,\n",
      "King shit with my feet up\n",
      "Kill a nigga with my song, but\n",
      "Niggas they don’t like me\n",
      "I heard niggas they don’t like me\n",
      "Man these bitches love T Raww\n",
      "--------------------\n",
      "<class 'bs4.element.NavigableString'>\n"
     ]
    },
    {
     "data": {
      "text/plain": [
       "'\\n'"
      ]
     },
     "metadata": {},
     "output_type": "display_data"
    },
    {
     "name": "stdout",
     "output_type": "stream",
     "text": [
      "Love T-Raww\n",
      "------\n",
      "<class 'bs4.element.Tag'>\n",
      "----------\n",
      "[Verse 1]\n",
      "Ridin’ ‘round no plates\n",
      "Schemin’ tryin’ to get paid\n",
      "Lookin’ for a fuck date\n",
      "Men lie, women lie,\n",
      "But not the numbers I make\n",
      "Load up that Wild Boy\n",
      "Call it MGK\n",
      "Mind gone, don’t fuck with me\n",
      "Countin’ dorms in the Middle East\n",
      "38, Silence of the Lambs\n",
      "Hello Clarice\n",
      "My life need a DVD\n",
      "Bags of money like the Money Team\n",
      "Dress bitches in all black\n",
      "You could call them BET\n",
      "These hoes in competition\n",
      "Competing for a seat in VIP\n",
      "These niggas claimin’ they poppin’ bottles\n",
      "--------------------\n",
      "<class 'bs4.element.NavigableString'>\n"
     ]
    },
    {
     "data": {
      "text/plain": [
       "'\\n'"
      ]
     },
     "metadata": {},
     "output_type": "display_data"
    },
    {
     "name": "stdout",
     "output_type": "stream",
     "text": [
      "<class 'bs4.element.NavigableString'>\n"
     ]
    },
    {
     "data": {
      "text/plain": [
       "'\\n'"
      ]
     },
     "metadata": {},
     "output_type": "display_data"
    },
    {
     "name": "stdout",
     "output_type": "stream",
     "text": [
      "Love T-Raww\n",
      "------\n",
      "<class 'bs4.element.Tag'>\n",
      "----------\n",
      "[Hook]\n",
      "--------------------\n",
      "<class 'bs4.element.NavigableString'>\n"
     ]
    },
    {
     "data": {
      "text/plain": [
       "'\\n'"
      ]
     },
     "metadata": {},
     "output_type": "display_data"
    },
    {
     "name": "stdout",
     "output_type": "stream",
     "text": [
      "Love T-Raww\n",
      "------\n",
      "<class 'bs4.element.Tag'>\n",
      "----------\n",
      "[Verse 2]\n",
      "Off season, no time to play\n",
      "Nighttime, my time of day\n",
      "I hustle hard like Ace and Wayne\n",
      "Two shifts, I’mma need a raise\n",
      "Carpool, stay in your lane\n",
      "I’m blowin’ up, that’s propane\n",
      "These hoes want my last name\n",
      "Not sitcom, this the House of Pain\n",
      "No I don’t fuck with nobody like celibates\n",
      "I ride alone, I die alone\n",
      "She give me head, that’s Tylenol\n",
      "No dialogue, she play her part\n",
      "My life a movie, no script at all\n",
      "I darn say that I did it all, I did it all, so…\n",
      "--------------------\n",
      "<class 'bs4.element.NavigableString'>\n"
     ]
    },
    {
     "data": {
      "text/plain": [
       "'\\n'"
      ]
     },
     "metadata": {},
     "output_type": "display_data"
    },
    {
     "name": "stdout",
     "output_type": "stream",
     "text": [
      "Love T-Raww\n",
      "------\n",
      "<class 'bs4.element.Tag'>\n",
      "----------\n",
      "[Hook]\n",
      "--------------------\n",
      "<class 'bs4.element.NavigableString'>\n"
     ]
    },
    {
     "data": {
      "text/plain": [
       "'\\n'"
      ]
     },
     "metadata": {},
     "output_type": "display_data"
    },
    {
     "name": "stdout",
     "output_type": "stream",
     "text": [
      "<class 'bs4.element.NavigableString'>\n"
     ]
    },
    {
     "data": {
      "text/plain": [
       "'\\n'"
      ]
     },
     "metadata": {},
     "output_type": "display_data"
    },
    {
     "name": "stdout",
     "output_type": "stream",
     "text": [
      "M.O.E. (feat. Wiz Khalifa)\n",
      "------\n",
      "<class 'bs4.element.Tag'>\n",
      "----------\n",
      "[Hook:]\n",
      "Wake up in the morning feeling so damn good, I made music so good today\n",
      "Me and my niggas bout to kick it with some bitches, and you know we bout to roll some trees\n",
      "I'm feelin' it... you feelin' it\n",
      "I'm feelin' it... you feelin' it\n",
      "M.O.E., M.O.E., music over everything [x4]\n",
      "--------------------\n",
      "<class 'bs4.element.NavigableString'>\n"
     ]
    },
    {
     "data": {
      "text/plain": [
       "'\\n'"
      ]
     },
     "metadata": {},
     "output_type": "display_data"
    },
    {
     "name": "stdout",
     "output_type": "stream",
     "text": [
      "M.O.E. (feat. Wiz Khalifa)\n",
      "------\n",
      "<class 'bs4.element.Tag'>\n",
      "----------\n",
      "[Tyga:]\n",
      "Taking my time to perfect the beats\n",
      "And I still got love for the streets, king gold chains\n",
      "And my nigga Wiz Khalifa, got trip in a drink\n",
      "Couple bad bitches, they just want VIP\n",
      "You a playa fo real? Don't bring around me\n",
      "Got girls left up in the backseat\n",
      "Runnin like attract me, that's me, leather on the 6th speed\n",
      "Love it when she got her own shit together\n",
      "Got shit to lose, then she with whatever\n",
      "Always out of town, she my distant lover\n",
      "Only pull in driveways with tints and better\n",
      "Gold rims, we ghetto, on the chase for cheddar\n",
      "From a jet runway, I can land wherever\n",
      "Make more in a day than your salary\n",
      "Nigga why you mad at me? Talk cheap, I don't lose sleep,\n",
      "Man I...\n",
      "--------------------\n",
      "<class 'bs4.element.NavigableString'>\n"
     ]
    },
    {
     "data": {
      "text/plain": [
       "'\\n'"
      ]
     },
     "metadata": {},
     "output_type": "display_data"
    },
    {
     "name": "stdout",
     "output_type": "stream",
     "text": [
      "M.O.E. (feat. Wiz Khalifa)\n",
      "------\n",
      "<class 'bs4.element.Tag'>\n",
      "----------\n",
      "[Hook]\n",
      "--------------------\n",
      "<class 'bs4.element.NavigableString'>\n"
     ]
    },
    {
     "data": {
      "text/plain": [
       "'\\n'"
      ]
     },
     "metadata": {},
     "output_type": "display_data"
    },
    {
     "name": "stdout",
     "output_type": "stream",
     "text": [
      "M.O.E. (feat. Wiz Khalifa)\n",
      "------\n",
      "<class 'bs4.element.Tag'>\n",
      "----------\n",
      "[Wiz Khalifa:]\n",
      "I roll up that Mary J, my favorite song playin'\n",
      "My clothes from the runway, my kush come from the land\n",
      "You's a baller or a hustler then you know what I'm sayin'\n",
      "Them haters they talkin, hear em talk, I don't care\n",
      "I'm rollin'\n",
      "Probably do a 95, smoking getting mighty high\n",
      "Rolling weed since '99, smoke so much I'll probably fly\n",
      "If I don't smoke I'll probably die\n",
      "I'm holdin'\n",
      "Grippin' on the steering wheel, listening to my favorite jam\n",
      "Ridin through Hollywood, I'm feeling like the fuckin man\n",
      "Hundred grand to see me, kinda fore I go to sleep\n",
      "That's why I...\n",
      "--------------------\n",
      "<class 'bs4.element.NavigableString'>\n"
     ]
    },
    {
     "data": {
      "text/plain": [
       "'\\n'"
      ]
     },
     "metadata": {},
     "output_type": "display_data"
    },
    {
     "name": "stdout",
     "output_type": "stream",
     "text": [
      "M.O.E. (feat. Wiz Khalifa)\n",
      "------\n",
      "<class 'bs4.element.Tag'>\n",
      "----------\n",
      "[Hook]\n",
      "--------------------\n",
      "<class 'bs4.element.NavigableString'>\n"
     ]
    },
    {
     "data": {
      "text/plain": [
       "'\\n'"
      ]
     },
     "metadata": {},
     "output_type": "display_data"
    },
    {
     "name": "stdout",
     "output_type": "stream",
     "text": [
      "M.O.E. (feat. Wiz Khalifa)\n",
      "------\n",
      "<class 'bs4.element.Tag'>\n",
      "----------\n",
      "[Tyga:]\n",
      "Drive fast til I'm out of gas\n",
      "Getting money like this, can't look back\n",
      "She a one night stand, tryna make it last\n",
      "But I be out of town soon as I hit that\n",
      "15 stacks runways, living lavish, big carrots\n",
      "You ain't getting money like that\n",
      "I put rhymes on the beat, T-Rawws on the feet\n",
      "Don't hate me 'cause I'm where you wanna be\n",
      "I do mostly what the minimum do\n",
      "So my girls might be yours times 22\n",
      "Ride 22 2's and I chunk up the deuce\n",
      "Everything great like a nigga Babe Ruth\n",
      "Translucent roof, but her dress seem through\n",
      "She just tryna make it, guess you gotta do what you gotta do\n",
      "Shit I ain't gonna judge you\n",
      "But don't expect me to love you, feelin it?\n",
      "--------------------\n",
      "<class 'bs4.element.NavigableString'>\n"
     ]
    },
    {
     "data": {
      "text/plain": [
       "'\\n'"
      ]
     },
     "metadata": {},
     "output_type": "display_data"
    },
    {
     "name": "stdout",
     "output_type": "stream",
     "text": [
      "Mack Down (feat. Juicy J)\n",
      "------\n",
      "<class 'bs4.element.Tag'>\n",
      "----------\n",
      "[Hook:]\n",
      "Ah I say hush little baby baby got a little mack down\n",
      "One real nigga bitches know my back round\n",
      "Bring me oh oh hundreds hundreds the sound\n",
      "World around town bitch I lay my mack down.\n",
      "Hush little baby gotta lay my mack down\n",
      "One real nigga bitches know my back round\n",
      "Bring me oh oh hundreds hundreds the sound\n",
      "World around town bitch I lay my mack down.\n",
      "--------------------\n",
      "<class 'bs4.element.NavigableString'>\n"
     ]
    },
    {
     "data": {
      "text/plain": [
       "'\\n'"
      ]
     },
     "metadata": {},
     "output_type": "display_data"
    },
    {
     "name": "stdout",
     "output_type": "stream",
     "text": [
      "Mack Down (feat. Juicy J)\n",
      "------\n",
      "<class 'bs4.element.Tag'>\n",
      "----------\n",
      "Sippin' off from [?] chillin' was some light bitches\n",
      "Cause richy bitches hundred I ain't pitch it I'm a catch it\n",
      "Around my pip around the pressure\n",
      "Lay my money on the [?] shut the fuck start undressing\n",
      "I ain't [?] stop confessing be [?] hoes in the [?]\n",
      "Five [?] that all Cadillac sheet tighter on the back\n",
      "Put the woopie woo woo ask super fast\n",
      "I'm a had this nigga I skip the b hard attack\n",
      "Talk your diamonds and I'm shining what I'm blinding you\n",
      "No time to eat for you I call it round Madonna\n",
      "Cause you're like a bird to the money\n",
      "Caught that Madonna shit [?] Versace [?] run them dress\n",
      "Stepping on this [?]\n",
      "--------------------\n",
      "<class 'bs4.element.NavigableString'>\n"
     ]
    },
    {
     "data": {
      "text/plain": [
       "'\\n'"
      ]
     },
     "metadata": {},
     "output_type": "display_data"
    },
    {
     "name": "stdout",
     "output_type": "stream",
     "text": [
      "Mack Down (feat. Juicy J)\n",
      "------\n",
      "<class 'bs4.element.Tag'>\n",
      "----------\n",
      "[Hook:]\n",
      "Ah I say hush little baby baby got a little mack down\n",
      "One real nigga bitches know my back round\n",
      "Bring me oh oh hundreds hundreds the sound\n",
      "World around town bitch I lay my mack down.\n",
      "Hush little baby gotta lay my mack down\n",
      "One real nigga bitches know my back round\n",
      "Bring me oh oh hundreds hundreds the sound\n",
      "World around town bitch I lay my mack down\n",
      "--------------------\n",
      "<class 'bs4.element.NavigableString'>\n"
     ]
    },
    {
     "data": {
      "text/plain": [
       "'\\n'"
      ]
     },
     "metadata": {},
     "output_type": "display_data"
    },
    {
     "name": "stdout",
     "output_type": "stream",
     "text": [
      "Mack Down (feat. Juicy J)\n",
      "------\n",
      "<class 'bs4.element.Tag'>\n",
      "----------\n",
      "Juicy J the shit no nigga I'm get money out to ass\n",
      "Money over bitches me you get money out the [?]\n",
      "All this been just for fun I think I [?]\n",
      "Twenty hoes a hundred rest fake is just a gamble\n",
      "All you ain't going row tryin' to keep up with me\n",
      "You baby my head is dawn I call the [?]\n",
      "Cash you talk for me you be cash to talk to me\n",
      "You the cash keep coming like the cash be stalking me\n",
      "Movie say they getting money\n",
      "Just because they got a mouth\n",
      "[?] friendly's louie daffy got a larger mouth\n",
      "You haters fall enough I'm still getting paid\n",
      "I got so many bands I get [?] away\n",
      "--------------------\n",
      "<class 'bs4.element.NavigableString'>\n"
     ]
    },
    {
     "data": {
      "text/plain": [
       "'\\n'"
      ]
     },
     "metadata": {},
     "output_type": "display_data"
    },
    {
     "name": "stdout",
     "output_type": "stream",
     "text": [
      "Mack Down (feat. Juicy J)\n",
      "------\n",
      "<class 'bs4.element.Tag'>\n",
      "----------\n",
      "[Hook: x2]\n",
      "Ah I say hush little baby baby got a little mack down\n",
      "One real nigga bitches know my back round\n",
      "Bring me oh oh hundreds hundreds the sound\n",
      "World around town bitch I lay my mack down.\n",
      "Hush little baby gotta lay my mack down\n",
      "One real nigga bitches know my back round\n",
      "Bring me oh oh hundreds hundreds the sound\n",
      "World around town bitch I lay my mack down\n",
      "--------------------\n",
      "<class 'bs4.element.NavigableString'>\n"
     ]
    },
    {
     "data": {
      "text/plain": [
       "'\\n'"
      ]
     },
     "metadata": {},
     "output_type": "display_data"
    },
    {
     "name": "stdout",
     "output_type": "stream",
     "text": [
      "<class 'bs4.element.NavigableString'>\n"
     ]
    },
    {
     "data": {
      "text/plain": [
       "'\\n'"
      ]
     },
     "metadata": {},
     "output_type": "display_data"
    },
    {
     "name": "stdout",
     "output_type": "stream",
     "text": [
      "Make It Rain (Remix)\n",
      "------\n",
      "<class 'bs4.element.Tag'>\n",
      "----------\n",
      "[Tyga:]\n",
      "Make it rain make it rain\n",
      "Weather man, hot thunderstorm\n",
      "Thunderstorm that yellow bone\n",
      "Can't swim...\n",
      "Make it rain make it rain\n",
      "Weather man, hot thunderstorm\n",
      "Thunderstorm that yellow bone\n",
      "Can't swim in a flood\n",
      "I'm dope as fuck\n",
      "That metal spoon\n",
      "That evil green wrapped in balloons\n",
      "I need my space I'm in the moon\n",
      "Put it in my face her ass is huge\n",
      "High school big booty\n",
      "Judy you could sit juice on it\n",
      "Act a fool, this fool 'roudy\n",
      "Cream pie get a scoop of it\n",
      "Ugh I'm nasty\n",
      "Oh gee I'm swag-D\n",
      "Fresh with the plastic\n",
      "My shirt off, blastin'\n",
      "Batta batta batta batta, swing yo legs in the air\n",
      "I'm in the maze, she flow the way\n",
      "Undo my shades, can't help but stare\n",
      "Rubberband man bitch\n",
      "(Take that, take that, take that)\n",
      "Sweep it with your hands bitch\n",
      "Watch her take that\n",
      "She said\n",
      "--------------------\n",
      "<class 'bs4.element.NavigableString'>\n"
     ]
    },
    {
     "data": {
      "text/plain": [
       "'\\n'"
      ]
     },
     "metadata": {},
     "output_type": "display_data"
    },
    {
     "name": "stdout",
     "output_type": "stream",
     "text": [
      "<class 'bs4.element.NavigableString'>\n"
     ]
    },
    {
     "data": {
      "text/plain": [
       "'\\n'"
      ]
     },
     "metadata": {},
     "output_type": "display_data"
    },
    {
     "name": "stdout",
     "output_type": "stream",
     "text": [
      "<class 'bs4.element.NavigableString'>\n"
     ]
    },
    {
     "data": {
      "text/plain": [
       "'\\n'"
      ]
     },
     "metadata": {},
     "output_type": "display_data"
    },
    {
     "name": "stdout",
     "output_type": "stream",
     "text": [
      "<class 'bs4.element.NavigableString'>\n"
     ]
    },
    {
     "data": {
      "text/plain": [
       "'\\n'"
      ]
     },
     "metadata": {},
     "output_type": "display_data"
    },
    {
     "name": "stdout",
     "output_type": "stream",
     "text": [
      "<class 'bs4.element.NavigableString'>\n"
     ]
    },
    {
     "data": {
      "text/plain": [
       "'\\n'"
      ]
     },
     "metadata": {},
     "output_type": "display_data"
    },
    {
     "name": "stdout",
     "output_type": "stream",
     "text": [
      "<class 'bs4.element.NavigableString'>\n"
     ]
    },
    {
     "data": {
      "text/plain": [
       "'\\n'"
      ]
     },
     "metadata": {},
     "output_type": "display_data"
    },
    {
     "name": "stdout",
     "output_type": "stream",
     "text": [
      "<class 'bs4.element.NavigableString'>\n"
     ]
    },
    {
     "data": {
      "text/plain": [
       "'\\n'"
      ]
     },
     "metadata": {},
     "output_type": "display_data"
    },
    {
     "name": "stdout",
     "output_type": "stream",
     "text": [
      "<class 'bs4.element.NavigableString'>\n"
     ]
    },
    {
     "data": {
      "text/plain": [
       "'\\n'"
      ]
     },
     "metadata": {},
     "output_type": "display_data"
    },
    {
     "name": "stdout",
     "output_type": "stream",
     "text": [
      "<class 'bs4.element.NavigableString'>\n"
     ]
    },
    {
     "data": {
      "text/plain": [
       "'\\n'"
      ]
     },
     "metadata": {},
     "output_type": "display_data"
    },
    {
     "name": "stdout",
     "output_type": "stream",
     "text": [
      "<class 'bs4.element.NavigableString'>\n"
     ]
    },
    {
     "data": {
      "text/plain": [
       "'\\n'"
      ]
     },
     "metadata": {},
     "output_type": "display_data"
    },
    {
     "name": "stdout",
     "output_type": "stream",
     "text": [
      "Make It Work\n",
      "------\n",
      "<class 'bs4.element.Tag'>\n",
      "----------\n",
      "[Hook:]\n",
      "Aye, nigga, what that work like?\n",
      "Aye, bitch, what that work like?\n",
      "You know me, I've been trappin' with it all night\n",
      "Niggas wanna take it there, we can take it there all night\n",
      "Aye, nigga, what that work like?\n",
      "Aye, bitch, what that work like?\n",
      "'Bout your money, you've been trappin' with it all night\n",
      "Bitches wanna take it there, you gon' take it there all night\n",
      "--------------------\n",
      "<class 'bs4.element.NavigableString'>\n"
     ]
    },
    {
     "data": {
      "text/plain": [
       "'\\n'"
      ]
     },
     "metadata": {},
     "output_type": "display_data"
    },
    {
     "name": "stdout",
     "output_type": "stream",
     "text": [
      "<class 'bs4.element.NavigableString'>\n"
     ]
    },
    {
     "data": {
      "text/plain": [
       "'\\n'"
      ]
     },
     "metadata": {},
     "output_type": "display_data"
    },
    {
     "name": "stdout",
     "output_type": "stream",
     "text": [
      "Make It Work\n",
      "------\n",
      "<class 'bs4.element.Tag'>\n",
      "----------\n",
      "[Hook]\n",
      "--------------------\n",
      "<class 'bs4.element.NavigableString'>\n"
     ]
    },
    {
     "data": {
      "text/plain": [
       "'\\n'"
      ]
     },
     "metadata": {},
     "output_type": "display_data"
    },
    {
     "name": "stdout",
     "output_type": "stream",
     "text": [
      "<class 'bs4.element.NavigableString'>\n"
     ]
    },
    {
     "data": {
      "text/plain": [
       "'\\n'"
      ]
     },
     "metadata": {},
     "output_type": "display_data"
    },
    {
     "name": "stdout",
     "output_type": "stream",
     "text": [
      "Maniac (feat. Fabolous)\n",
      "------\n",
      "<class 'bs4.element.Tag'>\n",
      "----------\n",
      "[Hook: Tyga]\n",
      "Who’s that creepin in my rearview? Niggas better duck round me\n",
      "Cuz I got drama\n",
      "Chevy with the scrape doors open\n",
      "Low ridin on these west side streets\n",
      "I got drama, fix that little homie, fix that attitude around me\n",
      "Cuz I got drama\n",
      "Put my whole team on, now niggas can’t sleep fuck beef\n",
      "Cuz I got drama\n",
      "--------------------\n",
      "<class 'bs4.element.NavigableString'>\n"
     ]
    },
    {
     "data": {
      "text/plain": [
       "'\\n'"
      ]
     },
     "metadata": {},
     "output_type": "display_data"
    },
    {
     "name": "stdout",
     "output_type": "stream",
     "text": [
      "Maniac (feat. Fabolous)\n",
      "------\n",
      "<class 'bs4.element.Tag'>\n",
      "----------\n",
      "[Verse 1: Tyga]\n",
      "Maniac, might gotta kill em\n",
      "Loose screw with a filler, brainiac, pussy you a rat\n",
      "We done advance, this a fuckin trap ramp\n",
      "Park garage and the Cadillac fully automack\n",
      "Tech sound of the rata tat tat, bet the beat bang like a beat from battle K\n",
      "You Sylvester when it come to rap\n",
      "I put mosaic on the doormat\n",
      "Kings like I’m reppin sack town\n",
      "Cut a nigga no slack, fuck that\n",
      "Nigga I’m ready\n",
      "And I’m my brother’s keeper, trust no B here but me sir\n",
      "Jesus let me breathe in all this reefer\n",
      "These niggas getting too close, I can see them\n",
      "See no, hear no evil, I am Caesar\n",
      "Lookin for a soul, I’m your leader\n",
      "This is what you wanted, right? (right)\n",
      "Don’t test me motherfucker, I hold your life\n",
      "--------------------\n",
      "<class 'bs4.element.NavigableString'>\n"
     ]
    },
    {
     "data": {
      "text/plain": [
       "'\\n'"
      ]
     },
     "metadata": {},
     "output_type": "display_data"
    },
    {
     "name": "stdout",
     "output_type": "stream",
     "text": [
      "Maniac (feat. Fabolous)\n",
      "------\n",
      "<class 'bs4.element.Tag'>\n",
      "----------\n",
      "[Hook]\n",
      "--------------------\n",
      "<class 'bs4.element.NavigableString'>\n"
     ]
    },
    {
     "data": {
      "text/plain": [
       "'\\n'"
      ]
     },
     "metadata": {},
     "output_type": "display_data"
    },
    {
     "name": "stdout",
     "output_type": "stream",
     "text": [
      "Maniac (feat. Fabolous)\n",
      "------\n",
      "<class 'bs4.element.Tag'>\n",
      "----------\n",
      "[Verse 2: Fabolous]\n",
      "Get your life before I get it, get your wife before I hit it\n",
      "Backstabbers in the house with a knife from the kitchen\n",
      "Cut throats wanna pop my collar\n",
      "Tryna get close to stop my holla\n",
      "Dreamkillers shoot you ideas down\n",
      "Death to the threats the only thing I hear now\n",
      "Is the money talking like an auction, spaceship that I'm parking makes me Martian\n",
      "Caution, I be spending, might be nauseous\n",
      "Take your bitch to breakfast, give her sausage\n",
      "Shorty I got drama, no sleeping over here, no need pajamas\n",
      "Take everything with you take your garments, got a crazy baby momma dont leave no comments\n",
      "One time if you creepin', watch them niggas who be peepin'\n",
      "--------------------\n",
      "<class 'bs4.element.NavigableString'>\n"
     ]
    },
    {
     "data": {
      "text/plain": [
       "'\\n'"
      ]
     },
     "metadata": {},
     "output_type": "display_data"
    },
    {
     "name": "stdout",
     "output_type": "stream",
     "text": [
      "Maniac (feat. Fabolous)\n",
      "------\n",
      "<class 'bs4.element.Tag'>\n",
      "----------\n",
      "[Hook]\n",
      "--------------------\n",
      "<class 'bs4.element.NavigableString'>\n"
     ]
    },
    {
     "data": {
      "text/plain": [
       "'\\n'"
      ]
     },
     "metadata": {},
     "output_type": "display_data"
    },
    {
     "name": "stdout",
     "output_type": "stream",
     "text": [
      "<class 'bs4.element.NavigableString'>\n"
     ]
    },
    {
     "data": {
      "text/plain": [
       "'\\n'"
      ]
     },
     "metadata": {},
     "output_type": "display_data"
    },
    {
     "name": "stdout",
     "output_type": "stream",
     "text": [
      "Mirror (feat. Gudda Gudda)\n",
      "------\n",
      "<class 'bs4.element.Tag'>\n",
      "----------\n",
      "[Intro]\n",
      "--------------------\n",
      "<class 'bs4.element.NavigableString'>\n"
     ]
    },
    {
     "data": {
      "text/plain": [
       "'\\n'"
      ]
     },
     "metadata": {},
     "output_type": "display_data"
    },
    {
     "name": "stdout",
     "output_type": "stream",
     "text": [
      "Mirror (feat. Gudda Gudda)\n",
      "------\n",
      "<class 'bs4.element.Tag'>\n",
      "----------\n",
      "[Verse 1: Tyga]\n",
      "Look In The Mirror I See A Fucking Star\n",
      "Got Your Mama Screaming For M... (I Just Show Off!)\n",
      "Look In The Mirror I See A Fucking Star\n",
      "Got Your Mama Screaming For Me Like The Melt The Bars\n",
      "Looking At My Skin All Green Scars\n",
      "Bitch I Think I Think I Pop Gold hair and bow\n",
      "Limbo Ross Sag Popping Purple Tags\n",
      "Show My Face Some Cash I'm a Need A Mask\n",
      "For The Love Of Money I'll Never Love Again\n",
      "Waynes Start To Get It Bitch You Don't Understand\n",
      "I'm Holding My Bars Then They'll Know I'm The Man\n",
      "The Realer I Get (The Realer I Get) The Bigger The Chicken In My Hand\n",
      "Medicine Man Sick Of These Roleplayers Stealing My Slang\n",
      "Beast Mode K Perkings In The Motherfucken (muthafucken)\n",
      "Find My Shank Just In Case In The Party If It About To Pop Off\n",
      "See Your Stance (See Your Stance) Baby Take Your Top Off\n",
      "Man You Eagers Man You eagers Fuck In Your Knock Offs\n",
      "Keep My Girl (Keep My Girl) Newber Town We So Go Ya\n",
      "Game Real Or Tomorrow\n",
      "That's A Arter Faud I Mustve Bought One\n",
      "They Told Me 60 Thou I Spent My Cash Around Town Like Taz\n",
      "Last King Young CEO My Nigga Jaz\n",
      "Bitches Weighing Duffle Bags\n",
      "Zopituners Make You Fash\n",
      "You Gonna Let it Drip A Little Then I'm Gonna Make It Spalsh\n",
      "Box It In A Doggie Bag\n",
      "I'll Be Home Later Ma'am\n",
      "Man I'm A Fucking King Look What's On My Chest\n",
      "--------------------\n",
      "<class 'bs4.element.NavigableString'>\n"
     ]
    },
    {
     "data": {
      "text/plain": [
       "'\\n'"
      ]
     },
     "metadata": {},
     "output_type": "display_data"
    },
    {
     "name": "stdout",
     "output_type": "stream",
     "text": [
      "Mirror (feat. Gudda Gudda)\n",
      "------\n",
      "<class 'bs4.element.Tag'>\n",
      "----------\n",
      "[Hook: Tyga]\n",
      "Uh Started To Smell Like Money In This Bitch\n",
      "Guess You Know It's Young Money In This Bitch\n",
      "Tyga Tyga Gudda Gudda Yea We In This Bitch\n",
      "Tyga Tyga Gudda Gudda Yea He In This Bitch\n",
      "--------------------\n",
      "<class 'bs4.element.NavigableString'>\n"
     ]
    },
    {
     "data": {
      "text/plain": [
       "'\\n'"
      ]
     },
     "metadata": {},
     "output_type": "display_data"
    },
    {
     "name": "stdout",
     "output_type": "stream",
     "text": [
      "Mirror (feat. Gudda Gudda)\n",
      "------\n",
      "<class 'bs4.element.Tag'>\n",
      "----------\n",
      "[Verse 2: Gudda Gudda]\n",
      "Uh Bitch I'm On Fire Young Rider\n",
      "Let The Tool Off For My Nigga Tyga Tyga\n",
      "Give 'Em Hell With The Written Spitting Hot Sauce Treat Your Head Like A Fake Person\n",
      "Get Knocked Off Coupe I Take The Top Off\n",
      "Woof, Bitch Top Dawg\n",
      "Lay Her Face Sit In My Lap\n",
      "Let Her Play The Sack Bitch Get Lockjaw\n",
      "We On Top Like Toothpaste\n",
      "Hair To The Back With Two Braids\n",
      "Weezy Out In Two Days\n",
      "Young Money Doomsday\n",
      "We Bout To Act Up (Act Up)\n",
      "Money I'm a Stack Up (Stack Up)\n",
      "Crack My Savings Burn A Hundred Then I Crack Up\n",
      "I'm Hitting Like A Mack Truck\n",
      "Gun Me Nigga Bitch Need A Backup\n",
      "Sticks On Deck Hit The Nigga In The Neck\n",
      "And Nigga Don't Get Backed Up\n",
      "Young Gudda times 2 That's The Name\n",
      "Or Got A Pot Of Gold At The End Of The Rain-Bow\n",
      "You Ain't Here To Ballin Nigga What The Fuck You Came For\n",
      "Oh You Hit Your Main Hoe\n",
      "I'm Leaving With That Same Hoe\n",
      "--------------------\n",
      "<class 'bs4.element.NavigableString'>\n"
     ]
    },
    {
     "data": {
      "text/plain": [
       "'\\n'"
      ]
     },
     "metadata": {},
     "output_type": "display_data"
    },
    {
     "name": "stdout",
     "output_type": "stream",
     "text": [
      "Mirror (feat. Gudda Gudda)\n",
      "------\n",
      "<class 'bs4.element.Tag'>\n",
      "----------\n",
      "[Hook/Outro: Tyga]\n",
      "Uh Started To Smell Like Money In This Bitch\n",
      "Guess You Know It's Young Money In This Bitch\n",
      "Tyga Tyga Gudda Gudda Yea We In This Bitch\n",
      "Tyga Tyga Gudda Gudda Yea He In This Bitch\n",
      "--------------------\n",
      "<class 'bs4.element.NavigableString'>\n"
     ]
    },
    {
     "data": {
      "text/plain": [
       "'\\n'"
      ]
     },
     "metadata": {},
     "output_type": "display_data"
    },
    {
     "name": "stdout",
     "output_type": "stream",
     "text": [
      "Molly (feat. Wiz Khalifa and Mally Mall)\n",
      "------\n",
      "<class 'bs4.element.Tag'>\n",
      "----------\n",
      "[Intro:]\n",
      "Hi - I am looking for Molly\n",
      "I've been searchin' everywhere and I can't seem to find...\n",
      "Molly, Molly, Molly, Molly, Molly, Molly, Molly, Molly\n",
      "Molly, Molly, Molly, Molly, Molly, Molly, Molly, Molly\n",
      "--------------------\n",
      "<class 'bs4.element.NavigableString'>\n"
     ]
    },
    {
     "data": {
      "text/plain": [
       "'\\n'"
      ]
     },
     "metadata": {},
     "output_type": "display_data"
    },
    {
     "name": "stdout",
     "output_type": "stream",
     "text": [
      "Molly (feat. Wiz Khalifa and Mally Mall)\n",
      "------\n",
      "<class 'bs4.element.Tag'>\n",
      "----------\n",
      "[Verse 1: Tyga]\n",
      "Bands all in my dollars\n",
      "I'm everywhere, it's poppin'\n",
      "Can't fall in love, I got options\n",
      "I'm high school, that's college\n",
      "King gold chains, that's Notre Dame\n",
      "That green, yeah, I got it\n",
      "I show up in the party\n",
      "Like \"where the fuck that molly?\"\n",
      "OD, we're OGs\n",
      "We don't fuck with no police\n",
      "I'm too fly to be low key\n",
      "Them 24 inch Kobes\n",
      "All black, that's yours to see\n",
      "She give me pussy, that's your seed\n",
      "Broke niggas, stop beggin' me\n",
      "Cause that's the shit that I don't need\n",
      "I'm swervin', I'm drivin'\n",
      "Ain't got time to be tired\n",
      "I'm superturnt, don't try me\n",
      "Killin' your mind off and fuckin' your body\n",
      "Bitch want a flick? Pose for my posse\n",
      "Got too much shit to worry about gossip\n",
      "I'm on a bad trip and...\n",
      "--------------------\n",
      "<class 'bs4.element.NavigableString'>\n"
     ]
    },
    {
     "data": {
      "text/plain": [
       "'\\n'"
      ]
     },
     "metadata": {},
     "output_type": "display_data"
    },
    {
     "name": "stdout",
     "output_type": "stream",
     "text": [
      "Molly (feat. Wiz Khalifa and Mally Mall)\n",
      "------\n",
      "<class 'bs4.element.Tag'>\n",
      "----------\n",
      "[Hook:]\n",
      "I can't seem to find...\n",
      "Molly, Molly, Molly, Molly, Molly, Molly, Molly\n",
      "Molly, Molly, Molly, Molly, Molly, Molly, Molly\n",
      "Molly, Molly, Molly, Molly, Molly, Molly, Molly\n",
      "Molly, Molly, Molly, Molly, Molly, Molly, Molly\n",
      "--------------------\n",
      "<class 'bs4.element.NavigableString'>\n"
     ]
    },
    {
     "data": {
      "text/plain": [
       "'\\n'"
      ]
     },
     "metadata": {},
     "output_type": "display_data"
    },
    {
     "name": "stdout",
     "output_type": "stream",
     "text": [
      "Molly (feat. Wiz Khalifa and Mally Mall)\n",
      "------\n",
      "<class 'bs4.element.Tag'>\n",
      "----------\n",
      "[Verse 2: Wiz Khalifa]\n",
      "Lil' bitch, my section is important - my new car's imported\n",
      "My bank account is enormous - weed so loud it's distorted\n",
      "Got champagne and we pourin' it - she poppin' it and she snortin' it\n",
      "My iPhone recordin' it - if I want it I can afford it\n",
      "Bitch I'm Young Khalifa, fillin' my lungs with reefer\n",
      "Somewhere in the clouds - gotta press \"Up\" to see us\n",
      "I've got a whip so fast that I caught a ticket speedin'\n",
      "And my bitch so bad that I'm never, ever cheatin'\n",
      "I might pull up in some shit that you've never ever seen\n",
      "And if I said how much I make then you won't even believe it\n",
      "Me and T-Y gettin gnarly when we pull up to the party\n",
      "Brought a whole pound of Mary, and...\n",
      "--------------------\n",
      "<class 'bs4.element.NavigableString'>\n"
     ]
    },
    {
     "data": {
      "text/plain": [
       "'\\n'"
      ]
     },
     "metadata": {},
     "output_type": "display_data"
    },
    {
     "name": "stdout",
     "output_type": "stream",
     "text": [
      "Molly (feat. Wiz Khalifa and Mally Mall)\n",
      "------\n",
      "<class 'bs4.element.Tag'>\n",
      "----------\n",
      "[Hook]\n",
      "--------------------\n",
      "<class 'bs4.element.NavigableString'>\n"
     ]
    },
    {
     "data": {
      "text/plain": [
       "'\\n'"
      ]
     },
     "metadata": {},
     "output_type": "display_data"
    },
    {
     "name": "stdout",
     "output_type": "stream",
     "text": [
      "Molly (feat. Wiz Khalifa and Mally Mall)\n",
      "------\n",
      "<class 'bs4.element.Tag'>\n",
      "----------\n",
      "[Bridge: Mally Mall]\n",
      "Put it in my drink - put it in my drink\n",
      "Put it in my drink - you already know\n",
      "Put it in my drink - put it in my drink\n",
      "Put it in my drink - you already know\n",
      "She had me smokin', had me smokin'...\n",
      "Smokin' on my reefer\n",
      "She had me smokin', she had me smokin'...\n",
      "Smokin' on my reefer\n",
      "--------------------\n",
      "<class 'bs4.element.NavigableString'>\n"
     ]
    },
    {
     "data": {
      "text/plain": [
       "'\\n'"
      ]
     },
     "metadata": {},
     "output_type": "display_data"
    },
    {
     "name": "stdout",
     "output_type": "stream",
     "text": [
      "Molly (feat. Wiz Khalifa and Mally Mall)\n",
      "------\n",
      "<class 'bs4.element.Tag'>\n",
      "----------\n",
      "[Hook]\n",
      "--------------------\n",
      "<class 'bs4.element.NavigableString'>\n"
     ]
    },
    {
     "data": {
      "text/plain": [
       "'\\n'"
      ]
     },
     "metadata": {},
     "output_type": "display_data"
    },
    {
     "name": "stdout",
     "output_type": "stream",
     "text": [
      "<class 'bs4.element.NavigableString'>\n"
     ]
    },
    {
     "data": {
      "text/plain": [
       "'\\n'"
      ]
     },
     "metadata": {},
     "output_type": "display_data"
    },
    {
     "name": "stdout",
     "output_type": "stream",
     "text": [
      "Money Liquor\" (feat. Gudda Gudda)\n",
      "------\n",
      "<class 'bs4.element.Tag'>\n",
      "----------\n",
      "[Hook - Tyga]\n",
      "Now it's big living, fast cars, model women\n",
      "Penthouse, hella-chains - why you tripping?\n",
      "--------------------\n",
      "<class 'bs4.element.NavigableString'>\n"
     ]
    },
    {
     "data": {
      "text/plain": [
       "'\\n'"
      ]
     },
     "metadata": {},
     "output_type": "display_data"
    },
    {
     "name": "stdout",
     "output_type": "stream",
     "text": [
      "<class 'bs4.element.NavigableString'>\n"
     ]
    },
    {
     "data": {
      "text/plain": [
       "'\\n'"
      ]
     },
     "metadata": {},
     "output_type": "display_data"
    },
    {
     "name": "stdout",
     "output_type": "stream",
     "text": [
      "<class 'bs4.element.NavigableString'>\n"
     ]
    },
    {
     "data": {
      "text/plain": [
       "'\\n'"
      ]
     },
     "metadata": {},
     "output_type": "display_data"
    },
    {
     "name": "stdout",
     "output_type": "stream",
     "text": [
      "<class 'bs4.element.NavigableString'>\n"
     ]
    },
    {
     "data": {
      "text/plain": [
       "'\\n'"
      ]
     },
     "metadata": {},
     "output_type": "display_data"
    },
    {
     "name": "stdout",
     "output_type": "stream",
     "text": [
      "Money Liquor\" (feat. Gudda Gudda)\n",
      "------\n",
      "<class 'bs4.element.Tag'>\n",
      "----------\n",
      "[Gudda Gudda]\n",
      "Stay young Gudda nigga\n",
      "Fuck them other niggas\n",
      "Stumbling from the liquor\n",
      "Throwing money at the strippers\n",
      "Promethazine mixer, Codeine sipper\n",
      "Ring on my pinky looking like the Big Dipper\n",
      "Money talks, we speak often\n",
      "Murking the beat, we gonna need a coffin\n",
      "Got a freak riding shotgun\n",
      "She rolling hard on the pink dolphin\n",
      "Young nigga, but the money is old\n",
      "Big stacks, the money don't fold\n",
      "Jewelry box full of colorful shit, but\n",
      "Everything on my neck is gold\n",
      "Get in it, let's finish it\n",
      "You talk shit, I live this shit\n",
      "She love a nigga to death, so when I'm\n",
      "In the pussy, I kill the shit\n",
      "Money flowing like a river\n",
      "I buy the bar out, I mix the money with the liquor\n",
      "Nigga!\n",
      "Gudda!\n",
      "--------------------\n",
      "<class 'bs4.element.NavigableString'>\n"
     ]
    },
    {
     "data": {
      "text/plain": [
       "'\\n'"
      ]
     },
     "metadata": {},
     "output_type": "display_data"
    },
    {
     "name": "stdout",
     "output_type": "stream",
     "text": [
      "Money Liquor\" (feat. Gudda Gudda)\n",
      "------\n",
      "<class 'bs4.element.Tag'>\n",
      "----------\n",
      "[Hook - Tyga]\n",
      "Big living, fast cars, model women\n",
      "Penthouse, hella-chains - why you tripping?\n",
      "--------------------\n",
      "<class 'bs4.element.NavigableString'>\n"
     ]
    },
    {
     "data": {
      "text/plain": [
       "'\\n'"
      ]
     },
     "metadata": {},
     "output_type": "display_data"
    },
    {
     "name": "stdout",
     "output_type": "stream",
     "text": [
      "<class 'bs4.element.NavigableString'>\n"
     ]
    },
    {
     "data": {
      "text/plain": [
       "'\\n'"
      ]
     },
     "metadata": {},
     "output_type": "display_data"
    },
    {
     "name": "stdout",
     "output_type": "stream",
     "text": [
      "<class 'bs4.element.NavigableString'>\n"
     ]
    },
    {
     "data": {
      "text/plain": [
       "'\\n'"
      ]
     },
     "metadata": {},
     "output_type": "display_data"
    },
    {
     "name": "stdout",
     "output_type": "stream",
     "text": [
      "<class 'bs4.element.NavigableString'>\n"
     ]
    },
    {
     "data": {
      "text/plain": [
       "'\\n'"
      ]
     },
     "metadata": {},
     "output_type": "display_data"
    },
    {
     "name": "stdout",
     "output_type": "stream",
     "text": [
      "<class 'bs4.element.NavigableString'>\n"
     ]
    },
    {
     "data": {
      "text/plain": [
       "'\\n'"
      ]
     },
     "metadata": {},
     "output_type": "display_data"
    },
    {
     "name": "stdout",
     "output_type": "stream",
     "text": [
      "<class 'bs4.element.NavigableString'>\n"
     ]
    },
    {
     "data": {
      "text/plain": [
       "'\\n'"
      ]
     },
     "metadata": {},
     "output_type": "display_data"
    },
    {
     "name": "stdout",
     "output_type": "stream",
     "text": [
      "<class 'bs4.element.NavigableString'>\n"
     ]
    },
    {
     "data": {
      "text/plain": [
       "'\\n'"
      ]
     },
     "metadata": {},
     "output_type": "display_data"
    },
    {
     "name": "stdout",
     "output_type": "stream",
     "text": [
      "<class 'bs4.element.NavigableString'>\n"
     ]
    },
    {
     "data": {
      "text/plain": [
       "'\\n'"
      ]
     },
     "metadata": {},
     "output_type": "display_data"
    },
    {
     "name": "stdout",
     "output_type": "stream",
     "text": [
      "<class 'bs4.element.NavigableString'>\n"
     ]
    },
    {
     "data": {
      "text/plain": [
       "'\\n'"
      ]
     },
     "metadata": {},
     "output_type": "display_data"
    },
    {
     "name": "stdout",
     "output_type": "stream",
     "text": [
      "<class 'bs4.element.NavigableString'>\n"
     ]
    },
    {
     "data": {
      "text/plain": [
       "'\\n'"
      ]
     },
     "metadata": {},
     "output_type": "display_data"
    },
    {
     "name": "stdout",
     "output_type": "stream",
     "text": [
      "<class 'bs4.element.NavigableString'>\n"
     ]
    },
    {
     "data": {
      "text/plain": [
       "'\\n'"
      ]
     },
     "metadata": {},
     "output_type": "display_data"
    },
    {
     "name": "stdout",
     "output_type": "stream",
     "text": [
      "Muthafucka Up (feat. Nicki Minaj)\n",
      "------\n",
      "<class 'bs4.element.Tag'>\n",
      "----------\n",
      "[Hook: x4]\n",
      "{Ain't this muthafucker up}\n",
      "--------------------\n",
      "<class 'bs4.element.NavigableString'>\n"
     ]
    },
    {
     "data": {
      "text/plain": [
       "'\\n'"
      ]
     },
     "metadata": {},
     "output_type": "display_data"
    },
    {
     "name": "stdout",
     "output_type": "stream",
     "text": [
      "Muthafucka Up (feat. Nicki Minaj)\n",
      "------\n",
      "<class 'bs4.element.Tag'>\n",
      "----------\n",
      "[Nicki Minaj:]\n",
      "Okay, really I get money\n",
      "I get money like a bitch\n",
      "She ain't goin' nowhere but I swear that bitch a trip\n",
      "You see how the diamonds get to dancing\n",
      "Yeah, ya money short, get some pants and shit\n",
      "I be with a nigga with a big ol' dick\n",
      "Yeah I like them balls you be shooting them bricks\n",
      "Fuck you in the game for?\n",
      "Bitch we up three zip and it's game four\n",
      "Tell 'em listen, couple bad bitches's\n",
      "Out in Kingston kicking up bricks and shit\n",
      "Intervention bitch I pay ya pension\n",
      "Oh you say what? I don't pay attention\n",
      "Yeah these niggas want it\n",
      "I put my bitches on it\n",
      "You know the tattoo's got Nicki initials on it\n",
      "I put the pussy on 'em, cook 'em a pot roast\n",
      "Then pull off in the Ghost\n",
      "Bitch I do the most\n",
      "--------------------\n",
      "<class 'bs4.element.NavigableString'>\n"
     ]
    },
    {
     "data": {
      "text/plain": [
       "'\\n'"
      ]
     },
     "metadata": {},
     "output_type": "display_data"
    },
    {
     "name": "stdout",
     "output_type": "stream",
     "text": [
      "Muthafucka Up (feat. Nicki Minaj)\n",
      "------\n",
      "<class 'bs4.element.Tag'>\n",
      "----------\n",
      "[Tyga:]\n",
      "What the funk you beezy's want?\n",
      "It ain't your turn, better have my money\n",
      "Friday like Big worm\n",
      "Can't see you niggas, you like a little germ\n",
      "Bitches know I'm excellent like Mr Burns\n",
      "Treat my dick like Butter churn\n",
      "Baby churn and ya girl with me fo'shure\n",
      "That ain't your concern\n",
      "She forgot about her other man, she will never learn\n",
      "On a mic till I die, RIP Chick Hearns,\n",
      "Yessir, colder than the Pittsburgh?\n",
      "Winter fresher than a Will Smith T-Shirt\n",
      "These spurts coming through Last King and a hearse\n",
      "Ask later, shoot first, got shooters like dirt\n",
      "When it hurts leave you losers bruised up\n",
      "Bruce Lee nunchucks\n",
      "Toe from the floor up though\n",
      "Duck, rubber duck now you like oh shucks\n",
      "Tell the neighbours I don't give a fuck\n",
      "--------------------\n",
      "<class 'bs4.element.NavigableString'>\n"
     ]
    },
    {
     "data": {
      "text/plain": [
       "'\\n'"
      ]
     },
     "metadata": {},
     "output_type": "display_data"
    },
    {
     "name": "stdout",
     "output_type": "stream",
     "text": [
      "Muthafucka Up (feat. Nicki Minaj)\n",
      "------\n",
      "<class 'bs4.element.Tag'>\n",
      "----------\n",
      "[Hook]\n",
      "--------------------\n",
      "<class 'bs4.element.NavigableString'>\n"
     ]
    },
    {
     "data": {
      "text/plain": [
       "'\\n'"
      ]
     },
     "metadata": {},
     "output_type": "display_data"
    },
    {
     "name": "stdout",
     "output_type": "stream",
     "text": [
      "<class 'bs4.element.NavigableString'>\n"
     ]
    },
    {
     "data": {
      "text/plain": [
       "'\\n'"
      ]
     },
     "metadata": {},
     "output_type": "display_data"
    },
    {
     "name": "stdout",
     "output_type": "stream",
     "text": [
      "<class 'bs4.element.NavigableString'>\n"
     ]
    },
    {
     "data": {
      "text/plain": [
       "'\\n'"
      ]
     },
     "metadata": {},
     "output_type": "display_data"
    },
    {
     "name": "stdout",
     "output_type": "stream",
     "text": [
      "<class 'bs4.element.NavigableString'>\n"
     ]
    },
    {
     "data": {
      "text/plain": [
       "'\\n'"
      ]
     },
     "metadata": {},
     "output_type": "display_data"
    },
    {
     "name": "stdout",
     "output_type": "stream",
     "text": [
      "<class 'bs4.element.NavigableString'>\n"
     ]
    },
    {
     "data": {
      "text/plain": [
       "'\\n'"
      ]
     },
     "metadata": {},
     "output_type": "display_data"
    },
    {
     "name": "stdout",
     "output_type": "stream",
     "text": [
      "My Glory\n",
      "------\n",
      "<class 'bs4.element.Tag'>\n",
      "----------\n",
      "[Hook:]\n",
      "I started from the very end\n",
      "Look around look where I begin\n",
      "Women sittin', sippin' with him\n",
      "But what happens when the glory ends\n",
      "--------------------\n",
      "<class 'bs4.element.NavigableString'>\n"
     ]
    },
    {
     "data": {
      "text/plain": [
       "'\\n'"
      ]
     },
     "metadata": {},
     "output_type": "display_data"
    },
    {
     "name": "stdout",
     "output_type": "stream",
     "text": [
      "<class 'bs4.element.NavigableString'>\n"
     ]
    },
    {
     "data": {
      "text/plain": [
       "'\\n'"
      ]
     },
     "metadata": {},
     "output_type": "display_data"
    },
    {
     "name": "stdout",
     "output_type": "stream",
     "text": [
      "<class 'bs4.element.NavigableString'>\n"
     ]
    },
    {
     "data": {
      "text/plain": [
       "'\\n'"
      ]
     },
     "metadata": {},
     "output_type": "display_data"
    },
    {
     "name": "stdout",
     "output_type": "stream",
     "text": [
      "My Glory\n",
      "------\n",
      "<class 'bs4.element.Tag'>\n",
      "----------\n",
      "[Hook]\n",
      "--------------------\n",
      "<class 'bs4.element.NavigableString'>\n"
     ]
    },
    {
     "data": {
      "text/plain": [
       "'\\n'"
      ]
     },
     "metadata": {},
     "output_type": "display_data"
    },
    {
     "name": "stdout",
     "output_type": "stream",
     "text": [
      "<class 'bs4.element.NavigableString'>\n"
     ]
    },
    {
     "data": {
      "text/plain": [
       "'\\n'"
      ]
     },
     "metadata": {},
     "output_type": "display_data"
    },
    {
     "name": "stdout",
     "output_type": "stream",
     "text": [
      "My Glory\n",
      "------\n",
      "<class 'bs4.element.Tag'>\n",
      "----------\n",
      "[Hook]\n",
      "--------------------\n",
      "<class 'bs4.element.NavigableString'>\n"
     ]
    },
    {
     "data": {
      "text/plain": [
       "'\\n'"
      ]
     },
     "metadata": {},
     "output_type": "display_data"
    },
    {
     "name": "stdout",
     "output_type": "stream",
     "text": [
      "Mystic AKA Mado Kara Mieru Interlude\n",
      "------\n",
      "<class 'bs4.element.Tag'>\n",
      "----------\n",
      "[Tyga]\n",
      "Being king took me on a journey... all across the world...\n",
      "Sidetrack from the love for my queen...\n",
      "Realize I have to make an effort... to show a king's life...\n",
      "But this is life...\n",
      "--------------------\n",
      "<class 'bs4.element.NavigableString'>\n"
     ]
    },
    {
     "data": {
      "text/plain": [
       "'\\n'"
      ]
     },
     "metadata": {},
     "output_type": "display_data"
    },
    {
     "name": "stdout",
     "output_type": "stream",
     "text": [
      "No Luck\n",
      "------\n",
      "<class 'bs4.element.Tag'>\n",
      "----------\n",
      "[Verse 1:]\n",
      "Okay, ocean view glass house, room full of heaters\n",
      "Dick game make a faithful bitch start cheating\n",
      "A blessing to these hoes, Got em praying for no reason\n",
      "Got real niggas with me and all my hoes conceited\n",
      "I eat it, beat it, then tongue wash clean it\n",
      "A nigga start tripping, press em, cleaners\n",
      "Fifty-Two niggas lined up, stay schemin\n",
      "Turned ballerina when the bullet start hit me\n",
      "Screaming, genius, fire-crack your house\n",
      "Put them bitches at your front door like a girl scout\n",
      "Now you run through the back trying to find a way out\n",
      "But there's no way out, nigga go and take a bow\n",
      "Finish to my level, I part bury your coffin\n",
      "Is God giving her better, I'm hot, boiling kettle\n",
      "Tea-bagging your bitch, I call it dipping my drizzle\n",
      "I probably should take a picture , but she'll probably get offended, Bitch!\n",
      "--------------------\n",
      "<class 'bs4.element.NavigableString'>\n"
     ]
    },
    {
     "data": {
      "text/plain": [
       "'\\n'"
      ]
     },
     "metadata": {},
     "output_type": "display_data"
    },
    {
     "name": "stdout",
     "output_type": "stream",
     "text": [
      "No Luck\n",
      "------\n",
      "<class 'bs4.element.Tag'>\n",
      "----------\n",
      "[Hook x2:]\n",
      "I'm a good ass nigga, I don't need no luck\n",
      "A good ass nigga, I don't need no luck\n",
      "A good ass nigga, I don't need no luck\n",
      "Fuck your bitch, now she walking with her nose up\n",
      "--------------------\n",
      "<class 'bs4.element.NavigableString'>\n"
     ]
    },
    {
     "data": {
      "text/plain": [
       "'\\n'"
      ]
     },
     "metadata": {},
     "output_type": "display_data"
    },
    {
     "name": "stdout",
     "output_type": "stream",
     "text": [
      "No Luck\n",
      "------\n",
      "<class 'bs4.element.Tag'>\n",
      "----------\n",
      "[Verse 2:]\n",
      "I dreamed a genie, now pimpin is easy\n",
      "And the ghost make your bitch reappear like Houdini\n",
      "Spending hours with that toast, get the bread like a birdie\n",
      "Got a ho like J-Lo, they call her Selena\n",
      "Riding with that nina, I'm into my stature\n",
      "Couldn't entertain you little non-factors\n",
      "Got Eighty-thou for the show in Alaska\n",
      "Spent 40k on strippers in Atlanta\n",
      "Fuck off the weekend, fuck until the weekend\n",
      "I got hoes in my house, better believe it\n",
      "Like Killa Cam, yeah, I Really Mean It\n",
      "Gotta walk around butt naked in some Valentinos\n",
      "The new Nino, canceled that bitch and I reload\n",
      "Click-clack, boom, guess who entered the room\n",
      "Straps on my side like Tomb, Raider\n",
      "Patch your eye, I don't gotta try again later\n",
      "--------------------\n",
      "<class 'bs4.element.NavigableString'>\n"
     ]
    },
    {
     "data": {
      "text/plain": [
       "'\\n'"
      ]
     },
     "metadata": {},
     "output_type": "display_data"
    },
    {
     "name": "stdout",
     "output_type": "stream",
     "text": [
      "No Luck\n",
      "------\n",
      "<class 'bs4.element.Tag'>\n",
      "----------\n",
      "[Hook]\n",
      "--------------------\n",
      "<class 'bs4.element.NavigableString'>\n"
     ]
    },
    {
     "data": {
      "text/plain": [
       "'\\n'"
      ]
     },
     "metadata": {},
     "output_type": "display_data"
    },
    {
     "name": "stdout",
     "output_type": "stream",
     "text": [
      "No Luck\n",
      "------\n",
      "<class 'bs4.element.Tag'>\n",
      "----------\n",
      "[Bridge:]\n",
      "Oh, I'm better than you\n",
      "I know it, know it\n",
      "Yeah, I'm better than you\n",
      "I know it, know it\n",
      "I fuck it up\n",
      "I fuck it up\n",
      "I fuck it up\n",
      "I know it, know it\n",
      "She fuck it up\n",
      "She fuck it up\n",
      "Fuck it up\n",
      "I know it, know it\n",
      "--------------------\n",
      "<class 'bs4.element.NavigableString'>\n"
     ]
    },
    {
     "data": {
      "text/plain": [
       "'\\n'"
      ]
     },
     "metadata": {},
     "output_type": "display_data"
    },
    {
     "name": "stdout",
     "output_type": "stream",
     "text": [
      "No Luck\n",
      "------\n",
      "<class 'bs4.element.Tag'>\n",
      "----------\n",
      "[Hook]\n",
      "--------------------\n",
      "<class 'bs4.element.NavigableString'>\n"
     ]
    },
    {
     "data": {
      "text/plain": [
       "'\\n'"
      ]
     },
     "metadata": {},
     "output_type": "display_data"
    },
    {
     "name": "stdout",
     "output_type": "stream",
     "text": [
      "Orgasm\n",
      "------\n",
      "<class 'bs4.element.Tag'>\n",
      "----------\n",
      "She gon have a fuckin orgasm [x2]\n",
      "Uhh, beat, beat it like the melody\n",
      "She gon bend it over, hands on her knees\n",
      "She gon have a fuckin orgasm [x2]\n",
      "Put it deep where she tellin me\n",
      "Rock her like a baby she gon fall asleep\n",
      "After she had a fuckin orgasm\n",
      "She had a fuckin orgasm\n",
      "Uhh\n",
      "Wet dreams, see through my vision\n",
      "Yo bitch is missin, she with the nigga\n",
      "Fly nigga, too exquisite\n",
      "She wanna be mrs. I'm single\n",
      "One digit, too many bitches\n",
      "3, 4, sex positions\n",
      "I'm on a mission, missionary in the kitchen\n",
      "Pussy drippin, clean it up tongue kiss it\n",
      "So delicious, pussy go like olympics\n",
      "Man, already full I don't need dinner\n",
      "Put it in her, beat it up\n",
      "Bad bitch yea she bad as fuck\n",
      "Tatted up, n she like that\n",
      "Put it in ya mouth baby don't bite thatt\n",
      "--------------------\n",
      "<class 'bs4.element.NavigableString'>\n"
     ]
    },
    {
     "data": {
      "text/plain": [
       "'\\n'"
      ]
     },
     "metadata": {},
     "output_type": "display_data"
    },
    {
     "name": "stdout",
     "output_type": "stream",
     "text": [
      "Orgasm\n",
      "------\n",
      "<class 'bs4.element.Tag'>\n",
      "----------\n",
      "B-beat it like the melody\n",
      "She gon bend it over hands on her knees\n",
      "She gon have a fuckin orgasm [x2]\n",
      "Put it deep where she tellin\n",
      "Rock her like a baby she gon fall asleep\n",
      "After she had a fuckin orgasm\n",
      "She had a fuckin orgasm\n",
      "--------------------\n",
      "<class 'bs4.element.NavigableString'>\n"
     ]
    },
    {
     "data": {
      "text/plain": [
       "'\\n'"
      ]
     },
     "metadata": {},
     "output_type": "display_data"
    },
    {
     "name": "stdout",
     "output_type": "stream",
     "text": [
      "<class 'bs4.element.NavigableString'>\n"
     ]
    },
    {
     "data": {
      "text/plain": [
       "'\\n'"
      ]
     },
     "metadata": {},
     "output_type": "display_data"
    },
    {
     "name": "stdout",
     "output_type": "stream",
     "text": [
      "<class 'bs4.element.NavigableString'>\n"
     ]
    },
    {
     "data": {
      "text/plain": [
       "'\\n'"
      ]
     },
     "metadata": {},
     "output_type": "display_data"
    },
    {
     "name": "stdout",
     "output_type": "stream",
     "text": [
      "Orgasm\n",
      "------\n",
      "<class 'bs4.element.Tag'>\n",
      "----------\n",
      "B-beat it like the melody\n",
      "She gon bend it over hands on her knees\n",
      "She gon have a fuckin orgasm [x2]\n",
      "Put it deep where she tellin\n",
      "Rock her like a baby she gon fall asleep\n",
      "After she had a fuckin orgasm\n",
      "She had a fuckin orgasm\n",
      "--------------------\n",
      "<class 'bs4.element.NavigableString'>\n"
     ]
    },
    {
     "data": {
      "text/plain": [
       "'\\n'"
      ]
     },
     "metadata": {},
     "output_type": "display_data"
    },
    {
     "name": "stdout",
     "output_type": "stream",
     "text": [
      "<class 'bs4.element.NavigableString'>\n"
     ]
    },
    {
     "data": {
      "text/plain": [
       "'\\n'"
      ]
     },
     "metadata": {},
     "output_type": "display_data"
    },
    {
     "name": "stdout",
     "output_type": "stream",
     "text": [
      "Orgasm\n",
      "------\n",
      "<class 'bs4.element.Tag'>\n",
      "----------\n",
      "B-beat it like the melody\n",
      "She gon bend it over hands on her knees\n",
      "She gon have a fuckin orgasm [x2]\n",
      "Put it deep where she tellin\n",
      "Rock her like a baby she gon fall asleep\n",
      "After she had a fuckin orgasm\n",
      "She had a fuckin orgasm\n",
      "--------------------\n",
      "<class 'bs4.element.NavigableString'>\n"
     ]
    },
    {
     "data": {
      "text/plain": [
       "'\\n'"
      ]
     },
     "metadata": {},
     "output_type": "display_data"
    },
    {
     "name": "stdout",
     "output_type": "stream",
     "text": [
      "Out This Bitch (feat. Kirko Bangz)\n",
      "------\n",
      "<class 'bs4.element.Tag'>\n",
      "----------\n",
      "[Hook - Kirko Bangz:]\n",
      "She say I'm trynna make this work, you're doin' it again\n",
      "Fuck this shit, I'm out this bitch\n",
      "Say I'm out this bitch (I'm out this bitch)\n",
      "Say I'm out this bitch (I'm out this bitch)\n",
      "Say I'm out this bitch (I'm out this bitch)\n",
      "She tell me\n",
      "\"you could have that bitch, you ain't bout shit, fuck this shit, I'm out this bitch\"\n",
      "She like \"fuck that shit\"\n",
      "She got me like \"fuck that bitch!\"\n",
      "Say I'm out this bitch...\n",
      "--------------------\n",
      "<class 'bs4.element.NavigableString'>\n"
     ]
    },
    {
     "data": {
      "text/plain": [
       "'\\n'"
      ]
     },
     "metadata": {},
     "output_type": "display_data"
    },
    {
     "name": "stdout",
     "output_type": "stream",
     "text": [
      "<class 'bs4.element.NavigableString'>\n"
     ]
    },
    {
     "data": {
      "text/plain": [
       "'\\n'"
      ]
     },
     "metadata": {},
     "output_type": "display_data"
    },
    {
     "name": "stdout",
     "output_type": "stream",
     "text": [
      "<class 'bs4.element.NavigableString'>\n"
     ]
    },
    {
     "data": {
      "text/plain": [
       "'\\n'"
      ]
     },
     "metadata": {},
     "output_type": "display_data"
    },
    {
     "name": "stdout",
     "output_type": "stream",
     "text": [
      "<class 'bs4.element.NavigableString'>\n"
     ]
    },
    {
     "data": {
      "text/plain": [
       "'\\n'"
      ]
     },
     "metadata": {},
     "output_type": "display_data"
    },
    {
     "name": "stdout",
     "output_type": "stream",
     "text": [
      "<class 'bs4.element.NavigableString'>\n"
     ]
    },
    {
     "data": {
      "text/plain": [
       "'\\n'"
      ]
     },
     "metadata": {},
     "output_type": "display_data"
    },
    {
     "name": "stdout",
     "output_type": "stream",
     "text": [
      "<class 'bs4.element.NavigableString'>\n"
     ]
    },
    {
     "data": {
      "text/plain": [
       "'\\n'"
      ]
     },
     "metadata": {},
     "output_type": "display_data"
    },
    {
     "name": "stdout",
     "output_type": "stream",
     "text": [
      "Palm Trees\n",
      "------\n",
      "<class 'bs4.element.Tag'>\n",
      "----------\n",
      "[Hook:]\n",
      "Niggas wanna stop me like the nazzi\n",
      "Getting money like Illuminati\n",
      "Look up and see the palm trees, fuck everybody\n",
      "Palm trees, fuck everybody\n",
      "All I see is the money, buried over the struggle\n",
      "I know religion got me, too cheap to sell my soul though\n",
      "So fuck every commy, palm trees\n",
      "Fuck everybody, palm trees\n",
      "--------------------\n",
      "<class 'bs4.element.NavigableString'>\n"
     ]
    },
    {
     "data": {
      "text/plain": [
       "'\\n'"
      ]
     },
     "metadata": {},
     "output_type": "display_data"
    },
    {
     "name": "stdout",
     "output_type": "stream",
     "text": [
      "Palm Trees\n",
      "------\n",
      "<class 'bs4.element.Tag'>\n",
      "----------\n",
      "[Verse:]\n",
      "Clearly these niggas can't see me like black & white TV\n",
      "So pretend that you hear me like Stevie\n",
      "Let's call it, leave and fuck you\n",
      "We've been discussing our salary\n",
      "You chiefin, pass the blunt,\n",
      "Pray that you live, have a dissy\n",
      "Tires screeching, swerving paparazzi\n",
      "I could have relieve in 91 gas from Chevron, Rolls Royce like Heron\n",
      "Warrior like play on girls, they like to cling on\n",
      "Give em hard dick one time then that boy gone\n",
      "I bop Ferrari to my latest songs, H Crown, did 5, glad my nigga made it home\n",
      "These bitches fronting, claiming they ain't hoes\n",
      "Actin like the single life, the way that go ball all alone\n",
      "Alright neighborhood, I feel alone\n",
      "8 bedrooms, let my thoughts roam\n",
      "And one day king will realize his throne\n",
      "When you pop T-Raww, morals in you fairly strong\n",
      "I love making that shit that you can sing along\n",
      "Getting head while you're high\n",
      "That's my way you're getting blown\n",
      "Used to talk to these kids through the Styrophoam\n",
      "Now we talk for millions on the microphone\n",
      "Jewelry cashed back then the zip locked\n",
      "No job to them rogue niggas\n",
      "Kick rocks, white socks\n",
      "Clean nigga, court side,\n",
      "Fact not, see you making it rain, nigga that's all you got\n",
      "All night, that's what you got\n",
      "Fuck with me baby, make sure you leave with a what\n",
      "Course you ain't bad, fuck your cash, I pay my tab\n",
      "Make you a star in real life, fuck a blog nigga\n",
      "--------------------\n",
      "<class 'bs4.element.NavigableString'>\n"
     ]
    },
    {
     "data": {
      "text/plain": [
       "'\\n'"
      ]
     },
     "metadata": {},
     "output_type": "display_data"
    },
    {
     "name": "stdout",
     "output_type": "stream",
     "text": [
      "Palm Trees\n",
      "------\n",
      "<class 'bs4.element.Tag'>\n",
      "----------\n",
      "[Hook:]\n",
      "Niggas wanna stop me like the nazzi\n",
      "Getting money like Illuminati\n",
      "Look up and see the palm trees, fuck everybody\n",
      "Palm trees, fuck everybody\n",
      "All I see is the money, buried over the struggle\n",
      "I know religion got me, too cheap to sell my soul though\n",
      "So fuck every commy, palm trees\n",
      "Fuck everybody, palm trees\n",
      "--------------------\n",
      "<class 'bs4.element.NavigableString'>\n"
     ]
    },
    {
     "data": {
      "text/plain": [
       "'\\n'"
      ]
     },
     "metadata": {},
     "output_type": "display_data"
    },
    {
     "name": "stdout",
     "output_type": "stream",
     "text": [
      "<class 'bs4.element.NavigableString'>\n"
     ]
    },
    {
     "data": {
      "text/plain": [
       "'\\n'"
      ]
     },
     "metadata": {},
     "output_type": "display_data"
    },
    {
     "name": "stdout",
     "output_type": "stream",
     "text": [
      "Party Over Here\n",
      "------\n",
      "<class 'bs4.element.Tag'>\n",
      "----------\n",
      "[Chorus:]\n",
      "Its a party over here, party party over here, party party over here, party party party over here, said get ya mink up, throwing money in my cup, said get ya mink up, throwing money in my cup, its a party over here, party party over here, party party over here, party party party over here, said get ya mink up, throwing money in my cup, said get ya mink up, throwing money in my cup, its a party over here, party party over here, party party over here, party party party over here, said get ya mink up, throwing money in my cup, said get ya mink up, throwing money in my cup\n",
      "--------------------\n",
      "<class 'bs4.element.NavigableString'>\n"
     ]
    },
    {
     "data": {
      "text/plain": [
       "'\\n'"
      ]
     },
     "metadata": {},
     "output_type": "display_data"
    },
    {
     "name": "stdout",
     "output_type": "stream",
     "text": [
      "Party Over Here\n",
      "------\n",
      "<class 'bs4.element.Tag'>\n",
      "----------\n",
      "[Verse 1:]\n",
      "Uh, t-killa cali no3 fly niqqa, when I enter the party get all the bitches, waves spinning, colors in my leed denim, fuck fuck them haters they already no3 the business, I'm back bitches, came on some whole different, I gotta kill it, I came with the roof missing, they aint see it, why you got ya face in it, I play women, nice game then I'm finished, ahhhh, bang bang shitty shitty, she work the pole get that nice little tipy tipy, she wanna drink take a sipy sipy, she said she smoke weed, real sticky yicky, I'm I'm the hottest niqqa, up up in every city, I can pay for it, but they just give it to me, haha, I still spend money till I'm dizzy, the white girl say tyga tyga its a its a \n",
      "--------------------\n",
      "<class 'bs4.element.NavigableString'>\n"
     ]
    },
    {
     "data": {
      "text/plain": [
       "'\\n'"
      ]
     },
     "metadata": {},
     "output_type": "display_data"
    },
    {
     "name": "stdout",
     "output_type": "stream",
     "text": [
      "Party Over Here\n",
      "------\n",
      "<class 'bs4.element.Tag'>\n",
      "----------\n",
      "[Chorus]\n",
      "--------------------\n",
      "<class 'bs4.element.NavigableString'>\n"
     ]
    },
    {
     "data": {
      "text/plain": [
       "'\\n'"
      ]
     },
     "metadata": {},
     "output_type": "display_data"
    },
    {
     "name": "stdout",
     "output_type": "stream",
     "text": [
      "Party Over Here\n",
      "------\n",
      "<class 'bs4.element.Tag'>\n",
      "----------\n",
      "[Verse 2:]\n",
      "I'm minked up, throwing money in my chucks, I make it rain dear when\n",
      "It comes to bucks, don't hang dear if you aint tryna fuck, I'm tryna hit it from the back I don't want the front, uh, hot for the next 10 summers, young money mother sookers you gotta love us, tell homegirl lose my numba, tryna play wit me, I aint ya play brother, bummer, I had to give the news to her, I wouldve sooner but ill be over noovers, I could teach ya but I'm not a tutor, young money long money get a ruler, turn the song up kids they gon jerk to it, if we talking rap, what's your worth to it, if we talking paper, we don burn through it, this for my Geez tho but everybody bop to it like \n",
      "--------------------\n",
      "<class 'bs4.element.NavigableString'>\n"
     ]
    },
    {
     "data": {
      "text/plain": [
       "'\\n'"
      ]
     },
     "metadata": {},
     "output_type": "display_data"
    },
    {
     "name": "stdout",
     "output_type": "stream",
     "text": [
      "Party Over Here\n",
      "------\n",
      "<class 'bs4.element.Tag'>\n",
      "----------\n",
      "[Chorus]\n",
      "--------------------\n",
      "<class 'bs4.element.NavigableString'>\n"
     ]
    },
    {
     "data": {
      "text/plain": [
       "'\\n'"
      ]
     },
     "metadata": {},
     "output_type": "display_data"
    },
    {
     "name": "stdout",
     "output_type": "stream",
     "text": [
      "<class 'bs4.element.NavigableString'>\n"
     ]
    },
    {
     "data": {
      "text/plain": [
       "'\\n'"
      ]
     },
     "metadata": {},
     "output_type": "display_data"
    },
    {
     "name": "stdout",
     "output_type": "stream",
     "text": [
      "Party Over Here\n",
      "------\n",
      "<class 'bs4.element.Tag'>\n",
      "----------\n",
      "[Chorus]\n",
      "--------------------\n",
      "<class 'bs4.element.NavigableString'>\n"
     ]
    },
    {
     "data": {
      "text/plain": [
       "'\\n'"
      ]
     },
     "metadata": {},
     "output_type": "display_data"
    },
    {
     "name": "stdout",
     "output_type": "stream",
     "text": [
      "<class 'bs4.element.NavigableString'>\n"
     ]
    },
    {
     "data": {
      "text/plain": [
       "'\\n'"
      ]
     },
     "metadata": {},
     "output_type": "display_data"
    },
    {
     "name": "stdout",
     "output_type": "stream",
     "text": [
      "<class 'bs4.element.NavigableString'>\n"
     ]
    },
    {
     "data": {
      "text/plain": [
       "'\\n'"
      ]
     },
     "metadata": {},
     "output_type": "display_data"
    },
    {
     "name": "stdout",
     "output_type": "stream",
     "text": [
      "<class 'bs4.element.NavigableString'>\n"
     ]
    },
    {
     "data": {
      "text/plain": [
       "'\\n'"
      ]
     },
     "metadata": {},
     "output_type": "display_data"
    },
    {
     "name": "stdout",
     "output_type": "stream",
     "text": [
      "<class 'bs4.element.NavigableString'>\n"
     ]
    },
    {
     "data": {
      "text/plain": [
       "'\\n'"
      ]
     },
     "metadata": {},
     "output_type": "display_data"
    },
    {
     "name": "stdout",
     "output_type": "stream",
     "text": [
      "<class 'bs4.element.NavigableString'>\n"
     ]
    },
    {
     "data": {
      "text/plain": [
       "'\\n'"
      ]
     },
     "metadata": {},
     "output_type": "display_data"
    },
    {
     "name": "stdout",
     "output_type": "stream",
     "text": [
      "<class 'bs4.element.NavigableString'>\n"
     ]
    },
    {
     "data": {
      "text/plain": [
       "'\\n'"
      ]
     },
     "metadata": {},
     "output_type": "display_data"
    },
    {
     "name": "stdout",
     "output_type": "stream",
     "text": [
      "<class 'bs4.element.NavigableString'>\n"
     ]
    },
    {
     "data": {
      "text/plain": [
       "'\\n'"
      ]
     },
     "metadata": {},
     "output_type": "display_data"
    },
    {
     "name": "stdout",
     "output_type": "stream",
     "text": [
      "<class 'bs4.element.NavigableString'>\n"
     ]
    },
    {
     "data": {
      "text/plain": [
       "'\\n'"
      ]
     },
     "metadata": {},
     "output_type": "display_data"
    },
    {
     "name": "stdout",
     "output_type": "stream",
     "text": [
      "Pop It\n",
      "------\n",
      "<class 'bs4.element.Tag'>\n",
      "----------\n",
      "Pop it bitch\n",
      "Pop, pop, pop, pop it bitch [x3]\n",
      "One two and the bitch came pop it bitch\n",
      "Pop, pop, pop, pop it bitch [x3]\n",
      "All these hoes know my damn name\n",
      "--------------------\n",
      "<class 'bs4.element.NavigableString'>\n"
     ]
    },
    {
     "data": {
      "text/plain": [
       "'\\n'"
      ]
     },
     "metadata": {},
     "output_type": "display_data"
    },
    {
     "name": "stdout",
     "output_type": "stream",
     "text": [
      "<class 'bs4.element.NavigableString'>\n"
     ]
    },
    {
     "data": {
      "text/plain": [
       "'\\n'"
      ]
     },
     "metadata": {},
     "output_type": "display_data"
    },
    {
     "name": "stdout",
     "output_type": "stream",
     "text": [
      "<class 'bs4.element.NavigableString'>\n"
     ]
    },
    {
     "data": {
      "text/plain": [
       "'\\n'"
      ]
     },
     "metadata": {},
     "output_type": "display_data"
    },
    {
     "name": "stdout",
     "output_type": "stream",
     "text": [
      "Pop It\n",
      "------\n",
      "<class 'bs4.element.Tag'>\n",
      "----------\n",
      "Pop it bitch\n",
      "Pop, pop, pop, pop it bitch [x3]\n",
      "One two and the bitch came pop it bitch\n",
      "Pop, pop, pop, pop it bitch [x3]\n",
      "All these hoes know my damn name\n",
      "--------------------\n",
      "<class 'bs4.element.NavigableString'>\n"
     ]
    },
    {
     "data": {
      "text/plain": [
       "'\\n'"
      ]
     },
     "metadata": {},
     "output_type": "display_data"
    },
    {
     "name": "stdout",
     "output_type": "stream",
     "text": [
      "<class 'bs4.element.NavigableString'>\n"
     ]
    },
    {
     "data": {
      "text/plain": [
       "'\\n'"
      ]
     },
     "metadata": {},
     "output_type": "display_data"
    },
    {
     "name": "stdout",
     "output_type": "stream",
     "text": [
      "Pop It\n",
      "------\n",
      "<class 'bs4.element.Tag'>\n",
      "----------\n",
      "Pop, pop, pop, pop it bitch [x3]\n",
      "One two and the bitch came pop it bitch\n",
      "Pop, pop, pop, pop it bitch [x3]\n",
      "All these hoes know my damn name\n",
      "You ain't get brain that's a damn shame\n",
      "--------------------\n",
      "<class 'bs4.element.NavigableString'>\n"
     ]
    },
    {
     "data": {
      "text/plain": [
       "'\\n'"
      ]
     },
     "metadata": {},
     "output_type": "display_data"
    },
    {
     "name": "stdout",
     "output_type": "stream",
     "text": [
      "Potty Mouth (feat. Busta Rhymes)\n",
      "------\n",
      "<class 'bs4.element.Tag'>\n",
      "----------\n",
      "[Verse 1: Tyga]\n",
      "One shot, bomboclat\n",
      "bitches jumping on my dick, hopping like it’s hopscotch\n",
      "Booty pop, my bitch don’t wear that she prolly ass shots\n",
      "I don’t give a fuck, I fuck em all till they pussy ouch\n",
      "Potty mouth, oochie wally, bang, bang then I’m out\n",
      "Once u-fucking-pon a time, had your bitch inside my house\n",
      "Cooking grits and riding dick\n",
      "Swear she the best chef around\n",
      "Pop that pussy, now let me see you doo doo brown\n",
      "I wanna rock, I wanna rock\n",
      "Tell these bitch niggas it’s they time of the month, time of the month\n",
      "niggas want beef but I eat that shit, eat eat everything well done\n",
      "I’m so far in the clouds I can barely hear\n",
      "All that shit you rocking, boy that was last year\n",
      "GOAT’s here, niggas steer my style like a stop deer\n",
      "Pump fear\n",
      "To you bitches heart, Suge without the beard\n",
      "Man, all these new niggas weird\n",
      "They all lining up to come and see the last king\n",
      "--------------------\n",
      "<class 'bs4.element.NavigableString'>\n"
     ]
    },
    {
     "data": {
      "text/plain": [
       "'\\n'"
      ]
     },
     "metadata": {},
     "output_type": "display_data"
    },
    {
     "name": "stdout",
     "output_type": "stream",
     "text": [
      "Potty Mouth (feat. Busta Rhymes)\n",
      "------\n",
      "<class 'bs4.element.Tag'>\n",
      "----------\n",
      "[Hook: Tyga]\n",
      "I get money, I make money\n",
      "I take money, them bitches want it from me ‘cause I’m\n",
      "I’m ‘bout whatever, I’m ‘bout whatever\n",
      "I’m ‘bout whatever, man I do it, do it better\n",
      "Two, two more shots, then I’m out\n",
      "I’m a motherfucker and I got a potty mouth\n",
      "I’m ‘bout whatever man, I’m ‘bout whatever man\n",
      "I’m ‘bout whatever, man I do it, do it better\n",
      "--------------------\n",
      "<class 'bs4.element.NavigableString'>\n"
     ]
    },
    {
     "data": {
      "text/plain": [
       "'\\n'"
      ]
     },
     "metadata": {},
     "output_type": "display_data"
    },
    {
     "name": "stdout",
     "output_type": "stream",
     "text": [
      "Potty Mouth (feat. Busta Rhymes)\n",
      "------\n",
      "<class 'bs4.element.Tag'>\n",
      "----------\n",
      "[Verse 2: Tyga]\n",
      "Man, I fucked your dime and now she’s mine\n",
      "2 Live Crew, put the pussy in my palm\n",
      "She put on a nigga and make a grown man cry\n",
      "Feeling bullshit, I don’t pay you no mind\n",
      "But what’s your sign? Gemini?\n",
      "Scorpio, let me fuck from behind\n",
      "However you want it, baby\n",
      "Light the blunts, blunts and close your eyes\n",
      "Real nigga doe, real nigga doe\n",
      "Got a freak bitch in the DB9, put me on doe\n",
      "Came in the door, kicked in the door\n",
      "Waiving the .44, put one, one in your blowhole\n",
      "Man, you’re paper thin, you need to take some notes\n",
      "niggas steal my lines and say they don’t, there go another new quote\n",
      "I’m fresh off the boat, nigga let’s toast\n",
      "Young Money real, y’all shit just a hoax\n",
      "Made a fairytale, busy on a float\n",
      "Why would I lie?\n",
      "Forever under oath, I’m\n",
      "So fucking frustrated with your lady\n",
      "Get a flight, I send her home\n",
      "Man my love is oh so tainted\n",
      "If you fine you might get diamonds, if you a five you might get nothing\n",
      "I’m on my monsters, they from a moshpit\n",
      "R-r-r-rock you like Nirvana\n",
      "Man I be off Patron like it’s a holiday\n",
      "fucking with them finer things, pull up on your bitch and say\n",
      "--------------------\n",
      "<class 'bs4.element.NavigableString'>\n"
     ]
    },
    {
     "data": {
      "text/plain": [
       "'\\n'"
      ]
     },
     "metadata": {},
     "output_type": "display_data"
    },
    {
     "name": "stdout",
     "output_type": "stream",
     "text": [
      "Potty Mouth (feat. Busta Rhymes)\n",
      "------\n",
      "<class 'bs4.element.Tag'>\n",
      "----------\n",
      "[Hook: Tyga]\n",
      "I get money, I make money\n",
      "I take money, them bitches want it from me ‘cause I’m\n",
      "I’m ‘bout whatever, I’m ‘bout whatever\n",
      "I’m ‘bout whatever, man I do it, do it better\n",
      "Two, two more shots, then I’m out\n",
      "I’m a motherfucker and I got a potty mouth\n",
      "I’m ‘bout whatever man, I’m ‘bout whatever man\n",
      "I’m ‘bout whatever, man I do it, do it better\n",
      "--------------------\n",
      "<class 'bs4.element.NavigableString'>\n"
     ]
    },
    {
     "data": {
      "text/plain": [
       "'\\n'"
      ]
     },
     "metadata": {},
     "output_type": "display_data"
    },
    {
     "name": "stdout",
     "output_type": "stream",
     "text": [
      "Potty Mouth (feat. Busta Rhymes)\n",
      "------\n",
      "<class 'bs4.element.Tag'>\n",
      "----------\n",
      "[Verse 3: Tyga]\n",
      "Man, I fucked your dime\n",
      "Still in my prime\n",
      "Young D, I’m freshest nigga on the line\n",
      "Better man up, it’s about to go down\n",
      "Leave you with jaw-dropped, face on the ground\n",
      "Let the rain fill the moats ‘round my kingdom\n",
      "Carved in the cement, star, pledge allegiance\n",
      "I’ma let you leave ‘em screaming\n",
      "Dreaming just to get by\n",
      "Girl you so fly, why you so high?\n",
      "Two more shots, then I’m out\n",
      "I’m a motherfucking potty mouth\n",
      "I’m ‘bout whatever, I’m ‘bout whatever\n",
      "I’m ‘bout whatever, man I do it, do it better\n",
      "All bad bitches in my house\n",
      "I’m a motherfucker, fuck her then I kick her out\n",
      "I’m ‘bout whatever, I’m ‘bout whatever\n",
      "I’m ‘bout whatever, man I do it, do it better\n",
      "--------------------\n",
      "<class 'bs4.element.NavigableString'>\n"
     ]
    },
    {
     "data": {
      "text/plain": [
       "'\\n'"
      ]
     },
     "metadata": {},
     "output_type": "display_data"
    },
    {
     "name": "stdout",
     "output_type": "stream",
     "text": [
      "Potty Mouth (feat. Busta Rhymes)\n",
      "------\n",
      "<class 'bs4.element.Tag'>\n",
      "----------\n",
      "[Verse 4: Busta Rhymes]\n",
      "Cannibal, I eat you raw meat\n",
      "I’m raw with beats\n",
      "So scavenger with it, nigga look like Jaws with feet\n",
      "You don’t want it, bitch\n",
      "Y’all niggas know I get gully, what you want?\n",
      "Listen close, y’all don’t hear how the beat get ugly when a motherfucker come through?\n",
      "Excuse me bitch\n",
      "Please let me kill it just a little bit and let a nigga do what he do\n",
      "Movie shit, that tec make a niggas wanna vomit spit\n",
      "You niggas already knew\n",
      "She keep on fronting niggas, then I’m lighting up another city\n",
      "Got her fighting ‘til they get to biting, they we getting gritty\n",
      "See the time and now a nigga climbing up another milli\n",
      "Then we shining till a nigga blind them, up until it kills me\n",
      "Forth and back and my dying is a nigga ‘til it pulls up on the track\n",
      "Then I’ma die sixty niggas ‘til we pop off like we in the wild west\n",
      "When I finished giving you the crack pipe\n",
      "If you knew I’m in route to the crib just to park the Bugatti at the house\n",
      "Sin big and one of my bitches really turn her out now\n",
      "Still everyone know I got a potty mouth now\n",
      "shit they got me doing it again\n",
      "Back to bodying things and lots of screwing other women\n",
      "You can never stop the shit that I’m doing\n",
      "And the way that we moving\n",
      "Get it popping, never stopping, kill ‘em in the end now\n",
      "And I’ma get ‘em to the point when I got ‘em all open, handling my business with ‘em ha!\n",
      "Trust me you don’t wanna start cause you know it’s torture!\n",
      "Every single minute til I finish with ‘em\n",
      "And I knock shit down\n",
      "Every time I come and then I lock shit down\n",
      "‘Til I come up place niggas better drop that crown\n",
      "Ever here, ‘fore I pop you clowns\n",
      "And I go erase niggas!\n",
      "--------------------\n",
      "<class 'bs4.element.NavigableString'>\n"
     ]
    },
    {
     "data": {
      "text/plain": [
       "'\\n'"
      ]
     },
     "metadata": {},
     "output_type": "display_data"
    },
    {
     "name": "stdout",
     "output_type": "stream",
     "text": [
      "Press 7\n",
      "------\n",
      "<class 'bs4.element.Tag'>\n",
      "----------\n",
      "[Verse 1]\n",
      "First off let me clear my chest\n",
      "Started off on baby steps\n",
      "We get right to the moment where babys come next\n",
      "Grab tight holdin our self to whats nothin left\n",
      "Two choices I'm ya boyfriend or lets just forget\n",
      "After dat you plead like I can't believe what we did\n",
      "So only option was to agree and keep it secret\n",
      "Or ya friends will make ya think that ya just another cheerleader\n",
      "On his team, Tyga man a playa\n",
      "See but, don't believe what ears can hear and eyes can not see\n",
      "You seeing me on a daily baby\n",
      "Wheres my time for another lady?\n",
      "Get over it, trust me, faithfully, I can be all that you need\n",
      "--------------------\n",
      "<class 'bs4.element.NavigableString'>\n"
     ]
    },
    {
     "data": {
      "text/plain": [
       "'\\n'"
      ]
     },
     "metadata": {},
     "output_type": "display_data"
    },
    {
     "name": "stdout",
     "output_type": "stream",
     "text": [
      "Press 7\n",
      "------\n",
      "<class 'bs4.element.Tag'>\n",
      "----------\n",
      "[Chorus]\n",
      "Say you want to let me go and\n",
      "Thats gonna have to end\n",
      "You can Go and getta new boyfriend\n",
      "But you'll never getta better boyfriend\n",
      "Love just aint our way but,\n",
      "You know I don't pretend\n",
      "Imma go and getta new girlfriend\n",
      "Imma get myself a better girlfriend\n",
      "--------------------\n",
      "<class 'bs4.element.NavigableString'>\n"
     ]
    },
    {
     "data": {
      "text/plain": [
       "'\\n'"
      ]
     },
     "metadata": {},
     "output_type": "display_data"
    },
    {
     "name": "stdout",
     "output_type": "stream",
     "text": [
      "Press 7\n",
      "------\n",
      "<class 'bs4.element.Tag'>\n",
      "----------\n",
      "[Verse 2]\n",
      "[Girl Talks on Answering Machine]\n",
      "--------------------\n",
      "<class 'bs4.element.NavigableString'>\n"
     ]
    },
    {
     "data": {
      "text/plain": [
       "'\\n'"
      ]
     },
     "metadata": {},
     "output_type": "display_data"
    },
    {
     "name": "stdout",
     "output_type": "stream",
     "text": [
      "<class 'bs4.element.NavigableString'>\n"
     ]
    },
    {
     "data": {
      "text/plain": [
       "'\\n'"
      ]
     },
     "metadata": {},
     "output_type": "display_data"
    },
    {
     "name": "stdout",
     "output_type": "stream",
     "text": [
      "Press 7\n",
      "------\n",
      "<class 'bs4.element.Tag'>\n",
      "----------\n",
      "[Chorus]\n",
      "Say you want to let me go and\n",
      "Thats gonna have to end\n",
      "You can Go and getta new boyfriend\n",
      "But you'll never getta better boyfriend\n",
      "Love just aint our way but,\n",
      "You know I don't pretend\n",
      "Imma go and getta new girlfriend\n",
      "Imma get myself a better girlfriend\n",
      "--------------------\n",
      "<class 'bs4.element.NavigableString'>\n"
     ]
    },
    {
     "data": {
      "text/plain": [
       "'\\n'"
      ]
     },
     "metadata": {},
     "output_type": "display_data"
    },
    {
     "name": "stdout",
     "output_type": "stream",
     "text": [
      "Press 7\n",
      "------\n",
      "<class 'bs4.element.Tag'>\n",
      "----------\n",
      "[Verse 3]\n",
      "Wait, so this is how we plan it\n",
      "Benifit friends and relationships don't mix\n",
      "But don't trip, cuz you I'm far over with\n",
      "Long John Silver sick\n",
      "And this boat no longer floats for you goldfish\n",
      "Go dig another ditch cuz I'm dead done wit dis\n",
      "Im hangin up now, My new girl shes in the front now\n",
      "I know that gotta hurt\n",
      "Time to answer her\n",
      "Well I guess its true\n",
      "Stick to the player rules\n",
      "--------------------\n",
      "<class 'bs4.element.NavigableString'>\n"
     ]
    },
    {
     "data": {
      "text/plain": [
       "'\\n'"
      ]
     },
     "metadata": {},
     "output_type": "display_data"
    },
    {
     "name": "stdout",
     "output_type": "stream",
     "text": [
      "Press 7\n",
      "------\n",
      "<class 'bs4.element.Tag'>\n",
      "----------\n",
      "[Chorus (2x)]\n",
      "Say you want to let me go and\n",
      "Thats gonna have to end\n",
      "You can Go and getta new boyfriend\n",
      "But you'll never getta better boyfriend\n",
      "Love just aint our way but,\n",
      "You know I don't pretend\n",
      "Imma go and getta new girlfriend\n",
      "Imma get myself a better girlfriend\n",
      "--------------------\n",
      "<class 'bs4.element.NavigableString'>\n"
     ]
    },
    {
     "data": {
      "text/plain": [
       "'\\n'"
      ]
     },
     "metadata": {},
     "output_type": "display_data"
    },
    {
     "name": "stdout",
     "output_type": "stream",
     "text": [
      "Pressed (feat. Honey Cocaine)\n",
      "------\n",
      "<class 'bs4.element.Tag'>\n",
      "----------\n",
      "[Hook: Tyga]\n",
      "Ahh!\n",
      "Why you bitches so pressed for? (for)\n",
      "Open up the gate all I do is press four (four)\n",
      "Got you pissed off ballin' up your fist for (for)\n",
      "Don't make me pull out my pistol (bang!)\n",
      "--------------------\n",
      "<class 'bs4.element.NavigableString'>\n"
     ]
    },
    {
     "data": {
      "text/plain": [
       "'\\n'"
      ]
     },
     "metadata": {},
     "output_type": "display_data"
    },
    {
     "name": "stdout",
     "output_type": "stream",
     "text": [
      "Pressed (feat. Honey Cocaine)\n",
      "------\n",
      "<class 'bs4.element.Tag'>\n",
      "----------\n",
      "[Verse 1: Tyga]\n",
      "Ahh!\n",
      "It's the hooligan nigga (nigga)\n",
      "Eat these rappers up, you just food to me nigga (nigga)\n",
      "Rap don't work, I'm a wolverine\n",
      "Nigga's honey make you desert, wash it down with some liqour\n",
      "Li-lit up, the pill make a bitch turn flipper\n",
      "You so um, all on the bottom of my zipper\n",
      "I Nick trip, got the Cannon on me like Mariah\n",
      "Pinocchio rappers man, all I see is liars (Ahh!)\n",
      "Rough riders, gang niggas, kush buyers\n",
      "Get smashed, Halloween, Mike Myers\n",
      "My religion, plenty women no choirs\n",
      "They call me the royal penis, they're highness\n",
      "For when they give it up, pour it up, leave it wit' us\n",
      "Eatin' my dust, you bustas dusty still on the bus\n",
      "Truly quick, pick her up or you ain't bad, you ain't nothing\n",
      "All my niggas eatin' like the last supper, nigga\n",
      "--------------------\n",
      "<class 'bs4.element.NavigableString'>\n"
     ]
    },
    {
     "data": {
      "text/plain": [
       "'\\n'"
      ]
     },
     "metadata": {},
     "output_type": "display_data"
    },
    {
     "name": "stdout",
     "output_type": "stream",
     "text": [
      "Pressed (feat. Honey Cocaine)\n",
      "------\n",
      "<class 'bs4.element.Tag'>\n",
      "----------\n",
      "[Hook: Honey Cocaine]\n",
      "Uhh! (Ahh!)\n",
      "Why you bitches so pressed for? (pressed for)\n",
      "Open up the gate, all I do is press four (press four)\n",
      "Got you pissed off ballin' up your fist for (fist for)\n",
      "Don't make me pull out my pistol (bang!)\n",
      "Don't make me pull out my pistol (bang!)\n",
      "Don't make me pull out my pistol (bang!)\n",
      "Don't make me pull out my pistol (bang!)\n",
      "Why these bitches so pressed for? (pressed for)\n",
      "Why these bitches so pressed for? (pressed for)\n",
      "Wh-why you bitches so pressed for? (pressed for) (yeah)\n",
      "Why these bitches so pressed for? (pressed for)\n",
      "Don't make me pull out my pistol\n",
      "--------------------\n",
      "<class 'bs4.element.NavigableString'>\n"
     ]
    },
    {
     "data": {
      "text/plain": [
       "'\\n'"
      ]
     },
     "metadata": {},
     "output_type": "display_data"
    },
    {
     "name": "stdout",
     "output_type": "stream",
     "text": [
      "Pressed (feat. Honey Cocaine)\n",
      "------\n",
      "<class 'bs4.element.Tag'>\n",
      "----------\n",
      "[Verse 2: Honey Cocaine]\n",
      "Uhh!\n",
      "Don't make me pull out my pistol\n",
      "T-Dot that seaside my bitch is official\n",
      "Get rich or take it cause that is a ritual\n",
      "This bitch was talkin' I had to come visual\n",
      "I don't like to lose it's bad habits\n",
      "All my bitches loyal and true and no fashion (fashion)\n",
      "My niggas holdin' the juice, they all strappin'\n",
      "Sleepin' on me, hatin me dude I'm straight gassin' (gassin')\n",
      "Everything I'm in is luxury (luxury)\n",
      "Them other hoes know they can't fuck wit' me (fuck wit' me)\n",
      "Bitch look me in the face when you stunt on me (stunt on me)\n",
      "Better ask a weak ho try to front on me (front on me) ha-ha\n",
      "Now tell me where that bitch at, that bitch ass\n",
      "All this good food, I'm surprised I ain't get fat\n",
      "Wake up then 'urn up then turn up the shit fast (fast)\n",
      "I'm coming through with that pistol you better get back, bitch!\n",
      "--------------------\n",
      "<class 'bs4.element.NavigableString'>\n"
     ]
    },
    {
     "data": {
      "text/plain": [
       "'\\n'"
      ]
     },
     "metadata": {},
     "output_type": "display_data"
    },
    {
     "name": "stdout",
     "output_type": "stream",
     "text": [
      "Pressed (feat. Honey Cocaine)\n",
      "------\n",
      "<class 'bs4.element.Tag'>\n",
      "----------\n",
      "[Hook: Tyga & Honey Cocaine]\n",
      "Ahh!\n",
      "Why you bitches so pressed for? (for)\n",
      "Open up the gate all I do is press four (four)\n",
      "Got you pissed off ballin' up your fist for (for)\n",
      "Don't make me pull out my pistol (bang!)\n",
      "Don't make me pull out my pistol (bang!)\n",
      "Don't make me pull out my pistol (bang!)\n",
      "Don't make me pull out my pistol (bang!)\n",
      "Why these bitches so pressed for? (pressed for)\n",
      "Why these bitches so pressed for? (pressed for)\n",
      "Wh-why these bitches so pressed for? (pressed for)\n",
      "Why these bitches so pressed for? (pressed for)\n",
      "Don't make me pull out my pistol\n",
      "--------------------\n",
      "<class 'bs4.element.NavigableString'>\n"
     ]
    },
    {
     "data": {
      "text/plain": [
       "'\\n'"
      ]
     },
     "metadata": {},
     "output_type": "display_data"
    },
    {
     "name": "stdout",
     "output_type": "stream",
     "text": [
      "Pressed (feat. Honey Cocaine)\n",
      "------\n",
      "<class 'bs4.element.Tag'>\n",
      "----------\n",
      "[Bridge]\n",
      "If we get rowdy (yeah), all my niggas sorry (yeah)\n",
      "Why you bitches so burst for (burst for)\n",
      "Don't make me pull out my pistol (pull out my pistol)\n",
      "If we got a problem (yeah), all my niggas sorry (yeah)\n",
      "Why you bitches so burst for? (burst for)\n",
      "Don't make me pull out my pistol (pull out my pistol)\n",
      "--------------------\n",
      "<class 'bs4.element.NavigableString'>\n"
     ]
    },
    {
     "data": {
      "text/plain": [
       "'\\n'"
      ]
     },
     "metadata": {},
     "output_type": "display_data"
    },
    {
     "name": "stdout",
     "output_type": "stream",
     "text": [
      "Pressed (feat. Honey Cocaine)\n",
      "------\n",
      "<class 'bs4.element.Tag'>\n",
      "----------\n",
      "[Verse 3: Tyga]\n",
      "Damn!\n",
      "Hop up in my lap, get high (high)\n",
      "Pistol grip pump from my lap at all times (times)\n",
      "Lap at all times, La-Lap at all times\n",
      "Now it's no more drama, it's that Mary J Blige (Blige)\n",
      "Yeah, I'm too high, chinky eyed (eyed)\n",
      "Cherry vans, sweet red, red vines (vines)\n",
      "Closed blinds, nigga you gets no shine\n",
      "It's my party nigga I ain't standin' in line!\n",
      "--------------------\n",
      "<class 'bs4.element.NavigableString'>\n"
     ]
    },
    {
     "data": {
      "text/plain": [
       "'\\n'"
      ]
     },
     "metadata": {},
     "output_type": "display_data"
    },
    {
     "name": "stdout",
     "output_type": "stream",
     "text": [
      "Pressed (feat. Honey Cocaine)\n",
      "------\n",
      "<class 'bs4.element.Tag'>\n",
      "----------\n",
      "[Hook: Tyga & Honey Cocaine]\n",
      "Why these bitches so pressed for? (pressed for)\n",
      "Why these bitches so pressed for? (pressed for)\n",
      "Why these bitches so pressed for? (pressed for)\n",
      "Don't make me pull out my pistol (bang!)\n",
      "Don't make me pull out my pistol (bang!)\n",
      "Don't make me pull out my pistol (bang!)\n",
      "Don't make me pull out my pistol (bang!)\n",
      "Wh-why you so pressed for?\n",
      "--------------------\n",
      "<class 'bs4.element.NavigableString'>\n"
     ]
    },
    {
     "data": {
      "text/plain": [
       "'\\n'"
      ]
     },
     "metadata": {},
     "output_type": "display_data"
    },
    {
     "name": "stdout",
     "output_type": "stream",
     "text": [
      "<class 'bs4.element.NavigableString'>\n"
     ]
    },
    {
     "data": {
      "text/plain": [
       "'\\n'"
      ]
     },
     "metadata": {},
     "output_type": "display_data"
    },
    {
     "name": "stdout",
     "output_type": "stream",
     "text": [
      "Pussy Talkin'\n",
      "------\n",
      "<class 'bs4.element.Tag'>\n",
      "----------\n",
      "[Tyga]\n",
      "Pussy talkin' like...\n",
      "Pussy talkin' like...\n",
      "Well done\n",
      "--------------------\n",
      "<class 'bs4.element.NavigableString'>\n"
     ]
    },
    {
     "data": {
      "text/plain": [
       "'\\n'"
      ]
     },
     "metadata": {},
     "output_type": "display_data"
    },
    {
     "name": "stdout",
     "output_type": "stream",
     "text": [
      "<class 'bs4.element.NavigableString'>\n"
     ]
    },
    {
     "data": {
      "text/plain": [
       "'\\n'"
      ]
     },
     "metadata": {},
     "output_type": "display_data"
    },
    {
     "name": "stdout",
     "output_type": "stream",
     "text": [
      "Pussy Talkin'\n",
      "------\n",
      "<class 'bs4.element.Tag'>\n",
      "----------\n",
      "[Chorus]\n",
      "Now we wakin' up middle of the night\n",
      "Fuckin' make up right after we fight\n",
      "Pussy talkin' like...\n",
      "Well done\n",
      "Pussy talkin' like...\n",
      "Well done\n",
      "--------------------\n",
      "<class 'bs4.element.NavigableString'>\n"
     ]
    },
    {
     "data": {
      "text/plain": [
       "'\\n'"
      ]
     },
     "metadata": {},
     "output_type": "display_data"
    },
    {
     "name": "stdout",
     "output_type": "stream",
     "text": [
      "<class 'bs4.element.NavigableString'>\n"
     ]
    },
    {
     "data": {
      "text/plain": [
       "'\\n'"
      ]
     },
     "metadata": {},
     "output_type": "display_data"
    },
    {
     "name": "stdout",
     "output_type": "stream",
     "text": [
      "Pussy Talkin'\n",
      "------\n",
      "<class 'bs4.element.Tag'>\n",
      "----------\n",
      "[Tyga]\n",
      "Uhh lay it down bend it over like strippers open\n",
      "Water gun big shoot you\n",
      "Now you super soakin'\n",
      "Comin' down your chimmey\n",
      "Call it santa workin'\n",
      "I brought some gifts for you\n",
      "Mango flavored lotion\n",
      "Wetter then a loofah\n",
      "Lube you on your momma's sofa\n",
      "Stretch it out rosa acosta\n",
      "I do this shit have you comin' over and over\n",
      "Again like a maid service clean her perfect\n",
      "I ain't perfect\n",
      "Most of them bitches don't deserve me\n",
      "Had my moments but most them bitches all be thirsty\n",
      "They ain't worth it\n",
      "Block 'em all like stage curtains\n",
      "Knock 'em off like fake purses\n",
      "I ain't trickin' but you got it\n",
      "Loving you being honest\n",
      "Hard to be honest but most of the time you indecisive\n",
      "I'm tired of fighting\n",
      "Let it go close your eye lids\n",
      "Open the morning fresh and we vibin'\n",
      "--------------------\n",
      "<class 'bs4.element.NavigableString'>\n"
     ]
    },
    {
     "data": {
      "text/plain": [
       "'\\n'"
      ]
     },
     "metadata": {},
     "output_type": "display_data"
    },
    {
     "name": "stdout",
     "output_type": "stream",
     "text": [
      "Pussy Talkin'\n",
      "------\n",
      "<class 'bs4.element.Tag'>\n",
      "----------\n",
      "[Chorus]\n",
      "Now we wakin' up middle of the night\n",
      "Fuckin' make up right after we fight\n",
      "Pussy talkin' like...\n",
      "Well done\n",
      "Pussy talkin' like...\n",
      "Well done\n",
      "--------------------\n",
      "<class 'bs4.element.NavigableString'>\n"
     ]
    },
    {
     "data": {
      "text/plain": [
       "'\\n'"
      ]
     },
     "metadata": {},
     "output_type": "display_data"
    },
    {
     "name": "stdout",
     "output_type": "stream",
     "text": [
      "<class 'bs4.element.NavigableString'>\n"
     ]
    },
    {
     "data": {
      "text/plain": [
       "'\\n'"
      ]
     },
     "metadata": {},
     "output_type": "display_data"
    },
    {
     "name": "stdout",
     "output_type": "stream",
     "text": [
      "Rack City (\"Well Done 2\" Mixtape Version)\n",
      "------\n",
      "<class 'bs4.element.Tag'>\n",
      "----------\n",
      "[Intro:]\n",
      "Rack, rack, city bitch, city bitch\n",
      "Rack, rack, rack city bitch, city bitch, rack\n",
      "Rack, rack, rack city bitch, city bitch\n",
      "Mustard on the beat\n",
      "--------------------\n",
      "<class 'bs4.element.NavigableString'>\n"
     ]
    },
    {
     "data": {
      "text/plain": [
       "'\\n'"
      ]
     },
     "metadata": {},
     "output_type": "display_data"
    },
    {
     "name": "stdout",
     "output_type": "stream",
     "text": [
      "<class 'bs4.element.NavigableString'>\n"
     ]
    },
    {
     "data": {
      "text/plain": [
       "'\\n'"
      ]
     },
     "metadata": {},
     "output_type": "display_data"
    },
    {
     "name": "stdout",
     "output_type": "stream",
     "text": [
      "Rack City (\"Well Done 2\" Mixtape Version)\n",
      "------\n",
      "<class 'bs4.element.Tag'>\n",
      "----------\n",
      "[Verse 1:]\n",
      "Rack city bitch, rack, rack city bitch\n",
      "Ten ten ten twenties on ya titties bitch\n",
      "100 deep V.I.P. no guest list\n",
      "T-Raw you don't know who you fucking with?\n",
      "Got my other bitch fucking with my other bitch\n",
      "Fucking all night nigga we ain't celibate\n",
      "Make it sound too dope I ain't selling it\n",
      "Bar fresher than a motherfucking peppermint\n",
      "Gold Letterman last kings killing shit\n",
      "Young money young money yeah we getting rich\n",
      "I got ya grandma on my dick (ha ha)\n",
      "Girl you know what it is\n",
      "--------------------\n",
      "<class 'bs4.element.NavigableString'>\n"
     ]
    },
    {
     "data": {
      "text/plain": [
       "'\\n'"
      ]
     },
     "metadata": {},
     "output_type": "display_data"
    },
    {
     "name": "stdout",
     "output_type": "stream",
     "text": [
      "Rack City (\"Well Done 2\" Mixtape Version)\n",
      "------\n",
      "<class 'bs4.element.Tag'>\n",
      "----------\n",
      "[Hook 2x:]\n",
      "Rack city bitch, rack, rack, city bitch [x3]\n",
      "Ten, ten, ten, twenties and the fifties bitch\n",
      "--------------------\n",
      "<class 'bs4.element.NavigableString'>\n"
     ]
    },
    {
     "data": {
      "text/plain": [
       "'\\n'"
      ]
     },
     "metadata": {},
     "output_type": "display_data"
    },
    {
     "name": "stdout",
     "output_type": "stream",
     "text": [
      "Rack City (\"Well Done 2\" Mixtape Version)\n",
      "------\n",
      "<class 'bs4.element.Tag'>\n",
      "----------\n",
      "[Verse 2:]\n",
      "I'm a motherfucking star (star)\n",
      "Look at the paint on the car (car)\n",
      "Too much rim make the ride too hard\n",
      "Tell that bitch hop out, walk the boulevard\n",
      "I need my money pronto\n",
      "Get it in the morning like Alonzo\n",
      "Rondo, Green got cheese like a nacho\n",
      "If you ain't got no ass bitch wear a poncho\n",
      "Head hancho got my seat back\n",
      "Nigga staring at me don't get bapped\n",
      "Got my shirt off the club too packed\n",
      "It's too turned going up like gas\n",
      "God damn pull out my racks\n",
      "Mike Mike Jackson nigga yeah I'm bad\n",
      "Rat T-T-T-Tatted up on my back\n",
      "All the hoes love me you know what it is\n",
      "--------------------\n",
      "<class 'bs4.element.NavigableString'>\n"
     ]
    },
    {
     "data": {
      "text/plain": [
       "'\\n'"
      ]
     },
     "metadata": {},
     "output_type": "display_data"
    },
    {
     "name": "stdout",
     "output_type": "stream",
     "text": [
      "Rack City (\"Well Done 2\" Mixtape Version)\n",
      "------\n",
      "<class 'bs4.element.Tag'>\n",
      "----------\n",
      "[Hook 2x:]\n",
      "Rack city bitch, rack, rack, city bitch [x3]\n",
      "Ten, ten, ten, twenties and the fifties bitch\n",
      "--------------------\n",
      "<class 'bs4.element.NavigableString'>\n"
     ]
    },
    {
     "data": {
      "text/plain": [
       "'\\n'"
      ]
     },
     "metadata": {},
     "output_type": "display_data"
    },
    {
     "name": "stdout",
     "output_type": "stream",
     "text": [
      "Rack City (\"Well Done 2\" Mixtape Version)\n",
      "------\n",
      "<class 'bs4.element.Tag'>\n",
      "----------\n",
      "[Outro:]\n",
      "Throwing hunnids, hunnids\n",
      "Hunnids, hunnids\n",
      "Throwing hunnids, hunnids\n",
      "Rack city bitch, rack, rack city bitch\n",
      "Hunnids, hunnids\n",
      "Throwing hunnids, hunnids\n",
      "Hunnids, hunnids\n",
      "Rack city bitch, rack, rack city bitch\n",
      "--------------------\n",
      "<class 'bs4.element.NavigableString'>\n"
     ]
    },
    {
     "data": {
      "text/plain": [
       "'\\n'"
      ]
     },
     "metadata": {},
     "output_type": "display_data"
    },
    {
     "name": "stdout",
     "output_type": "stream",
     "text": [
      "<class 'bs4.element.NavigableString'>\n"
     ]
    },
    {
     "data": {
      "text/plain": [
       "'\\n'"
      ]
     },
     "metadata": {},
     "output_type": "display_data"
    },
    {
     "name": "stdout",
     "output_type": "stream",
     "text": [
      "Rack City (Remix) (feat. Young Jeezy, T.I., Meek Mill, Wale & Fabolous)\n",
      "------\n",
      "<class 'bs4.element.Tag'>\n",
      "----------\n",
      "[Hook]\n",
      "Who that on the pole? Is she that on the pole?\n",
      "Who that on the pole? Is she that on the pole?\n",
      "--------------------\n",
      "<class 'bs4.element.NavigableString'>\n"
     ]
    },
    {
     "data": {
      "text/plain": [
       "'\\n'"
      ]
     },
     "metadata": {},
     "output_type": "display_data"
    },
    {
     "name": "stdout",
     "output_type": "stream",
     "text": [
      "Rack City (Remix) (feat. Young Jeezy, T.I., Meek Mill, Wale & Fabolous)\n",
      "------\n",
      "<class 'bs4.element.Tag'>\n",
      "----------\n",
      "[Wale]\n",
      "Who that on the pole? Is she that on the pole?\n",
      "If you ain't gettin' dough shawty, you don't get to go\n",
      "And yeah we up in stadiums, quarterbacking hoes\n",
      "My money for fourth and long, but you do not get to throw\n",
      "Rack, Rack City shit\n",
      "Penny for your thoughts, and a twenty for your titties\n",
      "And a hundred for your smile, I'mma be here for a while\n",
      "I'mma be up with them ounces, I'll see you when you out\n",
      "Stuntin' for the fuck of it, I ain't with the sucka' shit\n",
      "All the bad strippers gotta greet me with the government\n",
      "Fuck whoever judge ya', and trick whoever love ya'\n",
      "But don't expect a ring if you committed to the hustle\n",
      "Yeah, Rack, Rack City shit\n",
      "She ain't right like them old rap city skits\n",
      "I got many chicks, blue and black Penny kicks\n",
      "Strippers at 30 tellin' niggas that they 26\n",
      "--------------------\n",
      "<class 'bs4.element.NavigableString'>\n"
     ]
    },
    {
     "data": {
      "text/plain": [
       "'\\n'"
      ]
     },
     "metadata": {},
     "output_type": "display_data"
    },
    {
     "name": "stdout",
     "output_type": "stream",
     "text": [
      "Rack City (Remix) (feat. Young Jeezy, T.I., Meek Mill, Wale & Fabolous)\n",
      "------\n",
      "<class 'bs4.element.Tag'>\n",
      "----------\n",
      "[Chorus - Tyga]\n",
      "Rack city bitch Rack Rack city bitch [x3]\n",
      "Ten ten ten twenties and them fifties bitch\n",
      "--------------------\n",
      "<class 'bs4.element.NavigableString'>\n"
     ]
    },
    {
     "data": {
      "text/plain": [
       "'\\n'"
      ]
     },
     "metadata": {},
     "output_type": "display_data"
    },
    {
     "name": "stdout",
     "output_type": "stream",
     "text": [
      "Rack City (Remix) (feat. Young Jeezy, T.I., Meek Mill, Wale & Fabolous)\n",
      "------\n",
      "<class 'bs4.element.Tag'>\n",
      "----------\n",
      "[Fabolous]\n",
      "Silver Emblem, 2 black Rs\n",
      "Who's that in the nice black car?\n",
      "Autopsy came back, results are?\n",
      "Cause of death…bars\n",
      "Gotta killa fo, for the llama\n",
      "Gotta killa hoe, half Columbiana\n",
      "Half Dominicana, Poke her from Behind-a\n",
      "Work out a little bit, get the rest from her mama\n",
      "Black city Bitch, Black outta '03\n",
      "California king kush, black out from OG\n",
      "You made ya death bed, now lay in it\n",
      "The end is here, start sayin it\n",
      "--------------------\n",
      "<class 'bs4.element.NavigableString'>\n"
     ]
    },
    {
     "data": {
      "text/plain": [
       "'\\n'"
      ]
     },
     "metadata": {},
     "output_type": "display_data"
    },
    {
     "name": "stdout",
     "output_type": "stream",
     "text": [
      "Rack City (Remix) (feat. Young Jeezy, T.I., Meek Mill, Wale & Fabolous)\n",
      "------\n",
      "<class 'bs4.element.Tag'>\n",
      "----------\n",
      "[Young Jeezy]\n",
      "I'm in my other car, bout to get my other car\n",
      "You like to talk to him, young, it's a seminar\n",
      "12 carats, man that's all ears\n",
      "1 through 6, man, it's all gears\n",
      "Got my other broad talking with my other broad\n",
      "All them in the back talking to my other broad\n",
      "OK, look like we got a foursome\n",
      "3 bitches in my bed, bout 4 something\n",
      "Yeah see I let my nigga hit that\n",
      "He ain't nuttin, so I let my nigga split that\n",
      "Suit game, bag it, she might know something\n",
      "But if she wanna roll wit me she gotta blow something\n",
      "Yeah you know what that mean, you tonight girl\n",
      "But if your bullshit, I'll leave ya wit a white girl\n",
      "It's all we doing nigga, ass n' tits\n",
      "A-town nigga, yeah, trap city\n",
      "--------------------\n",
      "<class 'bs4.element.NavigableString'>\n"
     ]
    },
    {
     "data": {
      "text/plain": [
       "'\\n'"
      ]
     },
     "metadata": {},
     "output_type": "display_data"
    },
    {
     "name": "stdout",
     "output_type": "stream",
     "text": [
      "Rack City (Remix) (feat. Young Jeezy, T.I., Meek Mill, Wale & Fabolous)\n",
      "------\n",
      "<class 'bs4.element.Tag'>\n",
      "----------\n",
      "[Chorus x2]\n",
      "Rack city bitch Rack Rack city bitch [x3]\n",
      "Ten, ten, ten twenties and them fifties bitch\n",
      "--------------------\n",
      "<class 'bs4.element.NavigableString'>\n"
     ]
    },
    {
     "data": {
      "text/plain": [
       "'\\n'"
      ]
     },
     "metadata": {},
     "output_type": "display_data"
    },
    {
     "name": "stdout",
     "output_type": "stream",
     "text": [
      "Rack City (Remix) (feat. Young Jeezy, T.I., Meek Mill, Wale & Fabolous)\n",
      "------\n",
      "<class 'bs4.element.Tag'>\n",
      "----------\n",
      "[Tyga]\n",
      "Black 4s, red drop head doors\n",
      "Got ya whore doing shit that's uncalled for\n",
      "I see these bitches callin…I just hit ignore\n",
      "James bond, Tom Ford, Jaeger LaCoultre,\n",
      "Ain't got 'em? Erry blood goin stop 'em\n",
      "120 in the ghost take the bitch shoppin\n",
      "Niggas will open it up, cuz they ain't poppin\n",
      "Ain't got nuttin to comment with niggas wit no commas\n",
      "Red headorama, Rack City Junk yarding\n",
      "I be ahead of these nigga Last King, Guillotine\n",
      "YMCMB Nigga take defeat\n",
      "Pack a bad bitch then pass it to my nigga Meek\n",
      "--------------------\n",
      "<class 'bs4.element.NavigableString'>\n"
     ]
    },
    {
     "data": {
      "text/plain": [
       "'\\n'"
      ]
     },
     "metadata": {},
     "output_type": "display_data"
    },
    {
     "name": "stdout",
     "output_type": "stream",
     "text": [
      "Rack City (Remix) (feat. Young Jeezy, T.I., Meek Mill, Wale & Fabolous)\n",
      "------\n",
      "<class 'bs4.element.Tag'>\n",
      "----------\n",
      "[Meek Mill]\n",
      "Meek Milly, Racked up Racked out\n",
      "And I'll be countin money till I pass out\n",
      "Hundred racks of hundreds in the Stash house\n",
      "And I'll be sayin something when I mash out\n",
      "In the Lambo lookin like a fly\n",
      "I shine like somethin in the sky\n",
      "These haters hope I hurry up and die\n",
      "Cuz my bitch look like she said hurry up and bye\n",
      "--------------------\n",
      "<class 'bs4.element.NavigableString'>\n"
     ]
    },
    {
     "data": {
      "text/plain": [
       "'\\n'"
      ]
     },
     "metadata": {},
     "output_type": "display_data"
    },
    {
     "name": "stdout",
     "output_type": "stream",
     "text": [
      "Rack City (Remix) (feat. Young Jeezy, T.I., Meek Mill, Wale & Fabolous)\n",
      "------\n",
      "<class 'bs4.element.Tag'>\n",
      "----------\n",
      "[T.I.]\n",
      "Me and three females in the CL\n",
      "Pink toe nails, tail like a beached whale\n",
      "Tell 'em all betta keep it on the DL\n",
      "No phone, no twitter, no email\n",
      "Diamonds in the chain, none in the rear\n",
      "Fall the King of Diamonds, bitch you ate shit\n",
      "Pocket racked up, all big faces\n",
      "At the party crib, full of broads all naked\n",
      "Rosé cases, We pop daily\n",
      "We stay faded, need no occasion\n",
      "Latins and Asians, Black, Caucasian\n",
      "All go crazy for days in amazement\n",
      "--------------------\n",
      "<class 'bs4.element.NavigableString'>\n"
     ]
    },
    {
     "data": {
      "text/plain": [
       "'\\n'"
      ]
     },
     "metadata": {},
     "output_type": "display_data"
    },
    {
     "name": "stdout",
     "output_type": "stream",
     "text": [
      "Rack City (Remix) (feat. Young Jeezy, T.I., Meek Mill, Wale & Fabolous)\n",
      "------\n",
      "<class 'bs4.element.Tag'>\n",
      "----------\n",
      "[Chorus x2]\n",
      "Rack city bitch Rack Rack city bitch [x3]\n",
      "Ten, ten, ten twenties and them fifties bitch\n",
      "--------------------\n",
      "<class 'bs4.element.NavigableString'>\n"
     ]
    },
    {
     "data": {
      "text/plain": [
       "'\\n'"
      ]
     },
     "metadata": {},
     "output_type": "display_data"
    },
    {
     "name": "stdout",
     "output_type": "stream",
     "text": [
      "Rack City (Single Version)\n",
      "------\n",
      "<class 'bs4.element.Tag'>\n",
      "----------\n",
      "[Intro:]\n",
      "Rack, rack, city bitch, city bitch\n",
      "Rack, rack, rack city bitch, city bitch, rack\n",
      "Rack, rack, rack city bitch, city bitch\n",
      "Mutha on the beat\n",
      "--------------------\n",
      "<class 'bs4.element.NavigableString'>\n"
     ]
    },
    {
     "data": {
      "text/plain": [
       "'\\n'"
      ]
     },
     "metadata": {},
     "output_type": "display_data"
    },
    {
     "name": "stdout",
     "output_type": "stream",
     "text": [
      "<class 'bs4.element.NavigableString'>\n"
     ]
    },
    {
     "data": {
      "text/plain": [
       "'\\n'"
      ]
     },
     "metadata": {},
     "output_type": "display_data"
    },
    {
     "name": "stdout",
     "output_type": "stream",
     "text": [
      "Rack City (Single Version)\n",
      "------\n",
      "<class 'bs4.element.Tag'>\n",
      "----------\n",
      "[Verse 1:]\n",
      "Rack city bitch, rack, rack city bitch\n",
      "Ten ten ten twenties on ya titties bitch\n",
      "100 deep V.I.P. no guest list\n",
      "T-Raw you don't know who you fucking with?\n",
      "Got my other bitch fucking with my other bitch\n",
      "Fucking all night nigga we ain't celibate\n",
      "Make it sound too dope I ain't selling it\n",
      "Bar fresher than a motherfucking peppermint\n",
      "Gold Letterman last kings killing shit\n",
      "Young Money, Young Money, yeah we getting rich\n",
      "Getcha grandma on my dick (ha ha)\n",
      "Girl you know what it is\n",
      "--------------------\n",
      "<class 'bs4.element.NavigableString'>\n"
     ]
    },
    {
     "data": {
      "text/plain": [
       "'\\n'"
      ]
     },
     "metadata": {},
     "output_type": "display_data"
    },
    {
     "name": "stdout",
     "output_type": "stream",
     "text": [
      "Rack City (Single Version)\n",
      "------\n",
      "<class 'bs4.element.Tag'>\n",
      "----------\n",
      "[Hook: x2]\n",
      "Rack city bitch, rack, rack, city bitch [x3]\n",
      "Ten, ten, ten, twenties and them fifties bitch (bitch)\n",
      "--------------------\n",
      "<class 'bs4.element.NavigableString'>\n"
     ]
    },
    {
     "data": {
      "text/plain": [
       "'\\n'"
      ]
     },
     "metadata": {},
     "output_type": "display_data"
    },
    {
     "name": "stdout",
     "output_type": "stream",
     "text": [
      "Rack City (Single Version)\n",
      "------\n",
      "<class 'bs4.element.Tag'>\n",
      "----------\n",
      "[Verse 2:]\n",
      "I'm a motherfucking star (star)\n",
      "Look at the paint on the car (car)\n",
      "Too much rim make the ride too hard\n",
      "Tell that bitch hop out, walk the boulevard\n",
      "I need my money pronto\n",
      "Get it in the morning like Alonzo\n",
      "Rondo, Green got cheese like a nacho\n",
      "If you ain't got no ass bitch wear a poncho\n",
      "Head hancho got my seat back\n",
      "Nigga staring at me don't get bapped\n",
      "Got my shirt off the club too packed\n",
      "It's too turned going up like gas\n",
      "God damn pulled out my racks\n",
      "Mike Mike Jackson nigga yeah I'm bad\n",
      "Rat T-T-T-Tatted up on my back\n",
      "All the hoes love me you know what it is\n",
      "--------------------\n",
      "<class 'bs4.element.NavigableString'>\n"
     ]
    },
    {
     "data": {
      "text/plain": [
       "'\\n'"
      ]
     },
     "metadata": {},
     "output_type": "display_data"
    },
    {
     "name": "stdout",
     "output_type": "stream",
     "text": [
      "Rack City (Single Version)\n",
      "------\n",
      "<class 'bs4.element.Tag'>\n",
      "----------\n",
      "[Outro: x2]\n",
      "Rack city bitch, rack, rack, city bitch [x3]\n",
      "Ten, ten, ten, twenties and them fifties bitch\n",
      "Rack city bitch, rack, rack, city bitch [x3]\n",
      "Ten, ten, ten, twenties and them fifties bitch\n",
      "Throwing hunnids, hunnids\n",
      "Hunnids, hunnids\n",
      "Throwing hunnids, hunnids\n",
      "Rack city bitch, rack, rack city bitch\n",
      "Hunnids, hunnids\n",
      "Throwing hunnids, hunnids\n",
      "Hunnids, hunnids\n",
      "Rack city bitch, rack, rack city bitch\n",
      "--------------------\n",
      "<class 'bs4.element.NavigableString'>\n"
     ]
    },
    {
     "data": {
      "text/plain": [
       "'\\n'"
      ]
     },
     "metadata": {},
     "output_type": "display_data"
    },
    {
     "name": "stdout",
     "output_type": "stream",
     "text": [
      "Rack City (Single Version)\n",
      "------\n",
      "<class 'bs4.element.Tag'>\n",
      "----------\n",
      "Rack city bitch, rack, rack, city bitch [x2]\n",
      "--------------------\n",
      "<class 'bs4.element.NavigableString'>\n"
     ]
    },
    {
     "data": {
      "text/plain": [
       "'\\n'"
      ]
     },
     "metadata": {},
     "output_type": "display_data"
    },
    {
     "name": "stdout",
     "output_type": "stream",
     "text": [
      "<class 'bs4.element.NavigableString'>\n"
     ]
    },
    {
     "data": {
      "text/plain": [
       "'\\n'"
      ]
     },
     "metadata": {},
     "output_type": "display_data"
    },
    {
     "name": "stdout",
     "output_type": "stream",
     "text": [
      "Ratchet (feat. Joe Moses)\n",
      "------\n",
      "<class 'bs4.element.Tag'>\n",
      "----------\n",
      "[Intro]\n",
      "Mustard on the beat ho!\n",
      "--------------------\n",
      "<class 'bs4.element.NavigableString'>\n"
     ]
    },
    {
     "data": {
      "text/plain": [
       "'\\n'"
      ]
     },
     "metadata": {},
     "output_type": "display_data"
    },
    {
     "name": "stdout",
     "output_type": "stream",
     "text": [
      "Ratchet (feat. Joe Moses)\n",
      "------\n",
      "<class 'bs4.element.Tag'>\n",
      "----------\n",
      "[Verse 1: Tyga]\n",
      "Trap pussy, fuck her in a black hoodie\n",
      "Fucking in the house, while Momma cookin\n",
      "Them tacos, bitch I need two mo'\n",
      "Knock the pussy out the park; Pujols\n",
      "Ass Sumo, all gold two door\n",
      "Bitches wanna hammer baby, but this ain't Juno\n",
      "You know, I got the ratchet on me cause I'm too on\n",
      "Know where I'm from streets getting hotter than Tucson (Augh!)\n",
      "Rachet City, welcome to the real 50's\n",
      "Creased Dickies, nigga don't be conversing with me\n",
      "Brought the silks out niggas say I'm looking Biggie\n",
      "Pussy ain't shit, but the hoes will make me richer\n",
      "Shh, ha, money in the mattress\n",
      "Now it's money in the mansion, I'm throwing money she dancing\n",
      "I'm a motherfuckin G, hella path for a bachelor\n",
      "Ratchet, hating niggas hacking\n",
      "Tell me where the...\n",
      "--------------------\n",
      "<class 'bs4.element.NavigableString'>\n"
     ]
    },
    {
     "data": {
      "text/plain": [
       "'\\n'"
      ]
     },
     "metadata": {},
     "output_type": "display_data"
    },
    {
     "name": "stdout",
     "output_type": "stream",
     "text": [
      "Ratchet (feat. Joe Moses)\n",
      "------\n",
      "<class 'bs4.element.Tag'>\n",
      "----------\n",
      "[Hook]\n",
      "Where the ballers at, ask me where the ballers at\n",
      "Hut one, hut two, I'm the quarter back\n",
      "Fuck a pretty bitch gotta let you have it\n",
      "I don't do this for the motherfucking rapping\n",
      "I do this for the ratchets\n",
      "I do it for the ratchets\n",
      "I do it for the ratchets\n",
      "I do it for the ratchets\n",
      "--------------------\n",
      "<class 'bs4.element.NavigableString'>\n"
     ]
    },
    {
     "data": {
      "text/plain": [
       "'\\n'"
      ]
     },
     "metadata": {},
     "output_type": "display_data"
    },
    {
     "name": "stdout",
     "output_type": "stream",
     "text": [
      "Ratchet (feat. Joe Moses)\n",
      "------\n",
      "<class 'bs4.element.Tag'>\n",
      "----------\n",
      "[Verse 2: Joe Moses]\n",
      "Verse two, sadity man I hate those\n",
      "Go bowling in her pussy, A-hole\n",
      "Nice face but her ass like play dough\n",
      "Charge on the mouth with my dick; Diego\n",
      "Knock it off knock it in then knock it down\n",
      "Mayweather with the ratchets, knock 'em out\n",
      "Said her last nigga weird, Pacquiao\n",
      "Left her in the studio, ass up face down\n",
      "Pretty bitches gon' hate, we don’t need that\n",
      "Where the ratchets at? Tell me where the ratchets at\n",
      "Shake your ass to the beat then bring it back\n",
      "Mills said bleed, driver can you handle that?\n",
      "--------------------\n",
      "<class 'bs4.element.NavigableString'>\n"
     ]
    },
    {
     "data": {
      "text/plain": [
       "'\\n'"
      ]
     },
     "metadata": {},
     "output_type": "display_data"
    },
    {
     "name": "stdout",
     "output_type": "stream",
     "text": [
      "Ratchet (feat. Joe Moses)\n",
      "------\n",
      "<class 'bs4.element.Tag'>\n",
      "----------\n",
      "[Hook]\n",
      "--------------------\n",
      "<class 'bs4.element.NavigableString'>\n"
     ]
    },
    {
     "data": {
      "text/plain": [
       "'\\n'"
      ]
     },
     "metadata": {},
     "output_type": "display_data"
    },
    {
     "name": "stdout",
     "output_type": "stream",
     "text": [
      "Ready To Fuck\n",
      "------\n",
      "<class 'bs4.element.Tag'>\n",
      "----------\n",
      "[Intro:]\n",
      "Ready to fuck\n",
      "--------------------\n",
      "<class 'bs4.element.NavigableString'>\n"
     ]
    },
    {
     "data": {
      "text/plain": [
       "'\\n'"
      ]
     },
     "metadata": {},
     "output_type": "display_data"
    },
    {
     "name": "stdout",
     "output_type": "stream",
     "text": [
      "Ready To Fuck\n",
      "------\n",
      "<class 'bs4.element.Tag'>\n",
      "----------\n",
      "[Verse 1:]\n",
      "I'm rolling up in that gold thing\n",
      "These bitches at the door man\n",
      "She giving up that domain\n",
      "Don't give my number, she know the name\n",
      "That king shit and be my game\n",
      "Ain't got a nigga, her ex lame\n",
      "She usually don't do this\n",
      "Tonight she gon' fuck me\n",
      "I beat it up, that pussy\n",
      "That wet wet in my two seater\n",
      "Her nails done, her hair did\n",
      "I'm a about to mess up all of it\n",
      "Just don't say another word\n",
      "You wanna talk, just use your tongue\n",
      "R-Roll over, give daddy some\n",
      "I'm gon cum, you gon come like...\n",
      "--------------------\n",
      "<class 'bs4.element.NavigableString'>\n"
     ]
    },
    {
     "data": {
      "text/plain": [
       "'\\n'"
      ]
     },
     "metadata": {},
     "output_type": "display_data"
    },
    {
     "name": "stdout",
     "output_type": "stream",
     "text": [
      "Ready To Fuck\n",
      "------\n",
      "<class 'bs4.element.Tag'>\n",
      "----------\n",
      "[Hook:]\n",
      "Don't it feel good?\n",
      "Got you dripping down your thighs, and you gripping on the wood\n",
      "Alright (alright)\n",
      "She said, \"Don't it feel good?\"\n",
      "Then she riding on the top\n",
      "She about to make it pop\n",
      "She said, \"Why you fuck with everybody?\"\n",
      "I said, \"Baby I be only fucking you\"\n",
      "She said, \"Don't be fucking with nobody\n",
      "I want you to myself and I want you, too\"\n",
      "So you know what I said\n",
      "Just get on that bed\n",
      "I know you want it, baby, so open your legs\n",
      "I know when you're coming baby\n",
      "My tongue got you going crazy\n",
      "Your toes and your thighs shaking\n",
      "I eat it up\n",
      "She said I'm ready to fuck\n",
      "Aww Yeah\n",
      "She said I'm ready to fuck\n",
      "Yeah\n",
      "--------------------\n",
      "<class 'bs4.element.NavigableString'>\n"
     ]
    },
    {
     "data": {
      "text/plain": [
       "'\\n'"
      ]
     },
     "metadata": {},
     "output_type": "display_data"
    },
    {
     "name": "stdout",
     "output_type": "stream",
     "text": [
      "Ready To Fuck\n",
      "------\n",
      "<class 'bs4.element.Tag'>\n",
      "----------\n",
      "[Verse 2:]\n",
      "Dealing with these bitches\n",
      "You got to have your game tight\n",
      "Cause most of em' won't act right\n",
      "You got know how to lay the pipe\n",
      "My ex-bitch named Jordan\n",
      "She pretty, so spoiled\n",
      "Ain't no nigga gon love you\n",
      "How I loved you, now it's adiós\n",
      "I need some [x4]\n",
      "I found some [x2]\n",
      "I hope it's real [x2]\n",
      "Cause ain't no telling\n",
      "What these girls be trying to get\n",
      "I'm young and rich, I'm clean nigga\n",
      "So yeah, I give em that clean dick like\n",
      "--------------------\n",
      "<class 'bs4.element.NavigableString'>\n"
     ]
    },
    {
     "data": {
      "text/plain": [
       "'\\n'"
      ]
     },
     "metadata": {},
     "output_type": "display_data"
    },
    {
     "name": "stdout",
     "output_type": "stream",
     "text": [
      "Ready To Fuck\n",
      "------\n",
      "<class 'bs4.element.Tag'>\n",
      "----------\n",
      "[Hook]\n",
      "--------------------\n",
      "<class 'bs4.element.NavigableString'>\n"
     ]
    },
    {
     "data": {
      "text/plain": [
       "'\\n'"
      ]
     },
     "metadata": {},
     "output_type": "display_data"
    },
    {
     "name": "stdout",
     "output_type": "stream",
     "text": [
      "<class 'bs4.element.NavigableString'>\n"
     ]
    },
    {
     "data": {
      "text/plain": [
       "'\\n'"
      ]
     },
     "metadata": {},
     "output_type": "display_data"
    },
    {
     "name": "stdout",
     "output_type": "stream",
     "text": [
      "<class 'bs4.element.NavigableString'>\n"
     ]
    },
    {
     "data": {
      "text/plain": [
       "'\\n'"
      ]
     },
     "metadata": {},
     "output_type": "display_data"
    },
    {
     "name": "stdout",
     "output_type": "stream",
     "text": [
      "<class 'bs4.element.NavigableString'>\n"
     ]
    },
    {
     "data": {
      "text/plain": [
       "'\\n'"
      ]
     },
     "metadata": {},
     "output_type": "display_data"
    },
    {
     "name": "stdout",
     "output_type": "stream",
     "text": [
      "Real Deal\n",
      "------\n",
      "<class 'bs4.element.Tag'>\n",
      "----------\n",
      "Pretty pussy popping put your back into that, hand stance\n",
      "Am about to have a heart attack, let me handle that\n",
      "Can we go somewhere private, show me for a private dance\n",
      "You been working way too hard, I just think you need a man\n",
      "I can be your fucking man, we can fuck and do some things\n",
      "I can make the headboard bang, let me make your clit sing\n",
      "I'm not tryna be rude\n",
      "I just wanna see your birthday suit, if it's cool with you\n",
      "Let me taste, taste your best friend too\n",
      "Knew you were a super freak\n",
      "I could only daydream about it, now it's all reality\n",
      "I pretend she was you when you make a squirt [?]\n",
      "Am I choking you too hard? Hope nobody hears you scream\n",
      "Am a little crazy when it comes to you baby\n",
      "We can live together, you're my midnight fantasy\n",
      "I won't let them hurt you\n",
      "I be right back to the ATM\n",
      "These are the thought in my conscious can you hear them? (hear them)\n",
      "--------------------\n",
      "<class 'bs4.element.NavigableString'>\n"
     ]
    },
    {
     "data": {
      "text/plain": [
       "'\\n'"
      ]
     },
     "metadata": {},
     "output_type": "display_data"
    },
    {
     "name": "stdout",
     "output_type": "stream",
     "text": [
      "<class 'bs4.element.NavigableString'>\n"
     ]
    },
    {
     "data": {
      "text/plain": [
       "'\\n'"
      ]
     },
     "metadata": {},
     "output_type": "display_data"
    },
    {
     "name": "stdout",
     "output_type": "stream",
     "text": [
      "<class 'bs4.element.NavigableString'>\n"
     ]
    },
    {
     "data": {
      "text/plain": [
       "'\\n'"
      ]
     },
     "metadata": {},
     "output_type": "display_data"
    },
    {
     "name": "stdout",
     "output_type": "stream",
     "text": [
      "<class 'bs4.element.NavigableString'>\n"
     ]
    },
    {
     "data": {
      "text/plain": [
       "'\\n'"
      ]
     },
     "metadata": {},
     "output_type": "display_data"
    },
    {
     "name": "stdout",
     "output_type": "stream",
     "text": [
      "Real Or Fake\n",
      "------\n",
      "<class 'bs4.element.Tag'>\n",
      "----------\n",
      "[Verse 1]\n",
      "Kill a flow cuckoomani, last king and on the daily,\n",
      "Call a mother fucker, buy the government, but call me crazy!\n",
      "Yeah I’m on that fucking juice,\n",
      "Have a sip I’ll fuck you later,\n",
      "Money on my table, pick it up, I’ll call it tip the waiter,\n",
      "Yeah, I’m the first to last, alpha, omega,\n",
      "I ain’t trying to talk, bitch I’m concentrating!\n",
      "I'm the dopest nigga , word to Ronald Reagan\n",
      "She don’t play no games, she blow me like a Sega.\n",
      "Hundred thousand on my tax,\n",
      "Twenty thousand on my tats,\n",
      "No lie, I’ve got twelve hundred snapbacks,\n",
      "Go yard everywhere, bitch I’m ballin,\n",
      "Young money running shit, you niggas just jogging,\n",
      "Shoutout Drizzy I’m posted in Toronto,\n",
      "Ice so bright, diamonds on vinalargo\n",
      "Uh, wine bottles, Uh barely drunk,\n",
      "Shades on nigga don’t be trying to say what’s up!\n",
      "--------------------\n",
      "<class 'bs4.element.NavigableString'>\n"
     ]
    },
    {
     "data": {
      "text/plain": [
       "'\\n'"
      ]
     },
     "metadata": {},
     "output_type": "display_data"
    },
    {
     "name": "stdout",
     "output_type": "stream",
     "text": [
      "Real Or Fake\n",
      "------\n",
      "<class 'bs4.element.Tag'>\n",
      "----------\n",
      "[Chorus]\n",
      "Cause you’re real or fake, real or fake,\n",
      "Real or fake, real or fake!\n",
      "Most bitches, niggas gone be real or fake,\n",
      "Real or fake, real or fake!\n",
      "Real or fake, real or fake!\n",
      "Real or fake, real or fake!\n",
      "Yeah, real or fake!\n",
      "Most bitches, niggas gone be real or fake,\n",
      "Yeah, real or fake, bitch!\n",
      "--------------------\n",
      "<class 'bs4.element.NavigableString'>\n"
     ]
    },
    {
     "data": {
      "text/plain": [
       "'\\n'"
      ]
     },
     "metadata": {},
     "output_type": "display_data"
    },
    {
     "name": "stdout",
     "output_type": "stream",
     "text": [
      "Real Or Fake\n",
      "------\n",
      "<class 'bs4.element.Tag'>\n",
      "----------\n",
      "[Verse 2]\n",
      "Hotter then the summer coupe\n",
      "South beach fountain blue,\n",
      "Cherry pie leather seats rubies on tomato soup,\n",
      "German shepherd in my engine, barking at you scary bitches,\n",
      "Best defense, nigga money kissin?!\n",
      "Had a couple tickets, I was young into wrestling,\n",
      "Choke slam a nigga, big show pick ‘em.\n",
      "I’m on my P's and Q's,\n",
      "I don’t ask questions, I figure shit out,\n",
      "Multiplying decimals,\n",
      "Son of Hecklin in my denim, lick the bullet like a lizard,\n",
      "Couldn't see me with a sigma, definately ill autism,\n",
      "Hard alliance but its Tyga hotter then a fucking iron,\n",
      "Put that bitch on silent cause she talking like she tiring,\n",
      "Too much, Uh niggas say they baby mommas love me,\n",
      "Crazy, I was on a tour with Diddy counting that Ciroc money,\n",
      "But it’s young money, YM hoe,\n",
      "T Raw go, nigga they know!\n",
      "--------------------\n",
      "<class 'bs4.element.NavigableString'>\n"
     ]
    },
    {
     "data": {
      "text/plain": [
       "'\\n'"
      ]
     },
     "metadata": {},
     "output_type": "display_data"
    },
    {
     "name": "stdout",
     "output_type": "stream",
     "text": [
      "Real Or Fake\n",
      "------\n",
      "<class 'bs4.element.Tag'>\n",
      "----------\n",
      "[Chorus]\n",
      "Real or fake, real or fake!\n",
      "Real or fake, real or fake\n",
      "Most bitches, niggas gone be real or fake,\n",
      "Real or fake, real or fake, bitch!\n",
      "Real or fake, real or fake, bitch!\n",
      "Real or fake, real or fake, bitch!\n",
      "Yeah, real or fake!\n",
      "Most bitches, niggas gone be real or fake,\n",
      "Yeah, real or fake, bitch!\n",
      "--------------------\n",
      "<class 'bs4.element.NavigableString'>\n"
     ]
    },
    {
     "data": {
      "text/plain": [
       "'\\n'"
      ]
     },
     "metadata": {},
     "output_type": "display_data"
    },
    {
     "name": "stdout",
     "output_type": "stream",
     "text": [
      "Real Or Fake\n",
      "------\n",
      "<class 'bs4.element.Tag'>\n",
      "----------\n",
      "[Outro]\n",
      "I ain’t got no time!\n",
      "I ain’t got no time!\n",
      "I ain’t got no time!\n",
      "Stop blowin up my cellphone,\n",
      "I ain’t got no time!\n",
      "I ain’t got no time!\n",
      "I ain’t got no time!\n",
      "Stop blowing up my cellphone\n",
      "--------------------\n",
      "<class 'bs4.element.NavigableString'>\n"
     ]
    },
    {
     "data": {
      "text/plain": [
       "'\\n'"
      ]
     },
     "metadata": {},
     "output_type": "display_data"
    },
    {
     "name": "stdout",
     "output_type": "stream",
     "text": [
      "<class 'bs4.element.NavigableString'>\n"
     ]
    },
    {
     "data": {
      "text/plain": [
       "'\\n'"
      ]
     },
     "metadata": {},
     "output_type": "display_data"
    },
    {
     "name": "stdout",
     "output_type": "stream",
     "text": [
      "<class 'bs4.element.NavigableString'>\n"
     ]
    },
    {
     "data": {
      "text/plain": [
       "'\\n'"
      ]
     },
     "metadata": {},
     "output_type": "display_data"
    },
    {
     "name": "stdout",
     "output_type": "stream",
     "text": [
      "<class 'bs4.element.NavigableString'>\n"
     ]
    },
    {
     "data": {
      "text/plain": [
       "'\\n'"
      ]
     },
     "metadata": {},
     "output_type": "display_data"
    },
    {
     "name": "stdout",
     "output_type": "stream",
     "text": [
      "<class 'bs4.element.NavigableString'>\n"
     ]
    },
    {
     "data": {
      "text/plain": [
       "'\\n'"
      ]
     },
     "metadata": {},
     "output_type": "display_data"
    },
    {
     "name": "stdout",
     "output_type": "stream",
     "text": [
      "<class 'bs4.element.NavigableString'>\n"
     ]
    },
    {
     "data": {
      "text/plain": [
       "'\\n'"
      ]
     },
     "metadata": {},
     "output_type": "display_data"
    },
    {
     "name": "stdout",
     "output_type": "stream",
     "text": [
      "<class 'bs4.element.NavigableString'>\n"
     ]
    },
    {
     "data": {
      "text/plain": [
       "'\\n'"
      ]
     },
     "metadata": {},
     "output_type": "display_data"
    },
    {
     "name": "stdout",
     "output_type": "stream",
     "text": [
      "Reminded (feat. Adele)\n",
      "------\n",
      "<class 'bs4.element.Tag'>\n",
      "----------\n",
      "[Tyga]\n",
      "The memories soon fade, why couldn’t they be erased\n",
      "You hoping it’s just a phase, your heart’ll heal within days\n",
      "Some people think it’s wrong, being single isn’t right\n",
      "But you hurt the right person you’ll be wrong all your life\n",
      "Inevitable to let you go, separate the sexual\n",
      "Feelings when I’m close to you, fucking til’ the sky is blue\n",
      "Morning time, home fries, cooking with your t-shirt on\n",
      "Panties, bra, damn I eat you good when you take it off\n",
      "Ha, damn I’m nasty, I mean you make me nasty\n",
      "Going the extra mile flying just to make me happy\n",
      "Did it all, too much wasn’t enough\n",
      "Now it’s gone but sometimes I sit and hope\n",
      "--------------------\n",
      "<class 'bs4.element.NavigableString'>\n"
     ]
    },
    {
     "data": {
      "text/plain": [
       "'\\n'"
      ]
     },
     "metadata": {},
     "output_type": "display_data"
    },
    {
     "name": "stdout",
     "output_type": "stream",
     "text": [
      "Reminded (feat. Adele)\n",
      "------\n",
      "<class 'bs4.element.Tag'>\n",
      "----------\n",
      "[Adele]\n",
      "I hoped you’d see my face and that you’d be reminded\n",
      "I hate to turn out up out of the blue uninvited\n",
      "But I couldn’t stay away, I couldn’t fight it\n",
      "I couldn’t stay away, I couldn’t fight it\n",
      "--------------------\n",
      "<class 'bs4.element.NavigableString'>\n"
     ]
    },
    {
     "data": {
      "text/plain": [
       "'\\n'"
      ]
     },
     "metadata": {},
     "output_type": "display_data"
    },
    {
     "name": "stdout",
     "output_type": "stream",
     "text": [
      "<class 'bs4.element.NavigableString'>\n"
     ]
    },
    {
     "data": {
      "text/plain": [
       "'\\n'"
      ]
     },
     "metadata": {},
     "output_type": "display_data"
    },
    {
     "name": "stdout",
     "output_type": "stream",
     "text": [
      "Reminded (feat. Adele)\n",
      "------\n",
      "<class 'bs4.element.Tag'>\n",
      "----------\n",
      "[Tyga]\n",
      "Whatever ever happened to love and being happy\n",
      "Infatuated with lust, I loved you and now I’m backwards\n",
      "Time is of the essence, I broke it, took it for granted\n",
      "Love is like art, heartbroken on the canvas\n",
      "Painted the perfect picture, you seemed to never get it\n",
      "Colors prevail and you turn into a fucking monster\n",
      "Schizophrenic, nicknames Bonnie and Clyde\n",
      "Now doctors calling us Mr. and Mrs. Hyde\n",
      "How do you manage but still do you\n",
      "Can’t compromise, we all equal opportunists\n",
      "It’s when I’m level headed they aiming to take my head off\n",
      "Birds flock together, tell bitches I’m throwing bread off\n",
      "Cold, women, fall in love getting splintered?\n",
      "Strictly plutonic, only thing she want is dinner\n",
      "I can’t fuck with her, get her some tonic, gin, liquor\n",
      "She might let me lick her, now she miss me sayin\n",
      "--------------------\n",
      "<class 'bs4.element.NavigableString'>\n"
     ]
    },
    {
     "data": {
      "text/plain": [
       "'\\n'"
      ]
     },
     "metadata": {},
     "output_type": "display_data"
    },
    {
     "name": "stdout",
     "output_type": "stream",
     "text": [
      "Reminded (feat. Adele)\n",
      "------\n",
      "<class 'bs4.element.Tag'>\n",
      "----------\n",
      "[Adele]\n",
      "I hoped you’d see my face and that you’d be reminded\n",
      "I hate to turn out up out of the blue uninvited\n",
      "But I couldn’t stay away, I couldn’t fight it\n",
      "I couldn’t stay away, I couldn’t fight it\n",
      "--------------------\n",
      "<class 'bs4.element.NavigableString'>\n"
     ]
    },
    {
     "data": {
      "text/plain": [
       "'\\n'"
      ]
     },
     "metadata": {},
     "output_type": "display_data"
    },
    {
     "name": "stdout",
     "output_type": "stream",
     "text": [
      "<class 'bs4.element.NavigableString'>\n"
     ]
    },
    {
     "data": {
      "text/plain": [
       "'\\n'"
      ]
     },
     "metadata": {},
     "output_type": "display_data"
    },
    {
     "name": "stdout",
     "output_type": "stream",
     "text": [
      "Reminded (feat. Adele)\n",
      "------\n",
      "<class 'bs4.element.Tag'>\n",
      "----------\n",
      "[Tyga]\n",
      "Angels in the a.m., sin on my flesh\n",
      "Girls in the p.m., excuses PMS\n",
      "They all wanna love em, call em Ms. Next\n",
      "Spirit of a hustler, I only chase checks\n",
      "Go home\n",
      "I ain’t tryna do you wrong\n",
      "I’d rather be alone\n",
      "Just sittin on the throne\n",
      "--------------------\n",
      "<class 'bs4.element.NavigableString'>\n"
     ]
    },
    {
     "data": {
      "text/plain": [
       "'\\n'"
      ]
     },
     "metadata": {},
     "output_type": "display_data"
    },
    {
     "name": "stdout",
     "output_type": "stream",
     "text": [
      "<class 'bs4.element.NavigableString'>\n"
     ]
    },
    {
     "data": {
      "text/plain": [
       "'\\n'"
      ]
     },
     "metadata": {},
     "output_type": "display_data"
    },
    {
     "name": "stdout",
     "output_type": "stream",
     "text": [
      "<class 'bs4.element.NavigableString'>\n"
     ]
    },
    {
     "data": {
      "text/plain": [
       "'\\n'"
      ]
     },
     "metadata": {},
     "output_type": "display_data"
    },
    {
     "name": "stdout",
     "output_type": "stream",
     "text": [
      "Rich Girl\n",
      "------\n",
      "<class 'bs4.element.Tag'>\n",
      "----------\n",
      "Look at how she walk, walk,\n",
      "Like a rich girl\n",
      "Look at how she talk, talk\n",
      "Like a rich girl\n",
      "Lick your lips, blow a kiss\n",
      "Stop playing\n",
      "You's a Rich (Girl) [x2]\n",
      "--------------------\n",
      "<class 'bs4.element.NavigableString'>\n"
     ]
    },
    {
     "data": {
      "text/plain": [
       "'\\n'"
      ]
     },
     "metadata": {},
     "output_type": "display_data"
    },
    {
     "name": "stdout",
     "output_type": "stream",
     "text": [
      "<class 'bs4.element.NavigableString'>\n"
     ]
    },
    {
     "data": {
      "text/plain": [
       "'\\n'"
      ]
     },
     "metadata": {},
     "output_type": "display_data"
    },
    {
     "name": "stdout",
     "output_type": "stream",
     "text": [
      "Rich Girl\n",
      "------\n",
      "<class 'bs4.element.Tag'>\n",
      "----------\n",
      "Look at how she walk, walk,\n",
      "Like a rich girl\n",
      "Look at how she talk, talk\n",
      "Like a rich girl\n",
      "Lick your lips, blow a kiss\n",
      "Stop playing\n",
      "You's a Rich (Girl) [x2]\n",
      "--------------------\n",
      "<class 'bs4.element.NavigableString'>\n"
     ]
    },
    {
     "data": {
      "text/plain": [
       "'\\n'"
      ]
     },
     "metadata": {},
     "output_type": "display_data"
    },
    {
     "name": "stdout",
     "output_type": "stream",
     "text": [
      "Rich Girl\n",
      "------\n",
      "<class 'bs4.element.Tag'>\n",
      "----------\n",
      "I'm looking for a rich girl, I'm looking for a rich girl\n",
      "I'm looking for a rich girl, So come here, come here girl [x2]\n",
      "--------------------\n",
      "<class 'bs4.element.NavigableString'>\n"
     ]
    },
    {
     "data": {
      "text/plain": [
       "'\\n'"
      ]
     },
     "metadata": {},
     "output_type": "display_data"
    },
    {
     "name": "stdout",
     "output_type": "stream",
     "text": [
      "Rich Girl\n",
      "------\n",
      "<class 'bs4.element.Tag'>\n",
      "----------\n",
      "Look at how she walk, walk\n",
      "Like a rich girl\n",
      "Look at how she talk, talk\n",
      "Like a rich girl\n",
      "Lick your lips, blow a kiss\n",
      "Stop playing\n",
      "You's a Rich (Girl) [x2]\n",
      "--------------------\n",
      "<class 'bs4.element.NavigableString'>\n"
     ]
    },
    {
     "data": {
      "text/plain": [
       "'\\n'"
      ]
     },
     "metadata": {},
     "output_type": "display_data"
    },
    {
     "name": "stdout",
     "output_type": "stream",
     "text": [
      "RIP Dolla\n",
      "------\n",
      "<class 'bs4.element.Tag'>\n",
      "----------\n",
      "[2Pac:]\n",
      "I shine and no one else shines, I think everybody shines in different things\n",
      "I know how to go to that true spot in myself because I'm there everyday\n",
      "I can be me, I can be whoever because I'm true to me\n",
      "I can go to neutral easy, a lot of people black, white, mexican, young, old, fat or skinny\n",
      "Have a problem being true to themselves\n",
      "--------------------\n",
      "<class 'bs4.element.NavigableString'>\n"
     ]
    },
    {
     "data": {
      "text/plain": [
       "'\\n'"
      ]
     },
     "metadata": {},
     "output_type": "display_data"
    },
    {
     "name": "stdout",
     "output_type": "stream",
     "text": [
      "<class 'bs4.element.NavigableString'>\n"
     ]
    },
    {
     "data": {
      "text/plain": [
       "'\\n'"
      ]
     },
     "metadata": {},
     "output_type": "display_data"
    },
    {
     "name": "stdout",
     "output_type": "stream",
     "text": [
      "<class 'bs4.element.NavigableString'>\n"
     ]
    },
    {
     "data": {
      "text/plain": [
       "'\\n'"
      ]
     },
     "metadata": {},
     "output_type": "display_data"
    },
    {
     "name": "stdout",
     "output_type": "stream",
     "text": [
      "RIP Dolla\n",
      "------\n",
      "<class 'bs4.element.Tag'>\n",
      "----------\n",
      "Reportin live from a good soul [?] Roderick\n",
      "I met Dolla, spirited piece I know you're watchin'\n",
      "Carried his coffin, dearly departed young artist\n",
      "Who said it loudly, losing was never a damn option\n",
      "First met my nigga we was up in Arizona\n",
      "Told him I got some bitches for you up in California\n",
      "Never knew May 18th you'd be in California\n",
      "I swear to God, God go get them niggas homie\n",
      "--------------------\n",
      "<class 'bs4.element.NavigableString'>\n"
     ]
    },
    {
     "data": {
      "text/plain": [
       "'\\n'"
      ]
     },
     "metadata": {},
     "output_type": "display_data"
    },
    {
     "name": "stdout",
     "output_type": "stream",
     "text": [
      "RIP Dolla\n",
      "------\n",
      "<class 'bs4.element.Tag'>\n",
      "----------\n",
      "Cases only, if they hit and we make bail, we may bail\n",
      "Then landed up in ATL, club dream [?]\n",
      "She was like \"what's that mean?\" (what's that mean?)\n",
      "Something like a secret society\n",
      "And I was up the street, I wish you would've called me\n",
      "Shoutout for T money, the gang EMT\n",
      "Sending my condolences from Young money GED\n",
      "--------------------\n",
      "<class 'bs4.element.NavigableString'>\n"
     ]
    },
    {
     "data": {
      "text/plain": [
       "'\\n'"
      ]
     },
     "metadata": {},
     "output_type": "display_data"
    },
    {
     "name": "stdout",
     "output_type": "stream",
     "text": [
      "RIP Dolla\n",
      "------\n",
      "<class 'bs4.element.Tag'>\n",
      "----------\n",
      "Dolla Bill and Tyga man, I call that comradery\n",
      "Dolla Bill and Tyga man, I call that comradery\n",
      "Dolla Bill and Tyga man, I call that comradery\n",
      "Dolla Bill and Tyga man\n",
      "Dolla Bill rest in peace [x3]\n",
      "--------------------\n",
      "<class 'bs4.element.NavigableString'>\n"
     ]
    },
    {
     "data": {
      "text/plain": [
       "'\\n'"
      ]
     },
     "metadata": {},
     "output_type": "display_data"
    },
    {
     "name": "stdout",
     "output_type": "stream",
     "text": [
      "<class 'bs4.element.NavigableString'>\n"
     ]
    },
    {
     "data": {
      "text/plain": [
       "'\\n'"
      ]
     },
     "metadata": {},
     "output_type": "display_data"
    },
    {
     "name": "stdout",
     "output_type": "stream",
     "text": [
      "Show You (feat. Future)\n",
      "------\n",
      "<class 'bs4.element.Tag'>\n",
      "----------\n",
      "[Hook: Future & Tyga]\n",
      "I’m just now getting to know you\n",
      "There is a thing I wanna show you\n",
      "(Show you off, show you off)\n",
      "There Is a lot I wanna tell you\n",
      "(No doubt, no doubt)\n",
      "I'm so scared of failure\n",
      "There Is a thing I wanna show you\n",
      "(Show you off, show you off)\n",
      "There's something I wanna show you\n",
      "(Show you off, show you off)\n",
      "There Is a lot I wanna tell you\n",
      "(No doubt, no doubt)\n",
      "I'm so scared of failure\n",
      "(Don't wanna let it all out, yeah)\n",
      "--------------------\n",
      "<class 'bs4.element.NavigableString'>\n"
     ]
    },
    {
     "data": {
      "text/plain": [
       "'\\n'"
      ]
     },
     "metadata": {},
     "output_type": "display_data"
    },
    {
     "name": "stdout",
     "output_type": "stream",
     "text": [
      "Show You (feat. Future)\n",
      "------\n",
      "<class 'bs4.element.Tag'>\n",
      "----------\n",
      "[Verse 1: Tyga]\n",
      "That pussy mine, that's anytime\n",
      "And I get it when I call\n",
      "She said, couldn't pick a better time\n",
      "I know it's early, just got back in town\n",
      "I'mma be there in a minute, drop that towel and it's going down\n",
      "Pull up on your block, all the neighbours watch\n",
      "Little things, tell you you're pretty, know you get that a lot\n",
      "Eyes from a distance, his and hers, gold watch\n",
      "Everybody seen you with them now them heels, sold out\n",
      "I invest that time, I respect your grind\n",
      "Don't keep each other in the dark,cause the sun won't shine\n",
      "Don't wanna rush it right, but that ass fine\n",
      "But for now let's just vibe, cause\n",
      "--------------------\n",
      "<class 'bs4.element.NavigableString'>\n"
     ]
    },
    {
     "data": {
      "text/plain": [
       "'\\n'"
      ]
     },
     "metadata": {},
     "output_type": "display_data"
    },
    {
     "name": "stdout",
     "output_type": "stream",
     "text": [
      "Show You (feat. Future)\n",
      "------\n",
      "<class 'bs4.element.Tag'>\n",
      "----------\n",
      "[Hook]\n",
      "--------------------\n",
      "<class 'bs4.element.NavigableString'>\n"
     ]
    },
    {
     "data": {
      "text/plain": [
       "'\\n'"
      ]
     },
     "metadata": {},
     "output_type": "display_data"
    },
    {
     "name": "stdout",
     "output_type": "stream",
     "text": [
      "Show You (feat. Future)\n",
      "------\n",
      "<class 'bs4.element.Tag'>\n",
      "----------\n",
      "[Verse 2:]\n",
      "I see you working on your body, getting ready for summer\n",
      "I just got a new phone, and I lost your number\n",
      "But I'mma get it, cause it's that important\n",
      "Had to hit up your so called 'friends', man, them bitches annoying\n",
      "I'm on the road, tell me what you're doing\n",
      "I got that dough love for you, don't let it ruin\n",
      "How about you come see LA like a Bruin\n",
      "Focus on on what we got going, not what everybody else doing\n",
      "Friday, Friday, party like it's your birthday\n",
      "They on the same thing and we changed up, they thirsty\n",
      "Drop the top, California never rains\n",
      "I feel your love and pain, it's crazy babe, 'cause\n",
      "--------------------\n",
      "<class 'bs4.element.NavigableString'>\n"
     ]
    },
    {
     "data": {
      "text/plain": [
       "'\\n'"
      ]
     },
     "metadata": {},
     "output_type": "display_data"
    },
    {
     "name": "stdout",
     "output_type": "stream",
     "text": [
      "Show You (feat. Future)\n",
      "------\n",
      "<class 'bs4.element.Tag'>\n",
      "----------\n",
      "[Hook]\n",
      "--------------------\n",
      "<class 'bs4.element.NavigableString'>\n"
     ]
    },
    {
     "data": {
      "text/plain": [
       "'\\n'"
      ]
     },
     "metadata": {},
     "output_type": "display_data"
    },
    {
     "name": "stdout",
     "output_type": "stream",
     "text": [
      "Show You (feat. Future)\n",
      "------\n",
      "<class 'bs4.element.Tag'>\n",
      "----------\n",
      "[Bridge: Future]\n",
      "It's like you up and walked in my life out of nowhere\n",
      "(Where you come from?)\n",
      "And if I lie to you today girl, that wouldn't be fair (I see)\n",
      "I wanna take you around the globe\n",
      "Let me show you off everywhere\n",
      "(Freebandz)\n",
      "And eventually I want us to take you there\n",
      "Oh, yeah\n",
      "--------------------\n",
      "<class 'bs4.element.NavigableString'>\n"
     ]
    },
    {
     "data": {
      "text/plain": [
       "'\\n'"
      ]
     },
     "metadata": {},
     "output_type": "display_data"
    },
    {
     "name": "stdout",
     "output_type": "stream",
     "text": [
      "Show You (feat. Future)\n",
      "------\n",
      "<class 'bs4.element.Tag'>\n",
      "----------\n",
      "[Hook x2]\n",
      "--------------------\n",
      "<class 'bs4.element.NavigableString'>\n"
     ]
    },
    {
     "data": {
      "text/plain": [
       "'\\n'"
      ]
     },
     "metadata": {},
     "output_type": "display_data"
    },
    {
     "name": "stdout",
     "output_type": "stream",
     "text": [
      "Slow It Down\n",
      "------\n",
      "<class 'bs4.element.Tag'>\n",
      "----------\n",
      "[CHORUS]\n",
      "Now that shorties in my bedroom saying \"what should we do?\"\n",
      "I said \"hey, don't slow it down\"\n",
      "Now that shorties up in my place saying do it her way\n",
      "I said \"hey, don't slow it down\"\n",
      "Slow it dooooown. [x4]\n",
      "--------------------\n",
      "<class 'bs4.element.NavigableString'>\n"
     ]
    },
    {
     "data": {
      "text/plain": [
       "'\\n'"
      ]
     },
     "metadata": {},
     "output_type": "display_data"
    },
    {
     "name": "stdout",
     "output_type": "stream",
     "text": [
      "<class 'bs4.element.NavigableString'>\n"
     ]
    },
    {
     "data": {
      "text/plain": [
       "'\\n'"
      ]
     },
     "metadata": {},
     "output_type": "display_data"
    },
    {
     "name": "stdout",
     "output_type": "stream",
     "text": [
      "Slow It Down\n",
      "------\n",
      "<class 'bs4.element.Tag'>\n",
      "----------\n",
      "[VERSE 1]\n",
      "Stepped out, threw my diamond s sweater\n",
      "On to the grocery, quarter eleven\n",
      "The aisles with the beverages, 347\n",
      "Seen two college chicks, why you gigglin?\n",
      "I asked, they said \"you be on television\"\n",
      "\"Wait, your Tyga, my friend wants a picture\"\n",
      "So you live close by? Next thing I'm looking in her eyes\n",
      "--------------------\n",
      "<class 'bs4.element.NavigableString'>\n"
     ]
    },
    {
     "data": {
      "text/plain": [
       "'\\n'"
      ]
     },
     "metadata": {},
     "output_type": "display_data"
    },
    {
     "name": "stdout",
     "output_type": "stream",
     "text": [
      "Slow It Down\n",
      "------\n",
      "<class 'bs4.element.Tag'>\n",
      "----------\n",
      "[CHORUS]\n",
      "Now that shorties in my bedroom saying \"what should we do?\" \n",
      "--------------------\n",
      "<class 'bs4.element.NavigableString'>\n"
     ]
    },
    {
     "data": {
      "text/plain": [
       "'\\n'"
      ]
     },
     "metadata": {},
     "output_type": "display_data"
    },
    {
     "name": "stdout",
     "output_type": "stream",
     "text": [
      "Slow It Down\n",
      "------\n",
      "<class 'bs4.element.Tag'>\n",
      "----------\n",
      "I said \"hey, don't slow it down\"\n",
      "Now that shorties up in my place saying do it her way\n",
      "I said \"hey, don't slow it down\"\n",
      "Slow it dooooown. [x4]\n",
      "--------------------\n",
      "<class 'bs4.element.NavigableString'>\n"
     ]
    },
    {
     "data": {
      "text/plain": [
       "'\\n'"
      ]
     },
     "metadata": {},
     "output_type": "display_data"
    },
    {
     "name": "stdout",
     "output_type": "stream",
     "text": [
      "<class 'bs4.element.NavigableString'>\n"
     ]
    },
    {
     "data": {
      "text/plain": [
       "'\\n'"
      ]
     },
     "metadata": {},
     "output_type": "display_data"
    },
    {
     "name": "stdout",
     "output_type": "stream",
     "text": [
      "Slow It Down\n",
      "------\n",
      "<class 'bs4.element.Tag'>\n",
      "----------\n",
      "[VERSE 2]\n",
      "Later on, hit the club. I'm chillen\n",
      "Funny how time flies when you in it\n",
      "Valet Bentley, gently tinted\n",
      "Seen misses, she use to stay in my building\n",
      "Ten fifty\n",
      "God, never seen you in a dress before\n",
      "So you moved? Where to?\n",
      "\"To the hills of Hollywood, you should come.. visit.. soon\"\n",
      "--------------------\n",
      "<class 'bs4.element.NavigableString'>\n"
     ]
    },
    {
     "data": {
      "text/plain": [
       "'\\n'"
      ]
     },
     "metadata": {},
     "output_type": "display_data"
    },
    {
     "name": "stdout",
     "output_type": "stream",
     "text": [
      "Slow It Down\n",
      "------\n",
      "<class 'bs4.element.Tag'>\n",
      "----------\n",
      "[CHORUS]\n",
      "Now that shorties in my bedroom saying \"what should we do?\" \n",
      "--------------------\n",
      "<class 'bs4.element.NavigableString'>\n"
     ]
    },
    {
     "data": {
      "text/plain": [
       "'\\n'"
      ]
     },
     "metadata": {},
     "output_type": "display_data"
    },
    {
     "name": "stdout",
     "output_type": "stream",
     "text": [
      "Slow It Down\n",
      "------\n",
      "<class 'bs4.element.Tag'>\n",
      "----------\n",
      "I said \"hey, don't slow it down\"\n",
      "Now that shorties up in my place saying do it her way\n",
      "I said \"hey, don't slow it down\"\n",
      "Slow it dooooown. [x4]\n",
      "--------------------\n",
      "<class 'bs4.element.NavigableString'>\n"
     ]
    },
    {
     "data": {
      "text/plain": [
       "'\\n'"
      ]
     },
     "metadata": {},
     "output_type": "display_data"
    },
    {
     "name": "stdout",
     "output_type": "stream",
     "text": [
      "Slow It Down\n",
      "------\n",
      "<class 'bs4.element.Tag'>\n",
      "----------\n",
      "[BREAKDOWN]\n",
      "hoooou, ooooooh (no need to rush it, ya know)\n",
      "So take your time\n",
      "As the one for me\n",
      "So ease your mind\n",
      "As the one for me\n",
      "--------------------\n",
      "<class 'bs4.element.NavigableString'>\n"
     ]
    },
    {
     "data": {
      "text/plain": [
       "'\\n'"
      ]
     },
     "metadata": {},
     "output_type": "display_data"
    },
    {
     "name": "stdout",
     "output_type": "stream",
     "text": [
      "Slow It Down\n",
      "------\n",
      "<class 'bs4.element.Tag'>\n",
      "----------\n",
      "[VERSE 3]\n",
      "Uhh, I'm feeling better already\n",
      "We've been steady\n",
      "Put a diamond lump on your damn pinkie\n",
      "I do miss you, just been busy\n",
      "Do you miss me?\n",
      "How bout I come get you?\n",
      "--------------------\n",
      "<class 'bs4.element.NavigableString'>\n"
     ]
    },
    {
     "data": {
      "text/plain": [
       "'\\n'"
      ]
     },
     "metadata": {},
     "output_type": "display_data"
    },
    {
     "name": "stdout",
     "output_type": "stream",
     "text": [
      "Slow It Down\n",
      "------\n",
      "<class 'bs4.element.Tag'>\n",
      "----------\n",
      "[CHORUS]\n",
      "Now that shorties in my bedroom saying \"what should we do?\"\n",
      "I said \"hey, don't slow it down\"\n",
      "Now that shorties up in my place saying do it her way\n",
      "I said \"hey, don't slow it down\"\n",
      "Slow it dooooown. [x4]\n",
      "--------------------\n",
      "<class 'bs4.element.NavigableString'>\n"
     ]
    },
    {
     "data": {
      "text/plain": [
       "'\\n'"
      ]
     },
     "metadata": {},
     "output_type": "display_data"
    },
    {
     "name": "stdout",
     "output_type": "stream",
     "text": [
      "Snapbacks Back (feat. Chris Brown)\n",
      "------\n",
      "<class 'bs4.element.Tag'>\n",
      "----------\n",
      "[Hook x2]\n",
      "Snapbacks Back, Snapback Back\n",
      "That’s all these niggas saying, I brought Snapbacks back\n",
      "I’m a fresh as nigga, bitches know I’m the shit\n",
      "25 for my belt, nigga get off my dick\n",
      "--------------------\n",
      "<class 'bs4.element.NavigableString'>\n"
     ]
    },
    {
     "data": {
      "text/plain": [
       "'\\n'"
      ]
     },
     "metadata": {},
     "output_type": "display_data"
    },
    {
     "name": "stdout",
     "output_type": "stream",
     "text": [
      "Snapbacks Back (feat. Chris Brown)\n",
      "------\n",
      "<class 'bs4.element.Tag'>\n",
      "----------\n",
      "[Verse 1: Tyga]\n",
      "I brought the snapback back, snapback back\n",
      "Man all these niggas foul like hack-a-Shaq\n",
      "Nigga racks on racks, my bitch ass so fat\n",
      "Yo bitch booty like a pancake, flat flapjack\n",
      "I make your dollars collapse trail low in the strap\n",
      "Shells big as a turtle Master Splinter to rap\n",
      "Spin you like Urkel your body hanging from fat\n",
      "Thought you was sharper than tacks, get you thrown like some jacks\n",
      "All these bitches with these tassels on their titties tryna tax\n",
      "I don’t give a fuck if none of yall don’t rap\n",
      "I could pull a bitch just turning my back\n",
      "Who knew that, venus trap\n",
      "Flyest nigga in the class\n",
      "Goyard bag, see that tag?\n",
      "I could pay your rent all year boy\n",
      "Yo mama know, your cousin, sister brother and your mama know\n",
      "Your cousin, sister brother and your mama know\n",
      "Your cousin, sister brother and your mama know\n",
      "Bitch, your granny know nigga\n",
      "--------------------\n",
      "<class 'bs4.element.NavigableString'>\n"
     ]
    },
    {
     "data": {
      "text/plain": [
       "'\\n'"
      ]
     },
     "metadata": {},
     "output_type": "display_data"
    },
    {
     "name": "stdout",
     "output_type": "stream",
     "text": [
      "Snapbacks Back (feat. Chris Brown)\n",
      "------\n",
      "<class 'bs4.element.Tag'>\n",
      "----------\n",
      "[Hook x2]\n",
      "--------------------\n",
      "<class 'bs4.element.NavigableString'>\n"
     ]
    },
    {
     "data": {
      "text/plain": [
       "'\\n'"
      ]
     },
     "metadata": {},
     "output_type": "display_data"
    },
    {
     "name": "stdout",
     "output_type": "stream",
     "text": [
      "Snapbacks Back (feat. Chris Brown)\n",
      "------\n",
      "<class 'bs4.element.Tag'>\n",
      "----------\n",
      "[Verse 2: Chris Brown]\n",
      "Leggo, snapback back, put V.A. on the map\n",
      "I’m a young nigga, heartthrob, girls cardiac\n",
      "I got your girls all on my dick\n",
      "Yeah them chickens giving me neck, nigga\n",
      "You ain’t talkin bout shit\n",
      "Fuck your city, press eject\n",
      "Too busy coughing up them hairballs\n",
      "Fur coat, Bear dog\n",
      "Spray these niggas like aerosol\n",
      "And fuck them old niggas: Geritol\n",
      "Hold up, snapback on\n",
      "Champagne MCM backpack on\n",
      "Lucky that my situation in this probation\n",
      "Won’t even let me strap that tome\n",
      "My condo ain't no hotter, I be right at home\n",
      "What you mean nigga I’m coherant\n",
      "Steez out with my D out and you wonder\n",
      "Why your shorty be disappearing\n",
      "Ha-Ha I brought the snapback back\n",
      "Last kings and them Ti$as yeah they sell like crack\n",
      "You got no car insurance, no Ray Bans\n",
      "This Geico, caveman\n",
      "First of the month you do a praise dance\n",
      "Like I’m moving on up, Aye man\n",
      "Stop that, drop a hat in the club\n",
      "They gon be like that nigga on drugs\n",
      "Get more respect in L.A. than you do\n",
      "--------------------\n",
      "<class 'bs4.element.NavigableString'>\n"
     ]
    },
    {
     "data": {
      "text/plain": [
       "'\\n'"
      ]
     },
     "metadata": {},
     "output_type": "display_data"
    },
    {
     "name": "stdout",
     "output_type": "stream",
     "text": [
      "Snapbacks Back (feat. Chris Brown)\n",
      "------\n",
      "<class 'bs4.element.Tag'>\n",
      "----------\n",
      "[Hook x2]\n",
      "Snapbacks Back, Snapback Back\n",
      "That’s all these niggas saying, I brought Snapbacks back\n",
      "I’m a fresh as nigga, bitches know I’m the shit\n",
      "25 for my belt, nigga get off my dick\n",
      "--------------------\n",
      "<class 'bs4.element.NavigableString'>\n"
     ]
    },
    {
     "data": {
      "text/plain": [
       "'\\n'"
      ]
     },
     "metadata": {},
     "output_type": "display_data"
    },
    {
     "name": "stdout",
     "output_type": "stream",
     "text": [
      "<class 'bs4.element.NavigableString'>\n"
     ]
    },
    {
     "data": {
      "text/plain": [
       "'\\n'"
      ]
     },
     "metadata": {},
     "output_type": "display_data"
    },
    {
     "name": "stdout",
     "output_type": "stream",
     "text": [
      "Still Got It (feat. Drake)\n",
      "------\n",
      "<class 'bs4.element.Tag'>\n",
      "----------\n",
      "[Drake]\n",
      "I feel good I got some time off, Girl its been so long\n",
      "Did you have fun? ’cause Ima need a cab just to get me home\n",
      "And maybe you can call in sick\n",
      "And bring you to the crib and get all this, all this\n",
      "I know, I know I’m blunt, but how real is that?\n",
      "You want that feeling back?\n",
      "--------------------\n",
      "<class 'bs4.element.NavigableString'>\n"
     ]
    },
    {
     "data": {
      "text/plain": [
       "'\\n'"
      ]
     },
     "metadata": {},
     "output_type": "display_data"
    },
    {
     "name": "stdout",
     "output_type": "stream",
     "text": [
      "Still Got It (feat. Drake)\n",
      "------\n",
      "<class 'bs4.element.Tag'>\n",
      "----------\n",
      "[Tyga]\n",
      "Probably one of my realest loves ever\n",
      "Four page letters, and time is all better\n",
      "‘Cause time heal whatever\n",
      "Ima need a moment ’cause moments last forever\n",
      "Cars with cream leather, Females are on a regular\n",
      "What’s the point in titles, we liking it how they tell us\n",
      "I’d rather stay friend with benefits till we ready\n",
      "Now ready, Sean Don got me feeling heavy\n",
      "She like “one more chance”, more problems no biggie ah\n",
      "It’s all good don’t take it the wrong way\n",
      "Ain’t nothing personal, but who this nigga in your face?\n",
      "We can leave together or give eachother space\n",
      "The night young, we should head over to my place\n",
      "Ha, now we laughing and all that (all that)\n",
      "Tell your friends they can fall back\n",
      "Ain’t even gotta ask twice\n",
      "She said what you feeling like?\n",
      "--------------------\n",
      "<class 'bs4.element.NavigableString'>\n"
     ]
    },
    {
     "data": {
      "text/plain": [
       "'\\n'"
      ]
     },
     "metadata": {},
     "output_type": "display_data"
    },
    {
     "name": "stdout",
     "output_type": "stream",
     "text": [
      "Still Got It (feat. Drake)\n",
      "------\n",
      "<class 'bs4.element.Tag'>\n",
      "----------\n",
      "[Drake]\n",
      "I feel good I got some time off, Girl its been so long\n",
      "Did you have fun? ’cause Ima need a cab just to get me home\n",
      "And maybe you can call in sick\n",
      "And bring it to the crib and get all this, all this\n",
      "I know, I know I’m blunt, but how real is that,\n",
      "You want that feeling back?\n",
      "Well you should know\n",
      "I still got it for ya, I still got it for ya [x3]\n",
      "And even though we let it go, it’s better that you know\n",
      "I still got it for ya, I still got it for ya [x3]\n",
      "And even though we let it go, it’s better that you know\n",
      "I still…\n",
      "--------------------\n",
      "<class 'bs4.element.NavigableString'>\n"
     ]
    },
    {
     "data": {
      "text/plain": [
       "'\\n'"
      ]
     },
     "metadata": {},
     "output_type": "display_data"
    },
    {
     "name": "stdout",
     "output_type": "stream",
     "text": [
      "Still Got It (feat. Drake)\n",
      "------\n",
      "<class 'bs4.element.Tag'>\n",
      "----------\n",
      "[Tyga]\n",
      "Uh, ain’t no, ain’t nobody like you\n",
      "Heard you gotta ballplayer, but he don’t excite you\n",
      "I ain’t the one you gotta lie to\n",
      "Lay down, relax, climax, let me bite you\n",
      "Uh, still a, still a superfreak\n",
      "You know how it be when I’m rolling in the sheets\n",
      "Enough about me, I heard you finished your degree\n",
      "Just call me Genuine, ’cause I’m the same O G\n",
      "We was young, full of insecurities\n",
      "Grown up now, all we got is old memories\n",
      "Used to be like enemies\n",
      "Arguing in Barney’s, fly shit, too much pride to say sorry\n",
      "Problems ruined like half the day\n",
      "Number 24, let it fade away\n",
      "She gotta leave, but she wanna stay\n",
      "She like, how you feeling babe?\n",
      "Like, like, shit\n",
      "--------------------\n",
      "<class 'bs4.element.NavigableString'>\n"
     ]
    },
    {
     "data": {
      "text/plain": [
       "'\\n'"
      ]
     },
     "metadata": {},
     "output_type": "display_data"
    },
    {
     "name": "stdout",
     "output_type": "stream",
     "text": [
      "Still Got It (feat. Drake)\n",
      "------\n",
      "<class 'bs4.element.Tag'>\n",
      "----------\n",
      "[Drake]\n",
      "I feel good I got some time off, Girl its been so long\n",
      "Did you have fun? ’cause Ima need a cab just to get me home\n",
      "And maybe you can call in sick\n",
      "And bring you to the crib and get all this, all this\n",
      "I know, I know I’m blunt, but how real is that,\n",
      "You want that feeling back?\n",
      "Well you should know\n",
      "I still got it for ya, I still got it for ya [x3]\n",
      "And even though we let it go, it’s better that you know\n",
      "I still got it for ya, I still got it for ya [x3]\n",
      "And even though we let it go, it’s better that you know\n",
      "I still got it for ya, I still got it for ya [x3]\n",
      "And even though we let it go, it’s better that you know\n",
      "I still got it for ya, I still got it for ya [x3]\n",
      "And even though we let it go, it’s better that you know\n",
      "I still.\n",
      "--------------------\n",
      "<class 'bs4.element.NavigableString'>\n"
     ]
    },
    {
     "data": {
      "text/plain": [
       "'\\n'"
      ]
     },
     "metadata": {},
     "output_type": "display_data"
    },
    {
     "name": "stdout",
     "output_type": "stream",
     "text": [
      "Stop Accussing\n",
      "------\n",
      "<class 'bs4.element.Tag'>\n",
      "----------\n",
      "Ah\n",
      "City lights dark shades with my vision light\n",
      "Salute Moet with glass got me feeling right\n",
      "Do not miss ice, all I need ms right tonight\n",
      "Too clean one beam I ain't finna fight\n",
      "One hit probably in a life. Life just cold, hell, so I bring the fire\n",
      "Almighty in the sky, no this ain't angel eyes\n",
      "Eyes must say [?] fly, fly, must oblige. I give text, she read, reply\n",
      "Some good sex after this thinking in my mind. took a look at the time\n",
      "Sweet 10:25. meet me, couple drinks, eat, no ramadan\n",
      "Bed spread. take the covers off\n",
      "Drag your ass on the comforter, dracula, get to sucking on\n",
      "Uck you from behind, fuck you hard, fuck dat other sucka ma\n",
      "Blood rush through your theighs like your running around\n",
      "Its finna get wild while I beat it like a problem child\n",
      "Probaly deep down world pussy treasure found\n",
      "I'm thinking two more rounds I'mma tap out...\n",
      "But I ain't let it out...its getting wetter now...\n",
      "She need a paper towel. don't pull it out\n",
      "Ahhhh like your smile\n",
      "--------------------\n",
      "<class 'bs4.element.NavigableString'>\n"
     ]
    },
    {
     "data": {
      "text/plain": [
       "'\\n'"
      ]
     },
     "metadata": {},
     "output_type": "display_data"
    },
    {
     "name": "stdout",
     "output_type": "stream",
     "text": [
      "<class 'bs4.element.NavigableString'>\n"
     ]
    },
    {
     "data": {
      "text/plain": [
       "'\\n'"
      ]
     },
     "metadata": {},
     "output_type": "display_data"
    },
    {
     "name": "stdout",
     "output_type": "stream",
     "text": [
      "<class 'bs4.element.NavigableString'>\n"
     ]
    },
    {
     "data": {
      "text/plain": [
       "'\\n'"
      ]
     },
     "metadata": {},
     "output_type": "display_data"
    },
    {
     "name": "stdout",
     "output_type": "stream",
     "text": [
      "<class 'bs4.element.NavigableString'>\n"
     ]
    },
    {
     "data": {
      "text/plain": [
       "'\\n'"
      ]
     },
     "metadata": {},
     "output_type": "display_data"
    },
    {
     "name": "stdout",
     "output_type": "stream",
     "text": [
      "Storm (feat. Stefano Moses)\n",
      "------\n",
      "<class 'bs4.element.Tag'>\n",
      "----------\n",
      "[Chorus - Stefano Moses]\n",
      "The city's gone with electricity\n",
      "No lights so I can hardly see\n",
      "And all the smiles, screaming rescue me, rescue me\n",
      "Who to trust, who can you believe?\n",
      "The devil owns this reality\n",
      "And all the smiles, screaming rescue me, rescue me\n",
      "--------------------\n",
      "<class 'bs4.element.NavigableString'>\n"
     ]
    },
    {
     "data": {
      "text/plain": [
       "'\\n'"
      ]
     },
     "metadata": {},
     "output_type": "display_data"
    },
    {
     "name": "stdout",
     "output_type": "stream",
     "text": [
      "Storm (feat. Stefano Moses)\n",
      "------\n",
      "<class 'bs4.element.Tag'>\n",
      "----------\n",
      "[Verse 1 - Tyga]\n",
      "hate lies, never truth when it's televised\n",
      "Devils on the screen, fire in their eyes\n",
      "Put your face to a spell make your soul fly\n",
      "Pray every day some close to God\n",
      "Looking at the murder rate never ask why\n",
      "Colt 45, with a 4 5, the innocent die young can't judge life\n",
      "Never did so I live fast every night\n",
      "Wonder why they breathe hate through their wind pipe\n",
      "Mutherfuckers wanna take instead of give advice\n",
      "Niggas left me now I'm living right\n",
      "Trying to cheat death with a trick dice\n",
      "Gambling can't rely on management\n",
      "If it's 'bout business I'ma handle it\n",
      "I see it all like an analyst,\n",
      "Views of the water, big bills like a Pelican\n",
      "I'm into different broads, fucking in foreign cars\n",
      "Wizard of OZ, tear coloured Benz, I ain't got a heart,\n",
      "No love shoot the cupid with a dart, danger in the park\n",
      "Motherfucker don't walk past dark\n",
      "What the fuck is illuminati?\n",
      "Old niggers with money\n",
      "Bitch get the power light, stand tall tower light\n",
      "Gotta fight, can't let 'em take our life\n",
      "--------------------\n",
      "<class 'bs4.element.NavigableString'>\n"
     ]
    },
    {
     "data": {
      "text/plain": [
       "'\\n'"
      ]
     },
     "metadata": {},
     "output_type": "display_data"
    },
    {
     "name": "stdout",
     "output_type": "stream",
     "text": [
      "Storm (feat. Stefano Moses)\n",
      "------\n",
      "<class 'bs4.element.Tag'>\n",
      "----------\n",
      "[Chorus]\n",
      "--------------------\n",
      "<class 'bs4.element.NavigableString'>\n"
     ]
    },
    {
     "data": {
      "text/plain": [
       "'\\n'"
      ]
     },
     "metadata": {},
     "output_type": "display_data"
    },
    {
     "name": "stdout",
     "output_type": "stream",
     "text": [
      "Storm (feat. Stefano Moses)\n",
      "------\n",
      "<class 'bs4.element.Tag'>\n",
      "----------\n",
      "[Verse 2 - Tyga]\n",
      "Take a step as the world spin\n",
      "Rumors come and go faster than a whirlwind\n",
      "Whirlpool, bitches getting' sucked in\n",
      "Booty model shake your ass but you're broke bitch\n",
      "Man you niggas ain't balling in the bull pen\n",
      "Riding on the black mag I'm a cool kid\n",
      "Last king living, give me space like a movement\n",
      "Cream get the money, whip icy like cool whip\n",
      "Ohhh shit, who shit nigga art gallery flow painted under globe\n",
      "Use the colored dope nigga I'm a lobe\n",
      "Levitator pro, crisis when he spoke, kicking in your door\n",
      "Hit the flow like Lee boy? with a globe\n",
      "Trying to win but the finish lines far, race against the odds\n",
      "Race don't matter when you dead or start praying to the gods\n",
      "Don't let me die so young\n",
      "--------------------\n",
      "<class 'bs4.element.NavigableString'>\n"
     ]
    },
    {
     "data": {
      "text/plain": [
       "'\\n'"
      ]
     },
     "metadata": {},
     "output_type": "display_data"
    },
    {
     "name": "stdout",
     "output_type": "stream",
     "text": [
      "Storm (feat. Stefano Moses)\n",
      "------\n",
      "<class 'bs4.element.Tag'>\n",
      "----------\n",
      "[Chorus]\n",
      "--------------------\n",
      "<class 'bs4.element.NavigableString'>\n"
     ]
    },
    {
     "data": {
      "text/plain": [
       "'\\n'"
      ]
     },
     "metadata": {},
     "output_type": "display_data"
    },
    {
     "name": "stdout",
     "output_type": "stream",
     "text": [
      "<class 'bs4.element.NavigableString'>\n"
     ]
    },
    {
     "data": {
      "text/plain": [
       "'\\n'"
      ]
     },
     "metadata": {},
     "output_type": "display_data"
    },
    {
     "name": "stdout",
     "output_type": "stream",
     "text": [
      "<class 'bs4.element.NavigableString'>\n"
     ]
    },
    {
     "data": {
      "text/plain": [
       "'\\n'"
      ]
     },
     "metadata": {},
     "output_type": "display_data"
    },
    {
     "name": "stdout",
     "output_type": "stream",
     "text": [
      "<class 'bs4.element.NavigableString'>\n"
     ]
    },
    {
     "data": {
      "text/plain": [
       "'\\n'"
      ]
     },
     "metadata": {},
     "output_type": "display_data"
    },
    {
     "name": "stdout",
     "output_type": "stream",
     "text": [
      "<class 'bs4.element.NavigableString'>\n"
     ]
    },
    {
     "data": {
      "text/plain": [
       "'\\n'"
      ]
     },
     "metadata": {},
     "output_type": "display_data"
    },
    {
     "name": "stdout",
     "output_type": "stream",
     "text": [
      "<class 'bs4.element.NavigableString'>\n"
     ]
    },
    {
     "data": {
      "text/plain": [
       "'\\n'"
      ]
     },
     "metadata": {},
     "output_type": "display_data"
    },
    {
     "name": "stdout",
     "output_type": "stream",
     "text": [
      "<class 'bs4.element.NavigableString'>\n"
     ]
    },
    {
     "data": {
      "text/plain": [
       "'\\n'"
      ]
     },
     "metadata": {},
     "output_type": "display_data"
    },
    {
     "name": "stdout",
     "output_type": "stream",
     "text": [
      "<class 'bs4.element.NavigableString'>\n"
     ]
    },
    {
     "data": {
      "text/plain": [
       "'\\n'"
      ]
     },
     "metadata": {},
     "output_type": "display_data"
    },
    {
     "name": "stdout",
     "output_type": "stream",
     "text": [
      "<class 'bs4.element.NavigableString'>\n"
     ]
    },
    {
     "data": {
      "text/plain": [
       "'\\n'"
      ]
     },
     "metadata": {},
     "output_type": "display_data"
    },
    {
     "name": "stdout",
     "output_type": "stream",
     "text": [
      "<class 'bs4.element.NavigableString'>\n"
     ]
    },
    {
     "data": {
      "text/plain": [
       "'\\n'"
      ]
     },
     "metadata": {},
     "output_type": "display_data"
    },
    {
     "name": "stdout",
     "output_type": "stream",
     "text": [
      "<class 'bs4.element.NavigableString'>\n"
     ]
    },
    {
     "data": {
      "text/plain": [
       "'\\n'"
      ]
     },
     "metadata": {},
     "output_type": "display_data"
    },
    {
     "name": "stdout",
     "output_type": "stream",
     "text": [
      "<class 'bs4.element.NavigableString'>\n"
     ]
    },
    {
     "data": {
      "text/plain": [
       "'\\n'"
      ]
     },
     "metadata": {},
     "output_type": "display_data"
    },
    {
     "name": "stdout",
     "output_type": "stream",
     "text": [
      "<class 'bs4.element.NavigableString'>\n"
     ]
    },
    {
     "data": {
      "text/plain": [
       "'\\n'"
      ]
     },
     "metadata": {},
     "output_type": "display_data"
    },
    {
     "name": "stdout",
     "output_type": "stream",
     "text": [
      "<class 'bs4.element.NavigableString'>\n"
     ]
    },
    {
     "data": {
      "text/plain": [
       "'\\n'"
      ]
     },
     "metadata": {},
     "output_type": "display_data"
    },
    {
     "name": "stdout",
     "output_type": "stream",
     "text": [
      "<class 'bs4.element.NavigableString'>\n"
     ]
    },
    {
     "data": {
      "text/plain": [
       "'\\n'"
      ]
     },
     "metadata": {},
     "output_type": "display_data"
    },
    {
     "name": "stdout",
     "output_type": "stream",
     "text": [
      "<class 'bs4.element.NavigableString'>\n"
     ]
    },
    {
     "data": {
      "text/plain": [
       "'\\n'"
      ]
     },
     "metadata": {},
     "output_type": "display_data"
    },
    {
     "name": "stdout",
     "output_type": "stream",
     "text": [
      "<class 'bs4.element.NavigableString'>\n"
     ]
    },
    {
     "data": {
      "text/plain": [
       "'\\n'"
      ]
     },
     "metadata": {},
     "output_type": "display_data"
    },
    {
     "name": "stdout",
     "output_type": "stream",
     "text": [
      "<class 'bs4.element.NavigableString'>\n"
     ]
    },
    {
     "data": {
      "text/plain": [
       "'\\n'"
      ]
     },
     "metadata": {},
     "output_type": "display_data"
    },
    {
     "name": "stdout",
     "output_type": "stream",
     "text": [
      "<class 'bs4.element.NavigableString'>\n"
     ]
    },
    {
     "data": {
      "text/plain": [
       "'\\n'"
      ]
     },
     "metadata": {},
     "output_type": "display_data"
    },
    {
     "name": "stdout",
     "output_type": "stream",
     "text": [
      "<class 'bs4.element.NavigableString'>\n"
     ]
    },
    {
     "data": {
      "text/plain": [
       "'\\n'"
      ]
     },
     "metadata": {},
     "output_type": "display_data"
    },
    {
     "name": "stdout",
     "output_type": "stream",
     "text": [
      "<class 'bs4.element.NavigableString'>\n"
     ]
    },
    {
     "data": {
      "text/plain": [
       "'\\n'"
      ]
     },
     "metadata": {},
     "output_type": "display_data"
    },
    {
     "name": "stdout",
     "output_type": "stream",
     "text": [
      "<class 'bs4.element.NavigableString'>\n"
     ]
    },
    {
     "data": {
      "text/plain": [
       "'\\n'"
      ]
     },
     "metadata": {},
     "output_type": "display_data"
    },
    {
     "name": "stdout",
     "output_type": "stream",
     "text": [
      "Supersize Me\n",
      "------\n",
      "<class 'bs4.element.Tag'>\n",
      "----------\n",
      "[Laughing]\n",
      "--------------------\n",
      "<class 'bs4.element.NavigableString'>\n"
     ]
    },
    {
     "data": {
      "text/plain": [
       "'\\n'"
      ]
     },
     "metadata": {},
     "output_type": "display_data"
    },
    {
     "name": "stdout",
     "output_type": "stream",
     "text": [
      "Swimming Pools\n",
      "------\n",
      "<class 'bs4.element.Tag'>\n",
      "----------\n",
      "[Hook 1]\n",
      "Love, hate\n",
      "Niggas, hate\n",
      "Bitches, hate\n",
      "Me, I can’t\n",
      "Faded I might, faint\n",
      "Faded I might, faint\n",
      "My mind went, blank\n",
      "Mind went, blank\n",
      "--------------------\n",
      "<class 'bs4.element.NavigableString'>\n"
     ]
    },
    {
     "data": {
      "text/plain": [
       "'\\n'"
      ]
     },
     "metadata": {},
     "output_type": "display_data"
    },
    {
     "name": "stdout",
     "output_type": "stream",
     "text": [
      "Swimming Pools\n",
      "------\n",
      "<class 'bs4.element.Tag'>\n",
      "----------\n",
      "[Verse 1]\n",
      "Now I done grew up ‘round some niggas\n",
      "that caused me some drama\n",
      "Swear when you make it niggas say you owe them\n",
      "Swear they think they your mama\n",
      "Everybody with they hands out they always ask me\n",
      "They know that I got it\n",
      "My biggest fear is going broke\n",
      "Can’t say no, that’s my problem\n",
      "I wanted that Rolls Royce, young boy\n",
      "Lookin’ to make a bad choice\n",
      "Then it got fucked up when Mom went to jail\n",
      "I heard a little voice\n",
      "Back of my head, back of my mind,\n",
      "Dropped out of school but a nigga did fine\n",
      "I ain’t tellin’ you to drop out\n",
      "But if you do, make use of your time\n",
      "--------------------\n",
      "<class 'bs4.element.NavigableString'>\n"
     ]
    },
    {
     "data": {
      "text/plain": [
       "'\\n'"
      ]
     },
     "metadata": {},
     "output_type": "display_data"
    },
    {
     "name": "stdout",
     "output_type": "stream",
     "text": [
      "Swimming Pools\n",
      "------\n",
      "<class 'bs4.element.Tag'>\n",
      "----------\n",
      "[Hook 2]\n",
      "I say why they hatin’ on me?\n",
      "I’m just tryin’ to get my guap\n",
      "I’m just tryin’ to set my family up\n",
      "First believe in one God,\n",
      "Then stack your paper higher, bitch\n",
      "Get your money, stack your paper higher, bitch\n",
      "We ain’t never fuck with cops\n",
      "And that’s never gonna stop\n",
      "And I’m posted at the tippy top\n",
      "So get your money fast\n",
      "and stack your paper higher, bitch\n",
      "Get your money, stack your paper higher, bitch\n",
      "--------------------\n",
      "<class 'bs4.element.NavigableString'>\n"
     ]
    },
    {
     "data": {
      "text/plain": [
       "'\\n'"
      ]
     },
     "metadata": {},
     "output_type": "display_data"
    },
    {
     "name": "stdout",
     "output_type": "stream",
     "text": [
      "Swimming Pools\n",
      "------\n",
      "<class 'bs4.element.Tag'>\n",
      "----------\n",
      "[Hook 1]\n",
      "--------------------\n",
      "<class 'bs4.element.NavigableString'>\n"
     ]
    },
    {
     "data": {
      "text/plain": [
       "'\\n'"
      ]
     },
     "metadata": {},
     "output_type": "display_data"
    },
    {
     "name": "stdout",
     "output_type": "stream",
     "text": [
      "Swimming Pools\n",
      "------\n",
      "<class 'bs4.element.Tag'>\n",
      "----------\n",
      "[Verse 2]\n",
      "Okay, I’m takin’ my time and takin’ your dinner\n",
      "These bitches cold blooded like winter\n",
      "I’m lookin’ at fixtures that I don’t remember\n",
      "I’m all in my zone, Carl Malone\n",
      "Takin’ these shots, abusing my liver\n",
      "It’s mine, I spend it\n",
      "It’s mine, I’m gon’ spend it\n",
      "Doomsday, doomsday\n",
      "These niggas weak like it’s a Tuesday\n",
      "Niggas get loony like a toon stay\n",
      "Everything well done like two steaks\n",
      "Who they? Ain’t from LA\n",
      "They fall off like November days\n",
      "They worry ‘bout your sales, but\n",
      "At the end of the day, who gettin’ paid?\n",
      "--------------------\n",
      "<class 'bs4.element.NavigableString'>\n"
     ]
    },
    {
     "data": {
      "text/plain": [
       "'\\n'"
      ]
     },
     "metadata": {},
     "output_type": "display_data"
    },
    {
     "name": "stdout",
     "output_type": "stream",
     "text": [
      "Swimming Pools\n",
      "------\n",
      "<class 'bs4.element.Tag'>\n",
      "----------\n",
      "[Hook 2]\n",
      "--------------------\n",
      "<class 'bs4.element.NavigableString'>\n"
     ]
    },
    {
     "data": {
      "text/plain": [
       "'\\n'"
      ]
     },
     "metadata": {},
     "output_type": "display_data"
    },
    {
     "name": "stdout",
     "output_type": "stream",
     "text": [
      "Swimming Pools\n",
      "------\n",
      "<class 'bs4.element.Tag'>\n",
      "----------\n",
      "[Hook 1]\n",
      "--------------------\n",
      "<class 'bs4.element.NavigableString'>\n"
     ]
    },
    {
     "data": {
      "text/plain": [
       "'\\n'"
      ]
     },
     "metadata": {},
     "output_type": "display_data"
    },
    {
     "name": "stdout",
     "output_type": "stream",
     "text": [
      "Swimming Pools\n",
      "------\n",
      "<class 'bs4.element.Tag'>\n",
      "----------\n",
      "[Hook 2]\n",
      "--------------------\n",
      "<class 'bs4.element.NavigableString'>\n"
     ]
    },
    {
     "data": {
      "text/plain": [
       "'\\n'"
      ]
     },
     "metadata": {},
     "output_type": "display_data"
    },
    {
     "name": "stdout",
     "output_type": "stream",
     "text": [
      "Switch Lanes (feat. The Game)\n",
      "------\n",
      "<class 'bs4.element.Tag'>\n",
      "----------\n",
      "[Hook:]\n",
      "When I switch lanes, phantom doors swing\n",
      "Arm out the window screaming money ain't a thang\n",
      "Call it automatic bang, bang, bang\n",
      "Call it automatic bang, bang, bang\n",
      "Rari switch lanes, diamonds in my chain\n",
      "Been around the world all the hoes know my name\n",
      "Call it automatic bang, bang, bang\n",
      "Mr. automatic bang, bang, bang\n",
      "--------------------\n",
      "<class 'bs4.element.NavigableString'>\n"
     ]
    },
    {
     "data": {
      "text/plain": [
       "'\\n'"
      ]
     },
     "metadata": {},
     "output_type": "display_data"
    },
    {
     "name": "stdout",
     "output_type": "stream",
     "text": [
      "Switch Lanes (feat. The Game)\n",
      "------\n",
      "<class 'bs4.element.Tag'>\n",
      "----------\n",
      "[Verse 1: Game & Tyga]\n",
      "[Game:]\n",
      "Fuck a nigga up, louie belt match the chucks\n",
      "I'm in the club with raw nigga, 10 racks a tub\n",
      "Back it up like a u-haul, rake ass is up\n",
      "Spades in my ice bucket, rub that for luck\n",
      "Racks in my cargos, Audemar stupid\n",
      "They say she in love with me, stay away from cupid\n",
      "The Panamera's sick, Lupus\n",
      "T-Rawwwww show them how we do it\n",
      "[Tyga:]\n",
      "Swiss signs do it, my new bitch\n",
      "A nudist, peace like a buddhist\n",
      "Cooler than cool-whip, get brain don't be stupid\n",
      "Faded like boozy, cut like a crew neck\n",
      "Arm out the window, another check, another rolex\n",
      "Mo' less, the moet, the mo' sex, I must say\n",
      "I bought her the P Jet, more than a piss test\n",
      "So I wake up, I'm fucked up, my ex tryna' make up\n",
      "[Game:]\n",
      "Wake up, telling these bitches to get their cake up\n",
      "Wake Up, shooting my babies all on her make up\n",
      "I'm running through all these hoes, Brandon Jacobs\n",
      "Lambo doors up, sitting just like her legs\n",
      "Eat it off from the club, rather fuck hoes instead\n",
      "--------------------\n",
      "<class 'bs4.element.NavigableString'>\n"
     ]
    },
    {
     "data": {
      "text/plain": [
       "'\\n'"
      ]
     },
     "metadata": {},
     "output_type": "display_data"
    },
    {
     "name": "stdout",
     "output_type": "stream",
     "text": [
      "Switch Lanes (feat. The Game)\n",
      "------\n",
      "<class 'bs4.element.Tag'>\n",
      "----------\n",
      "[Hook]\n",
      "--------------------\n",
      "<class 'bs4.element.NavigableString'>\n"
     ]
    },
    {
     "data": {
      "text/plain": [
       "'\\n'"
      ]
     },
     "metadata": {},
     "output_type": "display_data"
    },
    {
     "name": "stdout",
     "output_type": "stream",
     "text": [
      "Switch Lanes (feat. The Game)\n",
      "------\n",
      "<class 'bs4.element.Tag'>\n",
      "----------\n",
      "[Verse 2: Tyga & Game]\n",
      "[Tyga:]\n",
      "Never tell a bitch I love her\n",
      "Money talk Chris Tucker\n",
      "Got a chauffeur, and a driver\n",
      "I don't lease it, I'm a buy it\n",
      "I'll be on the broke diet\n",
      "You ain't eating but you biting my style\n",
      "Motherfucking strike, light-lightening\n",
      "T-Carti, my bitch like Bulgari\n",
      "I walk in the spot, all the bitches bogart me\n",
      "Spent 30 racks, I'm a make it back tomorrow\n",
      "Pull up with a big titty bitch like Toccara\n",
      "[Game:]\n",
      "You ain't never seen a rari, look like a safari\n",
      "Tyga ridin' shotgun, snake band carti\n",
      "Air, I'm in them like airs\n",
      "2500 nigga call them Nikes rare\n",
      "See them niggas hating, but I don't really care\n",
      "Gold bottles coming, tell them bitches light flares\n",
      "Snow on my wirst call that rollie big bear\n",
      "Nigga see it in the light though (woo!) Rick Flair\n",
      "--------------------\n",
      "<class 'bs4.element.NavigableString'>\n"
     ]
    },
    {
     "data": {
      "text/plain": [
       "'\\n'"
      ]
     },
     "metadata": {},
     "output_type": "display_data"
    },
    {
     "name": "stdout",
     "output_type": "stream",
     "text": [
      "Switch Lanes (feat. The Game)\n",
      "------\n",
      "<class 'bs4.element.Tag'>\n",
      "----------\n",
      "[Hook]\n",
      "--------------------\n",
      "<class 'bs4.element.NavigableString'>\n"
     ]
    },
    {
     "data": {
      "text/plain": [
       "'\\n'"
      ]
     },
     "metadata": {},
     "output_type": "display_data"
    },
    {
     "name": "stdout",
     "output_type": "stream",
     "text": [
      "Switch Lanes (feat. The Game)\n",
      "------\n",
      "<class 'bs4.element.Tag'>\n",
      "----------\n",
      "[Verse 3: Game]\n",
      "Pull up at the barber shop, chop off the top of the Phantom\n",
      "Bitches screaming A, we ain't nowhere near Atlanta\n",
      "Maybe she a rockstar, maybe she a sinner\n",
      "Fucking with them lottery boys, now she a winner\n",
      "I'm all in that Virginia, I mean that vagina\n",
      "Get lost in that pussy, nigga you will never find her\n",
      "Eat it like lasagna, eat it like E-Honda\n",
      "Shout out my nigga Breezy, and beat it like Rihanna\n",
      "--------------------\n",
      "<class 'bs4.element.NavigableString'>\n"
     ]
    },
    {
     "data": {
      "text/plain": [
       "'\\n'"
      ]
     },
     "metadata": {},
     "output_type": "display_data"
    },
    {
     "name": "stdout",
     "output_type": "stream",
     "text": [
      "Switch Lanes (feat. The Game)\n",
      "------\n",
      "<class 'bs4.element.Tag'>\n",
      "----------\n",
      "[Hook]\n",
      "--------------------\n",
      "<class 'bs4.element.NavigableString'>\n"
     ]
    },
    {
     "data": {
      "text/plain": [
       "'\\n'"
      ]
     },
     "metadata": {},
     "output_type": "display_data"
    },
    {
     "name": "stdout",
     "output_type": "stream",
     "text": [
      "T-Raww\n",
      "------\n",
      "<class 'bs4.element.Tag'>\n",
      "----------\n",
      "[Hook - Tyga:]\n",
      "All day long\n",
      "Do it like Tony\n",
      "Fuck her friend\n",
      "Then I pass her to the big homie\n",
      "Got a sign on my dick\n",
      "[Chorus]\n",
      "T-raww, T-raww, T-raww, T-raww\n",
      "I don’t give a fuck at all\n",
      "T-raww, T-raww, T-raww, T-raww\n",
      "I don’t give a fuck at all\n",
      "--------------------\n",
      "<class 'bs4.element.NavigableString'>\n"
     ]
    },
    {
     "data": {
      "text/plain": [
       "'\\n'"
      ]
     },
     "metadata": {},
     "output_type": "display_data"
    },
    {
     "name": "stdout",
     "output_type": "stream",
     "text": [
      "T-Raww\n",
      "------\n",
      "<class 'bs4.element.Tag'>\n",
      "----------\n",
      "[Verse 1]\n",
      "Last King, Golds on My colar bone fresh\n",
      "Got that immortal technique flow\n",
      "Tech N9ne’s, tech decks\n",
      "Finger boards flip a bitch\n",
      "Thailand pick a bitch\n",
      "Its my land I take a shit anywere, skat and piss\n",
      "Lazereth king of the the snapback habitat\n",
      "Flashback..flash bangs leave you fucken trapped\n",
      "Leave you face swoll leave a cabbage pach punching bag\n",
      "Doctor Seuss niggas you’s a pussy cat in a hat\n",
      "Rolling that papers like wiz papers\n",
      "Cash takers put you in a cast cuz your pocket’s breaking\n",
      "The heart breaker, fuck her once never date her\n",
      "The Money chaser, no chase fuck a savings\n",
      "I got that ready, jelly, spread it to all my niggas\n",
      "So they spend it spend it like ring a round the rosie\n",
      "Okie dokey got a bad Spanish bitch like Kobe\n",
      "The most low key\n",
      "Nigga you don’t know me\n",
      "I'm…..\n",
      "--------------------\n",
      "<class 'bs4.element.NavigableString'>\n"
     ]
    },
    {
     "data": {
      "text/plain": [
       "'\\n'"
      ]
     },
     "metadata": {},
     "output_type": "display_data"
    },
    {
     "name": "stdout",
     "output_type": "stream",
     "text": [
      "T-Raww\n",
      "------\n",
      "<class 'bs4.element.Tag'>\n",
      "----------\n",
      "[Chorus]\n",
      "T-raww, T-raww, T-raww, T-raww\n",
      "I don’t give a fuck at all\n",
      "T-rawww, T-rawww, T-rawww, T-rawww\n",
      "I don’t give a fuck at all\n",
      "--------------------\n",
      "<class 'bs4.element.NavigableString'>\n"
     ]
    },
    {
     "data": {
      "text/plain": [
       "'\\n'"
      ]
     },
     "metadata": {},
     "output_type": "display_data"
    },
    {
     "name": "stdout",
     "output_type": "stream",
     "text": [
      "T-Raww\n",
      "------\n",
      "<class 'bs4.element.Tag'>\n",
      "----------\n",
      "[Verse 2]\n",
      "Like Cam Newton I’m number 1\n",
      "Hand picked my hand guns\n",
      "Ima cowboy like marion\n",
      "Barber cut your hair for fun\n",
      "02 I’m on one\n",
      "105 to Compton\n",
      "YG just hit me said these bitches got these tatts done\n",
      "With my name on em\n",
      "That’s a damn shame\n",
      "Cuz I changed homie\n",
      "I changed my damn name\n",
      "To T-raw, don’t look at me\n",
      "Get chopped like butcher meat\n",
      "Gold chains like Mr. T\n",
      "Your girl face in my toilet seat (haha)\n",
      "My niggas they be trippin\n",
      "Yo shit weak but boi you ain't different\n",
      "My show sold your show ?\n",
      "Ya’ll mini me’s, I’m prolific\n",
      "I progress, no stress\n",
      "More sex she gon give it\n",
      "No Robin Gibbons\n",
      "I fucked that hoe\n",
      "Nas fucked that hoe\n",
      "Sleeping on me don’t you ever get to comfortable\n",
      "Young Money...\n",
      "Last King...\n",
      "When you see me coming call me by new name\n",
      "--------------------\n",
      "<class 'bs4.element.NavigableString'>\n"
     ]
    },
    {
     "data": {
      "text/plain": [
       "'\\n'"
      ]
     },
     "metadata": {},
     "output_type": "display_data"
    },
    {
     "name": "stdout",
     "output_type": "stream",
     "text": [
      "<class 'bs4.element.NavigableString'>\n"
     ]
    },
    {
     "data": {
      "text/plain": [
       "'\\n'"
      ]
     },
     "metadata": {},
     "output_type": "display_data"
    },
    {
     "name": "stdout",
     "output_type": "stream",
     "text": [
      "Tatted Like A Cholo\n",
      "------\n",
      "<class 'bs4.element.Tag'>\n",
      "----------\n",
      "[Tyga laughs]\n",
      "Tyga.\n",
      "GED.\n",
      "Tatted up.\n",
      "--------------------\n",
      "<class 'bs4.element.NavigableString'>\n"
     ]
    },
    {
     "data": {
      "text/plain": [
       "'\\n'"
      ]
     },
     "metadata": {},
     "output_type": "display_data"
    },
    {
     "name": "stdout",
     "output_type": "stream",
     "text": [
      "<class 'bs4.element.NavigableString'>\n"
     ]
    },
    {
     "data": {
      "text/plain": [
       "'\\n'"
      ]
     },
     "metadata": {},
     "output_type": "display_data"
    },
    {
     "name": "stdout",
     "output_type": "stream",
     "text": [
      "Tatted Like A Cholo\n",
      "------\n",
      "<class 'bs4.element.Tag'>\n",
      "----------\n",
      "[Chorus:]\n",
      "Tatted like a cholo\n",
      "Nigga' my neck\n",
      "Tatted up\n",
      "Yeah my face\n",
      "Tatted up\n",
      "Yeah my chest\n",
      "Tatted up\n",
      "Uh uh\n",
      "Tatted like a cholo\n",
      "Yeah my neck\n",
      "Tatted up\n",
      "That's my face\n",
      "Tatted up\n",
      "That's my chest\n",
      "Tatted up\n",
      "Uh uh\n",
      "Tatted like a cholo\n",
      "--------------------\n",
      "<class 'bs4.element.NavigableString'>\n"
     ]
    },
    {
     "data": {
      "text/plain": [
       "'\\n'"
      ]
     },
     "metadata": {},
     "output_type": "display_data"
    },
    {
     "name": "stdout",
     "output_type": "stream",
     "text": [
      "<class 'bs4.element.NavigableString'>\n"
     ]
    },
    {
     "data": {
      "text/plain": [
       "'\\n'"
      ]
     },
     "metadata": {},
     "output_type": "display_data"
    },
    {
     "name": "stdout",
     "output_type": "stream",
     "text": [
      "Tatted Like A Cholo\n",
      "------\n",
      "<class 'bs4.element.Tag'>\n",
      "----------\n",
      "[Chorus:]\n",
      "Tatted like a cholo\n",
      "Nigga' my neck\n",
      "Tatted up\n",
      "Yeah my face\n",
      "Tatted up\n",
      "Yeah my chest\n",
      "Tatted up\n",
      "Uh uh\n",
      "Tatted like a cholo\n",
      "Yeah my neck\n",
      "Tatted up\n",
      "That's my face\n",
      "Tatted up\n",
      "That's my chest\n",
      "Tatted up\n",
      "Uh uh\n",
      "Tatted like a cholo\n",
      "--------------------\n",
      "<class 'bs4.element.NavigableString'>\n"
     ]
    },
    {
     "data": {
      "text/plain": [
       "'\\n'"
      ]
     },
     "metadata": {},
     "output_type": "display_data"
    },
    {
     "name": "stdout",
     "output_type": "stream",
     "text": [
      "<class 'bs4.element.NavigableString'>\n"
     ]
    },
    {
     "data": {
      "text/plain": [
       "'\\n'"
      ]
     },
     "metadata": {},
     "output_type": "display_data"
    },
    {
     "name": "stdout",
     "output_type": "stream",
     "text": [
      "The Letter (feat. Esty)\n",
      "------\n",
      "<class 'bs4.element.Tag'>\n",
      "----------\n",
      "Tell me when to stop... [x4]\n",
      "Tell me when to stop... [x4]\n",
      "--------------------\n",
      "<class 'bs4.element.NavigableString'>\n"
     ]
    },
    {
     "data": {
      "text/plain": [
       "'\\n'"
      ]
     },
     "metadata": {},
     "output_type": "display_data"
    },
    {
     "name": "stdout",
     "output_type": "stream",
     "text": [
      "The Letter (feat. Esty)\n",
      "------\n",
      "<class 'bs4.element.Tag'>\n",
      "----------\n",
      "[Bridge: Esty]\n",
      "In the haze we lose, conscious of it all\n",
      "In the haze we fall, could of had it all\n",
      "In the haze we lose, conscious of it all\n",
      "In the haze we lose, conscious of it all\n",
      "--------------------\n",
      "<class 'bs4.element.NavigableString'>\n"
     ]
    },
    {
     "data": {
      "text/plain": [
       "'\\n'"
      ]
     },
     "metadata": {},
     "output_type": "display_data"
    },
    {
     "name": "stdout",
     "output_type": "stream",
     "text": [
      "The Letter (feat. Esty)\n",
      "------\n",
      "<class 'bs4.element.Tag'>\n",
      "----------\n",
      "[Verse 1: Esty]\n",
      "To be honest, I know now\n",
      "You don't just see, it's not the way you planned it in your mind\n",
      "I know you do, I know you do\n",
      "In all honesty there's a time and place you could let me know I'll listen,\n",
      "I know what to do, you know what to say, tell me what it is you feel\n",
      "Don't be shy, don't be shy\n",
      "--------------------\n",
      "<class 'bs4.element.NavigableString'>\n"
     ]
    },
    {
     "data": {
      "text/plain": [
       "'\\n'"
      ]
     },
     "metadata": {},
     "output_type": "display_data"
    },
    {
     "name": "stdout",
     "output_type": "stream",
     "text": [
      "The Letter (feat. Esty)\n",
      "------\n",
      "<class 'bs4.element.Tag'>\n",
      "----------\n",
      "[Hook: Esty]\n",
      "I'm testing you like you testing me\n",
      "I'm testing you while you testing me, I know\n",
      "I'm testing you like you testing me (Oooh I)\n",
      "I'm testing you like you testing me,\n",
      "I know (I know, I know)\n",
      "I know (I know)\n",
      "I know (I know)\n",
      "I know it and you know it that I know\n",
      "I know (I know)\n",
      "--------------------\n",
      "<class 'bs4.element.NavigableString'>\n"
     ]
    },
    {
     "data": {
      "text/plain": [
       "'\\n'"
      ]
     },
     "metadata": {},
     "output_type": "display_data"
    },
    {
     "name": "stdout",
     "output_type": "stream",
     "text": [
      "The Letter (feat. Esty)\n",
      "------\n",
      "<class 'bs4.element.Tag'>\n",
      "----------\n",
      "[Verse 2: Tyga]\n",
      "Uh, watching the stars\n",
      "On a yellow brick road like the Wizard of Oz\n",
      "Ain't no workin titles for this little thing of ours\n",
      "I tell you the game like I'm Robert Steiner\n",
      "Put roses on my neck, rose petal massages\n",
      "I kiss you down low but I let you decide\n",
      "I get behind you like you're making dirty wine\n",
      "Get you a glass of muscato, that's yo favorite wine\n",
      "And I... know\n",
      "Can't hold yo prop cause it's yours\n",
      "Like Versace models you'll be dipped in leather\n",
      "You my bread and butter, let's toast\n",
      "And I... hope\n",
      "Like Shepard's Fairey we can fly canaries\n",
      "Obey my presence, you are a blessing\n",
      "I am a reverend so start confessing\n",
      "--------------------\n",
      "<class 'bs4.element.NavigableString'>\n"
     ]
    },
    {
     "data": {
      "text/plain": [
       "'\\n'"
      ]
     },
     "metadata": {},
     "output_type": "display_data"
    },
    {
     "name": "stdout",
     "output_type": "stream",
     "text": [
      "The Letter (feat. Esty)\n",
      "------\n",
      "<class 'bs4.element.Tag'>\n",
      "----------\n",
      "[Bridge: Esty]\n",
      "In the haze we lose, conscious of it all\n",
      "In the haze we fall, could of had it all\n",
      "In the haze we lose, conscious of it all\n",
      "In the haze we lose, could of had it all\n",
      "--------------------\n",
      "<class 'bs4.element.NavigableString'>\n"
     ]
    },
    {
     "data": {
      "text/plain": [
       "'\\n'"
      ]
     },
     "metadata": {},
     "output_type": "display_data"
    },
    {
     "name": "stdout",
     "output_type": "stream",
     "text": [
      "The Letter (feat. Esty)\n",
      "------\n",
      "<class 'bs4.element.Tag'>\n",
      "----------\n",
      "[Hook: Esty]\n",
      "I'm testing you like you testing me\n",
      "I'm testing you while you testing me, I know\n",
      "I'm testing you like you testing me (Oooh I)\n",
      "I'm testing you like you testing me,\n",
      "I know (I know, I know)\n",
      "I know (I know)\n",
      "I know (I know)\n",
      "I know it and you know it that I know\n",
      "I know (I know)\n",
      "--------------------\n",
      "<class 'bs4.element.NavigableString'>\n"
     ]
    },
    {
     "data": {
      "text/plain": [
       "'\\n'"
      ]
     },
     "metadata": {},
     "output_type": "display_data"
    },
    {
     "name": "stdout",
     "output_type": "stream",
     "text": [
      "The Motto (Remix) (feat. Lil Wayne & Tyga)\n",
      "------\n",
      "<class 'bs4.element.Tag'>\n",
      "----------\n",
      "[Drake:]\n",
      "I’m the fuckin man, you don’t get it do ya?\n",
      "Type of money everybody acting like they knew ya\n",
      "Go Uptown, New York City Biiitch\n",
      "Some Spanish girls love me like I’m Aventura\n",
      "Tell Uncle Luke I’m out in Miami too\n",
      "Clubbing hard, Fuckin’ women ain’t much to do\n",
      "--------------------\n",
      "<class 'bs4.element.NavigableString'>\n"
     ]
    },
    {
     "data": {
      "text/plain": [
       "'\\n'"
      ]
     },
     "metadata": {},
     "output_type": "display_data"
    },
    {
     "name": "stdout",
     "output_type": "stream",
     "text": [
      "<class 'bs4.element.NavigableString'>\n"
     ]
    },
    {
     "data": {
      "text/plain": [
       "'\\n'"
      ]
     },
     "metadata": {},
     "output_type": "display_data"
    },
    {
     "name": "stdout",
     "output_type": "stream",
     "text": [
      "The Motto (Remix) (feat. Lil Wayne & Tyga)\n",
      "------\n",
      "<class 'bs4.element.Tag'>\n",
      "----------\n",
      "[Drake - Chorus:]\n",
      "Now she want a photo\n",
      "You already know though\n",
      "You only live once: that’s the motto nigga YOLO and\n",
      "We bout it every day, every day, every day\n",
      "Like we sittin’ on the bench, nigga we don’t really play\n",
      "Every day, every day, fuck what anybody say\n",
      "Can’t see 'em 'cause the money in the way\n",
      "Real nigga what's up?\n",
      "--------------------\n",
      "<class 'bs4.element.NavigableString'>\n"
     ]
    },
    {
     "data": {
      "text/plain": [
       "'\\n'"
      ]
     },
     "metadata": {},
     "output_type": "display_data"
    },
    {
     "name": "stdout",
     "output_type": "stream",
     "text": [
      "The Motto (Remix) (feat. Lil Wayne & Tyga)\n",
      "------\n",
      "<class 'bs4.element.Tag'>\n",
      "----------\n",
      "[Lil Wayne:]\n",
      "One, time fuck one time\n",
      "I’m calling niggas out like the umpire\n",
      "Seven, grams in the blunt\n",
      "Almost drowned in her pussy so I swam to her butt\n",
      "It’s Eastside, we in this bitch\n",
      "Wish a nigga would like a tree in this bitch\n",
      "And if a leaf fall put some weed in that bitch\n",
      "That’s my MO add a B to that shit\n",
      "I’m fucked up, torn down\n",
      "I’m twisted: door knob\n",
      "Talk stupid, off with your head!\n",
      "Nigga money talks and Mr Ed! Yea!\n",
      "I’m so Young Money got a drum on the gun\n",
      "Energizer bunny\n",
      "Funny how honey ain’t sweet like sugar\n",
      "Ain’t shit sweet niggas on the street like hookers\n",
      "I tongue kiss her other tongue\n",
      "Skeet skeet skeet: water gun\n",
      "Oh my God, Becky, look at her butt! Tunechi\n",
      "--------------------\n",
      "<class 'bs4.element.NavigableString'>\n"
     ]
    },
    {
     "data": {
      "text/plain": [
       "'\\n'"
      ]
     },
     "metadata": {},
     "output_type": "display_data"
    },
    {
     "name": "stdout",
     "output_type": "stream",
     "text": [
      "The Motto (Remix) (feat. Lil Wayne & Tyga)\n",
      "------\n",
      "<class 'bs4.element.Tag'>\n",
      "----------\n",
      "[Drake - Chorus:]\n",
      "Now she want a photo\n",
      "You already know though\n",
      "You only live once: that’s the motto nigga YOLO and\n",
      "We bout it every day, every day, every day\n",
      "Like we sittin on the bench, nigga we don’t really play\n",
      "Every day, every day, fuck what anybody say\n",
      "Can’t see 'em 'cause the money in the way\n",
      "Real nigga what's up what's up what's up\n",
      "--------------------\n",
      "<class 'bs4.element.NavigableString'>\n"
     ]
    },
    {
     "data": {
      "text/plain": [
       "'\\n'"
      ]
     },
     "metadata": {},
     "output_type": "display_data"
    },
    {
     "name": "stdout",
     "output_type": "stream",
     "text": [
      "The Motto (Remix) (feat. Lil Wayne & Tyga)\n",
      "------\n",
      "<class 'bs4.element.Tag'>\n",
      "----------\n",
      "[Tyga:]\n",
      "T Raw, skinny nigga big balls\n",
      "Fuck around get dragged, Ru Paul\n",
      "You a funny little nigga, Duval\n",
      "Out of this world, Total Recall\n",
      "Call a bitch raw dick let her see-saw\n",
      "Sorta like a donkey like an ass nigga he-haw\n",
      "Ridin round in the 'rari with the top off\n",
      "While you in the window man I'm probably on my next car\n",
      "Ay! Mighty duck with the ice on\n",
      "Real L.A. nigga trucks with the gun drawn\n",
      "Drawin on your face you a clown jack in the box\n",
      "Boy that's your bop she my new poom poom star\n",
      "Stars in the back and my homies they don't act\n",
      "Actin brand new fuck her never call her back\n",
      "Matt Forte got the bitch running back\n",
      "Man that's the motto you ain't know it's like that?\n",
      "--------------------\n",
      "<class 'bs4.element.NavigableString'>\n"
     ]
    },
    {
     "data": {
      "text/plain": [
       "'\\n'"
      ]
     },
     "metadata": {},
     "output_type": "display_data"
    },
    {
     "name": "stdout",
     "output_type": "stream",
     "text": [
      "The Motto (Remix) (feat. Lil Wayne & Tyga)\n",
      "------\n",
      "<class 'bs4.element.Tag'>\n",
      "----------\n",
      "[Drake - Chorus:]\n",
      "Now she want a photo\n",
      "You already know though\n",
      "You only live once: that’s the motto nigga YOLO and\n",
      "We bout it every day, every day, every day\n",
      "Like we sittin on the bench, nigga we don’t really play\n",
      "Every day, every day, fuck what anybody say\n",
      "Can’t see 'em 'cause the money in the way\n",
      "Real nigga what's up what's up what's up\n",
      "--------------------\n",
      "<class 'bs4.element.NavigableString'>\n"
     ]
    },
    {
     "data": {
      "text/plain": [
       "'\\n'"
      ]
     },
     "metadata": {},
     "output_type": "display_data"
    },
    {
     "name": "stdout",
     "output_type": "stream",
     "text": [
      "<class 'bs4.element.NavigableString'>\n"
     ]
    },
    {
     "data": {
      "text/plain": [
       "'\\n'"
      ]
     },
     "metadata": {},
     "output_type": "display_data"
    },
    {
     "name": "stdout",
     "output_type": "stream",
     "text": [
      "<class 'bs4.element.NavigableString'>\n"
     ]
    },
    {
     "data": {
      "text/plain": [
       "'\\n'"
      ]
     },
     "metadata": {},
     "output_type": "display_data"
    },
    {
     "name": "stdout",
     "output_type": "stream",
     "text": [
      "The Potential\n",
      "------\n",
      "<class 'bs4.element.Tag'>\n",
      "----------\n",
      "[\"The potential\" is repeated x5 while Tyga speaks:]\n",
      "I remember this one time though when i was like 11, and\n",
      "Um i use to work with this one producer out here in LA\n",
      "And he use to make me write shit over and over again\n",
      "And I would be like damn. Like I use to feel like not\n",
      "Good enough, like my bars wasn't ready. But it wasn't\n",
      "That, they just wanted the potential that I had. You\n",
      "Know what I'm sayin'? So they just like kept making me\n",
      "Write it over and over and shit, you feel me?\n",
      "--------------------\n",
      "<class 'bs4.element.NavigableString'>\n"
     ]
    },
    {
     "data": {
      "text/plain": [
       "'\\n'"
      ]
     },
     "metadata": {},
     "output_type": "display_data"
    },
    {
     "name": "stdout",
     "output_type": "stream",
     "text": [
      "<class 'bs4.element.NavigableString'>\n"
     ]
    },
    {
     "data": {
      "text/plain": [
       "'\\n'"
      ]
     },
     "metadata": {},
     "output_type": "display_data"
    },
    {
     "name": "stdout",
     "output_type": "stream",
     "text": [
      "<class 'bs4.element.NavigableString'>\n"
     ]
    },
    {
     "data": {
      "text/plain": [
       "'\\n'"
      ]
     },
     "metadata": {},
     "output_type": "display_data"
    },
    {
     "name": "stdout",
     "output_type": "stream",
     "text": [
      "<class 'bs4.element.NavigableString'>\n"
     ]
    },
    {
     "data": {
      "text/plain": [
       "'\\n'"
      ]
     },
     "metadata": {},
     "output_type": "display_data"
    },
    {
     "name": "stdout",
     "output_type": "stream",
     "text": [
      "This Is Like (feat. Robin Thicke)\n",
      "------\n",
      "<class 'bs4.element.Tag'>\n",
      "----------\n",
      "[Intro: Robin Thicke]\n",
      "All white linen\n",
      "Riding till the sun comes down\n",
      "See that we living like woah-oh-oh\n",
      "--------------------\n",
      "<class 'bs4.element.NavigableString'>\n"
     ]
    },
    {
     "data": {
      "text/plain": [
       "'\\n'"
      ]
     },
     "metadata": {},
     "output_type": "display_data"
    },
    {
     "name": "stdout",
     "output_type": "stream",
     "text": [
      "This Is Like (feat. Robin Thicke)\n",
      "------\n",
      "<class 'bs4.element.Tag'>\n",
      "----------\n",
      "[Hook: Robin Thicke (x2)]\n",
      "This is like riding through the city\n",
      "With the ocean in the background\n",
      "This is like flying in Paris\n",
      "What your girl say now\n",
      "Party down\n",
      "--------------------\n",
      "<class 'bs4.element.NavigableString'>\n"
     ]
    },
    {
     "data": {
      "text/plain": [
       "'\\n'"
      ]
     },
     "metadata": {},
     "output_type": "display_data"
    },
    {
     "name": "stdout",
     "output_type": "stream",
     "text": [
      "This Is Like (feat. Robin Thicke)\n",
      "------\n",
      "<class 'bs4.element.Tag'>\n",
      "----------\n",
      "[Verse 1: Tyga]\n",
      "Uhh, B-side, baby parlay\n",
      "Waterfront top back, coupe with a fade\n",
      "Tonight is ours, paper city, red ruby\n",
      "You looking fine, as beautiful as one could ever be\n",
      "Tires spinning, fast cars, fast women\n",
      "And I just wanna get a night with a happy ending\n",
      "The yacht life, hear the splash, so much class\n",
      "Lift your glass, make a toast, we around the map\n",
      "His and hers, Hermes bags, left the tag\n",
      "All real love shit, with a scrub\n",
      "Chillin’ on top, get away, just a flight\n",
      "Living life, this is what it’s like\n",
      "--------------------\n",
      "<class 'bs4.element.NavigableString'>\n"
     ]
    },
    {
     "data": {
      "text/plain": [
       "'\\n'"
      ]
     },
     "metadata": {},
     "output_type": "display_data"
    },
    {
     "name": "stdout",
     "output_type": "stream",
     "text": [
      "This Is Like (feat. Robin Thicke)\n",
      "------\n",
      "<class 'bs4.element.Tag'>\n",
      "----------\n",
      "[Hook: Robin Thicke (x2)]\n",
      "This is like riding through the city\n",
      "With the ocean in the background\n",
      "This is like flying in Paris\n",
      "What your girl say now\n",
      "Party down\n",
      "--------------------\n",
      "<class 'bs4.element.NavigableString'>\n"
     ]
    },
    {
     "data": {
      "text/plain": [
       "'\\n'"
      ]
     },
     "metadata": {},
     "output_type": "display_data"
    },
    {
     "name": "stdout",
     "output_type": "stream",
     "text": [
      "This Is Like (feat. Robin Thicke)\n",
      "------\n",
      "<class 'bs4.element.Tag'>\n",
      "----------\n",
      "[Verse 2: Tyga]\n",
      "Uhh, she’s so relentless, body of a Goddess\n",
      "Gotta take her higher\n",
      "Rain through my window pane, she the fire to my flame\n",
      "Good aim, put your heart where the sky is\n",
      "It’s cold down there but it’s lonely up here\n",
      "The world’s so cold you gonna need a Montclair\n",
      "Don’t mind stare, when I look at you it’s all clear\n",
      "Tryna keep it together and ball like Rothstein\n",
      "4-Seas, car clean, Harleys\n",
      "I’m from the gold-era, my jewels is Gili\n",
      "A party ain’t a party if it ain’t all night\n",
      "Living life, this is what it’s like\n",
      "--------------------\n",
      "<class 'bs4.element.NavigableString'>\n"
     ]
    },
    {
     "data": {
      "text/plain": [
       "'\\n'"
      ]
     },
     "metadata": {},
     "output_type": "display_data"
    },
    {
     "name": "stdout",
     "output_type": "stream",
     "text": [
      "This Is Like (feat. Robin Thicke)\n",
      "------\n",
      "<class 'bs4.element.Tag'>\n",
      "----------\n",
      "[Hook: Robin Thicke (x2)]\n",
      "This is like riding through the city\n",
      "With the ocean in the background\n",
      "This is like flying in Paris\n",
      "What your girl say now\n",
      "Party down\n",
      "--------------------\n",
      "<class 'bs4.element.NavigableString'>\n"
     ]
    },
    {
     "data": {
      "text/plain": [
       "'\\n'"
      ]
     },
     "metadata": {},
     "output_type": "display_data"
    },
    {
     "name": "stdout",
     "output_type": "stream",
     "text": [
      "This Is Like (feat. Robin Thicke)\n",
      "------\n",
      "<class 'bs4.element.Tag'>\n",
      "----------\n",
      "[Bridge: Robin Thicke]\n",
      "Like the film that you’ve never seen before\n",
      "Yea this is like a penthouse, served at the top floor\n",
      "This is like love, that you can never get\n",
      "From nobody else, woah-oh-oh\n",
      "This is like woah…\n",
      "This is like woah…\n",
      "This is like woah…\n",
      "This is like…\n",
      "--------------------\n",
      "<class 'bs4.element.NavigableString'>\n"
     ]
    },
    {
     "data": {
      "text/plain": [
       "'\\n'"
      ]
     },
     "metadata": {},
     "output_type": "display_data"
    },
    {
     "name": "stdout",
     "output_type": "stream",
     "text": [
      "This Is Like (feat. Robin Thicke)\n",
      "------\n",
      "<class 'bs4.element.Tag'>\n",
      "----------\n",
      "[Verse 3: Tyga]\n",
      "All John Blaze, collar shirts, school days\n",
      "On stage, a hundred thou, two days\n",
      "Looking down on top from where the stars stay\n",
      "Reservoir and back guards in the entry way\n",
      "I’m young and wild and I charm our old mother\n",
      "Invited your young daughter, I’m known across waters\n",
      "Horses in the stable, Ferrari ‘cause I’m able\n",
      "Whole life I’ve been waiting\n",
      "--------------------\n",
      "<class 'bs4.element.NavigableString'>\n"
     ]
    },
    {
     "data": {
      "text/plain": [
       "'\\n'"
      ]
     },
     "metadata": {},
     "output_type": "display_data"
    },
    {
     "name": "stdout",
     "output_type": "stream",
     "text": [
      "This Is Like (feat. Robin Thicke)\n",
      "------\n",
      "<class 'bs4.element.Tag'>\n",
      "----------\n",
      "[Hook: Robin Thicke (x2)]\n",
      "This is like riding through the city\n",
      "With the ocean in the background\n",
      "This is like flying in Paris\n",
      "What your girl say now\n",
      "Party down\n",
      "--------------------\n",
      "<class 'bs4.element.NavigableString'>\n"
     ]
    },
    {
     "data": {
      "text/plain": [
       "'\\n'"
      ]
     },
     "metadata": {},
     "output_type": "display_data"
    },
    {
     "name": "stdout",
     "output_type": "stream",
     "text": [
      "This Is Like (feat. Robin Thicke)\n",
      "------\n",
      "<class 'bs4.element.Tag'>\n",
      "----------\n",
      "[Outro: Robin Thicke]\n",
      "This is like riding…\n",
      "This is like flying…\n",
      "This is like love…\n",
      "--------------------\n",
      "<class 'bs4.element.NavigableString'>\n"
     ]
    },
    {
     "data": {
      "text/plain": [
       "'\\n'"
      ]
     },
     "metadata": {},
     "output_type": "display_data"
    },
    {
     "name": "stdout",
     "output_type": "stream",
     "text": [
      "Throw It Up\n",
      "------\n",
      "<class 'bs4.element.Tag'>\n",
      "----------\n",
      "[Pre-Hook:]\n",
      "Got 100 bottles on ice\n",
      "I got all my bitches in the club tonight aye\n",
      "Then she living with me tonight\n",
      "If it's a 187 all my niggas gon ride it t\n",
      "--------------------\n",
      "<class 'bs4.element.NavigableString'>\n"
     ]
    },
    {
     "data": {
      "text/plain": [
       "'\\n'"
      ]
     },
     "metadata": {},
     "output_type": "display_data"
    },
    {
     "name": "stdout",
     "output_type": "stream",
     "text": [
      "Throw It Up\n",
      "------\n",
      "<class 'bs4.element.Tag'>\n",
      "----------\n",
      "[Hook:]\n",
      "Throw it up (Throw it up)\n",
      "Throw it up (Throw it up)\n",
      "Got my whole hood with me and we trippin\n",
      "We about to throw it up (Throw it up)\n",
      "Throw it up (Throw it up)\n",
      "Got all my bitches in the VIP\n",
      "Throw it up\n",
      "--------------------\n",
      "<class 'bs4.element.NavigableString'>\n"
     ]
    },
    {
     "data": {
      "text/plain": [
       "'\\n'"
      ]
     },
     "metadata": {},
     "output_type": "display_data"
    },
    {
     "name": "stdout",
     "output_type": "stream",
     "text": [
      "Throw It Up\n",
      "------\n",
      "<class 'bs4.element.Tag'>\n",
      "----------\n",
      "[Verse 1:]\n",
      "She brought one wild nigga\n",
      "I can't fuck with no pussy ass niggas\n",
      "Could've been a pimp, my fuckin gorilla\n",
      "Catch a nigga slippin but they don't want a biscuit yea\n",
      "Man you niggas hate too much\n",
      "If it ain't about money we don't give a fuck\n",
      "If it is about money I'm a need to loan some\n",
      "All I have three-some 'til that bitch come get some\n",
      "Don't trip, pistol on the hip\n",
      "I'm on some J shit, don't make a G trip\n",
      "I'm a head this bitch out if a nigga runnin dibs\n",
      "Nigga don't get killed off in this bitch ah\n",
      "Straight bangers straight banging\n",
      "Shout out to my 50 niggas straight banging\n",
      "Everybody getting money then just hanging\n",
      "And I'm leaving with my girls that I came with\n",
      "--------------------\n",
      "<class 'bs4.element.NavigableString'>\n"
     ]
    },
    {
     "data": {
      "text/plain": [
       "'\\n'"
      ]
     },
     "metadata": {},
     "output_type": "display_data"
    },
    {
     "name": "stdout",
     "output_type": "stream",
     "text": [
      "Throw It Up\n",
      "------\n",
      "<class 'bs4.element.Tag'>\n",
      "----------\n",
      "[Pre-Hook:]\n",
      "Cause I Got 100 bottles on ice\n",
      "I got all my bitches in the club tonight aye\n",
      "Then she living with me tonight\n",
      "If it's a one many something all my niggas gon ride it\n",
      "--------------------\n",
      "<class 'bs4.element.NavigableString'>\n"
     ]
    },
    {
     "data": {
      "text/plain": [
       "'\\n'"
      ]
     },
     "metadata": {},
     "output_type": "display_data"
    },
    {
     "name": "stdout",
     "output_type": "stream",
     "text": [
      "Throw It Up\n",
      "------\n",
      "<class 'bs4.element.Tag'>\n",
      "----------\n",
      "[Hook:]\n",
      "Throw it up (Throw it up)\n",
      "Throw it up (Throw it up)\n",
      "Got my whole hood with me and we trippin\n",
      "We about to throw it up (Throw it up)\n",
      "Throw it up (Throw it up)\n",
      "Got all my bitches in the VIP\n",
      "Throw it up\n",
      "--------------------\n",
      "<class 'bs4.element.NavigableString'>\n"
     ]
    },
    {
     "data": {
      "text/plain": [
       "'\\n'"
      ]
     },
     "metadata": {},
     "output_type": "display_data"
    },
    {
     "name": "stdout",
     "output_type": "stream",
     "text": [
      "Throw It Up\n",
      "------\n",
      "<class 'bs4.element.Tag'>\n",
      "----------\n",
      "[Verse 2:]\n",
      "I'm with a bad bitch switching lanes\n",
      "I don't even know her first name, last name\n",
      "Raised in the era of the dope king\n",
      "We vibe pump pump, pumpin nigga brakes\n",
      "And my daddy had a Cadillac\n",
      "And now his son got a Maybach\n",
      "When they be screamin' where the ballers at I be like right here\n",
      "She gon give me head for a LK hat yea\n",
      "So sick man, I'm fully trippin\n",
      "I put my dick in a young vixen and dismiss em\n",
      "A one hitter, a king Griffy, a Scottie Pippen\n",
      "And pass em off to the next victim\n",
      "A nigga reptile like rep gank\n",
      "Believe or not you niggas Ripley\n",
      "You niggas too J Qwan tipsy\n",
      "Til that cannon let loose leave you limping motherfucker\n",
      "--------------------\n",
      "<class 'bs4.element.NavigableString'>\n"
     ]
    },
    {
     "data": {
      "text/plain": [
       "'\\n'"
      ]
     },
     "metadata": {},
     "output_type": "display_data"
    },
    {
     "name": "stdout",
     "output_type": "stream",
     "text": [
      "Throw It Up\n",
      "------\n",
      "<class 'bs4.element.Tag'>\n",
      "----------\n",
      "[Pre-Hook:]\n",
      "Got 100 bottles on ice\n",
      "I got all my bitches in the club tonight aye\n",
      "Then she living with me tonight\n",
      "If it's a one many something all my niggas gon ride it\n",
      "--------------------\n",
      "<class 'bs4.element.NavigableString'>\n"
     ]
    },
    {
     "data": {
      "text/plain": [
       "'\\n'"
      ]
     },
     "metadata": {},
     "output_type": "display_data"
    },
    {
     "name": "stdout",
     "output_type": "stream",
     "text": [
      "Throw It Up\n",
      "------\n",
      "<class 'bs4.element.Tag'>\n",
      "----------\n",
      "[Hook:]\n",
      "Throw it up (Throw it up)\n",
      "Throw it up (Throw it up)\n",
      "Got my whole hood with me and we trippin\n",
      "We about to throw it up (Throw it up)\n",
      "Throw it up (Throw it up)\n",
      "Got all my bitches in the VIP\n",
      "Throw it up\n",
      "--------------------\n",
      "<class 'bs4.element.NavigableString'>\n"
     ]
    },
    {
     "data": {
      "text/plain": [
       "'\\n'"
      ]
     },
     "metadata": {},
     "output_type": "display_data"
    },
    {
     "name": "stdout",
     "output_type": "stream",
     "text": [
      "<class 'bs4.element.NavigableString'>\n"
     ]
    },
    {
     "data": {
      "text/plain": [
       "'\\n'"
      ]
     },
     "metadata": {},
     "output_type": "display_data"
    },
    {
     "name": "stdout",
     "output_type": "stream",
     "text": [
      "Toot It N Boot It\n",
      "------\n",
      "<class 'bs4.element.Tag'>\n",
      "----------\n",
      "Well it's that big bad banger\n",
      "See the dick is what I'm slanging\n",
      "YM entertainment\n",
      "She goin toot it cause I'm famous\n",
      "I'm a well known singer\n",
      "Every beat get strangled\n",
      "Tyga got stripes, motherfuckin Bengal\n",
      "This that stop drop and roll\n",
      "You ain't know it let me show you\n",
      "Beat it from the back bitch\n",
      "Now your nickname [?]\n",
      "Used to be my cuddy buddy\n",
      "Now we can't be friends\n",
      "Heard she got game, well\n",
      "Well it's that big bad banger\n",
      "See the dick is what I'm slanging\n",
      "YM entertainment\n",
      "She goin toot it cause I'm famous\n",
      "I'm a well known singer\n",
      "Every beat get strangled\n",
      "Tyga got stripes, motherfuckin Bengal\n",
      "This that stop drop and roll\n",
      "You ain't know it let me show you\n",
      "Beat it from the back bitch\n",
      "Now your nickname [?]\n",
      "Used to be my cuddy buddy\n",
      "Now we can't be friends\n",
      "Heard she got game\n",
      "Choo choo train, oww\n",
      "Make your toes hit the ceiling\n",
      "Let her run, house\n",
      "But my name ain't Diggy\n",
      "Old enough show me titties\n",
      "Poor bitches sayin' gimme\n",
      "I'm not a white man\n",
      "I ain't coming down no chimney\n",
      "Put my tongue in yo pop\n",
      "French kiss kiss\n",
      "Like the french do on my fry\n",
      "Ha ha, yea I got you laughin' at me\n",
      "Cause the way I make you cum is so flabbergastin'\n",
      "Spazz spasm, Mr organism\n",
      "Fuck with me guaranteed that you goin' have one\n",
      "Clap clap, Well Done, when I tap that\n",
      "Tap dance like bojangles\n",
      "In the dash yea\n",
      "Black man on the rise\n",
      "So please step aside\n",
      "You ain't seen an agent this fly\n",
      "So tootsie roll bitch\n",
      "Then I hit that butterfly\n",
      "Yea pop that, let me see that monkey\n",
      "The dick in yo mouth\n",
      "Don't be a bonehead\n",
      "Put it so deep, now she a cone head\n",
      "I say I put it so deep, now she a cone head\n",
      "--------------------\n",
      "<class 'bs4.element.NavigableString'>\n"
     ]
    },
    {
     "data": {
      "text/plain": [
       "'\\n'"
      ]
     },
     "metadata": {},
     "output_type": "display_data"
    },
    {
     "name": "stdout",
     "output_type": "stream",
     "text": [
      "<class 'bs4.element.NavigableString'>\n"
     ]
    },
    {
     "data": {
      "text/plain": [
       "'\\n'"
      ]
     },
     "metadata": {},
     "output_type": "display_data"
    },
    {
     "name": "stdout",
     "output_type": "stream",
     "text": [
      "Tyga Montana\n",
      "------\n",
      "<class 'bs4.element.Tag'>\n",
      "----------\n",
      "Tyga Montana [x3]\n",
      "Hahaha [*laughs*]\n",
      "Tyga Montana [x3]\n",
      "--------------------\n",
      "<class 'bs4.element.NavigableString'>\n"
     ]
    },
    {
     "data": {
      "text/plain": [
       "'\\n'"
      ]
     },
     "metadata": {},
     "output_type": "display_data"
    },
    {
     "name": "stdout",
     "output_type": "stream",
     "text": [
      "<class 'bs4.element.NavigableString'>\n"
     ]
    },
    {
     "data": {
      "text/plain": [
       "'\\n'"
      ]
     },
     "metadata": {},
     "output_type": "display_data"
    },
    {
     "name": "stdout",
     "output_type": "stream",
     "text": [
      "<class 'bs4.element.NavigableString'>\n"
     ]
    },
    {
     "data": {
      "text/plain": [
       "'\\n'"
      ]
     },
     "metadata": {},
     "output_type": "display_data"
    },
    {
     "name": "stdout",
     "output_type": "stream",
     "text": [
      "<class 'bs4.element.NavigableString'>\n"
     ]
    },
    {
     "data": {
      "text/plain": [
       "'\\n'"
      ]
     },
     "metadata": {},
     "output_type": "display_data"
    },
    {
     "name": "stdout",
     "output_type": "stream",
     "text": [
      "<class 'bs4.element.NavigableString'>\n"
     ]
    },
    {
     "data": {
      "text/plain": [
       "'\\n'"
      ]
     },
     "metadata": {},
     "output_type": "display_data"
    },
    {
     "name": "stdout",
     "output_type": "stream",
     "text": [
      "<class 'bs4.element.NavigableString'>\n"
     ]
    },
    {
     "data": {
      "text/plain": [
       "'\\n'"
      ]
     },
     "metadata": {},
     "output_type": "display_data"
    },
    {
     "name": "stdout",
     "output_type": "stream",
     "text": [
      "Tyga Montana\n",
      "------\n",
      "<class 'bs4.element.Tag'>\n",
      "----------\n",
      "Ass shots jeans like she painted them\n",
      "T-Raw niggas tryna favor him (well done)\n",
      "You can pay for it tho\n",
      "Last Kings; YMCMB ha...\n",
      "Let me, let me do that a little better ha... [*laughs*]\n",
      "--------------------\n",
      "<class 'bs4.element.NavigableString'>\n"
     ]
    },
    {
     "data": {
      "text/plain": [
       "'\\n'"
      ]
     },
     "metadata": {},
     "output_type": "display_data"
    },
    {
     "name": "stdout",
     "output_type": "stream",
     "text": [
      "Versace Versace\n",
      "------\n",
      "<class 'bs4.element.Tag'>\n",
      "----------\n",
      "[Intro]\n",
      "You know I love the Versace store (Haa)\n",
      "--------------------\n",
      "<class 'bs4.element.NavigableString'>\n"
     ]
    },
    {
     "data": {
      "text/plain": [
       "'\\n'"
      ]
     },
     "metadata": {},
     "output_type": "display_data"
    },
    {
     "name": "stdout",
     "output_type": "stream",
     "text": [
      "<class 'bs4.element.NavigableString'>\n"
     ]
    },
    {
     "data": {
      "text/plain": [
       "'\\n'"
      ]
     },
     "metadata": {},
     "output_type": "display_data"
    },
    {
     "name": "stdout",
     "output_type": "stream",
     "text": [
      "Versace Versace\n",
      "------\n",
      "<class 'bs4.element.Tag'>\n",
      "----------\n",
      "[Hook: Quavo]\n",
      "Versace, Versace, Versace, Versace\n",
      "Versace, Versace, Versace, Versace\n",
      "Versace, Versace Versace, Versace Versace\n",
      "Versace, Versace Versace, Versace Versace\n",
      "--------------------\n",
      "<class 'bs4.element.NavigableString'>\n"
     ]
    },
    {
     "data": {
      "text/plain": [
       "'\\n'"
      ]
     },
     "metadata": {},
     "output_type": "display_data"
    },
    {
     "name": "stdout",
     "output_type": "stream",
     "text": [
      "<class 'bs4.element.NavigableString'>\n"
     ]
    },
    {
     "data": {
      "text/plain": [
       "'\\n'"
      ]
     },
     "metadata": {},
     "output_type": "display_data"
    },
    {
     "name": "stdout",
     "output_type": "stream",
     "text": [
      "<class 'bs4.element.NavigableString'>\n"
     ]
    },
    {
     "data": {
      "text/plain": [
       "'\\n'"
      ]
     },
     "metadata": {},
     "output_type": "display_data"
    },
    {
     "name": "stdout",
     "output_type": "stream",
     "text": [
      "<class 'bs4.element.NavigableString'>\n"
     ]
    },
    {
     "data": {
      "text/plain": [
       "'\\n'"
      ]
     },
     "metadata": {},
     "output_type": "display_data"
    },
    {
     "name": "stdout",
     "output_type": "stream",
     "text": [
      "<class 'bs4.element.NavigableString'>\n"
     ]
    },
    {
     "data": {
      "text/plain": [
       "'\\n'"
      ]
     },
     "metadata": {},
     "output_type": "display_data"
    },
    {
     "name": "stdout",
     "output_type": "stream",
     "text": [
      "<class 'bs4.element.NavigableString'>\n"
     ]
    },
    {
     "data": {
      "text/plain": [
       "'\\n'"
      ]
     },
     "metadata": {},
     "output_type": "display_data"
    },
    {
     "name": "stdout",
     "output_type": "stream",
     "text": [
      "<class 'bs4.element.NavigableString'>\n"
     ]
    },
    {
     "data": {
      "text/plain": [
       "'\\n'"
      ]
     },
     "metadata": {},
     "output_type": "display_data"
    },
    {
     "name": "stdout",
     "output_type": "stream",
     "text": [
      "Wait For A Minute (feat. Justin Bieber)\n",
      "------\n",
      "<class 'bs4.element.Tag'>\n",
      "----------\n",
      "[Tyga]\n",
      "Hold up, I don't need no luck\n",
      "I said that with a straight face, baby that's poker\n",
      "Feel a lil sober, got it mixed in my soda\n",
      "I clean up good, aropa, dopa\n",
      "Baby I'm the shhh but that's a good odour\n",
      "I'm a young star but my money look Yoda\n",
      "Crib on the ocean, backyard boat shit\n",
      "You hating on the Internet, I couldn't even notice\n",
      "Tickets no service, we at the top working\n",
      "Pop-pops is lurking, told her \"don't get nervous\"\n",
      "I don't swerve Suburbans, this a gold derby\n",
      "Ferarri's and horses, I snap like Torres\n",
      "No rug, I floor it, girl, come feel important\n",
      "I'm all about a dollar, babe, banks call me Georgi\n",
      "9-5 Rollie, 96 Kobe, tonight we gon' ball like Ginobili\n",
      "You know me, I'm just tryna...\n",
      "--------------------\n",
      "<class 'bs4.element.NavigableString'>\n"
     ]
    },
    {
     "data": {
      "text/plain": [
       "'\\n'"
      ]
     },
     "metadata": {},
     "output_type": "display_data"
    },
    {
     "name": "stdout",
     "output_type": "stream",
     "text": [
      "<class 'bs4.element.NavigableString'>\n"
     ]
    },
    {
     "data": {
      "text/plain": [
       "'\\n'"
      ]
     },
     "metadata": {},
     "output_type": "display_data"
    },
    {
     "name": "stdout",
     "output_type": "stream",
     "text": [
      "<class 'bs4.element.NavigableString'>\n"
     ]
    },
    {
     "data": {
      "text/plain": [
       "'\\n'"
      ]
     },
     "metadata": {},
     "output_type": "display_data"
    },
    {
     "name": "stdout",
     "output_type": "stream",
     "text": [
      "<class 'bs4.element.NavigableString'>\n"
     ]
    },
    {
     "data": {
      "text/plain": [
       "'\\n'"
      ]
     },
     "metadata": {},
     "output_type": "display_data"
    },
    {
     "name": "stdout",
     "output_type": "stream",
     "text": [
      "<class 'bs4.element.NavigableString'>\n"
     ]
    },
    {
     "data": {
      "text/plain": [
       "'\\n'"
      ]
     },
     "metadata": {},
     "output_type": "display_data"
    },
    {
     "name": "stdout",
     "output_type": "stream",
     "text": [
      "<class 'bs4.element.NavigableString'>\n"
     ]
    },
    {
     "data": {
      "text/plain": [
       "'\\n'"
      ]
     },
     "metadata": {},
     "output_type": "display_data"
    },
    {
     "name": "stdout",
     "output_type": "stream",
     "text": [
      "<class 'bs4.element.NavigableString'>\n"
     ]
    },
    {
     "data": {
      "text/plain": [
       "'\\n'"
      ]
     },
     "metadata": {},
     "output_type": "display_data"
    },
    {
     "name": "stdout",
     "output_type": "stream",
     "text": [
      "Wake Up In It (feat. French Montana, Pusha T, Mally Mall & Sean Kingston)\n",
      "------\n",
      "<class 'bs4.element.Tag'>\n",
      "----------\n",
      "[Hook: Sean Kingston]\n",
      "So what's it gonna be now?\n",
      "Girl I'm tryna wake up in it\n",
      "So don't fall asleep now\n",
      "Girl I'm tryna wake up in it\n",
      "Fall asleep, fall asleep now\n",
      "Girl I'm tryna wake up in it\n",
      "Fall asleep, fall asleep now\n",
      "Girl I'm tryna wake up in it\n",
      "--------------------\n",
      "<class 'bs4.element.NavigableString'>\n"
     ]
    },
    {
     "data": {
      "text/plain": [
       "'\\n'"
      ]
     },
     "metadata": {},
     "output_type": "display_data"
    },
    {
     "name": "stdout",
     "output_type": "stream",
     "text": [
      "Wake Up In It (feat. French Montana, Pusha T, Mally Mall & Sean Kingston)\n",
      "------\n",
      "<class 'bs4.element.Tag'>\n",
      "----------\n",
      "[Post Hook: French Montana]\n",
      "All I do is get, get money\n",
      "All I'm tryna do is get, get, get money\n",
      "Tryna fall asleep, too much Henny and Patron\n",
      "But can I hit it in the morning?\n",
      "--------------------\n",
      "<class 'bs4.element.NavigableString'>\n"
     ]
    },
    {
     "data": {
      "text/plain": [
       "'\\n'"
      ]
     },
     "metadata": {},
     "output_type": "display_data"
    },
    {
     "name": "stdout",
     "output_type": "stream",
     "text": [
      "Wake Up In It (feat. French Montana, Pusha T, Mally Mall & Sean Kingston)\n",
      "------\n",
      "<class 'bs4.element.Tag'>\n",
      "----------\n",
      "[Verse 1: Tyga]\n",
      "I'm two Maybachs in it\n",
      "You are looking at a meal ticket\n",
      "Raw in the kitchen, make T-Raw for a livin'\n",
      "She said I'm too good? That's just how I'm livin'\n",
      "Bitch can't get her, flat rate, for a hook-up\n",
      "Same price as a hooker\n",
      "This could leave her limp, nookie, rock and roll the pussy\n",
      "Geno Smith, I'm no rookie, don't push me\n",
      "Pusha, Mally, French that's king shit\n",
      "Rare that you see this, pyramids of Giza\n",
      "Black Am Ex, no Visa, I rain on that bitch like sprinklers\n",
      "Top back, it's winner season\n",
      "D. Rose in the Rolls Royce\n",
      "I am these ho's number one choice\n",
      "I hit the club, bitches get moist\n",
      "You hit the club: no noise\n",
      "--------------------\n",
      "<class 'bs4.element.NavigableString'>\n"
     ]
    },
    {
     "data": {
      "text/plain": [
       "'\\n'"
      ]
     },
     "metadata": {},
     "output_type": "display_data"
    },
    {
     "name": "stdout",
     "output_type": "stream",
     "text": [
      "Wake Up In It (feat. French Montana, Pusha T, Mally Mall & Sean Kingston)\n",
      "------\n",
      "<class 'bs4.element.Tag'>\n",
      "----------\n",
      "[Hook]\n",
      "--------------------\n",
      "<class 'bs4.element.NavigableString'>\n"
     ]
    },
    {
     "data": {
      "text/plain": [
       "'\\n'"
      ]
     },
     "metadata": {},
     "output_type": "display_data"
    },
    {
     "name": "stdout",
     "output_type": "stream",
     "text": [
      "Wake Up In It (feat. French Montana, Pusha T, Mally Mall & Sean Kingston)\n",
      "------\n",
      "<class 'bs4.element.Tag'>\n",
      "----------\n",
      "[Post Hook]\n",
      "--------------------\n",
      "<class 'bs4.element.NavigableString'>\n"
     ]
    },
    {
     "data": {
      "text/plain": [
       "'\\n'"
      ]
     },
     "metadata": {},
     "output_type": "display_data"
    },
    {
     "name": "stdout",
     "output_type": "stream",
     "text": [
      "Wake Up In It (feat. French Montana, Pusha T, Mally Mall & Sean Kingston)\n",
      "------\n",
      "<class 'bs4.element.Tag'>\n",
      "----------\n",
      "[Bridge: Sean Kingston]\n",
      "Bet she want a dude like me\n",
      "After the club, but you can't go to sleep\n",
      "Girl, I can see it in your eyes\n",
      "You ain't never take a trip overseas\n",
      "I wanna wake up in it, baby let's go\n",
      "So no time for sleeping, yeah you know\n",
      "--------------------\n",
      "<class 'bs4.element.NavigableString'>\n"
     ]
    },
    {
     "data": {
      "text/plain": [
       "'\\n'"
      ]
     },
     "metadata": {},
     "output_type": "display_data"
    },
    {
     "name": "stdout",
     "output_type": "stream",
     "text": [
      "Wake Up In It (feat. French Montana, Pusha T, Mally Mall & Sean Kingston)\n",
      "------\n",
      "<class 'bs4.element.Tag'>\n",
      "----------\n",
      "[Verse 2: Mally Mall]\n",
      "I hit it like it's business\n",
      "You can call your friend, be a witness\n",
      "Murder that, no feelin's\n",
      "I go to sleep, and wake up in it\n",
      "Get it if I want it\n",
      "Roll up in it, two M's on it\n",
      "Push up on it, I put Pusha on it\n",
      "Go to sleep in it, then I hit it in the morning\n",
      "--------------------\n",
      "<class 'bs4.element.NavigableString'>\n"
     ]
    },
    {
     "data": {
      "text/plain": [
       "'\\n'"
      ]
     },
     "metadata": {},
     "output_type": "display_data"
    },
    {
     "name": "stdout",
     "output_type": "stream",
     "text": [
      "Wake Up In It (feat. French Montana, Pusha T, Mally Mall & Sean Kingston)\n",
      "------\n",
      "<class 'bs4.element.Tag'>\n",
      "----------\n",
      "[Hook]\n",
      "--------------------\n",
      "<class 'bs4.element.NavigableString'>\n"
     ]
    },
    {
     "data": {
      "text/plain": [
       "'\\n'"
      ]
     },
     "metadata": {},
     "output_type": "display_data"
    },
    {
     "name": "stdout",
     "output_type": "stream",
     "text": [
      "Wake Up In It (feat. French Montana, Pusha T, Mally Mall & Sean Kingston)\n",
      "------\n",
      "<class 'bs4.element.Tag'>\n",
      "----------\n",
      "[Post Hook]\n",
      "--------------------\n",
      "<class 'bs4.element.NavigableString'>\n"
     ]
    },
    {
     "data": {
      "text/plain": [
       "'\\n'"
      ]
     },
     "metadata": {},
     "output_type": "display_data"
    },
    {
     "name": "stdout",
     "output_type": "stream",
     "text": [
      "Wake Up In It (feat. French Montana, Pusha T, Mally Mall & Sean Kingston)\n",
      "------\n",
      "<class 'bs4.element.Tag'>\n",
      "----------\n",
      "[Verse 3: Pusha T]\n",
      "Can I hit it in the morning?\n",
      "With two in the bed like B.I.G. had a warnin'\n",
      "After the club, you know who she calling\n",
      "Cause up in the club, you know he was balling\n",
      "YUUGH, King Push on his king pin\n",
      "King stunna, Last Kings, king them\n",
      "(Crown), Rolex on every wrist\n",
      "Crew full of money, drop checks on every bitch\n",
      "Yeah, I'm tryna wake up with it\n",
      "Soon as I roll over: wake up, hit it\n",
      "Backs to the corner as I rake up digits\n",
      "Time is money, you know you can't make up minutes\n",
      "So what's it gonna be; I'm dropping or you dropping\n",
      "My top or your top: two options\n",
      "Don't fall asleep\n",
      "And miss the benefits of shot caller\n",
      "King Push\n",
      "--------------------\n",
      "<class 'bs4.element.NavigableString'>\n"
     ]
    },
    {
     "data": {
      "text/plain": [
       "'\\n'"
      ]
     },
     "metadata": {},
     "output_type": "display_data"
    },
    {
     "name": "stdout",
     "output_type": "stream",
     "text": [
      "Wake Up In It (feat. French Montana, Pusha T, Mally Mall & Sean Kingston)\n",
      "------\n",
      "<class 'bs4.element.Tag'>\n",
      "----------\n",
      "[Hook]\n",
      "--------------------\n",
      "<class 'bs4.element.NavigableString'>\n"
     ]
    },
    {
     "data": {
      "text/plain": [
       "'\\n'"
      ]
     },
     "metadata": {},
     "output_type": "display_data"
    },
    {
     "name": "stdout",
     "output_type": "stream",
     "text": [
      "<class 'bs4.element.NavigableString'>\n"
     ]
    },
    {
     "data": {
      "text/plain": [
       "'\\n'"
      ]
     },
     "metadata": {},
     "output_type": "display_data"
    },
    {
     "name": "stdout",
     "output_type": "stream",
     "text": [
      "<class 'bs4.element.NavigableString'>\n"
     ]
    },
    {
     "data": {
      "text/plain": [
       "'\\n'"
      ]
     },
     "metadata": {},
     "output_type": "display_data"
    },
    {
     "name": "stdout",
     "output_type": "stream",
     "text": [
      "<class 'bs4.element.NavigableString'>\n"
     ]
    },
    {
     "data": {
      "text/plain": [
       "'\\n'"
      ]
     },
     "metadata": {},
     "output_type": "display_data"
    },
    {
     "name": "stdout",
     "output_type": "stream",
     "text": [
      "<class 'bs4.element.NavigableString'>\n"
     ]
    },
    {
     "data": {
      "text/plain": [
       "'\\n'"
      ]
     },
     "metadata": {},
     "output_type": "display_data"
    },
    {
     "name": "stdout",
     "output_type": "stream",
     "text": [
      "<class 'bs4.element.NavigableString'>\n"
     ]
    },
    {
     "data": {
      "text/plain": [
       "'\\n'"
      ]
     },
     "metadata": {},
     "output_type": "display_data"
    },
    {
     "name": "stdout",
     "output_type": "stream",
     "text": [
      "<class 'bs4.element.NavigableString'>\n"
     ]
    },
    {
     "data": {
      "text/plain": [
       "'\\n'"
      ]
     },
     "metadata": {},
     "output_type": "display_data"
    },
    {
     "name": "stdout",
     "output_type": "stream",
     "text": [
      "<class 'bs4.element.NavigableString'>\n"
     ]
    },
    {
     "data": {
      "text/plain": [
       "'\\n'"
      ]
     },
     "metadata": {},
     "output_type": "display_data"
    },
    {
     "name": "stdout",
     "output_type": "stream",
     "text": [
      "<class 'bs4.element.NavigableString'>\n"
     ]
    },
    {
     "data": {
      "text/plain": [
       "'\\n'"
      ]
     },
     "metadata": {},
     "output_type": "display_data"
    },
    {
     "name": "stdout",
     "output_type": "stream",
     "text": [
      "<class 'bs4.element.NavigableString'>\n"
     ]
    },
    {
     "data": {
      "text/plain": [
       "'\\n'"
      ]
     },
     "metadata": {},
     "output_type": "display_data"
    },
    {
     "name": "stdout",
     "output_type": "stream",
     "text": [
      "<class 'bs4.element.NavigableString'>\n"
     ]
    },
    {
     "data": {
      "text/plain": [
       "'\\n'"
      ]
     },
     "metadata": {},
     "output_type": "display_data"
    },
    {
     "name": "stdout",
     "output_type": "stream",
     "text": [
      "<class 'bs4.element.NavigableString'>\n"
     ]
    },
    {
     "data": {
      "text/plain": [
       "'\\n'"
      ]
     },
     "metadata": {},
     "output_type": "display_data"
    },
    {
     "name": "stdout",
     "output_type": "stream",
     "text": [
      "<class 'bs4.element.NavigableString'>\n"
     ]
    },
    {
     "data": {
      "text/plain": [
       "'\\n'"
      ]
     },
     "metadata": {},
     "output_type": "display_data"
    },
    {
     "name": "stdout",
     "output_type": "stream",
     "text": [
      "<class 'bs4.element.NavigableString'>\n"
     ]
    },
    {
     "data": {
      "text/plain": [
       "'\\n'"
      ]
     },
     "metadata": {},
     "output_type": "display_data"
    },
    {
     "name": "stdout",
     "output_type": "stream",
     "text": [
      "<class 'bs4.element.NavigableString'>\n"
     ]
    },
    {
     "data": {
      "text/plain": [
       "'\\n'"
      ]
     },
     "metadata": {},
     "output_type": "display_data"
    },
    {
     "name": "stdout",
     "output_type": "stream",
     "text": [
      "<class 'bs4.element.NavigableString'>\n"
     ]
    },
    {
     "data": {
      "text/plain": [
       "'\\n'"
      ]
     },
     "metadata": {},
     "output_type": "display_data"
    },
    {
     "name": "stdout",
     "output_type": "stream",
     "text": [
      "<class 'bs4.element.NavigableString'>\n"
     ]
    },
    {
     "data": {
      "text/plain": [
       "'\\n'"
      ]
     },
     "metadata": {},
     "output_type": "display_data"
    },
    {
     "name": "stdout",
     "output_type": "stream",
     "text": [
      "<class 'bs4.element.NavigableString'>\n"
     ]
    },
    {
     "data": {
      "text/plain": [
       "'\\n'"
      ]
     },
     "metadata": {},
     "output_type": "display_data"
    },
    {
     "name": "stdout",
     "output_type": "stream",
     "text": [
      "<class 'bs4.element.NavigableString'>\n"
     ]
    },
    {
     "data": {
      "text/plain": [
       "'\\n'"
      ]
     },
     "metadata": {},
     "output_type": "display_data"
    },
    {
     "name": "stdout",
     "output_type": "stream",
     "text": [
      "<class 'bs4.element.NavigableString'>\n"
     ]
    },
    {
     "data": {
      "text/plain": [
       "'\\n'"
      ]
     },
     "metadata": {},
     "output_type": "display_data"
    },
    {
     "name": "stdout",
     "output_type": "stream",
     "text": [
      "<class 'bs4.element.NavigableString'>\n"
     ]
    },
    {
     "data": {
      "text/plain": [
       "'\\n'"
      ]
     },
     "metadata": {},
     "output_type": "display_data"
    },
    {
     "name": "stdout",
     "output_type": "stream",
     "text": [
      "<class 'bs4.element.NavigableString'>\n"
     ]
    },
    {
     "data": {
      "text/plain": [
       "'\\n'"
      ]
     },
     "metadata": {},
     "output_type": "display_data"
    },
    {
     "name": "stdout",
     "output_type": "stream",
     "text": [
      "<class 'bs4.element.NavigableString'>\n"
     ]
    },
    {
     "data": {
      "text/plain": [
       "'\\n'"
      ]
     },
     "metadata": {},
     "output_type": "display_data"
    },
    {
     "name": "stdout",
     "output_type": "stream",
     "text": [
      "<class 'bs4.element.NavigableString'>\n"
     ]
    },
    {
     "data": {
      "text/plain": [
       "'\\n'"
      ]
     },
     "metadata": {},
     "output_type": "display_data"
    },
    {
     "name": "stdout",
     "output_type": "stream",
     "text": [
      "<class 'bs4.element.NavigableString'>\n"
     ]
    },
    {
     "data": {
      "text/plain": [
       "'\\n'"
      ]
     },
     "metadata": {},
     "output_type": "display_data"
    },
    {
     "name": "stdout",
     "output_type": "stream",
     "text": [
      "<class 'bs4.element.NavigableString'>\n"
     ]
    },
    {
     "data": {
      "text/plain": [
       "'\\n'"
      ]
     },
     "metadata": {},
     "output_type": "display_data"
    },
    {
     "name": "stdout",
     "output_type": "stream",
     "text": [
      "<class 'bs4.element.NavigableString'>\n"
     ]
    },
    {
     "data": {
      "text/plain": [
       "'\\n'"
      ]
     },
     "metadata": {},
     "output_type": "display_data"
    },
    {
     "name": "stdout",
     "output_type": "stream",
     "text": [
      "<class 'bs4.element.NavigableString'>\n"
     ]
    },
    {
     "data": {
      "text/plain": [
       "'\\n'"
      ]
     },
     "metadata": {},
     "output_type": "display_data"
    },
    {
     "name": "stdout",
     "output_type": "stream",
     "text": [
      "<class 'bs4.element.NavigableString'>\n"
     ]
    },
    {
     "data": {
      "text/plain": [
       "'\\n'"
      ]
     },
     "metadata": {},
     "output_type": "display_data"
    },
    {
     "name": "stdout",
     "output_type": "stream",
     "text": [
      "<class 'bs4.element.NavigableString'>\n"
     ]
    },
    {
     "data": {
      "text/plain": [
       "'\\n'"
      ]
     },
     "metadata": {},
     "output_type": "display_data"
    },
    {
     "name": "stdout",
     "output_type": "stream",
     "text": [
      "<class 'bs4.element.NavigableString'>\n"
     ]
    },
    {
     "data": {
      "text/plain": [
       "'\\n'"
      ]
     },
     "metadata": {},
     "output_type": "display_data"
    },
    {
     "name": "stdout",
     "output_type": "stream",
     "text": [
      "<class 'bs4.element.NavigableString'>\n"
     ]
    },
    {
     "data": {
      "text/plain": [
       "'\\n'"
      ]
     },
     "metadata": {},
     "output_type": "display_data"
    },
    {
     "name": "stdout",
     "output_type": "stream",
     "text": [
      "<class 'bs4.element.NavigableString'>\n"
     ]
    },
    {
     "data": {
      "text/plain": [
       "'\\n'"
      ]
     },
     "metadata": {},
     "output_type": "display_data"
    },
    {
     "name": "stdout",
     "output_type": "stream",
     "text": [
      "<class 'bs4.element.NavigableString'>\n"
     ]
    },
    {
     "data": {
      "text/plain": [
       "'\\n'"
      ]
     },
     "metadata": {},
     "output_type": "display_data"
    },
    {
     "name": "stdout",
     "output_type": "stream",
     "text": [
      "<class 'bs4.element.NavigableString'>\n"
     ]
    },
    {
     "data": {
      "text/plain": [
       "'\\n'"
      ]
     },
     "metadata": {},
     "output_type": "display_data"
    },
    {
     "name": "stdout",
     "output_type": "stream",
     "text": [
      "<class 'bs4.element.NavigableString'>\n"
     ]
    },
    {
     "data": {
      "text/plain": [
       "'\\n'"
      ]
     },
     "metadata": {},
     "output_type": "display_data"
    },
    {
     "name": "stdout",
     "output_type": "stream",
     "text": [
      "<class 'bs4.element.NavigableString'>\n"
     ]
    },
    {
     "data": {
      "text/plain": [
       "'\\n'"
      ]
     },
     "metadata": {},
     "output_type": "display_data"
    },
    {
     "name": "stdout",
     "output_type": "stream",
     "text": [
      "<class 'bs4.element.NavigableString'>\n"
     ]
    },
    {
     "data": {
      "text/plain": [
       "'\\n'"
      ]
     },
     "metadata": {},
     "output_type": "display_data"
    },
    {
     "name": "stdout",
     "output_type": "stream",
     "text": [
      "<class 'bs4.element.NavigableString'>\n"
     ]
    },
    {
     "data": {
      "text/plain": [
       "'\\n'"
      ]
     },
     "metadata": {},
     "output_type": "display_data"
    },
    {
     "name": "stdout",
     "output_type": "stream",
     "text": [
      "<class 'bs4.element.NavigableString'>\n"
     ]
    },
    {
     "data": {
      "text/plain": [
       "'\\n'"
      ]
     },
     "metadata": {},
     "output_type": "display_data"
    },
    {
     "name": "stdout",
     "output_type": "stream",
     "text": [
      "<class 'bs4.element.NavigableString'>\n"
     ]
    },
    {
     "data": {
      "text/plain": [
       "'\\n'"
      ]
     },
     "metadata": {},
     "output_type": "display_data"
    },
    {
     "name": "stdout",
     "output_type": "stream",
     "text": [
      "<class 'bs4.element.NavigableString'>\n"
     ]
    },
    {
     "data": {
      "text/plain": [
       "'\\n'"
      ]
     },
     "metadata": {},
     "output_type": "display_data"
    },
    {
     "name": "stdout",
     "output_type": "stream",
     "text": [
      "<class 'bs4.element.NavigableString'>\n"
     ]
    },
    {
     "data": {
      "text/plain": [
       "'\\n'"
      ]
     },
     "metadata": {},
     "output_type": "display_data"
    },
    {
     "name": "stdout",
     "output_type": "stream",
     "text": [
      "<class 'bs4.element.NavigableString'>\n"
     ]
    },
    {
     "data": {
      "text/plain": [
       "'\\n'"
      ]
     },
     "metadata": {},
     "output_type": "display_data"
    },
    {
     "name": "stdout",
     "output_type": "stream",
     "text": [
      "<class 'bs4.element.NavigableString'>\n"
     ]
    },
    {
     "data": {
      "text/plain": [
       "'\\n'"
      ]
     },
     "metadata": {},
     "output_type": "display_data"
    },
    {
     "name": "stdout",
     "output_type": "stream",
     "text": [
      "<class 'bs4.element.NavigableString'>\n"
     ]
    },
    {
     "data": {
      "text/plain": [
       "'\\n'"
      ]
     },
     "metadata": {},
     "output_type": "display_data"
    },
    {
     "name": "stdout",
     "output_type": "stream",
     "text": [
      "<class 'bs4.element.NavigableString'>\n"
     ]
    },
    {
     "data": {
      "text/plain": [
       "'\\n'"
      ]
     },
     "metadata": {},
     "output_type": "display_data"
    },
    {
     "name": "stdout",
     "output_type": "stream",
     "text": [
      "<class 'bs4.element.NavigableString'>\n"
     ]
    },
    {
     "data": {
      "text/plain": [
       "'\\n'"
      ]
     },
     "metadata": {},
     "output_type": "display_data"
    },
    {
     "name": "stdout",
     "output_type": "stream",
     "text": [
      "<class 'bs4.element.NavigableString'>\n"
     ]
    },
    {
     "data": {
      "text/plain": [
       "'\\n'"
      ]
     },
     "metadata": {},
     "output_type": "display_data"
    },
    {
     "name": "stdout",
     "output_type": "stream",
     "text": [
      "<class 'bs4.element.NavigableString'>\n"
     ]
    },
    {
     "data": {
      "text/plain": [
       "'\\n'"
      ]
     },
     "metadata": {},
     "output_type": "display_data"
    },
    {
     "name": "stdout",
     "output_type": "stream",
     "text": [
      "<class 'bs4.element.NavigableString'>\n"
     ]
    },
    {
     "data": {
      "text/plain": [
       "'\\n'"
      ]
     },
     "metadata": {},
     "output_type": "display_data"
    },
    {
     "name": "stdout",
     "output_type": "stream",
     "text": [
      "<class 'bs4.element.NavigableString'>\n"
     ]
    },
    {
     "data": {
      "text/plain": [
       "'\\n'"
      ]
     },
     "metadata": {},
     "output_type": "display_data"
    },
    {
     "name": "stdout",
     "output_type": "stream",
     "text": [
      "We Don't Die\n",
      "------\n",
      "<class 'bs4.element.Tag'>\n",
      "----------\n",
      "[Hook:]\n",
      "Till the day I die\n",
      "I told my girl to ride, big girl don't cry\n",
      "Floating at the top, can't get no higher\n",
      "Thought mama told you not to play with fire\n",
      "Play with fire\n",
      "We don't die\n",
      "Run into the jungle, tryna stay alive\n",
      "Truth to yourself, never been no liar\n",
      "Thought mama told you not to play with fire\n",
      "Play with fire\n",
      "--------------------\n",
      "<class 'bs4.element.NavigableString'>\n"
     ]
    },
    {
     "data": {
      "text/plain": [
       "'\\n'"
      ]
     },
     "metadata": {},
     "output_type": "display_data"
    },
    {
     "name": "stdout",
     "output_type": "stream",
     "text": [
      "We Don't Die\n",
      "------\n",
      "<class 'bs4.element.Tag'>\n",
      "----------\n",
      "Drop a Biggie, no Pun intended\n",
      "Stop pretending you fucking women's lives up, classy nigga, perfect attendance\n",
      "5 Percenters running they own shit but they sprinters\n",
      "Got the Cheville, yellow paint I call it Kobe finish\n",
      "Lil [?] pro, swerve the curb, you fucking nerds\n",
      "Nine Mili chef, boy [?] don't get served\n",
      "Don't remember half of yesterday, my whole life's a blur\n",
      "Killers that'll ride for me and they don't say a fuckin' word\n",
      "Words, splurging urgently, I got the fucking urge\n",
      "Ultimately too adult for you, someone pass the hors d'oeuvres\n",
      "Buying low tops, only time me and you prolly converse\n",
      "Getting overlapped, or leaving your peers behind, what's worse?\n",
      "--------------------\n",
      "<class 'bs4.element.NavigableString'>\n"
     ]
    },
    {
     "data": {
      "text/plain": [
       "'\\n'"
      ]
     },
     "metadata": {},
     "output_type": "display_data"
    },
    {
     "name": "stdout",
     "output_type": "stream",
     "text": [
      "<class 'bs4.element.NavigableString'>\n"
     ]
    },
    {
     "data": {
      "text/plain": [
       "'\\n'"
      ]
     },
     "metadata": {},
     "output_type": "display_data"
    },
    {
     "name": "stdout",
     "output_type": "stream",
     "text": [
      "We Don't Die\n",
      "------\n",
      "<class 'bs4.element.Tag'>\n",
      "----------\n",
      "[Hook]\n",
      "--------------------\n",
      "<class 'bs4.element.NavigableString'>\n"
     ]
    },
    {
     "data": {
      "text/plain": [
       "'\\n'"
      ]
     },
     "metadata": {},
     "output_type": "display_data"
    },
    {
     "name": "stdout",
     "output_type": "stream",
     "text": [
      "We Don't Die\n",
      "------\n",
      "<class 'bs4.element.Tag'>\n",
      "----------\n",
      "No privacy this time of week, trying to fulfill the prophecy\n",
      "Ducking as the tires screech, somebody die right next to me\n",
      "The block'll see, most of them not in my favor, they just [?] for me\n",
      "Light up your house, that was Christmas Eve\n",
      "Dump you out over water, call it overseas\n",
      "With some foreign bitches that don't got ID's\n",
      "Vacation, Jamaica, that was a good time for me\n",
      "Life of luxury, teach my kids royalty\n",
      "Yea\n",
      "--------------------\n",
      "<class 'bs4.element.NavigableString'>\n"
     ]
    },
    {
     "data": {
      "text/plain": [
       "'\\n'"
      ]
     },
     "metadata": {},
     "output_type": "display_data"
    },
    {
     "name": "stdout",
     "output_type": "stream",
     "text": [
      "We Don't Die\n",
      "------\n",
      "<class 'bs4.element.Tag'>\n",
      "----------\n",
      "[Hook]\n",
      "--------------------\n",
      "<class 'bs4.element.NavigableString'>\n"
     ]
    },
    {
     "data": {
      "text/plain": [
       "'\\n'"
      ]
     },
     "metadata": {},
     "output_type": "display_data"
    },
    {
     "name": "stdout",
     "output_type": "stream",
     "text": [
      "Well Done\n",
      "------\n",
      "<class 'bs4.element.Tag'>\n",
      "----------\n",
      "[Intro: DJ Drama talking]\n",
      "--------------------\n",
      "<class 'bs4.element.NavigableString'>\n"
     ]
    },
    {
     "data": {
      "text/plain": [
       "'\\n'"
      ]
     },
     "metadata": {},
     "output_type": "display_data"
    },
    {
     "name": "stdout",
     "output_type": "stream",
     "text": [
      "Well Done\n",
      "------\n",
      "<class 'bs4.element.Tag'>\n",
      "----------\n",
      "[Chorus: Tyga]\n",
      "Ugh tell these bitches I'm the man\n",
      "Money over bitches nigga that's the plan\n",
      "Everything I do (well we-we-well done)\n",
      "Everything I do (well we-we-well done)\n",
      "Niggas say they're balling they in a stance\n",
      "If they ain't bout business don't shake my hand\n",
      "Everything I do (well we-we-well done)\n",
      "Everything I do (well we-we-well done)\n",
      "--------------------\n",
      "<class 'bs4.element.NavigableString'>\n"
     ]
    },
    {
     "data": {
      "text/plain": [
       "'\\n'"
      ]
     },
     "metadata": {},
     "output_type": "display_data"
    },
    {
     "name": "stdout",
     "output_type": "stream",
     "text": [
      "Well Done\n",
      "------\n",
      "<class 'bs4.element.Tag'>\n",
      "----------\n",
      "[Verse 1: Tyga]\n",
      "Hot a motherfucking man\n",
      "Walk up clear the way it's the ambulance\n",
      "Firetruck get to the fire in advance\n",
      "Pop flow I just... (I just show off!)\n",
      "Pop a motherfucking man\n",
      "Walk up clear the way it's the ambulance\n",
      "Firetruck get to the fire in advance\n",
      "Pop flow I just I just gave the track a tan\n",
      "Ain't a damn thang we popping champagne\n",
      "Girls choose saying they rooting for the other team\n",
      "I put her in a vibe like the magazine\n",
      "You see it's raining hundreds cash get the cream\n",
      "The cream the money and money make her scream\n",
      "Nothing personal it was just a quick fling\n",
      "But now I'm back to me paper off the shelf bitch\n",
      "She just wanna get drunk get fucked taste dick\n",
      "Maybe make a new friend get in the Benz with him\n",
      "This ain't no simple life you dancing with a star bitch\n",
      "Yea yea so keep my spotlight bright\n",
      "Cause I'm a be in the dark night\n",
      "So go on\n",
      "--------------------\n",
      "<class 'bs4.element.NavigableString'>\n"
     ]
    },
    {
     "data": {
      "text/plain": [
       "'\\n'"
      ]
     },
     "metadata": {},
     "output_type": "display_data"
    },
    {
     "name": "stdout",
     "output_type": "stream",
     "text": [
      "Well Done\n",
      "------\n",
      "<class 'bs4.element.Tag'>\n",
      "----------\n",
      "[Chorus: Tyga]\n",
      "Tell these bitches I'm the man\n",
      "Money over bitches nigga that's the plan\n",
      "Everything I do (well we-we-well done)\n",
      "Everything I do (well we-we-well done)\n",
      "Niggas say they're balling they in a stance\n",
      "If they ain't bout business don't shake my hand\n",
      "Everything I do (well we-we-well done)\n",
      "Everything I do (well we-we-well done)\n",
      "--------------------\n",
      "<class 'bs4.element.NavigableString'>\n"
     ]
    },
    {
     "data": {
      "text/plain": [
       "'\\n'"
      ]
     },
     "metadata": {},
     "output_type": "display_data"
    },
    {
     "name": "stdout",
     "output_type": "stream",
     "text": [
      "Well Done\n",
      "------\n",
      "<class 'bs4.element.Tag'>\n",
      "----------\n",
      "[Verse 2: Tyga]\n",
      "Ugh all bout my paper and ain't nothing feeling greater\n",
      "Come up like elevators now I'm balling like a laker\n",
      "They like my freestyle but they gonna have to pay me\n",
      "Candy red marrow tell that bitch it's now or later\n",
      "Six speed brand new car smell flavoured\n",
      "Look up in the sky thank god that we major\n",
      "There's tax to be made world full of danger\n",
      "So we'll count it under the table to be safer\n",
      "Ace paid in full all hundreds big jewels\n",
      "Stones kinda heavy slick Richtor rules\n",
      "Gaddy gaddy I'm gnarly rawest in the group\n",
      "See you call out the roof\n",
      "Sunflying in the coupe\n",
      "--------------------\n",
      "<class 'bs4.element.NavigableString'>\n"
     ]
    },
    {
     "data": {
      "text/plain": [
       "'\\n'"
      ]
     },
     "metadata": {},
     "output_type": "display_data"
    },
    {
     "name": "stdout",
     "output_type": "stream",
     "text": [
      "<class 'bs4.element.NavigableString'>\n"
     ]
    },
    {
     "data": {
      "text/plain": [
       "'\\n'"
      ]
     },
     "metadata": {},
     "output_type": "display_data"
    },
    {
     "name": "stdout",
     "output_type": "stream",
     "text": [
      "Well Done\n",
      "------\n",
      "<class 'bs4.element.Tag'>\n",
      "----------\n",
      "[Chorus: Tyga]\n",
      "Tell these bitches I'm the man\n",
      "Money over bitches nigga that's the plan\n",
      "Everything I do (well we-we-well done)\n",
      "Everything I do (well we-we-well done)\n",
      "Niggas say they're balling they in a stance\n",
      "If they ain't bout business don't shake my hand\n",
      "Everything I do (well we-we-well done)\n",
      "Everything I do (well we-we-well done)\n",
      "--------------------\n",
      "<class 'bs4.element.NavigableString'>\n"
     ]
    },
    {
     "data": {
      "text/plain": [
       "'\\n'"
      ]
     },
     "metadata": {},
     "output_type": "display_data"
    },
    {
     "name": "stdout",
     "output_type": "stream",
     "text": [
      "<class 'bs4.element.NavigableString'>\n"
     ]
    },
    {
     "data": {
      "text/plain": [
       "'\\n'"
      ]
     },
     "metadata": {},
     "output_type": "display_data"
    },
    {
     "name": "stdout",
     "output_type": "stream",
     "text": [
      "<class 'bs4.element.NavigableString'>\n"
     ]
    },
    {
     "data": {
      "text/plain": [
       "'\\n'"
      ]
     },
     "metadata": {},
     "output_type": "display_data"
    },
    {
     "name": "stdout",
     "output_type": "stream",
     "text": [
      "<class 'bs4.element.NavigableString'>\n"
     ]
    },
    {
     "data": {
      "text/plain": [
       "'\\n'"
      ]
     },
     "metadata": {},
     "output_type": "display_data"
    },
    {
     "name": "stdout",
     "output_type": "stream",
     "text": [
      "What They Want (with Tyga)\n",
      "------\n",
      "<class 'bs4.element.Tag'>\n",
      "----------\n",
      "[Chris Brown:]\n",
      "These niggas mad, They mugging me\n",
      "I like my pussy bowl Mr. Clean,\n",
      "She started waxing, my dick relaxing\n",
      "I make her bedrock, call me the mattress king\n",
      "She got a sick body, I'm like her vaccine\n",
      "Come to think about it, Vitamin D\n",
      "Her ass up out them Jeans, but keep your heels on\n",
      "The bedroom, yeah that's the kill zone\n",
      "It's Young Money baby and it's CBE,\n",
      "Let my name spell it out CMB\n",
      "Haters don't bother me, blogs swallow these\n",
      "Oops, now watch that beat on TMZ\n",
      "Breezy bitch you know it's me\n",
      "Your girl wetter than Polen Springs\n",
      "So I go deeper under water, Submarine\n",
      "Now let me dive-in, head first Yeah I'm a nice guy,\n",
      "But I'm a grown motherfucker\n",
      "--------------------\n",
      "<class 'bs4.element.NavigableString'>\n"
     ]
    },
    {
     "data": {
      "text/plain": [
       "'\\n'"
      ]
     },
     "metadata": {},
     "output_type": "display_data"
    },
    {
     "name": "stdout",
     "output_type": "stream",
     "text": [
      "What They Want (with Tyga)\n",
      "------\n",
      "<class 'bs4.element.Tag'>\n",
      "----------\n",
      "[Tyga:]\n",
      "All of these bitches in the party, these niggas fuck with me\n",
      "But I don't fuck with nobody,\n",
      "I pull up in the back bitches waiting in the lobby\n",
      "--------------------\n",
      "<class 'bs4.element.NavigableString'>\n"
     ]
    },
    {
     "data": {
      "text/plain": [
       "'\\n'"
      ]
     },
     "metadata": {},
     "output_type": "display_data"
    },
    {
     "name": "stdout",
     "output_type": "stream",
     "text": [
      "What They Want (with Tyga)\n",
      "------\n",
      "<class 'bs4.element.Tag'>\n",
      "----------\n",
      "[Chris Brown:]\n",
      "Come here, let me show you, do it like I'm 'posed to (uh) nigga,\n",
      "--------------------\n",
      "<class 'bs4.element.NavigableString'>\n"
     ]
    },
    {
     "data": {
      "text/plain": [
       "'\\n'"
      ]
     },
     "metadata": {},
     "output_type": "display_data"
    },
    {
     "name": "stdout",
     "output_type": "stream",
     "text": [
      "<class 'bs4.element.NavigableString'>\n"
     ]
    },
    {
     "data": {
      "text/plain": [
       "'\\n'"
      ]
     },
     "metadata": {},
     "output_type": "display_data"
    },
    {
     "name": "stdout",
     "output_type": "stream",
     "text": [
      "What They Want (with Tyga)\n",
      "------\n",
      "<class 'bs4.element.Tag'>\n",
      "----------\n",
      "[Tyga:]\n",
      "Ha, hot damn hoe, yah I'm going in, pussy poppers want me to eat it, this is the get trim\n",
      "Show me tits, grown men I don't fool around with kids\n",
      "Rob Kelly, tell her piss me up 100 bid\n",
      "Cash Money in this bitch\n",
      "Young Money in your bizz, fuck around with that Label\n",
      "Yellow labels on your ribs, that's the shit them niggas get\n",
      "Homie, bitches bend they ribs, one time for the Shottas\n",
      "Black hogs on them Choppers, bitch\n",
      "Shit sound sick, water flow drowned bitch\n",
      "Oh you smoke that seed a lot, my niggas on pounds bitch\n",
      "We don't hit the club a lot, we be in them lounges\n",
      "With them girls 5'10\" front cover Vogue shit, bitch\n",
      "--------------------\n",
      "<class 'bs4.element.NavigableString'>\n"
     ]
    },
    {
     "data": {
      "text/plain": [
       "'\\n'"
      ]
     },
     "metadata": {},
     "output_type": "display_data"
    },
    {
     "name": "stdout",
     "output_type": "stream",
     "text": [
      "<class 'bs4.element.NavigableString'>\n"
     ]
    },
    {
     "data": {
      "text/plain": [
       "'\\n'"
      ]
     },
     "metadata": {},
     "output_type": "display_data"
    },
    {
     "name": "stdout",
     "output_type": "stream",
     "text": [
      "<class 'bs4.element.NavigableString'>\n"
     ]
    },
    {
     "data": {
      "text/plain": [
       "'\\n'"
      ]
     },
     "metadata": {},
     "output_type": "display_data"
    },
    {
     "name": "stdout",
     "output_type": "stream",
     "text": [
      "<class 'bs4.element.NavigableString'>\n"
     ]
    },
    {
     "data": {
      "text/plain": [
       "'\\n'"
      ]
     },
     "metadata": {},
     "output_type": "display_data"
    },
    {
     "name": "stdout",
     "output_type": "stream",
     "text": [
      "<class 'bs4.element.NavigableString'>\n"
     ]
    },
    {
     "data": {
      "text/plain": [
       "'\\n'"
      ]
     },
     "metadata": {},
     "output_type": "display_data"
    },
    {
     "name": "stdout",
     "output_type": "stream",
     "text": [
      "What They Want (with Tyga)\n",
      "------\n",
      "<class 'bs4.element.Tag'>\n",
      "----------\n",
      "Come here, let me show you,\n",
      "Do it like I'm 'posed to nigga [x2]\n",
      "--------------------\n",
      "<class 'bs4.element.NavigableString'>\n"
     ]
    },
    {
     "data": {
      "text/plain": [
       "'\\n'"
      ]
     },
     "metadata": {},
     "output_type": "display_data"
    },
    {
     "name": "stdout",
     "output_type": "stream",
     "text": [
      "What You Want (feat. Pharaoh Jackson)\n",
      "------\n",
      "<class 'bs4.element.Tag'>\n",
      "----------\n",
      "[Verse 1: Tyga]\n",
      "So what they want from a nigga\n",
      "Rolls on 4s, yeah brawl in this bitch\n",
      "Ice scatin', big figures\n",
      "My day one niggas, weekend bitches\n",
      "Got in all this hatin', wonder why a nigga trippin'\n",
      "Enemies distant, you washed up, dry dishes\n",
      "Versace in my kitchen, my shit different\n",
      "100 grands betted on it, caviar with the jet pilot\n",
      "I land run way, they light it\n",
      "All united, gave her this dick, she gon' like it\n",
      "Just don't bite it, be politely\n",
      "Said she need me like an ID, but that be outtie\n",
      "5000. Gold Audi\n",
      "--------------------\n",
      "<class 'bs4.element.NavigableString'>\n"
     ]
    },
    {
     "data": {
      "text/plain": [
       "'\\n'"
      ]
     },
     "metadata": {},
     "output_type": "display_data"
    },
    {
     "name": "stdout",
     "output_type": "stream",
     "text": [
      "What You Want (feat. Pharaoh Jackson)\n",
      "------\n",
      "<class 'bs4.element.Tag'>\n",
      "----------\n",
      "[Verse 2: Pharaoh Jackson]\n",
      "Oh you are you are you are so special to me\n",
      "I wanna come home to ya, wanna make love to ya\n",
      "But I gotta get this cheese\n",
      "Girl, I know you like that\n",
      "Tell me anything you want and I'mma get that for you\n",
      "Got me thinking I'mma wife that\n",
      "All ya girls and my niggas thinkin' that I adore you\n",
      "Oh, oh, girl, keep shaking them hips for me\n",
      "Oh, oh, girl, keep bitin' em lips\n",
      "And I just don't wanna waste yo time (don't wanna waste yo time)\n",
      "So let them niggas know that you're all mine\n",
      "You're my wifey\n",
      "He appreciate so you know I had to take that\n",
      "Got a hundred bands on me\n",
      "Sh shake that, girl I want to feel your body, yeah\n",
      "Take that, got hundred bands on me\n",
      "Can't fake that, girl I'm a real OG\n",
      "--------------------\n",
      "<class 'bs4.element.NavigableString'>\n"
     ]
    },
    {
     "data": {
      "text/plain": [
       "'\\n'"
      ]
     },
     "metadata": {},
     "output_type": "display_data"
    },
    {
     "name": "stdout",
     "output_type": "stream",
     "text": [
      "<class 'bs4.element.NavigableString'>\n"
     ]
    },
    {
     "data": {
      "text/plain": [
       "'\\n'"
      ]
     },
     "metadata": {},
     "output_type": "display_data"
    },
    {
     "name": "stdout",
     "output_type": "stream",
     "text": [
      "What You Want (feat. Pharaoh Jackson)\n",
      "------\n",
      "<class 'bs4.element.Tag'>\n",
      "----------\n",
      "[Verse 3: Pharaoh Jackson]\n",
      "You can scream if ya want to\n",
      "Dream if ya want to\n",
      "Take the Maserati\n",
      "Tryna beam if ya want to\n",
      "Get you a ring cuz I want to\n",
      "It ain't nothin' I won't do for you\n",
      "Leave all these other girls alone just for you\n",
      "So every night I'm comin' home just for you\n",
      "Ain't nothin' more you can do to me\n",
      "I love everything you do to me\n",
      "Oh, oh, girl keep shakin' them hips for me\n",
      "Oh, oh, girl keep bitin' your lips!\n",
      "--------------------\n",
      "<class 'bs4.element.NavigableString'>\n"
     ]
    },
    {
     "data": {
      "text/plain": [
       "'\\n'"
      ]
     },
     "metadata": {},
     "output_type": "display_data"
    },
    {
     "name": "stdout",
     "output_type": "stream",
     "text": [
      "<class 'bs4.element.NavigableString'>\n"
     ]
    },
    {
     "data": {
      "text/plain": [
       "'\\n'"
      ]
     },
     "metadata": {},
     "output_type": "display_data"
    },
    {
     "name": "stdout",
     "output_type": "stream",
     "text": [
      "What You Want (feat. Pharaoh Jackson)\n",
      "------\n",
      "<class 'bs4.element.Tag'>\n",
      "----------\n",
      "Take that, shake that [X2]\n",
      "--------------------\n",
      "<class 'bs4.element.NavigableString'>\n"
     ]
    },
    {
     "data": {
      "text/plain": [
       "'\\n'"
      ]
     },
     "metadata": {},
     "output_type": "display_data"
    },
    {
     "name": "stdout",
     "output_type": "stream",
     "text": [
      "When To Stop (feat. Chris Brown)\n",
      "------\n",
      "<class 'bs4.element.Tag'>\n",
      "----------\n",
      "[Verse 1: Tyga]\n",
      "What’s the opposite of satisfaction? You never had it\n",
      "A sex addict there when you needed it\n",
      "Now you’re too distracted by the little things\n",
      "Cars, rings, none of it matters\n",
      "Presidential suites in Nevada, you was too ecstatic\n",
      "Time ticking, it was 24 karat\n",
      "Mrs. HotHeaded don’t listen but the head was terrific\n",
      "Had a vision, you bought it, couldn’t wait til you saw it\n",
      "Swear you had it all and you already lost it all and you know it\n",
      "Know I did it, I’m ridin round with my new bitch\n",
      "I’m poppin bottles and shoppin and flyin private to Maui\n",
      "Livin life, no excuses, don’t give two fucks about you\n",
      "You seen my girl’ ass lately? Now watch me fuck her crazy\n",
      "--------------------\n",
      "<class 'bs4.element.NavigableString'>\n"
     ]
    },
    {
     "data": {
      "text/plain": [
       "'\\n'"
      ]
     },
     "metadata": {},
     "output_type": "display_data"
    },
    {
     "name": "stdout",
     "output_type": "stream",
     "text": [
      "When To Stop (feat. Chris Brown)\n",
      "------\n",
      "<class 'bs4.element.Tag'>\n",
      "----------\n",
      "[Hook: Chris Brown]\n",
      "Tell me when to stop\n",
      "You know I ain’t gon hurt you baby\n",
      "Tell me when to stop\n",
      "Girl if I start to get carried away\n",
      "Tell me when to stop\n",
      "I’mma li-li-li-lick it and go down\n",
      "Baby you can get it\n",
      "Tell me when to stop\n",
      "Tell me when to stop\n",
      "Tell me when to stop\n",
      "Tell me when to stop\n",
      "--------------------\n",
      "<class 'bs4.element.NavigableString'>\n"
     ]
    },
    {
     "data": {
      "text/plain": [
       "'\\n'"
      ]
     },
     "metadata": {},
     "output_type": "display_data"
    },
    {
     "name": "stdout",
     "output_type": "stream",
     "text": [
      "When To Stop (feat. Chris Brown)\n",
      "------\n",
      "<class 'bs4.element.Tag'>\n",
      "----------\n",
      "[Verse 2: Chris Brown]\n",
      "She said I could take control of her body\n",
      "But it’s only for the weekend\n",
      "Said I’mma let you do you\n",
      "Oh yea, I’mma do you\n",
      "Til she boom boom boom\n",
      "I’m like a rabbit in her rib cage\n",
      "Roll my weed darling\n",
      "Just like it’s her birthday\n",
      "I’m tippin… and sippin\n",
      "Smokers come with that Ace of Spades\n",
      "--------------------\n",
      "<class 'bs4.element.NavigableString'>\n"
     ]
    },
    {
     "data": {
      "text/plain": [
       "'\\n'"
      ]
     },
     "metadata": {},
     "output_type": "display_data"
    },
    {
     "name": "stdout",
     "output_type": "stream",
     "text": [
      "When To Stop (feat. Chris Brown)\n",
      "------\n",
      "<class 'bs4.element.Tag'>\n",
      "----------\n",
      "[Bridge: Chris Brown]\n",
      "I’m faded, sippin and leanin\n",
      "I’m faded, sippin and leanin\n",
      "Smokers come with that Ace of Spades\n",
      "I’m faded, sippin and leanin\n",
      "I’mma fuck you like I'm in a bad mood, baby\n",
      "--------------------\n",
      "<class 'bs4.element.NavigableString'>\n"
     ]
    },
    {
     "data": {
      "text/plain": [
       "'\\n'"
      ]
     },
     "metadata": {},
     "output_type": "display_data"
    },
    {
     "name": "stdout",
     "output_type": "stream",
     "text": [
      "When To Stop (feat. Chris Brown)\n",
      "------\n",
      "<class 'bs4.element.Tag'>\n",
      "----------\n",
      "[Hook]\n",
      "--------------------\n",
      "<class 'bs4.element.NavigableString'>\n"
     ]
    },
    {
     "data": {
      "text/plain": [
       "'\\n'"
      ]
     },
     "metadata": {},
     "output_type": "display_data"
    },
    {
     "name": "stdout",
     "output_type": "stream",
     "text": [
      "When To Stop (feat. Chris Brown)\n",
      "------\n",
      "<class 'bs4.element.Tag'>\n",
      "----------\n",
      "[Verse 3: Tyga]\n",
      "Long hair, red lipstick\n",
      "Lips burned from that cigarette\n",
      "Versace heels and them latex\n",
      "Neck collar, that that’s a fact\n",
      "I fuck wit you cuz it makes sense\n",
      "We don’t fight but this make up sex\n",
      "Less is more but you more or less\n",
      "Got the top down in my Corvette, yea\n",
      "Red from the summer\n",
      "Must’ve made a wrong turn, checked in a motel just to have sex\n",
      "Like strangers fuckin out of anger\n",
      "Putting on handcuffs, now a nigga chained up\n",
      "Til the maid come clean up\n",
      "Broken mirrors so you know that’s bad luck\n",
      "Lost my wallet, so would you hurry up?\n",
      "Pack up, flee the scene, seen a chef just pull up\n",
      "Shots of tequila, let’s get freaky, lookin for a reason\n",
      "By the look in yo eyes you don’t gotta say much, I can tell that you need it\n",
      "And you need it just as much as I needed you\n",
      "Learn on streets, I pull work for two\n",
      "Yo home girl wanna see if it’s true\n",
      "So just\n",
      "--------------------\n",
      "<class 'bs4.element.NavigableString'>\n"
     ]
    },
    {
     "data": {
      "text/plain": [
       "'\\n'"
      ]
     },
     "metadata": {},
     "output_type": "display_data"
    },
    {
     "name": "stdout",
     "output_type": "stream",
     "text": [
      "When To Stop (feat. Chris Brown)\n",
      "------\n",
      "<class 'bs4.element.Tag'>\n",
      "----------\n",
      "[Hook]\n",
      "--------------------\n",
      "<class 'bs4.element.NavigableString'>\n"
     ]
    },
    {
     "data": {
      "text/plain": [
       "'\\n'"
      ]
     },
     "metadata": {},
     "output_type": "display_data"
    },
    {
     "name": "stdout",
     "output_type": "stream",
     "text": [
      "When To Stop (feat. Chris Brown)\n",
      "------\n",
      "<class 'bs4.element.Tag'>\n",
      "----------\n",
      "[Outro: Chris Brown]\n",
      "Tell me when to stop\n",
      "You know I ain’t gon hurt you baby\n",
      "Tell me when to stop\n",
      "Girl if I start to get carried away\n",
      "Tell me when to stop\n",
      "I’mma li-li-li-lick it and go down\n",
      "Baby you can get it\n",
      "Tell me when to stop\n",
      "Tell me when to stop\n",
      "Tell me when to stop\n",
      "Tell me when to stop\n",
      "--------------------\n",
      "<class 'bs4.element.NavigableString'>\n"
     ]
    },
    {
     "data": {
      "text/plain": [
       "'\\n'"
      ]
     },
     "metadata": {},
     "output_type": "display_data"
    },
    {
     "name": "stdout",
     "output_type": "stream",
     "text": [
      "<class 'bs4.element.NavigableString'>\n"
     ]
    },
    {
     "data": {
      "text/plain": [
       "'\\n'"
      ]
     },
     "metadata": {},
     "output_type": "display_data"
    },
    {
     "name": "stdout",
     "output_type": "stream",
     "text": [
      "<class 'bs4.element.NavigableString'>\n"
     ]
    },
    {
     "data": {
      "text/plain": [
       "'\\n'"
      ]
     },
     "metadata": {},
     "output_type": "display_data"
    },
    {
     "name": "stdout",
     "output_type": "stream",
     "text": [
      "<class 'bs4.element.NavigableString'>\n"
     ]
    },
    {
     "data": {
      "text/plain": [
       "'\\n'"
      ]
     },
     "metadata": {},
     "output_type": "display_data"
    },
    {
     "name": "stdout",
     "output_type": "stream",
     "text": [
      "<class 'bs4.element.NavigableString'>\n"
     ]
    },
    {
     "data": {
      "text/plain": [
       "'\\n'"
      ]
     },
     "metadata": {},
     "output_type": "display_data"
    },
    {
     "name": "stdout",
     "output_type": "stream",
     "text": [
      "<class 'bs4.element.NavigableString'>\n"
     ]
    },
    {
     "data": {
      "text/plain": [
       "'\\n'"
      ]
     },
     "metadata": {},
     "output_type": "display_data"
    },
    {
     "name": "stdout",
     "output_type": "stream",
     "text": [
      "<class 'bs4.element.NavigableString'>\n"
     ]
    },
    {
     "data": {
      "text/plain": [
       "'\\n'"
      ]
     },
     "metadata": {},
     "output_type": "display_data"
    },
    {
     "name": "stdout",
     "output_type": "stream",
     "text": [
      "<class 'bs4.element.NavigableString'>\n"
     ]
    },
    {
     "data": {
      "text/plain": [
       "'\\n'"
      ]
     },
     "metadata": {},
     "output_type": "display_data"
    },
    {
     "name": "stdout",
     "output_type": "stream",
     "text": [
      "<class 'bs4.element.NavigableString'>\n"
     ]
    },
    {
     "data": {
      "text/plain": [
       "'\\n'"
      ]
     },
     "metadata": {},
     "output_type": "display_data"
    },
    {
     "name": "stdout",
     "output_type": "stream",
     "text": [
      "Who Dat\n",
      "------\n",
      "<class 'bs4.element.Tag'>\n",
      "----------\n",
      "[Intro]\n",
      "--------------------\n",
      "<class 'bs4.element.NavigableString'>\n"
     ]
    },
    {
     "data": {
      "text/plain": [
       "'\\n'"
      ]
     },
     "metadata": {},
     "output_type": "display_data"
    },
    {
     "name": "stdout",
     "output_type": "stream",
     "text": [
      "<class 'bs4.element.NavigableString'>\n"
     ]
    },
    {
     "data": {
      "text/plain": [
       "'\\n'"
      ]
     },
     "metadata": {},
     "output_type": "display_data"
    },
    {
     "name": "stdout",
     "output_type": "stream",
     "text": [
      "<class 'bs4.element.NavigableString'>\n"
     ]
    },
    {
     "data": {
      "text/plain": [
       "'\\n'"
      ]
     },
     "metadata": {},
     "output_type": "display_data"
    },
    {
     "name": "stdout",
     "output_type": "stream",
     "text": [
      "Wish\n",
      "------\n",
      "<class 'bs4.element.Tag'>\n",
      "----------\n",
      "[Verse 1: Tyga]\n",
      "Well it's that Westside killa bitch, all about my paper\n",
      "One hand on my guap, screaming finger fuck a hater\n",
      "2 hands on my lap two bitches ass naked\n",
      "300 on the drop, and I'm still your bitch favorite\n",
      "I want her, I get her don't need her\n",
      "Change them like seasons, fall of when I leave her\n",
      "Yeah I'm cashing out, and I'm riding with that Nina\n",
      "Dick game ether, she does speaking no English (Ariba!)\n",
      "Wilding goin crazy\n",
      "Yeah, we're in the party and the party getting faded\n",
      "Already fucked up, I dont know how I made it\n",
      "And I'mma need a driver, cause the driver intoxicated\n",
      "A nigga can't tame me, two ladies entertain me\n",
      "Pull my money out, now the club rainin'\n",
      "Lemon and Ciroc, now my face changing\n",
      "Looking like cable, watch 'em standing on the table, and I\n",
      "--------------------\n",
      "<class 'bs4.element.NavigableString'>\n"
     ]
    },
    {
     "data": {
      "text/plain": [
       "'\\n'"
      ]
     },
     "metadata": {},
     "output_type": "display_data"
    },
    {
     "name": "stdout",
     "output_type": "stream",
     "text": [
      "Wish\n",
      "------\n",
      "<class 'bs4.element.Tag'>\n",
      "----------\n",
      "[Hook x2]\n",
      "Wish a nigga would like a tree in this bitch\n",
      "Wish a nigga would like a tree in this bitch\n",
      "Wish a nigga would like a tree in this bitch\n",
      "We in this bitch, we-we in this bitch\n",
      "--------------------\n",
      "<class 'bs4.element.NavigableString'>\n"
     ]
    },
    {
     "data": {
      "text/plain": [
       "'\\n'"
      ]
     },
     "metadata": {},
     "output_type": "display_data"
    },
    {
     "name": "stdout",
     "output_type": "stream",
     "text": [
      "Wish\n",
      "------\n",
      "<class 'bs4.element.Tag'>\n",
      "----------\n",
      "[Verse 2: Tyga]\n",
      "Two seater, bitch I ain't in a Beetle\n",
      "Just put 4's on the ghost, but I don't need 'em\n",
      "Rich game, no shirt, no hole beater\n",
      "Hotter than the mufuckin devil red Beamer\n",
      "Wrist gleamer, all about my own demeanor\n",
      "Said he from the land, but niggas said they never seen ya\n",
      "Put ice in Adele for no reason\n",
      "And she catch my balls, like gold keepers\n",
      "Trippy more, hella bass\n",
      "Put the bump in your face; why you all up in my space?\n",
      "Bitch back back, keep my house, cars up to date\n",
      "Got five hoes with me like I'm on a Elimidate\n",
      "Nigga don't hate, my money been straight\n",
      "King gold chains, on the license plate\n",
      "As I valet the ride\n",
      "2 chains on, no lie\n",
      "--------------------\n",
      "<class 'bs4.element.NavigableString'>\n"
     ]
    },
    {
     "data": {
      "text/plain": [
       "'\\n'"
      ]
     },
     "metadata": {},
     "output_type": "display_data"
    },
    {
     "name": "stdout",
     "output_type": "stream",
     "text": [
      "Wish\n",
      "------\n",
      "<class 'bs4.element.Tag'>\n",
      "----------\n",
      "[Hook x2]\n",
      "--------------------\n",
      "<class 'bs4.element.NavigableString'>\n"
     ]
    },
    {
     "data": {
      "text/plain": [
       "'\\n'"
      ]
     },
     "metadata": {},
     "output_type": "display_data"
    },
    {
     "name": "stdout",
     "output_type": "stream",
     "text": [
      "Wish\n",
      "------\n",
      "<class 'bs4.element.Tag'>\n",
      "----------\n",
      "[Bridge]\n",
      "Wilding goin crazy, yeah we in the party and the party gettin faded, faded, faded\n",
      "Wilding goin crazy, yeah we in the party and the party gettin faded, faded, faded\n",
      "Wilding goin crazy, yeah we in the party and the bitches gettin faded, faded, faded\n",
      "Wilding goin crazy, yeah we in the party and these niggas going crazy, man I...\n",
      "--------------------\n",
      "<class 'bs4.element.NavigableString'>\n"
     ]
    },
    {
     "data": {
      "text/plain": [
       "'\\n'"
      ]
     },
     "metadata": {},
     "output_type": "display_data"
    },
    {
     "name": "stdout",
     "output_type": "stream",
     "text": [
      "Wish\n",
      "------\n",
      "<class 'bs4.element.Tag'>\n",
      "----------\n",
      "[Hook x2]\n",
      "--------------------\n",
      "<class 'bs4.element.NavigableString'>\n"
     ]
    },
    {
     "data": {
      "text/plain": [
       "'\\n'"
      ]
     },
     "metadata": {},
     "output_type": "display_data"
    },
    {
     "name": "stdout",
     "output_type": "stream",
     "text": [
      "Wonder Woman (feat. Chris Brown)\n",
      "------\n",
      "<class 'bs4.element.Tag'>\n",
      "----------\n",
      "[Chris Brown - Chorus]\n",
      "Tonight I want me a wonder woman\n",
      "That can save my life\n",
      "wanna feel her power right now\n",
      "a real wonder woman\n",
      "come be my hero\n",
      "you can take your cape off\n",
      "you dont need that to save my heart\n",
      "you just need to take me, I know you can fly\n",
      "because I see you in the skies\n",
      "--------------------\n",
      "<class 'bs4.element.NavigableString'>\n"
     ]
    },
    {
     "data": {
      "text/plain": [
       "'\\n'"
      ]
     },
     "metadata": {},
     "output_type": "display_data"
    },
    {
     "name": "stdout",
     "output_type": "stream",
     "text": [
      "Wonder Woman (feat. Chris Brown)\n",
      "------\n",
      "<class 'bs4.element.Tag'>\n",
      "----------\n",
      "[Tyga]\n",
      "Damn she bad, damn she bad\n",
      "heels with the matching bag\n",
      "mirror with the lip gloss\n",
      "lick her lips then she laugh\n",
      "Lady Gaga colored Mac\n",
      "all her friends using that\n",
      "she could be on magazines, but she aint really into that\n",
      "owww, damn she bad\n",
      "had to say it twice, its gettin’ late\n",
      "you should spend the night\n",
      "no rushing thangs, got a whole lot of game\n",
      "and I’m stuck in my ways, but just for you, I’ll change\n",
      "Polaroid camera put this moment on your freezer\n",
      "5 in the mornin’ yawning, kiss ya while you sleepin’\n",
      "half awake I can see you peekin’\n",
      "wake up baby cuz...\n",
      "--------------------\n",
      "<class 'bs4.element.NavigableString'>\n"
     ]
    },
    {
     "data": {
      "text/plain": [
       "'\\n'"
      ]
     },
     "metadata": {},
     "output_type": "display_data"
    },
    {
     "name": "stdout",
     "output_type": "stream",
     "text": [
      "Wonder Woman (feat. Chris Brown)\n",
      "------\n",
      "<class 'bs4.element.Tag'>\n",
      "----------\n",
      "[Chris Brown - Chorus]\n",
      "--------------------\n",
      "<class 'bs4.element.NavigableString'>\n"
     ]
    },
    {
     "data": {
      "text/plain": [
       "'\\n'"
      ]
     },
     "metadata": {},
     "output_type": "display_data"
    },
    {
     "name": "stdout",
     "output_type": "stream",
     "text": [
      "Wonder Woman (feat. Chris Brown)\n",
      "------\n",
      "<class 'bs4.element.Tag'>\n",
      "----------\n",
      "[Tyga]\n",
      "all shit aside\n",
      "I love the way you walk\n",
      "you got that indie glow\n",
      "give me some time to watch\n",
      "freeze freeze you put my heart into anesthesia\n",
      "I love you ’round the clock, wont stop till I get enough\n",
      "overtime overtime I put in for that Valentine\n",
      "know you appreciate it baby lingerie La Perla lacing\n",
      "lets get naked, rip our clothes off\n",
      "I’m the doctor you my nurse in a uniform\n",
      "head game outta control, super heroes on the floor\n",
      "Bruce Banner beat it up, then I turn into the hulk\n",
      "be my Betty Ross, make the bed rock (all night long)\n",
      "--------------------\n",
      "<class 'bs4.element.NavigableString'>\n"
     ]
    },
    {
     "data": {
      "text/plain": [
       "'\\n'"
      ]
     },
     "metadata": {},
     "output_type": "display_data"
    },
    {
     "name": "stdout",
     "output_type": "stream",
     "text": [
      "Wonder Woman (feat. Chris Brown)\n",
      "------\n",
      "<class 'bs4.element.Tag'>\n",
      "----------\n",
      "[Chris Brown - Chorus]\n",
      "--------------------\n",
      "<class 'bs4.element.NavigableString'>\n"
     ]
    },
    {
     "data": {
      "text/plain": [
       "'\\n'"
      ]
     },
     "metadata": {},
     "output_type": "display_data"
    },
    {
     "name": "stdout",
     "output_type": "stream",
     "text": [
      "Word On The Street\n",
      "------\n",
      "<class 'bs4.element.Tag'>\n",
      "----------\n",
      "[Intro]\n",
      "Word on the street I got gold bricks\n",
      "--------------------\n",
      "<class 'bs4.element.NavigableString'>\n"
     ]
    },
    {
     "data": {
      "text/plain": [
       "'\\n'"
      ]
     },
     "metadata": {},
     "output_type": "display_data"
    },
    {
     "name": "stdout",
     "output_type": "stream",
     "text": [
      "Word On The Street\n",
      "------\n",
      "<class 'bs4.element.Tag'>\n",
      "----------\n",
      "[Verse 1:]\n",
      "Word on the street I got gold bricks\n",
      "Put kinggold chains on yo bitch\n",
      "Let'her cry for me, that’s hooty and a blowfish\n",
      "She gon blow dick til she pop, how many licks?\n",
      "Blow this popsicle, stand quick\n",
      "Insane niggas, getting bent in a Bentley\n",
      "Hothead trigger nigga, don’t tempt me\n",
      "Make that ass shake like a Wendy’s frosty (frost bit)\n",
      "In the middle week, Jebediah\n",
      "I’m the great Alexander Empire\n",
      "Bubble gum, put shrimp on yo dinner\n",
      "Rocky Balboa, heart of a lion\n",
      "Tyga, not to be fucked with, tyrant\n",
      "On the highest level, top of mount Zion\n",
      "She said she never fucked me, but she’s lyin\n",
      "Team so strong, could’ve been the Minnesota Viking, fuck it!\n",
      "Two tears nigga in a bucket\n",
      "You don’t like me and bitch I love it\n",
      "Livin life reckless, gold bitch stay nugget\n",
      "Step on curry, got 30 in the luggage\n",
      "Fuck that bitch, she’ll never get a lover\n",
      "Timbuktu, reincarnated king Musa\n",
      "Talkin bout medusa, these niggas just losers\n",
      "You ain’t even do shit, I’m the coach that’s coolest\n",
      "T ruler, sharp shooter, red ruga, not human\n",
      "Lex Luthor, super mutant, still bruising\n",
      "Steel chrome, still ruthless, translucent\n",
      "Probably the best to do this\n",
      "--------------------\n",
      "<class 'bs4.element.NavigableString'>\n"
     ]
    },
    {
     "data": {
      "text/plain": [
       "'\\n'"
      ]
     },
     "metadata": {},
     "output_type": "display_data"
    },
    {
     "name": "stdout",
     "output_type": "stream",
     "text": [
      "<class 'bs4.element.NavigableString'>\n"
     ]
    },
    {
     "data": {
      "text/plain": [
       "'\\n'"
      ]
     },
     "metadata": {},
     "output_type": "display_data"
    },
    {
     "name": "stdout",
     "output_type": "stream",
     "text": [
      "<class 'bs4.element.NavigableString'>\n"
     ]
    },
    {
     "data": {
      "text/plain": [
       "'\\n'"
      ]
     },
     "metadata": {},
     "output_type": "display_data"
    },
    {
     "name": "stdout",
     "output_type": "stream",
     "text": [
      "Word On The Street\n",
      "------\n",
      "<class 'bs4.element.Tag'>\n",
      "----------\n",
      "[Verse 2:]\n",
      "Heath Ledger, pill poppin, no jokin\n",
      "Stanley Kubrick, eyes wide die opened\n",
      "So doctor, this ain’t Broadwayin\n",
      "Tom foolery, yall niggas horse playin\n",
      "Most hated cuz the crib most gated\n",
      "Most cars, a lot of broads, the most dated\n",
      "Your cars pass through expiration\n",
      "Second to none, no offense, none taken\n",
      "Stick up, I’m hijakin em back\n",
      "I’m the shit bubblewrap, get rap to rap\n",
      "Flow god, that is so hot\n",
      "Step on yo back bitch\n",
      "Now you hunchback and launch from the launchin pad\n",
      "Lougin at the pack\n",
      "T-Raw the best rapper in there and I’m flexin 600 grand on my lap\n",
      "Instagram, take the pilot jet ready\n",
      "That’s an instant plane\n",
      "Fuck yall, niggas couch mane\n",
      "Actin ashamed, don’t be a slave\n",
      "Put yo check on the table\n",
      "By the end of the days paid hey hey\n",
      "Blake fair at the world fair, fuck fair\n",
      "When them near smell roast in the air\n",
      "Oh yea? Who that nigga with the big ass gat?\n",
      "That’s me with the big ass gat\n",
      "It’s a sabertooth\n",
      "Hater eat yo life in a big ass flash\n",
      "No pork on my plate, nigga still goin ham\n",
      "--------------------\n",
      "<class 'bs4.element.NavigableString'>\n"
     ]
    },
    {
     "data": {
      "text/plain": [
       "'\\n'"
      ]
     },
     "metadata": {},
     "output_type": "display_data"
    },
    {
     "name": "stdout",
     "output_type": "stream",
     "text": [
      "<class 'bs4.element.NavigableString'>\n"
     ]
    },
    {
     "data": {
      "text/plain": [
       "'\\n'"
      ]
     },
     "metadata": {},
     "output_type": "display_data"
    },
    {
     "name": "stdout",
     "output_type": "stream",
     "text": [
      "<class 'bs4.element.NavigableString'>\n"
     ]
    },
    {
     "data": {
      "text/plain": [
       "'\\n'"
      ]
     },
     "metadata": {},
     "output_type": "display_data"
    },
    {
     "name": "stdout",
     "output_type": "stream",
     "text": [
      "<class 'bs4.element.NavigableString'>\n"
     ]
    },
    {
     "data": {
      "text/plain": [
       "'\\n'"
      ]
     },
     "metadata": {},
     "output_type": "display_data"
    },
    {
     "name": "stdout",
     "output_type": "stream",
     "text": [
      "Woww\n",
      "------\n",
      "<class 'bs4.element.Tag'>\n",
      "----------\n",
      "[chorus]\n",
      "Woww\n",
      "Ever heard a sound like this? who you know that'll put it down like this?\n",
      "--------------------\n",
      "<class 'bs4.element.NavigableString'>\n"
     ]
    },
    {
     "data": {
      "text/plain": [
       "'\\n'"
      ]
     },
     "metadata": {},
     "output_type": "display_data"
    },
    {
     "name": "stdout",
     "output_type": "stream",
     "text": [
      "<class 'bs4.element.NavigableString'>\n"
     ]
    },
    {
     "data": {
      "text/plain": [
       "'\\n'"
      ]
     },
     "metadata": {},
     "output_type": "display_data"
    },
    {
     "name": "stdout",
     "output_type": "stream",
     "text": [
      "<class 'bs4.element.NavigableString'>\n"
     ]
    },
    {
     "data": {
      "text/plain": [
       "'\\n'"
      ]
     },
     "metadata": {},
     "output_type": "display_data"
    },
    {
     "name": "stdout",
     "output_type": "stream",
     "text": [
      "<class 'bs4.element.NavigableString'>\n"
     ]
    },
    {
     "data": {
      "text/plain": [
       "'\\n'"
      ]
     },
     "metadata": {},
     "output_type": "display_data"
    },
    {
     "name": "stdout",
     "output_type": "stream",
     "text": [
      "<class 'bs4.element.NavigableString'>\n"
     ]
    },
    {
     "data": {
      "text/plain": [
       "'\\n'"
      ]
     },
     "metadata": {},
     "output_type": "display_data"
    },
    {
     "name": "stdout",
     "output_type": "stream",
     "text": [
      "Woww\n",
      "------\n",
      "<class 'bs4.element.Tag'>\n",
      "----------\n",
      "[chorus]\n",
      "Woww\n",
      "Ever heard a sound like this? who you know thatll put it down like this?\n",
      "--------------------\n",
      "<class 'bs4.element.NavigableString'>\n"
     ]
    },
    {
     "data": {
      "text/plain": [
       "'\\n'"
      ]
     },
     "metadata": {},
     "output_type": "display_data"
    },
    {
     "name": "stdout",
     "output_type": "stream",
     "text": [
      "<class 'bs4.element.NavigableString'>\n"
     ]
    },
    {
     "data": {
      "text/plain": [
       "'\\n'"
      ]
     },
     "metadata": {},
     "output_type": "display_data"
    },
    {
     "name": "stdout",
     "output_type": "stream",
     "text": [
      "<class 'bs4.element.NavigableString'>\n"
     ]
    },
    {
     "data": {
      "text/plain": [
       "'\\n'"
      ]
     },
     "metadata": {},
     "output_type": "display_data"
    },
    {
     "name": "stdout",
     "output_type": "stream",
     "text": [
      "<class 'bs4.element.NavigableString'>\n"
     ]
    },
    {
     "data": {
      "text/plain": [
       "'\\n'"
      ]
     },
     "metadata": {},
     "output_type": "display_data"
    },
    {
     "name": "stdout",
     "output_type": "stream",
     "text": [
      "<class 'bs4.element.NavigableString'>\n"
     ]
    },
    {
     "data": {
      "text/plain": [
       "'\\n'"
      ]
     },
     "metadata": {},
     "output_type": "display_data"
    },
    {
     "name": "stdout",
     "output_type": "stream",
     "text": [
      "Woww\n",
      "------\n",
      "<class 'bs4.element.Tag'>\n",
      "----------\n",
      "[chorus]\n",
      "Woww\n",
      "Ever heard a sound like this? who you know thatll put it down like this?\n",
      "--------------------\n",
      "<class 'bs4.element.NavigableString'>\n"
     ]
    },
    {
     "data": {
      "text/plain": [
       "'\\n'"
      ]
     },
     "metadata": {},
     "output_type": "display_data"
    },
    {
     "name": "stdout",
     "output_type": "stream",
     "text": [
      "<class 'bs4.element.NavigableString'>\n"
     ]
    },
    {
     "data": {
      "text/plain": [
       "'\\n'"
      ]
     },
     "metadata": {},
     "output_type": "display_data"
    },
    {
     "name": "stdout",
     "output_type": "stream",
     "text": [
      "<class 'bs4.element.NavigableString'>\n"
     ]
    },
    {
     "data": {
      "text/plain": [
       "'\\n'"
      ]
     },
     "metadata": {},
     "output_type": "display_data"
    },
    {
     "name": "stdout",
     "output_type": "stream",
     "text": [
      "<class 'bs4.element.NavigableString'>\n"
     ]
    },
    {
     "data": {
      "text/plain": [
       "'\\n'"
      ]
     },
     "metadata": {},
     "output_type": "display_data"
    },
    {
     "name": "stdout",
     "output_type": "stream",
     "text": [
      "<class 'bs4.element.NavigableString'>\n"
     ]
    },
    {
     "data": {
      "text/plain": [
       "'\\n'"
      ]
     },
     "metadata": {},
     "output_type": "display_data"
    },
    {
     "name": "stdout",
     "output_type": "stream",
     "text": [
      "<class 'bs4.element.NavigableString'>\n"
     ]
    },
    {
     "data": {
      "text/plain": [
       "'\\n'"
      ]
     },
     "metadata": {},
     "output_type": "display_data"
    },
    {
     "name": "stdout",
     "output_type": "stream",
     "text": [
      "Yonkers\n",
      "------\n",
      "<class 'bs4.element.Tag'>\n",
      "----------\n",
      "[Verse 1]\n",
      "Fuckin Ric Flair leglock\n",
      "Headshot, body cropped\n",
      "Make his fuckin mama watch\n",
      "Squeeze your baby inside a fuckin\n",
      "Baby bottle pop. Risky top\n",
      "Running through your blood til your kidneys pop\n",
      "Pillow-talk, leave your lips on top of your pillowtop\n",
      "Pop you while your roof off\n",
      "On top of a rooftop. Oswald, Mankind\n",
      "All you niggas getting socked\n",
      "Loto Wap rock it til your burger leave the lettuce out\n",
      "Check this out, no one around\n",
      "Put your face into my crotch\n",
      "Give a lick, lollipop, frog-tongue on my cock\n",
      "--------------------\n",
      "<class 'bs4.element.NavigableString'>\n"
     ]
    },
    {
     "data": {
      "text/plain": [
       "'\\n'"
      ]
     },
     "metadata": {},
     "output_type": "display_data"
    },
    {
     "name": "stdout",
     "output_type": "stream",
     "text": [
      "<class 'bs4.element.NavigableString'>\n"
     ]
    },
    {
     "data": {
      "text/plain": [
       "'\\n'"
      ]
     },
     "metadata": {},
     "output_type": "display_data"
    },
    {
     "name": "stdout",
     "output_type": "stream",
     "text": [
      "Yonkers\n",
      "------\n",
      "<class 'bs4.element.Tag'>\n",
      "----------\n",
      "[Verse 2]\n",
      "There's dead mammals in my living room\n",
      "Louis minks, foxtails, doper than a metal spoon\n",
      "Ay fool, split your enchilada, now its wormfood\n",
      "Moving like worms move\n",
      "Burn you like perms do\n",
      "One two, leader of the Rat Pack tat crew\n",
      "Hat's removed, when I walk in room\n",
      "Make her eyes twitch\n",
      "Juke ya, cut your shit out like a coupon\n",
      "In due time, reign of a new king\n",
      "Well Done\n",
      "--------------------\n",
      "<class 'bs4.element.NavigableString'>\n"
     ]
    },
    {
     "data": {
      "text/plain": [
       "'\\n'"
      ]
     },
     "metadata": {},
     "output_type": "display_data"
    },
    {
     "name": "stdout",
     "output_type": "stream",
     "text": [
      "Young & Gettin It\n",
      "------\n",
      "<class 'bs4.element.Tag'>\n",
      "----------\n",
      "[Hook]\n",
      "Okay, I go to sleep in the morning\n",
      "Been countin’ money all night\n",
      "I did it all on my own, so\n",
      "These cars I’m gon’ buy\n",
      "Them niggas hated on me\n",
      "I was all the way in Dubai\n",
      "Gettin’ Lambo doors sky high\n",
      "Told that bitch’s bitch it’s no ties\n",
      "--------------------\n",
      "<class 'bs4.element.NavigableString'>\n"
     ]
    },
    {
     "data": {
      "text/plain": [
       "'\\n'"
      ]
     },
     "metadata": {},
     "output_type": "display_data"
    },
    {
     "name": "stdout",
     "output_type": "stream",
     "text": [
      "Young & Gettin It\n",
      "------\n",
      "<class 'bs4.element.Tag'>\n",
      "----------\n",
      "[Verse]\n",
      "Redrum, murder game\n",
      "These niggas gay like Novocane\n",
      "My niggas gutter like bowlin’ lanes\n",
      "Like Pedro, they bowl for me\n",
      "Two Asian bitches, they Siamese\n",
      "So high nigga look Chinese\n",
      "She bite the head like Ozzy\n",
      "Freddy Kruger money you only see in your dreams\n",
      "H-Town, ball hard like my name Hakeem\n",
      "Olajuwon, James Harden,\n",
      "y’all niggas new to the scene\n",
      "And that’s my nigga, supper club,\n",
      "need a new liver\n",
      "Pop, pop bottles on all these bitches\n",
      "Bitch-ass niggas can’t even get in\n",
      "Ripley’s, please believe me\n",
      "That Justin Bieber my neighbor really\n",
      "Ain’t gotta lie, these niggas feel me\n",
      "My bars up, like poppin’ wheelies\n",
      "They won’t beep cause my neck’s chilly\n",
      "Got a bad white bitch like Iggy\n",
      "Iggy Pop, rockstar livin’\n",
      "I’m a flyin’ nigga, shoutout to Philly\n",
      "King shit, your bitch\n",
      "She all up on my dick\n",
      "I get crazy pussy, psychiatrist\n",
      "All about my paper like journalists\n",
      "Killer flow, I earned this shit\n",
      "We ball for real like tournaments\n",
      "On the jet no turbulence\n",
      "Straight flexin,’ I’m so bent\n",
      "No lie, no lie,\n",
      "Said I ain’t never told no lie\n",
      "Say fuck you if you hate me\n",
      "My real fans gon’ ride\n",
      "Got my own shoe, clothing line\n",
      "Own a label, who tryin’ sign?\n",
      "Niggas tryin’ to turn up,\n",
      "But don’t overdose like Limbaugh\n",
      "Hypocrites and all bias\n",
      "I provide ya at your whole Vajira\n",
      "I can bless ya, no church attire\n",
      "Pray to God I don’t die tryin’\n",
      "What’s a stone to a big giant?\n",
      "What’s fire if you can’t ignite it?\n",
      "I’m fed up like FBI\n",
      "Y’all niggas late, colored people time, nigga\n",
      "--------------------\n",
      "<class 'bs4.element.NavigableString'>\n"
     ]
    },
    {
     "data": {
      "text/plain": [
       "'\\n'"
      ]
     },
     "metadata": {},
     "output_type": "display_data"
    },
    {
     "name": "stdout",
     "output_type": "stream",
     "text": [
      "Young Kobe\n",
      "------\n",
      "<class 'bs4.element.Tag'>\n",
      "----------\n",
      "[Hook:]\n",
      "Ahww, T-Raww, Young Kobe\n",
      "I'm 24 nigga, Young Kobe\n",
      "On 24's, that's Young Kobe\n",
      "I'm king in LA, Young Kobe\n",
      "Got white bitches like Young Kobe\n",
      "Got spanish bitches, he a Young Kobe\n",
      "My purp yellow, nigga Young Kobe\n",
      "24 mil, niggas want know\n",
      "--------------------\n",
      "<class 'bs4.element.NavigableString'>\n"
     ]
    },
    {
     "data": {
      "text/plain": [
       "'\\n'"
      ]
     },
     "metadata": {},
     "output_type": "display_data"
    },
    {
     "name": "stdout",
     "output_type": "stream",
     "text": [
      "Young Kobe\n",
      "------\n",
      "<class 'bs4.element.Tag'>\n",
      "----------\n",
      "[Verse 1:]\n",
      "T-Raw, Young Kobe\n",
      "No assist, make the city holy\n",
      "Put you on blast, these bitches love me\n",
      "Bobby V and you Mr. Lonely\n",
      "Choppa mack til you macaroni\n",
      "Got that mack game, gotta admire homie\n",
      "You past the hole, bitch you a bogie\n",
      "Pussy feel good, Tony Toni\n",
      "Hoes sued me, you be last in line\n",
      "She in home movies, fuckin' half the time\n",
      "Killa face, hundred thousand, she be straight, 3-45\n",
      "I'm never late on CP time\n",
      "I got the balling tech and I'm pressed for time\n",
      "I might pop up on you, at your 9 to 5\n",
      "Give you hard 9 and make you quit yo job like\n",
      "--------------------\n",
      "<class 'bs4.element.NavigableString'>\n"
     ]
    },
    {
     "data": {
      "text/plain": [
       "'\\n'"
      ]
     },
     "metadata": {},
     "output_type": "display_data"
    },
    {
     "name": "stdout",
     "output_type": "stream",
     "text": [
      "Young Kobe\n",
      "------\n",
      "<class 'bs4.element.Tag'>\n",
      "----------\n",
      "[Pre-Hook:]\n",
      "Who that? Who that? Who that nigga?\n",
      "In a blue cap, Maybach, blueray coupe back\n",
      "Tell me where they do that, shoot that, shoot back\n",
      "Like where the loot at? Nigga that's who that\n",
      "Only 24, I got my mind made up\n",
      "Tonight's the night, I'm letting niggas know wussup\n",
      "--------------------\n",
      "<class 'bs4.element.NavigableString'>\n"
     ]
    },
    {
     "data": {
      "text/plain": [
       "'\\n'"
      ]
     },
     "metadata": {},
     "output_type": "display_data"
    },
    {
     "name": "stdout",
     "output_type": "stream",
     "text": [
      "Young Kobe\n",
      "------\n",
      "<class 'bs4.element.Tag'>\n",
      "----------\n",
      "[Hook x2]\n",
      "--------------------\n",
      "<class 'bs4.element.NavigableString'>\n"
     ]
    },
    {
     "data": {
      "text/plain": [
       "'\\n'"
      ]
     },
     "metadata": {},
     "output_type": "display_data"
    },
    {
     "name": "stdout",
     "output_type": "stream",
     "text": [
      "Young Kobe\n",
      "------\n",
      "<class 'bs4.element.Tag'>\n",
      "----------\n",
      "[Verse 2:]\n",
      "Nigga you don't know shit\n",
      "From a can of paint, what a nigga thank, put LK on a blank\n",
      "Now a nigga think he me\n",
      "Nah, that's some king shit\n",
      "Pyramids and homicide descriptions, all hail this 20 vision\n",
      "Sip on the selections, get embodied by my spirit, get money on templates, I'm lifted\n",
      "Sick with it, dog on my own\n",
      "Fuck it, I'm tryna bone, knockin at my front door\n",
      "Leave me the fuck alone, I'm blowin home grown\n",
      "It's big money on my phone\n",
      "Cellular, selling dreams for a prettier\n",
      "Bad bitch to me, fuck you if you ain't feelin' her\n",
      "I'm with her, I see another one I forget her\n",
      "I make moves you gotta remember\n",
      "Dude you move like a beginner\n",
      "--------------------\n",
      "<class 'bs4.element.NavigableString'>\n"
     ]
    },
    {
     "data": {
      "text/plain": [
       "'\\n'"
      ]
     },
     "metadata": {},
     "output_type": "display_data"
    },
    {
     "name": "stdout",
     "output_type": "stream",
     "text": [
      "Young Kobe\n",
      "------\n",
      "<class 'bs4.element.Tag'>\n",
      "----------\n",
      "[Pre-Hook]\n",
      "--------------------\n",
      "<class 'bs4.element.NavigableString'>\n"
     ]
    },
    {
     "data": {
      "text/plain": [
       "'\\n'"
      ]
     },
     "metadata": {},
     "output_type": "display_data"
    },
    {
     "name": "stdout",
     "output_type": "stream",
     "text": [
      "Young Kobe\n",
      "------\n",
      "<class 'bs4.element.Tag'>\n",
      "----------\n",
      "[Hook x2]\n",
      "--------------------\n",
      "<class 'bs4.element.NavigableString'>\n"
     ]
    },
    {
     "data": {
      "text/plain": [
       "'\\n'"
      ]
     },
     "metadata": {},
     "output_type": "display_data"
    },
    {
     "name": "stdout",
     "output_type": "stream",
     "text": [
      "Young Kobe\n",
      "------\n",
      "<class 'bs4.element.Tag'>\n",
      "----------\n",
      "[Outro:]\n",
      "Nigga you don't know shit\n",
      "From a killing pain, with a nigga thing, put LK on a blank\n",
      "Now a nigga think he me\n",
      "Nigga you don't know shit\n",
      "Pyramids and homicide descriptions, all hail this 20 vision\n",
      "Sip on the selections, get embodied by my spirit, get money on templates, I'm lifted\n",
      "--------------------\n",
      "<class 'bs4.element.NavigableString'>\n"
     ]
    },
    {
     "data": {
      "text/plain": [
       "'\\n'"
      ]
     },
     "metadata": {},
     "output_type": "display_data"
    }
   ],
   "source": [
    "counter = 0\n",
    "res = {}\n",
    "\n",
    "while counter <= 5:\n",
    "    for key in song_dict:\n",
    "        song = song_dict[key]\n",
    "\n",
    "        for t in song:\n",
    "            try:\n",
    "                if '[' in t.text:\n",
    "                    print(key)\n",
    "                    print(3*'--')\n",
    "                    print(type(t))\n",
    "                    print(5*'--')\n",
    "                    print(t.text)\n",
    "                    print(10*'--')\n",
    "                    try:\n",
    "                        res[type(t)] += 1\n",
    "                    except:\n",
    "                        res[type(t)] = 1\n",
    "                    counter += 1\n",
    "            except AttributeError:\n",
    "                print(type(t))\n",
    "                try:\n",
    "                    res[type(t)] += 1\n",
    "                except:\n",
    "                    res[type(t)] = 1\n",
    "                display(t)"
   ]
  },
  {
   "cell_type": "code",
   "execution_count": 18,
   "metadata": {
    "ExecuteTime": {
     "end_time": "2020-11-11T01:46:59.154198Z",
     "start_time": "2020-11-11T01:46:59.131366Z"
    },
    "hidden": true
   },
   "outputs": [
    {
     "data": {
      "text/plain": [
       "{bs4.element.Tag: 825, bs4.element.NavigableString: 1254}"
      ]
     },
     "execution_count": 18,
     "metadata": {},
     "output_type": "execute_result"
    }
   ],
   "source": [
    "res"
   ]
  },
  {
   "cell_type": "code",
   "execution_count": 8,
   "metadata": {
    "ExecuteTime": {
     "end_time": "2020-10-13T01:46:30.772278Z",
     "start_time": "2020-10-13T01:46:30.725705Z"
    },
    "hidden": true
   },
   "outputs": [],
   "source": [
    "## Collecting all album/song titles + song links\n",
    "albums_songs = start_soup.findAll('div', attrs={'class': ['album', 'listalbum-item']})"
   ]
  },
  {
   "cell_type": "code",
   "execution_count": 16,
   "metadata": {
    "ExecuteTime": {
     "end_time": "2020-10-13T02:10:42.528525Z",
     "start_time": "2020-10-13T02:10:42.497626Z"
    },
    "hidden": true
   },
   "outputs": [
    {
     "name": "stdout",
     "output_type": "stream",
     "text": [
      "1st Album!\n",
      "Empty list!\n"
     ]
    }
   ],
   "source": [
    "## Agg. each album into a dict of a dict {Album: {song:song_link,...}}\n",
    "album_mid = dlf.album_aggregator(albums_songs)\n",
    "## Extra function needed for sorting 'Other songs'\n",
    "album_dict = dlf.legendary_album_splitter(album_mid)"
   ]
  },
  {
   "cell_type": "markdown",
   "metadata": {
    "hidden": true
   },
   "source": [
    "#### Link Scraping"
   ]
  },
  {
   "cell_type": "markdown",
   "metadata": {
    "hidden": true
   },
   "source": [
    "**Albums Done**\n",
    "* No Introduction\n",
    "* The Potential\n",
    "* Fan Of A Fan\n",
    "* Well Done\n",
    "* Black Thoughts Vol. 2\n",
    "* Well Done 2\n",
    "* #BitchImTheShit\n",
    "* Careless World: Rise Of The Last King\n",
    "* Well Done 3\n",
    "* 187\n",
    "* Hotel California\n",
    "* Well Done 4\n",
    "* Fan Of A Fan: The Album\n",
    "* The Gold Album: 18th Dynasty\n",
    "* Fuk Wat They Talkin Bout\n",
    "* Rawwest Nigga Alive\n",
    "* Bitch I'm The Shit 2\n",
    "* Bugatti Raww\n",
    "* Kyoto\n",
    "* Legendary\n",
    "* Other Songs"
   ]
  },
  {
   "cell_type": "markdown",
   "metadata": {
    "ExecuteTime": {
     "end_time": "2020-10-13T02:32:29.620999Z",
     "start_time": "2020-10-13T02:32:29.612946Z"
    },
    "hidden": true
   },
   "source": [
    "**STRATEGY FOR SCRAPING LYRICS**\n",
    "* Copy `album_dict` into `res_dict`\n",
    "* Iterate through each album:\n",
    "    * Iterate through each song:\n",
    "        * Scrape using link (**NEED TO CHECK FORMAT**)\n",
    "        * Replace link w/scraped soup\n",
    "* Return *copied* `res_dict`"
   ]
  },
  {
   "cell_type": "code",
   "execution_count": 33,
   "metadata": {
    "ExecuteTime": {
     "end_time": "2020-10-23T04:21:36.517520Z",
     "start_time": "2020-10-23T04:21:36.500042Z"
    },
    "hidden": true
   },
   "outputs": [],
   "source": [
    "# album_names = []\n",
    "# for key in album_dict:\n",
    "#     album_names.append(key)\n",
    "\n",
    "albums_w_lyrics = album_dict.copy()"
   ]
  },
  {
   "cell_type": "code",
   "execution_count": 37,
   "metadata": {
    "ExecuteTime": {
     "end_time": "2020-10-23T04:23:31.503406Z",
     "start_time": "2020-10-23T04:23:31.475205Z"
    },
    "hidden": true,
    "scrolled": false
   },
   "outputs": [],
   "source": [
    "# alb_num = 0\n",
    "# song_start_url = 'https://www.azlyrics.com'\n",
    "# test_album = album_dict[album_names[alb_num]].copy()\n",
    "\n",
    "def song_collector(start_url, dict_, alb_num=0, sleep_time=30, verbose=True):\n",
    "    \n",
    "    # import requests\n",
    "    # from bs4 import BeautifulSoup\n",
    "    \n",
    "    ## Create list for iteration\n",
    "    list_of_albums = []\n",
    "    for album in dict_:\n",
    "        list_of_albums.append(album)\n",
    "    \n",
    "    ## Setting album for use    \n",
    "    album = list_of_albums[alb_num]\n",
    "    \n",
    "    ## Create and retrieve soup from full song URL\n",
    "    for song in dict_[album]:\n",
    "        end_url = dict_[album][song]\n",
    "        full_url = start_url + end_url\n",
    "        resp = requests.get(full_url)\n",
    "        song_soup = BeautifulSoup(resp.text, 'html.parser')\n",
    "        \n",
    "        ## Optional display\n",
    "        if verbose:\n",
    "            print(f'Song: {song}')    \n",
    "    \n",
    "    ## Select divs from soup including lyrics\n",
    "    song_lyrics = song_soup.findAll('div', attrs={'class': None})\n",
    "    \n",
    "    ## Store single div containing lyrics only (div w/o an id attr)\n",
    "    for tag in song_lyrics:\n",
    "        try:\n",
    "            _ = tag['id']\n",
    "        except KeyError:\n",
    "            t_tag = tag\n",
    "            ## Optional display\n",
    "            if verbose:\n",
    "                print('Lyrics!')\n",
    "    \n",
    "    ## Store\n",
    "    dict_[album][song] = t_tag\n",
    "    \n",
    "    ## Optional display\n",
    "    if verbose:\n",
    "        print('Sleeping...')\n",
    "        print('--'*30)\n",
    "    \n",
    "    ## Pacing for URL calls\n",
    "    time.sleep(10)\n",
    "\n",
    "    return dict_\n",
    "    \n",
    "# song_res = []\n",
    "# song_dump = []\n",
    "# switch = False"
   ]
  },
  {
   "cell_type": "code",
   "execution_count": 38,
   "metadata": {
    "ExecuteTime": {
     "end_time": "2020-10-23T04:25:44.988262Z",
     "start_time": "2020-10-23T04:25:44.968279Z"
    },
    "hidden": true
   },
   "outputs": [
    {
     "data": {
      "text/plain": [
       "'/lyrics/tyga/diamondlife.html'"
      ]
     },
     "execution_count": 38,
     "metadata": {},
     "output_type": "execute_result"
    }
   ],
   "source": [
    "albums_w_lyrics['No Introduction']['Diamond Life']"
   ]
  },
  {
   "cell_type": "code",
   "execution_count": 36,
   "metadata": {
    "ExecuteTime": {
     "end_time": "2020-10-23T04:22:05.640242Z",
     "start_time": "2020-10-23T04:21:48.191553Z"
    },
    "hidden": true
   },
   "outputs": [
    {
     "name": "stdout",
     "output_type": "stream",
     "text": [
      "/lyrics/tyga/diamondlife.html\n",
      "Song: Diamond Life\n",
      "/lyrics/tyga/coconutjuice.html\n",
      "Song: Coconut Juice\n",
      "/lyrics/tyga/supersizeme.html\n",
      "Song: Supersize Me\n",
      "/lyrics/tyga/dontregretitnow.html\n",
      "Song: Don't Regret It Now\n",
      "/lyrics/tyga/pillowtalkin.html\n",
      "Song: Pillow Talkin'\n",
      "/lyrics/tyga/aim.html\n",
      "Song: AIM\n",
      "/lyrics/tyga/firsttimers.html\n",
      "Song: First Timers\n",
      "/lyrics/tyga/cartoonz.html\n",
      "Song: Cartoonz\n",
      "/lyrics/tyga/summertime.html\n",
      "Song: Summertime\n",
      "/lyrics/tyga/press7.html\n",
      "Song: Press 7\n",
      "/lyrics/tyga/woww.html\n",
      "Song: Woww\n",
      "/lyrics/tyga/2am.html\n",
      "Song: 2 AM\n",
      "/lyrics/tyga/est80sbaby.html\n",
      "Song: Est. (80's Baby)\n",
      "/lyrics/tyga/iam.html\n",
      "Song: I Am(iTunes Bonus Track)\n",
      "Lyrics!\n"
     ]
    },
    {
     "ename": "NameError",
     "evalue": "name 'list_of_keys' is not defined",
     "output_type": "error",
     "traceback": [
      "\u001b[1;31m---------------------------------------------------------------------------\u001b[0m",
      "\u001b[1;31mNameError\u001b[0m                                 Traceback (most recent call last)",
      "\u001b[1;32m<ipython-input-36-61c8af7daa98>\u001b[0m in \u001b[0;36m<module>\u001b[1;34m()\u001b[0m\n\u001b[1;32m----> 1\u001b[1;33m \u001b[0malbums_w_lyrics\u001b[0m \u001b[1;33m=\u001b[0m \u001b[0msong_collector\u001b[0m\u001b[1;33m(\u001b[0m\u001b[1;34m'https://www.azlyrics.com'\u001b[0m\u001b[1;33m,\u001b[0m \u001b[0malbums_w_lyrics\u001b[0m\u001b[1;33m,\u001b[0m \u001b[0malb_num\u001b[0m\u001b[1;33m=\u001b[0m\u001b[1;36m0\u001b[0m\u001b[1;33m)\u001b[0m\u001b[1;33m\u001b[0m\u001b[0m\n\u001b[0m",
      "\u001b[1;32m<ipython-input-34-388ffd43b9bc>\u001b[0m in \u001b[0;36msong_collector\u001b[1;34m(start_url, dict_, alb_num, sleep_time, verbose)\u001b[0m\n\u001b[0;32m     42\u001b[0m \u001b[1;33m\u001b[0m\u001b[0m\n\u001b[0;32m     43\u001b[0m     \u001b[1;31m## Store\u001b[0m\u001b[1;33m\u001b[0m\u001b[1;33m\u001b[0m\u001b[0m\n\u001b[1;32m---> 44\u001b[1;33m     \u001b[0mdict_\u001b[0m\u001b[1;33m[\u001b[0m\u001b[0mlist_of_keys\u001b[0m\u001b[1;33m[\u001b[0m\u001b[0mkey_num\u001b[0m\u001b[1;33m]\u001b[0m\u001b[1;33m]\u001b[0m\u001b[1;33m[\u001b[0m\u001b[0msong\u001b[0m\u001b[1;33m]\u001b[0m \u001b[1;33m=\u001b[0m \u001b[0mt_tag\u001b[0m\u001b[1;33m\u001b[0m\u001b[0m\n\u001b[0m\u001b[0;32m     45\u001b[0m \u001b[1;33m\u001b[0m\u001b[0m\n\u001b[0;32m     46\u001b[0m     \u001b[1;31m## Optional display\u001b[0m\u001b[1;33m\u001b[0m\u001b[1;33m\u001b[0m\u001b[0m\n",
      "\u001b[1;31mNameError\u001b[0m: name 'list_of_keys' is not defined"
     ]
    }
   ],
   "source": [
    "albums_w_lyrics = song_collector('https://www.azlyrics.com', albums_w_lyrics, alb_num=0)"
   ]
  },
  {
   "cell_type": "code",
   "execution_count": null,
   "metadata": {
    "hidden": true
   },
   "outputs": [],
   "source": [
    "tester = t_tag.findAll('i')\n",
    "\n",
    "for tag in tester:\n",
    "    print(tag.text)"
   ]
  },
  {
   "cell_type": "code",
   "execution_count": 12,
   "metadata": {
    "ExecuteTime": {
     "end_time": "2020-10-23T01:20:00.146573Z",
     "start_time": "2020-10-23T01:20:00.046250Z"
    },
    "hidden": true
   },
   "outputs": [
    {
     "data": {
      "text/plain": [
       "<div>\n",
       "<!-- Usage of azlyrics.com content by any third-party lyrics provider is prohibited by our licensing agreement. Sorry about that. -->\n",
       "<i>[Chorus: Patty Cash]</i><br/>\n",
       "Diamond Life<br/>\n",
       "Sugar baby we dynamite<br/>\n",
       "Playboy and socialites<br/>\n",
       "Young and Fly Fly Fly<br/>\n",
       "<br/>\n",
       "<i>[Verse 1: Tyga]</i><br/>\n",
       "1989 no pressure<br/>\n",
       "But to be the bestest in my section<br/>\n",
       "Levels of a professional<br/>\n",
       "Skip school create my own lessons<br/>\n",
       "Confessions of a mad rapper<br/>\n",
       "Music got me rapping<br/>\n",
       "Green stretching only leads to red stretches<br/>\n",
       "He's next in line for the blessing<br/>\n",
       "Get your mind off minds<br/>\n",
       "Hustle something and stop relying on mine<br/>\n",
       "More then a legend why you letting time fly by<br/>\n",
       "At age 17 addicted to ink<br/>\n",
       "A rap fein who had money dreams<br/>\n",
       "My chase of fame couldn't compare to what I seen<br/>\n",
       "Them die government lie hard for the paper cheese<br/>\n",
       "Moms crying watching her only son<br/>\n",
       "Through TV mtv bet<br/>\n",
       "He on now wipe me down<br/>\n",
       "No longer fighting through the crowd<br/>\n",
       "I control the crowd oh you like me now wow!<br/>\n",
       "<br/>\n",
       "<i>[Chorus: Patty Cash]</i><br/>\n",
       "Diamond Life<br/>\n",
       "Sugar baby we dynamite<br/>\n",
       "Playboy and socialites<br/>\n",
       "Young and Fly Fly Fly<br/>\n",
       "Diamond Life<br/>\n",
       "Sugar baby we dynamite<br/>\n",
       "Playboy and socialites<br/>\n",
       "Young and Fly Fly Fly<br/>\n",
       "<br/>\n",
       "<i>[Verse 2:]</i><br/>\n",
       "Back to the cool motivational roads<br/>\n",
       "No guidance just violence in probational homes<br/>\n",
       "Thinking my high routes is all out<br/>\n",
       "Music gotta be my way out<br/>\n",
       "Family gathered around I gotta make em proud<br/>\n",
       "Pops popped in the penatenary laided out<br/>\n",
       "Hoping his son fell under a different cloud<br/>\n",
       "I'm speaking directly into the crowd<br/>\n",
       "Nothing personal<br/>\n",
       "Just thought you would love to know the person<br/>\n",
       "Far from perfect<br/>\n",
       "But nearly word perfect<br/>\n",
       "Must be he weighed him<br/>\n",
       "On a scale form 1 to me, me<br/>\n",
       "Even the greatness<br/>\n",
       "Money equal a every 10 haters<br/>\n",
       "The rest couldn't make it though the unlikely behavior<br/>\n",
       "So be patient<br/>\n",
       "Or end up the next patient<br/>\n",
       "Emergency room, newspaper<br/>\n",
       "The new rappers call em street actors<br/>\n",
       "Music wise they playing safety<br/>\n",
       "And I'm shooting on safety aiming for greatness<br/>\n",
       "<br/>\n",
       "<i>[Chorus: Patty Cash]</i><br/>\n",
       "Diamond Life<br/>\n",
       "Sugar baby we dynamite<br/>\n",
       "Playboy and socialites<br/>\n",
       "Young and Fly Fly Fly<br/>\n",
       "Diamond Life<br/>\n",
       "Sugar baby we dynamite<br/>\n",
       "Playboy and socialites<br/>\n",
       "Young and Fly Fly Fly Fly<br/>\n",
       "<br/>\n",
       "Now every body where you game face<br/>\n",
       "Forget it everybody just do what he say<br/>\n",
       "They wanna move like they wanna be like<br/>\n",
       "You can do it just like like, like<br/>\n",
       "Diamond Life<br/>\n",
       "Now every body where you game face<br/>\n",
       "Forget it everybody just do what he say<br/>\n",
       "They wanna move like they wanna be like<br/>\n",
       "You can do it just like like, like<br/>\n",
       "<br/>\n",
       "<i>[Chorus: Patty Cash]</i><br/>\n",
       "Diamond Life<br/>\n",
       "Sugar baby we dynamite<br/>\n",
       "Playboy and socialites<br/>\n",
       "Young and Fly Fly Fly<br/>\n",
       "Diamond Life<br/>\n",
       "Sugar baby we dynamite<br/>\n",
       "Playboy and socialites<br/>\n",
       "Young and Fly Fly Fly Fly (Yeahe Yeahe Yeahe Yeah)<br/>\n",
       "<br/>\n",
       "Cash staking like Tetris<br/>\n",
       "It's youthful effervesces<br/>\n",
       "No herme arsenals<br/>\n",
       "I'm my only secret weapon<br/>\n",
       "Get the message (got diamonds)<br/>\n",
       "I'm getting cream like a nestle<br/>\n",
       "Welcome from Compton getting\n",
       "</div>"
      ]
     },
     "execution_count": 12,
     "metadata": {},
     "output_type": "execute_result"
    }
   ],
   "source": [
    "albums_w_lyrics['No Introduction']['Diamond Life']"
   ]
  },
  {
   "cell_type": "code",
   "execution_count": 35,
   "metadata": {
    "ExecuteTime": {
     "end_time": "2020-10-20T03:02:57.095660Z",
     "start_time": "2020-10-20T03:02:57.057962Z"
    },
    "hidden": true,
    "scrolled": true
   },
   "outputs": [
    {
     "name": "stdout",
     "output_type": "stream",
     "text": [
      "https://www.azlyrics.com/lyrics/tyga/bangout.html\n",
      "Starting Response: <Response [200]>\n"
     ]
    }
   ],
   "source": [
    "test_start_url = 'https://www.azlyrics.com'\n",
    "# print(test_start_url)\n",
    "test_album = album_dict['Well Done 4']\n",
    "test_end_url = test_album['Bang Out']\n",
    "# print(test_end_url)\n",
    "test_url = test_start_url + test_end_url\n",
    "print(test_url)\n",
    "# test_resp = requests.get(test_url)\n",
    "print(f'Starting Response: {test_resp}')\n",
    "test_soup = BeautifulSoup(test_resp.text, 'html.parser')\n",
    "# test_soup"
   ]
  },
  {
   "cell_type": "code",
   "execution_count": 34,
   "metadata": {
    "ExecuteTime": {
     "end_time": "2020-10-20T03:02:20.934009Z",
     "start_time": "2020-10-20T03:02:20.916495Z"
    },
    "hidden": true
   },
   "outputs": [
    {
     "name": "stdout",
     "output_type": "stream",
     "text": [
      "Lyrics!\n",
      "[Verse 1: Tyga]\n",
      "[Hook]\n",
      "[Verse 2: Tyga]\n",
      "[Hook]\n",
      "[Verse 3: Eazy-E]\n",
      "[Outro: Ice Cube]\n"
     ]
    }
   ],
   "source": [
    "test_lyrics = test_soup.findAll('div', attrs={'class': None})\n",
    "test_res = []\n",
    "test_dump = []\n",
    "switch = False\n",
    "for tag in test_lyrics:\n",
    "    try:\n",
    "        _ = tag['id']\n",
    "    except KeyError:\n",
    "        t_tag = tag\n",
    "        print('Lyrics!')\n",
    "        \n",
    "tester = t_tag.findAll('i')\n",
    "\n",
    "for tag in tester:\n",
    "    print(tag.text)"
   ]
  },
  {
   "cell_type": "code",
   "execution_count": 12,
   "metadata": {
    "ExecuteTime": {
     "end_time": "2020-10-20T02:45:55.858774Z",
     "start_time": "2020-10-20T02:45:55.844547Z"
    },
    "hidden": true,
    "scrolled": true
   },
   "outputs": [
    {
     "data": {
      "text/plain": [
       "[<div id=\"RTK_67Y3\"></div>, <div>\n",
       " <!-- Usage of azlyrics.com content by any third-party lyrics provider is prohibited by our licensing agreement. Sorry about that. -->\n",
       " <i>[Verse 1: Tyga]</i><br/>\n",
       " Hold up, money talk so you know what?<br/>\n",
       " Ainât nothing to talk about, you ainât got enough cuz<br/>\n",
       " Rock star drugs break a bitch heart, no love<br/>\n",
       " Emma Watts, Charlie Sheen, fuckin with no scrub<br/>\n",
       " Niggas want connects, got no plugs<br/>\n",
       " Nigga say they high, got no buzz<br/>\n",
       " Popsicle niggas wanna talk shit then say you froze up<br/>\n",
       " Young niggas wanna pop pills, just po up<br/>\n",
       " Went on a bang, Went on a bang<br/>\n",
       " Bitches came for me and my nigga eazy<br/>\n",
       " Threw that bitch out, got that ho one way<br/>\n",
       " Said she tryna stay, told that bitch no way<br/>\n",
       " Thatâs a preme nigga, B ripper, grim reaper<br/>\n",
       " I donât get mad bitch, I just get even<br/>\n",
       " T-Raw magician, I donât gotta trick or treat it<br/>\n",
       " That Ferrari California make a bitch a believer<br/>\n",
       " <br/>\n",
       " <i>[Hook]</i><br/>\n",
       " Million dollarsâ worth of cars, all paid out<br/>\n",
       " See you niggas hatin, had to pull my chains out<br/>\n",
       " Make it rain even when itâs rained out<br/>\n",
       " Turn up, bang out<br/>\n",
       " Bang out, bang out<br/>\n",
       " Turn up, b-bang out<br/>\n",
       " Million dollarsâ worth of cars, all paid out<br/>\n",
       " See you niggas hatin, had to pull my chains out<br/>\n",
       " <br/>\n",
       " <i>[Verse 2: Tyga]</i><br/>\n",
       " Met a bitch last night, wonât believe it<br/>\n",
       " Fuck her so hard, bitch probably stopped breathing<br/>\n",
       " Killed the pussy, in the hotel screamin<br/>\n",
       " Knock knock, going in like the housekeeper<br/>\n",
       " The room, keep it<br/>\n",
       " I fucked now I donât need it<br/>\n",
       " T-Raw semen splattered on a bitch beaver<br/>\n",
       " Pipe dreamin, fuckin with a real baller<br/>\n",
       " The bitch is a bitch so Iâm gon call er<br/>\n",
       " Then they act up, call the backup<br/>\n",
       " Donât matter, as if she ever mattered<br/>\n",
       " Bitch shut up, throw it up, I throw the set up<br/>\n",
       " Tell her sit up, got her face down, bitch donât put yo head up<br/>\n",
       " Yea, bitin on er ear<br/>\n",
       " Got a old bitch, pussy like souvenir<br/>\n",
       " I hop up in it, nigga I ainât never scared<br/>\n",
       " Closet full of straps and the condom right here<br/>\n",
       " What I got?<br/>\n",
       " <br/>\n",
       " <i>[Hook]</i><br/>\n",
       " Million dollarsâ worth of cars, all paid out<br/>\n",
       " See you niggas hatin, had to pull my chains out<br/>\n",
       " Make it rain even when itâs rained out<br/>\n",
       " Turn up, bang out<br/>\n",
       " Bang out, bang out<br/>\n",
       " Turn up, b-bang out<br/>\n",
       " Million dollarsâ worth of cars, all paid out<br/>\n",
       " See you niggas hatin, had to pull my chains out<br/>\n",
       " <br/>\n",
       " <i>[Verse 3: Eazy-E]</i><br/>\n",
       " Beef on the street, to the beach I be rollin<br/>\n",
       " Never see me strollin, 40âs I be holdin<br/>\n",
       " Girls in the daisies, drive easy crazy<br/>\n",
       " Rolled up my windows as I turned on my AC<br/>\n",
       " Rollin down Crenshaw, see the hoes jockin<br/>\n",
       " Sunday nights poppin, see the foes hoppin<br/>\n",
       " My stereoâs bumpin that ATL funk<br/>\n",
       " You can call it what you want<br/>\n",
       " Either way the shit bump<br/>\n",
       " Iâm a evil motherfucker ready to tear shit up<br/>\n",
       " Iâmma put these things on you and never let up<br/>\n",
       " See my mama, she was home when I was born<br/>\n",
       " Bet a nigga like to eat shit than never been born<br/>\n",
       " But I ainât going out unless 30 niggas die<br/>\n",
       " Iâm dyin anyway so Iâm thinkin suicide<br/>\n",
       " Shut the fuck up nigga cuz you ainât seen shit<br/>\n",
       " Iâm bout to take this blade and straight up rip<br/>\n",
       " <br/>\n",
       " <i>[Outro: Ice Cube]</i><br/>\n",
       " A bitch is a bitch<br/>\n",
       " So if Iâm poor or rich<br/>\n",
       " I talk in the exact same pitch<br/>\n",
       " Now the title of bitch donât apply to all women<br/>\n",
       " But all women have a little bitch in em\n",
       " </div>, <div id=\"RTK_yc1Z\"></div>, <div id=\"RTK_W2xH\"></div>]"
      ]
     },
     "execution_count": 12,
     "metadata": {},
     "output_type": "execute_result"
    }
   ],
   "source": [
    "test_lyrics"
   ]
  },
  {
   "cell_type": "markdown",
   "metadata": {
    "hidden": true
   },
   "source": [
    "#### Link Saving"
   ]
  },
  {
   "cell_type": "code",
   "execution_count": 32,
   "metadata": {
    "ExecuteTime": {
     "end_time": "2020-10-23T04:21:27.029789Z",
     "start_time": "2020-10-23T04:21:27.011163Z"
    },
    "hidden": true
   },
   "outputs": [],
   "source": [
    "#### WRITING ####\n",
    "# with open('Pickles/album_dict.pickle', 'wb') as f:\n",
    "#     pickle.dump(album_dict, f)\n",
    "#     f.close()\n",
    "\n",
    "#### READING ####\n",
    "with open('Pickles/album_dict.pickle', 'rb') as f:\n",
    "    album_dict = pickle.load(f)\n",
    "    f.close()"
   ]
  }
 ],
 "metadata": {
  "kernelspec": {
   "display_name": "Python 3",
   "language": "python",
   "name": "python3"
  },
  "language_info": {
   "codemirror_mode": {
    "name": "ipython",
    "version": 3
   },
   "file_extension": ".py",
   "mimetype": "text/x-python",
   "name": "python",
   "nbconvert_exporter": "python",
   "pygments_lexer": "ipython3",
   "version": "3.6.6"
  },
  "toc": {
   "base_numbering": 1,
   "nav_menu": {},
   "number_sections": true,
   "sideBar": true,
   "skip_h1_title": false,
   "title_cell": "Table of Contents",
   "title_sidebar": "Contents",
   "toc_cell": false,
   "toc_position": {},
   "toc_section_display": true,
   "toc_window_display": false
  },
  "varInspector": {
   "cols": {
    "lenName": 16,
    "lenType": 16,
    "lenVar": 40
   },
   "kernels_config": {
    "python": {
     "delete_cmd_postfix": "",
     "delete_cmd_prefix": "del ",
     "library": "var_list.py",
     "varRefreshCmd": "print(var_dic_list())"
    },
    "r": {
     "delete_cmd_postfix": ") ",
     "delete_cmd_prefix": "rm(",
     "library": "var_list.r",
     "varRefreshCmd": "cat(var_dic_list()) "
    }
   },
   "types_to_exclude": [
    "module",
    "function",
    "builtin_function_or_method",
    "instance",
    "_Feature"
   ],
   "window_display": false
  }
 },
 "nbformat": 4,
 "nbformat_minor": 2
}
