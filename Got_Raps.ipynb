{
 "cells": [
  {
   "cell_type": "markdown",
   "metadata": {
    "heading_collapsed": true
   },
   "source": [
    "# Got Raps?"
   ]
  },
  {
   "cell_type": "markdown",
   "metadata": {
    "heading_collapsed": true,
    "hidden": true
   },
   "source": [
    "## Background"
   ]
  },
  {
   "cell_type": "markdown",
   "metadata": {
    "hidden": true
   },
   "source": [
    "I am someone who *loves* to music. One of my favorite genres to listen to is hip-hop/rap because of, in some cases, the focus on lyricism. \n",
    "\n",
    "In recent years, there has been less of a focus in this regard, leading some fans of \"true hip-hop\" to look down upon the musicians currently in the spotlight. Part of the criticism of modern rap is how forgettable the lyrics and songs are due to their simplistic nature. \n",
    "\n",
    "While learning about *recurrent neural networks* (RNNs)I came across a [video](https://www.youtube.com/watch?v=ZMudJXhsUpY) by Laurence Moroney explaining how AI can be used to generate poetry after training upon a corpus of Irish poems. This sparked an idea to try and do the same with a modern song lyrics. I specifically decided to choose rap because of my familiarity with the genre and thinking that the songs may have more words since the artists are not singing (most of the time).\n",
    "\n",
    "I will be scraping lyrics from [azlyrics](https://www.azlyrics.com/t/tyga.html) using BeautifulSoup and Keras to create my RNN.\n",
    "\n",
    "supplemental site https://www.allthelyrics.com/lyrics/tyga\n",
    "alternative https://www.lyricsbox.com/tyga-lyrics-hdgvd.html"
   ]
  },
  {
   "cell_type": "markdown",
   "metadata": {
    "hidden": true
   },
   "source": [
    "**Subsitute Cuss Words With Nonsensical Words OR Censor Words As-Is**"
   ]
  },
  {
   "cell_type": "markdown",
   "metadata": {
    "hidden": true
   },
   "source": [
    "**Blog post about non-contiguous bigrams?** [Link](https://www.frontiersin.org/articles/10.3389/fpsyg.2011.00136/full)"
   ]
  },
  {
   "cell_type": "markdown",
   "metadata": {},
   "source": [
    "# Imports"
   ]
  },
  {
   "cell_type": "markdown",
   "metadata": {
    "heading_collapsed": true
   },
   "source": [
    "#### Packages"
   ]
  },
  {
   "cell_type": "code",
   "execution_count": 3,
   "metadata": {
    "ExecuteTime": {
     "end_time": "2021-01-28T02:41:08.327986Z",
     "start_time": "2021-01-28T02:40:53.479234Z"
    },
    "hidden": true
   },
   "outputs": [],
   "source": [
    "import os\n",
    "import requests\n",
    "import regex\n",
    "import pickle\n",
    "import time\n",
    "import pandas as pd\n",
    "import numpy as np\n",
    "import tensorflow as tf\n",
    "import seaborn as sns\n",
    "import functions as dlf\n",
    "import matplotlib.pyplot as plt\n",
    "import nltk.corpus as nltkcorpus\n",
    "import nltk.collocations as collc\n",
    "from bs4 import BeautifulSoup\n",
    "from nltk import word_tokenize, FreqDist\n",
    "from nltk.stem import PorterStemmer\n",
    "from importlib import reload"
   ]
  },
  {
   "cell_type": "markdown",
   "metadata": {
    "heading_collapsed": true
   },
   "source": [
    "#### Pickles"
   ]
  },
  {
   "cell_type": "markdown",
   "metadata": {
    "heading_collapsed": true,
    "hidden": true
   },
   "source": [
    "###### For Notebook"
   ]
  },
  {
   "cell_type": "code",
   "execution_count": 4,
   "metadata": {
    "ExecuteTime": {
     "end_time": "2021-01-28T02:41:12.684230Z",
     "start_time": "2021-01-28T02:41:10.814177Z"
    },
    "hidden": true
   },
   "outputs": [],
   "source": [
    "#### WRITING ATLs ####\n",
    "# with open('Pickles/song_dict.pickle', 'wb') as f:\n",
    "#     pickle.dump(song_dict, f)\n",
    "#     f.close()\n",
    "\n",
    "#### READING ATLs ####\n",
    "with open('Pickles/song_dict.pickle', 'rb') as f:\n",
    "    song_dict = pickle.load(f)\n",
    "    f.close()\n",
    "del song_dict['B.M.F.'], song_dict['Birdman Interlude']\n",
    "\n",
    "#### WRITING AZLYRICS ####\n",
    "# with open('Pickles/album_dict.pickle', 'wb') as f:\n",
    "#     pickle.dump(album_dict, f)\n",
    "#     f.close()\n",
    "\n",
    "#### READING AZLYRICS ####\n",
    "# with open('Pickles/album_dict.pickle', 'rb') as f:\n",
    "#     album_dict = pickle.load(f)\n",
    "#     f.close()\n",
    "\n",
    "#### WRITING TOKENIZED LYRICS ####\n",
    "# with open('Pickles/tokenized_lyrics.pickle', 'wb') as f:\n",
    "#     pickle.dump(tokenized_lyrics, f)\n",
    "#     f.close()\n",
    "    \n",
    "#### READING TOKENIZED LYRICS ####\n",
    "with open('Pickles/tokenized_lyrics.pickle', 'rb') as f:\n",
    "    tokenized_lyrics = pickle.load(f)\n",
    "    f.close()\n",
    "    \n",
    "#### WRITING CLEANED LYRICS ####\n",
    "# with open('Pickles/cleaned_lyrics.pickle', 'wb') as f:\n",
    "#     pickle.dump(cleaned_lyrics, f)\n",
    "#     f.close()\n",
    "    \n",
    "#### READING CLEANED LYRICS ####\n",
    "with open('Pickles/cleaned_lyrics.pickle', 'rb') as f:\n",
    "    cleaned_lyrics = pickle.load(f)\n",
    "    f.close()\n",
    "    \n",
    "#### WRITING CLEANED LYRICS AS SINGLE STRING ####\n",
    "# with open('Pickles/cleaned_lyrics_string.pickle', 'wb') as f:\n",
    "#     pickle.dump(cleaned_lyrics_string, f)\n",
    "#     f.close()\n",
    "    \n",
    "#### READING CLEANED LYRICS AS SINGLE STRING ####\n",
    "with open('Pickles/cleaned_lyrics_string.pickle', 'rb') as f:\n",
    "    cleaned_lyrics_string = pickle.load(f)\n",
    "    f.close()\n",
    "\n",
    "#### WRITING CLEANED LYRICS w/FTS ####\n",
    "# with open('Pickles/cleaned_lyrics_fts.pickle', 'wb') as f:\n",
    "#     pickle.dump(cleaned_lyrics_fts, f)\n",
    "#     f.close()\n",
    "    \n",
    "#### READING CLEANED LYRICS w/FTS ####\n",
    "with open('Pickles/cleaned_lyrics_fts.pickle', 'rb') as f:\n",
    "    cleaned_lyrics_fts = pickle.load(f)\n",
    "    f.close()\n",
    "\n",
    "#### WRITING CLEANED LYRICS w/FTS AS SINGLE STRING ####\n",
    "# with open('Pickles/cleaned_lyrics_string_fts.pickle', 'wb') as f:\n",
    "#     pickle.dump(cleaned_lyrics_string_fts, f)\n",
    "#     f.close()\n",
    "    \n",
    "#### READING CLEANED LYRICS w/FTS AS SINGLE STRING ####\n",
    "with open('Pickles/cleaned_lyrics_string_fts.pickle', 'rb') as f:\n",
    "    cleaned_lyrics_string_fts = pickle.load(f)\n",
    "    f.close()"
   ]
  },
  {
   "cell_type": "markdown",
   "metadata": {
    "heading_collapsed": true,
    "hidden": true
   },
   "source": [
    "###### For App"
   ]
  },
  {
   "cell_type": "code",
   "execution_count": 25,
   "metadata": {
    "ExecuteTime": {
     "end_time": "2021-01-28T02:57:48.105413Z",
     "start_time": "2021-01-28T02:57:47.890525Z"
    },
    "hidden": true
   },
   "outputs": [],
   "source": [
    "#### WRITING IDX_V_CHAR w/FTS ####\n",
    "# with open('Pickles/idx_v_char_fts.pickle', 'wb') as f:\n",
    "#     pickle.dump(idx_v_char_fts, f)\n",
    "#     f.close()\n",
    "    \n",
    "#### READING IDX_V_CHAR w/FTS ####\n",
    "# with open('Pickles/idx_v_char_fts.pickle', 'rb') as f:\n",
    "#     idx_v_char_fts = pickle.load(f)\n",
    "#     f.close()\n",
    "\n",
    "#### WRITING CHAR_V_IDX w/FTS ####\n",
    "# with open('Pickles/char_v_idx_fts.pickle', 'wb') as f:\n",
    "#     pickle.dump(char_v_idx_fts, f)\n",
    "#     f.close()\n",
    "    \n",
    "#### READING CHAR_V_IDX w/FTS ####\n",
    "# with open('Pickles/char_v_idx_fts.pickle', 'rb') as f:\n",
    "#     char_v_idx_fts = pickle.load(f)\n",
    "#     f.close()\n",
    "\n",
    "#### WRITING MODEL_GEN w/FTS ####\n",
    "# with open('Pickles/model_gen_fts.pickle', 'wb') as f:\n",
    "#     pickle.dump(model_gen_fts, f)\n",
    "#     f.close()\n",
    "    \n",
    "#### READING MODEL_GEN w/FTS ####\n",
    "# with open('Pickles/model_gen_fts.pickle', 'rb') as f:\n",
    "#     model_gen_fts = pickle.load(f)\n",
    "#     f.close()"
   ]
  },
  {
   "cell_type": "markdown",
   "metadata": {
    "heading_collapsed": true
   },
   "source": [
    "#### Functions"
   ]
  },
  {
   "cell_type": "markdown",
   "metadata": {
    "heading_collapsed": true,
    "hidden": true
   },
   "source": [
    "###### Modeling"
   ]
  },
  {
   "cell_type": "code",
   "execution_count": 8,
   "metadata": {
    "ExecuteTime": {
     "end_time": "2021-01-28T02:41:46.102977Z",
     "start_time": "2021-01-28T02:41:46.070561Z"
    },
    "code_folding": [],
    "hidden": true
   },
   "outputs": [],
   "source": [
    "## Helper function to create inputs and targets\n",
    "def split_input_target(chunk):\n",
    "    ## https://www.tensorflow.org/tutorials/text/text_generation\n",
    "    \n",
    "    input_text = chunk[:-1]\n",
    "    target_text = chunk[1:]\n",
    "    \n",
    "    return input_text, target_text"
   ]
  },
  {
   "cell_type": "code",
   "execution_count": 9,
   "metadata": {
    "ExecuteTime": {
     "end_time": "2021-01-28T02:41:47.370134Z",
     "start_time": "2021-01-28T02:41:47.346906Z"
    },
    "code_folding": [],
    "hidden": true
   },
   "outputs": [],
   "source": [
    "def build_model(vocab_size, embedding_dim, rnn_units, batch_size):\n",
    "    ## Initial structure provided by:\n",
    "    ## https://www.tensorflow.org/tutorials/text/text_generation#build_the_model\n",
    "    \n",
    "    model = tf.keras.Sequential([\n",
    "        tf.keras.layers.Embedding(vocab_size, embedding_dim,\n",
    "                                  batch_input_shape=[batch_size, None]),\n",
    "        tf.keras.layers.GRU(rnn_units,\n",
    "                            return_sequences=True,\n",
    "                            stateful=True,\n",
    "                            recurrent_initializer='glorot_uniform'),\n",
    "        tf.keras.layers.Dense(vocab_size)\n",
    "    ])\n",
    "    return model"
   ]
  },
  {
   "cell_type": "code",
   "execution_count": 10,
   "metadata": {
    "ExecuteTime": {
     "end_time": "2021-01-28T02:41:49.141028Z",
     "start_time": "2021-01-28T02:41:49.133029Z"
    },
    "code_folding": [],
    "hidden": true
   },
   "outputs": [],
   "source": [
    "## Defining loss function to be optimized during training\n",
    "def loss(labels, logits):\n",
    "    return tf.keras.losses.sparse_categorical_crossentropy(labels, logits, from_logits=True)"
   ]
  },
  {
   "cell_type": "code",
   "execution_count": 18,
   "metadata": {
    "ExecuteTime": {
     "end_time": "2021-01-23T23:13:52.920359Z",
     "start_time": "2021-01-23T23:13:52.903404Z"
    },
    "code_folding": [],
    "hidden": true
   },
   "outputs": [],
   "source": [
    "def generate_text(model, char_v_idx_, idx_v_char_, start_string, num_chars=100, temp=1.0):\n",
    "    # https://www.tensorflow.org/tutorials/text/text_generation#the_prediction_loop\n",
    "    \n",
    "    ## Evaluation step (generating text using the learned model)\n",
    "\n",
    "    ## Number of characters to generate\n",
    "    num_generate = num_chars\n",
    "\n",
    "    ## Converting our start string to numbers (vectorizing)\n",
    "    input_eval = [char_v_idx_[s] for s in start_string.lower()]\n",
    "    input_eval = tf.expand_dims(input_eval, 0)\n",
    "\n",
    "    ## Empty string to store our results\n",
    "    text_generated = []\n",
    "\n",
    "    ## Low temperature results in more predictable text.\n",
    "    ## Higher temperature results in more surprising text.\n",
    "    ## Experiment to find the best setting.\n",
    "    temperature = temp\n",
    "\n",
    "    ## Here batch size == 1\n",
    "    model.reset_states()\n",
    "    \n",
    "    for i in range(num_generate):\n",
    "        predictions = model(input_eval)\n",
    "        ## Remove the batch dimension\n",
    "        predictions = tf.squeeze(predictions, 0)\n",
    "\n",
    "        ## Using a categorical distribution to predict the character returned by the model\n",
    "        predictions = predictions / temperature\n",
    "        predicted_id = tf.random.categorical(predictions, num_samples=1)[-1,0].numpy()\n",
    "\n",
    "        ## Pass the predicted character as the next input to the model\n",
    "        ## along with the previous hidden state\n",
    "        input_eval = tf.expand_dims([predicted_id], 0)\n",
    "\n",
    "        text_generated.append(idx_v_char_[predicted_id])\n",
    "\n",
    "    return (start_string + ''.join(text_generated))"
   ]
  },
  {
   "cell_type": "markdown",
   "metadata": {
    "heading_collapsed": true,
    "hidden": true
   },
   "source": [
    "###### App"
   ]
  },
  {
   "cell_type": "markdown",
   "metadata": {
    "hidden": true
   },
   "source": [
    "Due to a quirk in the source code, the Tensorflow models are unable to be pickled. These functions make that possible by modifying the `Model` class itself. [Click here](https://github.com/tensorflow/tensorflow/issues/34697) for source material."
   ]
  },
  {
   "cell_type": "code",
   "execution_count": 21,
   "metadata": {
    "ExecuteTime": {
     "end_time": "2021-01-28T02:57:29.868637Z",
     "start_time": "2021-01-28T02:57:29.852645Z"
    },
    "hidden": true
   },
   "outputs": [],
   "source": [
    "from tensorflow.python.keras.layers import deserialize, serialize\n",
    "from tensorflow.python.keras.saving import saving_utils\n",
    "from tensorflow.keras.models import Model\n",
    "\n",
    "## https://github.com/tensorflow/tensorflow/issues/34697\n",
    "def unpack(model, training_config, weights):\n",
    "    restored_model = deserialize(model)\n",
    "    if training_config is not None:\n",
    "        restored_model.compile(\n",
    "            **saving_utils.compile_args_from_training_config(\n",
    "                training_config\n",
    "            )\n",
    "        )\n",
    "    restored_model.set_weights(weights)\n",
    "    return restored_model\n",
    "\n",
    "# Hotfix function\n",
    "def make_keras_picklable():\n",
    "\n",
    "    def __reduce__(self):\n",
    "        model_metadata = saving_utils.model_metadata(self)\n",
    "        training_config = model_metadata.get(\"training_config\", None)\n",
    "        model = serialize(self)\n",
    "        weights = self.get_weights()\n",
    "        return (unpack, (model, training_config, weights))\n",
    "\n",
    "    cls = Model\n",
    "    cls.__reduce__ = __reduce__"
   ]
  },
  {
   "cell_type": "code",
   "execution_count": 23,
   "metadata": {
    "ExecuteTime": {
     "end_time": "2021-01-28T02:57:32.611447Z",
     "start_time": "2021-01-28T02:57:32.584170Z"
    },
    "hidden": true
   },
   "outputs": [],
   "source": [
    "# Run the function\n",
    "make_keras_picklable()"
   ]
  },
  {
   "cell_type": "markdown",
   "metadata": {},
   "source": [
    "# Data Collection + EDA"
   ]
  },
  {
   "cell_type": "markdown",
   "metadata": {
    "heading_collapsed": true
   },
   "source": [
    "## Getting Soupy"
   ]
  },
  {
   "cell_type": "markdown",
   "metadata": {
    "heading_collapsed": true,
    "hidden": true
   },
   "source": [
    "#### Connecting"
   ]
  },
  {
   "cell_type": "code",
   "execution_count": null,
   "metadata": {
    "ExecuteTime": {
     "end_time": "2020-10-28T02:02:21.865480Z",
     "start_time": "2020-10-28T02:02:20.699429Z"
    },
    "hidden": true
   },
   "outputs": [],
   "source": [
    "## Starting page + Q.C. of response\n",
    "# start_url = 'https://www.azlyrics.com/t/tyga.html'  ## Banned\n",
    "# start_url = 'https://www.lyricsbox.com/tyga-lyrics-hdgvd.html' ## Doesn't work"
   ]
  },
  {
   "cell_type": "code",
   "execution_count": 2,
   "metadata": {
    "ExecuteTime": {
     "end_time": "2020-10-28T02:02:21.865480Z",
     "start_time": "2020-10-28T02:02:20.699429Z"
    },
    "hidden": true,
    "scrolled": true
   },
   "outputs": [
    {
     "name": "stdout",
     "output_type": "stream",
     "text": [
      "Starting Response: <Response [200]>\n"
     ]
    }
   ],
   "source": [
    "## Starting page + Q.C. of response\n",
    "start_url = 'https://www.allthelyrics.com/lyrics/tyga'\n",
    "start_resp = requests.get(start_url)\n",
    "print(f'Starting Response: {start_resp}')"
   ]
  },
  {
   "cell_type": "markdown",
   "metadata": {
    "heading_collapsed": true,
    "hidden": true
   },
   "source": [
    "#### Main Page Soup"
   ]
  },
  {
   "cell_type": "code",
   "execution_count": 3,
   "metadata": {
    "ExecuteTime": {
     "end_time": "2020-10-28T02:02:25.593995Z",
     "start_time": "2020-10-28T02:02:25.373118Z"
    },
    "code_folding": [],
    "hidden": true,
    "scrolled": false
   },
   "outputs": [
    {
     "name": "stdout",
     "output_type": "stream",
     "text": [
      "            TYGA lyrics: 'Never Be The Same', 'Hookah (feat. Young Thug)', 'Riot (feat. Honey Cocaine)', 'Make It Nasty', 'We Up'\n",
      "              </div>\n",
      "              <div class=\"content-top-lyricspopular\">\n",
      "               <div class=\"artist-lyrics-list artist-lyrics-list-popular\">\n",
      "                <h2 class=\"artist-lyrics-list-h2\">\n",
      "                 Top 5 songs\n",
      "                </h2>\n",
      "                <ol>\n",
      "                 <li class=\"lyrics-list-item lyrics-list-item-1737736\">\n",
      "                  <a href=\"/lyrics/tyga-never_be_the_same\">\n",
      "                   Never Be The Same\n",
      "                  </a>\n",
      "     \n"
     ]
    }
   ],
   "source": [
    "## Creating soup + Q.C.\n",
    "start_soup = BeautifulSoup(start_resp.text, 'html.parser')\n",
    "print(start_soup.prettify()[13900:14500])"
   ]
  },
  {
   "cell_type": "markdown",
   "metadata": {
    "heading_collapsed": true,
    "hidden": true
   },
   "source": [
    "#### Collecting Song Links + Names"
   ]
  },
  {
   "cell_type": "code",
   "execution_count": null,
   "metadata": {
    "ExecuteTime": {
     "end_time": "2020-10-28T02:02:31.219333Z",
     "start_time": "2020-10-28T02:02:31.199861Z"
    },
    "hidden": true
   },
   "outputs": [],
   "source": [
    "## Create container for names/links + find links ('a') in soup\n",
    "song_dict = {}\n",
    "link_list = start_soup.findAll('a')\n",
    "\n",
    "## Select and store links to Tyga songs\n",
    "for a in link_list:\n",
    "    if '/lyrics/tyga-' in a['href']:\n",
    "        song_dict[a.text] = a['href']\n",
    "\n",
    "## Q.C.\n",
    "display(song_dict)"
   ]
  },
  {
   "cell_type": "code",
   "execution_count": 3,
   "metadata": {
    "ExecuteTime": {
     "end_time": "2020-11-05T23:58:48.135005Z",
     "start_time": "2020-11-05T23:58:48.119631Z"
    },
    "hidden": true,
    "scrolled": true
   },
   "outputs": [],
   "source": [
    "## Create iterable with song names for operations\n",
    "song_names = list(song_dict.keys())"
   ]
  },
  {
   "cell_type": "markdown",
   "metadata": {
    "heading_collapsed": true,
    "hidden": true
   },
   "source": [
    "#### Collecting Lyrics - Test"
   ]
  },
  {
   "cell_type": "code",
   "execution_count": 4,
   "metadata": {
    "ExecuteTime": {
     "end_time": "2020-10-31T21:23:10.588480Z",
     "start_time": "2020-10-31T21:23:09.522620Z"
    },
    "hidden": true,
    "scrolled": false
   },
   "outputs": [
    {
     "name": "stdout",
     "output_type": "stream",
     "text": [
      "Example of target 'div' and section names:\n",
      "\n",
      "       <div class=\"content-text-inner\">\n",
      "              <p>\n",
      "               [Hook x4 - Young Thug:]\n",
      "    \n",
      "\t...\n",
      "               [Verse 2 - Tyga:]\n",
      "               <br/>\n",
      "               Rubbin on my chain blowing cloudmatic\n",
      "               <br/>\n",
      "               Smoke something with a G and bend \n"
     ]
    }
   ],
   "source": [
    "#### Testing strategy for lyric removal ####\n",
    "\n",
    "## Join strings to create full song URL\n",
    "end_url = song_dict['Hookah (feat. Young Thug)']\n",
    "start_url = 'https://www.allthelyrics.com'\n",
    "full_url = start_url + end_url\n",
    "\n",
    "## Generating soup\n",
    "# song_resp = requests.get(full_url)\n",
    "song_soup = BeautifulSoup(song_resp.text, 'html.parser')\n",
    "\n",
    "## Q.C. + HTML structure info\n",
    "print(\"Example of target 'div' and section names:\\n\")\n",
    "print(song_soup.prettify()[12110:12210], '\\n\\t...')\n",
    "print(song_soup.prettify()[13823:14000])\n",
    "\n",
    "## Collect lyrics 'div' from song soup as a bs4 tag + store in song dict\n",
    "lyrics = song_soup.findAll('div', attrs={'class': 'content-text-inner'}).pop()\n",
    "\n",
    "song_dict['Hookah (feat. Young Thug)'] = lyrics"
   ]
  },
  {
   "cell_type": "markdown",
   "metadata": {
    "heading_collapsed": true,
    "hidden": true
   },
   "source": [
    "#### Collecting Lyrics"
   ]
  },
  {
   "cell_type": "code",
   "execution_count": 29,
   "metadata": {
    "ExecuteTime": {
     "end_time": "2020-11-06T02:37:42.951918Z",
     "start_time": "2020-11-06T02:34:23.897821Z"
    },
    "hidden": true,
    "scrolled": false
   },
   "outputs": [
    {
     "name": "stdout",
     "output_type": "stream",
     "text": [
      "----------------------------------------\n",
      "Song to be scraped: B.M.F.\n",
      "Something wrong with link for B.M.F.\n",
      "----------------------------------------\n",
      "Song to be scraped: Young Kobe\n",
      "Sleeping 196.45 seconds...\n",
      "Ding!\n",
      "----------------------------------------\n",
      "Total number of songs skipped: 181\n"
     ]
    }
   ],
   "source": [
    "## Iteratively scrape 5 songs at a time\n",
    "dlf.song_scraper(song_dict, song_names, limit=5, verbose=False)"
   ]
  },
  {
   "cell_type": "code",
   "execution_count": 30,
   "metadata": {
    "ExecuteTime": {
     "end_time": "2020-11-06T02:39:01.820364Z",
     "start_time": "2020-11-06T02:39:01.803790Z"
    },
    "hidden": true
   },
   "outputs": [
    {
     "data": {
      "text/plain": [
       "{'tag': 182, 'string': 1}"
      ]
     },
     "execution_count": 30,
     "metadata": {},
     "output_type": "execute_result"
    }
   ],
   "source": [
    "## Get update on how many songs scraped successfully\n",
    "dlf.song_scraping_stats(song_dict)"
   ]
  },
  {
   "cell_type": "markdown",
   "metadata": {
    "hidden": true
   },
   "source": [
    "> For ease, I am going to remove the 'B.M.F' song from this dictionary so that I can easily make a function for the entire dictionary. "
   ]
  },
  {
   "cell_type": "code",
   "execution_count": 32,
   "metadata": {
    "ExecuteTime": {
     "end_time": "2020-11-06T02:55:47.397913Z",
     "start_time": "2020-11-06T02:55:47.381282Z"
    },
    "hidden": true
   },
   "outputs": [
    {
     "data": {
      "text/plain": [
       "'/lyrics/tyga-b.m.f.'"
      ]
     },
     "execution_count": 32,
     "metadata": {},
     "output_type": "execute_result"
    }
   ],
   "source": [
    "## Removing the broken link\n",
    "song_dict.pop('B.M.F.', None)"
   ]
  },
  {
   "cell_type": "markdown",
   "metadata": {
    "heading_collapsed": true
   },
   "source": [
    "## Lyric Conversion"
   ]
  },
  {
   "cell_type": "markdown",
   "metadata": {
    "hidden": true
   },
   "source": [
    "Before I get into the removal of non-Tyga lyrics, I want to first get them represented as a string (or strings) in hopes of making the code simpler. This is because as-is there are two different types of BeautifulSoup elements in the lyrics: `<class 'bs4.element.NavigableString'>` and `<class 'bs4.element.Tag'>`; the latter containing a .text attribute while the former does not."
   ]
  },
  {
   "cell_type": "markdown",
   "metadata": {
    "heading_collapsed": true
   },
   "source": [
    "## Lyric Filtering"
   ]
  },
  {
   "cell_type": "code",
   "execution_count": 100,
   "metadata": {
    "ExecuteTime": {
     "end_time": "2020-12-13T03:37:53.289427Z",
     "start_time": "2020-12-13T03:37:53.274640Z"
    },
    "code_folding": [],
    "hidden": true,
    "scrolled": true
   },
   "outputs": [],
   "source": [
    "## Setting containers for titles\n",
    "songs_with_ft = []\n",
    "songs_solo = []\n",
    "\n",
    "## Separate and store song titles\n",
    "for key in song_dict:\n",
    "    if ('(feat.' in key) | ('(with' in key):\n",
    "        songs_with_ft.append(key)\n",
    "    else:\n",
    "        songs_solo.append(key)\n",
    "\n",
    "## Optional Q.C.\n",
    "# for title in songs_with_ft:\n",
    "#     title_res = regex.findall(r'\\((feat..+|with.+)\\)', title)\n",
    "#     print(title_res)"
   ]
  },
  {
   "cell_type": "code",
   "execution_count": 101,
   "metadata": {
    "ExecuteTime": {
     "end_time": "2020-12-13T03:37:54.718799Z",
     "start_time": "2020-12-13T03:37:54.624613Z"
    },
    "hidden": true,
    "scrolled": true
   },
   "outputs": [
    {
     "data": {
      "text/plain": [
       "'[Verse 1]\\nLooking at the ceiling thinking why I treat you bad\\nAin’t no worser feelings than knowing I did it for the last\\nArguing, all I was doing accusing you, my bad\\nSaid “Let’s take some time”, nevermind, rewind\\nLooking at the ceiling thinking why I treat you bad\\nAin’t no worser feelings than knowing I did it for the last\\nArguing, all I was doing accusing you, my bad\\nSaid “Let’s take some time”, nevermind, just playing with your mind\\nI always thought “play dumb”, and let the other one love\\nWhy? Get caught up in nowhere but trust\\nOnly love for fun, I’m too young, I thought\\nAll I wanted was a thanks to Louboutins I bought\\nBut it ain’t your fault; heaven knows you deserve it all\\nYou sent letters to my heart, but I burned them all\\nThe Bible says before you run, gotta learn to crawl\\nBut I don’t wanna waste time if we ain’t involved'"
      ]
     },
     "execution_count": 101,
     "metadata": {},
     "output_type": "execute_result"
    }
   ],
   "source": [
    "## Container for lyrics\n",
    "dict_no_ft = {}\n",
    "\n",
    "## Storing lyrics of selected songs from main dict\n",
    "for title in songs_solo:\n",
    "    ## T/E display for handling edge cases\n",
    "    try:\n",
    "        dict_no_ft[title] = song_dict[title]\n",
    "    except:\n",
    "        print(title)\n",
    "\n",
    "## Collecting ordered list of all lyric headers\n",
    "no_feat_headers = dlf.lyric_header_checker(dict_no_ft, display_multi=False)\n",
    "\n",
    "## Targeting droppable headers learned from 'no_feat_headers'\n",
    "drop_headers = ['[Chorus: Patty Cash]', '[Chorus: Patrick Stump]', '[Birdman]',\n",
    "                '[Outro: Tyga’s Mother]', '[Outro: Martin Luther King Jr.]',\n",
    "                '[Verse 2: 2Chainz]', '[Patrick Stump:]',\n",
    "                '[Chorus x2: Patrick Stump]', '[Gator:]', '[Hook: Quavo]',\n",
    "                '[Intro: DJ Drama talking]']\n",
    "\n",
    "## Filtering\n",
    "filtered_lyrics = dlf.lyric_header_filter(dict_no_ft, drop_headers, display_multi=False)\n",
    "\n",
    "## Q.C.\n",
    "filtered_lyrics['Do It All'][0]"
   ]
  },
  {
   "cell_type": "markdown",
   "metadata": {
    "heading_collapsed": true
   },
   "source": [
    "## Lyric Tokenizing"
   ]
  },
  {
   "cell_type": "code",
   "execution_count": 102,
   "metadata": {
    "ExecuteTime": {
     "end_time": "2020-12-13T03:38:05.388595Z",
     "start_time": "2020-12-13T03:38:05.378706Z"
    },
    "hidden": true,
    "scrolled": true
   },
   "outputs": [
    {
     "data": {
      "text/plain": [
       "['[Verse 1]',\n",
       " 'Looking at the ceiling thinking why I treat you bad',\n",
       " 'Ain’t no worser feelings than knowing I did it for the last',\n",
       " 'Arguing, all I was doing accusing you, my bad',\n",
       " 'Said “Let’s take some time”, nevermind, rewind',\n",
       " 'Looking at the ceiling thinking why I treat you bad',\n",
       " 'Ain’t no worser feelings than knowing I did it for the last',\n",
       " 'Arguing, all I was doing accusing you, my bad',\n",
       " 'Said “Let’s take some time”, nevermind, just playing with your mind',\n",
       " 'I always thought “play dumb”, and let the other one love',\n",
       " 'Why? Get caught up in nowhere but trust',\n",
       " 'Only love for fun, I’m too young, I thought',\n",
       " 'All I wanted was a thanks to Louboutins I bought',\n",
       " 'But it ain’t your fault; heaven knows you deserve it all',\n",
       " 'You sent letters to my heart, but I burned them all',\n",
       " 'The Bible says before you run, gotta learn to crawl',\n",
       " 'But I don’t wanna waste time if we ain’t involved']"
      ]
     },
     "execution_count": 102,
     "metadata": {},
     "output_type": "execute_result"
    }
   ],
   "source": [
    "## Merging lyrics + Q.C.\n",
    "merged_lyrics = dlf.lyric_line_splitter(filtered_lyrics)\n",
    "merged_lyrics['Do It All'][0:17]"
   ]
  },
  {
   "cell_type": "code",
   "execution_count": 103,
   "metadata": {
    "ExecuteTime": {
     "end_time": "2020-12-13T03:38:07.030728Z",
     "start_time": "2020-12-13T03:38:06.947488Z"
    },
    "hidden": true,
    "scrolled": true
   },
   "outputs": [
    {
     "data": {
      "text/plain": [
       "['looking at the ceiling thinking why i treat you bad',\n",
       " 'aint no worser feelings than knowing i did it for the last',\n",
       " 'arguing all i was doing accusing you my bad',\n",
       " 'said lets take some time nevermind rewind',\n",
       " 'looking at the ceiling thinking why i treat you bad',\n",
       " 'aint no worser feelings than knowing i did it for the last',\n",
       " 'arguing all i was doing accusing you my bad',\n",
       " 'said lets take some time nevermind just playing with your mind',\n",
       " 'i always thought play dumb and let the other one love',\n",
       " 'why get caught up in nowhere but trust',\n",
       " 'only love for fun im too young i thought',\n",
       " 'all i wanted was a thanks to louboutins i bought',\n",
       " 'but it aint your fault heaven knows you deserve it all',\n",
       " 'you sent letters to my heart but i burned them all',\n",
       " 'the bible says before you run gotta learn to crawl',\n",
       " 'but i dont wanna waste time if we aint involved']"
      ]
     },
     "execution_count": 103,
     "metadata": {},
     "output_type": "execute_result"
    }
   ],
   "source": [
    "## Cleaning punctuation/headers + lowering strings + Q.C.\n",
    "cleaned_lyrics = dlf.song_cleaner(merged_lyrics)\n",
    "cleaned_lyrics['Do It All'][0:16]"
   ]
  },
  {
   "cell_type": "code",
   "execution_count": 26,
   "metadata": {
    "ExecuteTime": {
     "end_time": "2020-12-12T04:27:36.746815Z",
     "start_time": "2020-12-12T04:27:36.182992Z"
    },
    "hidden": true
   },
   "outputs": [
    {
     "data": {
      "text/plain": [
       "['looking',\n",
       " 'at',\n",
       " 'the',\n",
       " 'ceiling',\n",
       " 'thinking',\n",
       " 'why',\n",
       " 'i',\n",
       " 'treat',\n",
       " 'you',\n",
       " 'bad',\n",
       " 'aint',\n",
       " 'no',\n",
       " 'worser',\n",
       " 'feelings',\n",
       " 'than',\n",
       " 'knowing']"
      ]
     },
     "execution_count": 26,
     "metadata": {},
     "output_type": "execute_result"
    }
   ],
   "source": [
    "## Tokenizing lyrics\n",
    "tokenized_lyrics = dlf.lyric_tokenizer(cleaned_lyrics)\n",
    "tokenized_lyrics['Do It All'][0:16]"
   ]
  },
  {
   "cell_type": "markdown",
   "metadata": {
    "heading_collapsed": true
   },
   "source": [
    "## Token Exploration"
   ]
  },
  {
   "cell_type": "markdown",
   "metadata": {
    "heading_collapsed": true,
    "hidden": true
   },
   "source": [
    "#### Rack City Visuals"
   ]
  },
  {
   "cell_type": "code",
   "execution_count": 60,
   "metadata": {
    "ExecuteTime": {
     "end_time": "2020-12-03T04:35:37.046618Z",
     "start_time": "2020-12-03T04:35:37.036842Z"
    },
    "hidden": true
   },
   "outputs": [],
   "source": [
    "test_fdist = pd.Series(dict(FreqDist(tokenized_lyrics['Rack City (Single Version)'])))"
   ]
  },
  {
   "cell_type": "code",
   "execution_count": 48,
   "metadata": {
    "ExecuteTime": {
     "end_time": "2020-12-03T04:25:54.478872Z",
     "start_time": "2020-12-03T04:25:54.469213Z"
    },
    "hidden": true
   },
   "outputs": [
    {
     "data": {
      "text/plain": [
       "array([35, 20, 35,  1,  5,  8,  1,  1, 27,  9,  1,  1,  1,  1,  1,  2,  1,\n",
       "        1,  1,  5,  2,  3,  1,  3,  2,  5,  8,  2,  2,  1,  3,  2,  3,  1,\n",
       "        2,  5,  1,  5,  1,  2,  1,  1,  1,  1,  4,  2,  1,  1,  1,  1,  1,\n",
       "        1,  1,  2,  3,  2,  1,  1,  1,  1,  1,  2,  1,  2,  2,  8,  8,  8,\n",
       "        2,  2,  1,  2,  1,  2,  1,  1,  1,  1,  1,  1,  1,  2,  1,  1,  1,\n",
       "        1,  2,  1,  1,  3,  1,  1,  1,  1,  1,  1,  1,  1,  1,  1,  1,  1,\n",
       "        2,  1,  2,  1,  1,  1,  1,  1,  1,  1,  1,  2,  1,  1,  1,  1,  1,\n",
       "        2,  1,  1,  1,  1,  1,  1,  9, 36], dtype=int64)"
      ]
     },
     "execution_count": 48,
     "metadata": {},
     "output_type": "execute_result"
    }
   ],
   "source": [
    "test_fdist.values"
   ]
  },
  {
   "cell_type": "code",
   "execution_count": 54,
   "metadata": {
    "ExecuteTime": {
     "end_time": "2020-12-03T04:30:27.161057Z",
     "start_time": "2020-12-03T04:30:26.504705Z"
    },
    "hidden": true
   },
   "outputs": [
    {
     "data": {
      "image/png": "[encoded data removed]",
      "text/plain": [
       "<Figure size 720x720 with 1 Axes>"
      ]
     },
     "metadata": {
      "needs_background": "light"
     },
     "output_type": "display_data"
    }
   ],
   "source": [
    "fig, ax = plt.subplots(figsize=(10,10))\n",
    "\n",
    "test_plot = sns.barplot(x=test_fdist.index, y=test_fdist.values, ax=ax)\n",
    "plt.xticks(rotation=30);"
   ]
  },
  {
   "cell_type": "code",
   "execution_count": 67,
   "metadata": {
    "ExecuteTime": {
     "end_time": "2020-12-03T04:39:07.782994Z",
     "start_time": "2020-12-03T04:39:07.759200Z"
    },
    "hidden": true
   },
   "outputs": [
    {
     "data": {
      "text/plain": [
       "hunnids     0.093264\n",
       "bitch       0.090674\n",
       "rack        0.090674\n",
       "ten         0.069948\n",
       "city        0.051813\n",
       "twenties    0.023316\n",
       "throwing    0.023316\n",
       "fifties     0.020725\n",
       "them        0.020725\n",
       "my          0.020725\n",
       "and         0.020725\n",
       "the         0.020725\n",
       "too         0.012953\n",
       "you         0.012953\n",
       "got         0.012953\n",
       "on          0.012953\n",
       "it          0.012953\n",
       "a           0.010363\n",
       "like        0.007772\n",
       "know        0.007772\n",
       "Name: percent_of_total, dtype: float64"
      ]
     },
     "execution_count": 67,
     "metadata": {},
     "output_type": "execute_result"
    }
   ],
   "source": [
    "total_words = test_fdist.values.sum()\n",
    "test_fdist_df = pd.DataFrame(test_fdist)\n",
    "test_fdist_df.columns = ['num_uses']\n",
    "test_fdist_df['percent_of_total'] = test_fdist_df['num_uses'] / total_words\n",
    "test_percent_plot = test_fdist_df['percent_of_total'].sort_values(ascending=False).head(20).copy()\n",
    "test_percent_plot"
   ]
  },
  {
   "cell_type": "code",
   "execution_count": 68,
   "metadata": {
    "ExecuteTime": {
     "end_time": "2020-12-03T04:40:34.730979Z",
     "start_time": "2020-12-03T04:40:34.103901Z"
    },
    "hidden": true
   },
   "outputs": [
    {
     "data": {
      "image/png": "[encoded data removed]",
      "text/plain": [
       "<Figure size 720x720 with 1 Axes>"
      ]
     },
     "metadata": {
      "needs_background": "light"
     },
     "output_type": "display_data"
    }
   ],
   "source": [
    "fig, ax = plt.subplots(figsize=(10,10))\n",
    "\n",
    "test_plot2 = sns.barplot(x=test_percent_plot.index, y=test_percent_plot.values, ax=ax)\n",
    "plt.xticks(rotation=30);"
   ]
  },
  {
   "cell_type": "markdown",
   "metadata": {
    "heading_collapsed": true,
    "hidden": true
   },
   "source": [
    "##### Bigrams"
   ]
  },
  {
   "cell_type": "code",
   "execution_count": 70,
   "metadata": {
    "ExecuteTime": {
     "end_time": "2020-12-03T04:49:53.886019Z",
     "start_time": "2020-12-03T04:49:53.855300Z"
    },
    "hidden": true
   },
   "outputs": [
    {
     "data": {
      "text/plain": [
       "[(('hunnids', 'hunnids'), 0.06217616580310881),\n",
       " (('city', 'bitch'), 0.05181347150259067),\n",
       " (('ten', 'ten'), 0.046632124352331605),\n",
       " (('rack', 'city'), 0.04404145077720207),\n",
       " (('rack', 'rack'), 0.04404145077720207),\n",
       " (('bitch', 'rack'), 0.025906735751295335),\n",
       " (('ten', 'twenties'), 0.023316062176165803),\n",
       " (('throwing', 'hunnids'), 0.023316062176165803),\n",
       " (('and', 'them'), 0.02072538860103627),\n",
       " (('fifties', 'bitch'), 0.02072538860103627),\n",
       " (('them', 'fifties'), 0.02072538860103627),\n",
       " (('twenties', 'and'), 0.02072538860103627),\n",
       " (('bitch', 'ten'), 0.018134715025906734),\n",
       " (('hunnids', 'rack'), 0.015544041450777202),\n",
       " (('hunnids', 'throwing'), 0.015544041450777202),\n",
       " (('bitch', 'city'), 0.007772020725388601),\n",
       " (('bitch', 'hunnids'), 0.007772020725388601),\n",
       " (('bitch', 'throwing'), 0.007772020725388601),\n",
       " (('got', 'my'), 0.007772020725388601),\n",
       " (('a', 'motherfucking'), 0.0051813471502590676),\n",
       " (('bitch', 'bitch'), 0.0051813471502590676),\n",
       " (('bitch', 'fucking'), 0.0051813471502590676),\n",
       " (('fucking', 'with'), 0.0051813471502590676),\n",
       " (('is', 'ten'), 0.0051813471502590676),\n",
       " (('it', 'is'), 0.0051813471502590676),\n",
       " (('know', 'what'), 0.0051813471502590676),\n",
       " (('my', 'other'), 0.0051813471502590676),\n",
       " (('on', 'my'), 0.0051813471502590676),\n",
       " (('on', 'the'), 0.0051813471502590676),\n",
       " (('other', 'bitch'), 0.0051813471502590676),\n",
       " (('what', 'it'), 0.0051813471502590676),\n",
       " (('you', 'know'), 0.0051813471502590676),\n",
       " (('young', 'money'), 0.0051813471502590676),\n",
       " (('100', 'deep'), 0.0025906735751295338),\n",
       " (('a', 'nacho'), 0.0025906735751295338),\n",
       " (('a', 'poncho'), 0.0025906735751295338),\n",
       " (('aint', 'celibate'), 0.0025906735751295338),\n",
       " (('aint', 'got'), 0.0025906735751295338),\n",
       " (('aint', 'selling'), 0.0025906735751295338),\n",
       " (('all', 'night'), 0.0025906735751295338),\n",
       " (('all', 'the'), 0.0025906735751295338),\n",
       " (('alonzo', 'rondo'), 0.0025906735751295338),\n",
       " (('ass', 'bitch'), 0.0025906735751295338),\n",
       " (('at', 'me'), 0.0025906735751295338),\n",
       " (('at', 'the'), 0.0025906735751295338),\n",
       " (('back', 'all'), 0.0025906735751295338),\n",
       " (('back', 'nigga'), 0.0025906735751295338),\n",
       " (('bad', 'rat'), 0.0025906735751295338),\n",
       " (('bapped', 'got'), 0.0025906735751295338),\n",
       " (('bar', 'fresher'), 0.0025906735751295338)]"
      ]
     },
     "execution_count": 70,
     "metadata": {},
     "output_type": "execute_result"
    }
   ],
   "source": [
    "bigram_measures = collc.BigramAssocMeasures()\n",
    "bigram_finder = collc.BigramCollocationFinder.from_words(tokenized_lyrics['Rack City (Single Version)'])\n",
    "bigram_scored = bigram_finder.score_ngrams(bigram_measures.raw_freq)\n",
    "bigram_scored[:50]"
   ]
  },
  {
   "cell_type": "markdown",
   "metadata": {
    "heading_collapsed": true,
    "hidden": true
   },
   "source": [
    "##### Trigrams"
   ]
  },
  {
   "cell_type": "code",
   "execution_count": 28,
   "metadata": {
    "ExecuteTime": {
     "end_time": "2020-12-04T06:17:40.860966Z",
     "start_time": "2020-12-04T06:17:40.846104Z"
    },
    "hidden": true
   },
   "outputs": [
    {
     "data": {
      "text/plain": [
       "[(('rack', 'city', 'bitch'), 0.04404145077720207),\n",
       " (('hunnids', 'hunnids', 'hunnids'), 0.031088082901554404),\n",
       " (('bitch', 'rack', 'rack'), 0.025906735751295335),\n",
       " (('city', 'bitch', 'rack'), 0.025906735751295335),\n",
       " (('rack', 'rack', 'city'), 0.025906735751295335),\n",
       " (('ten', 'ten', 'ten'), 0.023316062176165803),\n",
       " (('ten', 'ten', 'twenties'), 0.023316062176165803),\n",
       " (('throwing', 'hunnids', 'hunnids'), 0.023316062176165803),\n",
       " (('and', 'them', 'fifties'), 0.02072538860103627),\n",
       " (('ten', 'twenties', 'and'), 0.02072538860103627),\n",
       " (('them', 'fifties', 'bitch'), 0.02072538860103627),\n",
       " (('twenties', 'and', 'them'), 0.02072538860103627),\n",
       " (('bitch', 'ten', 'ten'), 0.018134715025906734),\n",
       " (('hunnids', 'hunnids', 'rack'), 0.015544041450777202),\n",
       " (('hunnids', 'hunnids', 'throwing'), 0.015544041450777202),\n",
       " (('hunnids', 'rack', 'city'), 0.015544041450777202),\n",
       " (('hunnids', 'throwing', 'hunnids'), 0.015544041450777202),\n",
       " (('rack', 'rack', 'rack'), 0.015544041450777202),\n",
       " (('bitch', 'city', 'bitch'), 0.007772020725388601),\n",
       " (('bitch', 'hunnids', 'hunnids'), 0.007772020725388601),\n",
       " (('bitch', 'throwing', 'hunnids'), 0.007772020725388601),\n",
       " (('city', 'bitch', 'city'), 0.007772020725388601),\n",
       " (('city', 'bitch', 'hunnids'), 0.007772020725388601),\n",
       " (('city', 'bitch', 'ten'), 0.007772020725388601),\n",
       " (('fifties', 'bitch', 'ten'), 0.007772020725388601),\n",
       " (('fifties', 'bitch', 'throwing'), 0.007772020725388601),\n",
       " (('fifties', 'bitch', 'bitch'), 0.0051813471502590676),\n",
       " (('is', 'ten', 'ten'), 0.0051813471502590676),\n",
       " (('it', 'is', 'ten'), 0.0051813471502590676),\n",
       " (('know', 'what', 'it'), 0.0051813471502590676),\n",
       " (('my', 'other', 'bitch'), 0.0051813471502590676),\n",
       " (('other', 'bitch', 'fucking'), 0.0051813471502590676),\n",
       " (('what', 'it', 'is'), 0.0051813471502590676),\n",
       " (('you', 'know', 'what'), 0.0051813471502590676),\n",
       " (('100', 'deep', 'vip'), 0.0025906735751295338),\n",
       " (('a', 'motherfucking', 'peppermint'), 0.0025906735751295338),\n",
       " (('a', 'motherfucking', 'star'), 0.0025906735751295338),\n",
       " (('a', 'nacho', 'if'), 0.0025906735751295338),\n",
       " (('a', 'poncho', 'head'), 0.0025906735751295338),\n",
       " (('aint', 'celibate', 'make'), 0.0025906735751295338),\n",
       " (('aint', 'got', 'no'), 0.0025906735751295338),\n",
       " (('aint', 'selling', 'it'), 0.0025906735751295338),\n",
       " (('all', 'night', 'nigga'), 0.0025906735751295338),\n",
       " (('all', 'the', 'hoes'), 0.0025906735751295338),\n",
       " (('alonzo', 'rondo', 'green'), 0.0025906735751295338),\n",
       " (('ass', 'bitch', 'wear'), 0.0025906735751295338),\n",
       " (('at', 'me', 'dont'), 0.0025906735751295338),\n",
       " (('at', 'the', 'paint'), 0.0025906735751295338),\n",
       " (('back', 'all', 'the'), 0.0025906735751295338),\n",
       " (('back', 'nigga', 'staring'), 0.0025906735751295338)]"
      ]
     },
     "execution_count": 28,
     "metadata": {},
     "output_type": "execute_result"
    }
   ],
   "source": [
    "trigram_measures = collc.TrigramAssocMeasures()\n",
    "trigram_finder = collc.TrigramCollocationFinder.from_words(tokenized_lyrics['Rack City (Single Version)'])\n",
    "trigram_scored = trigram_finder.score_ngrams(trigram_measures.raw_freq)\n",
    "trigram_scored[:50]"
   ]
  },
  {
   "cell_type": "markdown",
   "metadata": {
    "heading_collapsed": true,
    "hidden": true
   },
   "source": [
    "#### All Solo Tokens Visuals"
   ]
  },
  {
   "cell_type": "code",
   "execution_count": 21,
   "metadata": {
    "ExecuteTime": {
     "end_time": "2020-12-21T01:02:21.092849Z",
     "start_time": "2020-12-21T01:02:21.082838Z"
    },
    "hidden": true
   },
   "outputs": [
    {
     "data": {
      "text/plain": [
       "i        1365\n",
       "the      1359\n",
       "a        1020\n",
       "you       932\n",
       "it        895\n",
       "my        865\n",
       "im        667\n",
       "in        632\n",
       "like      630\n",
       "to        624\n",
       "me        597\n",
       "and       480\n",
       "that      474\n",
       "dont      470\n",
       "on        455\n",
       "all       415\n",
       "bitch     387\n",
       "up        373\n",
       "got       369\n",
       "she       325\n",
       "dtype: int64"
      ]
     },
     "execution_count": 21,
     "metadata": {},
     "output_type": "execute_result"
    }
   ],
   "source": [
    "all_fdist"
   ]
  },
  {
   "cell_type": "code",
   "execution_count": 3,
   "metadata": {
    "ExecuteTime": {
     "end_time": "2020-12-20T20:10:12.650943Z",
     "start_time": "2020-12-20T20:10:11.497138Z"
    },
    "hidden": true
   },
   "outputs": [
    {
     "name": "stdout",
     "output_type": "stream",
     "text": [
      "Total tokens: 45,196\n",
      "Total unique tokens: 5,235\n"
     ]
    },
    {
     "data": {
      "image/png": "[encoded data removed]",
      "text/plain": [
       "<Figure size 720x720 with 1 Axes>"
      ]
     },
     "metadata": {
      "needs_background": "light"
     },
     "output_type": "display_data"
    }
   ],
   "source": [
    "all_song_tokens = []\n",
    "\n",
    "for song in tokenized_lyrics:\n",
    "    all_song_tokens.extend(tokenized_lyrics[song])\n",
    "\n",
    "print(f'Total tokens: {len(all_song_tokens):,}')\n",
    "print(f'Total unique tokens: {len(set(all_song_tokens)):,}')\n",
    "\n",
    "all_fdist = pd.Series(dict(FreqDist(all_song_tokens).most_common(20)))\n",
    "\n",
    "fig, ax = plt.subplots(figsize=(10,10))\n",
    "\n",
    "all_plot = sns.barplot(x=all_fdist.index, y=all_fdist.values, ax=ax)\n",
    "plt.xticks(rotation=30);"
   ]
  },
  {
   "cell_type": "code",
   "execution_count": 11,
   "metadata": {
    "ExecuteTime": {
     "end_time": "2020-12-12T22:43:06.866654Z",
     "start_time": "2020-12-12T22:43:06.809270Z"
    },
    "hidden": true
   },
   "outputs": [
    {
     "data": {
      "text/plain": [
       "i        0.102370\n",
       "the      0.101920\n",
       "a        0.076496\n",
       "you      0.069897\n",
       "it       0.067122\n",
       "my       0.064872\n",
       "im       0.050022\n",
       "in       0.047398\n",
       "like     0.047248\n",
       "to       0.046798\n",
       "me       0.044773\n",
       "and      0.035998\n",
       "that     0.035548\n",
       "dont     0.035248\n",
       "on       0.034123\n",
       "all      0.031123\n",
       "bitch    0.029024\n",
       "up       0.027974\n",
       "got      0.027674\n",
       "she      0.024374\n",
       "Name: percent_of_total, dtype: float64"
      ]
     },
     "execution_count": 11,
     "metadata": {},
     "output_type": "execute_result"
    }
   ],
   "source": [
    "total_words_all = all_fdist.values.sum()\n",
    "all_fdist_df = pd.DataFrame(all_fdist)\n",
    "all_fdist_df.columns = ['num_uses']\n",
    "all_fdist_df['percent_of_total'] = all_fdist_df['num_uses'] / total_words_all\n",
    "all_percent_plot = all_fdist_df['percent_of_total'].sort_values(ascending=False).head(20).copy()\n",
    "all_percent_plot"
   ]
  },
  {
   "cell_type": "markdown",
   "metadata": {
    "heading_collapsed": true,
    "hidden": true
   },
   "source": [
    "##### Bigrams"
   ]
  },
  {
   "cell_type": "code",
   "execution_count": 12,
   "metadata": {
    "ExecuteTime": {
     "end_time": "2020-12-12T22:43:07.292852Z",
     "start_time": "2020-12-12T22:43:06.872878Z"
    },
    "hidden": true
   },
   "outputs": [
    {
     "data": {
      "text/plain": [
       "[(('in', 'the'), 0.003982653332153288),\n",
       " (('make', 'it'), 0.0031197451101867423),\n",
       " (('i', 'dont'), 0.003009115850960262),\n",
       " (('in', 'my'), 0.0024117178511372686),\n",
       " (('like', 'a'), 0.0024117178511372686),\n",
       " (('wan', 'na'), 0.0024117178511372686),\n",
       " (('got', 'ta'), 0.0023232144437560845),\n",
       " (('i', 'aint'), 0.0022789627400654927),\n",
       " (('on', 'the'), 0.0022568368882201965),\n",
       " (('i', 'got'), 0.0017700681476236835),\n",
       " (('to', 'the'), 0.0017700681476236835),\n",
       " (('on', 'my'), 0.0016594388883972033),\n",
       " (('bitch', 'im'), 0.001526683777325427),\n",
       " (('it', 'rain'), 0.001460306221789539),\n",
       " (('all', 'my'), 0.001416054518098947),\n",
       " (('im', 'a'), 0.0013718028144083546),\n",
       " (('it', 'up'), 0.0013054252588724667),\n",
       " (('wassup', 'wassup'), 0.0012390477033365785),\n",
       " (('im', 'the'), 0.0012169218514912824),\n",
       " (('in', 'a'), 0.0011947959996459864),\n",
       " (('you', 'know'), 0.0011062925922648021),\n",
       " (('the', 'shit'), 0.0010841667404195062),\n",
       " (('stop', 'stop'), 0.00106204088857421),\n",
       " (('but', 'i'), 0.0010399150367289142),\n",
       " (('throw', 'it'), 0.001017789184883618),\n",
       " (('got', 'a'), 0.000995663333038322),\n",
       " (('its', 'all'), 0.000995663333038322),\n",
       " (('in', 'this'), 0.000973537481193026),\n",
       " (('like', 'the'), 0.000973537481193026),\n",
       " (('do', 'it'), 0.0009292857775024338),\n",
       " (('a', 'nigga'), 0.0009071599256571378),\n",
       " (('and', 'i'), 0.0009071599256571378),\n",
       " (('im', 'in'), 0.0009071599256571378),\n",
       " (('take', 'a'), 0.0009071599256571378),\n",
       " (('up', 'in'), 0.0009071599256571378),\n",
       " (('for', 'the'), 0.0008850340738118418),\n",
       " (('i', 'do'), 0.0008850340738118418),\n",
       " (('me', 'i'), 0.0008850340738118418),\n",
       " (('you', 'aint'), 0.0008850340738118418),\n",
       " (('aint', 'got'), 0.0008629082219665457),\n",
       " (('with', 'the'), 0.0008629082219665457),\n",
       " (('it', 'all'), 0.0008186565182759536),\n",
       " (('teenage', 'love'), 0.0008186565182759536),\n",
       " (('dont', 'know'), 0.0007965306664306576),\n",
       " (('fuck', 'with'), 0.0007965306664306576),\n",
       " (('i', 'know'), 0.0007965306664306576),\n",
       " (('on', 'a'), 0.0007965306664306576),\n",
       " (('the', 'same'), 0.0007965306664306576),\n",
       " (('all', 'the'), 0.0007744048145853615),\n",
       " (('i', 'just'), 0.0007744048145853615)]"
      ]
     },
     "execution_count": 12,
     "metadata": {},
     "output_type": "execute_result"
    }
   ],
   "source": [
    "bigram_measures_all = collc.BigramAssocMeasures()\n",
    "bigram_finder_all = collc.BigramCollocationFinder.from_words(all_song_tokens)\n",
    "bigram_scored_all = bigram_finder_all.score_ngrams(bigram_measures_all.raw_freq)\n",
    "bigram_scored_all[:50]"
   ]
  },
  {
   "cell_type": "markdown",
   "metadata": {
    "heading_collapsed": true,
    "hidden": true
   },
   "source": [
    "##### Trigrams"
   ]
  },
  {
   "cell_type": "code",
   "execution_count": 13,
   "metadata": {
    "ExecuteTime": {
     "end_time": "2020-12-12T22:43:08.158947Z",
     "start_time": "2020-12-12T22:43:07.298448Z"
    },
    "hidden": true
   },
   "outputs": [
    {
     "data": {
      "text/plain": [
       "[(('make', 'it', 'rain'), 0.001416054518098947),\n",
       " (('stop', 'stop', 'stop'), 0.0007965306664306576),\n",
       " (('throw', 'it', 'up'), 0.0007965306664306576),\n",
       " (('im', 'the', 'shit'), 0.0007301531108947695),\n",
       " (('it', 'rain', 'trick'), 0.0007301531108947695),\n",
       " (('its', 'all', 'love'), 0.0007080272590494735),\n",
       " (('wassup', 'its', 'all'), 0.0007080272590494735),\n",
       " (('love', 'teenage', 'love'), 0.0006637755553588813),\n",
       " (('teenage', 'love', 'teenage'), 0.0006637755553588813),\n",
       " (('dont', 'wan', 'na'), 0.0006416497035135853),\n",
       " (('wan', 'na', 'be'), 0.0006416497035135853),\n",
       " (('real', 'or', 'fake'), 0.0006195238516682892),\n",
       " (('it', 'make', 'it'), 0.0005973979998229932),\n",
       " (('make', 'it', 'make'), 0.0005973979998229932),\n",
       " (('i', 'got', 'ta'), 0.0005752721479776971),\n",
       " (('rack', 'city', 'bitch'), 0.0005752721479776971),\n",
       " (('rain', 'trick', 'make'), 0.0005752721479776971),\n",
       " (('trick', 'make', 'it'), 0.0005752721479776971),\n",
       " (('it', 'up', 'throw'), 0.0005531462961324011),\n",
       " (('up', 'throw', 'it'), 0.0005531462961324011),\n",
       " (('bitch', 'im', 'in'), 0.000531020444287105),\n",
       " (('im', 'in', 'this'), 0.000531020444287105),\n",
       " (('wassup', 'wassup', 'its'), 0.000531020444287105),\n",
       " (('wassup', 'wassup', 'wassup'), 0.000531020444287105),\n",
       " (('aint', 'got', 'ta'), 0.000508894592441809),\n",
       " (('i', 'dont', 'wan'), 0.000508894592441809),\n",
       " (('make', 'it', 'nasty'), 0.000486768740596513),\n",
       " (('it', 'neva', 'rains'), 0.0004646428887512169),\n",
       " (('all', 'my', 'niggas'), 0.00042039118506062486),\n",
       " (('in', 'this', 'bitch'), 0.00042039118506062486),\n",
       " (('a', 'look', 'around'), 0.0003982653332153288),\n",
       " (('ballin', 'ballin', 'ballin'), 0.0003982653332153288),\n",
       " (('dont', 'fuck', 'with'), 0.0003982653332153288),\n",
       " (('dont', 'hurt', 'me'), 0.0003982653332153288),\n",
       " (('got', 'ta', 'super'), 0.0003982653332153288),\n",
       " (('hurt', 'me', 'again'), 0.0003982653332153288),\n",
       " (('more', 'no', 'more'), 0.0003982653332153288),\n",
       " (('no', 'more', 'no'), 0.0003982653332153288),\n",
       " (('super', 'size', 'me'), 0.0003982653332153288),\n",
       " (('ta', 'super', 'size'), 0.0003982653332153288),\n",
       " (('take', 'a', 'look'), 0.0003982653332153288),\n",
       " (('dont', 'give', 'a'), 0.00037613948137003275),\n",
       " (('give', 'a', 'fuck'), 0.00037613948137003275),\n",
       " (('in', 'southern', 'california'), 0.00037613948137003275),\n",
       " (('just', 'wan', 'na'), 0.00037613948137003275),\n",
       " (('my', 'life', 'is'), 0.00037613948137003275),\n",
       " (('neva', 'rains', 'in'), 0.00037613948137003275),\n",
       " (('rains', 'in', 'southern'), 0.00037613948137003275),\n",
       " (('fake', 'real', 'or'), 0.00035401362952473673),\n",
       " (('gettin', 'every', 'every'), 0.00035401362952473673)]"
      ]
     },
     "execution_count": 13,
     "metadata": {},
     "output_type": "execute_result"
    }
   ],
   "source": [
    "trigram_measures_all = collc.TrigramAssocMeasures()\n",
    "trigram_finder_all = collc.TrigramCollocationFinder.from_words(all_song_tokens)\n",
    "trigram_scored_all = trigram_finder_all.score_ngrams(trigram_measures_all.raw_freq)\n",
    "trigram_scored_all[:50]"
   ]
  },
  {
   "cell_type": "markdown",
   "metadata": {
    "heading_collapsed": true,
    "hidden": true
   },
   "source": [
    "#### Stopwords Visuals"
   ]
  },
  {
   "cell_type": "code",
   "execution_count": 4,
   "metadata": {
    "ExecuteTime": {
     "end_time": "2020-12-20T20:10:17.862691Z",
     "start_time": "2020-12-20T20:10:17.584118Z"
    },
    "hidden": true
   },
   "outputs": [
    {
     "name": "stdout",
     "output_type": "stream",
     "text": [
      "Before stopword removal: 45,196\n",
      "After stopword removal: 27,141\n"
     ]
    }
   ],
   "source": [
    "stopwords = nltkcorpus.stopwords.words('english')\n",
    "all_song_tokens_stopped = []\n",
    "\n",
    "for word in all_song_tokens:\n",
    "    if word in stopwords:\n",
    "        pass\n",
    "    else:\n",
    "        all_song_tokens_stopped.append(word)\n",
    "        \n",
    "print(f'Before stopword removal: {len(all_song_tokens):,}')\n",
    "print(f'After stopword removal: {len(all_song_tokens_stopped):,}')"
   ]
  },
  {
   "cell_type": "markdown",
   "metadata": {
    "heading_collapsed": true,
    "hidden": true
   },
   "source": [
    "##### Bigrams"
   ]
  },
  {
   "cell_type": "code",
   "execution_count": 15,
   "metadata": {
    "ExecuteTime": {
     "end_time": "2020-12-12T22:43:09.365271Z",
     "start_time": "2020-12-12T22:43:08.356676Z"
    },
    "hidden": true,
    "scrolled": false
   },
   "outputs": [
    {
     "data": {
      "image/png": "[encoded data removed]",
      "text/plain": [
       "<Figure size 720x720 with 1 Axes>"
      ]
     },
     "metadata": {
      "needs_background": "light"
     },
     "output_type": "display_data"
    },
    {
     "name": "stdout",
     "output_type": "stream",
     "text": [
      "********************\n",
      "Top 20 tokens usage rate (%):\n",
      "********************\n"
     ]
    },
    {
     "data": {
      "text/plain": [
       "im         0.123313\n",
       "like       0.116473\n",
       "dont       0.086892\n",
       "bitch      0.071547\n",
       "got        0.068220\n",
       "aint       0.051950\n",
       "nigga      0.050471\n",
       "make       0.048438\n",
       "shit       0.044740\n",
       "niggas     0.042522\n",
       "know       0.037345\n",
       "fuck       0.037345\n",
       "love       0.036236\n",
       "get        0.032723\n",
       "money      0.029950\n",
       "cause      0.025698\n",
       "na         0.024774\n",
       "man        0.024404\n",
       "bitches    0.023849\n",
       "time       0.023110\n",
       "Name: Ratio, dtype: float64"
      ]
     },
     "metadata": {},
     "output_type": "display_data"
    },
    {
     "name": "stdout",
     "output_type": "stream",
     "text": [
      "Top 20 Bi-grams by frequency\n"
     ]
    },
    {
     "data": {
      "text/plain": [
       "[(('wan', 'na'), 0.004016064257028112),\n",
       " (('got', 'ta'), 0.003868685752183044),\n",
       " (('bitch', 'im'), 0.002542279208577429),\n",
       " (('make', 'rain'), 0.002431745329943628),\n",
       " (('wassup', 'wassup'), 0.0020632990678309568),\n",
       " (('stop', 'stop'), 0.0017685420581408202),\n",
       " (('aint', 'got'), 0.0014369404222394164),\n",
       " (('teenage', 'love'), 0.0013632511698168821),\n",
       " (('dont', 'know'), 0.0013264065436056152),\n",
       " (('im', 'shit'), 0.0013264065436056152),\n",
       " (('well', 'done'), 0.0012527172911830809),\n",
       " (('rain', 'trick'), 0.001215872664971814),\n",
       " (('city', 'bitch'), 0.0011790280387605468),\n",
       " (('hunnids', 'hunnids'), 0.0011790280387605468),\n",
       " (('wassup', 'love'), 0.0011790280387605468),\n",
       " (('love', 'teenage'), 0.0011053387863380127),\n",
       " (('dont', 'wan'), 0.0010684941601267455),\n",
       " (('make', 'make'), 0.0010684941601267455),\n",
       " (('real', 'fake'), 0.0010684941601267455),\n",
       " (('ten', 'ten'), 0.0010316495339154784)]"
      ]
     },
     "metadata": {},
     "output_type": "display_data"
    },
    {
     "name": "stdout",
     "output_type": "stream",
     "text": [
      "PMI score for 20 Bi-grams\n"
     ]
    },
    {
     "data": {
      "text/plain": [
       "[(('ahead', 'vent'), 13.728186256845007),\n",
       " (('alonzo', 'rondo'), 13.728186256845007),\n",
       " (('ambulance', 'firetruck'), 13.728186256845007),\n",
       " (('betty', 'boop'), 13.728186256845007),\n",
       " (('estate', 'boppers'), 13.728186256845007),\n",
       " (('excuse', 'manners'), 13.728186256845007),\n",
       " (('ford', 'escort'), 13.728186256845007),\n",
       " (('hero', 'heads'), 13.728186256845007),\n",
       " (('hors', 'doeuvres'), 13.728186256845007),\n",
       " (('jealously', 'attracting'), 13.728186256845007),\n",
       " (('katy', 'perry'), 13.728186256845007),\n",
       " (('metal', 'spoon'), 13.728186256845007),\n",
       " (('officer', 'autograph'), 13.728186256845007),\n",
       " (('pledge', 'allegiance'), 13.728186256845007),\n",
       " (('pun', 'intended'), 13.728186256845007),\n",
       " (('scottie', 'pippen'), 13.728186256845007),\n",
       " (('sin', 'jealously'), 13.728186256845007),\n",
       " (('skatin', 'basement'), 13.728186256845007),\n",
       " (('splurging', 'urgently'), 13.728186256845007),\n",
       " (('titles', 'cuffing'), 13.728186256845007)]"
      ]
     },
     "metadata": {},
     "output_type": "display_data"
    }
   ],
   "source": [
    "dlf.token_stat_generator(all_song_tokens_stopped, fd_plot=True, fd_show_ratio=True, ngram=True, n=2, ngram_freq_filter=2, ngram_pmi=True)"
   ]
  },
  {
   "cell_type": "code",
   "execution_count": 52,
   "metadata": {
    "ExecuteTime": {
     "end_time": "2020-12-13T02:56:05.925302Z",
     "start_time": "2020-12-13T02:56:05.224364Z"
    },
    "hidden": true
   },
   "outputs": [
    {
     "data": {
      "image/png": "[encoded data removed]",
      "text/plain": [
       "<Figure size 720x720 with 1 Axes>"
      ]
     },
     "metadata": {
      "needs_background": "light"
     },
     "output_type": "display_data"
    }
   ],
   "source": [
    "stopped_bigrams = dlf.n_gram_creator(all_song_tokens_stopped, counts=True)\n",
    "stopped_bigrams_joined = dlf.n_gram_plot_prepper(stopped_bigrams, keep='join')\n",
    "dlf.freqdist_plotter(stopped_bigrams_joined, premade_fd=True, h_plot=True, n_common=20)"
   ]
  },
  {
   "cell_type": "markdown",
   "metadata": {
    "heading_collapsed": true,
    "hidden": true
   },
   "source": [
    "##### Trigrams"
   ]
  },
  {
   "cell_type": "code",
   "execution_count": 16,
   "metadata": {
    "ExecuteTime": {
     "end_time": "2020-12-12T22:43:09.826238Z",
     "start_time": "2020-12-12T22:43:09.371351Z"
    },
    "hidden": true
   },
   "outputs": [
    {
     "name": "stdout",
     "output_type": "stream",
     "text": [
      "Top 20 Tri-grams by frequency\n"
     ]
    },
    {
     "data": {
      "text/plain": [
       "[(('stop', 'stop', 'stop'), 0.0013264065436056152),\n",
       " (('make', 'rain', 'trick'), 0.001215872664971814),\n",
       " (('love', 'teenage', 'love'), 0.0011053387863380127),\n",
       " (('teenage', 'love', 'teenage'), 0.0011053387863380127),\n",
       " (('dont', 'wan', 'na'), 0.0010684941601267455),\n",
       " (('rack', 'city', 'bitch'), 0.0009579602814929443),\n",
       " (('rain', 'trick', 'make'), 0.0009579602814929443),\n",
       " (('wassup', 'wassup', 'love'), 0.0008842710290704101),\n",
       " (('wassup', 'wassup', 'wassup'), 0.0008842710290704101),\n",
       " (('aint', 'got', 'ta'), 0.000847426402859143),\n",
       " (('im', 'make', 'rain'), 0.0008105817766478759),\n",
       " (('bitch', 'im', 'bitch'), 0.0007737371504366088),\n",
       " (('im', 'bitch', 'im'), 0.0007737371504366088),\n",
       " (('make', 'make', 'rain'), 0.0007000478980140746),\n",
       " (('ballin', 'ballin', 'ballin'), 0.0006632032718028076),\n",
       " (('got', 'ta', 'super'), 0.0006632032718028076),\n",
       " (('party', 'party', 'party'), 0.0006632032718028076),\n",
       " (('ta', 'super', 'size'), 0.0006632032718028076),\n",
       " (('take', 'look', 'around'), 0.0006632032718028076),\n",
       " (('neva', 'rains', 'southern'), 0.0006263586455915404)]"
      ]
     },
     "metadata": {},
     "output_type": "display_data"
    },
    {
     "name": "stdout",
     "output_type": "stream",
     "text": [
      "PMI score for 20 Tri-grams\n"
     ]
    },
    {
     "data": {
      "text/plain": [
       "[(('sin', 'jealously', 'attracting'), 27.456372513690017),\n",
       " (('trending', 'topic', 'hermès'), 27.456372513690017),\n",
       " (('urge', 'ultimately', 'adult'), 27.456372513690017),\n",
       " (('biggie', 'pun', 'intended'), 26.87141001296886),\n",
       " (('flabbergastin', 'spazz', 'spasm'), 26.87141001296886),\n",
       " (('hors', 'doeuvres', 'buying'), 26.87141001296886),\n",
       " (('pyramids', 'homicide', 'descriptions'), 26.87141001296886),\n",
       " (('zippin', 'dippin', 'jabs'), 26.87141001296886),\n",
       " (('add', 'titles', 'cuffing'), 26.456372513690017),\n",
       " (('biggest', 'sin', 'jealously'), 26.456372513690017),\n",
       " (('choo', 'train', 'oww'), 26.456372513690017),\n",
       " (('forward', 'ford', 'escort'), 26.456372513690017),\n",
       " (('rushing', 'add', 'titles'), 26.456372513690017),\n",
       " (('womens', 'lives', 'classy'), 26.456372513690017),\n",
       " (('cum', 'flabbergastin', 'spazz'), 26.286447512247705),\n",
       " (('dracula', 'casket', 'matters'), 26.286447512247705),\n",
       " (('mathematics', 'animal', 'dracula'), 26.286447512247705),\n",
       " (('pouring', 'champaign', 'chilling'), 26.286447512247705),\n",
       " (('almost', 'est', '90s'), 25.87141001296886),\n",
       " (('homicide', 'descriptions', 'hail'), 25.87141001296886)]"
      ]
     },
     "metadata": {},
     "output_type": "display_data"
    }
   ],
   "source": [
    "dlf.token_stat_generator(all_song_tokens_stopped, fd_plot=False, ngram=True, n=3, ngram_freq_filter=2, ngram_pmi=True)"
   ]
  },
  {
   "cell_type": "code",
   "execution_count": 55,
   "metadata": {
    "ExecuteTime": {
     "end_time": "2020-12-13T03:02:55.103383Z",
     "start_time": "2020-12-13T03:02:54.366257Z"
    },
    "hidden": true
   },
   "outputs": [
    {
     "data": {
      "image/png": "[encoded data removed]",
      "text/plain": [
       "<Figure size 720x720 with 1 Axes>"
      ]
     },
     "metadata": {
      "needs_background": "light"
     },
     "output_type": "display_data"
    }
   ],
   "source": [
    "stopped_trigrams = dlf.n_gram_creator(all_song_tokens_stopped, n=3, counts=True)\n",
    "stopped_trigrams_joined = dlf.n_gram_plot_prepper(stopped_trigrams, keep='join')\n",
    "dlf.freqdist_plotter(stopped_trigrams_joined, premade_fd=True, h_plot=True, n_common=20)"
   ]
  },
  {
   "cell_type": "markdown",
   "metadata": {
    "heading_collapsed": true,
    "hidden": true
   },
   "source": [
    "#### Stemming Visuals"
   ]
  },
  {
   "cell_type": "code",
   "execution_count": 5,
   "metadata": {
    "ExecuteTime": {
     "end_time": "2020-12-20T20:10:25.321419Z",
     "start_time": "2020-12-20T20:10:24.037779Z"
    },
    "hidden": true
   },
   "outputs": [],
   "source": [
    "stemmer = PorterStemmer()\n",
    "all_song_tokens_stemmed = []\n",
    "\n",
    "for token in all_song_tokens_stopped:\n",
    "    word = stemmer.stem(token)\n",
    "    all_song_tokens_stemmed.append(word)"
   ]
  },
  {
   "cell_type": "code",
   "execution_count": 56,
   "metadata": {
    "ExecuteTime": {
     "end_time": "2020-12-13T03:08:00.283607Z",
     "start_time": "2020-12-13T03:07:59.583256Z"
    },
    "hidden": true
   },
   "outputs": [
    {
     "data": {
      "image/png": "[encoded data removed]",
      "text/plain": [
       "<Figure size 720x720 with 1 Axes>"
      ]
     },
     "metadata": {
      "needs_background": "light"
     },
     "output_type": "display_data"
    },
    {
     "name": "stdout",
     "output_type": "stream",
     "text": [
      "********************\n",
      "Top 20 tokens usage rate (%):\n",
      "********************\n"
     ]
    },
    {
     "data": {
      "text/plain": [
       "im       0.114625\n",
       "like     0.108438\n",
       "bitch    0.088847\n",
       "nigga    0.086441\n",
       "dont     0.080770\n",
       "got      0.063413\n",
       "aint     0.048290\n",
       "make     0.046743\n",
       "fuck     0.046056\n",
       "shit     0.041760\n",
       "get      0.040213\n",
       "know     0.035401\n",
       "love     0.035229\n",
       "money    0.028012\n",
       "time     0.024403\n",
       "caus     0.024059\n",
       "na       0.023200\n",
       "man      0.022684\n",
       "never    0.020794\n",
       "see      0.020622\n",
       "Name: Ratio, dtype: float64"
      ]
     },
     "metadata": {},
     "output_type": "display_data"
    }
   ],
   "source": [
    "dlf.token_stat_generator(all_song_tokens_stemmed, fd_show_ratio=True)"
   ]
  },
  {
   "cell_type": "markdown",
   "metadata": {
    "heading_collapsed": true,
    "hidden": true
   },
   "source": [
    "##### Bigrams"
   ]
  },
  {
   "cell_type": "code",
   "execution_count": 58,
   "metadata": {
    "ExecuteTime": {
     "end_time": "2020-12-13T03:09:31.302545Z",
     "start_time": "2020-12-13T03:09:30.991105Z"
    },
    "hidden": true
   },
   "outputs": [
    {
     "name": "stdout",
     "output_type": "stream",
     "text": [
      "Top 20 Bi-grams by frequency\n"
     ]
    },
    {
     "data": {
      "text/plain": [
       "[(('wan', 'na'), 0.004016064257028112),\n",
       " (('got', 'ta'), 0.003868685752183044),\n",
       " (('bitch', 'im'), 0.0026528130872112304),\n",
       " (('make', 'rain'), 0.0024685899561548946),\n",
       " (('wassup', 'wassup'), 0.0020632990678309568),\n",
       " (('stop', 'stop'), 0.0017685420581408202),\n",
       " (('aint', 'got'), 0.0014369404222394164),\n",
       " (('teenag', 'love'), 0.0014369404222394164),\n",
       " (('dont', 'know'), 0.0013264065436056152),\n",
       " (('im', 'shit'), 0.0013264065436056152),\n",
       " (('citi', 'bitch'), 0.001289561917394348),\n",
       " (('well', 'done'), 0.0012527172911830809),\n",
       " (('rain', 'trick'), 0.001215872664971814),\n",
       " (('hunnid', 'hunnid'), 0.0011790280387605468),\n",
       " (('wassup', 'love'), 0.0011790280387605468),\n",
       " (('nigga', 'dont'), 0.0011421834125492796),\n",
       " (('love', 'teenag'), 0.0011053387863380127),\n",
       " (('dont', 'wan'), 0.0010684941601267455),\n",
       " (('make', 'make'), 0.0010684941601267455),\n",
       " (('real', 'fake'), 0.0010684941601267455)]"
      ]
     },
     "metadata": {},
     "output_type": "display_data"
    },
    {
     "name": "stdout",
     "output_type": "stream",
     "text": [
      "PMI score for 20 Bi-grams\n"
     ]
    },
    {
     "data": {
      "text/plain": [
       "[(('ahead', 'vent'), 13.728186256845007),\n",
       " (('alonzo', 'rondo'), 13.728186256845007),\n",
       " (('ambul', 'firetruck'), 13.728186256845007),\n",
       " (('betti', 'boop'), 13.728186256845007),\n",
       " (('estat', 'bopper'), 13.728186256845007),\n",
       " (('excus', 'manner'), 13.728186256845007),\n",
       " (('ford', 'escort'), 13.728186256845007),\n",
       " (('hor', 'doeuvr'), 13.728186256845007),\n",
       " (('jealous', 'attract'), 13.728186256845007),\n",
       " (('kati', 'perri'), 13.728186256845007),\n",
       " (('metal', 'spoon'), 13.728186256845007),\n",
       " (('pledg', 'allegi'), 13.728186256845007),\n",
       " (('pun', 'intend'), 13.728186256845007),\n",
       " (('scotti', 'pippen'), 13.728186256845007),\n",
       " (('skatin', 'basement'), 13.728186256845007),\n",
       " (('splurg', 'urgent'), 13.728186256845007),\n",
       " (('topic', 'hermè'), 13.728186256845007),\n",
       " (('train', 'oww'), 13.728186256845007),\n",
       " (('trend', 'topic'), 13.728186256845007),\n",
       " (('ultim', 'adult'), 13.728186256845007)]"
      ]
     },
     "metadata": {},
     "output_type": "display_data"
    }
   ],
   "source": [
    "dlf.token_stat_generator(all_song_tokens_stemmed, fd_plot=False, ngram=True, n=2, ngram_freq_filter=2, ngram_pmi=True)"
   ]
  },
  {
   "cell_type": "code",
   "execution_count": 57,
   "metadata": {
    "ExecuteTime": {
     "end_time": "2020-12-13T03:08:44.455777Z",
     "start_time": "2020-12-13T03:08:43.771650Z"
    },
    "hidden": true
   },
   "outputs": [
    {
     "data": {
      "image/png": "[encoded data removed]",
      "text/plain": [
       "<Figure size 720x720 with 1 Axes>"
      ]
     },
     "metadata": {
      "needs_background": "light"
     },
     "output_type": "display_data"
    }
   ],
   "source": [
    "stemmed_bigrams = dlf.n_gram_creator(all_song_tokens_stemmed, counts=True)\n",
    "stemmed_bigrams_joined = dlf.n_gram_plot_prepper(stemmed_bigrams, keep='join')\n",
    "dlf.freqdist_plotter(stemmed_bigrams_joined, premade_fd=True, h_plot=True, n_common=20)"
   ]
  },
  {
   "cell_type": "code",
   "execution_count": 83,
   "metadata": {
    "ExecuteTime": {
     "end_time": "2020-12-13T03:27:28.351735Z",
     "start_time": "2020-12-13T03:27:26.680414Z"
    },
    "hidden": true
   },
   "outputs": [
    {
     "name": "stdout",
     "output_type": "stream",
     "text": [
      "Top 20 Bi-grams by frequency\n"
     ]
    },
    {
     "data": {
      "text/plain": [
       "[(('wan', 'na'), 0.004016064257028112),\n",
       " (('got', 'ta'), 0.003868685752183044),\n",
       " (('bitch', 'im'), 0.0026528130872112304),\n",
       " (('make', 'rain'), 0.0024685899561548946),\n",
       " (('wassup', 'wassup'), 0.0020632990678309568),\n",
       " (('stop', 'stop'), 0.0017685420581408202),\n",
       " (('aint', 'got'), 0.0014369404222394164),\n",
       " (('teenag', 'love'), 0.0014369404222394164),\n",
       " (('dont', 'know'), 0.0013264065436056152),\n",
       " (('im', 'shit'), 0.0013264065436056152),\n",
       " (('citi', 'bitch'), 0.001289561917394348),\n",
       " (('well', 'done'), 0.0012527172911830809),\n",
       " (('rain', 'trick'), 0.001215872664971814),\n",
       " (('hunnid', 'hunnid'), 0.0011790280387605468),\n",
       " (('wassup', 'love'), 0.0011790280387605468),\n",
       " (('nigga', 'dont'), 0.0011421834125492796),\n",
       " (('love', 'teenag'), 0.0011053387863380127),\n",
       " (('dont', 'wan'), 0.0010684941601267455),\n",
       " (('make', 'make'), 0.0010684941601267455),\n",
       " (('real', 'fake'), 0.0010684941601267455)]"
      ]
     },
     "metadata": {},
     "output_type": "display_data"
    },
    {
     "data": {
      "image/png": "[encoded data removed]",
      "text/plain": [
       "<Figure size 720x720 with 1 Axes>"
      ]
     },
     "metadata": {
      "needs_background": "light"
     },
     "output_type": "display_data"
    }
   ],
   "source": [
    "stemmed_bigrams_pmi = dlf.n_gram_creator(all_song_tokens_stemmed, keep='pmi')\n",
    "stemmed_bigrams_pmi_joined = dlf.n_gram_plot_prepper(stemmed_bigrams_pmi, type_='pmi', keep='join')\n",
    "dlf.freqdist_plotter(stemmed_bigrams_pmi_joined, premade_fd=True, h_plot=True, n_common=20)"
   ]
  },
  {
   "cell_type": "markdown",
   "metadata": {
    "hidden": true
   },
   "source": [
    "Look into plotting negative values"
   ]
  },
  {
   "cell_type": "markdown",
   "metadata": {
    "heading_collapsed": true,
    "hidden": true
   },
   "source": [
    "##### Trigrams"
   ]
  },
  {
   "cell_type": "code",
   "execution_count": 19,
   "metadata": {
    "ExecuteTime": {
     "end_time": "2020-12-12T22:43:12.610606Z",
     "start_time": "2020-12-12T22:43:12.199429Z"
    },
    "hidden": true
   },
   "outputs": [
    {
     "name": "stdout",
     "output_type": "stream",
     "text": [
      "Top 20 Tri-grams by frequency\n"
     ]
    },
    {
     "data": {
      "text/plain": [
       "[(('stop', 'stop', 'stop'), 0.0013264065436056152),\n",
       " (('make', 'rain', 'trick'), 0.001215872664971814),\n",
       " (('love', 'teenag', 'love'), 0.0011053387863380127),\n",
       " (('teenag', 'love', 'teenag'), 0.0011053387863380127),\n",
       " (('dont', 'wan', 'na'), 0.0010684941601267455),\n",
       " (('rack', 'citi', 'bitch'), 0.0009579602814929443),\n",
       " (('rain', 'trick', 'make'), 0.0009579602814929443),\n",
       " (('wassup', 'wassup', 'love'), 0.0008842710290704101),\n",
       " (('wassup', 'wassup', 'wassup'), 0.0008842710290704101),\n",
       " (('aint', 'got', 'ta'), 0.000847426402859143),\n",
       " (('im', 'make', 'rain'), 0.0008105817766478759),\n",
       " (('bitch', 'im', 'bitch'), 0.0007737371504366088),\n",
       " (('im', 'bitch', 'im'), 0.0007737371504366088),\n",
       " (('make', 'make', 'rain'), 0.0007000478980140746),\n",
       " (('ballin', 'ballin', 'ballin'), 0.0006632032718028076),\n",
       " (('got', 'ta', 'super'), 0.0006632032718028076),\n",
       " (('parti', 'parti', 'parti'), 0.0006632032718028076),\n",
       " (('ta', 'super', 'size'), 0.0006632032718028076),\n",
       " (('take', 'look', 'around'), 0.0006632032718028076),\n",
       " (('neva', 'rain', 'southern'), 0.0006263586455915404)]"
      ]
     },
     "metadata": {},
     "output_type": "display_data"
    },
    {
     "name": "stdout",
     "output_type": "stream",
     "text": [
      "PMI score for 20 Tri-grams\n"
     ]
    },
    {
     "data": {
      "text/plain": [
       "[(('trend', 'topic', 'hermè'), 27.456372513690017),\n",
       " (('urg', 'ultim', 'adult'), 27.456372513690017),\n",
       " (('biggi', 'pun', 'intend'), 26.87141001296886),\n",
       " (('pyramid', 'homicid', 'descript'), 26.87141001296886),\n",
       " (('forward', 'ford', 'escort'), 26.456372513690017),\n",
       " (('cum', 'flabbergastin', 'spazz'), 26.286447512247705),\n",
       " (('flabbergastin', 'spazz', 'spasm'), 26.286447512247705),\n",
       " (('mathemat', 'anim', 'dracula'), 26.286447512247705),\n",
       " (('zippin', 'dippin', 'jab'), 26.286447512247705),\n",
       " (('choo', 'train', 'oww'), 26.134444418802655),\n",
       " (('sin', 'jealous', 'attract'), 26.134444418802655),\n",
       " (('almost', 'est', '90'), 25.87141001296886),\n",
       " (('homicid', 'descript', 'hail'), 25.87141001296886),\n",
       " (('princess', 'promiscu', 'suppos'), 25.87141001296886),\n",
       " (('prone', 'lifestyl', 'tac'), 25.87141001296886),\n",
       " (('rosco', 'chicken', 'waffl'), 25.87141001296886),\n",
       " (('shouldnt', 'prone', 'lifestyl'), 25.87141001296886),\n",
       " (('anim', 'dracula', 'casket'), 25.701485011526547),\n",
       " (('skatin', 'basement', 'lone'), 25.649017591632415),\n",
       " (('add', 'titl', 'cuf'), 25.456372513690017)]"
      ]
     },
     "metadata": {},
     "output_type": "display_data"
    }
   ],
   "source": [
    "token_stat_generator(all_song_tokens_stemmed, fd_plot=False, ngram=True, n=3, ngram_freq_filter=2, ngram_pmi=True)"
   ]
  },
  {
   "cell_type": "code",
   "execution_count": 60,
   "metadata": {
    "ExecuteTime": {
     "end_time": "2020-12-13T03:10:22.476660Z",
     "start_time": "2020-12-13T03:10:21.718285Z"
    },
    "hidden": true
   },
   "outputs": [
    {
     "data": {
      "image/png": "[encoded data removed]",
      "text/plain": [
       "<Figure size 720x720 with 1 Axes>"
      ]
     },
     "metadata": {
      "needs_background": "light"
     },
     "output_type": "display_data"
    }
   ],
   "source": [
    "stemmed_trigrams = n_gram_creator(all_song_tokens_stemmed, n=3, counts=True)\n",
    "stemmed_trigrams_joined = n_gram_plot_prepper(stemmed_trigrams, keep='join')\n",
    "freqdist_plotter(stemmed_trigrams_joined, premade_fd=True, h_plot=True, n_common=20)"
   ]
  },
  {
   "cell_type": "markdown",
   "metadata": {
    "heading_collapsed": true,
    "hidden": true
   },
   "source": [
    "### Song Statistics"
   ]
  },
  {
   "cell_type": "code",
   "execution_count": 192,
   "metadata": {
    "ExecuteTime": {
     "end_time": "2020-12-13T04:37:11.832254Z",
     "start_time": "2020-12-13T04:37:11.699841Z"
    },
    "hidden": true,
    "scrolled": false
   },
   "outputs": [
    {
     "data": {
      "text/html": [
       "<div>\n",
       "<style scoped>\n",
       "    .dataframe tbody tr th:only-of-type {\n",
       "        vertical-align: middle;\n",
       "    }\n",
       "\n",
       "    .dataframe tbody tr th {\n",
       "        vertical-align: top;\n",
       "    }\n",
       "\n",
       "    .dataframe thead th {\n",
       "        text-align: right;\n",
       "    }\n",
       "</style>\n",
       "<table border=\"1\" class=\"dataframe\">\n",
       "  <thead>\n",
       "    <tr style=\"text-align: right;\">\n",
       "      <th></th>\n",
       "      <th>title</th>\n",
       "      <th>total_words</th>\n",
       "      <th>unique_words</th>\n",
       "      <th>unique_total_ratio</th>\n",
       "      <th>avg_total</th>\n",
       "      <th>avg_unique</th>\n",
       "      <th>avg_unique_ratio</th>\n",
       "    </tr>\n",
       "  </thead>\n",
       "  <tbody>\n",
       "    <tr>\n",
       "      <th>0</th>\n",
       "      <td>Do It All</td>\n",
       "      <td>561</td>\n",
       "      <td>190</td>\n",
       "      <td>0.338681</td>\n",
       "      <td>408.536364</td>\n",
       "      <td>181.272727</td>\n",
       "      <td>0.474921</td>\n",
       "    </tr>\n",
       "    <tr>\n",
       "      <th>1</th>\n",
       "      <td>Real Or Fake</td>\n",
       "      <td>437</td>\n",
       "      <td>192</td>\n",
       "      <td>0.439359</td>\n",
       "      <td>408.536364</td>\n",
       "      <td>181.272727</td>\n",
       "      <td>0.474921</td>\n",
       "    </tr>\n",
       "    <tr>\n",
       "      <th>2</th>\n",
       "      <td>LovaGain</td>\n",
       "      <td>356</td>\n",
       "      <td>131</td>\n",
       "      <td>0.367978</td>\n",
       "      <td>408.536364</td>\n",
       "      <td>181.272727</td>\n",
       "      <td>0.474921</td>\n",
       "    </tr>\n",
       "    <tr>\n",
       "      <th>3</th>\n",
       "      <td>Press 7</td>\n",
       "      <td>442</td>\n",
       "      <td>210</td>\n",
       "      <td>0.475113</td>\n",
       "      <td>408.536364</td>\n",
       "      <td>181.272727</td>\n",
       "      <td>0.474921</td>\n",
       "    </tr>\n",
       "    <tr>\n",
       "      <th>4</th>\n",
       "      <td>Day One</td>\n",
       "      <td>561</td>\n",
       "      <td>251</td>\n",
       "      <td>0.447415</td>\n",
       "      <td>408.536364</td>\n",
       "      <td>181.272727</td>\n",
       "      <td>0.474921</td>\n",
       "    </tr>\n",
       "  </tbody>\n",
       "</table>\n",
       "</div>"
      ],
      "text/plain": [
       "          title  total_words  unique_words  unique_total_ratio   avg_total  \\\n",
       "0     Do It All          561           190            0.338681  408.536364   \n",
       "1  Real Or Fake          437           192            0.439359  408.536364   \n",
       "2      LovaGain          356           131            0.367978  408.536364   \n",
       "3       Press 7          442           210            0.475113  408.536364   \n",
       "4       Day One          561           251            0.447415  408.536364   \n",
       "\n",
       "   avg_unique  avg_unique_ratio  \n",
       "0  181.272727          0.474921  \n",
       "1  181.272727          0.474921  \n",
       "2  181.272727          0.474921  \n",
       "3  181.272727          0.474921  \n",
       "4  181.272727          0.474921  "
      ]
     },
     "execution_count": 192,
     "metadata": {},
     "output_type": "execute_result"
    }
   ],
   "source": [
    "cleaned_lyrics_stats = dlf.song_stat_df_generator(cleaned_lyrics)\n",
    "cleaned_lyrics_stats.head()"
   ]
  },
  {
   "cell_type": "markdown",
   "metadata": {
    "heading_collapsed": true,
    "hidden": true
   },
   "source": [
    "##### Song Length"
   ]
  },
  {
   "cell_type": "code",
   "execution_count": 201,
   "metadata": {
    "ExecuteTime": {
     "end_time": "2020-12-13T06:40:32.980418Z",
     "start_time": "2020-12-13T06:40:28.632806Z"
    },
    "hidden": true
   },
   "outputs": [
    {
     "data": {
      "image/png": "[encoded data removed]",
      "text/plain": [
       "<Figure size 1080x720 with 1 Axes>"
      ]
     },
     "metadata": {
      "needs_background": "light"
     },
     "output_type": "display_data"
    }
   ],
   "source": [
    "## Create Matplotlib figure + ax\n",
    "fig, ax = plt.subplots(figsize=(15,10))\n",
    "\n",
    "## Generate barplot sorted by song length\n",
    "sns.barplot(cleaned_lyrics_stats.index, cleaned_lyrics_stats['total_words'].sort_values(ascending=False), ax=ax)\n",
    "\n",
    "## Plot horizontal line representing average + xtick removal + legend display\n",
    "plt.hlines(cleaned_lyrics_stats['avg_total'][0], xmin=0, xmax=len(cleaned_lyrics_stats), label=f\"Average Song Length={round(cleaned_lyrics_stats['avg_total'][0], 1)}\")\n",
    "plt.xticks([])\n",
    "plt.legend();"
   ]
  },
  {
   "cell_type": "code",
   "execution_count": 181,
   "metadata": {
    "ExecuteTime": {
     "end_time": "2020-12-13T04:30:02.655082Z",
     "start_time": "2020-12-13T04:30:02.135947Z"
    },
    "hidden": true,
    "scrolled": false
   },
   "outputs": [
    {
     "data": {
      "image/png": "[encoded data removed]",
      "text/plain": [
       "<Figure size 1080x720 with 1 Axes>"
      ]
     },
     "metadata": {
      "needs_background": "light"
     },
     "output_type": "display_data"
    }
   ],
   "source": [
    "fig, ax = plt.subplots(figsize=(15,10))\n",
    "sns.kdeplot(cleaned_lyrics_stats['total_words'], label='Songs by Total Words', shade=True, ax=ax)\n",
    "plt.vlines(cleaned_lyrics_stats['avg_total'][0], 0, 0.0032, linestyles='dashed', label='Average')\n",
    "plt.legend();"
   ]
  },
  {
   "cell_type": "markdown",
   "metadata": {
    "heading_collapsed": true,
    "hidden": true
   },
   "source": [
    "##### Unique Words"
   ]
  },
  {
   "cell_type": "code",
   "execution_count": 182,
   "metadata": {
    "ExecuteTime": {
     "end_time": "2020-12-13T04:31:35.368745Z",
     "start_time": "2020-12-13T04:31:33.370003Z"
    },
    "hidden": true
   },
   "outputs": [
    {
     "data": {
      "image/png": "[encoded data removed]",
      "text/plain": [
       "<Figure size 1080x720 with 1 Axes>"
      ]
     },
     "metadata": {
      "needs_background": "light"
     },
     "output_type": "display_data"
    }
   ],
   "source": [
    "fig, ax = plt.subplots(figsize=(15,10))\n",
    "sns.barplot(cleaned_lyrics_stats.index, cleaned_lyrics_stats['unique_words'].sort_values(ascending=False), ax=ax)\n",
    "plt.hlines(cleaned_lyrics_stats['avg_unique'][0], xmin=0, xmax=len(cleaned_lyrics_stats), label='Average Unique Words')\n",
    "plt.xticks([])\n",
    "plt.legend();"
   ]
  },
  {
   "cell_type": "code",
   "execution_count": 187,
   "metadata": {
    "ExecuteTime": {
     "end_time": "2020-12-13T04:33:29.682914Z",
     "start_time": "2020-12-13T04:33:29.212291Z"
    },
    "hidden": true
   },
   "outputs": [
    {
     "data": {
      "image/png": "[encoded data removed]",
      "text/plain": [
       "<Figure size 1080x720 with 1 Axes>"
      ]
     },
     "metadata": {
      "needs_background": "light"
     },
     "output_type": "display_data"
    }
   ],
   "source": [
    "## Create Matplotlib figure + ax\n",
    "fig, ax = plt.subplots(figsize=(15,10))\n",
    "\n",
    "## Generate kdeplot\n",
    "sns.kdeplot(cleaned_lyrics_stats['unique_words'], label='Songs by Unique Words', shade=True, ax=ax)\n",
    "\n",
    "## Plot vertical line representing average + legend display\n",
    "plt.vlines(cleaned_lyrics_stats['avg_unique'][0], 0, 0.0088, linestyles='dashed', label='Average')\n",
    "plt.legend();"
   ]
  },
  {
   "cell_type": "markdown",
   "metadata": {
    "heading_collapsed": true,
    "hidden": true
   },
   "source": [
    "##### Unique to Total Ratio"
   ]
  },
  {
   "cell_type": "code",
   "execution_count": 194,
   "metadata": {
    "ExecuteTime": {
     "end_time": "2020-12-13T04:37:53.006417Z",
     "start_time": "2020-12-13T04:37:51.143574Z"
    },
    "hidden": true
   },
   "outputs": [
    {
     "data": {
      "image/png": "[encoded data removed]",
      "text/plain": [
       "<Figure size 1080x720 with 1 Axes>"
      ]
     },
     "metadata": {
      "needs_background": "light"
     },
     "output_type": "display_data"
    }
   ],
   "source": [
    "fig, ax = plt.subplots(figsize=(15,10))\n",
    "sns.barplot(cleaned_lyrics_stats.index, cleaned_lyrics_stats['unique_total_ratio'].sort_values(ascending=False), ax=ax)\n",
    "plt.hlines(cleaned_lyrics_stats['avg_unique_ratio'][0], xmin=0, xmax=len(cleaned_lyrics_stats), label='Average Unique Words Ratio')\n",
    "plt.xticks([])\n",
    "plt.legend();"
   ]
  },
  {
   "cell_type": "code",
   "execution_count": 202,
   "metadata": {
    "ExecuteTime": {
     "end_time": "2020-12-13T07:20:25.008528Z",
     "start_time": "2020-12-13T07:20:24.465178Z"
    },
    "hidden": true,
    "scrolled": false
   },
   "outputs": [
    {
     "data": {
      "image/png": "[encoded data removed]",
      "text/plain": [
       "<Figure size 1080x720 with 1 Axes>"
      ]
     },
     "metadata": {
      "needs_background": "light"
     },
     "output_type": "display_data"
    }
   ],
   "source": [
    "fig, ax = plt.subplots(figsize=(15,10))\n",
    "sns.kdeplot(cleaned_lyrics_stats['unique_total_ratio'].dropna(inplace=False), label='Songs by Unique Words Ratio', shade=True, ax=ax)\n",
    "plt.vlines(cleaned_lyrics_stats['avg_unique_ratio'][0], 0, 3, linestyles='dashed', label='Average')\n",
    "plt.legend();"
   ]
  },
  {
   "cell_type": "markdown",
   "metadata": {
    "heading_collapsed": true,
    "hidden": true
   },
   "source": [
    "### Breaker"
   ]
  },
  {
   "cell_type": "code",
   "execution_count": 199,
   "metadata": {
    "ExecuteTime": {
     "end_time": "2020-12-13T05:56:08.377430Z",
     "start_time": "2020-12-13T05:56:08.362151Z"
    },
    "hidden": true
   },
   "outputs": [
    {
     "data": {
      "text/plain": [
       "['looking at the ceiling thinking why i treat you bad',\n",
       " 'aint no worser feelings than knowing i did it for the last',\n",
       " 'arguing all i was doing accusing you my bad',\n",
       " 'said lets take some time nevermind rewind',\n",
       " 'looking at the ceiling thinking why i treat you bad',\n",
       " 'aint no worser feelings than knowing i did it for the last',\n",
       " 'arguing all i was doing accusing you my bad',\n",
       " 'said lets take some time nevermind just playing with your mind',\n",
       " 'i always thought play dumb and let the other one love',\n",
       " 'why get caught up in nowhere but trust',\n",
       " 'only love for fun im too young i thought',\n",
       " 'all i wanted was a thanks to louboutins i bought',\n",
       " 'but it aint your fault heaven knows you deserve it all',\n",
       " 'you sent letters to my heart but i burned them all',\n",
       " 'the bible says before you run gotta learn to crawl',\n",
       " 'but i dont wanna waste time if we aint involved',\n",
       " 'oh oh',\n",
       " 'we been through it all',\n",
       " 'i know i broke your heart once before',\n",
       " 'but im done',\n",
       " 'oh oh ohh',\n",
       " 'tell me whats wrong',\n",
       " 'i know i never listen but just listen to this song',\n",
       " 'oh man',\n",
       " 'i promise we gon do it til the sun come down',\n",
       " 'i swear its going down',\n",
       " 'i promise we gon do it til the sun come up',\n",
       " 'fuck it they dont do it we gon do it all',\n",
       " 'now the ceiling fan spinning getting dizzy man',\n",
       " 'wondering who she with maybe should i call  dont be desperate man',\n",
       " 'this aint no tag youre it hide and seek shit',\n",
       " 'reality just kicked in i lost one and now shes winning',\n",
       " 'found another nigga she dig',\n",
       " 'says he treat her like a queen but she probably control him',\n",
       " 'fuck that i gotta get her back to what we started',\n",
       " 'start over again this time my hearts seeing honest',\n",
       " 'leleave us leave us lets just talk about it',\n",
       " 'i know before i wasnt much of a man about it',\n",
       " 'but this time i realize i cant live without you',\n",
       " 'believe when i say its true i love you',\n",
       " 'oh oh',\n",
       " 'we been through it all',\n",
       " 'i know i broke your heart once before',\n",
       " 'but im done',\n",
       " 'oh oh ohh',\n",
       " 'tell me whats wrong',\n",
       " 'i know i never listen but just listen to this song',\n",
       " 'oh man',\n",
       " 'i promise we gon do it til the sun come down',\n",
       " 'i swear its going down',\n",
       " 'i promise we gon do it til the sun come up',\n",
       " 'fuck it they dont do it we gon do it all',\n",
       " 'love make you do it all',\n",
       " 'going up and down like a seesaw',\n",
       " 'cant be a player forever dog',\n",
       " 'it feels so good but i know its wrong',\n",
       " 'motherfucker drink what im sipping on',\n",
       " 'motherfucker drink what im sipping on',\n",
       " 'motherfucker drink what im sipping on',\n",
       " 'a bottle of love tell me if its too strong',\n",
       " 'oh oh',\n",
       " 'we been through it all',\n",
       " 'i know i broke your heart once before',\n",
       " 'but im done',\n",
       " 'oh oh ohh',\n",
       " 'tell me whats wrong',\n",
       " 'i know i never listen but just listen to this song',\n",
       " 'oh man',\n",
       " 'i promise we gon do it til the sun come down',\n",
       " 'i swear its going down',\n",
       " 'i promise we gon do it til the sun come up',\n",
       " 'fuck it they dont do it we gon do it all']"
      ]
     },
     "execution_count": 199,
     "metadata": {},
     "output_type": "execute_result"
    }
   ],
   "source": [
    "cleaned_lyrics['Do It All']"
   ]
  },
  {
   "cell_type": "markdown",
   "metadata": {
    "hidden": true
   },
   "source": [
    "12.12 **Plot out freq of bi-grams, plot out length per song, plot out unique words per song, pos tags**"
   ]
  },
  {
   "cell_type": "markdown",
   "metadata": {
    "hidden": true
   },
   "source": [
    "12.9 **Stemming over Lemmatization** Just because Lemma-ing tokens will lose the actual word. Stemming will just shorten them"
   ]
  },
  {
   "cell_type": "markdown",
   "metadata": {
    "hidden": true
   },
   "source": [
    "12.3 **Try these same graphs with stopwords removed.**"
   ]
  },
  {
   "cell_type": "markdown",
   "metadata": {
    "hidden": true
   },
   "source": [
    "11.10 **NEED TO START HERE BY PULLING LIST OF FEATURES AND TRY TO MATCH UP WITH NAMES IN FEAT. PART**\n",
    "\n",
    "Separate songs by feats or not.\n",
    "* skip those with multi-results (for now)\n",
    "* create list to match with from keys from lyric_header_checker"
   ]
  },
  {
   "cell_type": "markdown",
   "metadata": {},
   "source": [
    "# Model Prep"
   ]
  },
  {
   "cell_type": "markdown",
   "metadata": {
    "heading_collapsed": true
   },
   "source": [
    "### Creating Dataset"
   ]
  },
  {
   "cell_type": "markdown",
   "metadata": {
    "heading_collapsed": true,
    "hidden": true
   },
   "source": [
    "#### Creating Integer Lookups"
   ]
  },
  {
   "cell_type": "code",
   "execution_count": 3,
   "metadata": {
    "ExecuteTime": {
     "end_time": "2020-12-22T03:14:50.073794Z",
     "start_time": "2020-12-22T03:14:50.028480Z"
    },
    "hidden": true
   },
   "outputs": [
    {
     "name": "stdout",
     "output_type": "stream",
     "text": [
      "************************************************************\n",
      "109 strings pulled from dictionary\n",
      "************************************************************\n",
      "There are 221,150 characters in the sample.\n",
      "41 of these characters are unique.\n",
      "\n",
      "First 200 characters:\n",
      "\"looking at the ceiling thinking why i treat you bad\n",
      "aint no worser feelings than knowing i did it for the last\n",
      "arguing all i was doing accusing you my bad\n",
      "said lets take some time nevermind rewind\n",
      "loo\"\n"
     ]
    }
   ],
   "source": [
    "## Merging cleaned lyrics into one string + pop string out of container\n",
    "cleaned_lyrics_string = dlf.dict_string_concat(cleaned_lyrics)\n",
    "cleaned_lyrics_string = cleaned_lyrics_string.pop()\n",
    "vocab = sorted(set(cleaned_lyrics_string))\n",
    "\n",
    "## Q.C.\n",
    "print(f'There are {len(cleaned_lyrics_string):,} characters in the sample.')\n",
    "print(f'{len(vocab)} of these characters are unique.\\n')\n",
    "print(f'First 200 characters:')\n",
    "print(f'\"{cleaned_lyrics_string[:200]}\"')"
   ]
  },
  {
   "cell_type": "code",
   "execution_count": 4,
   "metadata": {
    "ExecuteTime": {
     "end_time": "2020-12-22T03:14:50.090914Z",
     "start_time": "2020-12-22T03:14:50.078473Z"
    },
    "hidden": true
   },
   "outputs": [
    {
     "name": "stdout",
     "output_type": "stream",
     "text": [
      "Index ==> Character lookup table:\n",
      "\n",
      "['\\n' ' ' '0' '1' '2' '3' '4' '5' '6' '7' '8' '9' 'a' 'b' 'c' 'd' 'e' 'f'\n",
      " 'g' 'h' 'i' 'j' 'k' 'l' 'm' 'n' 'o' 'p' 'q' 'r' 's' 't' 'u' 'v' 'w' 'x'\n",
      " 'y' 'z' 'è' 'é' 'ó'] \n",
      "\n",
      "------------------------------------------------------------------------------------------ \n",
      "\n",
      "Character ==> Index lookup table:\n",
      "\n",
      "{'\\n': 0, ' ': 1, '0': 2, '1': 3, '2': 4, '3': 5, '4': 6, '5': 7, '6': 8, '7': 9, '8': 10, '9': 11, 'a': 12, 'b': 13, 'c': 14, 'd': 15, 'e': 16, 'f': 17, 'g': 18, 'h': 19, 'i': 20, 'j': 21, 'k': 22, 'l': 23, 'm': 24, 'n': 25, 'o': 26, 'p': 27, 'q': 28, 'r': 29, 's': 30, 't': 31, 'u': 32, 'v': 33, 'w': 34, 'x': 35, 'y': 36, 'z': 37, 'è': 38, 'é': 39, 'ó': 40}\n"
     ]
    }
   ],
   "source": [
    "## Each index will match value corresp. to character key in 'char_v_idx'\n",
    "idx_v_char = np.array(vocab)\n",
    "print('Index ==> Character lookup table:\\n')\n",
    "print(idx_v_char, '\\n')\n",
    "print('---'*30, '\\n')\n",
    "\n",
    "## Assigning characters to their index\n",
    "print('Character ==> Index lookup table:\\n')\n",
    "char_v_idx = {c:i for i,c in enumerate(vocab)}\n",
    "print(char_v_idx)"
   ]
  },
  {
   "cell_type": "code",
   "execution_count": 5,
   "metadata": {
    "ExecuteTime": {
     "end_time": "2020-12-22T03:14:50.195097Z",
     "start_time": "2020-12-22T03:14:50.097557Z"
    },
    "hidden": true
   },
   "outputs": [
    {
     "name": "stdout",
     "output_type": "stream",
     "text": [
      "Actual Lyrics:\n",
      "\n",
      "\"looking at the ceiling\" \n",
      "\n",
      "------------------------------------------------------------------------------------------ \n",
      "\n",
      "Integer Representation:\n",
      "\n",
      "[23 26 26 22 20 25 18  1 12 31  1 31 19 16  1 14 16 20 23 20 25 18]\n"
     ]
    }
   ],
   "source": [
    "## Representing lyrics as integers\n",
    "lyrics_as_int = np.array([char_v_idx[character] for character in cleaned_lyrics_string])\n",
    "\n",
    "## Q.C.\n",
    "print('Actual Lyrics:\\n')\n",
    "print(f'\"{cleaned_lyrics_string[:22]}\"', '\\n')\n",
    "print('---'*30, '\\n')\n",
    "print('Integer Representation:\\n')\n",
    "print(lyrics_as_int[:22])"
   ]
  },
  {
   "cell_type": "markdown",
   "metadata": {
    "heading_collapsed": true,
    "hidden": true
   },
   "source": [
    "#### Creating Sequences"
   ]
  },
  {
   "cell_type": "code",
   "execution_count": 6,
   "metadata": {
    "ExecuteTime": {
     "end_time": "2020-12-22T03:14:50.210830Z",
     "start_time": "2020-12-22T03:14:50.198442Z"
    },
    "hidden": true
   },
   "outputs": [
    {
     "name": "stdout",
     "output_type": "stream",
     "text": [
      "Examples per epoch: 20,104\n"
     ]
    }
   ],
   "source": [
    "## Selecting length of input sequences to be considered\n",
    "seq_length = 10\n",
    "\n",
    "## Q.C.\n",
    "examples_per_epoch = len(cleaned_lyrics_string) // (seq_length + 1)\n",
    "print(f'Examples per epoch: {examples_per_epoch:,}')"
   ]
  },
  {
   "cell_type": "code",
   "execution_count": 7,
   "metadata": {
    "ExecuteTime": {
     "end_time": "2020-12-22T03:14:50.286489Z",
     "start_time": "2020-12-22T03:14:50.213224Z"
    },
    "hidden": true
   },
   "outputs": [
    {
     "name": "stdout",
     "output_type": "stream",
     "text": [
      "Integers to characters:\n",
      "************************************************************\n",
      "Int: 23 --> l\n",
      "Int: 26 --> o\n",
      "Int: 26 --> o\n",
      "Int: 22 --> k\n",
      "Int: 20 --> i\n",
      "Int: 25 --> n\n",
      "Int: 18 --> g\n",
      "Int: 1 -->  \n",
      "Int: 12 --> a\n",
      "Int: 31 --> t\n"
     ]
    }
   ],
   "source": [
    "## Creating dataset as scalar tensors\n",
    "character_set = tf.data.Dataset.from_tensor_slices(lyrics_as_int)\n",
    "\n",
    "## Q.C\n",
    "print('Integers to characters:')\n",
    "print('***'*20)\n",
    "\n",
    "## Displaying in order int --> char\n",
    "for i in character_set.take(10):\n",
    "    int_rep = i.numpy()\n",
    "    print(f'Int: {int_rep} --> {idx_v_char[int_rep]}')"
   ]
  },
  {
   "cell_type": "code",
   "execution_count": 8,
   "metadata": {
    "ExecuteTime": {
     "end_time": "2020-12-22T03:14:50.323327Z",
     "start_time": "2020-12-22T03:14:50.291088Z"
    },
    "hidden": true
   },
   "outputs": [
    {
     "name": "stdout",
     "output_type": "stream",
     "text": [
      "Integers to sequences:\n",
      "************************************************************\n",
      "[23 26 26 22 20 25 18  1 12 31  1]\n",
      "looking at  \n",
      "\n",
      "[31 19 16  1 14 16 20 23 20 25 18]\n",
      "the ceiling \n",
      "\n"
     ]
    }
   ],
   "source": [
    "## Creating 'seq_length' batches of lyrics\n",
    "lyrics_sequenced = character_set.batch((seq_length + 1), drop_remainder=True)\n",
    "\n",
    "## Q.C.\n",
    "print('Integers to sequences:')\n",
    "print('***'*20)\n",
    "\n",
    "## Displaying batches\n",
    "for i in lyrics_sequenced.take(2):\n",
    "    print(i.numpy())\n",
    "    print(''.join(idx_v_char[i.numpy()]), '\\n')"
   ]
  },
  {
   "cell_type": "markdown",
   "metadata": {
    "heading_collapsed": true,
    "hidden": true
   },
   "source": [
    "#### Inputs, Targets, & Training Batches"
   ]
  },
  {
   "cell_type": "code",
   "execution_count": 10,
   "metadata": {
    "ExecuteTime": {
     "end_time": "2020-12-22T03:14:50.552400Z",
     "start_time": "2020-12-22T03:14:50.346171Z"
    },
    "hidden": true
   },
   "outputs": [
    {
     "name": "stdout",
     "output_type": "stream",
     "text": [
      "Input:\n",
      "[23 26 26 22 20 25 18  1 12 31] ------> looking at\n",
      "Target:\n",
      "[26 26 22 20 25 18  1 12 31  1] ------> ooking at \n"
     ]
    }
   ],
   "source": [
    "## Splitting inputs/targets + Q.C.\n",
    "dataset_full = lyrics_sequenced.map(split_input_target)\n",
    "\n",
    "for input_, target_ in dataset_full.take(1):\n",
    "    print('Input:')\n",
    "    print(input_.numpy(),'------>',''.join(idx_v_char[input_.numpy()]))\n",
    "    print('Target:')\n",
    "    print(target_.numpy(), '------>', ''.join(idx_v_char[target_.numpy()]))"
   ]
  },
  {
   "cell_type": "code",
   "execution_count": 11,
   "metadata": {
    "ExecuteTime": {
     "end_time": "2020-12-22T03:14:50.602179Z",
     "start_time": "2020-12-22T03:14:50.553433Z"
    },
    "hidden": true
   },
   "outputs": [
    {
     "name": "stdout",
     "output_type": "stream",
     "text": [
      "Step 0\n",
      "  input: 23 (l)\n",
      "  expected output: 26 (o)\n",
      "------------------------------\n",
      "Step 1\n",
      "  input: 26 (o)\n",
      "  expected output: 26 (o)\n",
      "------------------------------\n",
      "Step 2\n",
      "  input: 26 (o)\n",
      "  expected output: 22 (k)\n",
      "------------------------------\n",
      "Step 3\n",
      "  input: 22 (k)\n",
      "  expected output: 20 (i)\n",
      "------------------------------\n",
      "Step 4\n",
      "  input: 20 (i)\n",
      "  expected output: 25 (n)\n",
      "------------------------------\n"
     ]
    }
   ],
   "source": [
    "for input_, target_ in dataset_full.take(1):\n",
    "    \n",
    "    for i, (input_ex, target_ex) in enumerate(zip(input_[:5], target_[:5])):\n",
    "        print(f'Step {i}')\n",
    "        print(f'  input: {input_ex} ({idx_v_char[input_ex]})')\n",
    "        print(f'  expected output: {target_ex} ({idx_v_char[target_ex]})')\n",
    "        print(10*'---')"
   ]
  },
  {
   "cell_type": "code",
   "execution_count": 12,
   "metadata": {
    "ExecuteTime": {
     "end_time": "2020-12-22T03:14:50.618684Z",
     "start_time": "2020-12-22T03:14:50.606061Z"
    },
    "hidden": true
   },
   "outputs": [],
   "source": [
    "## Sequence batch size\n",
    "batch_size = 64\n",
    "\n",
    "## Buffer from which the next element is randomly selected during training\n",
    "buffer_size = 1000\n",
    "\n",
    "## Shuffling...\n",
    "dataset_shuffled = dataset_full.shuffle(buffer_size, seed=810).batch(batch_size, drop_remainder=True)"
   ]
  },
  {
   "cell_type": "markdown",
   "metadata": {
    "heading_collapsed": true
   },
   "source": [
    "### Building the Model"
   ]
  },
  {
   "cell_type": "code",
   "execution_count": 14,
   "metadata": {
    "ExecuteTime": {
     "end_time": "2020-12-22T03:14:50.653331Z",
     "start_time": "2020-12-22T03:14:50.641272Z"
    },
    "hidden": true
   },
   "outputs": [],
   "source": [
    "## Length of different characters in dataset\n",
    "vocab_size = len(vocab)\n",
    "\n",
    "## Dimenson of word embedding space\n",
    "embed_dim = 256\n",
    "\n",
    "## NO. RNN units for GRU layer\n",
    "rnn_units = 1024"
   ]
  },
  {
   "cell_type": "code",
   "execution_count": 15,
   "metadata": {
    "ExecuteTime": {
     "end_time": "2020-12-22T03:14:51.414271Z",
     "start_time": "2020-12-22T03:14:50.657929Z"
    },
    "hidden": true
   },
   "outputs": [
    {
     "name": "stdout",
     "output_type": "stream",
     "text": [
      "Model: \"sequential\"\n",
      "_________________________________________________________________\n",
      "Layer (type)                 Output Shape              Param #   \n",
      "=================================================================\n",
      "embedding (Embedding)        (64, None, 256)           10496     \n",
      "_________________________________________________________________\n",
      "gru (GRU)                    (64, None, 1024)          3938304   \n",
      "_________________________________________________________________\n",
      "dense (Dense)                (64, None, 41)            42025     \n",
      "=================================================================\n",
      "Total params: 3,990,825\n",
      "Trainable params: 3,990,825\n",
      "Non-trainable params: 0\n",
      "_________________________________________________________________\n"
     ]
    }
   ],
   "source": [
    "## Build it + Q.C.\n",
    "model = build_model(vocab_size, embed_dim, rnn_units, batch_size)\n",
    "model.summary()"
   ]
  },
  {
   "cell_type": "markdown",
   "metadata": {
    "heading_collapsed": true
   },
   "source": [
    "### Pre-train Predictions"
   ]
  },
  {
   "cell_type": "code",
   "execution_count": 16,
   "metadata": {
    "ExecuteTime": {
     "end_time": "2020-12-22T03:14:51.816614Z",
     "start_time": "2020-12-22T03:14:51.416267Z"
    },
    "hidden": true
   },
   "outputs": [
    {
     "name": "stdout",
     "output_type": "stream",
     "text": [
      "(64, 10, 41) # (batch_size, sequence_length, vocab_size)\n"
     ]
    }
   ],
   "source": [
    "## Q.C. of prediction shape\n",
    "for input_ex_batch, target_ex_batch in dataset_shuffled.take(1):\n",
    "    ex_batch_preds = model(input_ex_batch)\n",
    "    print(ex_batch_preds.shape, \"# (batch_size, sequence_length, vocab_size)\")"
   ]
  },
  {
   "cell_type": "code",
   "execution_count": 17,
   "metadata": {
    "ExecuteTime": {
     "end_time": "2020-12-22T03:14:51.842112Z",
     "start_time": "2020-12-22T03:14:51.819170Z"
    },
    "hidden": true
   },
   "outputs": [
    {
     "name": "stdout",
     "output_type": "stream",
     "text": [
      "Sampled Prediction as int:\n"
     ]
    },
    {
     "data": {
      "text/plain": [
       "array([ 3, 21, 37, 27, 31, 14,  1,  9, 31, 26], dtype=int64)"
      ]
     },
     "metadata": {},
     "output_type": "display_data"
    }
   ],
   "source": [
    "## Pull a single sequence of 10 predicted characters\n",
    "sample_preds = tf.random.categorical(ex_batch_preds[3], num_samples=1)\n",
    "\n",
    "## Augment shape (10, 1) --> (10,)\n",
    "sample_preds = tf.squeeze(sample_preds, axis=-1).numpy()\n",
    "\n",
    "## Q.C.\n",
    "print('Sampled Prediction as int:')\n",
    "display(sample_preds)"
   ]
  },
  {
   "cell_type": "code",
   "execution_count": 18,
   "metadata": {
    "ExecuteTime": {
     "end_time": "2020-12-22T03:14:51.857729Z",
     "start_time": "2020-12-22T03:14:51.847149Z"
    },
    "hidden": true
   },
   "outputs": [
    {
     "name": "stdout",
     "output_type": "stream",
     "text": [
      "Input: \n",
      "  or fake b\n",
      "\n",
      "Next Char Predictions: \n",
      " 1jzptc 7to\n"
     ]
    }
   ],
   "source": [
    "## Testing untrained predictions as lyrics\n",
    "print('Input: \\n', ''.join(idx_v_char[input_ex_batch[3].numpy()]))\n",
    "print()\n",
    "print('Next Char Predictions: \\n', ''.join(idx_v_char[sample_preds]))"
   ]
  },
  {
   "cell_type": "markdown",
   "metadata": {
    "heading_collapsed": true
   },
   "source": [
    "### Training Prep"
   ]
  },
  {
   "cell_type": "code",
   "execution_count": 20,
   "metadata": {
    "ExecuteTime": {
     "end_time": "2020-12-22T03:14:51.898179Z",
     "start_time": "2020-12-22T03:14:51.879694Z"
    },
    "hidden": true
   },
   "outputs": [
    {
     "name": "stdout",
     "output_type": "stream",
     "text": [
      "Prediction shape:  (64, 10, 41)  # (batch_size, sequence_length, vocab_size)\n",
      "Scalar_loss:       3.7136104\n"
     ]
    }
   ],
   "source": [
    "## Q.C. Pre-trained loss\n",
    "ex_batch_loss = loss(target_ex_batch, ex_batch_preds)\n",
    "print('Prediction shape: ', ex_batch_preds.shape, ' # (batch_size, sequence_length, vocab_size)')\n",
    "print('Scalar_loss:      ', ex_batch_loss.numpy().mean())"
   ]
  },
  {
   "cell_type": "code",
   "execution_count": 21,
   "metadata": {
    "ExecuteTime": {
     "end_time": "2020-12-22T03:14:51.947270Z",
     "start_time": "2020-12-22T03:14:51.904299Z"
    },
    "hidden": true
   },
   "outputs": [],
   "source": [
    "## Compile + select optimizer\n",
    "model.compile(optimizer='adam', loss=loss)"
   ]
  },
  {
   "cell_type": "code",
   "execution_count": 22,
   "metadata": {
    "ExecuteTime": {
     "end_time": "2020-12-22T03:14:51.963459Z",
     "start_time": "2020-12-22T03:14:51.951683Z"
    },
    "hidden": true
   },
   "outputs": [],
   "source": [
    "## Setting checkpoints\n",
    "## Directory where the checkpoints will be saved\n",
    "chkpt_dir = './training_checkpoints'\n",
    "\n",
    "# Name of the checkpoint files\n",
    "chkpt_prefix = os.path.join(chkpt_dir, 'chkpt_{epoch}')\n",
    "\n",
    "## Creating callback for model\n",
    "chkpt_callback = tf.keras.callbacks.ModelCheckpoint(filepath=chkpt_prefix, save_weights_only=True)"
   ]
  },
  {
   "cell_type": "markdown",
   "metadata": {
    "heading_collapsed": true
   },
   "source": [
    "### Model Training"
   ]
  },
  {
   "cell_type": "code",
   "execution_count": 23,
   "metadata": {
    "ExecuteTime": {
     "end_time": "2020-12-22T03:15:31.668772Z",
     "start_time": "2020-12-22T03:15:31.665787Z"
    },
    "hidden": true
   },
   "outputs": [],
   "source": [
    "## No. of epochs to train\n",
    "epochs = 30"
   ]
  },
  {
   "cell_type": "code",
   "execution_count": null,
   "metadata": {
    "ExecuteTime": {
     "end_time": "2020-12-22T03:55:01.329308Z",
     "start_time": "2020-12-22T03:22:04.157981Z"
    },
    "hidden": true
   },
   "outputs": [],
   "source": [
    "## Instantiate timer\n",
    "timer = dlf.Timer()"
   ]
  },
  {
   "cell_type": "code",
   "execution_count": 24,
   "metadata": {
    "ExecuteTime": {
     "end_time": "2020-12-22T03:55:01.329308Z",
     "start_time": "2020-12-22T03:22:04.157981Z"
    },
    "hidden": true
   },
   "outputs": [
    {
     "name": "stdout",
     "output_type": "stream",
     "text": [
      "Epoch 1/30\n",
      "314/314 [==============================] - 65s 209ms/step - loss: 2.4170\n",
      "Epoch 2/30\n",
      "314/314 [==============================] - 65s 208ms/step - loss: 2.0197\n",
      "Epoch 3/30\n",
      "314/314 [==============================] - 65s 208ms/step - loss: 1.8963\n",
      "Epoch 4/30\n",
      "314/314 [==============================] - 65s 207ms/step - loss: 1.8184\n",
      "Epoch 5/30\n",
      "314/314 [==============================] - 65s 208ms/step - loss: 1.7570\n",
      "Epoch 6/30\n",
      "314/314 [==============================] - 65s 207ms/step - loss: 1.7052\n",
      "Epoch 7/30\n",
      "314/314 [==============================] - 65s 207ms/step - loss: 1.6603\n",
      "Epoch 8/30\n",
      "314/314 [==============================] - 65s 208ms/step - loss: 1.6179\n",
      "Epoch 9/30\n",
      "314/314 [==============================] - 65s 208ms/step - loss: 1.5838\n",
      "Epoch 10/30\n",
      "314/314 [==============================] - 65s 207ms/step - loss: 1.5490\n",
      "Epoch 11/30\n",
      "314/314 [==============================] - 65s 207ms/step - loss: 1.5186\n",
      "Epoch 12/30\n",
      "314/314 [==============================] - 65s 208ms/step - loss: 1.4933\n",
      "Epoch 13/30\n",
      "314/314 [==============================] - 65s 208ms/step - loss: 1.4710\n",
      "Epoch 14/30\n",
      "314/314 [==============================] - 65s 208ms/step - loss: 1.4502\n",
      "Epoch 15/30\n",
      "314/314 [==============================] - 65s 208ms/step - loss: 1.4324\n",
      "Epoch 16/30\n",
      "314/314 [==============================] - 66s 209ms/step - loss: 1.4169\n",
      "Epoch 17/30\n",
      "314/314 [==============================] - 65s 208ms/step - loss: 1.4062\n",
      "Epoch 18/30\n",
      "314/314 [==============================] - 65s 208ms/step - loss: 1.3951\n",
      "Epoch 19/30\n",
      "314/314 [==============================] - 66s 209ms/step - loss: 1.3834\n",
      "Epoch 20/30\n",
      "314/314 [==============================] - 66s 209ms/step - loss: 1.3729\n",
      "Epoch 21/30\n",
      "314/314 [==============================] - 66s 209ms/step - loss: 1.3643\n",
      "Epoch 22/30\n",
      "314/314 [==============================] - 66s 211ms/step - loss: 1.3568\n",
      "Epoch 23/30\n",
      "314/314 [==============================] - 66s 209ms/step - loss: 1.3514\n",
      "Epoch 24/30\n",
      "314/314 [==============================] - 66s 210ms/step - loss: 1.3437\n",
      "Epoch 25/30\n",
      "314/314 [==============================] - 66s 209ms/step - loss: 1.3409\n",
      "Epoch 26/30\n",
      "314/314 [==============================] - 66s 209ms/step - loss: 1.3351\n",
      "Epoch 27/30\n",
      "314/314 [==============================] - 66s 210ms/step - loss: 1.3327\n",
      "Epoch 28/30\n",
      "314/314 [==============================] - 66s 209ms/step - loss: 1.3287\n",
      "Epoch 29/30\n",
      "314/314 [==============================] - 66s 210ms/step - loss: 1.3235\n",
      "Epoch 30/30\n",
      "314/314 [==============================] - 66s 209ms/step - loss: 1.3192\n",
      "---- Timer stopped at: 12/21/2020 - 07:55 PM ----\n",
      "---- Time elasped: 0:32:56.708029 ----\n"
     ]
    }
   ],
   "source": [
    "## Start!\n",
    "timer.start()\n",
    "\n",
    "## Train + stop timer when finished\n",
    "history = model.fit(dataset_shuffled, epochs=epochs, callbacks=[chkpt_callback])\n",
    "timer.stop()"
   ]
  },
  {
   "cell_type": "markdown",
   "metadata": {},
   "source": [
    "# Text Generation"
   ]
  },
  {
   "cell_type": "markdown",
   "metadata": {
    "heading_collapsed": true
   },
   "source": [
    "#### Model Build"
   ]
  },
  {
   "cell_type": "code",
   "execution_count": 12,
   "metadata": {
    "ExecuteTime": {
     "end_time": "2021-01-23T22:57:11.975503Z",
     "start_time": "2021-01-23T22:57:11.959905Z"
    },
    "hidden": true
   },
   "outputs": [],
   "source": [
    "## Directory where the checkpoints will be saved\n",
    "chkpt_dir = './training_checkpoints'\n",
    "## Collection of unique words in corpus\n",
    "vocab = sorted(set(cleaned_lyrics_string))\n",
    "## Length of different characters in dataset\n",
    "vocab_size = len(vocab)\n",
    "## Dimenson of word embedding space\n",
    "embed_dim = 256\n",
    "## NO. RNN units for GRU layer\n",
    "rnn_units = 1024"
   ]
  },
  {
   "cell_type": "code",
   "execution_count": 13,
   "metadata": {
    "ExecuteTime": {
     "end_time": "2021-01-23T22:57:18.619213Z",
     "start_time": "2021-01-23T22:57:17.363380Z"
    },
    "hidden": true
   },
   "outputs": [
    {
     "name": "stdout",
     "output_type": "stream",
     "text": [
      "./training_checkpoints\\chkpt_30\n",
      "Model: \"sequential\"\n",
      "_________________________________________________________________\n",
      "Layer (type)                 Output Shape              Param #   \n",
      "=================================================================\n",
      "embedding (Embedding)        (1, None, 256)            10496     \n",
      "_________________________________________________________________\n",
      "gru (GRU)                    (1, None, 1024)           3938304   \n",
      "_________________________________________________________________\n",
      "dense (Dense)                (1, None, 41)             42025     \n",
      "=================================================================\n",
      "Total params: 3,990,825\n",
      "Trainable params: 3,990,825\n",
      "Non-trainable params: 0\n",
      "_________________________________________________________________\n"
     ]
    }
   ],
   "source": [
    "## Checking checkpoint weights\n",
    "print(tf.train.latest_checkpoint(chkpt_dir))\n",
    "\n",
    "## New model for generation, loading weights + setting tensor shape for input\n",
    "model_gen = build_model(vocab_size, embed_dim, rnn_units, batch_size=1)\n",
    "model_gen.load_weights(tf.train.latest_checkpoint(chkpt_dir))\n",
    "model_gen.build(tf.TensorShape([1, None]))\n",
    "model_gen.summary()"
   ]
  },
  {
   "cell_type": "markdown",
   "metadata": {
    "heading_collapsed": true
   },
   "source": [
    "#### Time to Spit"
   ]
  },
  {
   "cell_type": "code",
   "execution_count": 29,
   "metadata": {
    "ExecuteTime": {
     "end_time": "2020-12-22T04:57:27.101486Z",
     "start_time": "2020-12-22T04:57:24.090349Z"
    },
    "hidden": true
   },
   "outputs": [
    {
     "name": "stdout",
     "output_type": "stream",
     "text": [
      "Prediction Temperature 0.25:\n",
      "\n",
      "im like this is not a diss song\n",
      "they just got that beef\n",
      "diss song\n",
      "they just got that beef\n",
      "dont play this son\n",
      "------------------------------------------------------------\n",
      "Prediction Temperature 0.5:\n",
      "\n",
      "im like that beef like the percenters right\n",
      "when you see me in the sky\n",
      "walk ut that nigga\n",
      "watch my check\n",
      "tel\n",
      "------------------------------------------------------------\n",
      "Prediction Temperature 0.75:\n",
      "\n",
      "im like this\n",
      "woww\n",
      "ever here party party over here party over here party over here sup wassup its all love\n",
      "wa\n",
      "------------------------------------------------------------\n",
      "Prediction Temperature 1.0:\n",
      "\n",
      "im like this s need a lap dance\n",
      "be moving benk o purp your faith in my chucks around like that\n",
      "can before wv\n",
      "------------------------------------------------------------\n"
     ]
    }
   ],
   "source": [
    "print('Prediction Temperature 0.25:\\n')\n",
    "print(generate_text(model_gen, char_v_idx, idx_v_char, start_string='im like ', temp=0.25))\n",
    "print('---'*20)\n",
    "print('Prediction Temperature 0.5:\\n')\n",
    "print(generate_text(model_gen, char_v_idx, idx_v_char, start_string='im like ', temp=0.5))\n",
    "print('---'*20)\n",
    "print('Prediction Temperature 0.75:\\n')\n",
    "print(generate_text(model_gen, char_v_idx, idx_v_char, start_string='im like ', temp=0.75))\n",
    "print('---'*20)\n",
    "print('Prediction Temperature 1.0:\\n')\n",
    "print(generate_text(model_gen char_v_idx, idx_v_char, start_string='im like ', temp=1.0))\n",
    "print('---'*20)"
   ]
  },
  {
   "cell_type": "markdown",
   "metadata": {},
   "source": [
    "# Using All Songs"
   ]
  },
  {
   "cell_type": "markdown",
   "metadata": {
    "heading_collapsed": true
   },
   "source": [
    "#### Filter, Merge, & Clean"
   ]
  },
  {
   "cell_type": "code",
   "execution_count": 7,
   "metadata": {
    "ExecuteTime": {
     "end_time": "2021-01-23T22:47:00.039325Z",
     "start_time": "2021-01-23T22:46:59.818371Z"
    },
    "hidden": true
   },
   "outputs": [],
   "source": [
    "## Filtering + conversion to str\n",
    "filtered_lyrics_fts = dlf.lyric_header_filter(song_dict, [], display_multi=False)\n",
    "\n",
    "## Merging lyrics\n",
    "merged_lyrics_fts = dlf.lyric_line_splitter(filtered_lyrics_fts)\n",
    "\n",
    "## Cleaning punctuation/headers + lowering strings + Q.C.\n",
    "cleaned_lyrics_fts = dlf.song_cleaner(merged_lyrics_fts)"
   ]
  },
  {
   "cell_type": "code",
   "execution_count": 103,
   "metadata": {
    "ExecuteTime": {
     "end_time": "2021-01-24T00:06:47.184008Z",
     "start_time": "2021-01-24T00:06:47.105618Z"
    },
    "hidden": true
   },
   "outputs": [
    {
     "name": "stdout",
     "output_type": "stream",
     "text": [
      "************************************************************\n",
      "181 strings pulled from dictionary\n",
      "************************************************************\n",
      "There are 412,330 characters in the sample.\n",
      "42 of these characters are unique.\n",
      "\n"
     ]
    }
   ],
   "source": [
    "## Merging cleaned lyrics into one string + pop string out of container\n",
    "cleaned_lyrics_string_fts = dlf.dict_string_concat(cleaned_lyrics_fts)\n",
    "cleaned_lyrics_string_fts = cleaned_lyrics_string_fts.pop()\n",
    "vocab_fts = sorted(set(cleaned_lyrics_string_fts))\n",
    "\n",
    "## Q.C.\n",
    "print(f'There are {len(cleaned_lyrics_string_fts):,} characters in the sample.')\n",
    "print(f'{len(vocab_fts)} of these characters are unique.\\n')"
   ]
  },
  {
   "cell_type": "markdown",
   "metadata": {
    "heading_collapsed": true
   },
   "source": [
    "#### Lookup Tables & Sequencing"
   ]
  },
  {
   "cell_type": "code",
   "execution_count": 9,
   "metadata": {
    "ExecuteTime": {
     "end_time": "2020-12-23T22:12:06.489300Z",
     "start_time": "2020-12-23T22:12:06.211677Z"
    },
    "hidden": true
   },
   "outputs": [
    {
     "name": "stdout",
     "output_type": "stream",
     "text": [
      "Index ==> Character lookup table:\n",
      "\n",
      "['\\n' ' ' '0' '1' '2' '3' '4' '5' '6' '7' '8' '9' 'a' 'b' 'c' 'd' 'e' 'f'\n",
      " 'g' 'h' 'i' 'j' 'k' 'l' 'm' 'n' 'o' 'p' 'q' 'r' 's' 't' 'u' 'v' 'w' 'x'\n",
      " 'y' 'z' 'è' 'é' 'ë' 'ó'] \n",
      "\n",
      "------------------------------------------------------------------------------------------ \n",
      "\n",
      "Character ==> Index lookup table:\n",
      "\n",
      "{'\\n': 0, ' ': 1, '0': 2, '1': 3, '2': 4, '3': 5, '4': 6, '5': 7, '6': 8, '7': 9, '8': 10, '9': 11, 'a': 12, 'b': 13, 'c': 14, 'd': 15, 'e': 16, 'f': 17, 'g': 18, 'h': 19, 'i': 20, 'j': 21, 'k': 22, 'l': 23, 'm': 24, 'n': 25, 'o': 26, 'p': 27, 'q': 28, 'r': 29, 's': 30, 't': 31, 'u': 32, 'v': 33, 'w': 34, 'x': 35, 'y': 36, 'z': 37, 'è': 38, 'é': 39, 'ë': 40, 'ó': 41}\n"
     ]
    }
   ],
   "source": [
    "## Each index will match value corresp. to character key in 'char_v_idx'\n",
    "idx_v_char_fts = np.array(vocab_fts)\n",
    "print('Index ==> Character lookup table:\\n')\n",
    "print(idx_v_char_fts, '\\n')\n",
    "print('---'*30, '\\n')\n",
    "\n",
    "## Assigning characters to their index\n",
    "print('Character ==> Index lookup table:\\n')\n",
    "char_v_idx_fts = {c:i for i,c in enumerate(vocab_fts)}\n",
    "print(char_v_idx_fts)\n",
    "\n",
    "## Representing lyrics as integers\n",
    "lyrics_as_int_fts = np.array([char_v_idx_fts[character] for character in cleaned_lyrics_string_fts])"
   ]
  },
  {
   "cell_type": "code",
   "execution_count": 10,
   "metadata": {
    "ExecuteTime": {
     "end_time": "2020-12-23T22:12:06.949771Z",
     "start_time": "2020-12-23T22:12:06.496679Z"
    },
    "hidden": true
   },
   "outputs": [],
   "source": [
    "## Selecting length of input sequences to be considered\n",
    "seq_length_fts = 50\n",
    "\n",
    "## Creating dataset as scalar tensors\n",
    "character_set_fts = tf.data.Dataset.from_tensor_slices(lyrics_as_int_fts)\n",
    "\n",
    "## Creating 'seq_length' batches of lyrics\n",
    "lyrics_sequenced_fts = character_set_fts.batch((seq_length_fts + 1), drop_remainder=True)\n",
    "\n",
    "## Splitting inputs/targets\n",
    "dataset_full_fts = lyrics_sequenced_fts.map(split_input_target)"
   ]
  },
  {
   "cell_type": "markdown",
   "metadata": {
    "heading_collapsed": true
   },
   "source": [
    "#### Batch, Shuffle, & Build"
   ]
  },
  {
   "cell_type": "code",
   "execution_count": 11,
   "metadata": {
    "ExecuteTime": {
     "end_time": "2020-12-23T22:12:06.988411Z",
     "start_time": "2020-12-23T22:12:06.960427Z"
    },
    "hidden": true
   },
   "outputs": [],
   "source": [
    "## Sequence batch size\n",
    "batch_size_fts = 64\n",
    "\n",
    "## Buffer from which the next element is randomly selected during training\n",
    "buffer_size_fts = 1000\n",
    "\n",
    "## Shuffling...\n",
    "dataset_shuffled_fts = dataset_full_fts.shuffle(buffer_size_fts, seed=810).batch(batch_size_fts, drop_remainder=True)"
   ]
  },
  {
   "cell_type": "code",
   "execution_count": 12,
   "metadata": {
    "ExecuteTime": {
     "end_time": "2020-12-23T22:12:07.827301Z",
     "start_time": "2020-12-23T22:12:06.997968Z"
    },
    "hidden": true
   },
   "outputs": [
    {
     "name": "stdout",
     "output_type": "stream",
     "text": [
      "Model: \"sequential\"\n",
      "_________________________________________________________________\n",
      "Layer (type)                 Output Shape              Param #   \n",
      "=================================================================\n",
      "embedding (Embedding)        (64, None, 256)           10752     \n",
      "_________________________________________________________________\n",
      "gru (GRU)                    (64, None, 1024)          3938304   \n",
      "_________________________________________________________________\n",
      "dense (Dense)                (64, None, 42)            43050     \n",
      "=================================================================\n",
      "Total params: 3,992,106\n",
      "Trainable params: 3,992,106\n",
      "Non-trainable params: 0\n",
      "_________________________________________________________________\n",
      "None\n"
     ]
    }
   ],
   "source": [
    "## Length of different characters in dataset\n",
    "vocab_size_fts = len(vocab_fts)\n",
    "\n",
    "## Dimenson of word embedding space\n",
    "embed_dim_fts = 256\n",
    "\n",
    "## NO. RNN units for GRU layer\n",
    "rnn_units_fts = 1024\n",
    "\n",
    "## Build it + Q.C.\n",
    "model_fts = build_model(vocab_size_fts, embed_dim_fts, rnn_units_fts, batch_size_fts)\n",
    "print(model_fts.summary())\n",
    "\n",
    "## Compile + select optimizer\n",
    "model_fts.compile(optimizer='adam', loss=loss)"
   ]
  },
  {
   "cell_type": "code",
   "execution_count": 13,
   "metadata": {
    "ExecuteTime": {
     "end_time": "2020-12-23T22:12:07.843666Z",
     "start_time": "2020-12-23T22:12:07.833153Z"
    },
    "hidden": true
   },
   "outputs": [],
   "source": [
    "## Setting checkpoints\n",
    "## Directory where the checkpoints will be saved\n",
    "chkpt_dir_fts = './training_checkpoints_all_songs'\n",
    "\n",
    "# Name of the checkpoint files\n",
    "chkpt_prefix_fts = os.path.join(chkpt_dir_fts, 'chkpt_{epoch}')\n",
    "\n",
    "## Creating callback for model\n",
    "chkpt_callback_fts = tf.keras.callbacks.ModelCheckpoint(filepath=chkpt_prefix_fts, save_weights_only=True)"
   ]
  },
  {
   "cell_type": "markdown",
   "metadata": {
    "heading_collapsed": true
   },
   "source": [
    "#### Training"
   ]
  },
  {
   "cell_type": "code",
   "execution_count": 33,
   "metadata": {
    "ExecuteTime": {
     "end_time": "2020-12-23T23:55:08.894418Z",
     "start_time": "2020-12-23T23:55:08.883008Z"
    },
    "hidden": true
   },
   "outputs": [],
   "source": [
    "## No. of epochs to train [35 completed]\n",
    "epochs = 5"
   ]
  },
  {
   "cell_type": "code",
   "execution_count": 15,
   "metadata": {
    "ExecuteTime": {
     "end_time": "2020-12-23T22:12:08.587403Z",
     "start_time": "2020-12-23T22:12:07.876410Z"
    },
    "hidden": true
   },
   "outputs": [],
   "source": [
    "## Instantiate timer\n",
    "timer_fts = dlf.Timer()"
   ]
  },
  {
   "cell_type": "code",
   "execution_count": 37,
   "metadata": {
    "ExecuteTime": {
     "end_time": "2020-12-24T00:28:32.774965Z",
     "start_time": "2020-12-24T00:18:28.253424Z"
    },
    "hidden": true,
    "scrolled": false
   },
   "outputs": [
    {
     "name": "stdout",
     "output_type": "stream",
     "text": [
      "Epoch 1/5\n",
      "126/126 [==============================] - 119s 946ms/step - loss: 0.4969\n",
      "Epoch 2/5\n",
      "126/126 [==============================] - 120s 949ms/step - loss: 0.4913\n",
      "Epoch 3/5\n",
      "126/126 [==============================] - 120s 949ms/step - loss: 0.4885\n",
      "Epoch 4/5\n",
      "126/126 [==============================] - 121s 959ms/step - loss: 0.4862\n",
      "Epoch 5/5\n",
      "126/126 [==============================] - 119s 947ms/step - loss: 0.4802\n",
      "---- Timer stopped at: 12/23/2020 - 04:28 PM ----\n",
      "---- Time elasped: 0:10:04.510754 ----\n"
     ]
    }
   ],
   "source": [
    "## Start!\n",
    "timer_fts.start()\n",
    "\n",
    "## Train + stop timer when finished\n",
    "history_fts = model_fts.fit(dataset_shuffled_fts, epochs=epochs, callbacks=[chkpt_callback_fts])\n",
    "timer_fts.stop()"
   ]
  },
  {
   "cell_type": "markdown",
   "metadata": {
    "heading_collapsed": true
   },
   "source": [
    "#### Text Generation"
   ]
  },
  {
   "cell_type": "code",
   "execution_count": 38,
   "metadata": {
    "ExecuteTime": {
     "end_time": "2020-12-24T00:31:15.138529Z",
     "start_time": "2020-12-24T00:31:14.724473Z"
    },
    "hidden": true
   },
   "outputs": [
    {
     "name": "stdout",
     "output_type": "stream",
     "text": [
      "./training_checkpoints_all_songs\\chkpt_5\n",
      "Model: \"sequential_3\"\n",
      "_________________________________________________________________\n",
      "Layer (type)                 Output Shape              Param #   \n",
      "=================================================================\n",
      "embedding_3 (Embedding)      (1, None, 256)            10752     \n",
      "_________________________________________________________________\n",
      "gru_3 (GRU)                  (1, None, 1024)           3938304   \n",
      "_________________________________________________________________\n",
      "dense_3 (Dense)              (1, None, 42)             43050     \n",
      "=================================================================\n",
      "Total params: 3,992,106\n",
      "Trainable params: 3,992,106\n",
      "Non-trainable params: 0\n",
      "_________________________________________________________________\n"
     ]
    }
   ],
   "source": [
    "## Checking checkpoint\n",
    "print(tf.train.latest_checkpoint(chkpt_dir_fts))\n",
    "\n",
    "## New model for generation, loading weights + setting tensor shape for input\n",
    "model_gen_fts = build_model(vocab_size_fts, embed_dim_fts, rnn_units_fts, batch_size=1)\n",
    "model_gen_fts.load_weights(tf.train.latest_checkpoint(chkpt_dir_fts))\n",
    "model_gen_fts.build(tf.TensorShape([1, None]))\n",
    "model_gen_fts.summary()"
   ]
  },
  {
   "cell_type": "code",
   "execution_count": 40,
   "metadata": {
    "ExecuteTime": {
     "end_time": "2020-12-24T00:31:53.898947Z",
     "start_time": "2020-12-24T00:31:50.755171Z"
    },
    "hidden": true
   },
   "outputs": [
    {
     "name": "stdout",
     "output_type": "stream",
     "text": [
      "Prediction Temperature 0.25:\n",
      "\n",
      "im like a dont do and we wanna welcome all ya 2 fan of a fan nigga its crody you aint gotta hate\n",
      "wassup wass\n",
      "------------------------------------------------------------\n",
      "Prediction Temperature 0.5:\n",
      "\n",
      "im like a dentin in ya face no more\n",
      "no more no more no more no more no more no more no more no more no more \n",
      "------------------------------------------------------------\n",
      "Prediction Temperature 0.75:\n",
      "\n",
      "im like a ddub\n",
      "bitch straight up got a taser for my bitch\n",
      "i dont give them\n",
      "names jane down in the bank proba\n",
      "------------------------------------------------------------\n",
      "Prediction Temperature 1.0:\n",
      "\n",
      "im like a drum\n",
      "real nigga bitches know my back round\n",
      "bring me oh oh hundreds hundreds the sound\n",
      "world around\n",
      "------------------------------------------------------------\n"
     ]
    }
   ],
   "source": [
    "print('Prediction Temperature 0.25:\\n')\n",
    "print(generate_text(model_gen_fts, char_v_idx_fts, idx_v_char_fts, start_string='im like ', temp=0.25))\n",
    "print('---'*20)\n",
    "print('Prediction Temperature 0.5:\\n')\n",
    "print(generate_text(model_gen_fts, char_v_idx_fts, idx_v_char_fts, start_string='im like ', temp=0.5))\n",
    "print('---'*20)\n",
    "print('Prediction Temperature 0.75:\\n')\n",
    "print(generate_text(model_gen_fts, char_v_idx_fts, idx_v_char_fts, start_string='im like ', temp=0.75))\n",
    "print('---'*20)\n",
    "print('Prediction Temperature 1.0:\\n')\n",
    "print(generate_text(model_gen_fts, char_v_idx_fts, idx_v_char_fts, start_string='im like ', temp=1.0))\n",
    "print('---'*20)"
   ]
  },
  {
   "cell_type": "code",
   "execution_count": 46,
   "metadata": {
    "ExecuteTime": {
     "end_time": "2020-12-24T00:37:54.312491Z",
     "start_time": "2020-12-24T00:37:51.293014Z"
    },
    "hidden": true
   },
   "outputs": [
    {
     "name": "stdout",
     "output_type": "stream",
     "text": [
      "Prediction Temperature 0.25:\n",
      "\n",
      "red brain cheap its like pissol\n",
      "if we got a problem yeah all my niggas do the stadiame\n",
      "these niggas the\n",
      "------------------------------------------------------------\n",
      "Prediction Temperature 0.5:\n",
      "\n",
      "red too many niggas hating bad to this song\n",
      "oh man\n",
      "i promise we gon do it til the sun come down\n",
      "i swear\n",
      "------------------------------------------------------------\n",
      "Prediction Temperature 0.75:\n",
      "\n",
      "red like a sper back out\n",
      "i know shit ask super fast\n",
      "im a had this no niggas aint shell t the pussy face\n",
      "------------------------------------------------------------\n",
      "Prediction Temperature 1.0:\n",
      "\n",
      "red in this ping put only be who dat see you in hell\n",
      "and your bitch who than new sof shit that im close\n",
      "------------------------------------------------------------\n"
     ]
    }
   ],
   "source": [
    "print('Prediction Temperature 0.25:\\n')\n",
    "print(generate_text(model_gen_fts, char_v_idx_fts, idx_v_char_fts, start_string='red', temp=0.25))\n",
    "print('---'*20)\n",
    "print('Prediction Temperature 0.5:\\n')\n",
    "print(generate_text(model_gen_fts, char_v_idx_fts, idx_v_char_fts, start_string='red', temp=0.5))\n",
    "print('---'*20)\n",
    "print('Prediction Temperature 0.75:\\n')\n",
    "print(generate_text(model_gen_fts, char_v_idx_fts, idx_v_char_fts, start_string='red', temp=0.75))\n",
    "print('---'*20)\n",
    "print('Prediction Temperature 1.0:\\n')\n",
    "print(generate_text(model_gen_fts, char_v_idx_fts, idx_v_char_fts, start_string='red', temp=1.0))\n",
    "print('---'*20)"
   ]
  },
  {
   "cell_type": "markdown",
   "metadata": {},
   "source": [
    "# Censorship"
   ]
  },
  {
   "cell_type": "markdown",
   "metadata": {},
   "source": [
    "Instead of preprocessing the data using the `Censor()`, I will generate predictions using the lyrics as intended. Then, I will run the predictions through the `Censor()` after capturing the string output and tokenizing it. This will allow my model to maintain the info from the \"bad\" words while still producing friendly lyrics."
   ]
  },
  {
   "cell_type": "markdown",
   "metadata": {
    "heading_collapsed": true
   },
   "source": [
    "#### Lyric Prep"
   ]
  },
  {
   "cell_type": "code",
   "execution_count": 8,
   "metadata": {
    "ExecuteTime": {
     "end_time": "2021-01-23T22:47:07.587323Z",
     "start_time": "2021-01-23T22:47:07.022393Z"
    },
    "hidden": true
   },
   "outputs": [
    {
     "data": {
      "text/plain": [
       "['bitch',\n",
       " 'im',\n",
       " 'honey',\n",
       " 'cocaine',\n",
       " 'bout',\n",
       " 'to',\n",
       " 'bring',\n",
       " 'in',\n",
       " 'some',\n",
       " 'pain']"
      ]
     },
     "execution_count": 8,
     "metadata": {},
     "output_type": "execute_result"
    }
   ],
   "source": [
    "## Tokenize all songs + Q.C.\n",
    "tokenized_lyrics_fts = dlf.lyric_tokenizer(cleaned_lyrics_fts)\n",
    "tokenized_lyrics_fts['Heisman (feat. Honey Cocaine)'][0:10]"
   ]
  },
  {
   "cell_type": "code",
   "execution_count": 9,
   "metadata": {
    "ExecuteTime": {
     "end_time": "2021-01-23T22:47:10.439863Z",
     "start_time": "2021-01-23T22:47:10.415839Z"
    },
    "hidden": true
   },
   "outputs": [
    {
     "name": "stdout",
     "output_type": "stream",
     "text": [
      "Total tokens: 84,816\n",
      "Total unique tokens: 7,243\n"
     ]
    }
   ],
   "source": [
    "## Results container\n",
    "all_song_tokens_fts = []\n",
    "\n",
    "## Adding to container song-by-song\n",
    "for song in tokenized_lyrics_fts:\n",
    "    all_song_tokens_fts.extend(tokenized_lyrics_fts[song])\n",
    "\n",
    "print(f'Total tokens: {len(all_song_tokens_fts):,}')\n",
    "print(f'Total unique tokens: {len(set(all_song_tokens_fts)):,}')"
   ]
  },
  {
   "cell_type": "markdown",
   "metadata": {},
   "source": [
    "## Examples"
   ]
  },
  {
   "cell_type": "markdown",
   "metadata": {
    "heading_collapsed": true
   },
   "source": [
    "### Known Lyrics"
   ]
  },
  {
   "cell_type": "code",
   "execution_count": 111,
   "metadata": {
    "ExecuteTime": {
     "end_time": "2021-01-22T03:16:50.134669Z",
     "start_time": "2021-01-22T03:16:50.125666Z"
    },
    "hidden": true
   },
   "outputs": [],
   "source": [
    "test_censor = dlf.Censor(tokenized_lyrics_fts['Heisman (feat. Honey Cocaine)'])"
   ]
  },
  {
   "cell_type": "code",
   "execution_count": 112,
   "metadata": {
    "ExecuteTime": {
     "end_time": "2021-01-22T03:16:52.173287Z",
     "start_time": "2021-01-22T03:16:52.152665Z"
    },
    "hidden": true
   },
   "outputs": [
    {
     "name": "stdout",
     "output_type": "stream",
     "text": [
      "Total tokens: 365\n",
      "Total unique tokens: 203\n"
     ]
    },
    {
     "data": {
      "text/plain": [
       "{'bitch': 5, 'nigga': 5, 'fuck': 4, 'shit': 3, 'bitches': 1, 'niggas': 1}"
      ]
     },
     "execution_count": 112,
     "metadata": {},
     "output_type": "execute_result"
    }
   ],
   "source": [
    "test_censor.create_set(show=True)\n",
    "test_censor.find_targets()\n",
    "test_censor.count_targets(show=True)"
   ]
  },
  {
   "cell_type": "code",
   "execution_count": 113,
   "metadata": {
    "ExecuteTime": {
     "end_time": "2021-01-22T03:17:08.263552Z",
     "start_time": "2021-01-22T03:17:08.247140Z"
    },
    "hidden": true
   },
   "outputs": [
    {
     "data": {
      "text/plain": [
       "['fuck', 'bitch', 'bitches', 'shit', 'nigga', 'niggas']"
      ]
     },
     "execution_count": 113,
     "metadata": {},
     "output_type": "execute_result"
    }
   ],
   "source": [
    "test_censor._targeted"
   ]
  },
  {
   "cell_type": "code",
   "execution_count": 114,
   "metadata": {
    "ExecuteTime": {
     "end_time": "2021-01-22T03:17:09.930557Z",
     "start_time": "2021-01-22T03:17:09.914166Z"
    },
    "hidden": true
   },
   "outputs": [],
   "source": [
    "# test_censor.alter_targets(['ARSE', 'FLUTE', 'FLUTING', 'BENCH', 'PITHY', 'SHED', 'NINER'])\n",
    "test_censor.mute_targets()\n",
    "# test_censor.remove_targets()"
   ]
  },
  {
   "cell_type": "code",
   "execution_count": 116,
   "metadata": {
    "ExecuteTime": {
     "end_time": "2021-01-22T03:17:15.860671Z",
     "start_time": "2021-01-22T03:17:15.831539Z"
    },
    "hidden": true
   },
   "outputs": [
    {
     "data": {
      "text/plain": [
       "None"
      ]
     },
     "metadata": {},
     "output_type": "display_data"
    },
    {
     "data": {
      "text/plain": [
       "{}"
      ]
     },
     "metadata": {},
     "output_type": "display_data"
    },
    {
     "data": {
      "text/plain": [
       "['fuck', 'bitch', 'bitches', 'shit', 'nigga', 'niggas', 'horny']"
      ]
     },
     "metadata": {},
     "output_type": "display_data"
    }
   ],
   "source": [
    "display(test_censor.add_target('horny'))\n",
    "display(test_censor.count_targets('M', True))\n",
    "display(test_censor._targeted)\n",
    "test_censor.mute_targets()"
   ]
  },
  {
   "cell_type": "code",
   "execution_count": 117,
   "metadata": {
    "ExecuteTime": {
     "end_time": "2021-01-22T03:17:22.415763Z",
     "start_time": "2021-01-22T03:17:22.394481Z"
    },
    "hidden": true
   },
   "outputs": [
    {
     "data": {
      "text/plain": [
       "['b***h',\n",
       " 'im',\n",
       " 'honey',\n",
       " 'cocaine',\n",
       " 'bout',\n",
       " 'to',\n",
       " 'bring',\n",
       " 'in',\n",
       " 'some',\n",
       " 'pain',\n",
       " 'all',\n",
       " 'my',\n",
       " 'haters',\n",
       " 'like',\n",
       " 'a',\n",
       " 'choir',\n",
       " 'they',\n",
       " 'all',\n",
       " 'singing',\n",
       " 'my',\n",
       " 'name',\n",
       " 'aint',\n",
       " 'got',\n",
       " 'a',\n",
       " 'heart',\n",
       " 'for',\n",
       " 'a',\n",
       " 'broad',\n",
       " 'thats',\n",
       " 'the',\n",
       " 'rule',\n",
       " 'of',\n",
       " 'the',\n",
       " 'game',\n",
       " 'now',\n",
       " 'you',\n",
       " 'a',\n",
       " 'fool',\n",
       " 'if',\n",
       " 'you',\n",
       " 'aim',\n",
       " 'ill',\n",
       " 'put',\n",
       " 'a',\n",
       " 'tool',\n",
       " 'to',\n",
       " 'ya',\n",
       " 'brain',\n",
       " 'im',\n",
       " 'bout',\n",
       " 'to',\n",
       " 'get',\n",
       " 'it',\n",
       " 'then',\n",
       " 'spend',\n",
       " 'it',\n",
       " 'if',\n",
       " 'i',\n",
       " 'said',\n",
       " 'it',\n",
       " 'i',\n",
       " 'meant',\n",
       " 'it',\n",
       " 'f**k',\n",
       " 'your',\n",
       " 'feelings',\n",
       " 'taste',\n",
       " 'my',\n",
       " 'weapons',\n",
       " 'act',\n",
       " 'like',\n",
       " 'a',\n",
       " 'b***h',\n",
       " 'ill',\n",
       " 'erase',\n",
       " 'yo',\n",
       " 'blessings',\n",
       " 'yo',\n",
       " 'you',\n",
       " 'are',\n",
       " 'not',\n",
       " 'familiar',\n",
       " 'with',\n",
       " 'me',\n",
       " 'if',\n",
       " 'you',\n",
       " 'comic',\n",
       " 'in',\n",
       " 'a',\n",
       " 'move',\n",
       " 'b***h',\n",
       " 'your',\n",
       " 'visitor',\n",
       " 'is',\n",
       " 'me',\n",
       " 'ahh',\n",
       " 'its',\n",
       " 'that',\n",
       " 'drop',\n",
       " 'top',\n",
       " 'phantom',\n",
       " 'chop',\n",
       " 'all',\n",
       " 'gold',\n",
       " 'rolly',\n",
       " 'tock',\n",
       " 'f**k',\n",
       " 'yo',\n",
       " 'fans',\n",
       " 'f**k',\n",
       " 'a',\n",
       " 'cop',\n",
       " 'all',\n",
       " 'my',\n",
       " 'b*****s',\n",
       " 'betty',\n",
       " 'bops',\n",
       " 'betty',\n",
       " 'boop',\n",
       " 'tittys',\n",
       " 'out',\n",
       " 'gangsta',\n",
       " 's**t',\n",
       " 'punch',\n",
       " 'you',\n",
       " 'in',\n",
       " 'yo',\n",
       " 'mouth',\n",
       " 'n***a',\n",
       " 'i',\n",
       " 'dont',\n",
       " 'know',\n",
       " 'what',\n",
       " 'you',\n",
       " 'talkin',\n",
       " 'bout',\n",
       " 'flossin',\n",
       " 'now',\n",
       " 'you',\n",
       " 'need',\n",
       " 'denist',\n",
       " 'now',\n",
       " 'auugh',\n",
       " 'f**k',\n",
       " 'around',\n",
       " 'and',\n",
       " 'rodney',\n",
       " 'king',\n",
       " 'the',\n",
       " 'beat',\n",
       " 'bout',\n",
       " 'that',\n",
       " 'war',\n",
       " 'like',\n",
       " 'vietnemese',\n",
       " 'feeling',\n",
       " 'froggy',\n",
       " 'n***a',\n",
       " 'leap',\n",
       " 'im',\n",
       " 'that',\n",
       " 'n***a',\n",
       " 'you',\n",
       " 'obselete',\n",
       " 'im',\n",
       " 'in',\n",
       " 'the',\n",
       " 'game',\n",
       " 'you',\n",
       " 'know',\n",
       " 'pt',\n",
       " 'rec',\n",
       " 'my',\n",
       " 'swaag',\n",
       " 'only',\n",
       " 'way',\n",
       " 'you',\n",
       " 'copying',\n",
       " 'me',\n",
       " 'n***a',\n",
       " 'asian',\n",
       " 'b***h',\n",
       " 'on',\n",
       " 'another',\n",
       " 'degree',\n",
       " 'give',\n",
       " 'me',\n",
       " 'some',\n",
       " 'space',\n",
       " 'move',\n",
       " 'off',\n",
       " 'my',\n",
       " 'place',\n",
       " 'b***h',\n",
       " 'im',\n",
       " 'just',\n",
       " 'trynna',\n",
       " 'breathe',\n",
       " 'now',\n",
       " 'if',\n",
       " 'you',\n",
       " 'see',\n",
       " 'me',\n",
       " 'around',\n",
       " 'your',\n",
       " 'ways',\n",
       " 'dont',\n",
       " 'holla',\n",
       " 'at',\n",
       " 'me',\n",
       " 'i',\n",
       " 'just',\n",
       " 'cant',\n",
       " 'waste',\n",
       " 'all',\n",
       " 'my',\n",
       " 'time',\n",
       " 'cause',\n",
       " 'i',\n",
       " 'be',\n",
       " 'eating',\n",
       " 'these',\n",
       " 'beats',\n",
       " 'listen',\n",
       " 'you',\n",
       " 'rats',\n",
       " 'here',\n",
       " 'just',\n",
       " 'a',\n",
       " 'count',\n",
       " 'for',\n",
       " 'me',\n",
       " 'you',\n",
       " 'aint',\n",
       " 'me',\n",
       " 'homie',\n",
       " 'you',\n",
       " 'just',\n",
       " 'act',\n",
       " 'like',\n",
       " 'me',\n",
       " 'well',\n",
       " 'you',\n",
       " 'should',\n",
       " 'watch',\n",
       " 'your',\n",
       " 'actions',\n",
       " 'please',\n",
       " 'cause',\n",
       " 'there',\n",
       " 'might',\n",
       " 'be',\n",
       " 'some',\n",
       " 'casualties',\n",
       " 'auugh',\n",
       " 'they',\n",
       " 'about',\n",
       " 'to',\n",
       " 'witness',\n",
       " 'it',\n",
       " 'last',\n",
       " 'kings',\n",
       " 'but',\n",
       " 'im',\n",
       " 'still',\n",
       " 'on',\n",
       " 'my',\n",
       " 'queen',\n",
       " 's**t',\n",
       " 'schwag',\n",
       " 'aim',\n",
       " 'at',\n",
       " 'yo',\n",
       " 'man',\n",
       " 'brain',\n",
       " 'just',\n",
       " 'for',\n",
       " 'saying',\n",
       " 'im',\n",
       " 'insane',\n",
       " 'and',\n",
       " 'yo',\n",
       " 'girl',\n",
       " 'give',\n",
       " 'me',\n",
       " 'neck',\n",
       " 'hang',\n",
       " 'man',\n",
       " 'i',\n",
       " 'aint',\n",
       " 'playing',\n",
       " 'i',\n",
       " 'never',\n",
       " 'did',\n",
       " 'lie',\n",
       " 'lay',\n",
       " 'around',\n",
       " 'and',\n",
       " 'open',\n",
       " 'yo',\n",
       " 'thighs',\n",
       " 'n***a',\n",
       " 'gone',\n",
       " 'pop',\n",
       " 'like',\n",
       " 'fish',\n",
       " 'gone',\n",
       " 'fry',\n",
       " 'n****s',\n",
       " 'talking',\n",
       " 'greasy',\n",
       " 'like',\n",
       " 'the',\n",
       " 's**t',\n",
       " 'gone',\n",
       " 'slide',\n",
       " 'wow',\n",
       " 'high',\n",
       " '5',\n",
       " 'slap',\n",
       " 'yo',\n",
       " 'face',\n",
       " 'change',\n",
       " 'yo',\n",
       " 'disguise',\n",
       " 'i',\n",
       " 'work',\n",
       " 'hard',\n",
       " 'for',\n",
       " 'the',\n",
       " 'money',\n",
       " 'money',\n",
       " 'dont',\n",
       " 'ever',\n",
       " 'come',\n",
       " 'in',\n",
       " 'yo',\n",
       " 'life',\n",
       " 'a',\n",
       " 'bastard',\n",
       " 'right',\n",
       " 'when',\n",
       " 'you',\n",
       " 'lie',\n",
       " 'everybody',\n",
       " 'wan',\n",
       " 'na',\n",
       " 'be',\n",
       " 'just',\n",
       " 'like',\n",
       " 'middle',\n",
       " 'finger',\n",
       " 'to',\n",
       " 'the',\n",
       " 'middle',\n",
       " 'of',\n",
       " 'yo',\n",
       " 'eyes',\n",
       " 'young',\n",
       " 'young',\n",
       " 'ty',\n",
       " 'traww',\n",
       " 'need',\n",
       " 'a',\n",
       " 'heisman']"
      ]
     },
     "execution_count": 117,
     "metadata": {},
     "output_type": "execute_result"
    }
   ],
   "source": [
    "test_censor.get_lyrics('M')"
   ]
  },
  {
   "cell_type": "code",
   "execution_count": 118,
   "metadata": {
    "ExecuteTime": {
     "end_time": "2021-01-22T03:17:46.375837Z",
     "start_time": "2021-01-22T03:17:46.348749Z"
    },
    "hidden": true
   },
   "outputs": [
    {
     "data": {
      "text/plain": [
       "{'you': 16,\n",
       " 'a': 11,\n",
       " 'yo': 11,\n",
       " 'me': 10,\n",
       " 'my': 8,\n",
       " 'i': 8,\n",
       " 'im': 7,\n",
       " 'like': 7,\n",
       " 'the': 7,\n",
       " 'just': 6,\n",
       " 'b***h': 5,\n",
       " 'to': 5,\n",
       " 'in': 5,\n",
       " 'all': 5,\n",
       " 'it': 5,\n",
       " 'n***a': 5,\n",
       " 'bout': 4,\n",
       " 'for': 4,\n",
       " 'now': 4,\n",
       " 'if': 4,\n",
       " 'f**k': 4,\n",
       " 'your': 4,\n",
       " 'some': 3,\n",
       " 'aint': 3,\n",
       " 'that': 3,\n",
       " 's**t': 3,\n",
       " 'dont': 3,\n",
       " 'around': 3,\n",
       " 'and': 3,\n",
       " 'be': 3,\n",
       " 'gone': 3,\n",
       " 'they': 2,\n",
       " 'of': 2,\n",
       " 'game': 2,\n",
       " 'aim': 2,\n",
       " 'ill': 2,\n",
       " 'brain': 2,\n",
       " 'act': 2,\n",
       " 'move': 2,\n",
       " 'betty': 2,\n",
       " 'know': 2,\n",
       " 'need': 2,\n",
       " 'auugh': 2,\n",
       " 'on': 2,\n",
       " 'give': 2,\n",
       " 'at': 2,\n",
       " 'cause': 2,\n",
       " 'man': 2,\n",
       " 'lie': 2,\n",
       " 'money': 2,\n",
       " 'middle': 2,\n",
       " 'young': 2,\n",
       " 'honey': 1,\n",
       " 'cocaine': 1,\n",
       " 'bring': 1,\n",
       " 'pain': 1,\n",
       " 'haters': 1,\n",
       " 'choir': 1,\n",
       " 'singing': 1,\n",
       " 'name': 1,\n",
       " 'got': 1,\n",
       " 'heart': 1,\n",
       " 'broad': 1,\n",
       " 'thats': 1,\n",
       " 'rule': 1,\n",
       " 'fool': 1,\n",
       " 'put': 1,\n",
       " 'tool': 1,\n",
       " 'ya': 1,\n",
       " 'get': 1,\n",
       " 'then': 1,\n",
       " 'spend': 1,\n",
       " 'said': 1,\n",
       " 'meant': 1,\n",
       " 'feelings': 1,\n",
       " 'taste': 1,\n",
       " 'weapons': 1,\n",
       " 'erase': 1,\n",
       " 'blessings': 1,\n",
       " 'are': 1,\n",
       " 'not': 1,\n",
       " 'familiar': 1,\n",
       " 'with': 1,\n",
       " 'comic': 1,\n",
       " 'visitor': 1,\n",
       " 'is': 1,\n",
       " 'ahh': 1,\n",
       " 'its': 1,\n",
       " 'drop': 1,\n",
       " 'top': 1,\n",
       " 'phantom': 1,\n",
       " 'chop': 1,\n",
       " 'gold': 1,\n",
       " 'rolly': 1,\n",
       " 'tock': 1,\n",
       " 'fans': 1,\n",
       " 'cop': 1,\n",
       " 'b*****s': 1,\n",
       " 'bops': 1,\n",
       " 'boop': 1,\n",
       " 'tittys': 1,\n",
       " 'out': 1,\n",
       " 'gangsta': 1,\n",
       " 'punch': 1,\n",
       " 'mouth': 1,\n",
       " 'what': 1,\n",
       " 'talkin': 1,\n",
       " 'flossin': 1,\n",
       " 'denist': 1,\n",
       " 'rodney': 1,\n",
       " 'king': 1,\n",
       " 'beat': 1,\n",
       " 'war': 1,\n",
       " 'vietnemese': 1,\n",
       " 'feeling': 1,\n",
       " 'froggy': 1,\n",
       " 'leap': 1,\n",
       " 'obselete': 1,\n",
       " 'pt': 1,\n",
       " 'rec': 1,\n",
       " 'swaag': 1,\n",
       " 'only': 1,\n",
       " 'way': 1,\n",
       " 'copying': 1,\n",
       " 'asian': 1,\n",
       " 'another': 1,\n",
       " 'degree': 1,\n",
       " 'space': 1,\n",
       " 'off': 1,\n",
       " 'place': 1,\n",
       " 'trynna': 1,\n",
       " 'breathe': 1,\n",
       " 'see': 1,\n",
       " 'ways': 1,\n",
       " 'holla': 1,\n",
       " 'cant': 1,\n",
       " 'waste': 1,\n",
       " 'time': 1,\n",
       " 'eating': 1,\n",
       " 'these': 1,\n",
       " 'beats': 1,\n",
       " 'listen': 1,\n",
       " 'rats': 1,\n",
       " 'here': 1,\n",
       " 'count': 1,\n",
       " 'homie': 1,\n",
       " 'well': 1,\n",
       " 'should': 1,\n",
       " 'watch': 1,\n",
       " 'actions': 1,\n",
       " 'please': 1,\n",
       " 'there': 1,\n",
       " 'might': 1,\n",
       " 'casualties': 1,\n",
       " 'about': 1,\n",
       " 'witness': 1,\n",
       " 'last': 1,\n",
       " 'kings': 1,\n",
       " 'but': 1,\n",
       " 'still': 1,\n",
       " 'queen': 1,\n",
       " 'schwag': 1,\n",
       " 'saying': 1,\n",
       " 'insane': 1,\n",
       " 'girl': 1,\n",
       " 'neck': 1,\n",
       " 'hang': 1,\n",
       " 'playing': 1,\n",
       " 'never': 1,\n",
       " 'did': 1,\n",
       " 'lay': 1,\n",
       " 'open': 1,\n",
       " 'thighs': 1,\n",
       " 'pop': 1,\n",
       " 'fish': 1,\n",
       " 'fry': 1,\n",
       " 'n****s': 1,\n",
       " 'talking': 1,\n",
       " 'greasy': 1,\n",
       " 'slide': 1,\n",
       " 'wow': 1,\n",
       " 'high': 1,\n",
       " '5': 1,\n",
       " 'slap': 1,\n",
       " 'face': 1,\n",
       " 'change': 1,\n",
       " 'disguise': 1,\n",
       " 'work': 1,\n",
       " 'hard': 1,\n",
       " 'ever': 1,\n",
       " 'come': 1,\n",
       " 'life': 1,\n",
       " 'bastard': 1,\n",
       " 'right': 1,\n",
       " 'when': 1,\n",
       " 'everybody': 1,\n",
       " 'wan': 1,\n",
       " 'na': 1,\n",
       " 'finger': 1,\n",
       " 'eyes': 1,\n",
       " 'ty': 1,\n",
       " 'traww': 1,\n",
       " 'heisman': 1}"
      ]
     },
     "execution_count": 118,
     "metadata": {},
     "output_type": "execute_result"
    }
   ],
   "source": [
    "test_censor.get_word_counts('M')"
   ]
  },
  {
   "cell_type": "markdown",
   "metadata": {},
   "source": [
    "### Generated Lyrics"
   ]
  },
  {
   "cell_type": "markdown",
   "metadata": {},
   "source": [
    "#### Creating the Model"
   ]
  },
  {
   "cell_type": "code",
   "execution_count": 6,
   "metadata": {
    "ExecuteTime": {
     "end_time": "2021-01-28T02:41:32.043943Z",
     "start_time": "2021-01-28T02:41:32.014291Z"
    }
   },
   "outputs": [],
   "source": [
    "## Directory where the checkpoints will be saved\n",
    "chkpt_dir_fts = './training_checkpoints_all_songs'\n",
    "## Collection of unique words in corpus\n",
    "vocab_fts = sorted(set(cleaned_lyrics_string_fts))\n",
    "## Each index will match value corresp. to character key in 'char_v_idx'\n",
    "idx_v_char_fts = np.array(vocab_fts)\n",
    "## Assigning characters to their index\n",
    "char_v_idx_fts = {c:i for i,c in enumerate(vocab_fts)}\n",
    "## Length of different characters in dataset\n",
    "vocab_size_fts = len(vocab_fts)\n",
    "## Dimenson of word embedding space\n",
    "embed_dim_fts = 256\n",
    "## NO. RNN units for GRU layer\n",
    "rnn_units_fts = 1024"
   ]
  },
  {
   "cell_type": "code",
   "execution_count": 24,
   "metadata": {
    "ExecuteTime": {
     "end_time": "2021-01-28T02:57:40.454531Z",
     "start_time": "2021-01-28T02:57:39.811226Z"
    }
   },
   "outputs": [
    {
     "name": "stdout",
     "output_type": "stream",
     "text": [
      "./training_checkpoints_all_songs\\chkpt_5\n",
      "Model: \"sequential_2\"\n",
      "_________________________________________________________________\n",
      "Layer (type)                 Output Shape              Param #   \n",
      "=================================================================\n",
      "embedding_2 (Embedding)      (1, None, 256)            10752     \n",
      "_________________________________________________________________\n",
      "gru_2 (GRU)                  (1, None, 1024)           3938304   \n",
      "_________________________________________________________________\n",
      "dense_2 (Dense)              (1, None, 42)             43050     \n",
      "=================================================================\n",
      "Total params: 3,992,106\n",
      "Trainable params: 3,992,106\n",
      "Non-trainable params: 0\n",
      "_________________________________________________________________\n"
     ]
    }
   ],
   "source": [
    "## Checking checkpoint\n",
    "print(tf.train.latest_checkpoint(chkpt_dir_fts))\n",
    "\n",
    "## New model for generation, loading weights + setting tensor shape for input\n",
    "model_gen_fts = build_model(vocab_size_fts, embed_dim_fts, rnn_units_fts, batch_size=1)\n",
    "model_gen_fts.load_weights(tf.train.latest_checkpoint(chkpt_dir_fts))\n",
    "model_gen_fts.build(tf.TensorShape([1, None]))\n",
    "model_gen_fts.summary()"
   ]
  },
  {
   "cell_type": "markdown",
   "metadata": {},
   "source": [
    "#### Generate + Censor"
   ]
  },
  {
   "cell_type": "code",
   "execution_count": 258,
   "metadata": {
    "ExecuteTime": {
     "end_time": "2021-01-24T02:52:45.242811Z",
     "start_time": "2021-01-24T02:52:43.291492Z"
    },
    "scrolled": true
   },
   "outputs": [],
   "source": [
    "## Instantiate generator class\n",
    "txt_gen = dlf.TextGenerator(model_gen_fts, idx_v_char_fts, char_v_idx_fts)\n",
    "## Create new text based upon input string + store it\n",
    "txt_gen.generate_text('Im number one\\n', 200, .75)\n",
    "new_lyrics = txt_gen.get_generated_text()"
   ]
  },
  {
   "cell_type": "code",
   "execution_count": 259,
   "metadata": {
    "ExecuteTime": {
     "end_time": "2021-01-24T02:52:45.258320Z",
     "start_time": "2021-01-24T02:52:45.242811Z"
    }
   },
   "outputs": [],
   "source": [
    "## Instantiate censor class\n",
    "txt_censor = dlf.Censor(new_lyrics)\n",
    "## Split string into tokens\n",
    "txt_censor.str_splitter()\n",
    "## Mute censorable words with *s\n",
    "txt_censor.execute_censoring()\n",
    "## Join tokens into a string\n",
    "txt_censor.str_joiner('M')\n",
    "## Store and display new lyrics\n",
    "censored_lyrics = txt_censor.get_lyrics('J')"
   ]
  },
  {
   "cell_type": "code",
   "execution_count": 260,
   "metadata": {
    "ExecuteTime": {
     "end_time": "2021-01-24T02:52:46.737322Z",
     "start_time": "2021-01-24T02:52:46.717179Z"
    }
   },
   "outputs": [
    {
     "name": "stdout",
     "output_type": "stream",
     "text": [
      "************************************************************\n",
      "Original Lyrics:\n",
      "************************************************************\n",
      "Im number one\n",
      "caper a bitch name aint dirt\n",
      "walkin through the streets wearin jewels\n",
      "gonna fuck up and bust young niggas with tools\n",
      "and turn snitch when you see em\n",
      "they aint talkin bout shit\n",
      "westside\n",
      "i keep a vest o\n",
      "************************************************************\n",
      "Original Lyrics:\n",
      "************************************************************\n",
      "Im number one\n",
      "caper a b***h name aint dirt\n",
      "walkin through the streets wearin jewels\n",
      "gonna f**k up and bust young n****s with tools\n",
      "and turn snitch when you see em\n",
      "they aint talkin bout s**t\n",
      "westside\n",
      "i keep a vest \n"
     ]
    }
   ],
   "source": [
    "## Check of new lyrics\n",
    "print('***'*20)\n",
    "print('Original Lyrics:')\n",
    "print('***'*20)\n",
    "print(new_lyrics)\n",
    "print('***'*20)\n",
    "print('Original Lyrics:')\n",
    "print('***'*20)\n",
    "print(censored_lyrics)"
   ]
  },
  {
   "cell_type": "markdown",
   "metadata": {},
   "source": [
    "Check Here! [By character generation](https://www.tensorflow.org/tutorials/text/text_generation) or Here! [By word generation](https://keras.io/examples/generative/text_generation_with_miniature_gpt/)"
   ]
  }
 ],
 "metadata": {
  "kernelspec": {
   "display_name": "Python 3",
   "language": "python",
   "name": "python3"
  },
  "language_info": {
   "codemirror_mode": {
    "name": "ipython",
    "version": 3
   },
   "file_extension": ".py",
   "mimetype": "text/x-python",
   "name": "python",
   "nbconvert_exporter": "python",
   "pygments_lexer": "ipython3",
   "version": "3.6.6"
  },
  "toc": {
   "base_numbering": 1,
   "nav_menu": {},
   "number_sections": true,
   "sideBar": true,
   "skip_h1_title": false,
   "title_cell": "Table of Contents",
   "title_sidebar": "Contents",
   "toc_cell": false,
   "toc_position": {},
   "toc_section_display": true,
   "toc_window_display": false
  },
  "varInspector": {
   "cols": {
    "lenName": 16,
    "lenType": 16,
    "lenVar": 40
   },
   "kernels_config": {
    "python": {
     "delete_cmd_postfix": "",
     "delete_cmd_prefix": "del ",
     "library": "var_list.py",
     "varRefreshCmd": "print(var_dic_list())"
    },
    "r": {
     "delete_cmd_postfix": ") ",
     "delete_cmd_prefix": "rm(",
     "library": "var_list.r",
     "varRefreshCmd": "cat(var_dic_list()) "
    }
   },
   "types_to_exclude": [
    "module",
    "function",
    "builtin_function_or_method",
    "instance",
    "_Feature"
   ],
   "window_display": false
  }
 },
 "nbformat": 4,
 "nbformat_minor": 2
}
