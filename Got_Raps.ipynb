{
 "cells": [
  {
   "cell_type": "markdown",
   "metadata": {},
   "source": [
    "# Got Raps?"
   ]
  },
  {
   "cell_type": "markdown",
   "metadata": {},
   "source": [
    "## Background"
   ]
  },
  {
   "cell_type": "markdown",
   "metadata": {},
   "source": [
    "I am someone who *loves* to music. One of my favorite genres to listen to is hip-hop/rap because of, in some cases, the focus on lyricism. \n",
    "\n",
    "In recent years, there has been less of a focus in this regard, leading some fans of \"true hip-hop\" to look down upon the musicians currently in the spotlight. Part of the criticism of modern rap is how forgettable the lyrics and songs are due to their simplistic nature. \n",
    "\n",
    "While learning about *recurrent neural networks* (RNNs)I came across a [video](https://www.youtube.com/watch?v=ZMudJXhsUpY) by Laurence Moroney explaining how AI can be used to generate poetry after training upon a corpus of Irish poems. This sparked an idea to try and do the same with a modern song lyrics. I specifically decided to choose rap because of my familiarity with the genre and thinking that the songs may have more words since the artists are not singing (most of the time).\n",
    "\n",
    "I will be scraping lyrics from [azlyrics](https://www.azlyrics.com/t/tyga.html) using BeautifulSoup and Keras to create my RNN.\n",
    "\n",
    "supplemental site https://www.allthelyrics.com/lyrics/tyga\n",
    "alternative https://www.lyricsbox.com/tyga-lyrics-hdgvd.html"
   ]
  },
  {
   "cell_type": "markdown",
   "metadata": {},
   "source": [
    "## Imports"
   ]
  },
  {
   "cell_type": "code",
   "execution_count": 14,
   "metadata": {
    "ExecuteTime": {
     "end_time": "2020-11-04T02:17:38.572792Z",
     "start_time": "2020-11-04T02:17:38.565262Z"
    }
   },
   "outputs": [],
   "source": [
    "import requests\n",
    "import regex\n",
    "import pickle\n",
    "import time\n",
    "import pandas as pd\n",
    "import numpy as np\n",
    "import functions as dlf\n",
    "from bs4 import BeautifulSoup\n",
    "from importlib import reload"
   ]
  },
  {
   "cell_type": "code",
   "execution_count": 27,
   "metadata": {
    "ExecuteTime": {
     "end_time": "2020-11-02T03:54:08.097141Z",
     "start_time": "2020-11-02T03:54:08.066224Z"
    }
   },
   "outputs": [
    {
     "data": {
      "text/plain": [
       "<module 'functions' from 'C:\\\\Users\\\\d_ful\\\\Documents\\\\GitHub\\\\Rap_Generator\\\\functions.py'>"
      ]
     },
     "execution_count": 27,
     "metadata": {},
     "output_type": "execute_result"
    }
   ],
   "source": [
    "reload(dlf)"
   ]
  },
  {
   "cell_type": "code",
   "execution_count": 35,
   "metadata": {
    "ExecuteTime": {
     "end_time": "2020-11-04T06:13:36.313631Z",
     "start_time": "2020-11-04T06:13:35.610219Z"
    }
   },
   "outputs": [],
   "source": [
    "#### WRITING ####\n",
    "# with open('Pickles/song_dict.pickle', 'wb') as f:\n",
    "#     pickle.dump(song_dict, f)\n",
    "#     f.close()\n",
    "\n",
    "#### READING ####\n",
    "with open('Pickles/song_dict.pickle', 'rb') as f:\n",
    "    song_dict = pickle.load(f)\n",
    "    f.close()\n",
    "\n",
    "\n",
    "#### WRITING ####\n",
    "# with open('Pickles/album_dict.pickle', 'wb') as f:\n",
    "#     pickle.dump(album_dict, f)\n",
    "#     f.close()\n",
    "\n",
    "#### READING ####\n",
    "# with open('Pickles/album_dict.pickle', 'rb') as f:\n",
    "#     album_dict = pickle.load(f)\n",
    "#     f.close()"
   ]
  },
  {
   "cell_type": "markdown",
   "metadata": {},
   "source": [
    "## Getting Soupy"
   ]
  },
  {
   "cell_type": "markdown",
   "metadata": {
    "heading_collapsed": true
   },
   "source": [
    "#### Connecting"
   ]
  },
  {
   "cell_type": "code",
   "execution_count": 2,
   "metadata": {
    "ExecuteTime": {
     "end_time": "2020-10-28T02:02:21.865480Z",
     "start_time": "2020-10-28T02:02:20.699429Z"
    },
    "hidden": true,
    "scrolled": true
   },
   "outputs": [
    {
     "name": "stdout",
     "output_type": "stream",
     "text": [
      "Starting Response: <Response [200]>\n"
     ]
    }
   ],
   "source": [
    "## Starting page + Q.C. of response\n",
    "# start_url = 'https://www.azlyrics.com/t/tyga.html'  ## Banned\n",
    "# start_url = 'https://www.lyricsbox.com/tyga-lyrics-hdgvd.html' ## Doesn't work\n",
    "start_url = 'https://www.allthelyrics.com/lyrics/tyga'\n",
    "start_resp = requests.get(start_url)\n",
    "print(f'Starting Response: {start_resp}')"
   ]
  },
  {
   "cell_type": "markdown",
   "metadata": {
    "heading_collapsed": true
   },
   "source": [
    "#### Main Page Soup"
   ]
  },
  {
   "cell_type": "code",
   "execution_count": 3,
   "metadata": {
    "ExecuteTime": {
     "end_time": "2020-10-28T02:02:25.593995Z",
     "start_time": "2020-10-28T02:02:25.373118Z"
    },
    "code_folding": [],
    "hidden": true,
    "scrolled": false
   },
   "outputs": [
    {
     "name": "stdout",
     "output_type": "stream",
     "text": [
      "            TYGA lyrics: 'Never Be The Same', 'Hookah (feat. Young Thug)', 'Riot (feat. Honey Cocaine)', 'Make It Nasty', 'We Up'\n",
      "              </div>\n",
      "              <div class=\"content-top-lyricspopular\">\n",
      "               <div class=\"artist-lyrics-list artist-lyrics-list-popular\">\n",
      "                <h2 class=\"artist-lyrics-list-h2\">\n",
      "                 Top 5 songs\n",
      "                </h2>\n",
      "                <ol>\n",
      "                 <li class=\"lyrics-list-item lyrics-list-item-1737736\">\n",
      "                  <a href=\"/lyrics/tyga-never_be_the_same\">\n",
      "                   Never Be The Same\n",
      "                  </a>\n",
      "     \n"
     ]
    }
   ],
   "source": [
    "## Creating soup + Q.C.\n",
    "start_soup = BeautifulSoup(start_resp.text, 'html.parser')\n",
    "print(start_soup.prettify()[13900:14500])"
   ]
  },
  {
   "cell_type": "markdown",
   "metadata": {},
   "source": [
    "#### Collecting Song Links + Names"
   ]
  },
  {
   "cell_type": "code",
   "execution_count": null,
   "metadata": {
    "ExecuteTime": {
     "end_time": "2020-10-28T02:02:31.219333Z",
     "start_time": "2020-10-28T02:02:31.199861Z"
    }
   },
   "outputs": [],
   "source": [
    "## Create container for names/links + find links ('a') in soup\n",
    "song_dict = {}\n",
    "link_list = start_soup.findAll('a')\n",
    "\n",
    "## Select and store links to Tyga songs\n",
    "for a in link_list:\n",
    "    if '/lyrics/tyga-' in a['href']:\n",
    "        song_dict[a.text] = a['href']\n",
    "\n",
    "## Q.C.\n",
    "display(song_dict)"
   ]
  },
  {
   "cell_type": "code",
   "execution_count": 4,
   "metadata": {
    "ExecuteTime": {
     "end_time": "2020-11-04T00:23:53.878836Z",
     "start_time": "2020-11-04T00:23:53.865574Z"
    },
    "scrolled": true
   },
   "outputs": [],
   "source": [
    "## Create iterable with song names for operations\n",
    "song_names = list(song_dict.keys())"
   ]
  },
  {
   "cell_type": "markdown",
   "metadata": {
    "heading_collapsed": true
   },
   "source": [
    "#### Collecting Lyrics - Test"
   ]
  },
  {
   "cell_type": "code",
   "execution_count": 4,
   "metadata": {
    "ExecuteTime": {
     "end_time": "2020-10-31T21:23:10.588480Z",
     "start_time": "2020-10-31T21:23:09.522620Z"
    },
    "hidden": true,
    "scrolled": false
   },
   "outputs": [
    {
     "name": "stdout",
     "output_type": "stream",
     "text": [
      "Example of target 'div' and section names:\n",
      "\n",
      "       <div class=\"content-text-inner\">\n",
      "              <p>\n",
      "               [Hook x4 - Young Thug:]\n",
      "    \n",
      "\t...\n",
      "               [Verse 2 - Tyga:]\n",
      "               <br/>\n",
      "               Rubbin on my chain blowing cloudmatic\n",
      "               <br/>\n",
      "               Smoke something with a G and bend \n"
     ]
    }
   ],
   "source": [
    "#### Testing strategy for lyric removal ####\n",
    "\n",
    "## Join strings to create full song URL\n",
    "end_url = song_dict['Hookah (feat. Young Thug)']\n",
    "start_url = 'https://www.allthelyrics.com'\n",
    "full_url = start_url + end_url\n",
    "\n",
    "## Generating soup\n",
    "# song_resp = requests.get(full_url)\n",
    "song_soup = BeautifulSoup(song_resp.text, 'html.parser')\n",
    "\n",
    "## Q.C. + HTML structure info\n",
    "print(\"Example of target 'div' and section names:\\n\")\n",
    "print(song_soup.prettify()[12110:12210], '\\n\\t...')\n",
    "print(song_soup.prettify()[13823:14000])\n",
    "\n",
    "## Collect lyrics 'div' from song soup as a bs4 tag + store in song dict\n",
    "lyrics = song_soup.findAll('div', attrs={'class': 'content-text-inner'}).pop()\n",
    "\n",
    "song_dict['Hookah (feat. Young Thug)'] = lyrics"
   ]
  },
  {
   "cell_type": "markdown",
   "metadata": {},
   "source": [
    "#### Collecting Lyrics"
   ]
  },
  {
   "cell_type": "code",
   "execution_count": 33,
   "metadata": {
    "ExecuteTime": {
     "end_time": "2020-11-04T06:00:22.021751Z",
     "start_time": "2020-11-04T05:40:01.219638Z"
    }
   },
   "outputs": [
    {
     "name": "stdout",
     "output_type": "stream",
     "text": [
      "----------------------------------------\n",
      "Song to be scraped: B.M.F.\n",
      "Something wrong with link for B.M.F.\n",
      "----------------------------------------\n",
      "Song to be scraped: Lil Homie (feat. Pharrell)\n",
      "Sleeping 278.42 seconds...\n",
      "Ding!\n",
      "----------------------------------------\n",
      "----------------------------------------\n",
      "Song to be scraped: LovaGain\n",
      "Sleeping 241.16 seconds...\n",
      "Ding!\n",
      "----------------------------------------\n",
      "----------------------------------------\n",
      "Song to be scraped: Love Game\n",
      "Sleeping 226.26 seconds...\n",
      "Ding!\n",
      "----------------------------------------\n",
      "----------------------------------------\n",
      "Song to be scraped: Love T-Raww\n",
      "Sleeping 285.88 seconds...\n",
      "Ding!\n",
      "----------------------------------------\n",
      "----------------------------------------\n",
      "Song to be scraped: Luv Dem\n",
      "Sleeping 181.54 seconds...\n",
      "Ding!\n",
      "----------------------------------------\n",
      "Total number of songs skipped: 101\n"
     ]
    }
   ],
   "source": [
    "dlf.song_scraper(song_dict, song_names, verbose=False)"
   ]
  },
  {
   "cell_type": "code",
   "execution_count": 34,
   "metadata": {
    "ExecuteTime": {
     "end_time": "2020-11-04T06:13:30.262380Z",
     "start_time": "2020-11-04T06:13:30.239537Z"
    }
   },
   "outputs": [
    {
     "data": {
      "text/plain": [
       "{'tag': 106, 'string': 77}"
      ]
     },
     "execution_count": 34,
     "metadata": {},
     "output_type": "execute_result"
    }
   ],
   "source": [
    "dlf.song_scraping_stats(song_dict)"
   ]
  },
  {
   "cell_type": "code",
   "execution_count": 166,
   "metadata": {
    "ExecuteTime": {
     "end_time": "2020-10-31T23:28:38.311139Z",
     "start_time": "2020-10-31T23:28:38.302133Z"
    }
   },
   "outputs": [
    {
     "data": {
      "text/plain": [
       "183"
      ]
     },
     "execution_count": 166,
     "metadata": {},
     "output_type": "execute_result"
    }
   ],
   "source": [
    "len(song_names)"
   ]
  },
  {
   "cell_type": "markdown",
   "metadata": {
    "heading_collapsed": true
   },
   "source": [
    "## Lyric Filtering"
   ]
  },
  {
   "cell_type": "code",
   "execution_count": 7,
   "metadata": {
    "ExecuteTime": {
     "end_time": "2020-10-28T01:03:00.423354Z",
     "start_time": "2020-10-28T01:03:00.408425Z"
    },
    "hidden": true
   },
   "outputs": [
    {
     "name": "stdout",
     "output_type": "stream",
     "text": [
      "********************\n",
      "********************\n",
      "********************\n",
      "[Verse 2 - Tyga:]\n",
      "Rubbin on my chain blowing cloudmatic\n",
      "Smoke something with a G and bend that ass backwards\n",
      "Lay back relax and talk mathematics\n",
      "Later on we test a little sex practice\n",
      "Write my name on the wall\n",
      "Money in the mattress bet she wanna get involved\n",
      "She hopped on the blunt said 'Where the hookah y'all? '\n",
      "I tell her pass back if the shit too strong\n",
      "It's all set; Mozart art on the blog so wet\n",
      "I got a where I want her and I ain't done yet\n",
      "Looking at your future baby put down the cigarette\n",
      "Come hop on this kush jet and take flight\n",
      "Tell em bitches 'mmm fuck that'\n",
      "You wanna lay in bed I got a magic carpet for that ass yes\n",
      "I'm also on one\n",
      "Got two Olsen's on me\n",
      "Big homie\n",
      "Young Thugger Thugger rolling\n",
      "Rolls Royce so shorty\n",
      "--------------------\n",
      "********************\n",
      "********************\n",
      "[Verse 3 - Tyga:]\n",
      "Ben Frank baddies in the Benz waggin'\n",
      "You know she want a ride home hop on the band wagon\n",
      "I got the chain saggy\n",
      "You know that life lavish\n",
      "Lifestyles like this gon' need magnums\n",
      "Pass baby\n",
      "Welcome to rich class baby\n",
      "You all Maybelline, with ya new Celine\n",
      "Audemars on lean, cars on sheen\n",
      "You white girl but black girl ghetto fly ting\n",
      "It's verified, they ain't on your sea level\n",
      "Watered eyes don't cry inhale and breath regular\n",
      "My baby on it\n",
      "High at the crack of dawn and\n",
      "Body shape, figure 8 like Picasso draw ya\n",
      "Oh yes I'm winnin'\n",
      "Bling kingin'\n",
      "Ring blingin'\n",
      "Like like for no reason\n",
      "Let's get closer, closed in\n",
      "Remove your clothes we close friends\n",
      "Don't get choked smoking OG Oakland\n",
      "Shout out Oakland\n",
      "--------------------\n",
      "********************\n",
      "********************\n"
     ]
    }
   ],
   "source": [
    "for t in lyrics[0]:\n",
    "    try:\n",
    "        if 'Tyga' in t.text:\n",
    "            print(t.text)\n",
    "            print(10*'--')\n",
    "    except AttributeError:\n",
    "        print(10*'**')        "
   ]
  },
  {
   "cell_type": "code",
   "execution_count": 10,
   "metadata": {
    "ExecuteTime": {
     "end_time": "2020-10-28T01:19:35.138997Z",
     "start_time": "2020-10-28T01:19:35.129466Z"
    },
    "hidden": true
   },
   "outputs": [
    {
     "name": "stdout",
     "output_type": "stream",
     "text": [
      "<p>[Hook x4 - Young Thug:]<br/>\n",
      "Baby pass me the hookah<br/>\n",
      "Pass me the hookah<br/>\n",
      "Pass the hookah<br/>\n",
      "Pass the hookah</p>\n",
      "\n",
      "\n",
      "<p>[Verse 1 - Young Thug:]<br/>\n",
      "Tearing up the place<br/>\n",
      "I'm a rich nigga got chanel on my waist<br/>\n",
      "Run up on me playin I'm a aim it at ya face<br/>\n",
      "And that go for anybody... anyways<br/>\n",
      "I'm a rich blood by the way<br/>\n",
      "And I have swag roll it all like a tape<br/>\n",
      "Fish scale, yeah I got these bitches on the bait<br/>\n",
      "Don't wanna talk, man I said I need some space (woop woop woop)<br/>\n",
      "My new car get geeked up<br/>\n",
      "I just paid a cop, now I'm running out of court<br/>\n",
      "Panoramic top, I'm a put it on the rocks<br/>\n",
      "Crawl, walk and hop, got all these bitches shocked<br/>\n",
      "Stone molly whiter than my socks<br/>\n",
      "I don't, I don't wanna talk if it ain't 'bout guap<br/>\n",
      "Clowning you niggas I see you flop<br/>\n",
      "I buy pints by the 2 no Pac</p>\n",
      "\n",
      "\n",
      "<p>[Hook x7 - Young Thug]</p>\n",
      "\n",
      "\n",
      "<p>[Verse 2 - Tyga:]<br/>\n",
      "Rubbin on my chain blowing cloudmatic<br/>\n",
      "Smoke something with a G and bend that ass backwards<br/>\n",
      "Lay back relax and talk mathematics<br/>\n",
      "Later on we test a little sex practice<br/>\n",
      "Write my name on the wall<br/>\n",
      "Money in the mattress bet she wanna get involved<br/>\n",
      "She hopped on the blunt said 'Where the hookah y'all? '<br/>\n",
      "I tell her pass back if the shit too strong<br/>\n",
      "It's all set; Mozart art on the blog so wet<br/>\n",
      "I got a where I want her and I ain't done yet<br/>\n",
      "Looking at your future baby put down the cigarette<br/>\n",
      "Come hop on this kush jet and take flight<br/>\n",
      "Tell em bitches 'mmm fuck that'<br/>\n",
      "You wanna lay in bed I got a magic carpet for that ass yes<br/>\n",
      "I'm also on one<br/>\n",
      "Got two Olsen's on me<br/>\n",
      "Big homie<br/>\n",
      "Young Thugger Thugger rolling<br/>\n",
      "Rolls Royce so shorty</p>\n",
      "\n",
      "\n",
      "<p>[Hook x7 - Young Thug]</p>\n",
      "\n",
      "\n",
      "<p>[Verse 3 - Tyga:]<br/>\n",
      "Ben Frank baddies in the Benz waggin'<br/>\n",
      "You know she want a ride home hop on the band wagon<br/>\n",
      "I got the chain saggy<br/>\n",
      "You know that life lavish<br/>\n",
      "Lifestyles like this gon' need magnums<br/>\n",
      "Pass baby<br/>\n",
      "Welcome to rich class baby<br/>\n",
      "You all Maybelline, with ya new Celine<br/>\n",
      "Audemars on lean, cars on sheen<br/>\n",
      "You white girl but black girl ghetto fly ting<br/>\n",
      "It's verified, they ain't on your sea level<br/>\n",
      "Watered eyes don't cry inhale and breath regular<br/>\n",
      "My baby on it<br/>\n",
      "High at the crack of dawn and<br/>\n",
      "Body shape, figure 8 like Picasso draw ya<br/>\n",
      "Oh yes I'm winnin'<br/>\n",
      "Bling kingin'<br/>\n",
      "Ring blingin'<br/>\n",
      "Like like for no reason<br/>\n",
      "Let's get closer, closed in<br/>\n",
      "Remove your clothes we close friends<br/>\n",
      "Don't get choked smoking OG Oakland<br/>\n",
      "Shout out Oakland</p>\n",
      "\n",
      "\n",
      "<p>[Hook x7 - Young Thug]</p>\n",
      "\n",
      "\n"
     ]
    }
   ],
   "source": [
    "for t in lyrics[0]:\n",
    "    print(t)"
   ]
  },
  {
   "cell_type": "markdown",
   "metadata": {
    "heading_collapsed": true,
    "hidden": true
   },
   "source": [
    "#### AZ Lyrics"
   ]
  },
  {
   "cell_type": "code",
   "execution_count": 51,
   "metadata": {
    "ExecuteTime": {
     "end_time": "2020-10-13T02:25:33.335513Z",
     "start_time": "2020-10-13T02:25:33.069837Z"
    },
    "hidden": true
   },
   "outputs": [
    {
     "name": "stdout",
     "output_type": "stream",
     "text": [
      "      <div class=\"album\" id=\"9188\">\n",
      "       album:\n",
      "       <b>\n",
      "        \"No Introduction\"\n",
      "       </b>\n",
      "       (2008)\n",
      "      </div>\n",
      "      <div class=\"listalbum-item\">\n",
      "       <a href=\"../lyrics/tyga/diamondlife.html\" target=\"_blank\">\n",
      "        Diamond Life\n",
      "       </a>\n",
      "      </div>\n",
      "      <div class=\"listalbum-item\">\n",
      "       <a href=\"../lyrics/tyga/coconutjuice.html\" target=\"_blank\">\n",
      "        Coconut Juice\n",
      "       </a>\n",
      "      </div>\n",
      "      <div class=\"listalbum-item\">\n",
      "       <a href=\"../lyrics/tyga/supersizeme.html\" target=\"_blank\">\n",
      " \n"
     ]
    }
   ],
   "source": [
    "## THIS IS FOR AZLYRICS ##\n",
    "\n",
    "## Creating soup + Q.C.\n",
    "start_soup = BeautifulSoup(start_resp.text, 'html.parser')\n",
    "print(start_soup.prettify()[8422:8946])"
   ]
  },
  {
   "cell_type": "markdown",
   "metadata": {
    "hidden": true
   },
   "source": [
    "### Linking Up"
   ]
  },
  {
   "cell_type": "code",
   "execution_count": 8,
   "metadata": {
    "ExecuteTime": {
     "end_time": "2020-10-13T01:46:30.772278Z",
     "start_time": "2020-10-13T01:46:30.725705Z"
    },
    "hidden": true
   },
   "outputs": [],
   "source": [
    "## Collecting all album/song titles + song links\n",
    "albums_songs = start_soup.findAll('div', attrs={'class': ['album', 'listalbum-item']})"
   ]
  },
  {
   "cell_type": "code",
   "execution_count": 16,
   "metadata": {
    "ExecuteTime": {
     "end_time": "2020-10-13T02:10:42.528525Z",
     "start_time": "2020-10-13T02:10:42.497626Z"
    },
    "hidden": true
   },
   "outputs": [
    {
     "name": "stdout",
     "output_type": "stream",
     "text": [
      "1st Album!\n",
      "Empty list!\n"
     ]
    }
   ],
   "source": [
    "## Agg. each album into a dict of a dict {Album: {song:song_link,...}}\n",
    "album_mid = dlf.album_aggregator(albums_songs)\n",
    "## Extra function needed for sorting 'Other songs'\n",
    "album_dict = dlf.legendary_album_splitter(album_mid)"
   ]
  },
  {
   "cell_type": "markdown",
   "metadata": {
    "hidden": true
   },
   "source": [
    "#### Link Scraping"
   ]
  },
  {
   "cell_type": "markdown",
   "metadata": {
    "hidden": true
   },
   "source": [
    "**Albums Done**\n",
    "* No Introduction\n",
    "* The Potential\n",
    "* Fan Of A Fan\n",
    "* Well Done\n",
    "* Black Thoughts Vol. 2\n",
    "* Well Done 2\n",
    "* #BitchImTheShit\n",
    "* Careless World: Rise Of The Last King\n",
    "* Well Done 3\n",
    "* 187\n",
    "* Hotel California\n",
    "* Well Done 4\n",
    "* Fan Of A Fan: The Album\n",
    "* The Gold Album: 18th Dynasty\n",
    "* Fuk Wat They Talkin Bout\n",
    "* Rawwest Nigga Alive\n",
    "* Bitch I'm The Shit 2\n",
    "* Bugatti Raww\n",
    "* Kyoto\n",
    "* Legendary\n",
    "* Other Songs"
   ]
  },
  {
   "cell_type": "markdown",
   "metadata": {
    "ExecuteTime": {
     "end_time": "2020-10-13T02:32:29.620999Z",
     "start_time": "2020-10-13T02:32:29.612946Z"
    },
    "hidden": true
   },
   "source": [
    "**STRATEGY FOR SCRAPING LYRICS**\n",
    "* Copy `album_dict` into `res_dict`\n",
    "* Iterate through each album:\n",
    "    * Iterate through each song:\n",
    "        * Scrape using link (**NEED TO CHECK FORMAT**)\n",
    "        * Replace link w/scraped soup\n",
    "* Return *copied* `res_dict`"
   ]
  },
  {
   "cell_type": "code",
   "execution_count": 33,
   "metadata": {
    "ExecuteTime": {
     "end_time": "2020-10-23T04:21:36.517520Z",
     "start_time": "2020-10-23T04:21:36.500042Z"
    },
    "hidden": true
   },
   "outputs": [],
   "source": [
    "# album_names = []\n",
    "# for key in album_dict:\n",
    "#     album_names.append(key)\n",
    "\n",
    "albums_w_lyrics = album_dict.copy()"
   ]
  },
  {
   "cell_type": "code",
   "execution_count": 37,
   "metadata": {
    "ExecuteTime": {
     "end_time": "2020-10-23T04:23:31.503406Z",
     "start_time": "2020-10-23T04:23:31.475205Z"
    },
    "hidden": true,
    "scrolled": false
   },
   "outputs": [],
   "source": [
    "# alb_num = 0\n",
    "# song_start_url = 'https://www.azlyrics.com'\n",
    "# test_album = album_dict[album_names[alb_num]].copy()\n",
    "\n",
    "def song_collector(start_url, dict_, alb_num=0, sleep_time=30, verbose=True):\n",
    "    \n",
    "    # import requests\n",
    "    # from bs4 import BeautifulSoup\n",
    "    \n",
    "    ## Create list for iteration\n",
    "    list_of_albums = []\n",
    "    for album in dict_:\n",
    "        list_of_albums.append(album)\n",
    "    \n",
    "    ## Setting album for use    \n",
    "    album = list_of_albums[alb_num]\n",
    "    \n",
    "    ## Create and retrieve soup from full song URL\n",
    "    for song in dict_[album]:\n",
    "        end_url = dict_[album][song]\n",
    "        full_url = start_url + end_url\n",
    "        resp = requests.get(full_url)\n",
    "        song_soup = BeautifulSoup(resp.text, 'html.parser')\n",
    "        \n",
    "        ## Optional display\n",
    "        if verbose:\n",
    "            print(f'Song: {song}')    \n",
    "    \n",
    "    ## Select divs from soup including lyrics\n",
    "    song_lyrics = song_soup.findAll('div', attrs={'class': None})\n",
    "    \n",
    "    ## Store single div containing lyrics only (div w/o an id attr)\n",
    "    for tag in song_lyrics:\n",
    "        try:\n",
    "            _ = tag['id']\n",
    "        except KeyError:\n",
    "            t_tag = tag\n",
    "            ## Optional display\n",
    "            if verbose:\n",
    "                print('Lyrics!')\n",
    "    \n",
    "    ## Store\n",
    "    dict_[album][song] = t_tag\n",
    "    \n",
    "    ## Optional display\n",
    "    if verbose:\n",
    "        print('Sleeping...')\n",
    "        print('--'*30)\n",
    "    \n",
    "    ## Pacing for URL calls\n",
    "    time.sleep(10)\n",
    "\n",
    "    return dict_\n",
    "    \n",
    "# song_res = []\n",
    "# song_dump = []\n",
    "# switch = False"
   ]
  },
  {
   "cell_type": "code",
   "execution_count": 38,
   "metadata": {
    "ExecuteTime": {
     "end_time": "2020-10-23T04:25:44.988262Z",
     "start_time": "2020-10-23T04:25:44.968279Z"
    },
    "hidden": true
   },
   "outputs": [
    {
     "data": {
      "text/plain": [
       "'/lyrics/tyga/diamondlife.html'"
      ]
     },
     "execution_count": 38,
     "metadata": {},
     "output_type": "execute_result"
    }
   ],
   "source": [
    "albums_w_lyrics['No Introduction']['Diamond Life']"
   ]
  },
  {
   "cell_type": "code",
   "execution_count": 36,
   "metadata": {
    "ExecuteTime": {
     "end_time": "2020-10-23T04:22:05.640242Z",
     "start_time": "2020-10-23T04:21:48.191553Z"
    },
    "hidden": true
   },
   "outputs": [
    {
     "name": "stdout",
     "output_type": "stream",
     "text": [
      "/lyrics/tyga/diamondlife.html\n",
      "Song: Diamond Life\n",
      "/lyrics/tyga/coconutjuice.html\n",
      "Song: Coconut Juice\n",
      "/lyrics/tyga/supersizeme.html\n",
      "Song: Supersize Me\n",
      "/lyrics/tyga/dontregretitnow.html\n",
      "Song: Don't Regret It Now\n",
      "/lyrics/tyga/pillowtalkin.html\n",
      "Song: Pillow Talkin'\n",
      "/lyrics/tyga/aim.html\n",
      "Song: AIM\n",
      "/lyrics/tyga/firsttimers.html\n",
      "Song: First Timers\n",
      "/lyrics/tyga/cartoonz.html\n",
      "Song: Cartoonz\n",
      "/lyrics/tyga/summertime.html\n",
      "Song: Summertime\n",
      "/lyrics/tyga/press7.html\n",
      "Song: Press 7\n",
      "/lyrics/tyga/woww.html\n",
      "Song: Woww\n",
      "/lyrics/tyga/2am.html\n",
      "Song: 2 AM\n",
      "/lyrics/tyga/est80sbaby.html\n",
      "Song: Est. (80's Baby)\n",
      "/lyrics/tyga/iam.html\n",
      "Song: I Am(iTunes Bonus Track)\n",
      "Lyrics!\n"
     ]
    },
    {
     "ename": "NameError",
     "evalue": "name 'list_of_keys' is not defined",
     "output_type": "error",
     "traceback": [
      "\u001b[1;31m---------------------------------------------------------------------------\u001b[0m",
      "\u001b[1;31mNameError\u001b[0m                                 Traceback (most recent call last)",
      "\u001b[1;32m<ipython-input-36-61c8af7daa98>\u001b[0m in \u001b[0;36m<module>\u001b[1;34m()\u001b[0m\n\u001b[1;32m----> 1\u001b[1;33m \u001b[0malbums_w_lyrics\u001b[0m \u001b[1;33m=\u001b[0m \u001b[0msong_collector\u001b[0m\u001b[1;33m(\u001b[0m\u001b[1;34m'https://www.azlyrics.com'\u001b[0m\u001b[1;33m,\u001b[0m \u001b[0malbums_w_lyrics\u001b[0m\u001b[1;33m,\u001b[0m \u001b[0malb_num\u001b[0m\u001b[1;33m=\u001b[0m\u001b[1;36m0\u001b[0m\u001b[1;33m)\u001b[0m\u001b[1;33m\u001b[0m\u001b[0m\n\u001b[0m",
      "\u001b[1;32m<ipython-input-34-388ffd43b9bc>\u001b[0m in \u001b[0;36msong_collector\u001b[1;34m(start_url, dict_, alb_num, sleep_time, verbose)\u001b[0m\n\u001b[0;32m     42\u001b[0m \u001b[1;33m\u001b[0m\u001b[0m\n\u001b[0;32m     43\u001b[0m     \u001b[1;31m## Store\u001b[0m\u001b[1;33m\u001b[0m\u001b[1;33m\u001b[0m\u001b[0m\n\u001b[1;32m---> 44\u001b[1;33m     \u001b[0mdict_\u001b[0m\u001b[1;33m[\u001b[0m\u001b[0mlist_of_keys\u001b[0m\u001b[1;33m[\u001b[0m\u001b[0mkey_num\u001b[0m\u001b[1;33m]\u001b[0m\u001b[1;33m]\u001b[0m\u001b[1;33m[\u001b[0m\u001b[0msong\u001b[0m\u001b[1;33m]\u001b[0m \u001b[1;33m=\u001b[0m \u001b[0mt_tag\u001b[0m\u001b[1;33m\u001b[0m\u001b[0m\n\u001b[0m\u001b[0;32m     45\u001b[0m \u001b[1;33m\u001b[0m\u001b[0m\n\u001b[0;32m     46\u001b[0m     \u001b[1;31m## Optional display\u001b[0m\u001b[1;33m\u001b[0m\u001b[1;33m\u001b[0m\u001b[0m\n",
      "\u001b[1;31mNameError\u001b[0m: name 'list_of_keys' is not defined"
     ]
    }
   ],
   "source": [
    "albums_w_lyrics = song_collector('https://www.azlyrics.com', albums_w_lyrics, alb_num=0)"
   ]
  },
  {
   "cell_type": "code",
   "execution_count": null,
   "metadata": {
    "hidden": true
   },
   "outputs": [],
   "source": [
    "tester = t_tag.findAll('i')\n",
    "\n",
    "for tag in tester:\n",
    "    print(tag.text)"
   ]
  },
  {
   "cell_type": "code",
   "execution_count": 12,
   "metadata": {
    "ExecuteTime": {
     "end_time": "2020-10-23T01:20:00.146573Z",
     "start_time": "2020-10-23T01:20:00.046250Z"
    },
    "hidden": true
   },
   "outputs": [
    {
     "data": {
      "text/plain": [
       "<div>\n",
       "<!-- Usage of azlyrics.com content by any third-party lyrics provider is prohibited by our licensing agreement. Sorry about that. -->\n",
       "<i>[Chorus: Patty Cash]</i><br/>\n",
       "Diamond Life<br/>\n",
       "Sugar baby we dynamite<br/>\n",
       "Playboy and socialites<br/>\n",
       "Young and Fly Fly Fly<br/>\n",
       "<br/>\n",
       "<i>[Verse 1: Tyga]</i><br/>\n",
       "1989 no pressure<br/>\n",
       "But to be the bestest in my section<br/>\n",
       "Levels of a professional<br/>\n",
       "Skip school create my own lessons<br/>\n",
       "Confessions of a mad rapper<br/>\n",
       "Music got me rapping<br/>\n",
       "Green stretching only leads to red stretches<br/>\n",
       "He's next in line for the blessing<br/>\n",
       "Get your mind off minds<br/>\n",
       "Hustle something and stop relying on mine<br/>\n",
       "More then a legend why you letting time fly by<br/>\n",
       "At age 17 addicted to ink<br/>\n",
       "A rap fein who had money dreams<br/>\n",
       "My chase of fame couldn't compare to what I seen<br/>\n",
       "Them die government lie hard for the paper cheese<br/>\n",
       "Moms crying watching her only son<br/>\n",
       "Through TV mtv bet<br/>\n",
       "He on now wipe me down<br/>\n",
       "No longer fighting through the crowd<br/>\n",
       "I control the crowd oh you like me now wow!<br/>\n",
       "<br/>\n",
       "<i>[Chorus: Patty Cash]</i><br/>\n",
       "Diamond Life<br/>\n",
       "Sugar baby we dynamite<br/>\n",
       "Playboy and socialites<br/>\n",
       "Young and Fly Fly Fly<br/>\n",
       "Diamond Life<br/>\n",
       "Sugar baby we dynamite<br/>\n",
       "Playboy and socialites<br/>\n",
       "Young and Fly Fly Fly<br/>\n",
       "<br/>\n",
       "<i>[Verse 2:]</i><br/>\n",
       "Back to the cool motivational roads<br/>\n",
       "No guidance just violence in probational homes<br/>\n",
       "Thinking my high routes is all out<br/>\n",
       "Music gotta be my way out<br/>\n",
       "Family gathered around I gotta make em proud<br/>\n",
       "Pops popped in the penatenary laided out<br/>\n",
       "Hoping his son fell under a different cloud<br/>\n",
       "I'm speaking directly into the crowd<br/>\n",
       "Nothing personal<br/>\n",
       "Just thought you would love to know the person<br/>\n",
       "Far from perfect<br/>\n",
       "But nearly word perfect<br/>\n",
       "Must be he weighed him<br/>\n",
       "On a scale form 1 to me, me<br/>\n",
       "Even the greatness<br/>\n",
       "Money equal a every 10 haters<br/>\n",
       "The rest couldn't make it though the unlikely behavior<br/>\n",
       "So be patient<br/>\n",
       "Or end up the next patient<br/>\n",
       "Emergency room, newspaper<br/>\n",
       "The new rappers call em street actors<br/>\n",
       "Music wise they playing safety<br/>\n",
       "And I'm shooting on safety aiming for greatness<br/>\n",
       "<br/>\n",
       "<i>[Chorus: Patty Cash]</i><br/>\n",
       "Diamond Life<br/>\n",
       "Sugar baby we dynamite<br/>\n",
       "Playboy and socialites<br/>\n",
       "Young and Fly Fly Fly<br/>\n",
       "Diamond Life<br/>\n",
       "Sugar baby we dynamite<br/>\n",
       "Playboy and socialites<br/>\n",
       "Young and Fly Fly Fly Fly<br/>\n",
       "<br/>\n",
       "Now every body where you game face<br/>\n",
       "Forget it everybody just do what he say<br/>\n",
       "They wanna move like they wanna be like<br/>\n",
       "You can do it just like like, like<br/>\n",
       "Diamond Life<br/>\n",
       "Now every body where you game face<br/>\n",
       "Forget it everybody just do what he say<br/>\n",
       "They wanna move like they wanna be like<br/>\n",
       "You can do it just like like, like<br/>\n",
       "<br/>\n",
       "<i>[Chorus: Patty Cash]</i><br/>\n",
       "Diamond Life<br/>\n",
       "Sugar baby we dynamite<br/>\n",
       "Playboy and socialites<br/>\n",
       "Young and Fly Fly Fly<br/>\n",
       "Diamond Life<br/>\n",
       "Sugar baby we dynamite<br/>\n",
       "Playboy and socialites<br/>\n",
       "Young and Fly Fly Fly Fly (Yeahe Yeahe Yeahe Yeah)<br/>\n",
       "<br/>\n",
       "Cash staking like Tetris<br/>\n",
       "It's youthful effervesces<br/>\n",
       "No herme arsenals<br/>\n",
       "I'm my only secret weapon<br/>\n",
       "Get the message (got diamonds)<br/>\n",
       "I'm getting cream like a nestle<br/>\n",
       "Welcome from Compton getting\n",
       "</div>"
      ]
     },
     "execution_count": 12,
     "metadata": {},
     "output_type": "execute_result"
    }
   ],
   "source": [
    "albums_w_lyrics['No Introduction']['Diamond Life']"
   ]
  },
  {
   "cell_type": "code",
   "execution_count": 35,
   "metadata": {
    "ExecuteTime": {
     "end_time": "2020-10-20T03:02:57.095660Z",
     "start_time": "2020-10-20T03:02:57.057962Z"
    },
    "hidden": true,
    "scrolled": true
   },
   "outputs": [
    {
     "name": "stdout",
     "output_type": "stream",
     "text": [
      "https://www.azlyrics.com/lyrics/tyga/bangout.html\n",
      "Starting Response: <Response [200]>\n"
     ]
    }
   ],
   "source": [
    "test_start_url = 'https://www.azlyrics.com'\n",
    "# print(test_start_url)\n",
    "test_album = album_dict['Well Done 4']\n",
    "test_end_url = test_album['Bang Out']\n",
    "# print(test_end_url)\n",
    "test_url = test_start_url + test_end_url\n",
    "print(test_url)\n",
    "# test_resp = requests.get(test_url)\n",
    "print(f'Starting Response: {test_resp}')\n",
    "test_soup = BeautifulSoup(test_resp.text, 'html.parser')\n",
    "# test_soup"
   ]
  },
  {
   "cell_type": "code",
   "execution_count": 34,
   "metadata": {
    "ExecuteTime": {
     "end_time": "2020-10-20T03:02:20.934009Z",
     "start_time": "2020-10-20T03:02:20.916495Z"
    },
    "hidden": true
   },
   "outputs": [
    {
     "name": "stdout",
     "output_type": "stream",
     "text": [
      "Lyrics!\n",
      "[Verse 1: Tyga]\n",
      "[Hook]\n",
      "[Verse 2: Tyga]\n",
      "[Hook]\n",
      "[Verse 3: Eazy-E]\n",
      "[Outro: Ice Cube]\n"
     ]
    }
   ],
   "source": [
    "test_lyrics = test_soup.findAll('div', attrs={'class': None})\n",
    "test_res = []\n",
    "test_dump = []\n",
    "switch = False\n",
    "for tag in test_lyrics:\n",
    "    try:\n",
    "        _ = tag['id']\n",
    "    except KeyError:\n",
    "        t_tag = tag\n",
    "        print('Lyrics!')\n",
    "        \n",
    "tester = t_tag.findAll('i')\n",
    "\n",
    "for tag in tester:\n",
    "    print(tag.text)"
   ]
  },
  {
   "cell_type": "code",
   "execution_count": 12,
   "metadata": {
    "ExecuteTime": {
     "end_time": "2020-10-20T02:45:55.858774Z",
     "start_time": "2020-10-20T02:45:55.844547Z"
    },
    "hidden": true,
    "scrolled": true
   },
   "outputs": [
    {
     "data": {
      "text/plain": [
       "[<div id=\"RTK_67Y3\"></div>, <div>\n",
       " <!-- Usage of azlyrics.com content by any third-party lyrics provider is prohibited by our licensing agreement. Sorry about that. -->\n",
       " <i>[Verse 1: Tyga]</i><br/>\n",
       " Hold up, money talk so you know what?<br/>\n",
       " Ainât nothing to talk about, you ainât got enough cuz<br/>\n",
       " Rock star drugs break a bitch heart, no love<br/>\n",
       " Emma Watts, Charlie Sheen, fuckin with no scrub<br/>\n",
       " Niggas want connects, got no plugs<br/>\n",
       " Nigga say they high, got no buzz<br/>\n",
       " Popsicle niggas wanna talk shit then say you froze up<br/>\n",
       " Young niggas wanna pop pills, just po up<br/>\n",
       " Went on a bang, Went on a bang<br/>\n",
       " Bitches came for me and my nigga eazy<br/>\n",
       " Threw that bitch out, got that ho one way<br/>\n",
       " Said she tryna stay, told that bitch no way<br/>\n",
       " Thatâs a preme nigga, B ripper, grim reaper<br/>\n",
       " I donât get mad bitch, I just get even<br/>\n",
       " T-Raw magician, I donât gotta trick or treat it<br/>\n",
       " That Ferrari California make a bitch a believer<br/>\n",
       " <br/>\n",
       " <i>[Hook]</i><br/>\n",
       " Million dollarsâ worth of cars, all paid out<br/>\n",
       " See you niggas hatin, had to pull my chains out<br/>\n",
       " Make it rain even when itâs rained out<br/>\n",
       " Turn up, bang out<br/>\n",
       " Bang out, bang out<br/>\n",
       " Turn up, b-bang out<br/>\n",
       " Million dollarsâ worth of cars, all paid out<br/>\n",
       " See you niggas hatin, had to pull my chains out<br/>\n",
       " <br/>\n",
       " <i>[Verse 2: Tyga]</i><br/>\n",
       " Met a bitch last night, wonât believe it<br/>\n",
       " Fuck her so hard, bitch probably stopped breathing<br/>\n",
       " Killed the pussy, in the hotel screamin<br/>\n",
       " Knock knock, going in like the housekeeper<br/>\n",
       " The room, keep it<br/>\n",
       " I fucked now I donât need it<br/>\n",
       " T-Raw semen splattered on a bitch beaver<br/>\n",
       " Pipe dreamin, fuckin with a real baller<br/>\n",
       " The bitch is a bitch so Iâm gon call er<br/>\n",
       " Then they act up, call the backup<br/>\n",
       " Donât matter, as if she ever mattered<br/>\n",
       " Bitch shut up, throw it up, I throw the set up<br/>\n",
       " Tell her sit up, got her face down, bitch donât put yo head up<br/>\n",
       " Yea, bitin on er ear<br/>\n",
       " Got a old bitch, pussy like souvenir<br/>\n",
       " I hop up in it, nigga I ainât never scared<br/>\n",
       " Closet full of straps and the condom right here<br/>\n",
       " What I got?<br/>\n",
       " <br/>\n",
       " <i>[Hook]</i><br/>\n",
       " Million dollarsâ worth of cars, all paid out<br/>\n",
       " See you niggas hatin, had to pull my chains out<br/>\n",
       " Make it rain even when itâs rained out<br/>\n",
       " Turn up, bang out<br/>\n",
       " Bang out, bang out<br/>\n",
       " Turn up, b-bang out<br/>\n",
       " Million dollarsâ worth of cars, all paid out<br/>\n",
       " See you niggas hatin, had to pull my chains out<br/>\n",
       " <br/>\n",
       " <i>[Verse 3: Eazy-E]</i><br/>\n",
       " Beef on the street, to the beach I be rollin<br/>\n",
       " Never see me strollin, 40âs I be holdin<br/>\n",
       " Girls in the daisies, drive easy crazy<br/>\n",
       " Rolled up my windows as I turned on my AC<br/>\n",
       " Rollin down Crenshaw, see the hoes jockin<br/>\n",
       " Sunday nights poppin, see the foes hoppin<br/>\n",
       " My stereoâs bumpin that ATL funk<br/>\n",
       " You can call it what you want<br/>\n",
       " Either way the shit bump<br/>\n",
       " Iâm a evil motherfucker ready to tear shit up<br/>\n",
       " Iâmma put these things on you and never let up<br/>\n",
       " See my mama, she was home when I was born<br/>\n",
       " Bet a nigga like to eat shit than never been born<br/>\n",
       " But I ainât going out unless 30 niggas die<br/>\n",
       " Iâm dyin anyway so Iâm thinkin suicide<br/>\n",
       " Shut the fuck up nigga cuz you ainât seen shit<br/>\n",
       " Iâm bout to take this blade and straight up rip<br/>\n",
       " <br/>\n",
       " <i>[Outro: Ice Cube]</i><br/>\n",
       " A bitch is a bitch<br/>\n",
       " So if Iâm poor or rich<br/>\n",
       " I talk in the exact same pitch<br/>\n",
       " Now the title of bitch donât apply to all women<br/>\n",
       " But all women have a little bitch in em\n",
       " </div>, <div id=\"RTK_yc1Z\"></div>, <div id=\"RTK_W2xH\"></div>]"
      ]
     },
     "execution_count": 12,
     "metadata": {},
     "output_type": "execute_result"
    }
   ],
   "source": [
    "test_lyrics"
   ]
  },
  {
   "cell_type": "markdown",
   "metadata": {
    "hidden": true
   },
   "source": [
    "#### Link Saving"
   ]
  },
  {
   "cell_type": "code",
   "execution_count": 32,
   "metadata": {
    "ExecuteTime": {
     "end_time": "2020-10-23T04:21:27.029789Z",
     "start_time": "2020-10-23T04:21:27.011163Z"
    },
    "hidden": true
   },
   "outputs": [],
   "source": [
    "#### WRITING ####\n",
    "# with open('Pickles/album_dict.pickle', 'wb') as f:\n",
    "#     pickle.dump(album_dict, f)\n",
    "#     f.close()\n",
    "\n",
    "#### READING ####\n",
    "with open('Pickles/album_dict.pickle', 'rb') as f:\n",
    "    album_dict = pickle.load(f)\n",
    "    f.close()"
   ]
  }
 ],
 "metadata": {
  "kernelspec": {
   "display_name": "Python 3",
   "language": "python",
   "name": "python3"
  },
  "language_info": {
   "codemirror_mode": {
    "name": "ipython",
    "version": 3
   },
   "file_extension": ".py",
   "mimetype": "text/x-python",
   "name": "python",
   "nbconvert_exporter": "python",
   "pygments_lexer": "ipython3",
   "version": "3.6.6"
  },
  "toc": {
   "base_numbering": 1,
   "nav_menu": {},
   "number_sections": true,
   "sideBar": true,
   "skip_h1_title": false,
   "title_cell": "Table of Contents",
   "title_sidebar": "Contents",
   "toc_cell": false,
   "toc_position": {},
   "toc_section_display": true,
   "toc_window_display": false
  },
  "varInspector": {
   "cols": {
    "lenName": 16,
    "lenType": 16,
    "lenVar": 40
   },
   "kernels_config": {
    "python": {
     "delete_cmd_postfix": "",
     "delete_cmd_prefix": "del ",
     "library": "var_list.py",
     "varRefreshCmd": "print(var_dic_list())"
    },
    "r": {
     "delete_cmd_postfix": ") ",
     "delete_cmd_prefix": "rm(",
     "library": "var_list.r",
     "varRefreshCmd": "cat(var_dic_list()) "
    }
   },
   "types_to_exclude": [
    "module",
    "function",
    "builtin_function_or_method",
    "instance",
    "_Feature"
   ],
   "window_display": false
  }
 },
 "nbformat": 4,
 "nbformat_minor": 2
}
